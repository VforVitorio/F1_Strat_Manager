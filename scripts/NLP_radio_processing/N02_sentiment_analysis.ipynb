{
 "cells": [
  {
   "cell_type": "markdown",
   "metadata": {},
   "source": [
    "# Sentiment analysis of Formula 1 radio messages\n",
    "\n",
    "This is the second notebook of the task of analyzing Formula 1 radios and extracting valuable information.\n",
    "\n",
    "For the sentiment analysis, first, we will use **nltk** with Vader. "
   ]
  },
  {
   "cell_type": "markdown",
   "metadata": {},
   "source": [
    "#### Importing necessar libraries and downloading vader lexicon"
   ]
  },
  {
   "cell_type": "code",
   "execution_count": 3,
   "metadata": {},
   "outputs": [],
   "source": [
    "import pandas as pd\n",
    "import numpy as np\n",
    "import matplotlib.pyplot as plt\n",
    "import seaborn as sns\n",
    "from nltk.sentiment.vader import SentimentIntensityAnalyzer\n",
    "import nltk\n",
    "from tqdm.notebook import tqdm\n",
    "\n",
    "# Set styling for visualizations\n",
    "plt.style.use('ggplot')\n",
    "sns.set(style=\"whitegrid\")"
   ]
  },
  {
   "cell_type": "code",
   "execution_count": 4,
   "metadata": {},
   "outputs": [
    {
     "name": "stderr",
     "output_type": "stream",
     "text": [
      "[nltk_data] Downloading package vader_lexicon to\n",
      "[nltk_data]     C:\\Users\\victo\\AppData\\Roaming\\nltk_data...\n",
      "[nltk_data]   Package vader_lexicon is already up-to-date!\n"
     ]
    },
    {
     "data": {
      "text/plain": [
       "True"
      ]
     },
     "execution_count": 4,
     "metadata": {},
     "output_type": "execute_result"
    }
   ],
   "source": [
    "# Download necessary NLTK resources for sentiment analysis\n",
    "nltk.download('vader_lexicon')"
   ]
  },
  {
   "cell_type": "markdown",
   "metadata": {},
   "source": [
    "--- \n",
    "\n",
    "### Loading the transcribed messages\n"
   ]
  },
  {
   "cell_type": "code",
   "execution_count": 5,
   "metadata": {},
   "outputs": [
    {
     "name": "stdout",
     "output_type": "stream",
     "text": [
      "Number of transcribed radio messages: 210\n"
     ]
    },
    {
     "data": {
      "application/vnd.microsoft.datawrangler.viewer.v0+json": {
       "columns": [
        {
         "name": "index",
         "rawType": "int64",
         "type": "integer"
        },
        {
         "name": "driver",
         "rawType": "int64",
         "type": "integer"
        },
        {
         "name": "filename",
         "rawType": "object",
         "type": "string"
        },
        {
         "name": "file_path",
         "rawType": "object",
         "type": "string"
        },
        {
         "name": "text",
         "rawType": "object",
         "type": "string"
        },
        {
         "name": "duration",
         "rawType": "float64",
         "type": "float"
        }
       ],
       "conversionMethod": "pd.DataFrame",
       "ref": "477db43b-41c1-4f4b-b831-142b415a635b",
       "rows": [
        [
         "0",
         "1",
         "driver_(1,)_belgium_radio_39.mp3",
         "..\\..\\f1-strategy\\data\\audio\\driver_(1,)\\driver_(1,)_belgium_radio_39.mp3",
         "So don't forget Max, use your head please. Are we both doing it or what? You just follow my instruction. No, I want to know if both cars do it. Max, please follow my instruction and trust it. Thank you.",
         "15.168"
        ],
        [
         "1",
         "1",
         "driver_(1,)_belgium_radio_40.mp3",
         "..\\..\\f1-strategy\\data\\audio\\driver_(1,)\\driver_(1,)_belgium_radio_40.mp3",
         "Okay Max, we're expecting rain in about 9 or 10 minutes. What are your thoughts? That you can get there or should we box? We'd need to box this lap to cover Leclerc. I can't see the weather, can I? I don't know.",
         "15.576"
        ],
        [
         "2",
         "1",
         "driver_(1,)_belgium_radio_60.mp3",
         "..\\..\\f1-strategy\\data\\audio\\driver_(1,)\\driver_(1,)_belgium_radio_60.mp3",
         "So shit",
         "5.424"
        ],
        [
         "3",
         "1",
         "driver_(1,)_belgium_radio_62.mp3",
         "..\\..\\f1-strategy\\data\\audio\\driver_(1,)\\driver_(1,)_belgium_radio_62.mp3",
         "You might find this lap that you meet a little bit more water.",
         "5.088"
        ],
        [
         "4",
         "1",
         "driver_(1,)_belgium_radio_63.mp3",
         "..\\..\\f1-strategy\\data\\audio\\driver_(1,)\\driver_(1,)_belgium_radio_63.mp3",
         "Just another two or three minutes to get through this.",
         "5.712"
        ]
       ],
       "shape": {
        "columns": 5,
        "rows": 5
       }
      },
      "text/html": [
       "<div>\n",
       "<style scoped>\n",
       "    .dataframe tbody tr th:only-of-type {\n",
       "        vertical-align: middle;\n",
       "    }\n",
       "\n",
       "    .dataframe tbody tr th {\n",
       "        vertical-align: top;\n",
       "    }\n",
       "\n",
       "    .dataframe thead th {\n",
       "        text-align: right;\n",
       "    }\n",
       "</style>\n",
       "<table border=\"1\" class=\"dataframe\">\n",
       "  <thead>\n",
       "    <tr style=\"text-align: right;\">\n",
       "      <th></th>\n",
       "      <th>driver</th>\n",
       "      <th>filename</th>\n",
       "      <th>file_path</th>\n",
       "      <th>text</th>\n",
       "      <th>duration</th>\n",
       "    </tr>\n",
       "  </thead>\n",
       "  <tbody>\n",
       "    <tr>\n",
       "      <th>0</th>\n",
       "      <td>1</td>\n",
       "      <td>driver_(1,)_belgium_radio_39.mp3</td>\n",
       "      <td>..\\..\\f1-strategy\\data\\audio\\driver_(1,)\\drive...</td>\n",
       "      <td>So don't forget Max, use your head please. Are...</td>\n",
       "      <td>15.168</td>\n",
       "    </tr>\n",
       "    <tr>\n",
       "      <th>1</th>\n",
       "      <td>1</td>\n",
       "      <td>driver_(1,)_belgium_radio_40.mp3</td>\n",
       "      <td>..\\..\\f1-strategy\\data\\audio\\driver_(1,)\\drive...</td>\n",
       "      <td>Okay Max, we're expecting rain in about 9 or 1...</td>\n",
       "      <td>15.576</td>\n",
       "    </tr>\n",
       "    <tr>\n",
       "      <th>2</th>\n",
       "      <td>1</td>\n",
       "      <td>driver_(1,)_belgium_radio_60.mp3</td>\n",
       "      <td>..\\..\\f1-strategy\\data\\audio\\driver_(1,)\\drive...</td>\n",
       "      <td>So shit</td>\n",
       "      <td>5.424</td>\n",
       "    </tr>\n",
       "    <tr>\n",
       "      <th>3</th>\n",
       "      <td>1</td>\n",
       "      <td>driver_(1,)_belgium_radio_62.mp3</td>\n",
       "      <td>..\\..\\f1-strategy\\data\\audio\\driver_(1,)\\drive...</td>\n",
       "      <td>You might find this lap that you meet a little...</td>\n",
       "      <td>5.088</td>\n",
       "    </tr>\n",
       "    <tr>\n",
       "      <th>4</th>\n",
       "      <td>1</td>\n",
       "      <td>driver_(1,)_belgium_radio_63.mp3</td>\n",
       "      <td>..\\..\\f1-strategy\\data\\audio\\driver_(1,)\\drive...</td>\n",
       "      <td>Just another two or three minutes to get throu...</td>\n",
       "      <td>5.712</td>\n",
       "    </tr>\n",
       "  </tbody>\n",
       "</table>\n",
       "</div>"
      ],
      "text/plain": [
       "   driver                          filename  \\\n",
       "0       1  driver_(1,)_belgium_radio_39.mp3   \n",
       "1       1  driver_(1,)_belgium_radio_40.mp3   \n",
       "2       1  driver_(1,)_belgium_radio_60.mp3   \n",
       "3       1  driver_(1,)_belgium_radio_62.mp3   \n",
       "4       1  driver_(1,)_belgium_radio_63.mp3   \n",
       "\n",
       "                                           file_path  \\\n",
       "0  ..\\..\\f1-strategy\\data\\audio\\driver_(1,)\\drive...   \n",
       "1  ..\\..\\f1-strategy\\data\\audio\\driver_(1,)\\drive...   \n",
       "2  ..\\..\\f1-strategy\\data\\audio\\driver_(1,)\\drive...   \n",
       "3  ..\\..\\f1-strategy\\data\\audio\\driver_(1,)\\drive...   \n",
       "4  ..\\..\\f1-strategy\\data\\audio\\driver_(1,)\\drive...   \n",
       "\n",
       "                                                text  duration  \n",
       "0  So don't forget Max, use your head please. Are...    15.168  \n",
       "1  Okay Max, we're expecting rain in about 9 or 1...    15.576  \n",
       "2                                            So shit     5.424  \n",
       "3  You might find this lap that you meet a little...     5.088  \n",
       "4  Just another two or three minutes to get throu...     5.712  "
      ]
     },
     "execution_count": 5,
     "metadata": {},
     "output_type": "execute_result"
    }
   ],
   "source": [
    "data_path = \"../../outputs/week4/radios_raw.csv\"\n",
    "\n",
    "radio_data = pd.read_csv(data_path)\n",
    "\n",
    "# Display basic information\n",
    "\n",
    "print(f\"Number of transcribed radio messages: {len(radio_data)}\")\n",
    "\n",
    "radio_data.head()"
   ]
  },
  {
   "cell_type": "markdown",
   "metadata": {},
   "source": [
    "--- \n",
    "\n",
    "### Initializing Vader sentiment analyzer"
   ]
  },
  {
   "cell_type": "code",
   "execution_count": 6,
   "metadata": {},
   "outputs": [],
   "source": [
    "# Initializing the sentiment analyzer\n",
    "sid = SentimentIntensityAnalyzer()\n",
    "\n",
    "# Get the sentiment scores\n",
    "def get_sentiment_scores(text):\n",
    "    # I add an exception for if the radio message is empty\n",
    "    if pd.isna(text) or text ==\"\":\n",
    "        return {\"neg\": 0 , \"neu\": 0, \"pos\": 0, \"compound\": 0}\n",
    "    \n",
    "    return sid.polarity_scores(text)"
   ]
  },
  {
   "cell_type": "markdown",
   "metadata": {},
   "source": [
    "---\n",
    "### Applying VADER\n",
    "\n",
    "Moreover, I will modify our current Dataframe to add the sentiment analysis made by vader to it. Therefore, there will be *5 new columns:*\n",
    "\n",
    "1. neg: number for specifying the ``negative`` component of the radio message.\n",
    "2. pos: number for specifying the ``positive`` component of the radio message.\n",
    "3. compound: the normalized, weighted composite score that represents overall sentiment of the text on a scale of -1 to 1.\n",
    "4. sentiment: a final column whith the output of the sentiment. "
   ]
  },
  {
   "cell_type": "code",
   "execution_count": 7,
   "metadata": {},
   "outputs": [
    {
     "data": {
      "application/vnd.jupyter.widget-view+json": {
       "model_id": "e0f17a96c7ab4ee5890bf3b62789790c",
       "version_major": 2,
       "version_minor": 0
      },
      "text/plain": [
       "Analyzing sentiment:   0%|          | 0/210 [00:00<?, ?it/s]"
      ]
     },
     "metadata": {},
     "output_type": "display_data"
    }
   ],
   "source": [
    "# We apply vader to each transcription\n",
    "\n",
    "tqdm.pandas(desc = \"Analyzing sentiment\")\n",
    "sentiment_scores = radio_data[\"text\"].progress_apply(get_sentiment_scores)\n",
    "\n",
    "# Convert sentiment scores to Dataframe Columns\n",
    "\n",
    "sentiment_df = pd.DataFrame(sentiment_scores.to_list())\n",
    "radio_data = pd.concat([radio_data, sentiment_df], axis = 1)\n",
    "\n"
   ]
  },
  {
   "cell_type": "code",
   "execution_count": 8,
   "metadata": {},
   "outputs": [],
   "source": [
    "# Adding a simple category based on compound score\n",
    "\n",
    "def categorize_sentiment(compound):\n",
    "    if compound >= 0.05:\n",
    "        return \"positive\"\n",
    "    elif compound <= -0.05:\n",
    "        return \"negative\"\n",
    "    else:\n",
    "        return \"neutral\""
   ]
  },
  {
   "cell_type": "code",
   "execution_count": 9,
   "metadata": {},
   "outputs": [
    {
     "data": {
      "application/vnd.microsoft.datawrangler.viewer.v0+json": {
       "columns": [
        {
         "name": "index",
         "rawType": "int64",
         "type": "integer"
        },
        {
         "name": "driver",
         "rawType": "int64",
         "type": "integer"
        },
        {
         "name": "filename",
         "rawType": "object",
         "type": "string"
        },
        {
         "name": "file_path",
         "rawType": "object",
         "type": "string"
        },
        {
         "name": "text",
         "rawType": "object",
         "type": "string"
        },
        {
         "name": "duration",
         "rawType": "float64",
         "type": "float"
        },
        {
         "name": "neg",
         "rawType": "float64",
         "type": "float"
        },
        {
         "name": "neu",
         "rawType": "float64",
         "type": "float"
        },
        {
         "name": "pos",
         "rawType": "float64",
         "type": "float"
        },
        {
         "name": "compound",
         "rawType": "float64",
         "type": "float"
        },
        {
         "name": "sentiment",
         "rawType": "object",
         "type": "string"
        }
       ],
       "conversionMethod": "pd.DataFrame",
       "ref": "85ad3de5-aea8-4e61-a9c7-cfc84c058f0c",
       "rows": [
        [
         "0",
         "1",
         "driver_(1,)_belgium_radio_39.mp3",
         "..\\..\\f1-strategy\\data\\audio\\driver_(1,)\\driver_(1,)_belgium_radio_39.mp3",
         "So don't forget Max, use your head please. Are we both doing it or what? You just follow my instruction. No, I want to know if both cars do it. Max, please follow my instruction and trust it. Thank you.",
         "15.168",
         "0.046",
         "0.669",
         "0.285",
         "0.8571",
         "positive"
        ],
        [
         "1",
         "1",
         "driver_(1,)_belgium_radio_40.mp3",
         "..\\..\\f1-strategy\\data\\audio\\driver_(1,)\\driver_(1,)_belgium_radio_40.mp3",
         "Okay Max, we're expecting rain in about 9 or 10 minutes. What are your thoughts? That you can get there or should we box? We'd need to box this lap to cover Leclerc. I can't see the weather, can I? I don't know.",
         "15.576",
         "0.0",
         "0.941",
         "0.059",
         "0.3485",
         "positive"
        ],
        [
         "2",
         "1",
         "driver_(1,)_belgium_radio_60.mp3",
         "..\\..\\f1-strategy\\data\\audio\\driver_(1,)\\driver_(1,)_belgium_radio_60.mp3",
         "So shit",
         "5.424",
         "0.796",
         "0.204",
         "0.0",
         "-0.5984",
         "negative"
        ],
        [
         "3",
         "1",
         "driver_(1,)_belgium_radio_62.mp3",
         "..\\..\\f1-strategy\\data\\audio\\driver_(1,)\\driver_(1,)_belgium_radio_62.mp3",
         "You might find this lap that you meet a little bit more water.",
         "5.088",
         "0.0",
         "1.0",
         "0.0",
         "0.0",
         "neutral"
        ],
        [
         "4",
         "1",
         "driver_(1,)_belgium_radio_63.mp3",
         "..\\..\\f1-strategy\\data\\audio\\driver_(1,)\\driver_(1,)_belgium_radio_63.mp3",
         "Just another two or three minutes to get through this.",
         "5.712",
         "0.0",
         "1.0",
         "0.0",
         "0.0",
         "neutral"
        ]
       ],
       "shape": {
        "columns": 10,
        "rows": 5
       }
      },
      "text/html": [
       "<div>\n",
       "<style scoped>\n",
       "    .dataframe tbody tr th:only-of-type {\n",
       "        vertical-align: middle;\n",
       "    }\n",
       "\n",
       "    .dataframe tbody tr th {\n",
       "        vertical-align: top;\n",
       "    }\n",
       "\n",
       "    .dataframe thead th {\n",
       "        text-align: right;\n",
       "    }\n",
       "</style>\n",
       "<table border=\"1\" class=\"dataframe\">\n",
       "  <thead>\n",
       "    <tr style=\"text-align: right;\">\n",
       "      <th></th>\n",
       "      <th>driver</th>\n",
       "      <th>filename</th>\n",
       "      <th>file_path</th>\n",
       "      <th>text</th>\n",
       "      <th>duration</th>\n",
       "      <th>neg</th>\n",
       "      <th>neu</th>\n",
       "      <th>pos</th>\n",
       "      <th>compound</th>\n",
       "      <th>sentiment</th>\n",
       "    </tr>\n",
       "  </thead>\n",
       "  <tbody>\n",
       "    <tr>\n",
       "      <th>0</th>\n",
       "      <td>1</td>\n",
       "      <td>driver_(1,)_belgium_radio_39.mp3</td>\n",
       "      <td>..\\..\\f1-strategy\\data\\audio\\driver_(1,)\\drive...</td>\n",
       "      <td>So don't forget Max, use your head please. Are...</td>\n",
       "      <td>15.168</td>\n",
       "      <td>0.046</td>\n",
       "      <td>0.669</td>\n",
       "      <td>0.285</td>\n",
       "      <td>0.8571</td>\n",
       "      <td>positive</td>\n",
       "    </tr>\n",
       "    <tr>\n",
       "      <th>1</th>\n",
       "      <td>1</td>\n",
       "      <td>driver_(1,)_belgium_radio_40.mp3</td>\n",
       "      <td>..\\..\\f1-strategy\\data\\audio\\driver_(1,)\\drive...</td>\n",
       "      <td>Okay Max, we're expecting rain in about 9 or 1...</td>\n",
       "      <td>15.576</td>\n",
       "      <td>0.000</td>\n",
       "      <td>0.941</td>\n",
       "      <td>0.059</td>\n",
       "      <td>0.3485</td>\n",
       "      <td>positive</td>\n",
       "    </tr>\n",
       "    <tr>\n",
       "      <th>2</th>\n",
       "      <td>1</td>\n",
       "      <td>driver_(1,)_belgium_radio_60.mp3</td>\n",
       "      <td>..\\..\\f1-strategy\\data\\audio\\driver_(1,)\\drive...</td>\n",
       "      <td>So shit</td>\n",
       "      <td>5.424</td>\n",
       "      <td>0.796</td>\n",
       "      <td>0.204</td>\n",
       "      <td>0.000</td>\n",
       "      <td>-0.5984</td>\n",
       "      <td>negative</td>\n",
       "    </tr>\n",
       "    <tr>\n",
       "      <th>3</th>\n",
       "      <td>1</td>\n",
       "      <td>driver_(1,)_belgium_radio_62.mp3</td>\n",
       "      <td>..\\..\\f1-strategy\\data\\audio\\driver_(1,)\\drive...</td>\n",
       "      <td>You might find this lap that you meet a little...</td>\n",
       "      <td>5.088</td>\n",
       "      <td>0.000</td>\n",
       "      <td>1.000</td>\n",
       "      <td>0.000</td>\n",
       "      <td>0.0000</td>\n",
       "      <td>neutral</td>\n",
       "    </tr>\n",
       "    <tr>\n",
       "      <th>4</th>\n",
       "      <td>1</td>\n",
       "      <td>driver_(1,)_belgium_radio_63.mp3</td>\n",
       "      <td>..\\..\\f1-strategy\\data\\audio\\driver_(1,)\\drive...</td>\n",
       "      <td>Just another two or three minutes to get throu...</td>\n",
       "      <td>5.712</td>\n",
       "      <td>0.000</td>\n",
       "      <td>1.000</td>\n",
       "      <td>0.000</td>\n",
       "      <td>0.0000</td>\n",
       "      <td>neutral</td>\n",
       "    </tr>\n",
       "  </tbody>\n",
       "</table>\n",
       "</div>"
      ],
      "text/plain": [
       "   driver                          filename  \\\n",
       "0       1  driver_(1,)_belgium_radio_39.mp3   \n",
       "1       1  driver_(1,)_belgium_radio_40.mp3   \n",
       "2       1  driver_(1,)_belgium_radio_60.mp3   \n",
       "3       1  driver_(1,)_belgium_radio_62.mp3   \n",
       "4       1  driver_(1,)_belgium_radio_63.mp3   \n",
       "\n",
       "                                           file_path  \\\n",
       "0  ..\\..\\f1-strategy\\data\\audio\\driver_(1,)\\drive...   \n",
       "1  ..\\..\\f1-strategy\\data\\audio\\driver_(1,)\\drive...   \n",
       "2  ..\\..\\f1-strategy\\data\\audio\\driver_(1,)\\drive...   \n",
       "3  ..\\..\\f1-strategy\\data\\audio\\driver_(1,)\\drive...   \n",
       "4  ..\\..\\f1-strategy\\data\\audio\\driver_(1,)\\drive...   \n",
       "\n",
       "                                                text  duration    neg    neu  \\\n",
       "0  So don't forget Max, use your head please. Are...    15.168  0.046  0.669   \n",
       "1  Okay Max, we're expecting rain in about 9 or 1...    15.576  0.000  0.941   \n",
       "2                                            So shit     5.424  0.796  0.204   \n",
       "3  You might find this lap that you meet a little...     5.088  0.000  1.000   \n",
       "4  Just another two or three minutes to get throu...     5.712  0.000  1.000   \n",
       "\n",
       "     pos  compound sentiment  \n",
       "0  0.285    0.8571  positive  \n",
       "1  0.059    0.3485  positive  \n",
       "2  0.000   -0.5984  negative  \n",
       "3  0.000    0.0000   neutral  \n",
       "4  0.000    0.0000   neutral  "
      ]
     },
     "execution_count": 9,
     "metadata": {},
     "output_type": "execute_result"
    }
   ],
   "source": [
    "radio_data[\"sentiment\"] = radio_data[\"compound\"].apply(categorize_sentiment)\n",
    "\n",
    "# Display the updated dataframe\n",
    "\n",
    "radio_data.head()"
   ]
  },
  {
   "cell_type": "markdown",
   "metadata": {},
   "source": [
    "---\n",
    "### Analyzing sentiment distribution"
   ]
  },
  {
   "cell_type": "code",
   "execution_count": 10,
   "metadata": {},
   "outputs": [
    {
     "name": "stdout",
     "output_type": "stream",
     "text": [
      "Sentiment distribution:\n",
      "sentiment\n",
      "positive    110\n",
      "neutral      64\n",
      "negative     36\n",
      "Name: count, dtype: int64\n",
      "Percentage of positive messages: 52.38%\n",
      "Percentage of neutral messages: 30.48%\n",
      "Percentage of negative messages: 17.14%\n"
     ]
    }
   ],
   "source": [
    "# Analyze sentiment distribution\n",
    "sentiment_counts = radio_data['sentiment'].value_counts()\n",
    "print(\"Sentiment distribution:\")\n",
    "print(sentiment_counts)\n",
    "print(f\"Percentage of positive messages: {sentiment_counts.get('positive', 0) / len(radio_data) * 100:.2f}%\")\n",
    "print(f\"Percentage of neutral messages: {sentiment_counts.get('neutral', 0) / len(radio_data) * 100:.2f}%\")\n",
    "print(f\"Percentage of negative messages: {sentiment_counts.get('negative', 0) / len(radio_data) * 100:.2f}%\")\n",
    "\n"
   ]
  },
  {
   "cell_type": "markdown",
   "metadata": {},
   "source": [
    "#### Key observations\n",
    "\n",
    "1. High positive sentiment. Much more than expected:\n",
    "\n",
    "    46.19% of messages being positive are somewhat surprising for F1 team radio, whic is primarly technical and instructional in nature. However, this can be due to the end-of-race radios, where the drivers and engineers make a summary of the race.\n",
    "\n",
    "2. Relatively low neutral percentage:\n",
    "\n",
    "    Given that most team radio communications are tactical instructions or status updates, we would expect the neutral category to be dominant. The 38.57% neutral finding is likely an underestimation.\n",
    "\n",
    "3. Potential VADER Limitations in F1 Context:\n",
    "\n",
    "    Racing-specific terminology might be misclassified (e.g., \"push now\" being seen as positive encouragement rather than a neutral tactical instruction)\n",
    "\n",
    "    Technical acknowledgments like \"copy that, understood\" might register as slightly positive.\n",
    "\n",
    "These points prove that, when labeling the data, it will be needed to define a clear context of what is a positive or negative radio message, and maybe, eliminating the end-of-race messages, because they do not give information during the race."
   ]
  },
  {
   "cell_type": "code",
   "execution_count": 11,
   "metadata": {},
   "outputs": [
    {
     "name": "stderr",
     "output_type": "stream",
     "text": [
      "C:\\Users\\victo\\AppData\\Local\\Temp\\ipykernel_24092\\3269159944.py:3: FutureWarning: \n",
      "\n",
      "Passing `palette` without assigning `hue` is deprecated and will be removed in v0.14.0. Assign the `x` variable to `hue` and set `legend=False` for the same effect.\n",
      "\n",
      "  sns.countplot(x='sentiment', data=radio_data, palette={'positive': 'green', 'neutral': 'gray', 'negative': 'red'})\n"
     ]
    },
    {
     "data": {
      "image/png": "[encoded data removed]",
      "text/plain": [
       "<Figure size 1000x600 with 1 Axes>"
      ]
     },
     "metadata": {},
     "output_type": "display_data"
    }
   ],
   "source": [
    "# Visualize sentiment distribution\n",
    "plt.figure(figsize=(10, 6))\n",
    "sns.countplot(x='sentiment', data=radio_data, palette={'positive': 'green', 'neutral': 'gray', 'negative': 'red'})\n",
    "plt.title('Sentiment Distribution of F1 Team Radio Messages', fontsize=15)\n",
    "plt.xlabel('Sentiment', fontsize=12)\n",
    "plt.ylabel('Count', fontsize=12)\n",
    "plt.xticks(rotation=0)\n",
    "plt.tight_layout()\n",
    "plt.show()"
   ]
  },
  {
   "cell_type": "markdown",
   "metadata": {},
   "source": [
    "---\n",
    "### Analyzing sentiment distribution by driver\n"
   ]
  },
  {
   "cell_type": "code",
   "execution_count": 12,
   "metadata": {},
   "outputs": [
    {
     "data": {
      "text/plain": [
       "<Figure size 1200x800 with 0 Axes>"
      ]
     },
     "metadata": {},
     "output_type": "display_data"
    },
    {
     "data": {
      "image/png": "[encoded data removed]",
      "text/plain": [
       "<Figure size 1200x800 with 1 Axes>"
      ]
     },
     "metadata": {},
     "output_type": "display_data"
    }
   ],
   "source": [
    "# Examine sentiment distribution by driver\n",
    "driver_sentiment = pd.crosstab(radio_data['driver'], radio_data['sentiment'], normalize='index') * 100\n",
    "driver_sentiment = driver_sentiment.sort_values(by='positive', ascending=False)\n",
    "\n",
    "# Plot driver sentiment distribution\n",
    "plt.figure(figsize=(12, 8))\n",
    "driver_sentiment.plot(kind='bar', stacked=True, \n",
    "                     colormap='viridis', figsize=(12, 8))\n",
    "plt.title('Sentiment Distribution by Driver (%)', fontsize=15)\n",
    "plt.xlabel('Driver', fontsize=12)\n",
    "plt.ylabel('Percentage', fontsize=12)\n",
    "plt.xticks(rotation=45)\n",
    "plt.legend(title='Sentiment')\n",
    "plt.tight_layout()\n",
    "plt.show()"
   ]
  },
  {
   "cell_type": "markdown",
   "metadata": {},
   "source": [
    "#### Key observations\n",
    "\n",
    "* *Extreme Variations Between Drivers*: The dramatic differences (from 100% positive for Driver 40 to mostly neutral for Driver 11) likely reflect VADER's limitations in interpreting F1-specific terminology rather than actual sentiment variations in communication styles.\n",
    "\n",
    "* *Systematic Pattern*: The clear gradient from left (predominantly positive) to right (increasingly neutral) suggests VADER may be biased in how it processes different communication patterns, emphasizing the need for domain-specific manual labeling.\n"
   ]
  },
  {
   "cell_type": "markdown",
   "metadata": {},
   "source": [
    "---\n",
    "### Displaying examples of each sentiment category"
   ]
  },
  {
   "cell_type": "code",
   "execution_count": 13,
   "metadata": {},
   "outputs": [],
   "source": [
    "# Display examples of each sentiment category\n",
    "def display_examples(sentiment_type, n=10):\n",
    "    examples = radio_data[radio_data['sentiment'] == sentiment_type].sort_values(\n",
    "        by='compound', ascending=(sentiment_type == 'negative'))\n",
    "    return examples[['driver', 'text', 'compound']].head(n)\n",
    "\n"
   ]
  },
  {
   "cell_type": "code",
   "execution_count": 14,
   "metadata": {},
   "outputs": [
    {
     "name": "stdout",
     "output_type": "stream",
     "text": [
      "Examples of POSITIVE messages:\n"
     ]
    },
    {
     "data": {
      "application/vnd.microsoft.datawrangler.viewer.v0+json": {
       "columns": [
        {
         "name": "index",
         "rawType": "int64",
         "type": "integer"
        },
        {
         "name": "driver",
         "rawType": "int64",
         "type": "integer"
        },
        {
         "name": "text",
         "rawType": "object",
         "type": "string"
        },
        {
         "name": "compound",
         "rawType": "float64",
         "type": "float"
        }
       ],
       "conversionMethod": "pd.DataFrame",
       "ref": "d1707243-6023-4e91-a513-8464a3d9049f",
       "rows": [
        [
         "138",
         "40",
         "And that's P9 for you today. And yeah, I think that's probably gonna stay P9. It's 11 seconds to press. But that's the Red Bull. Good effort, good fighting out there. Okay mate, P9 should be pleased with that. We've got Pascal ahead of us. I think you've defended very very hard. That was a good job. Mate, I gave that everything. There's nothing left. Yeah, that's what we need. That's why you're here mate. Okay, very good race mate. And you've got a lot of coverage. You should be pleased. You should be pleased. Same again next week. No time to rest. I can't hear that. Thank you guys for the hard work. It's good to get a couple of points. I feel like we've missed out on a bit, but you guys did a good job. And I really gave that everything. And we will do a practice art festival in Japan. Practice art festival in Japan. Please not. I know mate, I know. Apologies guys, because that's not good enough, honestly. That's okay. That's why we're here. We keep working. I'm good, Jermit. And I'm happy to get points. It's been a long, long season so far. I'm happy. You brought the Subscribe to the future of the challenge. Jermit won't show you all. I� Tone's patient. I could share this film, much for a nice scenario. It's still existing talent. I think it's been well. But I have never been utilized.",
         "0.997"
        ],
        [
         "72",
         "22",
         "Yeah, well done guys. Thank you. Yeah, it's the last three races. This was quite tough, quite rough from my side, but yeah. It was a nice car, very nice car. Amazing car. Thanks guys. What a way to finish the first half of the season. Let's keep pushing like this. Yeah, fantastic race, Juki. Fantastic race.",
         "0.991"
        ],
        [
         "154",
         "44",
         "I think it's another lap man. Yes mate, yes. Just one more lap, that would have done it. But great job there mate, so that's P3 and fastest lap. Lewis, five hours later. Sir, yeah, I hear you Toto. Thanks so much for the support, for the positive words. It's not the easiest of weekends, but good result in the end. Thank you. Peace out guys.",
         "0.9875"
        ],
        [
         "207",
         "81",
         "Checkered flag, Oscar. Well done, mate. Well done. Finished P7. Really good job, mate. Ten places in the race. Fantastic. Yeah, thank you. Well done. And well done to Lando as well. I saw he was there for a lot of the race, so... Yeah, well done, everybody. Thank you to my guys. I know we're missing a couple of people. And, yeah, nice to get some points after yesterday, so thank you very much. And looking forward to Japan next week. Cheers, guys.",
         "0.9851"
        ],
        [
         "95",
         "24",
         "Joey, finish PE12, solid race from your side, starting from the garage, from the pit lane. Very good race, bit unfortunately with the safety car, but yeah, good, good performance, PE12. Yeah, thank you guys. It was a good try, we find something quite positive going for next year of event.",
         "0.9844"
        ],
        [
         "16",
         "1",
         "Yeah, I gave it all. I was a bit unlucky. Still I think some okay points I guess after difficult weekend. Yeah, well done Max. That was a really strong drive today. As GP said, we got had over by the safety car, but your comeback after the stop was very, very strong. So without the safety car, I think it could have been a better race for us today, but good job. Yeah, it was quite good. Quite cool. It's been a hell of a run and yeah, it was always going to come to a close at one point, but brush yourself down and go again next weekend. Yeah, it's okay. They can take one. We'll go again next week.",
         "0.9836"
        ],
        [
         "80",
         "23",
         "Okay, checker flag, checker flag, P11, P11. It's just f***ing dirty. Oh, did he get anything for it? He's under investigation for causing a collision with himself and then Lawson as well. Desperate, completely desperate. Well done everyone, I think the strategy was amazing there. We almost pulled off an amazing race, I still think we did. But just, yeah, this is our, maybe our weakest track. So if we're like this on our weakest one then he's looking good. He tried to do that move to me two or three times before and I had to miss him. And just pull out last minute to stop him from hitting me. So, sorry, but I can't do that every single time he tries to take a launch and take avoiding action. I thought he would have this one high control but he didn't. It was a good race Alex, as you say strategy was on point. He did the best of what he had there. Good work. We'll review it after the race. Comingorteal. Jess? Well done. I've been here. Good work. Yes. You... Wen libre. You just nasa and установi and Channel, to enjoy the fun. Listen up with a hard work today, is it?",
         "0.983"
        ],
        [
         "67",
         "20",
         "And just, again, just fantastic. So happy for you. Happy for us. Thanks, man. Likewise, mate. Good job, man. Proud of everyone. Proud of everyone. Guys in the garage, thanks, man. F***ing legends.",
         "0.9781"
        ],
        [
         "29",
         "11",
         "Okay, P8 in the end there, P8. Didn't catch a break today. Safety car BSE, all at the wrong time. Yeah, nothing worked. What a weekend over there guys. Yeah, let's move on to Japan. Yeah, bring on Suzuka, with us on the front there. Just for your awareness, we're under investigation, or there is an investigation for a VSC infringement when you came out alongside Alex. Investigated for causing a collision between you and Alex at turn 13. Obviously not saying anything about which ray that's falling, just saying it's being looked at. Yeah, I mean, none of them. I think we're okay. That was a pretty busy 250 years race, Checo. But the pace car or safety car came out just wrong time for us, but well done for sticking with it right to the end. Yeah, yeah guys. What a weekend. Anyway, let's go on to Suzuka. I'm sure it will be a lot better. Yeah, big ol'. Did Hamilton get anything for leaving the track? No, they let him off for that one. Haha, okay. Well, this happened to be a guide every day. The first thing we went on to Isla when I first started, werali, our attitude in the meine family building",
         "0.977"
        ],
        [
         "111",
         "31",
         "Well done mate, that was very impressive. Thank you guys. We needed one more lap unfortunately. I know, I know. One more lap would have been nice. Yeah, very good job, very good job. Nice few points, good job.",
         "0.9699"
        ]
       ],
       "shape": {
        "columns": 3,
        "rows": 10
       }
      },
      "text/html": [
       "<div>\n",
       "<style scoped>\n",
       "    .dataframe tbody tr th:only-of-type {\n",
       "        vertical-align: middle;\n",
       "    }\n",
       "\n",
       "    .dataframe tbody tr th {\n",
       "        vertical-align: top;\n",
       "    }\n",
       "\n",
       "    .dataframe thead th {\n",
       "        text-align: right;\n",
       "    }\n",
       "</style>\n",
       "<table border=\"1\" class=\"dataframe\">\n",
       "  <thead>\n",
       "    <tr style=\"text-align: right;\">\n",
       "      <th></th>\n",
       "      <th>driver</th>\n",
       "      <th>text</th>\n",
       "      <th>compound</th>\n",
       "    </tr>\n",
       "  </thead>\n",
       "  <tbody>\n",
       "    <tr>\n",
       "      <th>138</th>\n",
       "      <td>40</td>\n",
       "      <td>And that's P9 for you today. And yeah, I think...</td>\n",
       "      <td>0.9970</td>\n",
       "    </tr>\n",
       "    <tr>\n",
       "      <th>72</th>\n",
       "      <td>22</td>\n",
       "      <td>Yeah, well done guys. Thank you. Yeah, it's th...</td>\n",
       "      <td>0.9910</td>\n",
       "    </tr>\n",
       "    <tr>\n",
       "      <th>154</th>\n",
       "      <td>44</td>\n",
       "      <td>I think it's another lap man. Yes mate, yes. J...</td>\n",
       "      <td>0.9875</td>\n",
       "    </tr>\n",
       "    <tr>\n",
       "      <th>207</th>\n",
       "      <td>81</td>\n",
       "      <td>Checkered flag, Oscar. Well done, mate. Well d...</td>\n",
       "      <td>0.9851</td>\n",
       "    </tr>\n",
       "    <tr>\n",
       "      <th>95</th>\n",
       "      <td>24</td>\n",
       "      <td>Joey, finish PE12, solid race from your side, ...</td>\n",
       "      <td>0.9844</td>\n",
       "    </tr>\n",
       "    <tr>\n",
       "      <th>16</th>\n",
       "      <td>1</td>\n",
       "      <td>Yeah, I gave it all. I was a bit unlucky. Stil...</td>\n",
       "      <td>0.9836</td>\n",
       "    </tr>\n",
       "    <tr>\n",
       "      <th>80</th>\n",
       "      <td>23</td>\n",
       "      <td>Okay, checker flag, checker flag, P11, P11. It...</td>\n",
       "      <td>0.9830</td>\n",
       "    </tr>\n",
       "    <tr>\n",
       "      <th>67</th>\n",
       "      <td>20</td>\n",
       "      <td>And just, again, just fantastic. So happy for ...</td>\n",
       "      <td>0.9781</td>\n",
       "    </tr>\n",
       "    <tr>\n",
       "      <th>29</th>\n",
       "      <td>11</td>\n",
       "      <td>Okay, P8 in the end there, P8. Didn't catch a ...</td>\n",
       "      <td>0.9770</td>\n",
       "    </tr>\n",
       "    <tr>\n",
       "      <th>111</th>\n",
       "      <td>31</td>\n",
       "      <td>Well done mate, that was very impressive. Than...</td>\n",
       "      <td>0.9699</td>\n",
       "    </tr>\n",
       "  </tbody>\n",
       "</table>\n",
       "</div>"
      ],
      "text/plain": [
       "     driver                                               text  compound\n",
       "138      40  And that's P9 for you today. And yeah, I think...    0.9970\n",
       "72       22  Yeah, well done guys. Thank you. Yeah, it's th...    0.9910\n",
       "154      44  I think it's another lap man. Yes mate, yes. J...    0.9875\n",
       "207      81  Checkered flag, Oscar. Well done, mate. Well d...    0.9851\n",
       "95       24  Joey, finish PE12, solid race from your side, ...    0.9844\n",
       "16        1  Yeah, I gave it all. I was a bit unlucky. Stil...    0.9836\n",
       "80       23  Okay, checker flag, checker flag, P11, P11. It...    0.9830\n",
       "67       20  And just, again, just fantastic. So happy for ...    0.9781\n",
       "29       11  Okay, P8 in the end there, P8. Didn't catch a ...    0.9770\n",
       "111      31  Well done mate, that was very impressive. Than...    0.9699"
      ]
     },
     "execution_count": 14,
     "metadata": {},
     "output_type": "execute_result"
    }
   ],
   "source": [
    "print(\"Examples of POSITIVE messages:\")\n",
    "display_examples('positive')"
   ]
  },
  {
   "cell_type": "code",
   "execution_count": 15,
   "metadata": {},
   "outputs": [
    {
     "name": "stdout",
     "output_type": "stream",
     "text": [
      "\n",
      "Examples of NEUTRAL messages:\n"
     ]
    },
    {
     "data": {
      "application/vnd.microsoft.datawrangler.viewer.v0+json": {
       "columns": [
        {
         "name": "index",
         "rawType": "int64",
         "type": "integer"
        },
        {
         "name": "driver",
         "rawType": "int64",
         "type": "integer"
        },
        {
         "name": "text",
         "rawType": "object",
         "type": "string"
        },
        {
         "name": "compound",
         "rawType": "float64",
         "type": "float"
        }
       ],
       "conversionMethod": "pd.DataFrame",
       "ref": "19977f0b-79f6-4e26-bfbc-250530556496",
       "rows": [
        [
         "13",
         "1",
         "Max, I will say it again, there is no merit at this stage in being within one second of Ocon. Sainz is still doing 40.3s. We've been here before, we've been hurt before. You might not think you are pushing Max, but the effective V-ratio as we've seen before is very low.",
         "0.0414"
        ],
        [
         "115",
         "31",
         "The grip of the steering wheel is falling apart. It's okay for this race, but I think next one we need a refurnish or something.",
         "0.0387"
        ],
        [
         "5",
         "1",
         "So settle into standard race management now Max.",
         "0.0"
        ],
        [
         "3",
         "1",
         "You might find this lap that you meet a little bit more water.",
         "0.0"
        ],
        [
         "7",
         "1",
         "This time I had reasonable deg in the first stint. I'd ask you to use your head a bit more.",
         "0.0"
        ],
        [
         "15",
         "1",
         "So driving on ice. Understood.",
         "0.0"
        ],
        [
         "20",
         "11",
         "some drops. There's nothing on the radar at the moment, maybe 30 minutes away, some drops. There's nothing on the radar at the moment, maybe 30 minutes away, some drops.",
         "0.0"
        ],
        [
         "4",
         "1",
         "Just another two or three minutes to get through this.",
         "0.0"
        ],
        [
         "22",
         "11",
         "I was hopping with the folks but I didn't have long excise property.",
         "0.0"
        ],
        [
         "28",
         "11",
         "Let's box, let's box, Alexa box. Stay out, stay out.",
         "0.0"
        ]
       ],
       "shape": {
        "columns": 3,
        "rows": 10
       }
      },
      "text/html": [
       "<div>\n",
       "<style scoped>\n",
       "    .dataframe tbody tr th:only-of-type {\n",
       "        vertical-align: middle;\n",
       "    }\n",
       "\n",
       "    .dataframe tbody tr th {\n",
       "        vertical-align: top;\n",
       "    }\n",
       "\n",
       "    .dataframe thead th {\n",
       "        text-align: right;\n",
       "    }\n",
       "</style>\n",
       "<table border=\"1\" class=\"dataframe\">\n",
       "  <thead>\n",
       "    <tr style=\"text-align: right;\">\n",
       "      <th></th>\n",
       "      <th>driver</th>\n",
       "      <th>text</th>\n",
       "      <th>compound</th>\n",
       "    </tr>\n",
       "  </thead>\n",
       "  <tbody>\n",
       "    <tr>\n",
       "      <th>13</th>\n",
       "      <td>1</td>\n",
       "      <td>Max, I will say it again, there is no merit at...</td>\n",
       "      <td>0.0414</td>\n",
       "    </tr>\n",
       "    <tr>\n",
       "      <th>115</th>\n",
       "      <td>31</td>\n",
       "      <td>The grip of the steering wheel is falling apar...</td>\n",
       "      <td>0.0387</td>\n",
       "    </tr>\n",
       "    <tr>\n",
       "      <th>5</th>\n",
       "      <td>1</td>\n",
       "      <td>So settle into standard race management now Max.</td>\n",
       "      <td>0.0000</td>\n",
       "    </tr>\n",
       "    <tr>\n",
       "      <th>3</th>\n",
       "      <td>1</td>\n",
       "      <td>You might find this lap that you meet a little...</td>\n",
       "      <td>0.0000</td>\n",
       "    </tr>\n",
       "    <tr>\n",
       "      <th>7</th>\n",
       "      <td>1</td>\n",
       "      <td>This time I had reasonable deg in the first st...</td>\n",
       "      <td>0.0000</td>\n",
       "    </tr>\n",
       "    <tr>\n",
       "      <th>15</th>\n",
       "      <td>1</td>\n",
       "      <td>So driving on ice. Understood.</td>\n",
       "      <td>0.0000</td>\n",
       "    </tr>\n",
       "    <tr>\n",
       "      <th>20</th>\n",
       "      <td>11</td>\n",
       "      <td>some drops. There's nothing on the radar at th...</td>\n",
       "      <td>0.0000</td>\n",
       "    </tr>\n",
       "    <tr>\n",
       "      <th>4</th>\n",
       "      <td>1</td>\n",
       "      <td>Just another two or three minutes to get throu...</td>\n",
       "      <td>0.0000</td>\n",
       "    </tr>\n",
       "    <tr>\n",
       "      <th>22</th>\n",
       "      <td>11</td>\n",
       "      <td>I was hopping with the folks but I didn't have...</td>\n",
       "      <td>0.0000</td>\n",
       "    </tr>\n",
       "    <tr>\n",
       "      <th>28</th>\n",
       "      <td>11</td>\n",
       "      <td>Let's box, let's box, Alexa box. Stay out, sta...</td>\n",
       "      <td>0.0000</td>\n",
       "    </tr>\n",
       "  </tbody>\n",
       "</table>\n",
       "</div>"
      ],
      "text/plain": [
       "     driver                                               text  compound\n",
       "13        1  Max, I will say it again, there is no merit at...    0.0414\n",
       "115      31  The grip of the steering wheel is falling apar...    0.0387\n",
       "5         1   So settle into standard race management now Max.    0.0000\n",
       "3         1  You might find this lap that you meet a little...    0.0000\n",
       "7         1  This time I had reasonable deg in the first st...    0.0000\n",
       "15        1                     So driving on ice. Understood.    0.0000\n",
       "20       11  some drops. There's nothing on the radar at th...    0.0000\n",
       "4         1  Just another two or three minutes to get throu...    0.0000\n",
       "22       11  I was hopping with the folks but I didn't have...    0.0000\n",
       "28       11  Let's box, let's box, Alexa box. Stay out, sta...    0.0000"
      ]
     },
     "execution_count": 15,
     "metadata": {},
     "output_type": "execute_result"
    }
   ],
   "source": [
    "print(\"\\nExamples of NEUTRAL messages:\")\n",
    "display_examples('neutral')"
   ]
  },
  {
   "cell_type": "code",
   "execution_count": 16,
   "metadata": {},
   "outputs": [
    {
     "name": "stdout",
     "output_type": "stream",
     "text": [
      "\n",
      "Examples of NEGATIVE messages:\n"
     ]
    },
    {
     "data": {
      "application/vnd.microsoft.datawrangler.viewer.v0+json": {
       "columns": [
        {
         "name": "index",
         "rawType": "int64",
         "type": "integer"
        },
        {
         "name": "driver",
         "rawType": "int64",
         "type": "integer"
        },
        {
         "name": "text",
         "rawType": "object",
         "type": "string"
        },
        {
         "name": "compound",
         "rawType": "float64",
         "type": "float"
        }
       ],
       "conversionMethod": "pd.DataFrame",
       "ref": "1d5cc6c3-08a4-4a52-b2de-1b3724250ba8",
       "rows": [
        [
         "54",
         "18",
         "10 lts, that's P9. So bad. No balance. There's so much daggy. Yeah, copy, copy. It's a horrible, horrible race.",
         "-0.8484"
        ],
        [
         "193",
         "63",
         "No! No! No! No!",
         "-0.8388"
        ],
        [
         "19",
         "1",
         "In the low speed, from back steering to opening up, I just have no traction and no open steer. Understood.",
         "-0.6705"
        ],
        [
         "201",
         "77",
         "Okay Valtteri, no more shifts, no more shifts, we need to stop the car on track, stop the car. Okay, sorry for that.",
         "-0.6486"
        ],
        [
         "23",
         "11",
         "Okay, so no threats behind, you can exaggerate the tyre management.",
         "-0.6453"
        ],
        [
         "106",
         "27",
         "What the hell? It must have been... If it's lost and stayed legal then I'm very surprised.",
         "-0.6378"
        ],
        [
         "143",
         "44",
         "So, potential rain on the radar, 20 minutes away, not very strong though, nothing like yesterday.",
         "-0.616"
        ],
        [
         "2",
         "1",
         "So shit",
         "-0.5984"
        ],
        [
         "151",
         "44",
         "That far's a gap. Seven seconds, Norris. Is it a big gap for us to catch? Negative. Let's go for it.",
         "-0.5719"
        ],
        [
         "119",
         "31",
         "No, no!",
         "-0.5707"
        ]
       ],
       "shape": {
        "columns": 3,
        "rows": 10
       }
      },
      "text/html": [
       "<div>\n",
       "<style scoped>\n",
       "    .dataframe tbody tr th:only-of-type {\n",
       "        vertical-align: middle;\n",
       "    }\n",
       "\n",
       "    .dataframe tbody tr th {\n",
       "        vertical-align: top;\n",
       "    }\n",
       "\n",
       "    .dataframe thead th {\n",
       "        text-align: right;\n",
       "    }\n",
       "</style>\n",
       "<table border=\"1\" class=\"dataframe\">\n",
       "  <thead>\n",
       "    <tr style=\"text-align: right;\">\n",
       "      <th></th>\n",
       "      <th>driver</th>\n",
       "      <th>text</th>\n",
       "      <th>compound</th>\n",
       "    </tr>\n",
       "  </thead>\n",
       "  <tbody>\n",
       "    <tr>\n",
       "      <th>54</th>\n",
       "      <td>18</td>\n",
       "      <td>10 lts, that's P9. So bad. No balance. There's...</td>\n",
       "      <td>-0.8484</td>\n",
       "    </tr>\n",
       "    <tr>\n",
       "      <th>193</th>\n",
       "      <td>63</td>\n",
       "      <td>No! No! No! No!</td>\n",
       "      <td>-0.8388</td>\n",
       "    </tr>\n",
       "    <tr>\n",
       "      <th>19</th>\n",
       "      <td>1</td>\n",
       "      <td>In the low speed, from back steering to openin...</td>\n",
       "      <td>-0.6705</td>\n",
       "    </tr>\n",
       "    <tr>\n",
       "      <th>201</th>\n",
       "      <td>77</td>\n",
       "      <td>Okay Valtteri, no more shifts, no more shifts,...</td>\n",
       "      <td>-0.6486</td>\n",
       "    </tr>\n",
       "    <tr>\n",
       "      <th>23</th>\n",
       "      <td>11</td>\n",
       "      <td>Okay, so no threats behind, you can exaggerate...</td>\n",
       "      <td>-0.6453</td>\n",
       "    </tr>\n",
       "    <tr>\n",
       "      <th>106</th>\n",
       "      <td>27</td>\n",
       "      <td>What the hell? It must have been... If it's lo...</td>\n",
       "      <td>-0.6378</td>\n",
       "    </tr>\n",
       "    <tr>\n",
       "      <th>143</th>\n",
       "      <td>44</td>\n",
       "      <td>So, potential rain on the radar, 20 minutes aw...</td>\n",
       "      <td>-0.6160</td>\n",
       "    </tr>\n",
       "    <tr>\n",
       "      <th>2</th>\n",
       "      <td>1</td>\n",
       "      <td>So shit</td>\n",
       "      <td>-0.5984</td>\n",
       "    </tr>\n",
       "    <tr>\n",
       "      <th>151</th>\n",
       "      <td>44</td>\n",
       "      <td>That far's a gap. Seven seconds, Norris. Is it...</td>\n",
       "      <td>-0.5719</td>\n",
       "    </tr>\n",
       "    <tr>\n",
       "      <th>119</th>\n",
       "      <td>31</td>\n",
       "      <td>No, no!</td>\n",
       "      <td>-0.5707</td>\n",
       "    </tr>\n",
       "  </tbody>\n",
       "</table>\n",
       "</div>"
      ],
      "text/plain": [
       "     driver                                               text  compound\n",
       "54       18  10 lts, that's P9. So bad. No balance. There's...   -0.8484\n",
       "193      63                                    No! No! No! No!   -0.8388\n",
       "19        1  In the low speed, from back steering to openin...   -0.6705\n",
       "201      77  Okay Valtteri, no more shifts, no more shifts,...   -0.6486\n",
       "23       11  Okay, so no threats behind, you can exaggerate...   -0.6453\n",
       "106      27  What the hell? It must have been... If it's lo...   -0.6378\n",
       "143      44  So, potential rain on the radar, 20 minutes aw...   -0.6160\n",
       "2         1                                            So shit   -0.5984\n",
       "151      44  That far's a gap. Seven seconds, Norris. Is it...   -0.5719\n",
       "119      31                                            No, no!   -0.5707"
      ]
     },
     "execution_count": 16,
     "metadata": {},
     "output_type": "execute_result"
    }
   ],
   "source": [
    "print(\"\\nExamples of NEGATIVE messages:\")\n",
    "display_examples('negative')"
   ]
  },
  {
   "cell_type": "markdown",
   "metadata": {},
   "source": [
    "---\n",
    "\n",
    "### Saving the sentiment vader results\n"
   ]
  },
  {
   "cell_type": "code",
   "execution_count": 17,
   "metadata": {},
   "outputs": [
    {
     "name": "stdout",
     "output_type": "stream",
     "text": [
      "Sentiment analysis results saved to ../../outputs/week4/radios_sentiment_vader.csv\n"
     ]
    }
   ],
   "source": [
    "output_path = \"../../outputs/week4/radios_sentiment_vader.csv\"\n",
    "radio_data.to_csv(output_path, index = False)\n",
    "print(f\"Sentiment analysis results saved to {output_path}\")"
   ]
  },
  {
   "cell_type": "markdown",
   "metadata": {},
   "source": [
    "---\n",
    "\n",
    "## Making metrics for future comparison with other models"
   ]
  },
  {
   "cell_type": "code",
   "execution_count": 18,
   "metadata": {},
   "outputs": [
    {
     "name": "stdout",
     "output_type": "stream",
     "text": [
      "Summary metrics:\n"
     ]
    },
    {
     "data": {
      "application/vnd.microsoft.datawrangler.viewer.v0+json": {
       "columns": [
        {
         "name": "index",
         "rawType": "int64",
         "type": "integer"
        },
        {
         "name": "model",
         "rawType": "object",
         "type": "string"
        },
        {
         "name": "positive_percentage",
         "rawType": "float64",
         "type": "float"
        },
        {
         "name": "neutral_percentage",
         "rawType": "float64",
         "type": "float"
        },
        {
         "name": "negative_percentage",
         "rawType": "float64",
         "type": "float"
        },
        {
         "name": "average_compound",
         "rawType": "float64",
         "type": "float"
        },
        {
         "name": "std_compound",
         "rawType": "float64",
         "type": "float"
        }
       ],
       "conversionMethod": "pd.DataFrame",
       "ref": "d08f7b8b-ac80-43e9-8df6-9fed74b11830",
       "rows": [
        [
         "0",
         "VADER",
         "52.38095238095239",
         "30.476190476190478",
         "17.142857142857142",
         "0.21972666666666668",
         "0.42082490199269473"
        ]
       ],
       "shape": {
        "columns": 6,
        "rows": 1
       }
      },
      "text/html": [
       "<div>\n",
       "<style scoped>\n",
       "    .dataframe tbody tr th:only-of-type {\n",
       "        vertical-align: middle;\n",
       "    }\n",
       "\n",
       "    .dataframe tbody tr th {\n",
       "        vertical-align: top;\n",
       "    }\n",
       "\n",
       "    .dataframe thead th {\n",
       "        text-align: right;\n",
       "    }\n",
       "</style>\n",
       "<table border=\"1\" class=\"dataframe\">\n",
       "  <thead>\n",
       "    <tr style=\"text-align: right;\">\n",
       "      <th></th>\n",
       "      <th>model</th>\n",
       "      <th>positive_percentage</th>\n",
       "      <th>neutral_percentage</th>\n",
       "      <th>negative_percentage</th>\n",
       "      <th>average_compound</th>\n",
       "      <th>std_compound</th>\n",
       "    </tr>\n",
       "  </thead>\n",
       "  <tbody>\n",
       "    <tr>\n",
       "      <th>0</th>\n",
       "      <td>VADER</td>\n",
       "      <td>52.380952</td>\n",
       "      <td>30.47619</td>\n",
       "      <td>17.142857</td>\n",
       "      <td>0.219727</td>\n",
       "      <td>0.420825</td>\n",
       "    </tr>\n",
       "  </tbody>\n",
       "</table>\n",
       "</div>"
      ],
      "text/plain": [
       "   model  positive_percentage  neutral_percentage  negative_percentage  \\\n",
       "0  VADER            52.380952            30.47619            17.142857   \n",
       "\n",
       "   average_compound  std_compound  \n",
       "0          0.219727      0.420825  "
      ]
     },
     "execution_count": 18,
     "metadata": {},
     "output_type": "execute_result"
    }
   ],
   "source": [
    "# Calculate metrics for future comparison with other models\n",
    "metrics = {\n",
    "    'model': 'VADER',\n",
    "    'positive_percentage': sentiment_counts.get('positive', 0) / len(radio_data) * 100,\n",
    "    'neutral_percentage': sentiment_counts.get('neutral', 0) / len(radio_data) * 100,\n",
    "    'negative_percentage': sentiment_counts.get('negative', 0) / len(radio_data) * 100,\n",
    "    'average_compound': radio_data['compound'].mean(),\n",
    "    'std_compound': radio_data['compound'].std()\n",
    "}\n",
    "\n",
    "metrics_df = pd.DataFrame([metrics])\n",
    "metrics_df.to_csv('../../outputs/week4/sentiment_metrics_vader.csv', index=False)\n",
    "print(\"Summary metrics:\")\n",
    "metrics_df"
   ]
  },
  {
   "cell_type": "markdown",
   "metadata": {},
   "source": [
    "--- \n",
    "\n",
    "## Next Steps: BERT-based Sentiment Analysis\n",
    "\n",
    "While NLTK's VADER provides a quick, lexicon-based sentiment analysis, deep learning models \n",
    "like BERT can potentially offer better performance, especially for domain-specific language \n",
    "like F1 team radio communications.\n",
    "\n",
    "Moreover, with this sentiment analysis, we can´t extract metrics for mistakes, like false positives. For this, we´ll need to label the data.\n",
    "\n",
    "### But first: labeling the data\n",
    "\n",
    "I think it is a good idea to label myself the data. With the correct labeling, I can try to make a comparison between the results given by VADER and then the others.\n",
    "\n",
    "Because of that, I´ll add the `N00_labeling_radios.ipynb`, where I will label the data.\n",
    "\n",
    "But...\n",
    "\n",
    "#### **When labeling data, we will exclude end-of-race messages for the following reasons:**\n",
    "Why?\n",
    "\n",
    "* Project Focus: Our model aims to support real-time strategic decision-making during races, not post-race analysis.\n",
    "\n",
    "* Different Context: End-of-race communications follow different patterns (congratulatory, reflective) than tactical in-race messages.\n",
    "\n",
    "* Sentiment Distortion: Including these highly emotional messages would create an unrealistic sentiment distribution compared to the strategic communications we need to analyze.\n",
    "\n",
    "#### Therefore, in the labelling radios notebook, I´ll make this cleaning before labeling. If the dataset gets highly reduced, I may need to rerun the code with new radio messages. \n",
    "---\n",
    "### Approaches for BERT-based sentiment analysis:\n",
    "\n",
    "1. **Using pretrained BERT models**:\n",
    "   - Apply a pretrained BERT model fine-tuned for sentiment analysis (e.g., from Hugging Face)\n",
    "   - This approach doesn't require labeled data from our domain\n",
    "\n",
    "2. **Fine-tuning BERT with our data**:\n",
    "   - Requires manually labeling a subset of our radio messages\n",
    "   - Could capture F1-specific sentiment expressions better\n",
    "   - Steps:\n",
    "     a. Sample a subset of messages (e.g., 100-200)\n",
    "     b. Manually label them (positive, neutral, negative)\n",
    "     c. Fine-tune a pretrained BERT model with these labeled examples\n",
    "     d. Evaluate performance\n",
    "---\n",
    "## Metrics for comparison:\n",
    "- Distribution of sentiment categories\n",
    "- Manual evaluation of a sample of predictions\n",
    "- If we create a labeled test set, we can calculate precision, recall, and F1 scores\n"
   ]
  }
 ],
 "metadata": {
  "kernelspec": {
   "display_name": "f1_strat_manager",
   "language": "python",
   "name": "python3"
  },
  "language_info": {
   "codemirror_mode": {
    "name": "ipython",
    "version": 3
   },
   "file_extension": ".py",
   "mimetype": "text/x-python",
   "name": "python",
   "nbconvert_exporter": "python",
   "pygments_lexer": "ipython3",
   "version": "3.10.16"
  }
 },
 "nbformat": 4,
 "nbformat_minor": 2
}
