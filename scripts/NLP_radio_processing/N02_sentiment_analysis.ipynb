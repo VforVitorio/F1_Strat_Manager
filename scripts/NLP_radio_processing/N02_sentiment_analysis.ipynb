{
 "cells": [
  {
   "cell_type": "markdown",
   "metadata": {},
   "source": [
    "# Sentiment analysis of Formula 1 radio messages\n",
    "\n",
    "This is the second notebook of the task of analyzing Formula 1 radios and extracting valuable information.\n",
    "\n",
    "For the sentiment analysis, first, we will use **nltk** with Vader. "
   ]
  },
  {
   "cell_type": "markdown",
   "metadata": {},
   "source": [
    "#### Importing necessar libraries and downloading vader lexicon"
   ]
  },
  {
   "cell_type": "code",
   "execution_count": 2,
   "metadata": {},
   "outputs": [],
   "source": [
    "import pandas as pd\n",
    "import numpy as np\n",
    "import matplotlib.pyplot as plt\n",
    "import seaborn as sns\n",
    "from nltk.sentiment.vader import SentimentIntensityAnalyzer\n",
    "import nltk\n",
    "from tqdm.notebook import tqdm\n",
    "\n",
    "# Set styling for visualizations\n",
    "plt.style.use('ggplot')\n",
    "sns.set(style=\"whitegrid\")"
   ]
  },
  {
   "cell_type": "code",
   "execution_count": 3,
   "metadata": {},
   "outputs": [
    {
     "name": "stderr",
     "output_type": "stream",
     "text": [
      "[nltk_data] Downloading package vader_lexicon to\n",
      "[nltk_data]     C:\\Users\\victo\\AppData\\Roaming\\nltk_data...\n",
      "[nltk_data]   Package vader_lexicon is already up-to-date!\n"
     ]
    },
    {
     "data": {
      "text/plain": [
       "True"
      ]
     },
     "execution_count": 3,
     "metadata": {},
     "output_type": "execute_result"
    }
   ],
   "source": [
    "# Download necessary NLTK resources for sentiment analysis\n",
    "nltk.download('vader_lexicon')"
   ]
  },
  {
   "cell_type": "markdown",
   "metadata": {},
   "source": [
    "--- \n",
    "\n",
    "### Loading the transcribed messages\n"
   ]
  },
  {
   "cell_type": "code",
   "execution_count": 4,
   "metadata": {},
   "outputs": [
    {
     "name": "stdout",
     "output_type": "stream",
     "text": [
      "Number of transcribed radio messages: 210\n"
     ]
    },
    {
     "data": {
      "application/vnd.microsoft.datawrangler.viewer.v0+json": {
       "columns": [
        {
         "name": "index",
         "rawType": "int64",
         "type": "integer"
        },
        {
         "name": "driver",
         "rawType": "int64",
         "type": "integer"
        },
        {
         "name": "filename",
         "rawType": "object",
         "type": "string"
        },
        {
         "name": "file_path",
         "rawType": "object",
         "type": "string"
        },
        {
         "name": "text",
         "rawType": "object",
         "type": "string"
        },
        {
         "name": "duration",
         "rawType": "float64",
         "type": "float"
        }
       ],
       "conversionMethod": "pd.DataFrame",
       "ref": "e4a17ffb-8dd2-4ffe-b6d1-1d4b67583452",
       "rows": [
        [
         "0",
         "1",
         "driver_(1,)_belgium_radio_39.mp3",
         "..\\..\\f1-strategy\\data\\audio\\driver_(1,)\\driver_(1,)_belgium_radio_39.mp3",
         "Are we following the ringer or what? You just follow my instruction. No, I want to know if both cars do it. Max, please follow my instruction and trust it. Thank you.",
         "15.168"
        ],
        [
         "1",
         "1",
         "driver_(1,)_belgium_radio_40.mp3",
         "..\\..\\f1-strategy\\data\\audio\\driver_(1,)\\driver_(1,)_belgium_radio_40.mp3",
         "Okay Max, we're expecting rain in about 9 or 10 minutes. What are your thoughts? That you can get there or should we box? We need to box this lap to cover Leclerc. I can't see the weather, can I? I don't know.",
         "15.576"
        ],
        [
         "2",
         "1",
         "driver_(1,)_belgium_radio_60.mp3",
         "..\\..\\f1-strategy\\data\\audio\\driver_(1,)\\driver_(1,)_belgium_radio_60.mp3",
         "Mayor Manilow, mayI X TEA ****",
         "5.424"
        ],
        [
         "3",
         "1",
         "driver_(1,)_belgium_radio_62.mp3",
         "..\\..\\f1-strategy\\data\\audio\\driver_(1,)\\driver_(1,)_belgium_radio_62.mp3",
         "You might find this lap that you meet a little bit more water.",
         "5.088"
        ],
        [
         "4",
         "1",
         "driver_(1,)_belgium_radio_63.mp3",
         "..\\..\\f1-strategy\\data\\audio\\driver_(1,)\\driver_(1,)_belgium_radio_63.mp3",
         "Just another two or three minutes to get through this.",
         "5.712"
        ]
       ],
       "shape": {
        "columns": 5,
        "rows": 5
       }
      },
      "text/html": [
       "<div>\n",
       "<style scoped>\n",
       "    .dataframe tbody tr th:only-of-type {\n",
       "        vertical-align: middle;\n",
       "    }\n",
       "\n",
       "    .dataframe tbody tr th {\n",
       "        vertical-align: top;\n",
       "    }\n",
       "\n",
       "    .dataframe thead th {\n",
       "        text-align: right;\n",
       "    }\n",
       "</style>\n",
       "<table border=\"1\" class=\"dataframe\">\n",
       "  <thead>\n",
       "    <tr style=\"text-align: right;\">\n",
       "      <th></th>\n",
       "      <th>driver</th>\n",
       "      <th>filename</th>\n",
       "      <th>file_path</th>\n",
       "      <th>text</th>\n",
       "      <th>duration</th>\n",
       "    </tr>\n",
       "  </thead>\n",
       "  <tbody>\n",
       "    <tr>\n",
       "      <th>0</th>\n",
       "      <td>1</td>\n",
       "      <td>driver_(1,)_belgium_radio_39.mp3</td>\n",
       "      <td>..\\..\\f1-strategy\\data\\audio\\driver_(1,)\\drive...</td>\n",
       "      <td>Are we following the ringer or what? You just ...</td>\n",
       "      <td>15.168</td>\n",
       "    </tr>\n",
       "    <tr>\n",
       "      <th>1</th>\n",
       "      <td>1</td>\n",
       "      <td>driver_(1,)_belgium_radio_40.mp3</td>\n",
       "      <td>..\\..\\f1-strategy\\data\\audio\\driver_(1,)\\drive...</td>\n",
       "      <td>Okay Max, we're expecting rain in about 9 or 1...</td>\n",
       "      <td>15.576</td>\n",
       "    </tr>\n",
       "    <tr>\n",
       "      <th>2</th>\n",
       "      <td>1</td>\n",
       "      <td>driver_(1,)_belgium_radio_60.mp3</td>\n",
       "      <td>..\\..\\f1-strategy\\data\\audio\\driver_(1,)\\drive...</td>\n",
       "      <td>Mayor Manilow, mayI X TEA ****</td>\n",
       "      <td>5.424</td>\n",
       "    </tr>\n",
       "    <tr>\n",
       "      <th>3</th>\n",
       "      <td>1</td>\n",
       "      <td>driver_(1,)_belgium_radio_62.mp3</td>\n",
       "      <td>..\\..\\f1-strategy\\data\\audio\\driver_(1,)\\drive...</td>\n",
       "      <td>You might find this lap that you meet a little...</td>\n",
       "      <td>5.088</td>\n",
       "    </tr>\n",
       "    <tr>\n",
       "      <th>4</th>\n",
       "      <td>1</td>\n",
       "      <td>driver_(1,)_belgium_radio_63.mp3</td>\n",
       "      <td>..\\..\\f1-strategy\\data\\audio\\driver_(1,)\\drive...</td>\n",
       "      <td>Just another two or three minutes to get throu...</td>\n",
       "      <td>5.712</td>\n",
       "    </tr>\n",
       "  </tbody>\n",
       "</table>\n",
       "</div>"
      ],
      "text/plain": [
       "   driver                          filename  \\\n",
       "0       1  driver_(1,)_belgium_radio_39.mp3   \n",
       "1       1  driver_(1,)_belgium_radio_40.mp3   \n",
       "2       1  driver_(1,)_belgium_radio_60.mp3   \n",
       "3       1  driver_(1,)_belgium_radio_62.mp3   \n",
       "4       1  driver_(1,)_belgium_radio_63.mp3   \n",
       "\n",
       "                                           file_path  \\\n",
       "0  ..\\..\\f1-strategy\\data\\audio\\driver_(1,)\\drive...   \n",
       "1  ..\\..\\f1-strategy\\data\\audio\\driver_(1,)\\drive...   \n",
       "2  ..\\..\\f1-strategy\\data\\audio\\driver_(1,)\\drive...   \n",
       "3  ..\\..\\f1-strategy\\data\\audio\\driver_(1,)\\drive...   \n",
       "4  ..\\..\\f1-strategy\\data\\audio\\driver_(1,)\\drive...   \n",
       "\n",
       "                                                text  duration  \n",
       "0  Are we following the ringer or what? You just ...    15.168  \n",
       "1  Okay Max, we're expecting rain in about 9 or 1...    15.576  \n",
       "2                     Mayor Manilow, mayI X TEA ****     5.424  \n",
       "3  You might find this lap that you meet a little...     5.088  \n",
       "4  Just another two or three minutes to get throu...     5.712  "
      ]
     },
     "execution_count": 4,
     "metadata": {},
     "output_type": "execute_result"
    }
   ],
   "source": [
    "data_path = \"../../outputs/week4/radios_raw.csv\"\n",
    "\n",
    "radio_data = pd.read_csv(data_path)\n",
    "\n",
    "# Display basic information\n",
    "\n",
    "print(f\"Number of transcribed radio messages: {len(radio_data)}\")\n",
    "\n",
    "radio_data.head()"
   ]
  }
 ],
 "metadata": {
  "kernelspec": {
   "display_name": "f1_strat_manager",
   "language": "python",
   "name": "python3"
  },
  "language_info": {
   "codemirror_mode": {
    "name": "ipython",
    "version": 3
   },
   "file_extension": ".py",
   "mimetype": "text/x-python",
   "name": "python",
   "nbconvert_exporter": "python",
   "pygments_lexer": "ipython3",
   "version": "3.10.16"
  }
 },
 "nbformat": 4,
 "nbformat_minor": 2
}
