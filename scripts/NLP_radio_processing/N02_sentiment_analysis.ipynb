{
 "cells": [
  {
   "cell_type": "markdown",
   "metadata": {},
   "source": [
    "# Sentiment analysis of Formula 1 radio messages\n",
    "\n",
    "This is the second notebook of the task of analyzing Formula 1 radios and extracting valuable information.\n",
    "\n",
    "For the sentiment analysis, first, we will use **nltk** with Vader. "
   ]
  },
  {
   "cell_type": "markdown",
   "metadata": {},
   "source": [
    "#### Importing necessar libraries and downloading vader lexicon"
   ]
  },
  {
   "cell_type": "code",
   "execution_count": 10,
   "metadata": {},
   "outputs": [],
   "source": [
    "import pandas as pd\n",
    "import numpy as np\n",
    "import matplotlib.pyplot as plt\n",
    "import seaborn as sns\n",
    "from nltk.sentiment.vader import SentimentIntensityAnalyzer\n",
    "import nltk\n",
    "from tqdm.notebook import tqdm\n",
    "\n",
    "# Set styling for visualizations\n",
    "plt.style.use('ggplot')\n",
    "sns.set(style=\"whitegrid\")"
   ]
  },
  {
   "cell_type": "code",
   "execution_count": 11,
   "metadata": {},
   "outputs": [
    {
     "name": "stderr",
     "output_type": "stream",
     "text": [
      "[nltk_data] Downloading package vader_lexicon to\n",
      "[nltk_data]     C:\\Users\\victo\\AppData\\Roaming\\nltk_data...\n",
      "[nltk_data]   Package vader_lexicon is already up-to-date!\n"
     ]
    },
    {
     "data": {
      "text/plain": [
       "True"
      ]
     },
     "execution_count": 11,
     "metadata": {},
     "output_type": "execute_result"
    }
   ],
   "source": [
    "# Download necessary NLTK resources for sentiment analysis\n",
    "nltk.download('vader_lexicon')"
   ]
  },
  {
   "cell_type": "markdown",
   "metadata": {},
   "source": [
    "--- \n",
    "\n",
    "### Loading the transcribed messages\n"
   ]
  },
  {
   "cell_type": "code",
   "execution_count": 12,
   "metadata": {},
   "outputs": [
    {
     "name": "stdout",
     "output_type": "stream",
     "text": [
      "Number of transcribed radio messages: 210\n"
     ]
    },
    {
     "data": {
      "application/vnd.microsoft.datawrangler.viewer.v0+json": {
       "columns": [
        {
         "name": "index",
         "rawType": "int64",
         "type": "integer"
        },
        {
         "name": "driver",
         "rawType": "int64",
         "type": "integer"
        },
        {
         "name": "filename",
         "rawType": "object",
         "type": "string"
        },
        {
         "name": "file_path",
         "rawType": "object",
         "type": "string"
        },
        {
         "name": "text",
         "rawType": "object",
         "type": "string"
        },
        {
         "name": "duration",
         "rawType": "float64",
         "type": "float"
        }
       ],
       "conversionMethod": "pd.DataFrame",
       "ref": "8220ae0e-bea4-453a-9c04-5306e1e7e906",
       "rows": [
        [
         "0",
         "1",
         "driver_(1,)_belgium_radio_39.mp3",
         "..\\..\\f1-strategy\\data\\audio\\driver_(1,)\\driver_(1,)_belgium_radio_39.mp3",
         "Are we following the ringer or what? You just follow my instruction. No, I want to know if both cars do it. Max, please follow my instruction and trust it. Thank you.",
         "15.168"
        ],
        [
         "1",
         "1",
         "driver_(1,)_belgium_radio_40.mp3",
         "..\\..\\f1-strategy\\data\\audio\\driver_(1,)\\driver_(1,)_belgium_radio_40.mp3",
         "Okay Max, we're expecting rain in about 9 or 10 minutes. What are your thoughts? That you can get there or should we box? We need to box this lap to cover Leclerc. I can't see the weather, can I? I don't know.",
         "15.576"
        ],
        [
         "2",
         "1",
         "driver_(1,)_belgium_radio_60.mp3",
         "..\\..\\f1-strategy\\data\\audio\\driver_(1,)\\driver_(1,)_belgium_radio_60.mp3",
         "Mayor Manilow, mayI X TEA ****",
         "5.424"
        ],
        [
         "3",
         "1",
         "driver_(1,)_belgium_radio_62.mp3",
         "..\\..\\f1-strategy\\data\\audio\\driver_(1,)\\driver_(1,)_belgium_radio_62.mp3",
         "You might find this lap that you meet a little bit more water.",
         "5.088"
        ],
        [
         "4",
         "1",
         "driver_(1,)_belgium_radio_63.mp3",
         "..\\..\\f1-strategy\\data\\audio\\driver_(1,)\\driver_(1,)_belgium_radio_63.mp3",
         "Just another two or three minutes to get through this.",
         "5.712"
        ]
       ],
       "shape": {
        "columns": 5,
        "rows": 5
       }
      },
      "text/html": [
       "<div>\n",
       "<style scoped>\n",
       "    .dataframe tbody tr th:only-of-type {\n",
       "        vertical-align: middle;\n",
       "    }\n",
       "\n",
       "    .dataframe tbody tr th {\n",
       "        vertical-align: top;\n",
       "    }\n",
       "\n",
       "    .dataframe thead th {\n",
       "        text-align: right;\n",
       "    }\n",
       "</style>\n",
       "<table border=\"1\" class=\"dataframe\">\n",
       "  <thead>\n",
       "    <tr style=\"text-align: right;\">\n",
       "      <th></th>\n",
       "      <th>driver</th>\n",
       "      <th>filename</th>\n",
       "      <th>file_path</th>\n",
       "      <th>text</th>\n",
       "      <th>duration</th>\n",
       "    </tr>\n",
       "  </thead>\n",
       "  <tbody>\n",
       "    <tr>\n",
       "      <th>0</th>\n",
       "      <td>1</td>\n",
       "      <td>driver_(1,)_belgium_radio_39.mp3</td>\n",
       "      <td>..\\..\\f1-strategy\\data\\audio\\driver_(1,)\\drive...</td>\n",
       "      <td>Are we following the ringer or what? You just ...</td>\n",
       "      <td>15.168</td>\n",
       "    </tr>\n",
       "    <tr>\n",
       "      <th>1</th>\n",
       "      <td>1</td>\n",
       "      <td>driver_(1,)_belgium_radio_40.mp3</td>\n",
       "      <td>..\\..\\f1-strategy\\data\\audio\\driver_(1,)\\drive...</td>\n",
       "      <td>Okay Max, we're expecting rain in about 9 or 1...</td>\n",
       "      <td>15.576</td>\n",
       "    </tr>\n",
       "    <tr>\n",
       "      <th>2</th>\n",
       "      <td>1</td>\n",
       "      <td>driver_(1,)_belgium_radio_60.mp3</td>\n",
       "      <td>..\\..\\f1-strategy\\data\\audio\\driver_(1,)\\drive...</td>\n",
       "      <td>Mayor Manilow, mayI X TEA ****</td>\n",
       "      <td>5.424</td>\n",
       "    </tr>\n",
       "    <tr>\n",
       "      <th>3</th>\n",
       "      <td>1</td>\n",
       "      <td>driver_(1,)_belgium_radio_62.mp3</td>\n",
       "      <td>..\\..\\f1-strategy\\data\\audio\\driver_(1,)\\drive...</td>\n",
       "      <td>You might find this lap that you meet a little...</td>\n",
       "      <td>5.088</td>\n",
       "    </tr>\n",
       "    <tr>\n",
       "      <th>4</th>\n",
       "      <td>1</td>\n",
       "      <td>driver_(1,)_belgium_radio_63.mp3</td>\n",
       "      <td>..\\..\\f1-strategy\\data\\audio\\driver_(1,)\\drive...</td>\n",
       "      <td>Just another two or three minutes to get throu...</td>\n",
       "      <td>5.712</td>\n",
       "    </tr>\n",
       "  </tbody>\n",
       "</table>\n",
       "</div>"
      ],
      "text/plain": [
       "   driver                          filename  \\\n",
       "0       1  driver_(1,)_belgium_radio_39.mp3   \n",
       "1       1  driver_(1,)_belgium_radio_40.mp3   \n",
       "2       1  driver_(1,)_belgium_radio_60.mp3   \n",
       "3       1  driver_(1,)_belgium_radio_62.mp3   \n",
       "4       1  driver_(1,)_belgium_radio_63.mp3   \n",
       "\n",
       "                                           file_path  \\\n",
       "0  ..\\..\\f1-strategy\\data\\audio\\driver_(1,)\\drive...   \n",
       "1  ..\\..\\f1-strategy\\data\\audio\\driver_(1,)\\drive...   \n",
       "2  ..\\..\\f1-strategy\\data\\audio\\driver_(1,)\\drive...   \n",
       "3  ..\\..\\f1-strategy\\data\\audio\\driver_(1,)\\drive...   \n",
       "4  ..\\..\\f1-strategy\\data\\audio\\driver_(1,)\\drive...   \n",
       "\n",
       "                                                text  duration  \n",
       "0  Are we following the ringer or what? You just ...    15.168  \n",
       "1  Okay Max, we're expecting rain in about 9 or 1...    15.576  \n",
       "2                     Mayor Manilow, mayI X TEA ****     5.424  \n",
       "3  You might find this lap that you meet a little...     5.088  \n",
       "4  Just another two or three minutes to get throu...     5.712  "
      ]
     },
     "execution_count": 12,
     "metadata": {},
     "output_type": "execute_result"
    }
   ],
   "source": [
    "data_path = \"../../outputs/week4/radios_raw.csv\"\n",
    "\n",
    "radio_data = pd.read_csv(data_path)\n",
    "\n",
    "# Display basic information\n",
    "\n",
    "print(f\"Number of transcribed radio messages: {len(radio_data)}\")\n",
    "\n",
    "radio_data.head()"
   ]
  },
  {
   "cell_type": "markdown",
   "metadata": {},
   "source": [
    "--- \n",
    "\n",
    "### Initializing Vader sentiment analyzer"
   ]
  },
  {
   "cell_type": "code",
   "execution_count": 13,
   "metadata": {},
   "outputs": [],
   "source": [
    "# Initializing the sentiment analyzer\n",
    "sid = SentimentIntensityAnalyzer()\n",
    "\n",
    "# Get the sentiment scores\n",
    "def get_sentiment_scores(text):\n",
    "    # I add an exception for if the radio message is empty\n",
    "    if pd.isna(text) or text ==\"\":\n",
    "        return {\"neg\": 0 , \"neu\": 0, \"pos\": 0, \"compound\": 0}\n",
    "    \n",
    "    return sid.polarity_scores(text)"
   ]
  },
  {
   "cell_type": "markdown",
   "metadata": {},
   "source": [
    "---\n",
    "### Applying VADER\n"
   ]
  },
  {
   "cell_type": "code",
   "execution_count": 14,
   "metadata": {},
   "outputs": [
    {
     "data": {
      "application/vnd.jupyter.widget-view+json": {
       "model_id": "de63e5c125cb40e38b15202070b3beb8",
       "version_major": 2,
       "version_minor": 0
      },
      "text/plain": [
       "Analyzing sentiment:   0%|          | 0/210 [00:00<?, ?it/s]"
      ]
     },
     "metadata": {},
     "output_type": "display_data"
    },
    {
     "data": {
      "application/vnd.microsoft.datawrangler.viewer.v0+json": {
       "columns": [
        {
         "name": "index",
         "rawType": "int64",
         "type": "integer"
        },
        {
         "name": "driver",
         "rawType": "int64",
         "type": "integer"
        },
        {
         "name": "filename",
         "rawType": "object",
         "type": "string"
        },
        {
         "name": "file_path",
         "rawType": "object",
         "type": "string"
        },
        {
         "name": "text",
         "rawType": "object",
         "type": "string"
        },
        {
         "name": "duration",
         "rawType": "float64",
         "type": "float"
        },
        {
         "name": "neg",
         "rawType": "float64",
         "type": "float"
        },
        {
         "name": "neu",
         "rawType": "float64",
         "type": "float"
        },
        {
         "name": "pos",
         "rawType": "float64",
         "type": "float"
        },
        {
         "name": "compound",
         "rawType": "float64",
         "type": "float"
        },
        {
         "name": "sentiment",
         "rawType": "object",
         "type": "string"
        }
       ],
       "conversionMethod": "pd.DataFrame",
       "ref": "59a4a672-6930-4a9d-a762-29006760dc01",
       "rows": [
        [
         "0",
         "1",
         "driver_(1,)_belgium_radio_39.mp3",
         "..\\..\\f1-strategy\\data\\audio\\driver_(1,)\\driver_(1,)_belgium_radio_39.mp3",
         "Are we following the ringer or what? You just follow my instruction. No, I want to know if both cars do it. Max, please follow my instruction and trust it. Thank you.",
         "15.168",
         "0.059",
         "0.691",
         "0.25",
         "0.7351",
         "positive"
        ],
        [
         "1",
         "1",
         "driver_(1,)_belgium_radio_40.mp3",
         "..\\..\\f1-strategy\\data\\audio\\driver_(1,)\\driver_(1,)_belgium_radio_40.mp3",
         "Okay Max, we're expecting rain in about 9 or 10 minutes. What are your thoughts? That you can get there or should we box? We need to box this lap to cover Leclerc. I can't see the weather, can I? I don't know.",
         "15.576",
         "0.0",
         "0.941",
         "0.059",
         "0.3485",
         "positive"
        ],
        [
         "2",
         "1",
         "driver_(1,)_belgium_radio_60.mp3",
         "..\\..\\f1-strategy\\data\\audio\\driver_(1,)\\driver_(1,)_belgium_radio_60.mp3",
         "Mayor Manilow, mayI X TEA ****",
         "5.424",
         "0.0",
         "1.0",
         "0.0",
         "0.0",
         "neutral"
        ],
        [
         "3",
         "1",
         "driver_(1,)_belgium_radio_62.mp3",
         "..\\..\\f1-strategy\\data\\audio\\driver_(1,)\\driver_(1,)_belgium_radio_62.mp3",
         "You might find this lap that you meet a little bit more water.",
         "5.088",
         "0.0",
         "1.0",
         "0.0",
         "0.0",
         "neutral"
        ],
        [
         "4",
         "1",
         "driver_(1,)_belgium_radio_63.mp3",
         "..\\..\\f1-strategy\\data\\audio\\driver_(1,)\\driver_(1,)_belgium_radio_63.mp3",
         "Just another two or three minutes to get through this.",
         "5.712",
         "0.0",
         "1.0",
         "0.0",
         "0.0",
         "neutral"
        ]
       ],
       "shape": {
        "columns": 10,
        "rows": 5
       }
      },
      "text/html": [
       "<div>\n",
       "<style scoped>\n",
       "    .dataframe tbody tr th:only-of-type {\n",
       "        vertical-align: middle;\n",
       "    }\n",
       "\n",
       "    .dataframe tbody tr th {\n",
       "        vertical-align: top;\n",
       "    }\n",
       "\n",
       "    .dataframe thead th {\n",
       "        text-align: right;\n",
       "    }\n",
       "</style>\n",
       "<table border=\"1\" class=\"dataframe\">\n",
       "  <thead>\n",
       "    <tr style=\"text-align: right;\">\n",
       "      <th></th>\n",
       "      <th>driver</th>\n",
       "      <th>filename</th>\n",
       "      <th>file_path</th>\n",
       "      <th>text</th>\n",
       "      <th>duration</th>\n",
       "      <th>neg</th>\n",
       "      <th>neu</th>\n",
       "      <th>pos</th>\n",
       "      <th>compound</th>\n",
       "      <th>sentiment</th>\n",
       "    </tr>\n",
       "  </thead>\n",
       "  <tbody>\n",
       "    <tr>\n",
       "      <th>0</th>\n",
       "      <td>1</td>\n",
       "      <td>driver_(1,)_belgium_radio_39.mp3</td>\n",
       "      <td>..\\..\\f1-strategy\\data\\audio\\driver_(1,)\\drive...</td>\n",
       "      <td>Are we following the ringer or what? You just ...</td>\n",
       "      <td>15.168</td>\n",
       "      <td>0.059</td>\n",
       "      <td>0.691</td>\n",
       "      <td>0.250</td>\n",
       "      <td>0.7351</td>\n",
       "      <td>positive</td>\n",
       "    </tr>\n",
       "    <tr>\n",
       "      <th>1</th>\n",
       "      <td>1</td>\n",
       "      <td>driver_(1,)_belgium_radio_40.mp3</td>\n",
       "      <td>..\\..\\f1-strategy\\data\\audio\\driver_(1,)\\drive...</td>\n",
       "      <td>Okay Max, we're expecting rain in about 9 or 1...</td>\n",
       "      <td>15.576</td>\n",
       "      <td>0.000</td>\n",
       "      <td>0.941</td>\n",
       "      <td>0.059</td>\n",
       "      <td>0.3485</td>\n",
       "      <td>positive</td>\n",
       "    </tr>\n",
       "    <tr>\n",
       "      <th>2</th>\n",
       "      <td>1</td>\n",
       "      <td>driver_(1,)_belgium_radio_60.mp3</td>\n",
       "      <td>..\\..\\f1-strategy\\data\\audio\\driver_(1,)\\drive...</td>\n",
       "      <td>Mayor Manilow, mayI X TEA ****</td>\n",
       "      <td>5.424</td>\n",
       "      <td>0.000</td>\n",
       "      <td>1.000</td>\n",
       "      <td>0.000</td>\n",
       "      <td>0.0000</td>\n",
       "      <td>neutral</td>\n",
       "    </tr>\n",
       "    <tr>\n",
       "      <th>3</th>\n",
       "      <td>1</td>\n",
       "      <td>driver_(1,)_belgium_radio_62.mp3</td>\n",
       "      <td>..\\..\\f1-strategy\\data\\audio\\driver_(1,)\\drive...</td>\n",
       "      <td>You might find this lap that you meet a little...</td>\n",
       "      <td>5.088</td>\n",
       "      <td>0.000</td>\n",
       "      <td>1.000</td>\n",
       "      <td>0.000</td>\n",
       "      <td>0.0000</td>\n",
       "      <td>neutral</td>\n",
       "    </tr>\n",
       "    <tr>\n",
       "      <th>4</th>\n",
       "      <td>1</td>\n",
       "      <td>driver_(1,)_belgium_radio_63.mp3</td>\n",
       "      <td>..\\..\\f1-strategy\\data\\audio\\driver_(1,)\\drive...</td>\n",
       "      <td>Just another two or three minutes to get throu...</td>\n",
       "      <td>5.712</td>\n",
       "      <td>0.000</td>\n",
       "      <td>1.000</td>\n",
       "      <td>0.000</td>\n",
       "      <td>0.0000</td>\n",
       "      <td>neutral</td>\n",
       "    </tr>\n",
       "  </tbody>\n",
       "</table>\n",
       "</div>"
      ],
      "text/plain": [
       "   driver                          filename  \\\n",
       "0       1  driver_(1,)_belgium_radio_39.mp3   \n",
       "1       1  driver_(1,)_belgium_radio_40.mp3   \n",
       "2       1  driver_(1,)_belgium_radio_60.mp3   \n",
       "3       1  driver_(1,)_belgium_radio_62.mp3   \n",
       "4       1  driver_(1,)_belgium_radio_63.mp3   \n",
       "\n",
       "                                           file_path  \\\n",
       "0  ..\\..\\f1-strategy\\data\\audio\\driver_(1,)\\drive...   \n",
       "1  ..\\..\\f1-strategy\\data\\audio\\driver_(1,)\\drive...   \n",
       "2  ..\\..\\f1-strategy\\data\\audio\\driver_(1,)\\drive...   \n",
       "3  ..\\..\\f1-strategy\\data\\audio\\driver_(1,)\\drive...   \n",
       "4  ..\\..\\f1-strategy\\data\\audio\\driver_(1,)\\drive...   \n",
       "\n",
       "                                                text  duration    neg    neu  \\\n",
       "0  Are we following the ringer or what? You just ...    15.168  0.059  0.691   \n",
       "1  Okay Max, we're expecting rain in about 9 or 1...    15.576  0.000  0.941   \n",
       "2                     Mayor Manilow, mayI X TEA ****     5.424  0.000  1.000   \n",
       "3  You might find this lap that you meet a little...     5.088  0.000  1.000   \n",
       "4  Just another two or three minutes to get throu...     5.712  0.000  1.000   \n",
       "\n",
       "     pos  compound sentiment  \n",
       "0  0.250    0.7351  positive  \n",
       "1  0.059    0.3485  positive  \n",
       "2  0.000    0.0000   neutral  \n",
       "3  0.000    0.0000   neutral  \n",
       "4  0.000    0.0000   neutral  "
      ]
     },
     "execution_count": 14,
     "metadata": {},
     "output_type": "execute_result"
    }
   ],
   "source": [
    "# We apply vader to each transcription\n",
    "\n",
    "tqdm.pandas(desc = \"Analyzing sentiment\")\n",
    "sentiment_scores = radio_data[\"text\"].progress_apply(get_sentiment_scores)\n",
    "\n",
    "# Convert sentiment scores to Dataframe Columns\n",
    "\n",
    "sentiment_df = pd.DataFrame(sentiment_scores.to_list())\n",
    "radio_data = pd.concat([radio_data, sentiment_df], axis = 1)\n",
    "\n",
    "# Adding a simple category based on compound score\n",
    "\n",
    "def categorize_sentiment(compound):\n",
    "    if compound >= 0.05:\n",
    "        return \"positive\"\n",
    "    elif compound <= -0.05:\n",
    "        return \"negative\"\n",
    "    else:\n",
    "        return \"neutral\"\n",
    "    \n",
    "radio_data[\"sentiment\"] = radio_data[\"compound\"].apply(categorize_sentiment)\n",
    "\n",
    "# Display the updated dataframe\n",
    "\n",
    "radio_data.head()"
   ]
  },
  {
   "cell_type": "markdown",
   "metadata": {},
   "source": [
    "---\n",
    "### Analyzing sentiment distribution"
   ]
  },
  {
   "cell_type": "code",
   "execution_count": null,
   "metadata": {},
   "outputs": [],
   "source": [
    "# Analyze sentiment distribution\n",
    "sentiment_counts = radio_data['sentiment'].value_counts()\n",
    "print(\"Sentiment distribution:\")\n",
    "print(sentiment_counts)\n",
    "print(f\"Percentage of positive messages: {sentiment_counts.get('positive', 0) / len(radio_data) * 100:.2f}%\")\n",
    "print(f\"Percentage of neutral messages: {sentiment_counts.get('neutral', 0) / len(radio_data) * 100:.2f}%\")\n",
    "print(f\"Percentage of negative messages: {sentiment_counts.get('negative', 0) / len(radio_data) * 100:.2f}%\")\n",
    "\n"
   ]
  },
  {
   "cell_type": "code",
   "execution_count": null,
   "metadata": {},
   "outputs": [],
   "source": [
    "# Visualize sentiment distribution\n",
    "plt.figure(figsize=(10, 6))\n",
    "sns.countplot(x='sentiment', data=radio_data, palette={'positive': 'green', 'neutral': 'gray', 'negative': 'red'})\n",
    "plt.title('Sentiment Distribution of F1 Team Radio Messages', fontsize=15)\n",
    "plt.xlabel('Sentiment', fontsize=12)\n",
    "plt.ylabel('Count', fontsize=12)\n",
    "plt.xticks(rotation=0)\n",
    "plt.tight_layout()\n",
    "plt.show()"
   ]
  },
  {
   "cell_type": "markdown",
   "metadata": {},
   "source": [
    "---\n",
    "### Analyzing sentiment distribution by driver\n"
   ]
  },
  {
   "cell_type": "code",
   "execution_count": null,
   "metadata": {},
   "outputs": [],
   "source": [
    "# Examine sentiment distribution by driver\n",
    "driver_sentiment = pd.crosstab(radio_data['driver'], radio_data['sentiment'], normalize='index') * 100\n",
    "driver_sentiment = driver_sentiment.sort_values(by='positive', ascending=False)\n",
    "\n",
    "# Plot driver sentiment distribution\n",
    "plt.figure(figsize=(12, 8))\n",
    "driver_sentiment.plot(kind='bar', stacked=True, \n",
    "                     colormap='viridis', figsize=(12, 8))\n",
    "plt.title('Sentiment Distribution by Driver (%)', fontsize=15)\n",
    "plt.xlabel('Driver', fontsize=12)\n",
    "plt.ylabel('Percentage', fontsize=12)\n",
    "plt.xticks(rotation=45)\n",
    "plt.legend(title='Sentiment')\n",
    "plt.tight_layout()\n",
    "plt.show()"
   ]
  }
 ],
 "metadata": {
  "kernelspec": {
   "display_name": "f1_strat_manager",
   "language": "python",
   "name": "python3"
  },
  "language_info": {
   "codemirror_mode": {
    "name": "ipython",
    "version": 3
   },
   "file_extension": ".py",
   "mimetype": "text/x-python",
   "name": "python",
   "nbconvert_exporter": "python",
   "pygments_lexer": "ipython3",
   "version": "3.10.16"
  }
 },
 "nbformat": 4,
 "nbformat_minor": 2
}
