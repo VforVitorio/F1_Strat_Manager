{
 "cells": [
  {
   "cell_type": "markdown",
   "metadata": {},
   "source": [
    "# Sentiment analysis of Formula 1 radio messages\n",
    "\n",
    "This is the second notebook of the task of analyzing Formula 1 radios and extracting valuable information.\n",
    "\n",
    "For the sentiment analysis, first, we will use **nltk** with Vader. "
   ]
  },
  {
   "cell_type": "code",
   "execution_count": null,
   "metadata": {
    "vscode": {
     "languageId": "plaintext"
    }
   },
   "outputs": [],
   "source": []
  }
 ],
 "metadata": {
  "language_info": {
   "name": "python"
  }
 },
 "nbformat": 4,
 "nbformat_minor": 2
}
