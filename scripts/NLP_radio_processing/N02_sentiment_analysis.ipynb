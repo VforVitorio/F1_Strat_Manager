{
 "cells": [
  {
   "cell_type": "markdown",
   "metadata": {},
   "source": [
    "# Sentiment analysis of Formula 1 radio messages\n",
    "\n",
    "This is the second notebook of the task of analyzing Formula 1 radios and extracting valuable information.\n",
    "\n",
    "For the sentiment analysis, first, we will use **nltk** with Vader. "
   ]
  },
  {
   "cell_type": "markdown",
   "metadata": {},
   "source": [
    "#### Importing necessar libraries and downloading vader lexicon"
   ]
  },
  {
   "cell_type": "code",
   "execution_count": 59,
   "metadata": {},
   "outputs": [],
   "source": [
    "import pandas as pd\n",
    "import numpy as np\n",
    "import matplotlib.pyplot as plt\n",
    "import seaborn as sns\n",
    "from nltk.sentiment.vader import SentimentIntensityAnalyzer\n",
    "import nltk\n",
    "from tqdm.notebook import tqdm\n",
    "\n",
    "# Set styling for visualizations\n",
    "plt.style.use('ggplot')\n",
    "sns.set(style=\"whitegrid\")"
   ]
  },
  {
   "cell_type": "code",
   "execution_count": 60,
   "metadata": {},
   "outputs": [
    {
     "name": "stderr",
     "output_type": "stream",
     "text": [
      "[nltk_data] Downloading package vader_lexicon to\n",
      "[nltk_data]     C:\\Users\\victo\\AppData\\Roaming\\nltk_data...\n",
      "[nltk_data]   Package vader_lexicon is already up-to-date!\n"
     ]
    },
    {
     "data": {
      "text/plain": [
       "True"
      ]
     },
     "execution_count": 60,
     "metadata": {},
     "output_type": "execute_result"
    }
   ],
   "source": [
    "# Download necessary NLTK resources for sentiment analysis\n",
    "nltk.download('vader_lexicon')"
   ]
  },
  {
   "cell_type": "markdown",
   "metadata": {},
   "source": [
    "--- \n",
    "\n",
    "### Loading the transcribed messages\n"
   ]
  },
  {
   "cell_type": "code",
   "execution_count": 61,
   "metadata": {},
   "outputs": [
    {
     "name": "stdout",
     "output_type": "stream",
     "text": [
      "Number of transcribed radio messages: 210\n"
     ]
    },
    {
     "data": {
      "application/vnd.microsoft.datawrangler.viewer.v0+json": {
       "columns": [
        {
         "name": "index",
         "rawType": "int64",
         "type": "integer"
        },
        {
         "name": "driver",
         "rawType": "int64",
         "type": "integer"
        },
        {
         "name": "filename",
         "rawType": "object",
         "type": "string"
        },
        {
         "name": "file_path",
         "rawType": "object",
         "type": "string"
        },
        {
         "name": "text",
         "rawType": "object",
         "type": "string"
        },
        {
         "name": "duration",
         "rawType": "float64",
         "type": "float"
        }
       ],
       "conversionMethod": "pd.DataFrame",
       "ref": "74c9fcdf-1337-4aaa-afd4-dfe2e8d155f1",
       "rows": [
        [
         "0",
         "1",
         "driver_(1,)_belgium_radio_39.mp3",
         "..\\..\\f1-strategy\\data\\audio\\driver_(1,)\\driver_(1,)_belgium_radio_39.mp3",
         "Are we following the ringer or what? You just follow my instruction. No, I want to know if both cars do it. Max, please follow my instruction and trust it. Thank you.",
         "15.168"
        ],
        [
         "1",
         "1",
         "driver_(1,)_belgium_radio_40.mp3",
         "..\\..\\f1-strategy\\data\\audio\\driver_(1,)\\driver_(1,)_belgium_radio_40.mp3",
         "Okay Max, we're expecting rain in about 9 or 10 minutes. What are your thoughts? That you can get there or should we box? We need to box this lap to cover Leclerc. I can't see the weather, can I? I don't know.",
         "15.576"
        ],
        [
         "2",
         "1",
         "driver_(1,)_belgium_radio_60.mp3",
         "..\\..\\f1-strategy\\data\\audio\\driver_(1,)\\driver_(1,)_belgium_radio_60.mp3",
         "Mayor Manilow, mayI X TEA ****",
         "5.424"
        ],
        [
         "3",
         "1",
         "driver_(1,)_belgium_radio_62.mp3",
         "..\\..\\f1-strategy\\data\\audio\\driver_(1,)\\driver_(1,)_belgium_radio_62.mp3",
         "You might find this lap that you meet a little bit more water.",
         "5.088"
        ],
        [
         "4",
         "1",
         "driver_(1,)_belgium_radio_63.mp3",
         "..\\..\\f1-strategy\\data\\audio\\driver_(1,)\\driver_(1,)_belgium_radio_63.mp3",
         "Just another two or three minutes to get through this.",
         "5.712"
        ]
       ],
       "shape": {
        "columns": 5,
        "rows": 5
       }
      },
      "text/html": [
       "<div>\n",
       "<style scoped>\n",
       "    .dataframe tbody tr th:only-of-type {\n",
       "        vertical-align: middle;\n",
       "    }\n",
       "\n",
       "    .dataframe tbody tr th {\n",
       "        vertical-align: top;\n",
       "    }\n",
       "\n",
       "    .dataframe thead th {\n",
       "        text-align: right;\n",
       "    }\n",
       "</style>\n",
       "<table border=\"1\" class=\"dataframe\">\n",
       "  <thead>\n",
       "    <tr style=\"text-align: right;\">\n",
       "      <th></th>\n",
       "      <th>driver</th>\n",
       "      <th>filename</th>\n",
       "      <th>file_path</th>\n",
       "      <th>text</th>\n",
       "      <th>duration</th>\n",
       "    </tr>\n",
       "  </thead>\n",
       "  <tbody>\n",
       "    <tr>\n",
       "      <th>0</th>\n",
       "      <td>1</td>\n",
       "      <td>driver_(1,)_belgium_radio_39.mp3</td>\n",
       "      <td>..\\..\\f1-strategy\\data\\audio\\driver_(1,)\\drive...</td>\n",
       "      <td>Are we following the ringer or what? You just ...</td>\n",
       "      <td>15.168</td>\n",
       "    </tr>\n",
       "    <tr>\n",
       "      <th>1</th>\n",
       "      <td>1</td>\n",
       "      <td>driver_(1,)_belgium_radio_40.mp3</td>\n",
       "      <td>..\\..\\f1-strategy\\data\\audio\\driver_(1,)\\drive...</td>\n",
       "      <td>Okay Max, we're expecting rain in about 9 or 1...</td>\n",
       "      <td>15.576</td>\n",
       "    </tr>\n",
       "    <tr>\n",
       "      <th>2</th>\n",
       "      <td>1</td>\n",
       "      <td>driver_(1,)_belgium_radio_60.mp3</td>\n",
       "      <td>..\\..\\f1-strategy\\data\\audio\\driver_(1,)\\drive...</td>\n",
       "      <td>Mayor Manilow, mayI X TEA ****</td>\n",
       "      <td>5.424</td>\n",
       "    </tr>\n",
       "    <tr>\n",
       "      <th>3</th>\n",
       "      <td>1</td>\n",
       "      <td>driver_(1,)_belgium_radio_62.mp3</td>\n",
       "      <td>..\\..\\f1-strategy\\data\\audio\\driver_(1,)\\drive...</td>\n",
       "      <td>You might find this lap that you meet a little...</td>\n",
       "      <td>5.088</td>\n",
       "    </tr>\n",
       "    <tr>\n",
       "      <th>4</th>\n",
       "      <td>1</td>\n",
       "      <td>driver_(1,)_belgium_radio_63.mp3</td>\n",
       "      <td>..\\..\\f1-strategy\\data\\audio\\driver_(1,)\\drive...</td>\n",
       "      <td>Just another two or three minutes to get throu...</td>\n",
       "      <td>5.712</td>\n",
       "    </tr>\n",
       "  </tbody>\n",
       "</table>\n",
       "</div>"
      ],
      "text/plain": [
       "   driver                          filename  \\\n",
       "0       1  driver_(1,)_belgium_radio_39.mp3   \n",
       "1       1  driver_(1,)_belgium_radio_40.mp3   \n",
       "2       1  driver_(1,)_belgium_radio_60.mp3   \n",
       "3       1  driver_(1,)_belgium_radio_62.mp3   \n",
       "4       1  driver_(1,)_belgium_radio_63.mp3   \n",
       "\n",
       "                                           file_path  \\\n",
       "0  ..\\..\\f1-strategy\\data\\audio\\driver_(1,)\\drive...   \n",
       "1  ..\\..\\f1-strategy\\data\\audio\\driver_(1,)\\drive...   \n",
       "2  ..\\..\\f1-strategy\\data\\audio\\driver_(1,)\\drive...   \n",
       "3  ..\\..\\f1-strategy\\data\\audio\\driver_(1,)\\drive...   \n",
       "4  ..\\..\\f1-strategy\\data\\audio\\driver_(1,)\\drive...   \n",
       "\n",
       "                                                text  duration  \n",
       "0  Are we following the ringer or what? You just ...    15.168  \n",
       "1  Okay Max, we're expecting rain in about 9 or 1...    15.576  \n",
       "2                     Mayor Manilow, mayI X TEA ****     5.424  \n",
       "3  You might find this lap that you meet a little...     5.088  \n",
       "4  Just another two or three minutes to get throu...     5.712  "
      ]
     },
     "execution_count": 61,
     "metadata": {},
     "output_type": "execute_result"
    }
   ],
   "source": [
    "data_path = \"../../outputs/week4/radios_raw.csv\"\n",
    "\n",
    "radio_data = pd.read_csv(data_path)\n",
    "\n",
    "# Display basic information\n",
    "\n",
    "print(f\"Number of transcribed radio messages: {len(radio_data)}\")\n",
    "\n",
    "radio_data.head()"
   ]
  },
  {
   "cell_type": "markdown",
   "metadata": {},
   "source": [
    "--- \n",
    "\n",
    "### Initializing Vader sentiment analyzer"
   ]
  },
  {
   "cell_type": "code",
   "execution_count": 62,
   "metadata": {},
   "outputs": [],
   "source": [
    "# Initializing the sentiment analyzer\n",
    "sid = SentimentIntensityAnalyzer()\n",
    "\n",
    "# Get the sentiment scores\n",
    "def get_sentiment_scores(text):\n",
    "    # I add an exception for if the radio message is empty\n",
    "    if pd.isna(text) or text ==\"\":\n",
    "        return {\"neg\": 0 , \"neu\": 0, \"pos\": 0, \"compound\": 0}\n",
    "    \n",
    "    return sid.polarity_scores(text)"
   ]
  },
  {
   "cell_type": "markdown",
   "metadata": {},
   "source": [
    "---\n",
    "### Applying VADER\n",
    "\n",
    "Moreover, I will modify our current Dataframe to add the sentiment analysis made by vader to it. Therefore, there will be *5 new columns:*\n",
    "\n",
    "1. neg: number for specifying the ``negative`` component of the radio message.\n",
    "2. pos: number for specifying the ``positive`` component of the radio message.\n",
    "3. compound: the normalized, weighted composite score that represents overall sentiment of the text on a scale of -1 to 1.\n",
    "4. sentiment: a final column whith the output of the sentiment. "
   ]
  },
  {
   "cell_type": "code",
   "execution_count": 63,
   "metadata": {},
   "outputs": [
    {
     "data": {
      "application/vnd.jupyter.widget-view+json": {
       "model_id": "df0de0ad2796467684f06272464ec570",
       "version_major": 2,
       "version_minor": 0
      },
      "text/plain": [
       "Analyzing sentiment:   0%|          | 0/210 [00:00<?, ?it/s]"
      ]
     },
     "metadata": {},
     "output_type": "display_data"
    }
   ],
   "source": [
    "# We apply vader to each transcription\n",
    "\n",
    "tqdm.pandas(desc = \"Analyzing sentiment\")\n",
    "sentiment_scores = radio_data[\"text\"].progress_apply(get_sentiment_scores)\n",
    "\n",
    "# Convert sentiment scores to Dataframe Columns\n",
    "\n",
    "sentiment_df = pd.DataFrame(sentiment_scores.to_list())\n",
    "radio_data = pd.concat([radio_data, sentiment_df], axis = 1)\n",
    "\n"
   ]
  },
  {
   "cell_type": "code",
   "execution_count": 64,
   "metadata": {},
   "outputs": [],
   "source": [
    "# Adding a simple category based on compound score\n",
    "\n",
    "def categorize_sentiment(compound):\n",
    "    if compound >= 0.05:\n",
    "        return \"positive\"\n",
    "    elif compound <= -0.05:\n",
    "        return \"negative\"\n",
    "    else:\n",
    "        return \"neutral\""
   ]
  },
  {
   "cell_type": "code",
   "execution_count": 65,
   "metadata": {},
   "outputs": [
    {
     "data": {
      "application/vnd.microsoft.datawrangler.viewer.v0+json": {
       "columns": [
        {
         "name": "index",
         "rawType": "int64",
         "type": "integer"
        },
        {
         "name": "driver",
         "rawType": "int64",
         "type": "integer"
        },
        {
         "name": "filename",
         "rawType": "object",
         "type": "string"
        },
        {
         "name": "file_path",
         "rawType": "object",
         "type": "string"
        },
        {
         "name": "text",
         "rawType": "object",
         "type": "string"
        },
        {
         "name": "duration",
         "rawType": "float64",
         "type": "float"
        },
        {
         "name": "neg",
         "rawType": "float64",
         "type": "float"
        },
        {
         "name": "neu",
         "rawType": "float64",
         "type": "float"
        },
        {
         "name": "pos",
         "rawType": "float64",
         "type": "float"
        },
        {
         "name": "compound",
         "rawType": "float64",
         "type": "float"
        },
        {
         "name": "sentiment",
         "rawType": "object",
         "type": "string"
        }
       ],
       "conversionMethod": "pd.DataFrame",
       "ref": "2281f185-66d5-4820-8705-5414a85e3606",
       "rows": [
        [
         "0",
         "1",
         "driver_(1,)_belgium_radio_39.mp3",
         "..\\..\\f1-strategy\\data\\audio\\driver_(1,)\\driver_(1,)_belgium_radio_39.mp3",
         "Are we following the ringer or what? You just follow my instruction. No, I want to know if both cars do it. Max, please follow my instruction and trust it. Thank you.",
         "15.168",
         "0.059",
         "0.691",
         "0.25",
         "0.7351",
         "positive"
        ],
        [
         "1",
         "1",
         "driver_(1,)_belgium_radio_40.mp3",
         "..\\..\\f1-strategy\\data\\audio\\driver_(1,)\\driver_(1,)_belgium_radio_40.mp3",
         "Okay Max, we're expecting rain in about 9 or 10 minutes. What are your thoughts? That you can get there or should we box? We need to box this lap to cover Leclerc. I can't see the weather, can I? I don't know.",
         "15.576",
         "0.0",
         "0.941",
         "0.059",
         "0.3485",
         "positive"
        ],
        [
         "2",
         "1",
         "driver_(1,)_belgium_radio_60.mp3",
         "..\\..\\f1-strategy\\data\\audio\\driver_(1,)\\driver_(1,)_belgium_radio_60.mp3",
         "Mayor Manilow, mayI X TEA ****",
         "5.424",
         "0.0",
         "1.0",
         "0.0",
         "0.0",
         "neutral"
        ],
        [
         "3",
         "1",
         "driver_(1,)_belgium_radio_62.mp3",
         "..\\..\\f1-strategy\\data\\audio\\driver_(1,)\\driver_(1,)_belgium_radio_62.mp3",
         "You might find this lap that you meet a little bit more water.",
         "5.088",
         "0.0",
         "1.0",
         "0.0",
         "0.0",
         "neutral"
        ],
        [
         "4",
         "1",
         "driver_(1,)_belgium_radio_63.mp3",
         "..\\..\\f1-strategy\\data\\audio\\driver_(1,)\\driver_(1,)_belgium_radio_63.mp3",
         "Just another two or three minutes to get through this.",
         "5.712",
         "0.0",
         "1.0",
         "0.0",
         "0.0",
         "neutral"
        ]
       ],
       "shape": {
        "columns": 10,
        "rows": 5
       }
      },
      "text/html": [
       "<div>\n",
       "<style scoped>\n",
       "    .dataframe tbody tr th:only-of-type {\n",
       "        vertical-align: middle;\n",
       "    }\n",
       "\n",
       "    .dataframe tbody tr th {\n",
       "        vertical-align: top;\n",
       "    }\n",
       "\n",
       "    .dataframe thead th {\n",
       "        text-align: right;\n",
       "    }\n",
       "</style>\n",
       "<table border=\"1\" class=\"dataframe\">\n",
       "  <thead>\n",
       "    <tr style=\"text-align: right;\">\n",
       "      <th></th>\n",
       "      <th>driver</th>\n",
       "      <th>filename</th>\n",
       "      <th>file_path</th>\n",
       "      <th>text</th>\n",
       "      <th>duration</th>\n",
       "      <th>neg</th>\n",
       "      <th>neu</th>\n",
       "      <th>pos</th>\n",
       "      <th>compound</th>\n",
       "      <th>sentiment</th>\n",
       "    </tr>\n",
       "  </thead>\n",
       "  <tbody>\n",
       "    <tr>\n",
       "      <th>0</th>\n",
       "      <td>1</td>\n",
       "      <td>driver_(1,)_belgium_radio_39.mp3</td>\n",
       "      <td>..\\..\\f1-strategy\\data\\audio\\driver_(1,)\\drive...</td>\n",
       "      <td>Are we following the ringer or what? You just ...</td>\n",
       "      <td>15.168</td>\n",
       "      <td>0.059</td>\n",
       "      <td>0.691</td>\n",
       "      <td>0.250</td>\n",
       "      <td>0.7351</td>\n",
       "      <td>positive</td>\n",
       "    </tr>\n",
       "    <tr>\n",
       "      <th>1</th>\n",
       "      <td>1</td>\n",
       "      <td>driver_(1,)_belgium_radio_40.mp3</td>\n",
       "      <td>..\\..\\f1-strategy\\data\\audio\\driver_(1,)\\drive...</td>\n",
       "      <td>Okay Max, we're expecting rain in about 9 or 1...</td>\n",
       "      <td>15.576</td>\n",
       "      <td>0.000</td>\n",
       "      <td>0.941</td>\n",
       "      <td>0.059</td>\n",
       "      <td>0.3485</td>\n",
       "      <td>positive</td>\n",
       "    </tr>\n",
       "    <tr>\n",
       "      <th>2</th>\n",
       "      <td>1</td>\n",
       "      <td>driver_(1,)_belgium_radio_60.mp3</td>\n",
       "      <td>..\\..\\f1-strategy\\data\\audio\\driver_(1,)\\drive...</td>\n",
       "      <td>Mayor Manilow, mayI X TEA ****</td>\n",
       "      <td>5.424</td>\n",
       "      <td>0.000</td>\n",
       "      <td>1.000</td>\n",
       "      <td>0.000</td>\n",
       "      <td>0.0000</td>\n",
       "      <td>neutral</td>\n",
       "    </tr>\n",
       "    <tr>\n",
       "      <th>3</th>\n",
       "      <td>1</td>\n",
       "      <td>driver_(1,)_belgium_radio_62.mp3</td>\n",
       "      <td>..\\..\\f1-strategy\\data\\audio\\driver_(1,)\\drive...</td>\n",
       "      <td>You might find this lap that you meet a little...</td>\n",
       "      <td>5.088</td>\n",
       "      <td>0.000</td>\n",
       "      <td>1.000</td>\n",
       "      <td>0.000</td>\n",
       "      <td>0.0000</td>\n",
       "      <td>neutral</td>\n",
       "    </tr>\n",
       "    <tr>\n",
       "      <th>4</th>\n",
       "      <td>1</td>\n",
       "      <td>driver_(1,)_belgium_radio_63.mp3</td>\n",
       "      <td>..\\..\\f1-strategy\\data\\audio\\driver_(1,)\\drive...</td>\n",
       "      <td>Just another two or three minutes to get throu...</td>\n",
       "      <td>5.712</td>\n",
       "      <td>0.000</td>\n",
       "      <td>1.000</td>\n",
       "      <td>0.000</td>\n",
       "      <td>0.0000</td>\n",
       "      <td>neutral</td>\n",
       "    </tr>\n",
       "  </tbody>\n",
       "</table>\n",
       "</div>"
      ],
      "text/plain": [
       "   driver                          filename  \\\n",
       "0       1  driver_(1,)_belgium_radio_39.mp3   \n",
       "1       1  driver_(1,)_belgium_radio_40.mp3   \n",
       "2       1  driver_(1,)_belgium_radio_60.mp3   \n",
       "3       1  driver_(1,)_belgium_radio_62.mp3   \n",
       "4       1  driver_(1,)_belgium_radio_63.mp3   \n",
       "\n",
       "                                           file_path  \\\n",
       "0  ..\\..\\f1-strategy\\data\\audio\\driver_(1,)\\drive...   \n",
       "1  ..\\..\\f1-strategy\\data\\audio\\driver_(1,)\\drive...   \n",
       "2  ..\\..\\f1-strategy\\data\\audio\\driver_(1,)\\drive...   \n",
       "3  ..\\..\\f1-strategy\\data\\audio\\driver_(1,)\\drive...   \n",
       "4  ..\\..\\f1-strategy\\data\\audio\\driver_(1,)\\drive...   \n",
       "\n",
       "                                                text  duration    neg    neu  \\\n",
       "0  Are we following the ringer or what? You just ...    15.168  0.059  0.691   \n",
       "1  Okay Max, we're expecting rain in about 9 or 1...    15.576  0.000  0.941   \n",
       "2                     Mayor Manilow, mayI X TEA ****     5.424  0.000  1.000   \n",
       "3  You might find this lap that you meet a little...     5.088  0.000  1.000   \n",
       "4  Just another two or three minutes to get throu...     5.712  0.000  1.000   \n",
       "\n",
       "     pos  compound sentiment  \n",
       "0  0.250    0.7351  positive  \n",
       "1  0.059    0.3485  positive  \n",
       "2  0.000    0.0000   neutral  \n",
       "3  0.000    0.0000   neutral  \n",
       "4  0.000    0.0000   neutral  "
      ]
     },
     "execution_count": 65,
     "metadata": {},
     "output_type": "execute_result"
    }
   ],
   "source": [
    "radio_data[\"sentiment\"] = radio_data[\"compound\"].apply(categorize_sentiment)\n",
    "\n",
    "# Display the updated dataframe\n",
    "\n",
    "radio_data.head()"
   ]
  },
  {
   "cell_type": "markdown",
   "metadata": {},
   "source": [
    "---\n",
    "### Analyzing sentiment distribution"
   ]
  },
  {
   "cell_type": "code",
   "execution_count": 66,
   "metadata": {},
   "outputs": [
    {
     "name": "stdout",
     "output_type": "stream",
     "text": [
      "Sentiment distribution:\n",
      "sentiment\n",
      "positive    97\n",
      "neutral     81\n",
      "negative    32\n",
      "Name: count, dtype: int64\n",
      "Percentage of positive messages: 46.19%\n",
      "Percentage of neutral messages: 38.57%\n",
      "Percentage of negative messages: 15.24%\n"
     ]
    }
   ],
   "source": [
    "# Analyze sentiment distribution\n",
    "sentiment_counts = radio_data['sentiment'].value_counts()\n",
    "print(\"Sentiment distribution:\")\n",
    "print(sentiment_counts)\n",
    "print(f\"Percentage of positive messages: {sentiment_counts.get('positive', 0) / len(radio_data) * 100:.2f}%\")\n",
    "print(f\"Percentage of neutral messages: {sentiment_counts.get('neutral', 0) / len(radio_data) * 100:.2f}%\")\n",
    "print(f\"Percentage of negative messages: {sentiment_counts.get('negative', 0) / len(radio_data) * 100:.2f}%\")\n",
    "\n"
   ]
  },
  {
   "cell_type": "markdown",
   "metadata": {},
   "source": [
    "#### Key observations\n",
    "\n",
    "1. High positive sentiment. Much more than expected:\n",
    "\n",
    "    46.19% of messages being positive are somewhat surprising for F1 team radio, whic is primarly technical and instructional in nature. However, this can be due to the end-of-race radios, where the drivers and engineers make a summary of the race.\n",
    "\n",
    "2. Relatively low neutral percentage:\n",
    "\n",
    "    Given that most team radio communications are tactical instructions or status updates, we would expect the neutral category to be dominant. The 38.57% neutral finding is likely an underestimation.\n",
    "\n",
    "3. Potential VADER Limitations in F1 Context:\n",
    "\n",
    "    Racing-specific terminology might be misclassified (e.g., \"push now\" being seen as positive encouragement rather than a neutral tactical instruction)\n",
    "\n",
    "    Technical acknowledgments like \"copy that, understood\" might register as slightly positive.\n",
    "\n",
    "These points prove that, when labeling the data, it will be needed to define a clear context of what is a positive or negative radio message, and maybe, eliminating the end-of-race messages, because they do not give information during the race."
   ]
  },
  {
   "cell_type": "code",
   "execution_count": 67,
   "metadata": {},
   "outputs": [
    {
     "name": "stderr",
     "output_type": "stream",
     "text": [
      "C:\\Users\\victo\\AppData\\Local\\Temp\\ipykernel_27412\\3269159944.py:3: FutureWarning: \n",
      "\n",
      "Passing `palette` without assigning `hue` is deprecated and will be removed in v0.14.0. Assign the `x` variable to `hue` and set `legend=False` for the same effect.\n",
      "\n",
      "  sns.countplot(x='sentiment', data=radio_data, palette={'positive': 'green', 'neutral': 'gray', 'negative': 'red'})\n"
     ]
    },
    {
     "data": {
      "image/png": "[encoded data removed]",
      "text/plain": [
       "<Figure size 1000x600 with 1 Axes>"
      ]
     },
     "metadata": {},
     "output_type": "display_data"
    }
   ],
   "source": [
    "# Visualize sentiment distribution\n",
    "plt.figure(figsize=(10, 6))\n",
    "sns.countplot(x='sentiment', data=radio_data, palette={'positive': 'green', 'neutral': 'gray', 'negative': 'red'})\n",
    "plt.title('Sentiment Distribution of F1 Team Radio Messages', fontsize=15)\n",
    "plt.xlabel('Sentiment', fontsize=12)\n",
    "plt.ylabel('Count', fontsize=12)\n",
    "plt.xticks(rotation=0)\n",
    "plt.tight_layout()\n",
    "plt.show()"
   ]
  },
  {
   "cell_type": "markdown",
   "metadata": {},
   "source": [
    "---\n",
    "### Analyzing sentiment distribution by driver\n"
   ]
  },
  {
   "cell_type": "code",
   "execution_count": 68,
   "metadata": {},
   "outputs": [
    {
     "data": {
      "text/plain": [
       "<Figure size 1200x800 with 0 Axes>"
      ]
     },
     "metadata": {},
     "output_type": "display_data"
    },
    {
     "data": {
      "image/png": "[encoded data removed]",
      "text/plain": [
       "<Figure size 1200x800 with 1 Axes>"
      ]
     },
     "metadata": {},
     "output_type": "display_data"
    }
   ],
   "source": [
    "# Examine sentiment distribution by driver\n",
    "driver_sentiment = pd.crosstab(radio_data['driver'], radio_data['sentiment'], normalize='index') * 100\n",
    "driver_sentiment = driver_sentiment.sort_values(by='positive', ascending=False)\n",
    "\n",
    "# Plot driver sentiment distribution\n",
    "plt.figure(figsize=(12, 8))\n",
    "driver_sentiment.plot(kind='bar', stacked=True, \n",
    "                     colormap='viridis', figsize=(12, 8))\n",
    "plt.title('Sentiment Distribution by Driver (%)', fontsize=15)\n",
    "plt.xlabel('Driver', fontsize=12)\n",
    "plt.ylabel('Percentage', fontsize=12)\n",
    "plt.xticks(rotation=45)\n",
    "plt.legend(title='Sentiment')\n",
    "plt.tight_layout()\n",
    "plt.show()"
   ]
  },
  {
   "cell_type": "markdown",
   "metadata": {},
   "source": [
    "#### Key observations\n",
    "\n",
    "* *Extreme Variations Between Drivers*: The dramatic differences (from 100% positive for Driver 40 to mostly neutral for Driver 11) likely reflect VADER's limitations in interpreting F1-specific terminology rather than actual sentiment variations in communication styles.\n",
    "\n",
    "* *Systematic Pattern*: The clear gradient from left (predominantly positive) to right (increasingly neutral) suggests VADER may be biased in how it processes different communication patterns, emphasizing the need for domain-specific manual labeling.\n"
   ]
  },
  {
   "cell_type": "markdown",
   "metadata": {},
   "source": [
    "---\n",
    "### Displaying examples of each sentiment category"
   ]
  },
  {
   "cell_type": "code",
   "execution_count": 69,
   "metadata": {},
   "outputs": [],
   "source": [
    "# Display examples of each sentiment category\n",
    "def display_examples(sentiment_type, n=10):\n",
    "    examples = radio_data[radio_data['sentiment'] == sentiment_type].sort_values(\n",
    "        by='compound', ascending=(sentiment_type == 'negative'))\n",
    "    return examples[['driver', 'text', 'compound']].head(n)\n",
    "\n"
   ]
  },
  {
   "cell_type": "code",
   "execution_count": 70,
   "metadata": {},
   "outputs": [
    {
     "name": "stdout",
     "output_type": "stream",
     "text": [
      "Examples of POSITIVE messages:\n"
     ]
    },
    {
     "data": {
      "application/vnd.microsoft.datawrangler.viewer.v0+json": {
       "columns": [
        {
         "name": "index",
         "rawType": "int64",
         "type": "integer"
        },
        {
         "name": "driver",
         "rawType": "int64",
         "type": "integer"
        },
        {
         "name": "text",
         "rawType": "object",
         "type": "string"
        },
        {
         "name": "compound",
         "rawType": "float64",
         "type": "float"
        }
       ],
       "conversionMethod": "pd.DataFrame",
       "ref": "dae34a9c-2869-4a6d-9542-eb88920ce4c5",
       "rows": [
        [
         "35",
         "14",
         "Yes, sir. Yes, sir. Yes, sir. Yes, sir. Yes, sir. Yes, sir. Yes, sir. Yes, sir. Yes, sir. Yes, sir. Yes, sir. Yes, sir. Yes, sir. Yes, sir. Yes, sir. Yes, sir. Yes, sir. Yes, sir. Yes, sir. Yes, sir. Yes, sir. Yes, sir. Yes, sir. Yes, sir. Yes, sir. Yes, sir.",
         "0.9962"
        ],
        [
         "138",
         "40",
         "And that's P9 for you today. And yeah, I think that's probably gonna stay P9, it's 11 seconds to Paris. But that's the Red Bull. Good effort, good fighting out there. Okay mate, P9, should be pleased with that. We've got Pascal's ahead of us. I think you've defended very very hard. That was a good job. Mate, I gave that everything. There's nothing left. Yeah, that's what we need. That's why you're here, mate. Okay, very good race, mate. And you've got a lot of coverage. You should be pleased. Same again next week. No time to rest. I can't be there. Thank you guys for the hard work. It's good to get a couple of points. I feel like we've missed out on a bit, but you guys did a good job. And I really gave that everything. And we will do a practice start festival in Japan. Practice start festival in Japan. Please note. I know, mate, I know. Apologies guys, because that's not good enough, honestly. That's okay. That's why we're here. We'll keep working. And good job, mates. And I'm happy to get points. It's been a long, long season so far. I'm happy.",
         "0.9949"
        ],
        [
         "72",
         "22",
         "Yeah well done guys, thank you. Yeah it's the last three races, it was quite tough, quite rough from my side but yeah, it was a nice car, very nice car, amazing car. Thanks guys, what a way to finish the first half of the season. Let's keep pushing like this. Yeah, fantastic race Joachim, fantastic race.",
         "0.991"
        ],
        [
         "207",
         "81",
         "Checkered flag Oscar, well done mate, well done. Finished P7, really good job mate, 10 places in the race, fantastic. Yeah, thank you, well done. And well done to Lando as well. I saw he was there for a lot of the race so, yeah well done everybody. Thank you to my guys, I know I'm missing a couple of people and yeah, nice to get some points after yesterday so thank you very much and looking forward to Japan next week. Cheers guys.",
         "0.9867"
        ],
        [
         "16",
         "1",
         "Yeah, I gave it all. I was pretty unlucky. Still I think some okay points I guess after a difficult weekend. Yeah, well done Max. That was a really strong drive today. As GP said, we got had over by the safety car but your comeback after the stop was very, very strong. So without the safety car I think it could have been a better race for us today but good job. Yeah, until the end it was quite good, quite cool. It's been a hell of a run and yeah, it was always going to come to a close at one point but brush yourselves down and go again next weekend. Yeah, it's okay. They can take one. We'll go again next week.",
         "0.9851"
        ],
        [
         "95",
         "24",
         "So we finished P12 solid race from your side, started from the garage from the pit lane. Very good race, but unfortunately with the safety car. But yeah, good performance on P12. Yeah, thank you guys. It was a good try, we found something quite positive going for next year's event.",
         "0.9794"
        ],
        [
         "67",
         "20",
         "And just, again, just fantastic. So happy for you, happy for us. Thanks mate. Likewise mate, good job man. Proud of everyone, proud of everyone. Guys in the garage, thanks man. F***ing legends.",
         "0.9788"
        ],
        [
         "29",
         "11",
         "Ok, P8 in the end there, P8. Didn't catch a break today. Saved the car, BSC, all at the wrong time. Yes, nothing worked. What a weekend overall guys. Let's move on to Japan. Yeah, bring on Suzuka. Just for your awareness, we're under investigation, or there is an investigation for a BSC infringement when you came out alongside Alex. Investigated for causing a collision between you and Alex at turn 13. Obviously not saying anything about which way that's falling, just saying it's being looked at. Yeah, I mean, none of them. I think we're ok. That was a pretty busy 250th race, Checo. But the pace car or safety car came out at just the wrong time for us. But well done for sticking with it right to the end. Yeah, yeah guys. What a weekend anyway. Let's go on to Suzuka. I'm sure it will be a lot better. Yeah, bring on. Did Hamilton get anything for leaving the track? No, they let him off for that one. Haha, ok.",
         "0.9735"
        ],
        [
         "111",
         "31",
         "Well done mate, that was very impressive. Thank you guys. We needed one more lap unfortunately. I know, I know. One more lap would have been nice. Yeah, very good job, very good job. Yeah, nice few points, good job.",
         "0.9731"
        ],
        [
         "154",
         "44",
         "Yes mate, yes, just one more lap, I would have done it. Great job there mate, so that's P3 and fastest lap. So, yeah, I hear you Toto. Thanks so much for the support, for the positive words. It's not the easiest of weekends but good result in the end, thank you. Great pistons guys.",
         "0.9725"
        ]
       ],
       "shape": {
        "columns": 3,
        "rows": 10
       }
      },
      "text/html": [
       "<div>\n",
       "<style scoped>\n",
       "    .dataframe tbody tr th:only-of-type {\n",
       "        vertical-align: middle;\n",
       "    }\n",
       "\n",
       "    .dataframe tbody tr th {\n",
       "        vertical-align: top;\n",
       "    }\n",
       "\n",
       "    .dataframe thead th {\n",
       "        text-align: right;\n",
       "    }\n",
       "</style>\n",
       "<table border=\"1\" class=\"dataframe\">\n",
       "  <thead>\n",
       "    <tr style=\"text-align: right;\">\n",
       "      <th></th>\n",
       "      <th>driver</th>\n",
       "      <th>text</th>\n",
       "      <th>compound</th>\n",
       "    </tr>\n",
       "  </thead>\n",
       "  <tbody>\n",
       "    <tr>\n",
       "      <th>35</th>\n",
       "      <td>14</td>\n",
       "      <td>Yes, sir. Yes, sir. Yes, sir. Yes, sir. Yes, s...</td>\n",
       "      <td>0.9962</td>\n",
       "    </tr>\n",
       "    <tr>\n",
       "      <th>138</th>\n",
       "      <td>40</td>\n",
       "      <td>And that's P9 for you today. And yeah, I think...</td>\n",
       "      <td>0.9949</td>\n",
       "    </tr>\n",
       "    <tr>\n",
       "      <th>72</th>\n",
       "      <td>22</td>\n",
       "      <td>Yeah well done guys, thank you. Yeah it's the ...</td>\n",
       "      <td>0.9910</td>\n",
       "    </tr>\n",
       "    <tr>\n",
       "      <th>207</th>\n",
       "      <td>81</td>\n",
       "      <td>Checkered flag Oscar, well done mate, well don...</td>\n",
       "      <td>0.9867</td>\n",
       "    </tr>\n",
       "    <tr>\n",
       "      <th>16</th>\n",
       "      <td>1</td>\n",
       "      <td>Yeah, I gave it all. I was pretty unlucky. Sti...</td>\n",
       "      <td>0.9851</td>\n",
       "    </tr>\n",
       "    <tr>\n",
       "      <th>95</th>\n",
       "      <td>24</td>\n",
       "      <td>So we finished P12 solid race from your side, ...</td>\n",
       "      <td>0.9794</td>\n",
       "    </tr>\n",
       "    <tr>\n",
       "      <th>67</th>\n",
       "      <td>20</td>\n",
       "      <td>And just, again, just fantastic. So happy for ...</td>\n",
       "      <td>0.9788</td>\n",
       "    </tr>\n",
       "    <tr>\n",
       "      <th>29</th>\n",
       "      <td>11</td>\n",
       "      <td>Ok, P8 in the end there, P8. Didn't catch a br...</td>\n",
       "      <td>0.9735</td>\n",
       "    </tr>\n",
       "    <tr>\n",
       "      <th>111</th>\n",
       "      <td>31</td>\n",
       "      <td>Well done mate, that was very impressive. Than...</td>\n",
       "      <td>0.9731</td>\n",
       "    </tr>\n",
       "    <tr>\n",
       "      <th>154</th>\n",
       "      <td>44</td>\n",
       "      <td>Yes mate, yes, just one more lap, I would have...</td>\n",
       "      <td>0.9725</td>\n",
       "    </tr>\n",
       "  </tbody>\n",
       "</table>\n",
       "</div>"
      ],
      "text/plain": [
       "     driver                                               text  compound\n",
       "35       14  Yes, sir. Yes, sir. Yes, sir. Yes, sir. Yes, s...    0.9962\n",
       "138      40  And that's P9 for you today. And yeah, I think...    0.9949\n",
       "72       22  Yeah well done guys, thank you. Yeah it's the ...    0.9910\n",
       "207      81  Checkered flag Oscar, well done mate, well don...    0.9867\n",
       "16        1  Yeah, I gave it all. I was pretty unlucky. Sti...    0.9851\n",
       "95       24  So we finished P12 solid race from your side, ...    0.9794\n",
       "67       20  And just, again, just fantastic. So happy for ...    0.9788\n",
       "29       11  Ok, P8 in the end there, P8. Didn't catch a br...    0.9735\n",
       "111      31  Well done mate, that was very impressive. Than...    0.9731\n",
       "154      44  Yes mate, yes, just one more lap, I would have...    0.9725"
      ]
     },
     "execution_count": 70,
     "metadata": {},
     "output_type": "execute_result"
    }
   ],
   "source": [
    "print(\"Examples of POSITIVE messages:\")\n",
    "display_examples('positive')"
   ]
  },
  {
   "cell_type": "code",
   "execution_count": 71,
   "metadata": {},
   "outputs": [
    {
     "name": "stdout",
     "output_type": "stream",
     "text": [
      "\n",
      "Examples of NEUTRAL messages:\n"
     ]
    },
    {
     "data": {
      "application/vnd.microsoft.datawrangler.viewer.v0+json": {
       "columns": [
        {
         "name": "index",
         "rawType": "int64",
         "type": "integer"
        },
        {
         "name": "driver",
         "rawType": "int64",
         "type": "integer"
        },
        {
         "name": "text",
         "rawType": "object",
         "type": "string"
        },
        {
         "name": "compound",
         "rawType": "float64",
         "type": "float"
        }
       ],
       "conversionMethod": "pd.DataFrame",
       "ref": "d84b477d-a236-49c3-9c78-a67d75592055",
       "rows": [
        [
         "13",
         "1",
         "Max, I will say it again, there is no merit at this stage in being within one second of Ocon. Science is still doing 40.3s. We've been here before, we've been hurt before, you might not think you are pushing max, but the effective V-ratio as we've seen before is very low.",
         "0.0414"
        ],
        [
         "2",
         "1",
         "Mayor Manilow, mayI X TEA ****",
         "0.0"
        ],
        [
         "3",
         "1",
         "You might find this lap that you meet a little bit more water.",
         "0.0"
        ],
        [
         "5",
         "1",
         "So settle into standard race management now Max.",
         "0.0"
        ],
        [
         "4",
         "1",
         "Just another two or three minutes to get through this.",
         "0.0"
        ],
        [
         "7",
         "1",
         "This time I had reasonable deg in the first stint. I'll ask you to use your head a bit more.",
         "0.0"
        ],
        [
         "8",
         "1",
         "you",
         "0.0"
        ],
        [
         "15",
         "1",
         "So driving on ice. Understood.",
         "0.0"
        ],
        [
         "20",
         "11",
         "Some drops. There's nothing on the radar at the moment. Maybe 30 minutes away. Some drops. There's nothing on the radar at the moment. Maybe 30 minutes away. Some drops.",
         "0.0"
        ],
        [
         "21",
         "11",
         "Generally the traction is going up.",
         "0.0"
        ]
       ],
       "shape": {
        "columns": 3,
        "rows": 10
       }
      },
      "text/html": [
       "<div>\n",
       "<style scoped>\n",
       "    .dataframe tbody tr th:only-of-type {\n",
       "        vertical-align: middle;\n",
       "    }\n",
       "\n",
       "    .dataframe tbody tr th {\n",
       "        vertical-align: top;\n",
       "    }\n",
       "\n",
       "    .dataframe thead th {\n",
       "        text-align: right;\n",
       "    }\n",
       "</style>\n",
       "<table border=\"1\" class=\"dataframe\">\n",
       "  <thead>\n",
       "    <tr style=\"text-align: right;\">\n",
       "      <th></th>\n",
       "      <th>driver</th>\n",
       "      <th>text</th>\n",
       "      <th>compound</th>\n",
       "    </tr>\n",
       "  </thead>\n",
       "  <tbody>\n",
       "    <tr>\n",
       "      <th>13</th>\n",
       "      <td>1</td>\n",
       "      <td>Max, I will say it again, there is no merit at...</td>\n",
       "      <td>0.0414</td>\n",
       "    </tr>\n",
       "    <tr>\n",
       "      <th>2</th>\n",
       "      <td>1</td>\n",
       "      <td>Mayor Manilow, mayI X TEA ****</td>\n",
       "      <td>0.0000</td>\n",
       "    </tr>\n",
       "    <tr>\n",
       "      <th>3</th>\n",
       "      <td>1</td>\n",
       "      <td>You might find this lap that you meet a little...</td>\n",
       "      <td>0.0000</td>\n",
       "    </tr>\n",
       "    <tr>\n",
       "      <th>5</th>\n",
       "      <td>1</td>\n",
       "      <td>So settle into standard race management now Max.</td>\n",
       "      <td>0.0000</td>\n",
       "    </tr>\n",
       "    <tr>\n",
       "      <th>4</th>\n",
       "      <td>1</td>\n",
       "      <td>Just another two or three minutes to get throu...</td>\n",
       "      <td>0.0000</td>\n",
       "    </tr>\n",
       "    <tr>\n",
       "      <th>7</th>\n",
       "      <td>1</td>\n",
       "      <td>This time I had reasonable deg in the first st...</td>\n",
       "      <td>0.0000</td>\n",
       "    </tr>\n",
       "    <tr>\n",
       "      <th>8</th>\n",
       "      <td>1</td>\n",
       "      <td>you</td>\n",
       "      <td>0.0000</td>\n",
       "    </tr>\n",
       "    <tr>\n",
       "      <th>15</th>\n",
       "      <td>1</td>\n",
       "      <td>So driving on ice. Understood.</td>\n",
       "      <td>0.0000</td>\n",
       "    </tr>\n",
       "    <tr>\n",
       "      <th>20</th>\n",
       "      <td>11</td>\n",
       "      <td>Some drops. There's nothing on the radar at th...</td>\n",
       "      <td>0.0000</td>\n",
       "    </tr>\n",
       "    <tr>\n",
       "      <th>21</th>\n",
       "      <td>11</td>\n",
       "      <td>Generally the traction is going up.</td>\n",
       "      <td>0.0000</td>\n",
       "    </tr>\n",
       "  </tbody>\n",
       "</table>\n",
       "</div>"
      ],
      "text/plain": [
       "    driver                                               text  compound\n",
       "13       1  Max, I will say it again, there is no merit at...    0.0414\n",
       "2        1                     Mayor Manilow, mayI X TEA ****    0.0000\n",
       "3        1  You might find this lap that you meet a little...    0.0000\n",
       "5        1   So settle into standard race management now Max.    0.0000\n",
       "4        1  Just another two or three minutes to get throu...    0.0000\n",
       "7        1  This time I had reasonable deg in the first st...    0.0000\n",
       "8        1                                                you    0.0000\n",
       "15       1                     So driving on ice. Understood.    0.0000\n",
       "20      11  Some drops. There's nothing on the radar at th...    0.0000\n",
       "21      11                Generally the traction is going up.    0.0000"
      ]
     },
     "execution_count": 71,
     "metadata": {},
     "output_type": "execute_result"
    }
   ],
   "source": [
    "print(\"\\nExamples of NEUTRAL messages:\")\n",
    "display_examples('neutral')"
   ]
  },
  {
   "cell_type": "code",
   "execution_count": 72,
   "metadata": {},
   "outputs": [
    {
     "name": "stdout",
     "output_type": "stream",
     "text": [
      "\n",
      "Examples of NEGATIVE messages:\n"
     ]
    },
    {
     "data": {
      "application/vnd.microsoft.datawrangler.viewer.v0+json": {
       "columns": [
        {
         "name": "index",
         "rawType": "int64",
         "type": "integer"
        },
        {
         "name": "driver",
         "rawType": "int64",
         "type": "integer"
        },
        {
         "name": "text",
         "rawType": "object",
         "type": "string"
        },
        {
         "name": "compound",
         "rawType": "float64",
         "type": "float"
        }
       ],
       "conversionMethod": "pd.DataFrame",
       "ref": "e50dd7c2-84db-4f6e-91c0-e689263dd95d",
       "rows": [
        [
         "54",
         "18",
         "10 knots, that's P9. So bad. No balance. So much daggy. Yeah, copy, copy. Horrible, horrible race.",
         "-0.8958"
        ],
        [
         "58",
         "2",
         "Do you see the edge of the eye? Oh, left. I can't see. Guys, left by the eye, the little eye on the bottom. Oh no, sorry, I'm the wrong way. Back to the right. On the edge of the E, sorry. Nope, other edge, yep, right there. Nope, other side of the E. Yep, can you come a bit lower? Yep, right there.",
         "-0.7139"
        ],
        [
         "19",
         "1",
         "In the low speed from max steering angle to opening up I just have no traction and no missteer. Understood.",
         "-0.6705"
        ],
        [
         "201",
         "77",
         "Okay Valtteri, no more shifts, no more shifts, we need to stop the car on track, stop the car. Okay, sorry for that.",
         "-0.6486"
        ],
        [
         "143",
         "44",
         "So potential rain on the radar, 20 minutes away, not very strong though, nothing like yesterday.",
         "-0.616"
        ],
        [
         "119",
         "31",
         "No! No!",
         "-0.6103"
        ],
        [
         "86",
         "24",
         "My foot breaks guys, come on. Really bad.",
         "-0.5849"
        ],
        [
         "151",
         "44",
         "7 seconds Norris. Negative, let's go for it.",
         "-0.5719"
        ],
        [
         "23",
         "11",
         "So no effects behind, you can exaggerate the management, exaggerate the tyre management.",
         "-0.5709"
        ],
        [
         "92",
         "24",
         "Anything I can do with this break, I'm so disaster man. The moment I get to 2 seconds I'm lucky.",
         "-0.5332"
        ]
       ],
       "shape": {
        "columns": 3,
        "rows": 10
       }
      },
      "text/html": [
       "<div>\n",
       "<style scoped>\n",
       "    .dataframe tbody tr th:only-of-type {\n",
       "        vertical-align: middle;\n",
       "    }\n",
       "\n",
       "    .dataframe tbody tr th {\n",
       "        vertical-align: top;\n",
       "    }\n",
       "\n",
       "    .dataframe thead th {\n",
       "        text-align: right;\n",
       "    }\n",
       "</style>\n",
       "<table border=\"1\" class=\"dataframe\">\n",
       "  <thead>\n",
       "    <tr style=\"text-align: right;\">\n",
       "      <th></th>\n",
       "      <th>driver</th>\n",
       "      <th>text</th>\n",
       "      <th>compound</th>\n",
       "    </tr>\n",
       "  </thead>\n",
       "  <tbody>\n",
       "    <tr>\n",
       "      <th>54</th>\n",
       "      <td>18</td>\n",
       "      <td>10 knots, that's P9. So bad. No balance. So mu...</td>\n",
       "      <td>-0.8958</td>\n",
       "    </tr>\n",
       "    <tr>\n",
       "      <th>58</th>\n",
       "      <td>2</td>\n",
       "      <td>Do you see the edge of the eye? Oh, left. I ca...</td>\n",
       "      <td>-0.7139</td>\n",
       "    </tr>\n",
       "    <tr>\n",
       "      <th>19</th>\n",
       "      <td>1</td>\n",
       "      <td>In the low speed from max steering angle to op...</td>\n",
       "      <td>-0.6705</td>\n",
       "    </tr>\n",
       "    <tr>\n",
       "      <th>201</th>\n",
       "      <td>77</td>\n",
       "      <td>Okay Valtteri, no more shifts, no more shifts,...</td>\n",
       "      <td>-0.6486</td>\n",
       "    </tr>\n",
       "    <tr>\n",
       "      <th>143</th>\n",
       "      <td>44</td>\n",
       "      <td>So potential rain on the radar, 20 minutes awa...</td>\n",
       "      <td>-0.6160</td>\n",
       "    </tr>\n",
       "    <tr>\n",
       "      <th>119</th>\n",
       "      <td>31</td>\n",
       "      <td>No! No!</td>\n",
       "      <td>-0.6103</td>\n",
       "    </tr>\n",
       "    <tr>\n",
       "      <th>86</th>\n",
       "      <td>24</td>\n",
       "      <td>My foot breaks guys, come on. Really bad.</td>\n",
       "      <td>-0.5849</td>\n",
       "    </tr>\n",
       "    <tr>\n",
       "      <th>151</th>\n",
       "      <td>44</td>\n",
       "      <td>7 seconds Norris. Negative, let's go for it.</td>\n",
       "      <td>-0.5719</td>\n",
       "    </tr>\n",
       "    <tr>\n",
       "      <th>23</th>\n",
       "      <td>11</td>\n",
       "      <td>So no effects behind, you can exaggerate the m...</td>\n",
       "      <td>-0.5709</td>\n",
       "    </tr>\n",
       "    <tr>\n",
       "      <th>92</th>\n",
       "      <td>24</td>\n",
       "      <td>Anything I can do with this break, I'm so disa...</td>\n",
       "      <td>-0.5332</td>\n",
       "    </tr>\n",
       "  </tbody>\n",
       "</table>\n",
       "</div>"
      ],
      "text/plain": [
       "     driver                                               text  compound\n",
       "54       18  10 knots, that's P9. So bad. No balance. So mu...   -0.8958\n",
       "58        2  Do you see the edge of the eye? Oh, left. I ca...   -0.7139\n",
       "19        1  In the low speed from max steering angle to op...   -0.6705\n",
       "201      77  Okay Valtteri, no more shifts, no more shifts,...   -0.6486\n",
       "143      44  So potential rain on the radar, 20 minutes awa...   -0.6160\n",
       "119      31                                            No! No!   -0.6103\n",
       "86       24          My foot breaks guys, come on. Really bad.   -0.5849\n",
       "151      44       7 seconds Norris. Negative, let's go for it.   -0.5719\n",
       "23       11  So no effects behind, you can exaggerate the m...   -0.5709\n",
       "92       24  Anything I can do with this break, I'm so disa...   -0.5332"
      ]
     },
     "execution_count": 72,
     "metadata": {},
     "output_type": "execute_result"
    }
   ],
   "source": [
    "print(\"\\nExamples of NEGATIVE messages:\")\n",
    "display_examples('negative')"
   ]
  },
  {
   "cell_type": "markdown",
   "metadata": {},
   "source": [
    "---\n",
    "\n",
    "### Saving the sentiment vader results\n"
   ]
  },
  {
   "cell_type": "code",
   "execution_count": 73,
   "metadata": {},
   "outputs": [
    {
     "name": "stdout",
     "output_type": "stream",
     "text": [
      "Sentiment analysis results saved to ../../outputs/week4/radios_sentiment_vader.csv\n"
     ]
    }
   ],
   "source": [
    "output_path = \"../../outputs/week4/radios_sentiment_vader.csv\"\n",
    "radio_data.to_csv(output_path, index = False)\n",
    "print(f\"Sentiment analysis results saved to {output_path}\")"
   ]
  },
  {
   "cell_type": "markdown",
   "metadata": {},
   "source": [
    "---\n",
    "\n",
    "## Making metrics for future comparison with other models"
   ]
  },
  {
   "cell_type": "code",
   "execution_count": 74,
   "metadata": {},
   "outputs": [
    {
     "name": "stdout",
     "output_type": "stream",
     "text": [
      "Summary metrics:\n"
     ]
    },
    {
     "data": {
      "application/vnd.microsoft.datawrangler.viewer.v0+json": {
       "columns": [
        {
         "name": "index",
         "rawType": "int64",
         "type": "integer"
        },
        {
         "name": "model",
         "rawType": "object",
         "type": "string"
        },
        {
         "name": "positive_percentage",
         "rawType": "float64",
         "type": "float"
        },
        {
         "name": "neutral_percentage",
         "rawType": "float64",
         "type": "float"
        },
        {
         "name": "negative_percentage",
         "rawType": "float64",
         "type": "float"
        },
        {
         "name": "average_compound",
         "rawType": "float64",
         "type": "float"
        },
        {
         "name": "std_compound",
         "rawType": "float64",
         "type": "float"
        }
       ],
       "conversionMethod": "pd.DataFrame",
       "ref": "8b47e0d9-cd11-43c1-994b-78c540672a5d",
       "rows": [
        [
         "0",
         "VADER",
         "46.19047619047619",
         "38.57142857142858",
         "15.238095238095239",
         "0.20106095238095237",
         "0.41358996047509083"
        ]
       ],
       "shape": {
        "columns": 6,
        "rows": 1
       }
      },
      "text/html": [
       "<div>\n",
       "<style scoped>\n",
       "    .dataframe tbody tr th:only-of-type {\n",
       "        vertical-align: middle;\n",
       "    }\n",
       "\n",
       "    .dataframe tbody tr th {\n",
       "        vertical-align: top;\n",
       "    }\n",
       "\n",
       "    .dataframe thead th {\n",
       "        text-align: right;\n",
       "    }\n",
       "</style>\n",
       "<table border=\"1\" class=\"dataframe\">\n",
       "  <thead>\n",
       "    <tr style=\"text-align: right;\">\n",
       "      <th></th>\n",
       "      <th>model</th>\n",
       "      <th>positive_percentage</th>\n",
       "      <th>neutral_percentage</th>\n",
       "      <th>negative_percentage</th>\n",
       "      <th>average_compound</th>\n",
       "      <th>std_compound</th>\n",
       "    </tr>\n",
       "  </thead>\n",
       "  <tbody>\n",
       "    <tr>\n",
       "      <th>0</th>\n",
       "      <td>VADER</td>\n",
       "      <td>46.190476</td>\n",
       "      <td>38.571429</td>\n",
       "      <td>15.238095</td>\n",
       "      <td>0.201061</td>\n",
       "      <td>0.41359</td>\n",
       "    </tr>\n",
       "  </tbody>\n",
       "</table>\n",
       "</div>"
      ],
      "text/plain": [
       "   model  positive_percentage  neutral_percentage  negative_percentage  \\\n",
       "0  VADER            46.190476           38.571429            15.238095   \n",
       "\n",
       "   average_compound  std_compound  \n",
       "0          0.201061       0.41359  "
      ]
     },
     "execution_count": 74,
     "metadata": {},
     "output_type": "execute_result"
    }
   ],
   "source": [
    "# Calculate metrics for future comparison with other models\n",
    "metrics = {\n",
    "    'model': 'VADER',\n",
    "    'positive_percentage': sentiment_counts.get('positive', 0) / len(radio_data) * 100,\n",
    "    'neutral_percentage': sentiment_counts.get('neutral', 0) / len(radio_data) * 100,\n",
    "    'negative_percentage': sentiment_counts.get('negative', 0) / len(radio_data) * 100,\n",
    "    'average_compound': radio_data['compound'].mean(),\n",
    "    'std_compound': radio_data['compound'].std()\n",
    "}\n",
    "\n",
    "metrics_df = pd.DataFrame([metrics])\n",
    "metrics_df.to_csv('../../outputs/week4/sentiment_metrics_vader.csv', index=False)\n",
    "print(\"Summary metrics:\")\n",
    "metrics_df"
   ]
  },
  {
   "cell_type": "markdown",
   "metadata": {},
   "source": [
    "--- \n",
    "\n",
    "## Next Steps: BERT-based Sentiment Analysis\n",
    "\n",
    "While NLTK's VADER provides a quick, lexicon-based sentiment analysis, deep learning models \n",
    "like BERT can potentially offer better performance, especially for domain-specific language \n",
    "like F1 team radio communications.\n",
    "\n",
    "Moreover, with this sentiment analysis, we can´t extract metrics for mistakes, like false positives. For this, we´ll need to label the data.\n",
    "\n",
    "### But first: labeling the data\n",
    "\n",
    "I think it is a good idea to label myself the data. With the correct labeling, I can try to make a comparison between the results given by VADER and then the others.\n",
    "\n",
    "Because of that, I´ll add the `N00_labeling_radios.ipynb`, where I will label the data.\n",
    "\n",
    "But...\n",
    "\n",
    "#### **When labeling data, we will exclude end-of-race messages for the following reasons:**\n",
    "Why?\n",
    "\n",
    "* Project Focus: Our model aims to support real-time strategic decision-making during races, not post-race analysis.\n",
    "\n",
    "* Different Context: End-of-race communications follow different patterns (congratulatory, reflective) than tactical in-race messages.\n",
    "\n",
    "* Sentiment Distortion: Including these highly emotional messages would create an unrealistic sentiment distribution compared to the strategic communications we need to analyze.\n",
    "\n",
    "#### Therefore, in the labelling radios notebook, I´ll make this cleaning before labeling. If the dataset gets highly reduced, I may need to rerun the code with new radio messages. \n",
    "---\n",
    "### Approaches for BERT-based sentiment analysis:\n",
    "\n",
    "1. **Using pretrained BERT models**:\n",
    "   - Apply a pretrained BERT model fine-tuned for sentiment analysis (e.g., from Hugging Face)\n",
    "   - This approach doesn't require labeled data from our domain\n",
    "\n",
    "2. **Fine-tuning BERT with our data**:\n",
    "   - Requires manually labeling a subset of our radio messages\n",
    "   - Could capture F1-specific sentiment expressions better\n",
    "   - Steps:\n",
    "     a. Sample a subset of messages (e.g., 100-200)\n",
    "     b. Manually label them (positive, neutral, negative)\n",
    "     c. Fine-tune a pretrained BERT model with these labeled examples\n",
    "     d. Evaluate performance\n",
    "---\n",
    "## Metrics for comparison:\n",
    "- Distribution of sentiment categories\n",
    "- Manual evaluation of a sample of predictions\n",
    "- If we create a labeled test set, we can calculate precision, recall, and F1 scores\n"
   ]
  }
 ],
 "metadata": {
  "kernelspec": {
   "display_name": "f1_strat_manager",
   "language": "python",
   "name": "python3"
  },
  "language_info": {
   "codemirror_mode": {
    "name": "ipython",
    "version": 3
   },
   "file_extension": ".py",
   "mimetype": "text/x-python",
   "name": "python",
   "nbconvert_exporter": "python",
   "pygments_lexer": "ipython3",
   "version": "3.10.16"
  }
 },
 "nbformat": 4,
 "nbformat_minor": 2
}
