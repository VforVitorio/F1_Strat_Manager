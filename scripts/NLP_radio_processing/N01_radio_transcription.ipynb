{
 "cells": [
  {
   "cell_type": "markdown",
   "metadata": {},
   "source": [
    "# Radio Transcrtiption using Whisper\n",
    "\n",
    "This notebook will implement the necessary code for making the transcription of all our team message radios.\n",
    "\n",
    "\n",
    "First, I need to **import the modules** and **verifying cuda is detecting my GPU**:\n",
    "\n",
    "---"
   ]
  },
  {
   "cell_type": "code",
   "execution_count": 3,
   "metadata": {},
   "outputs": [],
   "source": [
    "import os\n",
    "import glob\n",
    "import pandas as pd\n",
    "import torch\n",
    "import whisper\n",
    "from tqdm.notebook import tqdm\n",
    "import librosa\n",
    "import numpy as np\n",
    "import matplotlib.pyplot as plt"
   ]
  },
  {
   "cell_type": "code",
   "execution_count": 4,
   "metadata": {},
   "outputs": [
    {
     "name": "stdout",
     "output_type": "stream",
     "text": [
      "CUDA available: True\n",
      "CUDA device: NVIDIA GeForce RTX 4060 Laptop GPU\n"
     ]
    }
   ],
   "source": [
    "import torch\n",
    "print(f\"CUDA available: {torch.cuda.is_available()}\")\n",
    "if torch.cuda.is_available():\n",
    "    print(f\"CUDA device: {torch.cuda.get_device_name(0)}\")"
   ]
  },
  {
   "cell_type": "markdown",
   "metadata": {},
   "source": [
    "## Loading audio files\n",
    "\n",
    "---"
   ]
  },
  {
   "cell_type": "code",
   "execution_count": 5,
   "metadata": {},
   "outputs": [],
   "source": [
    "def load_audio_files(audio_dir = \"../../f1-strategy/data/audio\"):\n",
    "    \"\"\"\n",
    "    Load all audio files from the directory structure.\n",
    "    \n",
    "    Parameters:\n",
    "    -----------\n",
    "    audio_dir : str\n",
    "        Path to the main audio directory that contains driver subdirectories\n",
    "        \n",
    "    Returns:\n",
    "    --------\n",
    "    list\n",
    "        List of dictionaries containing audio file paths and metadata\n",
    "    \"\"\"\n",
    "    audio_files = []\n",
    "\n",
    "\n",
    "    # Find all driver directories. For this, we use driver_* for matching every directory\n",
    "\n",
    "    driver_dirs = glob.glob(os.path.join(audio_dir, 'driver_*'))\n",
    "\n",
    "    for driver_dir in driver_dirs:\n",
    "        # Extract the driver number out of the directory name\n",
    "\n",
    "        driver_num = os.path.basename(driver_dir).replace('driver_(', '').replace(',)', '')\n",
    "        # Find all audio files in this driver directory.\n",
    "        # For now, only mp3 is in our directory. \n",
    "        # However, we add all those extensions if the directory changes in the future\n",
    "        files = glob.glob(os.path.join(driver_dir, '*.mp3')) + \\\n",
    "                glob.glob(os.path.join(driver_dir, '*.wav')) + \\\n",
    "                glob.glob(os.path.join(driver_dir, '*.m4a')) + \\\n",
    "                glob.glob(os.path.join(driver_dir, '*.ogg'))\n",
    "        \n",
    "        for file_path in files:\n",
    "            # Get the filename without the extension\n",
    "            filename = os.path.basename(file_path)\n",
    "\n",
    "            # Add to the list of audio files\n",
    "            audio_files.append(\n",
    "                {\n",
    "                    \"driver\": driver_num,\n",
    "                    \"file_path\": file_path,\n",
    "                    \"filename\": filename\n",
    "                }\n",
    "            )\n",
    "    print(f\"Found {len(audio_files)} audio files across {len(driver_dir)} driver directories\")\n",
    "\n",
    "    return audio_files"
   ]
  },
  {
   "cell_type": "markdown",
   "metadata": {},
   "source": [
    "Now, I´ll store all this audio files in a variable for transcribing them with Whisper"
   ]
  },
  {
   "cell_type": "code",
   "execution_count": 6,
   "metadata": {},
   "outputs": [
    {
     "name": "stdout",
     "output_type": "stream",
     "text": [
      "Found 210 audio files across 41 driver directories\n",
      "\n",
      "First 5 audio files\n",
      "Driver: 1, File: driver_(1,)_belgium_radio_39.mp3\n",
      "Driver: 1, File: driver_(1,)_belgium_radio_40.mp3\n",
      "Driver: 1, File: driver_(1,)_belgium_radio_60.mp3\n",
      "Driver: 1, File: driver_(1,)_belgium_radio_62.mp3\n",
      "Driver: 1, File: driver_(1,)_belgium_radio_63.mp3\n"
     ]
    }
   ],
   "source": [
    "# EXECUTION CELL\n",
    "\n",
    "audio_files = load_audio_files()\n",
    "\n",
    "# Display the first few files with a simple verifying\n",
    "if audio_files:\n",
    "    print(\"\\nFirst 5 audio files\")\n",
    "    for file in audio_files[:5]:\n",
    "        print(f\"Driver: {file['driver']}, File: {file['filename']}\")\n",
    "else:\n",
    "    print(\"No audio files found. Check the path or add more debugging messages\")"
   ]
  },
  {
   "cell_type": "markdown",
   "metadata": {},
   "source": [
    "## Transcribring the audios with Whisper"
   ]
  },
  {
   "cell_type": "code",
   "execution_count": null,
   "metadata": {},
   "outputs": [],
   "source": []
  }
 ],
 "metadata": {
  "kernelspec": {
   "display_name": "f1_strat_manager",
   "language": "python",
   "name": "python3"
  },
  "language_info": {
   "codemirror_mode": {
    "name": "ipython",
    "version": 3
   },
   "file_extension": ".py",
   "mimetype": "text/x-python",
   "name": "python",
   "nbconvert_exporter": "python",
   "pygments_lexer": "ipython3",
   "version": "3.10.16"
  }
 },
 "nbformat": 4,
 "nbformat_minor": 2
}
