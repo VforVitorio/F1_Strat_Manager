{
 "cells": [
  {
   "cell_type": "markdown",
   "metadata": {},
   "source": [
    "# Model Merging \n",
    "\n",
    "I am now at the end of the pipeline that I defined in `N04_radio_info.ipynb`:\n",
    "\n",
    "$Radio Message → [Sentiment Analysis] → [Intent Classification] → [Entity Extraction] → Structured Data$\n",
    "\n",
    "The Structured data is neccesary to output a **standarized JSON format** that would be used by the logical agent in week 5 planning, alongside other models.\n",
    "\n",
    "## Objetives of this notebook\n",
    "\n",
    "The objectives and task to be done in this notebook are the following ones:\n",
    "\n",
    "1. *Configure the mmodel paths*: first step, where I will configure the structure of the JSON.\n",
    "\n",
    "2. *Load the pretrained models*: I will implement a function that will load the three elected models for making the radio analysis.\n",
    "\n",
    "3. *Prediction functions*: for each mdel, it is necessary to implement a function where each models make their predictions.\n",
    "\n",
    "4. *Audio Transcription*: first example usage, where I´ll use again Whisper for transcribing the radio message. Important for the urute if we want to directly pass the agent radio messages by radio.\n",
    "\n",
    "5. *Integrating the pipeline into a single function*: this function will make the predictions of the three models.\n",
    "\n",
    "6. *Analyzing text or audio examples*: two cells are going to be implemented for making the predictions in different types of radio formats.\n"
   ]
  },
  {
   "cell_type": "markdown",
   "metadata": {},
   "source": [
    "---"
   ]
  },
  {
   "cell_type": "markdown",
   "metadata": {},
   "source": []
  },
  {
   "cell_type": "code",
   "execution_count": null,
   "metadata": {
    "vscode": {
     "languageId": "plaintext"
    }
   },
   "outputs": [],
   "source": []
  }
 ],
 "metadata": {
  "language_info": {
   "name": "python"
  }
 },
 "nbformat": 4,
 "nbformat_minor": 2
}
