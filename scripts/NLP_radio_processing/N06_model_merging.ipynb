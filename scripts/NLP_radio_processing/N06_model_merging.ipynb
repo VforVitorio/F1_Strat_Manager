{
 "cells": [
  {
   "cell_type": "markdown",
   "metadata": {},
   "source": [
    "# Model Merging \n",
    "\n",
    "I am now at the end of the pipeline that I defined in `N04_radio_info.ipynb`:\n",
    "\n",
    "$Radio Message → [Sentiment Analysis] → [Intent Classification] → [Entity Extraction] → Structured Data$\n",
    "\n",
    "The Structured data is neccesary to output a **standarized JSON format** that would be used by the logical agent in week 5 planning, alongside other models.\n",
    "\n",
    "## Objetives of this notebook\n",
    "\n",
    "The objectives and task to be done in this notebook are the following ones:\n",
    "\n",
    "1. *Configure the mmodel paths*: first step, where I will configure the structure of the JSON.\n",
    "\n",
    "2. *Load the pretrained models*: I will implement a function that will load the three elected models for making the radio analysis.\n",
    "\n",
    "3. *Prediction functions*: for each model, it is necessary to implement a function where each models make their predictions.\n",
    "\n",
    "4. *Audio Transcription*: first example usage, where I´ll use again Whisper for transcribing the radio message. Important for the urute if we want to directly pass the agent radio messages by radio.\n",
    "\n",
    "5. *Integrating the pipeline into a single function*: this function will make the predictions of the three models.\n",
    "\n",
    "6. *Analyzing text or audio examples*: two cells are going to be implemented for making the predictions in different types of radio formats.\n"
   ]
  },
  {
   "cell_type": "markdown",
   "metadata": {},
   "source": [
    "---"
   ]
  },
  {
   "cell_type": "markdown",
   "metadata": {},
   "source": [
    "## 1. Import Necessary Libraries"
   ]
  },
  {
   "cell_type": "code",
   "execution_count": 100,
   "metadata": {},
   "outputs": [],
   "source": [
    "import json\n",
    "import os\n",
    "import torch\n",
    "import numpy as np\n",
    "from transformers import AutoTokenizer, AutoModelForSequenceClassification, AutoModelForTokenClassification\n",
    "import spacy\n",
    "import whisper\n",
    "import torch\n",
    "from transformers import BertForTokenClassification, BertConfig, BertTokenizer\n"
   ]
  },
  {
   "cell_type": "markdown",
   "metadata": {},
   "source": [
    "## 2. Configuration\n",
    "\n",
    "In this cell, I will configure the format of the JSON. It is necessary to specify:\n",
    "\n",
    "- The model paths: \n",
    "    - ``../../outputs/week4/models/best_roberta_sentiment_model.pt``: best sentiment model developed.\n",
    "    - ``../../outputs/week4/models/best_roberta_large_intent_model.pt``: best intent model developed.\n",
    "    - ``../../outputs/week4/models/best_focused_bert_model.pt``: best NER model.\n",
    "    - `Whisper turbo` model.\n",
    "    \n",
    "- Label mapppings of the models:\n",
    "    - **sentiment**: positive, negative, neutral.\n",
    "    - **intention**: INFORMATION, PROBLEM, ORDER, STRATEGY, WARNING, QUESTION.\n",
    "    - **NER**: ACTION, SITUATION, INCIDENT, STRATEGY_INSTRUCTION, POSITION_CHANGE, PIT_CALL, TRACK_CONDITION, TECHNICAL_ISSUE, WEATHER.\n",
    "\n",
    "- Demo input for making the correct structure."
   ]
  },
  {
   "cell_type": "code",
   "execution_count": 101,
   "metadata": {},
   "outputs": [
    {
     "name": "stdout",
     "output_type": "stream",
     "text": [
      "Configuration loaded successfully\n"
     ]
    }
   ],
   "source": [
    "# Configure model paths and settings - adjusted to match your specific models\n",
    "CONFIG = {\n",
    "    # Model paths\n",
    "    \"sentiment_model_path\": \"../../outputs/week4/models/best_roberta_sentiment_model.pt\",\n",
    "    \"intent_model_path\": \"../../outputs/week4/models/best_roberta_large_intent_model.pt\",\n",
    "    \"ner_model_path\": \"../../outputs/week4/models/best_focused_bert_model.pt\",\n",
    "    \"whisper_model_size\": \"turbo\",  # Using Whisper turbo \n",
    "    \n",
    "    # Label mappings\n",
    "    \"sentiment_labels\": [\"positive\", \"negative\", \"neutral\"],\n",
    "    \"intent_labels\": [\"INFORMATION\", \"PROBLEM\", \"ORDER\",  \"WARNING\", \"QUESTION\"],\n",
    "    \n",
    "    # Entity mapping (SpaCy entity labels → output format)\n",
    "    \"entity_mapping\": {\n",
    "        \"B-ACTION\": \"action\",\n",
    "        \"I-ACTION\": \"action\",\n",
    "        \"B-INCIDENT\": \"incident\",\n",
    "        \"I-INCIDENT\": \"incident\",\n",
    "        \"B-PIT_CALL\": \"pit\",\n",
    "        \"I-PIT_CALL\": \"pit\",\n",
    "        \"B-POSITION_CHANGE\": \"position\",\n",
    "        \"I-POSITION_CHANGE\": \"position\",\n",
    "        \"B-SITUATION\": \"situation\",\n",
    "        \"I-SITUATION\": \"situation\",\n",
    "        \"B-STRATEGY_INSTRUCTION\": \"strategy\",\n",
    "        \"I-STRATEGY_INSTRUCTION\": \"strategy\",\n",
    "        \"B-TECHNICAL_ISSUE\": \"technical\",\n",
    "        \"I-TECHNICAL_ISSUE\": \"technical\",\n",
    "        \"B-TRACK_CONDITION\": \"track\",\n",
    "        \"I-TRACK_CONDITION\": \"track\",\n",
    "        \"B-WEATHER\": \"weather\",\n",
    "        \"I-WEATHER\": \"weather\",\n",
    "        \"O\": \"O\"\n",
    "        },\n",
    "    \n",
    "    # Demo inputs\n",
    "    \"example_text\": \"Box this lap for softs, Hamilton is catching up\"\n",
    "}\n",
    "\n",
    "print(\"Configuration loaded successfully\")\n"
   ]
  },
  {
   "cell_type": "markdown",
   "metadata": {},
   "source": [
    "---"
   ]
  },
  {
   "cell_type": "markdown",
   "metadata": {},
   "source": [
    "## 3. Loading Sentiment Model"
   ]
  },
  {
   "cell_type": "code",
   "execution_count": 102,
   "metadata": {},
   "outputs": [],
   "source": [
    "def load_sentiment_model(device=\"cuda\" if torch.cuda.is_available() else \"cpu\"):\n",
    "    \"\"\"\n",
    "    Load the sentiment analysis model\n",
    "    \n",
    "    Args:\n",
    "        device: Device to load the model on ('cuda' or 'cpu')\n",
    "        \n",
    "    Returns:\n",
    "        Dictionary containing the loaded model and tokenizer\n",
    "    \"\"\"\n",
    "    print(f\"Loading sentiment model on {device}...\")\n",
    "    \n",
    "    # Define base model for sentiment analysis\n",
    "    base_model = \"roberta-base\"\n",
    "    \n",
    "    # Load tokenizer\n",
    "    tokenizer = AutoTokenizer.from_pretrained(base_model)\n",
    "    \n",
    "    # Load model\n",
    "    model = AutoModelForSequenceClassification.from_pretrained(\n",
    "        base_model, \n",
    "        num_labels=len(CONFIG[\"sentiment_labels\"])\n",
    "    )\n",
    "    \n",
    "    # Load fine-tuned weights\n",
    "    model.load_state_dict(torch.load(CONFIG[\"sentiment_model_path\"], map_location=device))\n",
    "    \n",
    "    # Move model to specified device and set to evaluation mode\n",
    "    model.to(device)\n",
    "    model.eval()\n",
    "    \n",
    "    print(\"Sentiment model loaded successfully!\")\n",
    "    \n",
    "    return {\n",
    "        \"tokenizer\": tokenizer,\n",
    "        \"model\": model\n",
    "    }\n",
    "\n"
   ]
  },
  {
   "cell_type": "markdown",
   "metadata": {},
   "source": [
    "---"
   ]
  },
  {
   "cell_type": "markdown",
   "metadata": {},
   "source": [
    "## 4. Loading Intent Model"
   ]
  },
  {
   "cell_type": "code",
   "execution_count": 103,
   "metadata": {},
   "outputs": [],
   "source": [
    "def load_intent_model(device=\"cuda\" if torch.cuda.is_available() else \"cpu\"):\n",
    "    \"\"\"\n",
    "    Load the intent classification model\n",
    "    \n",
    "    Args:\n",
    "        device: Device to load the model on ('cuda' or 'cpu')\n",
    "        \n",
    "    Returns:\n",
    "        Dictionary containing the loaded model and tokenizer\n",
    "    \"\"\"\n",
    "    print(f\"Loading intent classification model on {device}...\")\n",
    "    \n",
    "    # Define base model for intent classification\n",
    "    base_model = \"roberta-large\"\n",
    "    \n",
    "    # Load tokenizer\n",
    "    tokenizer = AutoTokenizer.from_pretrained(base_model)\n",
    "    \n",
    "    # Load model\n",
    "    model = AutoModelForSequenceClassification.from_pretrained(\n",
    "        base_model, \n",
    "        num_labels=len(CONFIG[\"intent_labels\"])\n",
    "    )\n",
    "    \n",
    "    # Load fine-tuned weights\n",
    "    model.load_state_dict(torch.load(CONFIG[\"intent_model_path\"], map_location=device))\n",
    "    \n",
    "    # Move model to specified device and set to evaluation mode\n",
    "    model.to(device)\n",
    "    model.eval()\n",
    "    \n",
    "    print(\"Intent classification model loaded successfully!\")\n",
    "    \n",
    "    return {\n",
    "        \"tokenizer\": tokenizer,\n",
    "        \"model\": model\n",
    "    }\n",
    "\n"
   ]
  },
  {
   "cell_type": "markdown",
   "metadata": {},
   "source": [
    "---"
   ]
  },
  {
   "cell_type": "markdown",
   "metadata": {},
   "source": [
    "## 5. Loading NER model"
   ]
  },
  {
   "cell_type": "code",
   "execution_count": 104,
   "metadata": {},
   "outputs": [],
   "source": [
    "def load_bert_ner_model(CONFIG, device=\"cuda\" if torch.cuda.is_available() else \"cpu\"):\n",
    "    \n",
    "    # Create an initial congiguration based on the pretrained model, but with 19 labels\n",
    "    config = BertConfig.from_pretrained(\n",
    "        \"dbmdz/bert-large-cased-finetuned-conll03-english\",\n",
    "        num_labels=len(CONFIG[\"entity_mapping\"])\n",
    "    )\n",
    "\n",
    "    # Initilialize the model with this cofiguration\n",
    "    model = BertForTokenClassification(config)\n",
    "\n",
    "    # Load the weights of trained checkpoint with 19 labels\n",
    "    model.load_state_dict(torch.load(CONFIG[\"ner_model_path\"], map_location=device))\n",
    "    model.to(device)\n",
    "    model.eval()\n",
    "\n",
    "    # Load the tokenizer of the pretrained model\n",
    "    tokenizer = BertTokenizer.from_pretrained(\"dbmdz/bert-large-cased-finetuned-conll03-english\")\n",
    "\n",
    "    print(\"NER classification model loaded successfully!\")\n",
    "    return {\n",
    "        \"tokenizer\": tokenizer,\n",
    "        \"model\": model\n",
    "    }\n"
   ]
  },
  {
   "cell_type": "markdown",
   "metadata": {},
   "source": [
    "---"
   ]
  },
  {
   "cell_type": "markdown",
   "metadata": {},
   "source": [
    "## 5. Sentiment Prediction Function"
   ]
  },
  {
   "cell_type": "code",
   "execution_count": 105,
   "metadata": {},
   "outputs": [],
   "source": [
    "def predict_sentiment(text, model, tokenizer, device=\"cuda\" if torch.cuda.is_available() else \"cpu\"):\n",
    "    \"\"\"\n",
    "    Predicts the sentiment of an F1 radio message.\n",
    "    \n",
    "    Args:\n",
    "        text (str): Text of the radio message.\n",
    "        model: Sentiment model.\n",
    "        tokenizer: Tokenizer for preprocessing the text.\n",
    "        device: Device for inference.\n",
    "        \n",
    "    Returns:\n",
    "        dict: Dictionary with text, sentiment, and confidence.\n",
    "    \"\"\"\n",
    "    # Tokenize the text\n",
    "    encoded_text = tokenizer(\n",
    "        text,\n",
    "        truncation=True,\n",
    "        padding='max_length',\n",
    "        max_length=128,\n",
    "        return_tensors='pt'\n",
    "    )\n",
    "    \n",
    "    # Move inputs to the device\n",
    "    input_ids = encoded_text['input_ids'].to(device)\n",
    "    attention_mask = encoded_text['attention_mask'].to(device)\n",
    "    \n",
    "    # Predict\n",
    "    with torch.no_grad():\n",
    "        outputs = model(input_ids, attention_mask=attention_mask)\n",
    "        logits = outputs.logits\n",
    "        probabilities = torch.nn.functional.softmax(logits, dim=1)\n",
    "        pred_class = torch.argmax(probabilities, dim=1).item()\n",
    "        confidence = probabilities[0][pred_class].item()\n",
    "    \n",
    "    # Map prediction to sentiment\n",
    "    sentiments = ['positive', 'neutral', 'negative']\n",
    "    \n",
    "    # Return result as a dictionary\n",
    "    result = {\n",
    "        \"text\": text,\n",
    "        \"sentiment\": sentiments[pred_class],\n",
    "        \"confidence\": round(confidence * 100, 2)  # Convert to percentage\n",
    "    }\n",
    "    \n",
    "    return result"
   ]
  },
  {
   "cell_type": "code",
   "execution_count": 106,
   "metadata": {},
   "outputs": [
    {
     "name": "stdout",
     "output_type": "stream",
     "text": [
      "Loading sentiment model on cuda...\n"
     ]
    },
    {
     "name": "stderr",
     "output_type": "stream",
     "text": [
      "Some weights of RobertaForSequenceClassification were not initialized from the model checkpoint at roberta-base and are newly initialized: ['classifier.dense.bias', 'classifier.dense.weight', 'classifier.out_proj.bias', 'classifier.out_proj.weight']\n",
      "You should probably TRAIN this model on a down-stream task to be able to use it for predictions and inference.\n",
      "C:\\Users\\victo\\AppData\\Local\\Temp\\ipykernel_13796\\1002156124.py:26: FutureWarning: You are using `torch.load` with `weights_only=False` (the current default value), which uses the default pickle module implicitly. It is possible to construct malicious pickle data which will execute arbitrary code during unpickling (See https://github.com/pytorch/pytorch/blob/main/SECURITY.md#untrusted-models for more details). In a future release, the default value for `weights_only` will be flipped to `True`. This limits the functions that could be executed during unpickling. Arbitrary objects will no longer be allowed to be loaded via this mode unless they are explicitly allowlisted by the user via `torch.serialization.add_safe_globals`. We recommend you start setting `weights_only=True` for any use case where you don't have full control of the loaded file. Please open an issue on GitHub for any issues related to this experimental feature.\n",
      "  model.load_state_dict(torch.load(CONFIG[\"sentiment_model_path\"], map_location=device))\n"
     ]
    },
    {
     "name": "stdout",
     "output_type": "stream",
     "text": [
      "Sentiment model loaded successfully!\n",
      "Tokenizer type: <class 'transformers.models.roberta.tokenization_roberta_fast.RobertaTokenizerFast'>\n",
      "Model type: <class 'transformers.models.roberta.modeling_roberta.RobertaForSequenceClassification'>\n"
     ]
    }
   ],
   "source": [
    "# Load model and tokenizer\n",
    "sentiment_result = load_sentiment_model()\n",
    "sentiment_model = sentiment_result[\"model\"]\n",
    "sentiment_tokenizer = sentiment_result[\"tokenizer\"]\n",
    "\n",
    "# Verify that they loaded correctly\n",
    "print(f\"Tokenizer type: {type(sentiment_tokenizer)}\")\n",
    "print(f\"Model type: {type(sentiment_model)}\")\n"
   ]
  },
  {
   "cell_type": "code",
   "execution_count": null,
   "metadata": {},
   "outputs": [
    {
     "name": "stdout",
     "output_type": "stream",
     "text": [
      "Text: 'Great move Oscar'\n",
      "Sentiment: positive\n",
      "Confidence: 59.62%\n"
     ]
    }
   ],
   "source": [
    "# Example radio message\n",
    "radio_message = \"Great move Oscar\"\n",
    "\n",
    "# Predict sentiment\n",
    "prediction = predict_sentiment(radio_message, sentiment_model, sentiment_tokenizer)\n",
    "print(f\"Text: '{prediction['text']}'\")\n",
    "print(f\"Sentiment: {prediction['sentiment']}\")\n",
    "print(f\"Confidence: {prediction['confidence']}%\")"
   ]
  },
  {
   "cell_type": "markdown",
   "metadata": {},
   "source": [
    "---"
   ]
  },
  {
   "cell_type": "markdown",
   "metadata": {},
   "source": [
    "## 6. Intent Prediction Function"
   ]
  },
  {
   "cell_type": "code",
   "execution_count": null,
   "metadata": {},
   "outputs": [],
   "source": []
  },
  {
   "cell_type": "code",
   "execution_count": null,
   "metadata": {},
   "outputs": [],
   "source": []
  }
 ],
 "metadata": {
  "kernelspec": {
   "display_name": "f1_strat_manager",
   "language": "python",
   "name": "python3"
  },
  "language_info": {
   "codemirror_mode": {
    "name": "ipython",
    "version": 3
   },
   "file_extension": ".py",
   "mimetype": "text/x-python",
   "name": "python",
   "nbconvert_exporter": "python",
   "pygments_lexer": "ipython3",
   "version": "3.10.16"
  }
 },
 "nbformat": 4,
 "nbformat_minor": 2
}
