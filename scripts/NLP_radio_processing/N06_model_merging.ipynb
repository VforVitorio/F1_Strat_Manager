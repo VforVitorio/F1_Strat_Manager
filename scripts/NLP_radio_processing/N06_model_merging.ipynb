{
 "cells": [
  {
   "cell_type": "markdown",
   "metadata": {},
   "source": [
    "# Model Merging \n",
    "\n",
    "I am now at the end of the pipeline that I defined in `N04_radio_info.ipynb`:\n",
    "\n",
    "$Radio Message → [Sentiment Analysis] → [Intent Classification] → [Entity Extraction] → Structured Data$\n",
    "\n",
    "The Structured data is neccesary to output a **standarized JSON format** that would be used by the logical agent in week 5 planning, alongside other models.\n",
    "\n",
    "## Objetives of this notebook\n",
    "\n",
    "The objectives and task to be done in this notebook are the following ones:\n",
    "\n",
    "1. *Configure the mmodel paths*: first step, where I will configure the structure of the JSON.\n",
    "\n",
    "2. *Load the pretrained models*: I will implement a function that will load the three elected models for making the radio analysis.\n",
    "\n",
    "3. *Prediction functions*: for each mdel, it is necessary to implement a function where each models make their predictions.\n",
    "\n",
    "4. *Audio Transcription*: first example usage, where I´ll use again Whisper for transcribing the radio message. Important for the urute if we want to directly pass the agent radio messages by radio.\n",
    "\n",
    "5. *Integrating the pipeline into a single function*: this function will make the predictions of the three models.\n",
    "\n",
    "6. *Analyzing text or audio examples*: two cells are going to be implemented for making the predictions in different types of radio formats.\n"
   ]
  },
  {
   "cell_type": "markdown",
   "metadata": {},
   "source": [
    "---"
   ]
  },
  {
   "cell_type": "markdown",
   "metadata": {},
   "source": [
    "## 1. Import Necessary Libraries"
   ]
  },
  {
   "cell_type": "code",
   "execution_count": 2,
   "metadata": {},
   "outputs": [],
   "source": [
    "import json\n",
    "import os\n",
    "import torch\n",
    "import numpy as np\n",
    "from transformers import AutoTokenizer, AutoModelForSequenceClassification\n",
    "import spacy\n",
    "import whisper"
   ]
  },
  {
   "cell_type": "markdown",
   "metadata": {},
   "source": [
    "## 2. Configuration\n",
    "\n",
    "In this cell, I will configure the format of the JSON. It is necessary to specify:\n",
    "\n",
    "- The model paths: \n",
    "    - ``../../outputs/week4/models/best_roberta_sentiment_model.pt``: best sentiment model developed.\n",
    "    - ``../../outputs/week4/models/best_roberta_large_intent_model.pt``: best intent model developed.\n",
    "    - ``../../outputs/week4/models/best_focused_bert_model.pt``: best NER model.\n",
    "    - `Whisper turbo` model.\n",
    "    \n",
    "- Label mapppings of the models:\n",
    "    - **sentiment**: positive, negative, neutral.\n",
    "    - **intention**: INFORMATION, PROBLEM, ORDER, STRATEGY, WARNING, QUESTION.\n",
    "    - **NER**: ACTION, SITUATION, INCIDENT, STRATEGY_INSTRUCTION, POSITION_CHANGE, PIT_CALL, TRACK_CONDITION, TECHNICAL_ISSUE, WEATHER.\n",
    "\n",
    "- Demo input for making the correct structure."
   ]
  },
  {
   "cell_type": "code",
   "execution_count": 6,
   "metadata": {},
   "outputs": [
    {
     "name": "stdout",
     "output_type": "stream",
     "text": [
      "Configuration loaded successfully\n"
     ]
    }
   ],
   "source": [
    "# Configure model paths and settings - adjusted to match your specific models\n",
    "CONFIG = {\n",
    "    # Model paths\n",
    "    \"sentiment_model_path\": \"../../outputs/week4/models/best_roberta_sentiment_model.pt\",\n",
    "    \"intent_model_path\": \"../../outputs/week4/models/best_roberta_large_intent_model.pt\",\n",
    "    \"ner_model_path\": \"../../outputs/week4/models/best_focused_bert_model.pt\",\n",
    "    \"whisper_model_size\": \"turbo\",  # Using Whisper turbo \n",
    "    \n",
    "    # Label mappings\n",
    "    \"sentiment_labels\": [\"positive\", \"negative\", \"neutral\"],\n",
    "    \"intent_labels\": [\"INFORMATION\", \"PROBLEM\", \"ORDER\", \"STRATEGY\", \"WARNING\", \"QUESTION\"],\n",
    "    \n",
    "    # Entity mapping (SpaCy entity labels → output format)\n",
    "    \"entity_mapping\": {\n",
    "        \"ACTION\": \"action\",\n",
    "        \"SITUATION\": \"situation\",\n",
    "        \"INCIDENT\": \"incident\",\n",
    "        \"STRATEGY_INSTRUCTION\": \"strategy\",\n",
    "        \"POSITION_CHANGE\": \"position\",\n",
    "        \"PIT_CALL\": \"pit\",\n",
    "        \"TRACK_CONDITION\": \"track\",\n",
    "        \"TECHNICAL_ISSUE\": \"technical\",\n",
    "        \"WEATHER\": \"weather\"\n",
    "    },\n",
    "    \n",
    "    # Demo inputs\n",
    "    \"example_text\": \"Box this lap for softs, Hamilton is catching up\"\n",
    "}\n",
    "\n",
    "print(\"Configuration loaded successfully\")\n"
   ]
  }
 ],
 "metadata": {
  "kernelspec": {
   "display_name": "f1_strat_manager",
   "language": "python",
   "name": "python3"
  },
  "language_info": {
   "codemirror_mode": {
    "name": "ipython",
    "version": 3
   },
   "file_extension": ".py",
   "mimetype": "text/x-python",
   "name": "python",
   "nbconvert_exporter": "python",
   "pygments_lexer": "ipython3",
   "version": "3.10.16"
  }
 },
 "nbformat": 4,
 "nbformat_minor": 2
}
