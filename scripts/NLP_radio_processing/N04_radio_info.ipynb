{
 "cells": [
  {
   "cell_type": "markdown",
   "metadata": {},
   "source": [
    "# Radio Message Understanding: Dual Model Approach\n",
    "\n",
    "**Advanced Text Understanding for F1 Strategy**\n",
    "\n",
    "For our F1 strategic decision system, we need to extract structured information from radio messages to feed our logic agent. Building on our successful sentiment analysis model, we'll implement a comprehensive approach to understand both the intent and specific entities in team radio communications.\n",
    "\n",
    "---\n",
    "\n",
    "## 1. Intent Classification with RoBERTa\n",
    "\n",
    "We'll fine-tune a RoBERTa model (similar to our sentiment analysis model) to classify radio messages into specific intent categories:\n",
    "\n",
    "- **Order:** Direct instructions to the driver (\"Box this lap\", \"Push now\")\n",
    "- **Information:** Factual updates about race conditions (\"Hamilton is 2 seconds behind\")\n",
    "- **Question:** Queries requiring driver input (\"How are the tyres feeling?\")\n",
    "- **Warning:** Alerts about potential issues (\"Watch your fuel consumption\")\n",
    "- **Strategy:** Long-term planning elements (\"We're looking at Plan B\")\n",
    "- **Problem**: messages that ensures actual problems (\"My left wing is broken\")\n",
    "\n",
    "This classification will help our logic agent understand the purpose of each communication and respond appropriately.\n",
    "\n",
    "---\n",
    "\n",
    "## 2. Custom NER with SpaCy for F1-Specific Entities\n",
    "\n",
    "We'll train a specialized SpaCy model to identify key racing entities in the text:\n",
    "\n",
    "- **DRIVER:** References to specific drivers\n",
    "- **TEAM:** Team names and references\n",
    "- **TYRES:** Tyre compounds and conditions (soft, medium, hard, intermediate, wet)\n",
    "- **LAPNUM:** References to specific laps\n",
    "- **TIME_GAP:** Time differences mentioned in seconds\n",
    "- **STRATEGY:** Strategy terms (undercut, overcut, Plan A/B)\n",
    "- **TRACK_STATUS:** Track conditions (DRS, safety car, VSC)\n",
    "\n",
    "---\n",
    "\n",
    "## Complete Radio Understanding Pipeline\n",
    "\n",
    "By combining these new models with our existing sentiment analysis:\n",
    "\n",
    "$Radio Message → [Sentiment Analysis] → [Intent Classification] → [Entity Extraction] → Structured Data$\n",
    "\n",
    "\n",
    "The final output should be comprehensive structured data like:\n",
    "\n",
    "```json\n",
    "{\n",
    "  \"message\": \"Box this lap for softs, Hamilton is catching up\",\n",
    "  \"analysis\": {\n",
    "    \"sentiment\": \"neutral\",\n",
    "    \"intent\": \"order\",\n",
    "    \"entities\": {\n",
    "      \"action\": \"box\",\n",
    "      \"lap\": \"current\",\n",
    "      \"tyres\": \"soft\",\n",
    "      \"driver_ref\": \"Hamilton\",\n",
    "      \"situation\": \"catching up\"\n",
    "    }\n",
    "  }\n",
    "}\n",
    "````\n",
    "This rich, structured information will enable my logic agent to make sophisticated race strategy decisions based on radio communications.\n",
    "\n",
    "---"
   ]
  },
  {
   "cell_type": "markdown",
   "metadata": {},
   "source": [
    "# 1. But first, I need to relabel the data.\n",
    "\n",
    "My data is not labeled for making intention recognition. Therefore, the first thing I need to do is label again the data in a different csv for the intention categories.\n",
    "\n",
    "Therefore, my first approach will be the following:\n",
    "\n",
    "## Step 1: Define Intent Categories\n",
    "First, we need to establish clear definitions for each intent category:\n",
    "\n",
    "1. **ORDER**: Direct instructions requiring action from the driver\n",
    "\n",
    "    Examples: \"Box this lap\", \"Push now\", \"Stay out\"\n",
    "\n",
    "\n",
    "2. **INFORMATION**: Factual updates about race conditions\n",
    "\n",
    "    Examples: \"Hamilton is 2 seconds behind\", \"Lap time 1:34.5\", \"You're P4\"\n",
    "\n",
    "\n",
    "3. **QUESTION**: Queries requiring driver input\n",
    "\n",
    "    Examples: \"How are the tyres feeling?\", \"Do you want to pit this lap?\", \"Are you happy with the balance?\"\n",
    "\n",
    "\n",
    "4. **WARNING**: Alerts about potential issues or cautions\n",
    "\n",
    "    Examples: \"Watch your fuel consumption\", \"Yellow flag in sector 2\", \"VSC deployed\"\n",
    "\n",
    "\n",
    "5. **STRATEGY**: Long-term planning elements or discussions\n",
    "\n",
    "    Examples: \"We're looking at Plan B\", \"Target plus 5 on tyre management\", \"Consider an undercut\"\n",
    "\n",
    "6. **PROBLEM**: driver-reported issues:\n",
    "\n",
    "    Examples: \"Losing grip on the rear\", \"My tires are dead\".\n",
    "\n",
    "---"
   ]
  },
  {
   "cell_type": "markdown",
   "metadata": {},
   "source": [
    "## Step 1: Import Necessary Libraries\n"
   ]
  },
  {
   "cell_type": "code",
   "execution_count": 2,
   "metadata": {},
   "outputs": [],
   "source": [
    "import pandas as pd\n",
    "import numpy as np\n",
    "import matplotlib.pyplot as plt\n",
    "import seaborn as sns\n",
    "from IPython.display import display\n",
    "import pandas as pd\n",
    "import numpy as np\n",
    "import torch\n",
    "from torch.utils.data import Dataset, DataLoader, RandomSampler, SequentialSampler\n",
    "from transformers import RobertaTokenizer, RobertaForSequenceClassification, AdamW, get_linear_schedule_with_warmup\n",
    "from sklearn.model_selection import train_test_split\n",
    "from sklearn.metrics import accuracy_score, classification_report, confusion_matrix\n",
    "import time\n",
    "import datetime"
   ]
  },
  {
   "cell_type": "markdown",
   "metadata": {},
   "source": [
    "---\n",
    "\n",
    "## Step 2: Manual Labeling Interface\n",
    "\n",
    "I will make with Jupyet widgets a simple interface that helps me label the data. For this task, I´ll use `radio_filtered.csv`"
   ]
  },
  {
   "cell_type": "code",
   "execution_count": null,
   "metadata": {},
   "outputs": [
    {
     "name": "stdout",
     "output_type": "stream",
     "text": [
      "Columns in the dataset: ['driver', 'radio_message', 'sentiment']\n",
      "Total messages to label: 529\n"
     ]
    },
    {
     "data": {
      "application/vnd.jupyter.widget-view+json": {
       "model_id": "550b14a5852e49259974b7de1c386d3a",
       "version_major": 2,
       "version_minor": 0
      },
      "text/plain": [
       "VBox(children=(IntText(value=0, description='Current:', layout=Layout(display='none')), Output(), HBox(childre…"
      ]
     },
     "metadata": {},
     "output_type": "display_data"
    }
   ],
   "source": [
    "import pandas as pd\n",
    "import numpy as np\n",
    "import matplotlib.pyplot as plt\n",
    "import seaborn as sns\n",
    "from IPython.display import display\n",
    "from ipywidgets import widgets, Layout\n",
    "import ipywidgets as widgets\n",
    "\n",
    "# Load the full radio messages dataset\n",
    "df = pd.read_csv('../../outputs/week4/radio_clean/radio_filtered.csv')\n",
    "\n",
    "# Check the columns to see which one contains the radio messages\n",
    "print(\"Columns in the dataset:\", df.columns.tolist())\n",
    "\n",
    "# Assuming there's a column containing the radio messages, we'll use that\n",
    "message_column = 'radio_message'  # Adjust this based on the actual column name\n",
    "\n",
    "# Use the entire dataset instead of a sample\n",
    "intent_df = pd.DataFrame({\n",
    "    'message': df[message_column].values,\n",
    "    'intent': [\"\"] * len(df)\n",
    "})\n",
    "\n",
    "# Reset the index to make sure we have 0-based sequential indices\n",
    "intent_df = intent_df.reset_index(drop=True)\n",
    "\n",
    "print(f\"Total messages to label: {len(intent_df)}\")\n",
    "\n",
    "# Define the intent categories including the PROBLEM category\n",
    "intent_categories = [\"ORDER\", \"INFORMATION\", \"QUESTION\", \"WARNING\", \"STRATEGY\", \"PROBLEM\"]\n",
    "\n",
    "# Create a stateful counter for tracking which message we're on\n",
    "current_index = widgets.IntText(value=0, description='Current:', layout=Layout(display='none'))\n",
    "\n",
    "# Output widget for displaying the labeling interface\n",
    "output = widgets.Output()\n",
    "\n",
    "################################ WARNING: ONLY UNCOMMENT FOR LABELING THE DATA ######################################\n",
    "# # Function to save the dataframe\n",
    "# def save_dataframe():\n",
    "#     # Only save rows that have been labeled\n",
    "#     labeled_df = intent_df[intent_df['intent'] != \"\"]\n",
    "#     labeled_df.to_csv('../../outputs/week4/radio_clean/intent_labeled_data.csv', index=False)\n",
    "#     with output:\n",
    "#         print(f\"Dataset saved! {len(labeled_df)} labeled messages.\")\n",
    "        \n",
    "#         if len(labeled_df) > 0:\n",
    "#             # Show distribution of intents\n",
    "#             plt.figure(figsize=(10, 6))\n",
    "#             sns.countplot(y='intent', data=labeled_df)\n",
    "#             plt.title('Distribution of Intent Categories')\n",
    "#             plt.tight_layout()\n",
    "#             plt.show()\n",
    "######################################################################################################################\n",
    "# Function to display the current message\n",
    "def display_current_message():\n",
    "    with output:\n",
    "        output.clear_output()\n",
    "        \n",
    "        if current_index.value >= len(intent_df):\n",
    "            current_index.value = len(intent_df) - 1\n",
    "            \n",
    "        if current_index.value < 0:\n",
    "            current_index.value = 0\n",
    "            \n",
    "        idx = current_index.value\n",
    "        print(f\"Message {idx+1}/{len(intent_df)}:\")\n",
    "        print(f\"\\\"{intent_df.iloc[idx]['message']}\\\"\")\n",
    "        \n",
    "        # Show current label if any\n",
    "        current_intent = intent_df.iloc[idx]['intent']\n",
    "        if current_intent:\n",
    "            print(f\"\\nCurrent label: {current_intent}\")\n",
    "        \n",
    "        # Display intent category descriptions for reference\n",
    "        print(\"\\nIntent Categories:\")\n",
    "        print(\"ORDER: Direct instructions requiring action (Box this lap, Push now)\")\n",
    "        print(\"INFORMATION: Factual updates (Hamilton is 2 seconds behind)\")\n",
    "        print(\"QUESTION: Queries requiring driver input (How are the tyres feeling?)\")\n",
    "        print(\"WARNING: Alerts about external issues (Yellow flag in sector 2)\")\n",
    "        print(\"STRATEGY: Long-term planning elements (We're looking at Plan B)\")\n",
    "        print(\"PROBLEM: Driver-reported issues (Losing grip on the rear)\")\n",
    "        \n",
    "        # Count labeled messages\n",
    "        labeled_count = (intent_df['intent'] != \"\").sum()\n",
    "        print(f\"\\nProgress: {labeled_count}/{len(intent_df)} messages labeled ({labeled_count/len(intent_df)*100:.1f}%)\")\n",
    "\n",
    "# Function to handle intent button clicks\n",
    "def on_intent_button_clicked(b, intent=None):\n",
    "    idx = current_index.value\n",
    "    intent_df.at[idx, 'intent'] = intent\n",
    "    # Automatically move to next message after labeling\n",
    "    current_index.value += 1\n",
    "    display_current_message()\n",
    "\n",
    "# Navigation button handlers\n",
    "def on_prev_clicked(b):\n",
    "    current_index.value -= 1\n",
    "    display_current_message()\n",
    "    \n",
    "def on_next_clicked(b):\n",
    "    current_index.value += 1\n",
    "    display_current_message()\n",
    "\n",
    "# Create buttons for each intent category\n",
    "intent_buttons = []\n",
    "for intent in intent_categories:\n",
    "    button = widgets.Button(\n",
    "        description=intent,\n",
    "        button_style='', \n",
    "        layout=Layout(width='150px', height='40px')\n",
    "    )\n",
    "    \n",
    "    button.on_click(lambda b, intent=intent: on_intent_button_clicked(b, intent))\n",
    "    intent_buttons.append(button)\n",
    "\n",
    "# Create navigation buttons\n",
    "prev_button = widgets.Button(\n",
    "    description='« Previous',\n",
    "    button_style='info',\n",
    "    layout=Layout(width='120px', height='40px')\n",
    ")\n",
    "prev_button.on_click(on_prev_clicked)\n",
    "\n",
    "next_button = widgets.Button(\n",
    "    description='Next »',\n",
    "    button_style='info',\n",
    "    layout=Layout(width='120px', height='40px')\n",
    ")\n",
    "next_button.on_click(on_next_clicked)\n",
    "\n",
    "# Create save button\n",
    "save_button = widgets.Button(\n",
    "    description='💾 Save Progress',\n",
    "    button_style='success',\n",
    "    layout=Layout(width='150px', height='40px')\n",
    ")\n",
    "\n",
    "######################### WARNING: ONLY UNCOMMENT FOR SAVING NEW LABELED DATA ###############################\n",
    "# save_button.on_click(lambda b: save_dataframe())\n",
    "#############################################################################################################\n",
    "\n",
    "\n",
    "\n",
    "# Create button rows\n",
    "intent_row1 = widgets.HBox(intent_buttons[:3], layout=Layout(justify_content='center'))\n",
    "intent_row2 = widgets.HBox(intent_buttons[3:], layout=Layout(justify_content='center'))\n",
    "nav_row = widgets.HBox([prev_button, save_button, next_button], layout=Layout(justify_content='center'))\n",
    "\n",
    "# Assemble the UI\n",
    "vbox = widgets.VBox([\n",
    "    current_index,\n",
    "    output,\n",
    "    intent_row1,\n",
    "    intent_row2,\n",
    "    nav_row\n",
    "])\n",
    "\n",
    "# Initialize the display\n",
    "display(vbox)\n",
    "display_current_message()"
   ]
  },
  {
   "cell_type": "markdown",
   "metadata": {},
   "source": [
    "---\n",
    "\n",
    "## Step 3: Training an intent classifier\n",
    "\n",
    "Next steps are:\n",
    "\n",
    "1. *Splitting `intent_labeled_data.csv` into train/validation/test sets*.\n",
    "\n",
    "2. *Tokenize the dataset, adjusting the maximum tokens*\n",
    "\n",
    "3. *Download a pre-trained RoBERTa model and apply fine-tuning*.\n",
    "\n",
    "4. Try some runs, see how the performance improves and save the best model.\n",
    "\n",
    "The workflow here is quite similar to the one of `N03_bert_sentiment.ipynb`, but now predicting 6 classes instead of only 3.\n"
   ]
  },
  {
   "cell_type": "markdown",
   "metadata": {},
   "source": [
    "##### Loading the dataset and applying mapping"
   ]
  },
  {
   "cell_type": "code",
   "execution_count": 4,
   "metadata": {},
   "outputs": [
    {
     "name": "stdout",
     "output_type": "stream",
     "text": [
      "Dataset shape: (529, 2)\n",
      "\n",
      "First few rows:\n",
      "\\Intent distribution:\n",
      "intent\n",
      "INFORMATION    211\n",
      "PROBLEM        109\n",
      "ORDER          107\n",
      "STRATEGY        35\n",
      "WARNING         34\n",
      "QUESTION        33\n",
      "Name: count, dtype: int64\n"
     ]
    }
   ],
   "source": [
    "df = pd.read_csv('../../outputs/week4/radio_clean/intent_labeled_data.csv')\n",
    "\n",
    "# Display basic information about the dataset\n",
    "print(f\"Dataset shape: {df.shape}\")\n",
    "print(\"\\nFirst few rows:\")\n",
    "\n",
    "\n",
    "print(\"\\Intent distribution:\")\n",
    "print(df['intent'].value_counts())"
   ]
  },
  {
   "cell_type": "code",
   "execution_count": 5,
   "metadata": {},
   "outputs": [
    {
     "name": "stdout",
     "output_type": "stream",
     "text": [
      "                                             message       intent\n",
      "0  So don't forget Max, use your head please. Are...        ORDER\n",
      "1  Okay Max, we're expecting rain in about 9 or 1...     QUESTION\n",
      "2  You might find this lap that you meet a little...  INFORMATION\n",
      "3  Just another two or three minutes to get throu...  INFORMATION\n",
      "4   So settle into standard race management now Max.        ORDER\n"
     ]
    }
   ],
   "source": [
    "print(df.head())"
   ]
  },
  {
   "cell_type": "code",
   "execution_count": 6,
   "metadata": {},
   "outputs": [],
   "source": [
    "# Create numeric labels based on intent values\n",
    "intent_mapping = {\n",
    "    'INFORMATION': 0, \n",
    "    'PROBLEM': 1, \n",
    "    'ORDER': 2,\n",
    "    'STRATEGY': 3,\n",
    "    'WARNING': 4,\n",
    "    'QUESTION': 5,\n",
    "}\n",
    "\n",
    "\n",
    "df['label'] = df['intent'].map(intent_mapping)\n",
    "\n",
    "# Check if we need to handle any missing mappings\n",
    "if df['label'].isna().sum() > 0:\n",
    "    print(f\"\\nWarning: {df['label'].isna().sum()} rows couldn't be mapped. Unique values in 'intent':\")\n",
    "    print(df['intent'].unique())\n"
   ]
  },
  {
   "cell_type": "markdown",
   "metadata": {},
   "source": [
    "### 3.1 Splitting the data\n",
    "\n",
    "`Same text as N03_bert_sentiment.ipynb`\n",
    "\n",
    "I´ll follow the same splits techniques during the project, making a training, validation and test dataset. \n",
    "\n",
    "* *Train* will be 70% of the dataset.\n",
    "* *Validation*: will be 15% of the dataset.\n",
    "* *Test*: will be 15% of the dataset."
   ]
  },
  {
   "cell_type": "markdown",
   "metadata": {},
   "source": [
    "#### Loading RoBERTa\n",
    "\n"
   ]
  },
  {
   "cell_type": "code",
   "execution_count": 93,
   "metadata": {},
   "outputs": [
    {
     "name": "stderr",
     "output_type": "stream",
     "text": [
      "Some weights of RobertaForSequenceClassification were not initialized from the model checkpoint at roberta-base and are newly initialized: ['classifier.dense.bias', 'classifier.dense.weight', 'classifier.out_proj.bias', 'classifier.out_proj.weight']\n",
      "You should probably TRAIN this model on a down-stream task to be able to use it for predictions and inference.\n"
     ]
    }
   ],
   "source": [
    "model_name = \"roberta-base\"  \n",
    "tokenizer = RobertaTokenizer.from_pretrained(model_name)\n",
    "model = RobertaForSequenceClassification.from_pretrained(\n",
    "    model_name,\n",
    "    num_labels=6,\n",
    "    output_attentions=False,\n",
    "    output_hidden_states=False,\n",
    ")"
   ]
  },
  {
   "cell_type": "code",
   "execution_count": 94,
   "metadata": {},
   "outputs": [],
   "source": [
    "# Cell 4: Create the train/validation/test split\n",
    "train_texts, temp_texts, train_labels, temp_labels = train_test_split(\n",
    "    df['message'].values, \n",
    "    df['label'].values, \n",
    "    test_size=0.3,  # 30% for val+test\n",
    "    random_state=42, \n",
    "    stratify=df['label']\n",
    ")\n",
    "\n",
    "val_texts, test_texts, val_labels, test_labels = train_test_split(\n",
    "    temp_texts,\n",
    "    temp_labels,\n",
    "    test_size=0.5,  # 50% of the 30% (so 15% of total)\n",
    "    random_state=42,\n",
    "    stratify=temp_labels\n",
    ")\n"
   ]
  },
  {
   "cell_type": "code",
   "execution_count": 95,
   "metadata": {},
   "outputs": [
    {
     "name": "stdout",
     "output_type": "stream",
     "text": [
      "Training set: 370 samples\n",
      "Validation set: 79 samples\n",
      "Test set: 80 samples\n"
     ]
    }
   ],
   "source": [
    "print(f\"Training set: {len(train_texts)} samples\")\n",
    "print(f\"Validation set: {len(val_texts)} samples\")\n",
    "print(f\"Test set: {len(test_texts)} samples\")\n",
    "# display(train_texts)\n",
    "# display(train_labels)"
   ]
  },
  {
   "cell_type": "markdown",
   "metadata": {},
   "source": [
    "### 3.2 Tokenizing: this part is also the same as the one in the N03 Notebook"
   ]
  },
  {
   "cell_type": "markdown",
   "metadata": {},
   "source": [
    "#### 3.2.1 Analyzing message lengths "
   ]
  },
  {
   "cell_type": "code",
   "execution_count": 96,
   "metadata": {},
   "outputs": [
    {
     "name": "stdout",
     "output_type": "stream",
     "text": [
      "Average tokens per message: 26.5\n",
      "Maximum tokens in a message: 326\n",
      "97% of messages have 79.5 tokens or fewer\n"
     ]
    }
   ],
   "source": [
    "# Cell 4.5: Analyze message lengths to set appropriate max_length\n",
    "def get_token_counts(texts):\n",
    "    # Count tokens in each message\n",
    "    token_counts = [len(tokenizer.encode(text)) for text in texts]\n",
    "    return token_counts\n",
    "\n",
    "token_counts = get_token_counts(df['message'].values)\n",
    "\n",
    "# Calculate statistics\n",
    "avg_tokens = sum(token_counts) / len(token_counts)\n",
    "max_tokens = max(token_counts)\n",
    "p97_tokens = np.percentile(token_counts, 97)  # 97th percentile\n",
    "\n",
    "print(f\"Average tokens per message: {avg_tokens:.1f}\")\n",
    "print(f\"Maximum tokens in a message: {max_tokens}\")\n",
    "print(f\"97% of messages have {p97_tokens:.1f} tokens or fewer\")\n",
    "\n"
   ]
  },
  {
   "cell_type": "markdown",
   "metadata": {},
   "source": [
    "#### 3.2.2 Visualizing distributionof messages"
   ]
  },
  {
   "cell_type": "code",
   "execution_count": 97,
   "metadata": {},
   "outputs": [
    {
     "data": {
      "image/png": "[encoded data removed]",
      "text/plain": [
       "<Figure size 1000x500 with 1 Axes>"
      ]
     },
     "metadata": {},
     "output_type": "display_data"
    },
    {
     "name": "stdout",
     "output_type": "stream",
     "text": [
      "Setting max_length to 128\n"
     ]
    }
   ],
   "source": [
    "# Visualize distribution\n",
    "import matplotlib.pyplot as plt\n",
    "plt.figure(figsize=(10, 5))\n",
    "plt.hist(token_counts, bins=20)\n",
    "plt.axvline(x=p97_tokens, color='r', linestyle='--', label='97th percentile')\n",
    "plt.xlabel('Number of tokens')\n",
    "plt.ylabel('Count of messages')\n",
    "plt.title('Distribution of token counts in F1 radio messages')\n",
    "plt.legend()\n",
    "plt.show()\n",
    "\n",
    "# Set max_length based on analysis\n",
    "max_length = int(min(128, 2 * p97_tokens))  # Conservative value based on 97th percentile\n",
    "print(f\"Setting max_length to {max_length}\")"
   ]
  },
  {
   "cell_type": "markdown",
   "metadata": {},
   "source": [
    "#### 3.2.3 Tokenizing and making the encodings"
   ]
  },
  {
   "cell_type": "code",
   "execution_count": 104,
   "metadata": {},
   "outputs": [],
   "source": [
    "# Cell 5: Tokenize the data directly\n",
    "max_length = 128\n",
    "#batch_size = 16\n",
    "batch_size = 4\n",
    "# Tokenize training data\n",
    "train_encodings = tokenizer(\n",
    "    list(train_texts),\n",
    "    truncation=True,\n",
    "    padding='max_length',\n",
    "    max_length=max_length,\n",
    "    return_tensors='pt'\n",
    ")\n",
    "\n",
    "# Tokenize validation data\n",
    "val_encodings = tokenizer(\n",
    "    list(val_texts),\n",
    "    truncation=True,\n",
    "    padding='max_length',\n",
    "    max_length=max_length,\n",
    "    return_tensors='pt'\n",
    ")\n",
    "\n",
    "# Tokenize test data\n",
    "test_encodings = tokenizer(\n",
    "    list(test_texts),\n",
    "    truncation=True,\n",
    "    padding='max_length',\n",
    "    max_length=max_length,\n",
    "    return_tensors='pt'\n",
    ")\n",
    "\n"
   ]
  },
  {
   "cell_type": "markdown",
   "metadata": {},
   "source": [
    "### Preparing the tokens for Pytorch"
   ]
  },
  {
   "cell_type": "code",
   "execution_count": 105,
   "metadata": {},
   "outputs": [
    {
     "name": "stdout",
     "output_type": "stream",
     "text": [
      "Using device: cuda\n"
     ]
    },
    {
     "data": {
      "text/plain": [
       "RobertaForSequenceClassification(\n",
       "  (roberta): RobertaModel(\n",
       "    (embeddings): RobertaEmbeddings(\n",
       "      (word_embeddings): Embedding(50265, 768, padding_idx=1)\n",
       "      (position_embeddings): Embedding(514, 768, padding_idx=1)\n",
       "      (token_type_embeddings): Embedding(1, 768)\n",
       "      (LayerNorm): LayerNorm((768,), eps=1e-05, elementwise_affine=True)\n",
       "      (dropout): Dropout(p=0.1, inplace=False)\n",
       "    )\n",
       "    (encoder): RobertaEncoder(\n",
       "      (layer): ModuleList(\n",
       "        (0-11): 12 x RobertaLayer(\n",
       "          (attention): RobertaAttention(\n",
       "            (self): RobertaSdpaSelfAttention(\n",
       "              (query): Linear(in_features=768, out_features=768, bias=True)\n",
       "              (key): Linear(in_features=768, out_features=768, bias=True)\n",
       "              (value): Linear(in_features=768, out_features=768, bias=True)\n",
       "              (dropout): Dropout(p=0.1, inplace=False)\n",
       "            )\n",
       "            (output): RobertaSelfOutput(\n",
       "              (dense): Linear(in_features=768, out_features=768, bias=True)\n",
       "              (LayerNorm): LayerNorm((768,), eps=1e-05, elementwise_affine=True)\n",
       "              (dropout): Dropout(p=0.1, inplace=False)\n",
       "            )\n",
       "          )\n",
       "          (intermediate): RobertaIntermediate(\n",
       "            (dense): Linear(in_features=768, out_features=3072, bias=True)\n",
       "            (intermediate_act_fn): GELUActivation()\n",
       "          )\n",
       "          (output): RobertaOutput(\n",
       "            (dense): Linear(in_features=3072, out_features=768, bias=True)\n",
       "            (LayerNorm): LayerNorm((768,), eps=1e-05, elementwise_affine=True)\n",
       "            (dropout): Dropout(p=0.1, inplace=False)\n",
       "          )\n",
       "        )\n",
       "      )\n",
       "    )\n",
       "  )\n",
       "  (classifier): RobertaClassificationHead(\n",
       "    (dense): Linear(in_features=768, out_features=768, bias=True)\n",
       "    (dropout): Dropout(p=0.1, inplace=False)\n",
       "    (out_proj): Linear(in_features=768, out_features=6, bias=True)\n",
       "  )\n",
       ")"
      ]
     },
     "execution_count": 105,
     "metadata": {},
     "output_type": "execute_result"
    }
   ],
   "source": [
    "from transformers import AdamW, get_linear_schedule_with_warmup\n",
    "\n",
    "\n",
    "device = torch.device(\"cuda\" if torch.cuda.is_available() else \"cpu\")\n",
    "print(f\"Using device: {device}\")\n",
    "\n",
    "\n",
    "model.to(device)"
   ]
  },
  {
   "cell_type": "code",
   "execution_count": 106,
   "metadata": {},
   "outputs": [
    {
     "name": "stderr",
     "output_type": "stream",
     "text": [
      "C:\\Users\\victo\\AppData\\Local\\Temp\\ipykernel_25668\\439425289.py:2: UserWarning: To copy construct from a tensor, it is recommended to use sourceTensor.clone().detach() or sourceTensor.clone().detach().requires_grad_(True), rather than torch.tensor(sourceTensor).\n",
      "  train_labels = torch.tensor(train_labels)\n",
      "C:\\Users\\victo\\AppData\\Local\\Temp\\ipykernel_25668\\439425289.py:3: UserWarning: To copy construct from a tensor, it is recommended to use sourceTensor.clone().detach() or sourceTensor.clone().detach().requires_grad_(True), rather than torch.tensor(sourceTensor).\n",
      "  val_labels = torch.tensor(val_labels)\n",
      "C:\\Users\\victo\\AppData\\Local\\Temp\\ipykernel_25668\\439425289.py:4: UserWarning: To copy construct from a tensor, it is recommended to use sourceTensor.clone().detach() or sourceTensor.clone().detach().requires_grad_(True), rather than torch.tensor(sourceTensor).\n",
      "  test_labels = torch.tensor(test_labels)\n"
     ]
    }
   ],
   "source": [
    "# Convert labels to tensors\n",
    "train_labels = torch.tensor(train_labels)\n",
    "val_labels = torch.tensor(val_labels)\n",
    "test_labels = torch.tensor(test_labels)"
   ]
  },
  {
   "cell_type": "code",
   "execution_count": 107,
   "metadata": {},
   "outputs": [],
   "source": [
    "# Create TensorDatasets\n",
    "from torch.utils.data import TensorDataset\n",
    "\n",
    "train_dataset = TensorDataset(\n",
    "    train_encodings['input_ids'],\n",
    "    train_encodings['attention_mask'],\n",
    "    train_labels\n",
    ")\n",
    "\n",
    "val_dataset = TensorDataset(\n",
    "    val_encodings['input_ids'],\n",
    "    val_encodings['attention_mask'],\n",
    "    val_labels\n",
    ")\n",
    "\n",
    "test_dataset = TensorDataset(\n",
    "    test_encodings['input_ids'],\n",
    "    test_encodings['attention_mask'],\n",
    "    test_labels\n",
    ")\n",
    "\n"
   ]
  },
  {
   "cell_type": "code",
   "execution_count": 108,
   "metadata": {},
   "outputs": [
    {
     "name": "stdout",
     "output_type": "stream",
     "text": [
      "Created DataLoaders with batch size: 4\n",
      "Each batch contains: 4 samples\n",
      "Input shape: torch.Size([4, 128])\n"
     ]
    }
   ],
   "source": [
    "# Create DataLoaders\n",
    "train_dataloader = DataLoader(train_dataset, batch_size=batch_size, shuffle=True)\n",
    "val_dataloader = DataLoader(val_dataset, batch_size=batch_size)\n",
    "test_dataloader = DataLoader(test_dataset, batch_size=batch_size)\n",
    "\n",
    "print(f\"Created DataLoaders with batch size: {batch_size}\")\n",
    "print(f\"Each batch contains: {next(iter(train_dataloader))[0].shape[0]} samples\")\n",
    "print(f\"Input shape: {next(iter(train_dataloader))[0].shape}\")\n",
    "\n",
    "from torch.amp import GradScaler, autocast\n",
    "scaler = GradScaler()"
   ]
  },
  {
   "cell_type": "markdown",
   "metadata": {},
   "source": [
    "---\n",
    "\n",
    "## Setting up training process\n",
    "\n"
   ]
  },
  {
   "cell_type": "markdown",
   "metadata": {},
   "source": [
    "---\n",
    "\n",
    "### Auxiliar functions"
   ]
  },
  {
   "cell_type": "code",
   "execution_count": 109,
   "metadata": {},
   "outputs": [],
   "source": [
    "def flat_accuracy(preds, labels):\n",
    "    \"\"\"\n",
    "    Computes accuracy by comparing predictions with labels.\n",
    "    \n",
    "    Args:\n",
    "        preds: Model prediction matrix (logits)\n",
    "        labels: Vector of true labels\n",
    "    \n",
    "    Returns:\n",
    "        float: Percentage of correct predictions\n",
    "    \"\"\"\n",
    "    pred_flat = np.argmax(preds, axis=1).flatten()\n",
    "    labels_flat = labels.flatten()\n",
    "    return np.sum(pred_flat == labels_flat) / len(labels_flat)"
   ]
  },
  {
   "cell_type": "code",
   "execution_count": 110,
   "metadata": {},
   "outputs": [],
   "source": [
    "import datetime\n",
    "\n",
    "def format_time(elapsed):\n",
    "    \"\"\"\n",
    "    Formats elapsed time into a readable format.\n",
    "    \n",
    "    Args:\n",
    "        elapsed: Time in seconds\n",
    "        \n",
    "    Returns:\n",
    "        str: Time formatted as HH:MM:SS\n",
    "    \"\"\"\n",
    "    return str(datetime.timedelta(seconds=int(round(elapsed))))"
   ]
  },
  {
   "cell_type": "code",
   "execution_count": 90,
   "metadata": {},
   "outputs": [],
   "source": [
    "# Storage for training statistics\n",
    "training_stats = []\n",
    "best_val_accuracy = 0.0"
   ]
  },
  {
   "cell_type": "markdown",
   "metadata": {},
   "source": [
    "### Hyperparameter tuning"
   ]
  },
  {
   "cell_type": "code",
   "execution_count": 113,
   "metadata": {},
   "outputs": [
    {
     "name": "stderr",
     "output_type": "stream",
     "text": [
      "c:\\Users\\victo\\miniconda3\\envs\\f1_strat_manager\\lib\\site-packages\\transformers\\optimization.py:640: FutureWarning: This implementation of AdamW is deprecated and will be removed in a future version. Use the PyTorch implementation torch.optim.AdamW instead, or set `no_deprecation_warning=True` to disable this warning\n",
      "  warnings.warn(\n"
     ]
    }
   ],
   "source": [
    "epochs = 12\n",
    "learning_rate = 1e-5  # A bet less for a bigger model\n",
    "weight_decay = 0.01\n",
    "warmup_steps = int(0.1 * len(train_dataloader) * epochs)  # 10% steps for warmup\n",
    "\n",
    "# Total number of training steps\n",
    "total_steps = len(train_dataloader) * epochs\n",
    "\n",
    "# Initialize optimizer\n",
    "optimizer = AdamW(model.parameters(),\n",
    "                  lr=learning_rate,\n",
    "                  eps=1e-8,\n",
    "                  weight_decay=weight_decay)\n",
    "\n",
    "# Set up the learning rate scheduler\n",
    "scheduler = get_linear_schedule_with_warmup(optimizer, \n",
    "                                          num_warmup_steps=warmup_steps,\n",
    "                                          num_training_steps=total_steps)\n",
    "# # Gradient accumulation for simulating bigger batch_size\n",
    "gradient_accumulation_steps = 4  \n",
    "# # This simulates an effective batch_size  16"
   ]
  },
  {
   "cell_type": "markdown",
   "metadata": {},
   "source": [
    "---\n",
    "\n",
    "### Class weights"
   ]
  },
  {
   "cell_type": "code",
   "execution_count": 114,
   "metadata": {},
   "outputs": [
    {
     "name": "stdout",
     "output_type": "stream",
     "text": [
      "Class weights:\n",
      "Class 0 (INFORMATION): 0.4167\n",
      "Class 1 (PROBLEM): 0.8114\n",
      "Class 2 (ORDER): 0.8222\n",
      "Class 3 (STRATEGY): 2.5694\n",
      "Class 4 (WARNING): 2.5694\n",
      "Class 5 (QUESTION): 2.6812\n"
     ]
    }
   ],
   "source": [
    "# Calculating the 6 class weights\n",
    "from sklearn.utils import compute_class_weight\n",
    "\n",
    "\n",
    "unique_labels = np.unique(train_labels.numpy())\n",
    "class_weights = compute_class_weight('balanced', classes=unique_labels, y=train_labels.numpy())\n",
    "class_weights = torch.tensor(class_weights, dtype=torch.float).to(device)\n",
    "\n",
    "print(\"Class weights:\")\n",
    "for i, weight in enumerate(class_weights):\n",
    "    intent_name = list(intent_mapping.keys())[list(intent_mapping.values()).index(i)]\n",
    "    print(f\"Class {i} ({intent_name}): {weight:.4f}\")\n",
    "\n",
    "# Loss function with weights\n",
    "loss_fn = torch.nn.CrossEntropyLoss(weight=class_weights)"
   ]
  },
  {
   "cell_type": "markdown",
   "metadata": {},
   "source": [
    "---\n",
    "\n",
    "### Training loop"
   ]
  },
  {
   "cell_type": "code",
   "execution_count": 115,
   "metadata": {},
   "outputs": [
    {
     "name": "stdout",
     "output_type": "stream",
     "text": [
      "\n",
      "Epoch 1/12\n",
      "  Training loss: 1.7925\n",
      "  Training time: 0:00:07\n",
      "  Validation accuracy: 0.2000\n",
      "  Validation loss: 1.7870\n",
      "  Saved new best model with accuracy: 0.2000\n",
      "\n",
      "Epoch 2/12\n",
      "  Training loss: 1.7997\n",
      "  Training time: 0:00:06\n",
      "  Validation accuracy: 0.2000\n",
      "  Validation loss: 1.7816\n",
      "\n",
      "Epoch 3/12\n",
      "  Training loss: 1.7719\n",
      "  Training time: 0:00:06\n",
      "  Validation accuracy: 0.2000\n",
      "  Validation loss: 1.7751\n",
      "\n",
      "Epoch 4/12\n",
      "  Training loss: 1.7621\n",
      "  Training time: 0:00:06\n",
      "  Validation accuracy: 0.2667\n",
      "  Validation loss: 1.7645\n",
      "  Saved new best model with accuracy: 0.2667\n",
      "\n",
      "Epoch 5/12\n",
      "  Training loss: 1.7365\n",
      "  Training time: 0:00:06\n",
      "  Validation accuracy: 0.4875\n",
      "  Validation loss: 1.7382\n",
      "  Saved new best model with accuracy: 0.4875\n",
      "\n",
      "Epoch 6/12\n",
      "  Training loss: 1.6901\n",
      "  Training time: 0:00:06\n",
      "  Validation accuracy: 0.5250\n",
      "  Validation loss: 1.6426\n",
      "  Saved new best model with accuracy: 0.5250\n",
      "\n",
      "Epoch 7/12\n",
      "  Training loss: 1.5122\n",
      "  Training time: 0:00:06\n",
      "  Validation accuracy: 0.6750\n",
      "  Validation loss: 1.4318\n",
      "  Saved new best model with accuracy: 0.6750\n",
      "\n",
      "Epoch 8/12\n",
      "  Training loss: 1.2196\n",
      "  Training time: 0:00:06\n",
      "  Validation accuracy: 0.6625\n",
      "  Validation loss: 1.2461\n",
      "\n",
      "Epoch 9/12\n",
      "  Training loss: 0.9026\n",
      "  Training time: 0:00:06\n",
      "  Validation accuracy: 0.6708\n",
      "  Validation loss: 1.1255\n",
      "\n",
      "Epoch 10/12\n",
      "  Training loss: 0.6973\n",
      "  Training time: 0:00:06\n",
      "  Validation accuracy: 0.6583\n",
      "  Validation loss: 1.0723\n",
      "\n",
      "Epoch 11/12\n",
      "  Training loss: 0.4838\n",
      "  Training time: 0:00:06\n",
      "  Validation accuracy: 0.6333\n",
      "  Validation loss: 1.1801\n",
      "\n",
      "Epoch 12/12\n",
      "  Training loss: 0.3125\n",
      "  Training time: 0:00:06\n",
      "  Validation accuracy: 0.6583\n",
      "  Validation loss: 1.1351\n"
     ]
    }
   ],
   "source": [
    "total_t0 = time.time()\n",
    "\n",
    "for epoch_i in range(epochs):\n",
    "    print(f\"\\nEpoch {epoch_i + 1}/{epochs}\")\n",
    "    \n",
    "    # Training\n",
    "    model.train()\n",
    "    total_train_loss = 0\n",
    "    t0 = time.time()\n",
    "    \n",
    "    # Reset gradients at the beginning of each epoch\n",
    "    optimizer.zero_grad()\n",
    "    \n",
    "    for step, batch in enumerate(train_dataloader):\n",
    "        # Unpack batch and move to device\n",
    "        b_input_ids = batch[0].to(device)\n",
    "        b_attention_mask = batch[1].to(device)\n",
    "        b_labels = batch[2].to(device)\n",
    "    \n",
    "        # Forward pass with mixed precision - corrected\n",
    "        with autocast(device_type='cuda'):  # Specify 'cuda' as device_type\n",
    "            outputs = model(b_input_ids, attention_mask=b_attention_mask)\n",
    "            logits = outputs.logits\n",
    "            loss = loss_fn(logits, b_labels)\n",
    "            loss = loss / gradient_accumulation_steps\n",
    "        \n",
    "        # Backward pass with mixed precision\n",
    "        scaler.scale(loss).backward()\n",
    "        \n",
    "        # Update total loss\n",
    "        total_train_loss += loss.item() * gradient_accumulation_steps\n",
    "        \n",
    "        # Update weights every gradient_accumulation_steps\n",
    "        if (step + 1) % gradient_accumulation_steps == 0:\n",
    "            # Gradient clipping\n",
    "            scaler.unscale_(optimizer)\n",
    "            torch.nn.utils.clip_grad_norm_(model.parameters(), 1.0)\n",
    "            \n",
    "            # Update parameters\n",
    "            scaler.step(optimizer)\n",
    "            scaler.update()\n",
    "            scheduler.step()\n",
    "            optimizer.zero_grad()\n",
    "    \n",
    "    # Calculate average training loss\n",
    "    avg_train_loss = total_train_loss / len(train_dataloader)\n",
    "    print(f\"  Training loss: {avg_train_loss:.4f}\")\n",
    "    print(f\"  Training time: {format_time(time.time() - t0)}\")\n",
    "    \n",
    "    # Validation with mixed precision as well\n",
    "    model.eval()\n",
    "    val_accuracy = 0\n",
    "    val_loss = 0\n",
    "    \n",
    "    with torch.no_grad():\n",
    "        for batch in val_dataloader:\n",
    "            b_input_ids = batch[0].to(device)\n",
    "            b_attention_mask = batch[1].to(device)\n",
    "            b_labels = batch[2].to(device)\n",
    "            \n",
    "            with autocast(device_type='cuda'):\n",
    "                outputs = model(b_input_ids, attention_mask=b_attention_mask)\n",
    "                logits = outputs.logits\n",
    "                loss = loss_fn(logits, b_labels)\n",
    "            \n",
    "            val_loss += loss.item()\n",
    "            val_accuracy += flat_accuracy(logits.cpu().numpy(), b_labels.cpu().numpy())\n",
    "    \n",
    "    avg_val_accuracy = val_accuracy / len(val_dataloader)\n",
    "    avg_val_loss = val_loss / len(val_dataloader)\n",
    "    \n",
    "    print(f\"  Validation accuracy: {avg_val_accuracy:.4f}\")\n",
    "    print(f\"  Validation loss: {avg_val_loss:.4f}\")\n",
    "    \n",
    "    # Save best model\n",
    "    if avg_val_accuracy > best_val_accuracy:\n",
    "        best_val_accuracy = avg_val_accuracy\n",
    "        torch.save(model.state_dict(), '../../outputs/week4/models/best_roberta_large_intent_model.pt')\n",
    "        print(f\"  Saved new best model with accuracy: {best_val_accuracy:.4f}\")\n"
   ]
  },
  {
   "cell_type": "markdown",
   "metadata": {},
   "source": [
    "---\n",
    "\n",
    "### Training metrics"
   ]
  },
  {
   "cell_type": "code",
   "execution_count": 116,
   "metadata": {},
   "outputs": [
    {
     "name": "stdout",
     "output_type": "stream",
     "text": [
      "\n",
      "Classification Report:\n",
      "              precision    recall  f1-score   support\n",
      "\n",
      " INFORMATION       0.69      0.77      0.73        31\n",
      "     PROBLEM       0.72      0.81      0.76        16\n",
      "       ORDER       0.80      0.50      0.62        16\n",
      "    STRATEGY       0.20      0.17      0.18         6\n",
      "     WARNING       0.43      0.60      0.50         5\n",
      "    QUESTION       0.75      0.60      0.67         5\n",
      "\n",
      "    accuracy                           0.66        79\n",
      "   macro avg       0.60      0.58      0.58        79\n",
      "weighted avg       0.67      0.66      0.65        79\n",
      "\n"
     ]
    }
   ],
   "source": [
    "from sklearn.metrics import classification_report\n",
    "\n",
    "# Pick all predictions and labels\n",
    "all_preds = []\n",
    "all_labels = []\n",
    "\n",
    "with torch.no_grad():\n",
    "    for batch in val_dataloader:\n",
    "        b_input_ids = batch[0].to(device)\n",
    "        b_attention_mask = batch[1].to(device)\n",
    "        b_labels = batch[2].to(device)\n",
    "        \n",
    "        outputs = model(b_input_ids, attention_mask=b_attention_mask)\n",
    "        logits = outputs.logits\n",
    "        \n",
    "        all_preds.extend(np.argmax(logits.cpu().numpy(), axis=1))\n",
    "        all_labels.extend(b_labels.cpu().numpy())\n",
    "\n",
    "# Make the classification report\n",
    "intent_names = list(intent_mapping.keys())\n",
    "print(\"\\nClassification Report:\")\n",
    "print(classification_report(all_labels, all_preds, target_names=intent_names))"
   ]
  },
  {
   "cell_type": "markdown",
   "metadata": {},
   "source": [
    "---\n",
    "\n",
    "### Validation loop"
   ]
  },
  {
   "cell_type": "code",
   "execution_count": 117,
   "metadata": {},
   "outputs": [],
   "source": [
    "# Switch to evaluation mode\n",
    "model.eval()\n",
    "val_accuracy = 0\n",
    "val_loss = 0\n",
    "\n",
    "# En la parte de validación:\n",
    "with torch.no_grad():\n",
    "    for batch in val_dataloader:\n",
    "        b_input_ids = batch[0].to(device)\n",
    "        b_attention_mask = batch[1].to(device)\n",
    "        b_labels = batch[2].to(device)\n",
    "        \n",
    "        with autocast(device_type='cuda'):  # Especificar 'cuda' como device_type\n",
    "            outputs = model(b_input_ids, attention_mask=b_attention_mask)\n",
    "            logits = outputs.logits\n",
    "            loss = loss_fn(logits, b_labels)\n",
    "        \n",
    "        val_loss += loss.item()\n",
    "        val_accuracy += flat_accuracy(logits.cpu().numpy(), b_labels.cpu().numpy())"
   ]
  },
  {
   "cell_type": "code",
   "execution_count": 118,
   "metadata": {},
   "outputs": [
    {
     "name": "stdout",
     "output_type": "stream",
     "text": [
      "  Validation accuracy: 0.6583\n",
      "  Validation loss: 1.1351\n",
      "Training complete! Total time: 0:01:21\n",
      "Best validation accuracy: 0.6750\n"
     ]
    }
   ],
   "source": [
    "# Calculate averages\n",
    "avg_val_accuracy = val_accuracy / len(val_dataloader)\n",
    "avg_val_loss = val_loss / len(val_dataloader)\n",
    "\n",
    "print(f\"  Validation accuracy: {avg_val_accuracy:.4f}\")\n",
    "print(f\"  Validation loss: {avg_val_loss:.4f}\")\n",
    "\n",
    "# Store stats\n",
    "training_stats.append({\n",
    "    'epoch': epoch_i + 1,\n",
    "    'train_loss': avg_train_loss,\n",
    "    'val_loss': avg_val_loss,\n",
    "    'val_accuracy': avg_val_accuracy\n",
    "})\n",
    "\n",
    "\n",
    "#################### NOTE: ONLY UNCOMMENT AND RUN IF BETTER METRICS ARE MET #########################\n",
    "# Save best model\n",
    "if avg_val_accuracy > best_val_accuracy:\n",
    "    best_val_accuracy = avg_val_accuracy\n",
    "    torch.save(model.state_dict(), '../../outputs/week4/models/best_roberta_intention_model.pt')\n",
    "    print(f\"  Saved new best model with accuracy: {best_val_accuracy:.4f}\")\n",
    "\n",
    "print(f\"Training complete! Total time: {format_time(time.time() - total_t0)}\")\n",
    "print(f\"Best validation accuracy: {best_val_accuracy:.4f}\")\n",
    "######################################################################################################"
   ]
  },
  {
   "cell_type": "code",
   "execution_count": 119,
   "metadata": {},
   "outputs": [
    {
     "name": "stdout",
     "output_type": "stream",
     "text": [
      "  F1 score (weighted): 0.7778\n"
     ]
    }
   ],
   "source": [
    "from sklearn.metrics import f1_score\n",
    "\n",
    "# In validation loop:\n",
    "predictions = np.argmax(logits.cpu().numpy(), axis=1)\n",
    "labels = b_labels.cpu().numpy()\n",
    "f1 = f1_score(labels, predictions, average='weighted')\n",
    "print(f\"  F1 score (weighted): {f1:.4f}\")"
   ]
  },
  {
   "cell_type": "code",
   "execution_count": 120,
   "metadata": {},
   "outputs": [
    {
     "data": {
      "image/png": "[encoded data removed]",
      "text/plain": [
       "<Figure size 1000x800 with 2 Axes>"
      ]
     },
     "metadata": {},
     "output_type": "display_data"
    },
    {
     "name": "stdout",
     "output_type": "stream",
     "text": [
      "\n",
      "Classification Report:\n",
      "              precision    recall  f1-score   support\n",
      "\n",
      " INFORMATION       0.69      0.77      0.73        31\n",
      "     PROBLEM       0.72      0.81      0.76        16\n",
      "       ORDER       0.80      0.50      0.62        16\n",
      "    STRATEGY       0.20      0.17      0.18         6\n",
      "     WARNING       0.43      0.60      0.50         5\n",
      "    QUESTION       0.75      0.60      0.67         5\n",
      "\n",
      "    accuracy                           0.66        79\n",
      "   macro avg       0.60      0.58      0.58        79\n",
      "weighted avg       0.67      0.66      0.65        79\n",
      "\n"
     ]
    }
   ],
   "source": [
    "# After validation:\n",
    "from sklearn.metrics import confusion_matrix\n",
    "import seaborn as sns\n",
    "import matplotlib.pyplot as plt\n",
    "\n",
    "# Collect all predictions and labels\n",
    "all_preds = []\n",
    "all_labels = []\n",
    "\n",
    "with torch.no_grad():\n",
    "    for batch in val_dataloader:\n",
    "        b_input_ids = batch[0].to(device)\n",
    "        b_attention_mask = batch[1].to(device)\n",
    "        b_labels = batch[2].to(device)\n",
    "        \n",
    "        outputs = model(b_input_ids, attention_mask=b_attention_mask)\n",
    "        logits = outputs.logits\n",
    "        \n",
    "        all_preds.extend(np.argmax(logits.cpu().numpy(), axis=1))\n",
    "        all_labels.extend(b_labels.cpu().numpy())\n",
    "\n",
    "# Get intent names for labels\n",
    "intent_names = list(intent_mapping.keys())\n",
    "\n",
    "# Create confusion matrix\n",
    "cm = confusion_matrix(all_labels, all_preds)\n",
    "plt.figure(figsize=(10, 8))\n",
    "sns.heatmap(cm, annot=True, fmt='d', cmap='Blues',\n",
    "            xticklabels=intent_names,\n",
    "            yticklabels=intent_names)\n",
    "plt.xlabel('Predicted')\n",
    "plt.ylabel('True')\n",
    "plt.title('Confusion Matrix for Intent Classification')\n",
    "plt.show()\n",
    "\n",
    "# Generate classification report with proper class names\n",
    "print(\"\\nClassification Report:\")\n",
    "print(classification_report(all_labels, all_preds, target_names=intent_names))"
   ]
  },
  {
   "cell_type": "markdown",
   "metadata": {},
   "source": [
    "# RoBERTa-large Intent Classification Model Performance\n",
    "\n",
    "## Results Summary\n",
    "\n",
    "### FIRST RUN\n",
    "- **Best Validation Accuracy**: \n",
    "- **Weighted F1 Score**: \n",
    "- **Training Time**: \n",
    "\n",
    "## Class Performance\n",
    "\n",
    "\n",
    "## Analysis\n"
   ]
  }
 ],
 "metadata": {
  "kernelspec": {
   "display_name": "f1_strat_manager",
   "language": "python",
   "name": "python3"
  },
  "language_info": {
   "codemirror_mode": {
    "name": "ipython",
    "version": 3
   },
   "file_extension": ".py",
   "mimetype": "text/x-python",
   "name": "python",
   "nbconvert_exporter": "python",
   "pygments_lexer": "ipython3",
   "version": "3.10.16"
  }
 },
 "nbformat": 4,
 "nbformat_minor": 2
}
