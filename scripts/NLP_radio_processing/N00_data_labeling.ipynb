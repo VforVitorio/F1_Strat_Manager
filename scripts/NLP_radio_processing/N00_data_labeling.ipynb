{
 "cells": [
  {
   "cell_type": "markdown",
   "metadata": {},
   "source": [
    "# Data labeling\n",
    "\n",
    "For using BERT and comparing results of VADER, I´ll label the dataset in this notebook. Moreover, I will eliminate the end-of-race radios for having a more concise model. If the dataset gets very small, I will raise a flag for extracting more radio messages.\n",
    "\n",
    "Then, I´ll need to rerun the Vader notebook to have the results on our cleaned data."
   ]
  }
 ],
 "metadata": {
  "language_info": {
   "name": "python"
  }
 },
 "nbformat": 4,
 "nbformat_minor": 2
}
