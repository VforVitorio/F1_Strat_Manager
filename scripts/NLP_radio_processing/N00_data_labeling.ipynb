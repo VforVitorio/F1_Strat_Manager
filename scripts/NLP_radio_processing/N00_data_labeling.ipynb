{
 "cells": [
  {
   "cell_type": "markdown",
   "metadata": {},
   "source": [
    "# Data labeling\n",
    "\n",
    "For using BERT and comparing results of VADER, I´ll label the dataset in this notebook. Moreover, I will eliminate the end-of-race radios for having a more concise model. If the dataset gets very small, I will raise a flag for extracting more radio messages.\n",
    "\n",
    "Then, I´ll need to rerun the Vader notebook to have the results on our cleaned data."
   ]
  },
  {
   "cell_type": "code",
   "execution_count": 1,
   "metadata": {},
   "outputs": [],
   "source": [
    "# Importing libraries\n",
    "import pandas as pd\n",
    "import numpy as np\n",
    "import matplotlib.pyplot as plt\n",
    "import seaborn as sns\n",
    "from tqdm.notebook import tqdm"
   ]
  },
  {
   "cell_type": "markdown",
   "metadata": {},
   "source": [
    "### First, uploading the csv \n",
    "\n",
    "First I need to upload the `radios_raw.csv`."
   ]
  },
  {
   "cell_type": "code",
   "execution_count": 2,
   "metadata": {},
   "outputs": [
    {
     "name": "stdout",
     "output_type": "stream",
     "text": [
      "Loaded 684 radio messages\n"
     ]
    },
    {
     "data": {
      "application/vnd.microsoft.datawrangler.viewer.v0+json": {
       "columns": [
        {
         "name": "index",
         "rawType": "int64",
         "type": "integer"
        },
        {
         "name": "driver",
         "rawType": "int64",
         "type": "integer"
        },
        {
         "name": "filename",
         "rawType": "object",
         "type": "string"
        },
        {
         "name": "file_path",
         "rawType": "object",
         "type": "string"
        },
        {
         "name": "text",
         "rawType": "object",
         "type": "string"
        },
        {
         "name": "duration",
         "rawType": "float64",
         "type": "float"
        }
       ],
       "conversionMethod": "pd.DataFrame",
       "ref": "8948d6a6-c3eb-4b04-b967-409896398954",
       "rows": [
        [
         "0",
         "1",
         "driver_(1,)_belgium_radio_39.mp3",
         "..\\..\\f1-strategy\\data\\audio\\driver_(1,)\\driver_(1,)_belgium_radio_39.mp3",
         "So don't forget Max, use your head please. Are we both doing it or what? You just follow my instruction. No, I want to know if both cars do it. Max, please follow my instruction and trust it. Thank you.",
         "15.168"
        ],
        [
         "1",
         "1",
         "driver_(1,)_belgium_radio_40.mp3",
         "..\\..\\f1-strategy\\data\\audio\\driver_(1,)\\driver_(1,)_belgium_radio_40.mp3",
         "Okay Max, we're expecting rain in about 9 or 10 minutes. What are your thoughts? That you can get there or should we box? We'd need to box this lap to cover Leclerc. I can't see the weather, can I? I don't know.",
         "15.576"
        ],
        [
         "2",
         "1",
         "driver_(1,)_belgium_radio_60.mp3",
         "..\\..\\f1-strategy\\data\\audio\\driver_(1,)\\driver_(1,)_belgium_radio_60.mp3",
         "FREDER Reggie",
         "5.424"
        ],
        [
         "3",
         "1",
         "driver_(1,)_belgium_radio_62.mp3",
         "..\\..\\f1-strategy\\data\\audio\\driver_(1,)\\driver_(1,)_belgium_radio_62.mp3",
         "You might find this lap that you meet a little bit more water.",
         "5.088"
        ],
        [
         "4",
         "1",
         "driver_(1,)_belgium_radio_63.mp3",
         "..\\..\\f1-strategy\\data\\audio\\driver_(1,)\\driver_(1,)_belgium_radio_63.mp3",
         "Just another two or three minutes to get through this.",
         "5.712"
        ]
       ],
       "shape": {
        "columns": 5,
        "rows": 5
       }
      },
      "text/html": [
       "<div>\n",
       "<style scoped>\n",
       "    .dataframe tbody tr th:only-of-type {\n",
       "        vertical-align: middle;\n",
       "    }\n",
       "\n",
       "    .dataframe tbody tr th {\n",
       "        vertical-align: top;\n",
       "    }\n",
       "\n",
       "    .dataframe thead th {\n",
       "        text-align: right;\n",
       "    }\n",
       "</style>\n",
       "<table border=\"1\" class=\"dataframe\">\n",
       "  <thead>\n",
       "    <tr style=\"text-align: right;\">\n",
       "      <th></th>\n",
       "      <th>driver</th>\n",
       "      <th>filename</th>\n",
       "      <th>file_path</th>\n",
       "      <th>text</th>\n",
       "      <th>duration</th>\n",
       "    </tr>\n",
       "  </thead>\n",
       "  <tbody>\n",
       "    <tr>\n",
       "      <th>0</th>\n",
       "      <td>1</td>\n",
       "      <td>driver_(1,)_belgium_radio_39.mp3</td>\n",
       "      <td>..\\..\\f1-strategy\\data\\audio\\driver_(1,)\\drive...</td>\n",
       "      <td>So don't forget Max, use your head please. Are...</td>\n",
       "      <td>15.168</td>\n",
       "    </tr>\n",
       "    <tr>\n",
       "      <th>1</th>\n",
       "      <td>1</td>\n",
       "      <td>driver_(1,)_belgium_radio_40.mp3</td>\n",
       "      <td>..\\..\\f1-strategy\\data\\audio\\driver_(1,)\\drive...</td>\n",
       "      <td>Okay Max, we're expecting rain in about 9 or 1...</td>\n",
       "      <td>15.576</td>\n",
       "    </tr>\n",
       "    <tr>\n",
       "      <th>2</th>\n",
       "      <td>1</td>\n",
       "      <td>driver_(1,)_belgium_radio_60.mp3</td>\n",
       "      <td>..\\..\\f1-strategy\\data\\audio\\driver_(1,)\\drive...</td>\n",
       "      <td>FREDER Reggie</td>\n",
       "      <td>5.424</td>\n",
       "    </tr>\n",
       "    <tr>\n",
       "      <th>3</th>\n",
       "      <td>1</td>\n",
       "      <td>driver_(1,)_belgium_radio_62.mp3</td>\n",
       "      <td>..\\..\\f1-strategy\\data\\audio\\driver_(1,)\\drive...</td>\n",
       "      <td>You might find this lap that you meet a little...</td>\n",
       "      <td>5.088</td>\n",
       "    </tr>\n",
       "    <tr>\n",
       "      <th>4</th>\n",
       "      <td>1</td>\n",
       "      <td>driver_(1,)_belgium_radio_63.mp3</td>\n",
       "      <td>..\\..\\f1-strategy\\data\\audio\\driver_(1,)\\drive...</td>\n",
       "      <td>Just another two or three minutes to get throu...</td>\n",
       "      <td>5.712</td>\n",
       "    </tr>\n",
       "  </tbody>\n",
       "</table>\n",
       "</div>"
      ],
      "text/plain": [
       "   driver                          filename  \\\n",
       "0       1  driver_(1,)_belgium_radio_39.mp3   \n",
       "1       1  driver_(1,)_belgium_radio_40.mp3   \n",
       "2       1  driver_(1,)_belgium_radio_60.mp3   \n",
       "3       1  driver_(1,)_belgium_radio_62.mp3   \n",
       "4       1  driver_(1,)_belgium_radio_63.mp3   \n",
       "\n",
       "                                           file_path  \\\n",
       "0  ..\\..\\f1-strategy\\data\\audio\\driver_(1,)\\drive...   \n",
       "1  ..\\..\\f1-strategy\\data\\audio\\driver_(1,)\\drive...   \n",
       "2  ..\\..\\f1-strategy\\data\\audio\\driver_(1,)\\drive...   \n",
       "3  ..\\..\\f1-strategy\\data\\audio\\driver_(1,)\\drive...   \n",
       "4  ..\\..\\f1-strategy\\data\\audio\\driver_(1,)\\drive...   \n",
       "\n",
       "                                                text  duration  \n",
       "0  So don't forget Max, use your head please. Are...    15.168  \n",
       "1  Okay Max, we're expecting rain in about 9 or 1...    15.576  \n",
       "2                                      FREDER Reggie     5.424  \n",
       "3  You might find this lap that you meet a little...     5.088  \n",
       "4  Just another two or three minutes to get throu...     5.712  "
      ]
     },
     "execution_count": 2,
     "metadata": {},
     "output_type": "execute_result"
    }
   ],
   "source": [
    "# Load the radios_raw.csv into a Dataframe. \n",
    "df = pd.read_csv(\"../../outputs/week4/radios_raw.csv\")\n",
    "df = df.reset_index(drop=True)\n",
    "# Displaying basic information\n",
    "print(f\"Loaded {len(df)} radio messages\")\n",
    "df.head()"
   ]
  },
  {
   "cell_type": "markdown",
   "metadata": {},
   "source": [
    "## Filtering Out Post-Race Radio Messages\n",
    "\n",
    "I need to eliminate the post-race radio messages that can bias the behaviour of our next models. \n",
    "\n",
    "### Identifying post-race messages\n",
    "\n",
    "For identifying the post-race messages, these are some examples that can help detecting them:\n",
    "\n",
    "* Congratulatory messages.\n",
    "* Race result discussions.\n",
    "* Thank you messages to the team.\n",
    "* references to \"the race\" in past tense.\n",
    "* Cool-down lap instructions.\n",
    "\n",
    "--- "
   ]
  },
  {
   "cell_type": "markdown",
   "metadata": {},
   "source": [
    "### Code to filter messages\n",
    "\n",
    "I will add a simple code function to try to detect this messages automatically. Then, after this test, I can proceed to delete the radio messages manually.\n"
   ]
  },
  {
   "cell_type": "code",
   "execution_count": 3,
   "metadata": {},
   "outputs": [],
   "source": [
    "# First, let's examine some examples that might be post-race messages\n",
    "# Look for rows containing certain keywords\n",
    "post_race_keywords = [\n",
    "    'race is over', 'good job',  'great race', 'next race',\n",
    "    'cool down', 'cool-down', 'congratulations', 'result', 'finished'\n",
    "]\n",
    "\n",
    "# Create a function to check if a message appears to be post-race\n",
    "def is_post_race(text):\n",
    "    text_lower = text.lower()\n",
    "    for keyword in post_race_keywords:\n",
    "        if keyword in text_lower:\n",
    "            return True\n",
    "    return False\n",
    "\n",
    "# Add a new column indicating if the message appears to be post-race\n",
    "df['is_post_race'] = df['text'].apply(is_post_race)\n",
    "\n",
    "\n",
    "\n"
   ]
  },
  {
   "cell_type": "code",
   "execution_count": 4,
   "metadata": {},
   "outputs": [
    {
     "name": "stdout",
     "output_type": "stream",
     "text": [
      "Identified 37 potential post-race messages out of 684 total\n"
     ]
    }
   ],
   "source": [
    "# Count potential post-race messages\n",
    "post_race_count = df['is_post_race'].sum()\n",
    "print(f\"Identified {post_race_count} potential post-race messages out of {len(df)} total\")"
   ]
  },
  {
   "cell_type": "code",
   "execution_count": 5,
   "metadata": {},
   "outputs": [
    {
     "name": "stdout",
     "output_type": "stream",
     "text": [
      "\n",
      "Sample post-race messages:\n",
      "Driver 1: Yeah, I gave it all. I was a bit unlucky. Still I think some okay points I guess after difficult weekend. Yeah, well done Max. That was a really strong drive today. As GP said, we got had over by the safety car, but your comeback after the stop was very, very strong. So without the safety car, I think it could have been a better race for us today, but good job. Yeah, it was quite good. Quite cool. It's been a hell of a run and yeah, it was always going to come to a close at one point, but brush yourself down and go again next weekend. Yeah, it's okay. They can take one. We'll go again next week.\n",
      "--------------------------------------------------\n",
      "Driver 10: Yeah, I had this dust on my eye, like I've been crying the last 20 laps driving one, with one eye. Not the easiest. Not bad for one eye though. Someone will give you some drops. If you see me crying, it's not because I'm emotional for P7. Alright, alright, we won't tell anyone. Good step guys. Good job. Two more to go. Try to do better next time in Vegas. Yeah, two more to go. Thank you mate.\n",
      "--------------------------------------------------\n",
      "Driver 14: Good job. Thank you guys.\n",
      "--------------------------------------------------\n",
      "Driver 14: Yeah, that's the podium baby. Well done guys. Not an easy race. Well executed. Bravo! Well done mate, well done. That's P2. We're getting there. Next race, P1. Well done. Yes, yes, yes. I'm very happy mate. I know it's not a win, but I said it was not easy to drive with the rain. So, well done guys. Bravo! ещё amazing day! No lunchbook! eyelashes take a break. In the video game, REMP the black raven nakonan at the top 20 Quem is western based on the UFO Research Lipton mission 8 От� to rakian nakon and backing up hearing from the UFO upside behind the odd lines on the ADA minded rein at 이거는acle mid to either английsky artistyan or at the other barešanだから pressing the black column or the random 크 clam. Okay. Wow, we're going to grab some Mangalθ Mastermind. The pike ram we also follow, 이거를 combate the term, gage the 1000케 swoim, bruin, looking at this, versus P3 and 2015 weregreat in Germany and Tim Men knows is the conversation with the two 127.\n",
      "--------------------------------------------------\n",
      "Driver 14: So there is a small chance of rain in about 10 laps. I'll keep you updated. Good job mate, good job. Good puppy. Good job guys. Got it flying.\n",
      "--------------------------------------------------\n",
      "Driver 16: Good job. Lieutenant, good job. Well managed.\n",
      "--------------------------------------------------\n",
      "Driver 16: Good job. You've done a good job. Well managed. And P3, P3, reminder, no in-lap. No in-lap.\n",
      "--------------------------------------------------\n",
      "Driver 16: and Inter is the right tyre, so continue like this, you are doing a good job Russell lap time 43.5\n",
      "--------------------------------------------------\n",
      "Driver 20: I think you did a fantastic job with the car you had there Kev, I really did. Well done mate, sorry for where we finished. Yeah, let's just get through this until we get something better. Thanks for the effort. No worries Kev, thanks for your effort, that really was a mega job with the car you've got.\n",
      "--------------------------------------------------\n",
      "Driver 20: And just, again, just fantastic. So happy for you. Happy for us. Thanks, man. Likewise, mate. Good job, man. Proud of everyone. Proud of everyone. Guys in the garage, thanks, man. F***ing legends.\n",
      "--------------------------------------------------\n",
      "Driver 22: Yuki is difficult for everybody. You're doing a good job.\n",
      "--------------------------------------------------\n",
      "Driver 23: Yeah, that's a checkered flag, checkered flag. So P8. Yes, well done everyone. That was a tough race. I think I could have done a bit better on that second quarter pit there, but yeah, I mean we've got really strong pace. We should be very proud of that. We were P6 on pure pace, so that was amazing. In a way, I'm a bit disappointed, but well done everyone. Alex, well done. You drove admirably today and we didn't get it all right, as you said on decisions, that's on our shoulders as well, but you caught back up and in a dry race you would have finished sixth, so I'm out. Either way, well done. This is some difficult conditions across this weekend and you brought home some really good points. Yeah, thanks James. I think in a weird way that some of the quicker cars behind us, I felt took a bit more risk with the pitting early thing, because I could. Yeah, copy that. You know we'll review it, but in the meantime, if I told you we were going to come here and get a bit of my arm off, hold up. Thank you. Why don't everyone. Thank you. Why don't everyone. I, by ús, I like this cool thing. And I think I did very well.\n",
      "--------------------------------------------------\n",
      "Driver 27: Niko, very good job. You are closing up on everyone ahead now. This pace is amazing.\n",
      "--------------------------------------------------\n",
      "Driver 27: It's not much possible there, I mean, we could go the speed of these guys, but not overtake. Yeah, copy that man. It's a good job today by you. Some really good overtakes in the dry too and then, yep, you did what we could, so P12.\n",
      "--------------------------------------------------\n",
      "Driver 27: Okay, that's two times past safety car line one, so you can catch the pack. The main pack is going into seven. Okay, Nikos, good job on brakes. You're with the pack now. So the people who have stopped is Bottas onto medium, Stroll onto medium, you and Lawson onto medium, and Russell's gone under hard. Other people have not stopped yet, they're all still on soft. The next rain, if it comes, would be in like 25 laps. So we'll see what happens there, otherwise we'll just see how long we can take this tire.\n",
      "--------------------------------------------------\n",
      "Driver 31: Well done mate, that was very impressive. Thank you guys. We needed one more lap unfortunately. I know, I know. One more lap would have been nice. Yeah, very good job, very good job. Nice few points, good job.\n",
      "--------------------------------------------------\n",
      "Driver 31: Okay, and that is P10. So in the end we were the only car that finished that did a three stop. Everyone else did two. Yeah, copy. There was no way in trying because the deck was super high so... Yeah, absolutely right. It was worth a go. A bit of luck slightly differently and it could have been a very different story. So well done for sticking with it. Still from P14, I'll take a point.\n",
      "--------------------------------------------------\n",
      "Driver 31: OK, and that is the checkered flag. As he finished P10, the front area has got a penalty for speeding in the pit lane before everything restarted again. So that puts Pierre third, so he's got a podium, which is good for the team.\n",
      "--------------------------------------------------\n",
      "Driver 4: And good job, I have to say very good job. You distracted the mods we had today You would have thought eh? Well done, nice, nice comeback Yeah, good job Not an ideal weekend, but it's just some good points. So thank you very much Exactly mate, damage invitation. Well done Well done\n",
      "--------------------------------------------------\n",
      "Driver 4: Okay mate, P2, P2, vamos! Great race mate, fantastic drive and fastest lap, fastest lap. Yeah, yeah, good job everyone, amazing. Good weekend, better start today, great pace all weekend. Yeah, amazing, can't get a lot better, just always one car in the way. But very happy, well done everyone.\n",
      "--------------------------------------------------\n",
      "Driver 4: Okay mate, that's P9, P9. Uh huh. Yeah, yeah, good job everyone. Okay mate, that's P9, P9. Uh huh. Yeah, yeah, good job everyone. Good, good little couple points. Best we could do today. Pace is good obviously. So yeah, let's keep pushing guys. Keep it up. Thank you very much. Thank you.\n",
      "--------------------------------------------------\n",
      "Driver 4: Yeah, yeah, good job everyone. Good, good little couple points. Best we could do today. Pace is good obviously. So, yeah, let's keep pushing guys. Keep it up. Thank you very much.\n",
      "--------------------------------------------------\n",
      "Driver 4: Awesome job boys and girls, thank you so much. It's a tough one. Amazing result, thank you. I love you all so much.\n",
      "--------------------------------------------------\n",
      "Driver 40: Okay Liam, so Yuki got a penalty and that's P13 for you today. P13, good effort, good effort. I think you should be pleased. Cool, yeah. Considering the amount of time that we lost at the start, yeah. Good job. I enjoyed that. Okay, glad you enjoyed it. Still a lot of work ahead and we get ready again. Unfortunate with the penalty, very unfortunate. But you did all the right things today and we review the details for next time. Yeah, for sure. To be honest, I started to get a bit more of a feeling on the soft when I got clean air. That medium set I didn't feel very comfortable on, but I started to get more of an understanding on that soft. Yeah, I copied that. And we wanted to try something on the medium because there was not too much to lose. But yeah, the soft was a good component. So, I think the soft was a good component.\n",
      "--------------------------------------------------\n",
      "Driver 40: And that's P9 for you today. And yeah, I think that's probably gonna stay P9. It's 11 seconds to press. But that's the Red Bull. Good effort, good fighting out there. Okay mate, P9 should be pleased with that. We've got Pascal ahead of us. I think you've defended very very hard. That was a good job. Mate, I gave that everything. There's nothing left. Yeah, that's what we need. That's why you're here mate. Okay, very good race mate. And you've got a lot of coverage. You should be pleased. You should be pleased. Same again next week. No time to rest. I can't hear that. Thank you guys for the hard work. It's good to get a couple of points. I feel like we've missed out on a bit, but you guys did a good job. And I really gave that everything. And we will do a practice art festival in Japan. Practice art festival in Japan. Please not. I know mate, I know. Apologies guys, because that's not good enough, honestly. That's okay. That's why we're here. We keep working. I'm good, Jermit. And I'm happy to get points. It's been a long, long season so far. I'm happy. I'm happy. I'm happy.\n",
      "--------------------------------------------------\n",
      "Driver 44: Well done Lewis mate, that's P8. Hard at work P8 but yeah well done mate. Yeah thanks Mono, that was a long slow and tough and confident. Yeah copy same here mate, but yeah got lots to look at and yeah get it sorted for the next two. Lewis, horrible for all of us, car can't go back like this from one race to the other, we need to find out what went wrong. But yeah thank you for surviving that. No no, let's speak after. Well done to the lads though, you know it's not the result we wanted but still did a really great job during the weekend to pit stops, thanks. Yeah thanks Lewis, much appreciated.\n",
      "--------------------------------------------------\n",
      "Driver 44: I think it's another lap man. Yes mate, yes. Just one more lap, that would have done it. But great job there mate, so that's P3 and fastest lap. Lewis, five hours later. Sir, yeah, I hear you Toto. Thanks so much for the support, for the positive words. It's not the easiest of weekends, but good result in the end. Thank you. Peace out guys.\n",
      "--------------------------------------------------\n",
      "Driver 55: We are doing great with the car we have, good job!\n",
      "--------------------------------------------------\n",
      "Driver 55: It was very difficult out there, good job. Yeah, I think we did the maximum today guys. There was not a lot more in this.\n",
      "--------------------------------------------------\n",
      "Driver 55: What we are doing with tyres is very good, good job.\n",
      "--------------------------------------------------\n",
      "Driver 63: Good job, that was P6 in the end. Yeah, good job guys, good recovery after a very tough weekend so far. But the race felt good. Let's reset and go again. Yep. Enjoy a nice two weeks off.\n",
      "--------------------------------------------------\n",
      "Driver 63: The car doesn't feel right after that touch I'm just trying to bring home alright? Yeah AFIRM you're doing a really good job, you've got three laps remaining.\n",
      "--------------------------------------------------\n",
      "Driver 63: Okay, so that's P5. Good considering where we started. Shame about the trip to the Kinsdale Road. Ah, so sorry guys. Should have had that podium. So maybe it's weekend. Looked quite tricky out there. Tricky for everyone. George, nevertheless well done. You finished P5. You started P8. It was a horrible race. So right calls strategy wise and that's good. Good. Yeah, thanks Hoto. On to next week.\n",
      "--------------------------------------------------\n",
      "Driver 81: Sorry about that Oscar frustrating day, unfortunately that was set in turn one lap one with not being able to un-lap. Ricciardo fared similarly, so we finished P14 with retirement behind us. Yeah, it's over before it began, but thank you very much to everyone who fixed the car. It was a very, very impressive effort, so thank you. I still learnt a lot from getting the laps in today, so thank you very much to everyone who helped fix it. Thank you. Yeah, agreed Oscar, fantastic job getting the car back out.\n",
      "--------------------------------------------------\n",
      "Driver 81: Nice race Oscar, good job. Yep, thanks guys. Nice to have both of us in the points. Really good strategy, really really good call.\n",
      "--------------------------------------------------\n",
      "Driver 81: Yeah, I think a few missed opportunities. Yeah, sorry for the lock up. But yeah, nice to recover back to the points. And yeah, back at it again next week. So let's have some fun. Yeah, good job. Good job today. Tried really well.\n",
      "--------------------------------------------------\n",
      "Driver 81: Checkered flag, Oscar. Well done, mate. Well done. Finished P7. Really good job, mate. Ten places in the race. Fantastic. Yeah, thank you. Well done. And well done to Lando as well. I saw he was there for a lot of the race, so... Yeah, well done, everybody. Thank you to my guys. I know we're missing a couple of people. And, yeah, nice to get some points after yesterday, so thank you very much. And looking forward to Japan next week. Cheers, guys.\n",
      "--------------------------------------------------\n"
     ]
    }
   ],
   "source": [
    "# Preview some of the identified post-race messages\n",
    "print(\"\\nSample post-race messages:\")\n",
    "for idx, row in df[df['is_post_race'] == True].head(50).iterrows():\n",
    "    print(f\"Driver {row['driver']}: {row['text']}\")\n",
    "    print(\"-\" * 50)\n",
    "\n"
   ]
  },
  {
   "cell_type": "code",
   "execution_count": 6,
   "metadata": {},
   "outputs": [
    {
     "name": "stdout",
     "output_type": "stream",
     "text": [
      "\n",
      "NOTE: This automatic detection is just a first pass.\n",
      "\n",
      " Now I need to review manually\n"
     ]
    }
   ],
   "source": [
    "# Manual verification step (important!)\n",
    "print(\"\\nNOTE: This automatic detection is just a first pass.\")\n",
    "print(\"\\n Now I need to review manually\")\n",
    "\n",
    "df_not_cleaned = df.to_csv(\"../../outputs/week4/not_filtered.csv\")"
   ]
  },
  {
   "cell_type": "markdown",
   "metadata": {},
   "source": [
    "### Manual Review and Filtering\n",
    "\n",
    "After manual review, 49 radios are going to be deleted. Therefore, I think it is a good idea to **add more radios, at least 3 races more, to have a good amount of radios**. After that, I will proceed to make again a manual analysis and eliminate the radios."
   ]
  },
  {
   "cell_type": "markdown",
   "metadata": {},
   "source": [
    "### More steps: eliminating columns that are irrelevant for data labeling.\n",
    "\n",
    "For sentiment analysis, columns like **file_path, duration, filename and post_race** are not relevant for sentiment analysis. Therefore, I will eliminate them from the dataframe and generate a csv with this filtered radios.\n",
    "\n",
    "Moreover, I will change the name of the column from \"text\" to \"radio_message\"."
   ]
  },
  {
   "cell_type": "code",
   "execution_count": 7,
   "metadata": {},
   "outputs": [],
   "source": [
    "# Now this filtered dataset is ready for sentiment labeling\n",
    "# I can now eliminate the columns\n",
    "columns_to_drop = [\"is_post_race\", \"file_path\", \"duration\", \"filename\"]\n",
    "df_filtered = df.drop(columns=columns_to_drop)\n",
    "\n",
    "df_filtered = df_filtered.rename(columns={'text': 'radio_message'})\n",
    "\n",
    "\n",
    "df_filtered.to_csv(\"../../outputs/week4/radios_2_columns.csv\")"
   ]
  },
  {
   "cell_type": "markdown",
   "metadata": {},
   "source": [
    "--- \n",
    "\n",
    "## Sentiment Labeling"
   ]
  },
  {
   "cell_type": "markdown",
   "metadata": {},
   "source": [
    "#### Creating the sentiment column (empty)"
   ]
  },
  {
   "cell_type": "code",
   "execution_count": 8,
   "metadata": {},
   "outputs": [
    {
     "data": {
      "application/vnd.microsoft.datawrangler.viewer.v0+json": {
       "columns": [
        {
         "name": "index",
         "rawType": "int64",
         "type": "integer"
        },
        {
         "name": "driver",
         "rawType": "int64",
         "type": "integer"
        },
        {
         "name": "radio_message",
         "rawType": "object",
         "type": "string"
        },
        {
         "name": "sentiment",
         "rawType": "object",
         "type": "string"
        }
       ],
       "conversionMethod": "pd.DataFrame",
       "ref": "b00ed835-5d94-4a9b-b3b4-3419f7589da3",
       "rows": [
        [
         "0",
         "1",
         "So don't forget Max, use your head please. Are we both doing it or what? You just follow my instruction. No, I want to know if both cars do it. Max, please follow my instruction and trust it. Thank you.",
         ""
        ],
        [
         "1",
         "1",
         "Okay Max, we're expecting rain in about 9 or 10 minutes. What are your thoughts? That you can get there or should we box? We'd need to box this lap to cover Leclerc. I can't see the weather, can I? I don't know.",
         ""
        ],
        [
         "2",
         "1",
         "FREDER Reggie",
         ""
        ],
        [
         "3",
         "1",
         "You might find this lap that you meet a little bit more water.",
         ""
        ],
        [
         "4",
         "1",
         "Just another two or three minutes to get through this.",
         ""
        ]
       ],
       "shape": {
        "columns": 3,
        "rows": 5
       }
      },
      "text/html": [
       "<div>\n",
       "<style scoped>\n",
       "    .dataframe tbody tr th:only-of-type {\n",
       "        vertical-align: middle;\n",
       "    }\n",
       "\n",
       "    .dataframe tbody tr th {\n",
       "        vertical-align: top;\n",
       "    }\n",
       "\n",
       "    .dataframe thead th {\n",
       "        text-align: right;\n",
       "    }\n",
       "</style>\n",
       "<table border=\"1\" class=\"dataframe\">\n",
       "  <thead>\n",
       "    <tr style=\"text-align: right;\">\n",
       "      <th></th>\n",
       "      <th>driver</th>\n",
       "      <th>radio_message</th>\n",
       "      <th>sentiment</th>\n",
       "    </tr>\n",
       "  </thead>\n",
       "  <tbody>\n",
       "    <tr>\n",
       "      <th>0</th>\n",
       "      <td>1</td>\n",
       "      <td>So don't forget Max, use your head please. Are...</td>\n",
       "      <td></td>\n",
       "    </tr>\n",
       "    <tr>\n",
       "      <th>1</th>\n",
       "      <td>1</td>\n",
       "      <td>Okay Max, we're expecting rain in about 9 or 1...</td>\n",
       "      <td></td>\n",
       "    </tr>\n",
       "    <tr>\n",
       "      <th>2</th>\n",
       "      <td>1</td>\n",
       "      <td>FREDER Reggie</td>\n",
       "      <td></td>\n",
       "    </tr>\n",
       "    <tr>\n",
       "      <th>3</th>\n",
       "      <td>1</td>\n",
       "      <td>You might find this lap that you meet a little...</td>\n",
       "      <td></td>\n",
       "    </tr>\n",
       "    <tr>\n",
       "      <th>4</th>\n",
       "      <td>1</td>\n",
       "      <td>Just another two or three minutes to get throu...</td>\n",
       "      <td></td>\n",
       "    </tr>\n",
       "  </tbody>\n",
       "</table>\n",
       "</div>"
      ],
      "text/plain": [
       "   driver                                      radio_message sentiment\n",
       "0       1  So don't forget Max, use your head please. Are...          \n",
       "1       1  Okay Max, we're expecting rain in about 9 or 1...          \n",
       "2       1                                      FREDER Reggie          \n",
       "3       1  You might find this lap that you meet a little...          \n",
       "4       1  Just another two or three minutes to get throu...          "
      ]
     },
     "execution_count": 8,
     "metadata": {},
     "output_type": "execute_result"
    }
   ],
   "source": [
    "df_filtered[\"sentiment\"] =\"\"\n",
    "\n",
    "df_filtered.head()"
   ]
  },
  {
   "cell_type": "markdown",
   "metadata": {},
   "source": [
    "### Labeling the data manually\n"
   ]
  },
  {
   "cell_type": "code",
   "execution_count": 9,
   "metadata": {},
   "outputs": [
    {
     "data": {
      "application/vnd.jupyter.widget-view+json": {
       "model_id": "4d832d66486e4584b1f5745fbd9b0f2a",
       "version_major": 2,
       "version_minor": 0
      },
      "text/plain": [
       "HTML(value='')"
      ]
     },
     "metadata": {},
     "output_type": "display_data"
    },
    {
     "data": {
      "application/vnd.jupyter.widget-view+json": {
       "model_id": "26ec82e334d54308af63b5ea20022eaf",
       "version_major": 2,
       "version_minor": 0
      },
      "text/plain": [
       "HTML(value='')"
      ]
     },
     "metadata": {},
     "output_type": "display_data"
    },
    {
     "data": {
      "application/vnd.jupyter.widget-view+json": {
       "model_id": "1e5ff7d325be40b1a9df435bbe6d033e",
       "version_major": 2,
       "version_minor": 0
      },
      "text/plain": [
       "HTML(value='')"
      ]
     },
     "metadata": {},
     "output_type": "display_data"
    },
    {
     "data": {
      "application/vnd.jupyter.widget-view+json": {
       "model_id": "40ee8ff3c6ab42ce83cc383c4ee7e22a",
       "version_major": 2,
       "version_minor": 0
      },
      "text/plain": [
       "HBox(children=(Button(button_style='success', description='Positivo', style=ButtonStyle()), Button(button_styl…"
      ]
     },
     "metadata": {},
     "output_type": "display_data"
    },
    {
     "data": {
      "application/vnd.jupyter.widget-view+json": {
       "model_id": "015c99bb83e54840b7571d8cbd10f8c6",
       "version_major": 2,
       "version_minor": 0
      },
      "text/plain": [
       "Button(button_style='warning', description='Eliminar mensaje', style=ButtonStyle())"
      ]
     },
     "metadata": {},
     "output_type": "display_data"
    },
    {
     "data": {
      "application/vnd.jupyter.widget-view+json": {
       "model_id": "2763f918f4ef43598eda7a65249d5000",
       "version_major": 2,
       "version_minor": 0
      },
      "text/plain": [
       "HBox(children=(Button(description='Anterior', style=ButtonStyle()), Button(description='Siguiente', style=Butt…"
      ]
     },
     "metadata": {},
     "output_type": "display_data"
    },
    {
     "data": {
      "application/vnd.jupyter.widget-view+json": {
       "model_id": "47da03ebabd24a8bab20a3d8ca0a6852",
       "version_major": 2,
       "version_minor": 0
      },
      "text/plain": [
       "HTML(value='')"
      ]
     },
     "metadata": {},
     "output_type": "display_data"
    },
    {
     "data": {
      "application/vnd.jupyter.widget-view+json": {
       "model_id": "9f32c116eb1d41c7bddc68b1d995b9b7",
       "version_major": 2,
       "version_minor": 0
      },
      "text/plain": [
       "HTML(value='Mensajes eliminados: 0')"
      ]
     },
     "metadata": {},
     "output_type": "display_data"
    }
   ],
   "source": [
    "from ipywidgets import widgets\n",
    "from IPython.display import display, clear_output\n",
    "import pandas as pd\n",
    "\n",
    "# Preparar el dataframe\n",
    "df_labeling = df_filtered.copy()\n",
    "df_labeling = df_labeling.reset_index(drop=True)\n",
    "\n",
    "# Crear una copia para el dataset filtrado (sin los mensajes eliminados)\n",
    "df_filtered_messages = df_labeling.copy()\n",
    "\n",
    "# Asegurar que existe la columna sentiment\n",
    "if 'sentiment' not in df_labeling.columns:\n",
    "    df_labeling['sentiment'] = None\n",
    "\n",
    "# Contador global para rastrear el mensaje actual\n",
    "current_idx = 0\n",
    "# Variable global para contar eliminados\n",
    "deleted_count = 0\n",
    "\n",
    "# Crear widgets\n",
    "message_text = widgets.HTML()\n",
    "driver_text = widgets.HTML()\n",
    "index_text = widgets.HTML()\n",
    "\n",
    "# Botones de sentimiento\n",
    "positive_button = widgets.Button(description='Positivo', button_style='success')\n",
    "negative_button = widgets.Button(description='Negativo', button_style='danger')\n",
    "neutral_button = widgets.Button(description='Neutral', button_style='info')\n",
    "\n",
    "# Botón de eliminar\n",
    "delete_button = widgets.Button(description='Eliminar mensaje', button_style='warning')\n",
    "\n",
    "# Botones de navegación\n",
    "prev_button = widgets.Button(description='Anterior')\n",
    "next_button = widgets.Button(description='Siguiente')\n",
    "save_button = widgets.Button(description='Guardar', button_style='warning')\n",
    "\n",
    "# Texto de estado\n",
    "status_text = widgets.HTML()\n",
    "deleted_text = widgets.HTML(value=\"Mensajes eliminados: 0\")\n",
    "\n",
    "# Función para actualizar la visualización\n",
    "def update_display():\n",
    "    global current_idx\n",
    "    \n",
    "    # Obtener mensaje actual\n",
    "    message = df_labeling.loc[current_idx, 'radio_message']\n",
    "    driver = df_labeling.loc[current_idx, 'driver']\n",
    "    \n",
    "    # Actualizar widgets\n",
    "    message_text.value = f\"<b>Mensaje:</b> \\\"{message}\\\"\"\n",
    "    driver_text.value = f\"<b>Conductor:</b> {driver}\"\n",
    "    index_text.value = f\"<b>Mensaje {current_idx+1} de {len(df_labeling)}</b>\"\n",
    "    \n",
    "    # Comprobar si este mensaje ha sido marcado como eliminado\n",
    "    is_deleted = current_idx not in df_filtered_messages.index\n",
    "    \n",
    "    # Mostrar etiqueta actual si existe\n",
    "    current_sentiment = df_labeling.loc[current_idx, 'sentiment']\n",
    "    if is_deleted:\n",
    "        status_text.value = \"<b style='color:red'>ELIMINADO</b>\"\n",
    "    elif pd.notna(current_sentiment):\n",
    "        status_text.value = f\"<b>Etiqueta actual:</b> {current_sentiment}\"\n",
    "    else:\n",
    "        status_text.value = \"<b>Sin etiquetar</b>\"\n",
    "    \n",
    "    # Actualizar contador de eliminados\n",
    "    deleted_text.value = f\"Mensajes eliminados: {deleted_count}\"\n",
    "\n",
    "# Manejadores de eventos\n",
    "def on_positive_clicked(b):\n",
    "    global current_idx\n",
    "    df_labeling.loc[current_idx, 'sentiment'] = 'positive'\n",
    "    status_text.value = \"<b>Etiquetado como POSITIVO</b>\"\n",
    "    \n",
    "    # Pasar al siguiente mensaje automáticamente\n",
    "    if current_idx < len(df_labeling) - 1:\n",
    "        current_idx += 1\n",
    "        update_display()\n",
    "\n",
    "def on_negative_clicked(b):\n",
    "    global current_idx\n",
    "    df_labeling.loc[current_idx, 'sentiment'] = 'negative'\n",
    "    status_text.value = \"<b>Etiquetado como NEGATIVO</b>\"\n",
    "    \n",
    "    # Pasar al siguiente mensaje automáticamente\n",
    "    if current_idx < len(df_labeling) - 1:\n",
    "        current_idx += 1\n",
    "        update_display()\n",
    "\n",
    "def on_neutral_clicked(b):\n",
    "    global current_idx\n",
    "    df_labeling.loc[current_idx, 'sentiment'] = 'neutral'\n",
    "    status_text.value = \"<b>Etiquetado como NEUTRAL</b>\"\n",
    "    \n",
    "    # Pasar al siguiente mensaje automáticamente\n",
    "    if current_idx < len(df_labeling) - 1:\n",
    "        current_idx += 1\n",
    "        update_display()\n",
    "\n",
    "def on_delete_clicked(b):\n",
    "    global current_idx, deleted_count\n",
    "    \n",
    "    # Eliminar la fila actual del dataframe filtrado\n",
    "    if current_idx in df_filtered_messages.index:\n",
    "        df_filtered_messages.drop(current_idx, inplace=True)\n",
    "        deleted_count += 1\n",
    "        status_text.value = \"<b style='color:red'>MENSAJE ELIMINADO</b>\"\n",
    "        update_display()\n",
    "\n",
    "def on_prev_clicked(b):\n",
    "    global current_idx\n",
    "    if current_idx > 0:\n",
    "        current_idx -= 1\n",
    "        update_display()\n",
    "\n",
    "def on_next_clicked(b):\n",
    "    global current_idx\n",
    "    if current_idx < len(df_labeling) - 1:\n",
    "        current_idx += 1\n",
    "        update_display()\n",
    "\n",
    "def on_save_clicked(b):\n",
    "    # Guardar ambos archivos\n",
    "    # 1. Archivo con todos los mensajes etiquetados\n",
    "    df_labeling.to_csv('../../outputs/week4/radio_labeled_data.csv', index=False)\n",
    "    \n",
    "    # 2. Archivo solo con los mensajes no eliminados\n",
    "    df_filtered_messages.reset_index(drop=True).to_csv('../../outputs/week4/radio_filtered.csv', index=False)\n",
    "    \n",
    "    # Contar mensajes etiquetados\n",
    "    labeled_count = df_labeling['sentiment'].notna().sum()\n",
    "    total = len(df_labeling)\n",
    "    percent = (labeled_count / total) * 100\n",
    "    \n",
    "    # Mostrar estadísticas\n",
    "    stats = df_labeling['sentiment'].value_counts()\n",
    "    pos = stats.get('positive', 0)\n",
    "    neg = stats.get('negative', 0)\n",
    "    neu = stats.get('neutral', 0)\n",
    "    \n",
    "    # Actualizar estado\n",
    "    status_text.value = (f\"<b>¡Guardado!</b> {labeled_count}/{total} mensajes etiquetados ({percent:.1f}%)<br>\"\n",
    "                         f\"Positivos: {pos}, Negativos: {neg}, Neutrales: {neu}<br>\"\n",
    "                         f\"<b>Archivos guardados:</b><br>\"\n",
    "                         f\"- radio_labeled_data.csv (todos los mensajes)<br>\"\n",
    "                         f\"- radio_filtered.csv (sin los {deleted_count} eliminados)\")\n",
    "\n",
    "# Conectar eventos a botones\n",
    "positive_button.on_click(on_positive_clicked)\n",
    "negative_button.on_click(on_negative_clicked)\n",
    "neutral_button.on_click(on_neutral_clicked)\n",
    "delete_button.on_click(on_delete_clicked)\n",
    "prev_button.on_click(on_prev_clicked)\n",
    "next_button.on_click(on_next_clicked)\n",
    "save_button.on_click(on_save_clicked)\n",
    "\n",
    "# Mostrar widgets\n",
    "display(index_text)\n",
    "display(driver_text)\n",
    "display(message_text)\n",
    "display(widgets.HBox([positive_button, negative_button, neutral_button]))\n",
    "display(delete_button)\n",
    "display(widgets.HBox([prev_button, next_button, save_button]))\n",
    "display(status_text)\n",
    "display(deleted_text)\n",
    "\n",
    "# Inicializar visualización\n",
    "update_display()"
   ]
  },
  {
   "cell_type": "code",
   "execution_count": 10,
   "metadata": {},
   "outputs": [
    {
     "name": "stdout",
     "output_type": "stream",
     "text": [
      "Original dataset size: 684 rows\n",
      "Empty values in the 'sentiment' column: 154\n",
      "Rows removed: 154\n",
      "New dataset size: 530 rows\n",
      "\n",
      "✅ File successfully saved at:\n",
      "../../outputs/week4/radio_clean/radio_labeled_data.csv\n"
     ]
    }
   ],
   "source": [
    "# Load the labeled dataset\n",
    "df_radio_labeled = pd.read_csv(\"../../outputs/week4/radio_clean/radio_labeled_data.csv\")\n",
    "\n",
    "# Check original size\n",
    "original_length = len(df_radio_labeled)\n",
    "print(f\"Original dataset size: {original_length} rows\")\n",
    "\n",
    "# Count empty values in the sentiment column\n",
    "null_count = df_radio_labeled['sentiment'].isna().sum()\n",
    "print(f\"Empty values in the 'sentiment' column: {null_count}\")\n",
    "\n",
    "# Remove rows with empty values in sentiment\n",
    "df_radio_labeled_clean = df_radio_labeled.dropna(subset=['sentiment'])\n",
    "\n",
    "# Verify how many rows were removed\n",
    "new_length = len(df_radio_labeled_clean)\n",
    "removed_count = original_length - new_length\n",
    "print(f\"Rows removed: {removed_count}\")\n",
    "print(f\"New dataset size: {new_length} rows\")\n",
    "\n",
    "# Save the cleaned dataset, overwriting the original file\n",
    "df_radio_labeled_clean.to_csv(\"../../outputs/week4/radio_clean/radio_labeled_data.csv\", index=False)\n",
    "print(\"\\n✅ File successfully saved at:\")\n",
    "print(\"../../outputs/week4/radio_clean/radio_labeled_data.csv\")\n"
   ]
  },
  {
   "cell_type": "markdown",
   "metadata": {},
   "source": [
    "## Conclussions of this notebook\n",
    "\n",
    "I created:\n",
    "- ``radio_labeled_data.csv`` with all the data labeling being made.\n",
    "-  ``radio_filtered.csv`` without the post-race radios."
   ]
  }
 ],
 "metadata": {
  "kernelspec": {
   "display_name": "f1_strat_manager",
   "language": "python",
   "name": "python3"
  },
  "language_info": {
   "codemirror_mode": {
    "name": "ipython",
    "version": 3
   },
   "file_extension": ".py",
   "mimetype": "text/x-python",
   "name": "python",
   "nbconvert_exporter": "python",
   "pygments_lexer": "ipython3",
   "version": "3.10.16"
  }
 },
 "nbformat": 4,
 "nbformat_minor": 2
}
