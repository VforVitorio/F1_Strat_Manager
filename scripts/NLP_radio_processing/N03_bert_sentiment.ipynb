{
 "cells": [
  {
   "cell_type": "markdown",
   "metadata": {},
   "source": [
    "# Formula 1 Radio Sentiment Analysis with Bert\n",
    "\n",
    "In this notebook, two BERT models are implemented:\n",
    "\n",
    "1. First one is a **trained BERT from sratch**.\n",
    "2. Secondly, a **pre-trained BERT model** will be downloaded and fine-tuned with my team radios.\n",
    "\n",
    "After some research, I decided to **not implement the first point**. Here is the explanation:\n",
    "\n",
    "---"
   ]
  },
  {
   "cell_type": "markdown",
   "metadata": {},
   "source": [
    "## Sentiment Analysis for F1 Radio Messages: RoBERTa-base with Fine-tuning\n",
    "\n",
    "### Why RoBERTa-base?\n",
    "\n",
    "RoBERTa-base is our selected model for sentiment analysis of Formula 1 radio communications for the following reasons:\n",
    "\n",
    "1. **Superior performance on sentiment classification**: RoBERTa consistently outperforms BERT in emotion detection tasks due to its improved training methodology and longer pretraining.\n",
    "\n",
    "2. **Strong contextual understanding**: F1 radio messages contain technical jargon, specialized terminology, and driver/team codes that require deep semantic understanding to interpret correctly.\n",
    "\n",
    "3. **Effective with specialized communications**: F1 radio messages typically feature:\n",
    "   - Short, direct communications with minimal context\n",
    "   - Technical terminology and abbreviations (e.g., \"box this lap\", \"DRS enabled\")\n",
    "   - High-pressure communications with non-standard sentence structures\n",
    "   - Team-specific codes and references\n",
    "\n",
    "4. **Better handling of domain-specific language**: RoBERTa's robust pretraining makes it more adaptable to specialized domains like motorsport communications.\n",
    "\n",
    "---\n",
    "\n",
    "### Why Fine-tuning Instead of Training from Scratch?\n",
    "\n",
    "Training RoBERTa from scratch is impractical for our project due to:\n",
    "\n",
    "- **Dataset size limitation**: Our dataset contains only 530 labeled examples, whereas training from scratch would require millions of examples (RoBERTa was pre-trained on ~160GB of text).\n",
    "\n",
    "- **Computational requirements**: Training RoBERTa-base from scratch would require:\n",
    "  - 8+ high-end GPUs (NVIDIA V100/A100).\n",
    "  - 1-2 weeks of continuous training.\n",
    "  - Approximately 200-400GB of GPU memory.\n",
    "  - Estimated cost: $5,000-$10,000 on cloud providers.\n",
    "\n",
    "- **Transfer learning advantage**: Fine-tuning leverages knowledge already encoded in pre-trained weights, requiring only ~2-4 hours on a single GPU to adapt to our F1 domain.\n",
    "\n",
    "By fine-tuning RoBERTa-base, we can achieve excellent performance while utilizing the model's pre-existing understanding of language structure and sentiment, which is particularly valuable given our specialized domain and limited labeled data."
   ]
  },
  {
   "cell_type": "code",
   "execution_count": 3,
   "metadata": {},
   "outputs": [
    {
     "name": "stdout",
     "output_type": "stream",
     "text": [
      "Using device: cuda\n"
     ]
    }
   ],
   "source": [
    "# Cell 1: Import necessary libraries\n",
    "import pandas as pd\n",
    "import numpy as np\n",
    "import torch\n",
    "from torch.utils.data import Dataset, DataLoader\n",
    "from transformers import RobertaTokenizer, RobertaForSequenceClassification, AdamW\n",
    "from transformers import get_linear_schedule_with_warmup\n",
    "from sklearn.model_selection import train_test_split\n",
    "from sklearn.metrics import accuracy_score, classification_report\n",
    "\n",
    "\n",
    "\n",
    "# Check if GPU is available\n",
    "device = torch.device(\"cuda\" if torch.cuda.is_available() else \"cpu\")\n",
    "print(f\"Using device: {device}\")"
   ]
  },
  {
   "cell_type": "markdown",
   "metadata": {},
   "source": [
    "---\n",
    "\n",
    "### Loading the RoBERTa model and also the tokenizer.\n",
    "\n",
    "First, we need to download the RoBERTa model, with its correspondant tokenizer."
   ]
  },
  {
   "cell_type": "code",
   "execution_count": null,
   "metadata": {},
   "outputs": [
    {
     "data": {
      "application/vnd.jupyter.widget-view+json": {
       "model_id": "b4b142e8839f404286a689c82c3514cc",
       "version_major": 2,
       "version_minor": 0
      },
      "text/plain": [
       "tokenizer_config.json:   0%|          | 0.00/25.0 [00:00<?, ?B/s]"
      ]
     },
     "metadata": {},
     "output_type": "display_data"
    },
    {
     "name": "stderr",
     "output_type": "stream",
     "text": [
      "c:\\Users\\victo\\miniconda3\\envs\\f1_strat_manager\\lib\\site-packages\\huggingface_hub\\file_download.py:142: UserWarning: `huggingface_hub` cache-system uses symlinks by default to efficiently store duplicated files but your machine does not support them in C:\\Users\\victo\\.cache\\huggingface\\hub\\models--roberta-base. Caching files will still work but in a degraded version that might require more space on your disk. This warning can be disabled by setting the `HF_HUB_DISABLE_SYMLINKS_WARNING` environment variable. For more details, see https://huggingface.co/docs/huggingface_hub/how-to-cache#limitations.\n",
      "To support symlinks on Windows, you either need to activate Developer Mode or to run Python as an administrator. In order to activate developer mode, see this article: https://docs.microsoft.com/en-us/windows/apps/get-started/enable-your-device-for-development\n",
      "  warnings.warn(message)\n"
     ]
    },
    {
     "data": {
      "application/vnd.jupyter.widget-view+json": {
       "model_id": "5b382fbd948f4661a00b328284f6ead0",
       "version_major": 2,
       "version_minor": 0
      },
      "text/plain": [
       "vocab.json:   0%|          | 0.00/899k [00:00<?, ?B/s]"
      ]
     },
     "metadata": {},
     "output_type": "display_data"
    },
    {
     "data": {
      "application/vnd.jupyter.widget-view+json": {
       "model_id": "60157f1229de4d45b60420b03205c9de",
       "version_major": 2,
       "version_minor": 0
      },
      "text/plain": [
       "merges.txt:   0%|          | 0.00/456k [00:00<?, ?B/s]"
      ]
     },
     "metadata": {},
     "output_type": "display_data"
    },
    {
     "data": {
      "application/vnd.jupyter.widget-view+json": {
       "model_id": "563ee18eb8b945219f1df059153b31a7",
       "version_major": 2,
       "version_minor": 0
      },
      "text/plain": [
       "tokenizer.json:   0%|          | 0.00/1.36M [00:00<?, ?B/s]"
      ]
     },
     "metadata": {},
     "output_type": "display_data"
    },
    {
     "data": {
      "application/vnd.jupyter.widget-view+json": {
       "model_id": "421cade1b3834b66a8fbb00b6251b778",
       "version_major": 2,
       "version_minor": 0
      },
      "text/plain": [
       "config.json:   0%|          | 0.00/481 [00:00<?, ?B/s]"
      ]
     },
     "metadata": {},
     "output_type": "display_data"
    },
    {
     "data": {
      "application/vnd.jupyter.widget-view+json": {
       "model_id": "e3e1a10b0c494ad3b1600202daf14ffb",
       "version_major": 2,
       "version_minor": 0
      },
      "text/plain": [
       "model.safetensors:   0%|          | 0.00/499M [00:00<?, ?B/s]"
      ]
     },
     "metadata": {},
     "output_type": "display_data"
    },
    {
     "name": "stderr",
     "output_type": "stream",
     "text": [
      "Some weights of RobertaForSequenceClassification were not initialized from the model checkpoint at roberta-base and are newly initialized: ['classifier.dense.bias', 'classifier.dense.weight', 'classifier.out_proj.bias', 'classifier.out_proj.weight']\n",
      "You should probably TRAIN this model on a down-stream task to be able to use it for predictions and inference.\n"
     ]
    },
    {
     "name": "stdout",
     "output_type": "stream",
     "text": [
      "Model roberta-base loaded successfully\n"
     ]
    }
   ],
   "source": [
    "# Cell 2: Download the RoBERTa model and tokenizer\n",
    "model_name = \"roberta-base\"\n",
    "tokenizer = RobertaTokenizer.from_pretrained(model_name)\n",
    "model = RobertaForSequenceClassification.from_pretrained(\n",
    "    model_name,\n",
    "    num_labels=3,  # Assuming we have positive, negative, and neutral sentiments\n",
    "    output_attentions=False,\n",
    "    output_hidden_states=False,\n",
    ")\n",
    "\n"
   ]
  },
  {
   "cell_type": "code",
   "execution_count": null,
   "metadata": {},
   "outputs": [],
   "source": [
    "# Move model to the appropriate device (GPU if available)\n",
    "model.to(device)\n",
    "print(f\"Model {model_name} loaded successfully\")"
   ]
  },
  {
   "cell_type": "markdown",
   "metadata": {},
   "source": [
    "--- \n",
    "\n",
    "#### Loading and preparing the data"
   ]
  },
  {
   "cell_type": "code",
   "execution_count": 6,
   "metadata": {},
   "outputs": [
    {
     "name": "stdout",
     "output_type": "stream",
     "text": [
      "Dataset shape: (530, 3)\n",
      "\n",
      "First few rows:\n",
      "   driver                                      radio_message sentiment\n",
      "0       1  So don't forget Max, use your head please. Are...   neutral\n",
      "1       1  Okay Max, we're expecting rain in about 9 or 1...   neutral\n",
      "2       1  You might find this lap that you meet a little...   neutral\n",
      "3       1  Just another two or three minutes to get throu...   neutral\n",
      "4       1   So settle into standard race management now Max.   neutral\n"
     ]
    }
   ],
   "source": [
    "# Cell 3: Load and prepare the data\n",
    "# Load the CSV file\n",
    "df = pd.read_csv('../../outputs/week4/radio_clean/radio_labeled_data.csv')\n",
    "\n",
    "# Display basic information about the dataset\n",
    "print(f\"Dataset shape: {df.shape}\")\n",
    "print(\"\\nFirst few rows:\")\n",
    "print(df.head())\n",
    "\n"
   ]
  },
  {
   "cell_type": "code",
   "execution_count": 7,
   "metadata": {},
   "outputs": [
    {
     "name": "stdout",
     "output_type": "stream",
     "text": [
      "\n",
      "Sentiment distribution:\n",
      "sentiment\n",
      "neutral     379\n",
      "negative    101\n",
      "positive     50\n",
      "Name: count, dtype: int64\n"
     ]
    }
   ],
   "source": [
    "# Check sentiment distribution\n",
    "print(\"\\nSentiment distribution:\")\n",
    "print(df['sentiment'].value_counts())"
   ]
  },
  {
   "cell_type": "markdown",
   "metadata": {},
   "source": [
    "--- \n",
    "### Creating numeric variables.\n",
    "\n",
    "I need to change the labelling to numeric labels, basing myself on numeric values. The next correlation will be made:\n",
    "\n",
    "1. *Positive* will become a 0.\n",
    "2. *Neutral* will become a 1.\n",
    "3. *Negative* will become a 2."
   ]
  },
  {
   "cell_type": "code",
   "execution_count": 8,
   "metadata": {},
   "outputs": [],
   "source": [
    "# Create numeric labels based on sentiment values\n",
    "sentiment_mapping = {\n",
    "    'positive': 0, \n",
    "    'neutral': 1, \n",
    "    'negative': 2\n",
    "}\n",
    "\n",
    "# Apply mapping (adjust this based on your actual sentiment values)\n",
    "df['label'] = df['sentiment'].map(sentiment_mapping)\n",
    "\n",
    "# Check if we need to handle any missing mappings\n",
    "if df['label'].isna().sum() > 0:\n",
    "    print(f\"\\nWarning: {df['label'].isna().sum()} rows couldn't be mapped. Unique values in 'sentiment':\")\n",
    "    print(df['sentiment'].unique())\n"
   ]
  },
  {
   "cell_type": "markdown",
   "metadata": {},
   "source": [
    "---\n",
    "\n",
    "### Creating the training, validation and test split.\n",
    "\n",
    "I´ll follow the same splits techniques during the project, making a training, validation and test dataset.\n",
    "\n",
    "* *Train* will be 70% of the dataset.\n",
    "* *Validation*: will be 15% of the dataset.\n",
    "* *Test*: will be 15% of the dataset."
   ]
  },
  {
   "cell_type": "code",
   "execution_count": null,
   "metadata": {},
   "outputs": [
    {
     "name": "stdout",
     "output_type": "stream",
     "text": [
      "Training set: 371 samples\n",
      "Validation set: 79 samples\n",
      "Test set: 80 samples\n"
     ]
    }
   ],
   "source": [
    "# Cell 4: Create the train/validation/test split\n",
    "train_texts, temp_texts, train_labels, temp_labels = train_test_split(\n",
    "    df['radio_message'].values, \n",
    "    df['label'].values, \n",
    "    test_size=0.3,  # 30% for val+test\n",
    "    random_state=42, \n",
    "    stratify=df['label']\n",
    ")\n",
    "\n",
    "val_texts, test_texts, val_labels, test_labels = train_test_split(\n",
    "    temp_texts,\n",
    "    temp_labels,\n",
    "    test_size=0.5,  # 50% of the 30% (so 15% of total)\n",
    "    random_state=42,\n",
    "    stratify=temp_labels\n",
    ")\n"
   ]
  },
  {
   "cell_type": "code",
   "execution_count": null,
   "metadata": {},
   "outputs": [],
   "source": [
    "\n",
    "print(f\"Training set: {len(train_texts)} samples\")\n",
    "print(f\"Validation set: {len(val_texts)} samples\")\n",
    "print(f\"Test set: {len(test_texts)} samples\")"
   ]
  }
 ],
 "metadata": {
  "kernelspec": {
   "display_name": "f1_strat_manager",
   "language": "python",
   "name": "python3"
  },
  "language_info": {
   "codemirror_mode": {
    "name": "ipython",
    "version": 3
   },
   "file_extension": ".py",
   "mimetype": "text/x-python",
   "name": "python",
   "nbconvert_exporter": "python",
   "pygments_lexer": "ipython3",
   "version": "3.10.16"
  }
 },
 "nbformat": 4,
 "nbformat_minor": 2
}
