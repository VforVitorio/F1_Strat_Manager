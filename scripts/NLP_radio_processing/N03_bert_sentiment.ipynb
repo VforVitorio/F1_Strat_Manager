{
 "cells": [
  {
   "cell_type": "markdown",
   "metadata": {},
   "source": [
    "# Formula 1 Radio Sentiment Analysis with Bert\n",
    "\n",
    "In this notebook, two BERT models are implemented:\n",
    "\n",
    "1. First one is a **trained BERT from sratch**.\n",
    "2. Secondly, a **pre-trained BERT model** will be downloaded and fine-tuned with my team radios."
   ]
  }
 ],
 "metadata": {
  "language_info": {
   "name": "python"
  }
 },
 "nbformat": 4,
 "nbformat_minor": 2
}
