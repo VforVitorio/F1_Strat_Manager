{
 "cells": [
  {
   "cell_type": "markdown",
   "metadata": {},
   "source": [
    "# Formula 1 Radio Sentiment Analysis with Bert\n",
    "\n",
    "In this notebook, two BERT models are implemented:\n",
    "\n",
    "1. First one is a **trained BERT from sratch**.\n",
    "2. Secondly, a **pre-trained BERT model** will be downloaded and fine-tuned with my team radios.\n",
    "\n",
    "After some research, I decided to **not implement the first point**. Here is the explanation:\n",
    "\n",
    "---"
   ]
  },
  {
   "cell_type": "markdown",
   "metadata": {},
   "source": [
    "## 1. Sentiment Analysis for F1 Radio Messages: RoBERTa-base with Fine-tuning\n",
    "\n",
    "### Why RoBERTa-base?\n",
    "\n",
    "RoBERTa-base is our selected model for sentiment analysis of Formula 1 radio communications for the following reasons:\n",
    "\n",
    "1. **Superior performance on sentiment classification**: RoBERTa consistently outperforms BERT in emotion detection tasks due to its improved training methodology and longer pretraining.\n",
    "\n",
    "2. **Strong contextual understanding**: F1 radio messages contain technical jargon, specialized terminology, and driver/team codes that require deep semantic understanding to interpret correctly.\n",
    "\n",
    "3. **Effective with specialized communications**: F1 radio messages typically feature:\n",
    "   - Short, direct communications with minimal context.\n",
    "   - Technical terminology and abbreviations (e.g., \"box this lap\", \"DRS enabled\").\n",
    "   - High-pressure communications with non-standard sentence structures.\n",
    "   - Team-specific codes and references.\n",
    "\n",
    "4. **Better handling of domain-specific language**: RoBERTa's robust pretraining makes it more adaptable to specialized domains like motorsport communications.\n",
    "\n",
    "---\n",
    "\n",
    "### RoBERTa´s model architecture\n",
    "\n",
    "\n",
    "\n",
    "RoBERTa (Robustly Optimized BERT Pretraining Approach) maintains the core Transformer architecture of BERT while introducing several key optimizations:\n",
    "\n",
    "#### Core Components\n",
    "\n",
    "1. **Input Processing**:\n",
    "   - **RoBERTaFastTokenizer**: Efficiently converts text into tokens using Byte-Pair Encoding.\n",
    "   - **Citation Re-insertion**: Handles special tokens and formatting.\n",
    "\n",
    "2. **Encoder Stack**:\n",
    "   - **Transformer Blocks**: 12 blocks (base) or 24 blocks (large) providing bidirectional context.\n",
    "   - Each block contains multi-head self-attention and feed-forward neural networks.\n",
    "\n",
    "3. **Classification Head**:\n",
    "   - **Concatenation**: Combines [CLS] token representation with optional metadata.\n",
    "   - **Feature Processing**: Series of linear transformations with dropout layers for regularization.\n",
    "   - **Output Layer**: Final linear projection and softmax activation producing class probabilities.\n",
    "\n",
    "<div align=\"center\">\n",
    "  <img src=\"../NLP_radio_processing//images/The-RoBERTa-model-architecture.jpg\" alt=\"RoBERTa´s architecture\" width=\"500\"/>\n",
    "</div>\n",
    "\n",
    "\n",
    "\n",
    "#### Key Architectural Improvements Compared to BERT\n",
    "\n",
    "- Removes BERT's Next Sentence Prediction (NSP) objective.\n",
    "- Uses dynamic masking patterns during pretraining.\n",
    "- Employs larger batch sizes and learning rates.\n",
    "- Trains on 10× more data than BERT.\n",
    "\n",
    "\n",
    "\n",
    "#### Reference\n",
    "*Context-Aware Legal Citation Recommendation using Deep Learning - Scientific Figure on ResearchGate. Available from: https://www.researchgate.net/figure/The-RoBERTa-model-architecture_fig2_352642553 [accessed 11 Mar 2025]*\n",
    "\n",
    "---\n",
    "\n",
    "### Why Fine-tuning Instead of Training from Scratch?\n",
    "\n",
    "Training RoBERTa from scratch is impractical for our project due to:\n",
    "\n",
    "- **Dataset size limitation**: Our dataset contains only 530 labeled examples, whereas training from scratch would require millions of examples (RoBERTa was pre-trained on ~160GB of text).\n",
    "\n",
    "- **Computational requirements**: Training RoBERTa-base from scratch would require:\n",
    "  - 8+ high-end GPUs (NVIDIA V100/A100).\n",
    "  - 1-2 weeks of continuous training.\n",
    "  - Approximately 200-400GB of GPU memory.\n",
    "  - Estimated cost: $5,000-$10,000 on cloud providers.\n",
    "\n",
    "- **Transfer learning advantage**: Fine-tuning leverages knowledge already encoded in pre-trained weights, requiring only ~2-4 hours on a single GPU to adapt to our F1 domain.\n",
    "\n",
    "By fine-tuning RoBERTa-base, we can achieve excellent performance while utilizing the model's pre-existing understanding of language structure and sentiment, which is particularly valuable given our specialized domain and limited labeled data."
   ]
  },
  {
   "cell_type": "markdown",
   "metadata": {},
   "source": [
    "## 2. Import necessary libraries"
   ]
  },
  {
   "cell_type": "code",
   "execution_count": 223,
   "metadata": {},
   "outputs": [
    {
     "name": "stdout",
     "output_type": "stream",
     "text": [
      "Using device: cuda\n"
     ]
    }
   ],
   "source": [
    "\n",
    "import pandas as pd\n",
    "import numpy as np\n",
    "import torch\n",
    "from torch.utils.data import Dataset, DataLoader\n",
    "from transformers import RobertaTokenizer, RobertaForSequenceClassification, AdamW\n",
    "from transformers import get_linear_schedule_with_warmup\n",
    "from sklearn.model_selection import train_test_split\n",
    "from sklearn.metrics import accuracy_score, classification_report\n",
    "import time\n",
    "import datetime\n",
    "\n",
    "\n",
    "# Check if GPU is available\n",
    "device = torch.device(\"cuda\" if torch.cuda.is_available() else \"cpu\")\n",
    "print(f\"Using device: {device}\")"
   ]
  },
  {
   "cell_type": "markdown",
   "metadata": {},
   "source": [
    "---\n",
    "\n",
    "## 3. Loading the RoBERTa model and also the tokenizer.\n",
    "\n",
    "First, we need to download the RoBERTa model, with its correspondant tokenizer."
   ]
  },
  {
   "cell_type": "code",
   "execution_count": 201,
   "metadata": {},
   "outputs": [
    {
     "name": "stderr",
     "output_type": "stream",
     "text": [
      "Some weights of RobertaForSequenceClassification were not initialized from the model checkpoint at roberta-base and are newly initialized: ['classifier.dense.bias', 'classifier.dense.weight', 'classifier.out_proj.bias', 'classifier.out_proj.weight']\n",
      "You should probably TRAIN this model on a down-stream task to be able to use it for predictions and inference.\n"
     ]
    }
   ],
   "source": [
    "# Cell 2: Download the RoBERTa model and tokenizer\n",
    "model_name = \"roberta-base\"\n",
    "tokenizer = RobertaTokenizer.from_pretrained(model_name)\n",
    "model = RobertaForSequenceClassification.from_pretrained(\n",
    "    model_name,\n",
    "    num_labels=3,  # Assuming we have positive, negative, and neutral sentiments\n",
    "    output_attentions=False,\n",
    "    output_hidden_states=False,\n",
    ")\n",
    "\n"
   ]
  },
  {
   "cell_type": "code",
   "execution_count": 202,
   "metadata": {},
   "outputs": [
    {
     "name": "stdout",
     "output_type": "stream",
     "text": [
      "Model roberta-base loaded successfully\n"
     ]
    }
   ],
   "source": [
    "# Move model to the appropriate device (GPU if available)\n",
    "model.to(device)\n",
    "print(f\"Model {model_name} loaded successfully\")"
   ]
  },
  {
   "cell_type": "markdown",
   "metadata": {},
   "source": [
    "--- \n",
    "\n",
    "#### Loading and preparing the data"
   ]
  },
  {
   "cell_type": "code",
   "execution_count": 203,
   "metadata": {},
   "outputs": [
    {
     "name": "stdout",
     "output_type": "stream",
     "text": [
      "Dataset shape: (530, 3)\n",
      "\n",
      "First few rows:\n",
      "   driver                                      radio_message sentiment\n",
      "0       1  So don't forget Max, use your head please. Are...   neutral\n",
      "1       1  Okay Max, we're expecting rain in about 9 or 1...   neutral\n",
      "2       1  You might find this lap that you meet a little...   neutral\n",
      "3       1  Just another two or three minutes to get throu...   neutral\n",
      "4       1   So settle into standard race management now Max.   neutral\n"
     ]
    }
   ],
   "source": [
    "# Cell 3: Load and prepare the data\n",
    "# Load the CSV file\n",
    "df = pd.read_csv('../../outputs/week4/radio_clean/radio_labeled_data.csv')\n",
    "\n",
    "# Display basic information about the dataset\n",
    "print(f\"Dataset shape: {df.shape}\")\n",
    "print(\"\\nFirst few rows:\")\n",
    "print(df.head())\n",
    "\n"
   ]
  },
  {
   "cell_type": "code",
   "execution_count": 204,
   "metadata": {},
   "outputs": [
    {
     "name": "stdout",
     "output_type": "stream",
     "text": [
      "\n",
      "Sentiment distribution:\n",
      "sentiment\n",
      "neutral     379\n",
      "negative    101\n",
      "positive     50\n",
      "Name: count, dtype: int64\n"
     ]
    }
   ],
   "source": [
    "# Check sentiment distribution\n",
    "print(\"\\nSentiment distribution:\")\n",
    "print(df['sentiment'].value_counts())"
   ]
  },
  {
   "cell_type": "markdown",
   "metadata": {},
   "source": [
    "--- \n",
    "### Creating numeric variables.\n",
    "\n",
    "I need to change the labelling to numeric labels, basing myself on numeric values. The next correlation will be made:\n",
    "\n",
    "1. *Positive* will become a 0.\n",
    "2. *Neutral* will become a 1.\n",
    "3. *Negative* will become a 2."
   ]
  },
  {
   "cell_type": "code",
   "execution_count": 205,
   "metadata": {},
   "outputs": [],
   "source": [
    "# Create numeric labels based on sentiment values\n",
    "sentiment_mapping = {\n",
    "    'positive': 0, \n",
    "    'neutral': 1, \n",
    "    'negative': 2\n",
    "}\n",
    "\n",
    "# Apply mapping (adjust this based on your actual sentiment values)\n",
    "df['label'] = df['sentiment'].map(sentiment_mapping)\n",
    "\n",
    "# Check if we need to handle any missing mappings\n",
    "if df['label'].isna().sum() > 0:\n",
    "    print(f\"\\nWarning: {df['label'].isna().sum()} rows couldn't be mapped. Unique values in 'sentiment':\")\n",
    "    print(df['sentiment'].unique())\n"
   ]
  },
  {
   "cell_type": "markdown",
   "metadata": {},
   "source": [
    "---\n",
    "\n",
    "## 4. Creating the training, validation and test split.\n",
    "\n",
    "I´ll follow the same splits techniques during the project, making a training, validation and test dataset.\n",
    "\n",
    "* *Train* will be 70% of the dataset.\n",
    "* *Validation*: will be 15% of the dataset.\n",
    "* *Test*: will be 15% of the dataset."
   ]
  },
  {
   "cell_type": "code",
   "execution_count": 206,
   "metadata": {},
   "outputs": [],
   "source": [
    "# Cell 4: Create the train/validation/test split\n",
    "train_texts, temp_texts, train_labels, temp_labels = train_test_split(\n",
    "    df['radio_message'].values, \n",
    "    df['label'].values, \n",
    "    test_size=0.3,  # 30% for val+test\n",
    "    random_state=42, \n",
    "    stratify=df['label']\n",
    ")\n",
    "\n",
    "val_texts, test_texts, val_labels, test_labels = train_test_split(\n",
    "    temp_texts,\n",
    "    temp_labels,\n",
    "    test_size=0.5,  # 50% of the 30% (so 15% of total)\n",
    "    random_state=42,\n",
    "    stratify=temp_labels\n",
    ")\n"
   ]
  },
  {
   "cell_type": "code",
   "execution_count": 207,
   "metadata": {},
   "outputs": [
    {
     "name": "stdout",
     "output_type": "stream",
     "text": [
      "Training set: 371 samples\n",
      "Validation set: 79 samples\n",
      "Test set: 80 samples\n"
     ]
    }
   ],
   "source": [
    "print(f\"Training set: {len(train_texts)} samples\")\n",
    "print(f\"Validation set: {len(val_texts)} samples\")\n",
    "print(f\"Test set: {len(test_texts)} samples\")"
   ]
  },
  {
   "cell_type": "markdown",
   "metadata": {},
   "source": [
    "---\n",
    "\n",
    "## 5. Next Step: Tokenizing\n",
    "\n"
   ]
  },
  {
   "cell_type": "markdown",
   "metadata": {},
   "source": [
    "### Knowing the max lenght for adjusting tokenizing\n",
    "\n",
    "The next cell calculates the 97th percentile for knowing the average tokens of the radios. With this, I can establish a good max lenght for tokenizing without truncating almost any message.\n",
    "\n",
    "---"
   ]
  },
  {
   "cell_type": "code",
   "execution_count": 208,
   "metadata": {},
   "outputs": [
    {
     "name": "stdout",
     "output_type": "stream",
     "text": [
      "Average tokens per message: 26.5\n",
      "Maximum tokens in a message: 326\n",
      "97% of messages have 79.4 tokens or fewer\n"
     ]
    }
   ],
   "source": [
    "# Cell 4.5: Analyze message lengths to set appropriate max_length\n",
    "def get_token_counts(texts):\n",
    "    # Count tokens in each message\n",
    "    token_counts = [len(tokenizer.encode(text)) for text in texts]\n",
    "    return token_counts\n",
    "\n",
    "token_counts = get_token_counts(df['radio_message'].values)\n",
    "\n",
    "# Calculate statistics\n",
    "avg_tokens = sum(token_counts) / len(token_counts)\n",
    "max_tokens = max(token_counts)\n",
    "p97_tokens = np.percentile(token_counts, 97)  # 97th percentile\n",
    "\n",
    "print(f\"Average tokens per message: {avg_tokens:.1f}\")\n",
    "print(f\"Maximum tokens in a message: {max_tokens}\")\n",
    "print(f\"97% of messages have {p97_tokens:.1f} tokens or fewer\")\n",
    "\n"
   ]
  },
  {
   "cell_type": "code",
   "execution_count": 209,
   "metadata": {},
   "outputs": [
    {
     "data": {
      "image/png": "[encoded data removed]",
      "text/plain": [
       "<Figure size 1000x500 with 1 Axes>"
      ]
     },
     "metadata": {},
     "output_type": "display_data"
    },
    {
     "name": "stdout",
     "output_type": "stream",
     "text": [
      "Setting max_length to 128\n"
     ]
    }
   ],
   "source": [
    "# Visualize distribution\n",
    "import matplotlib.pyplot as plt\n",
    "plt.figure(figsize=(10, 5))\n",
    "plt.hist(token_counts, bins=20)\n",
    "plt.axvline(x=p97_tokens, color='r', linestyle='--', label='97th percentile')\n",
    "plt.xlabel('Number of tokens')\n",
    "plt.ylabel('Count of messages')\n",
    "plt.title('Distribution of token counts in F1 radio messages')\n",
    "plt.legend()\n",
    "plt.show()\n",
    "\n",
    "# Set max_length based on analysis\n",
    "max_length = int(min(128, 2 * p97_tokens))  # Conservative value based on 97th percentile\n",
    "print(f\"Setting max_length to {max_length}\")"
   ]
  },
  {
   "cell_type": "markdown",
   "metadata": {},
   "source": [
    "--- \n",
    "\n",
    "### No I can proceed to tokenize the text"
   ]
  },
  {
   "cell_type": "code",
   "execution_count": 210,
   "metadata": {},
   "outputs": [],
   "source": [
    "# Cell 5: Tokenize the data directly\n",
    "max_length = 128\n",
    "batch_size = 16\n",
    "\n",
    "# Tokenize training data\n",
    "train_encodings = tokenizer(\n",
    "    list(train_texts),\n",
    "    truncation=True,\n",
    "    padding='max_length',\n",
    "    max_length=max_length,\n",
    "    return_tensors='pt'\n",
    ")\n",
    "\n",
    "# Tokenize validation data\n",
    "val_encodings = tokenizer(\n",
    "    list(val_texts),\n",
    "    truncation=True,\n",
    "    padding='max_length',\n",
    "    max_length=max_length,\n",
    "    return_tensors='pt'\n",
    ")\n",
    "\n",
    "# Tokenize test data\n",
    "test_encodings = tokenizer(\n",
    "    list(test_texts),\n",
    "    truncation=True,\n",
    "    padding='max_length',\n",
    "    max_length=max_length,\n",
    "    return_tensors='pt'\n",
    ")\n",
    "\n"
   ]
  },
  {
   "cell_type": "markdown",
   "metadata": {},
   "source": [
    "--- \n",
    "\n",
    "### Preparing the tokens for Pytorch: Pipeline.\n",
    "\n",
    "1. **Convert labels to tensors**: Transform NumPy/list labels into PyTorch tensors required for neural network operations.\n",
    "\n",
    "2. **Create TensorDatasets**: Combine input_ids (tokenized text), attention_mask (identifies real tokens vs padding), and labels into unified dataset objects.\n",
    "\n",
    "3. **Define DataLoaders**: Configure batch processing with specified batch size, enabling shuffling for training data and efficient memory management."
   ]
  },
  {
   "cell_type": "code",
   "execution_count": 211,
   "metadata": {},
   "outputs": [],
   "source": [
    "# Convert labels to tensors\n",
    "train_labels = torch.tensor(train_labels)\n",
    "val_labels = torch.tensor(val_labels)\n",
    "test_labels = torch.tensor(test_labels)"
   ]
  },
  {
   "cell_type": "code",
   "execution_count": 212,
   "metadata": {},
   "outputs": [],
   "source": [
    "# Create TensorDatasets\n",
    "from torch.utils.data import TensorDataset\n",
    "\n",
    "train_dataset = TensorDataset(\n",
    "    train_encodings['input_ids'],\n",
    "    train_encodings['attention_mask'],\n",
    "    train_labels\n",
    ")\n",
    "\n",
    "val_dataset = TensorDataset(\n",
    "    val_encodings['input_ids'],\n",
    "    val_encodings['attention_mask'],\n",
    "    val_labels\n",
    ")\n",
    "\n",
    "test_dataset = TensorDataset(\n",
    "    test_encodings['input_ids'],\n",
    "    test_encodings['attention_mask'],\n",
    "    test_labels\n",
    ")\n",
    "\n"
   ]
  },
  {
   "cell_type": "code",
   "execution_count": 213,
   "metadata": {},
   "outputs": [
    {
     "name": "stdout",
     "output_type": "stream",
     "text": [
      "Created DataLoaders with batch size: 16\n",
      "Each batch contains: 16 samples\n",
      "Input shape: torch.Size([16, 128])\n"
     ]
    }
   ],
   "source": [
    "# Create DataLoaders\n",
    "train_dataloader = DataLoader(train_dataset, batch_size=batch_size, shuffle=True)\n",
    "val_dataloader = DataLoader(val_dataset, batch_size=batch_size)\n",
    "test_dataloader = DataLoader(test_dataset, batch_size=batch_size)\n",
    "\n",
    "print(f\"Created DataLoaders with batch size: {batch_size}\")\n",
    "print(f\"Each batch contains: {next(iter(train_dataloader))[0].shape[0]} samples\")\n",
    "print(f\"Input shape: {next(iter(train_dataloader))[0].shape}\")"
   ]
  },
  {
   "cell_type": "markdown",
   "metadata": {},
   "source": [
    "---\n",
    "\n",
    "## 6. Set up training process\n",
    "\n",
    "\n",
    "### Why 4 Epochs for Fine-tuning?\n",
    "\n",
    "Four epochs is typically optimal for RoBERTa fine-tuning for several key reasons:\n",
    "\n",
    "1. **Pretrained Knowledge**: RoBERTa already contains extensive language understanding from pretraining, so it requires fewer epochs to adapt to new tasks.\n",
    "\n",
    "2. **Small Dataset Considerations**: With only 530 samples, training for too many epochs would lead to overfitting where the model memorizes training examples rather than learning generalizable patterns.\n",
    "\n",
    "3. **Empirical Evidence**: Research indicates that transformer models typically reach peak performance on downstream tasks within 2-5 epochs, with diminishing or negative returns thereafter.\n",
    "\n",
    "4. **Resource Efficiency**: Each epoch with RoBERTa is computationally expensive, so limiting to 4 epochs optimizes training time while maintaining performance.\n",
    "\n",
    "5. **Learning Rate Schedule**: Our linear warmup and decay schedule is designed for a short fine-tuning process of approximately 3-5 epochs.\n",
    "\n",
    "If you want to optimize further, you could implement early stopping based on validation performance, but 4 epochs generally provides a good balance of adaptation and generalization for sentiment analysis tasks.\n"
   ]
  },
  {
   "cell_type": "code",
   "execution_count": 214,
   "metadata": {},
   "outputs": [
    {
     "name": "stdout",
     "output_type": "stream",
     "text": [
      "Optimizer and scheduler configured for 6 epochs\n"
     ]
    },
    {
     "name": "stderr",
     "output_type": "stream",
     "text": [
      "c:\\Users\\victo\\miniconda3\\envs\\f1_strat_manager\\lib\\site-packages\\transformers\\optimization.py:640: FutureWarning: This implementation of AdamW is deprecated and will be removed in a future version. Use the PyTorch implementation torch.optim.AdamW instead, or set `no_deprecation_warning=True` to disable this warning\n",
      "  warnings.warn(\n"
     ]
    }
   ],
   "source": [
    "# Training hyperparameters\n",
    "# FIRST RUN: epochs = 4\n",
    "# SECOND RUN############\n",
    "# warmup_steps = 0\n",
    "# epochs = 6\n",
    "# learning_rate = 2e-5\n",
    "# weight_decay = 0.01\n",
    "########################\n",
    "\n",
    "###### THIRD RUN #########\n",
    "\n",
    "# learning_rate = 1e-5  # Lower learning rate for more precise updates\n",
    "# weight_decay = 0.001  # Reduce from 0.01 to prevent over-regularization\n",
    "# epochs = 8  # Increase epochs with early stopping\n",
    "\n",
    "\n",
    "##########################\n",
    "\n",
    "\n",
    "############# RUN 4: going back to hyp of run 2 ###############\n",
    "epochs = 6\n",
    "learning_rate = 2e-5\n",
    "weight_decay = 0.01\n",
    "warmup_steps = 0\n",
    "################################################################\n",
    "\n",
    "\n",
    "# Total number of training steps\n",
    "total_steps = len(train_dataloader) * epochs\n",
    "\n",
    "# Warmup helps stabilize early training: added in THIRD RUN\n",
    "# ELIMINATED AGAIN ON ROUND 4\n",
    "#warmup_steps = int(0.1 * total_steps)  # 10% of total steps\n",
    "\n",
    "\n",
    "# Initialize optimizer\n",
    "optimizer = AdamW(model.parameters(),\n",
    "                  lr=learning_rate,\n",
    "                  # FIRST AND SECOND RUN\n",
    "                  # eps=1e-8,\n",
    "                  ######################\n",
    "\n",
    "                  ### THIRD RUN###\n",
    "                  #eps=1e-6,  # Slightly higher epsilon can help with stability\n",
    "                  ################\n",
    "\n",
    "                  ##### RUN 4: going back to 2 ####\n",
    "                  eps=1e-8,\n",
    "                  #################\n",
    "                  weight_decay=weight_decay)\n",
    "\n",
    "# Set up the learning rate scheduler\n",
    "scheduler = get_linear_schedule_with_warmup(optimizer, \n",
    "                                           num_warmup_steps=warmup_steps,\n",
    "                                           num_training_steps=total_steps)\n",
    "\n",
    "print(f\"Optimizer and scheduler configured for {epochs} epochs\")"
   ]
  },
  {
   "cell_type": "markdown",
   "metadata": {},
   "source": [
    "---\n",
    "\n",
    "### Defining helper functions"
   ]
  },
  {
   "cell_type": "code",
   "execution_count": 215,
   "metadata": {},
   "outputs": [],
   "source": [
    "# Function to calculate accuracy\n",
    "def flat_accuracy(preds, labels):\n",
    "    pred_flat = np.argmax(preds, axis=1).flatten()\n",
    "    labels_flat = labels.flatten()\n",
    "    return np.sum(pred_flat == labels_flat) / len(labels_flat)\n",
    "\n",
    "# For timing\n",
    "def format_time(elapsed):\n",
    "    return str(datetime.timedelta(seconds=int(round(elapsed))))"
   ]
  },
  {
   "cell_type": "markdown",
   "metadata": {},
   "source": [
    "---\n",
    "\n",
    "### Set up the training "
   ]
  },
  {
   "cell_type": "code",
   "execution_count": 216,
   "metadata": {},
   "outputs": [
    {
     "name": "stdout",
     "output_type": "stream",
     "text": [
      "Starting training for 6 epochs\n",
      "Training on 384 samples\n",
      "Validating on 80 samples\n"
     ]
    }
   ],
   "source": [
    "seed_val = 42\n",
    "torch.manual_seed(seed_val)\n",
    "if torch.cuda.is_available():\n",
    "    torch.cuda.manual_seed_all(seed_val)\n",
    "\n",
    "# Storage for stats\n",
    "training_stats = []\n",
    "best_val_accuracy = 0.0\n",
    "\n",
    "print(f\"Starting training for {epochs} epochs\")\n",
    "print(f\"Training on {len(train_dataloader) * batch_size} samples\")\n",
    "print(f\"Validating on {len(val_dataloader) * batch_size} samples\")"
   ]
  },
  {
   "cell_type": "markdown",
   "metadata": {},
   "source": [
    "--- \n",
    "\n",
    "## 7. Training loop"
   ]
  },
  {
   "cell_type": "markdown",
   "metadata": {},
   "source": [
    "#### Cell 7.5: Implement class weights\n",
    "\n",
    "In the **second run of the code**, I will implement class weights to try to manage the class imbalance that I have.\n"
   ]
  },
  {
   "cell_type": "code",
   "execution_count": 217,
   "metadata": {},
   "outputs": [
    {
     "name": "stdout",
     "output_type": "stream",
     "text": [
      "Class weights:\n",
      "Class 0: 3.5333\n",
      "Class 1: 0.4667\n",
      "Class 2: 1.7418\n"
     ]
    }
   ],
   "source": [
    "from sklearn.utils.class_weight import compute_class_weight\n",
    "##################################################### RUN 2 ############################################\n",
    "# Get unique classes and compute weights\n",
    "unique_labels = np.unique(train_labels.numpy())\n",
    "class_weights = compute_class_weight('balanced', classes=unique_labels, y=train_labels.numpy())\n",
    "class_weights = torch.tensor(class_weights, dtype=torch.float).to(device)\n",
    "\n",
    "print(\"Class weights:\")\n",
    "for i, weight in enumerate(class_weights):\n",
    "    print(f\"Class {i}: {weight:.4f}\")\n",
    "\n",
    "# Update loss function with weights\n",
    "loss_fn = torch.nn.CrossEntropyLoss(weight=class_weights)\n",
    "########################################################################################################\n",
    "\n",
    "\n",
    "\n",
    "###################################### RUN 4 ############################################################\n",
    "# # 1. More aggressive class weighting - calculated but amplified\n",
    "# unique_labels = np.unique(train_labels.numpy())\n",
    "# class_weights = compute_class_weight('balanced', classes=unique_labels, y=train_labels.numpy())\n",
    "# # Boost weights for minority classes even more\n",
    "# class_weights[0] *= 1.5  # Positive class (assuming it's index 0)\n",
    "# class_weights[2] *= 1.2  # Negative class (assuming it's index 2)\n",
    "# class_weights = torch.tensor(class_weights, dtype=torch.float).to(device)\n",
    "\n",
    "# print(\"Enhanced class weights:\")\n",
    "# for i, weight in enumerate(class_weights):\n",
    "#     print(f\"Class {i}: {weight:.4f}\")\n",
    "\n",
    "# # 2. Add a small amount of label smoothing to improve generalization\n",
    "# loss_fn = torch.nn.CrossEntropyLoss(weight=class_weights, label_smoothing=0.1)\n",
    "\n",
    "##########################################################################################################\n",
    "\n",
    "\n",
    "################################################# RUN 5 ###################################################\n",
    "# More balanced approach\n",
    "# unique_labels = np.unique(train_labels.numpy())\n",
    "# class_weights = compute_class_weight('balanced', classes=unique_labels, y=train_labels.numpy())\n",
    "\n",
    "# # More moderate enhancement of minority classes\n",
    "# class_weights[0] *= 1.2  # Less aggressive boost for positive (20% instead of 50%)\n",
    "# class_weights[2] *= 1.1  # Less aggressive boost for negative (10% instead of 20%)\n",
    "# class_weights = torch.tensor(class_weights, dtype=torch.float).to(device)\n",
    "\n",
    "# print(\"Balanced class weights:\")\n",
    "# for i, weight in enumerate(class_weights):\n",
    "#     print(f\"Class {i}: {weight:.4f}\")\n",
    "\n",
    "# # Gentler label smoothing\n",
    "# loss_fn = torch.nn.CrossEntropyLoss(weight=class_weights, label_smoothing=0.05)\n",
    "############################################################################################################"
   ]
  },
  {
   "cell_type": "code",
   "execution_count": 218,
   "metadata": {},
   "outputs": [
    {
     "name": "stdout",
     "output_type": "stream",
     "text": [
      "\n",
      "Epoch 1/6\n",
      "  Training loss: 1.1074\n",
      "  Training time: 0:00:05\n",
      "\n",
      "Epoch 2/6\n",
      "  Training loss: 1.0646\n",
      "  Training time: 0:00:05\n",
      "\n",
      "Epoch 3/6\n",
      "  Training loss: 0.8629\n",
      "  Training time: 0:00:05\n",
      "\n",
      "Epoch 4/6\n",
      "  Training loss: 0.5280\n",
      "  Training time: 0:00:05\n",
      "\n",
      "Epoch 5/6\n",
      "  Training loss: 0.3271\n",
      "  Training time: 0:00:05\n",
      "\n",
      "Epoch 6/6\n",
      "  Training loss: 0.2314\n",
      "  Training time: 0:00:05\n"
     ]
    }
   ],
   "source": [
    "# Then in  training loop, replace model's internal loss calculation with:\n",
    "\n",
    "# logits = outputs.logits\n",
    "# loss = loss_fn(logits, b_labels)\n",
    "\n",
    "total_t0 = time.time()\n",
    "\n",
    "for epoch_i in range(epochs):\n",
    "    print(f\"\\nEpoch {epoch_i + 1}/{epochs}\")\n",
    "    \n",
    "    # Training\n",
    "    model.train()\n",
    "    total_train_loss = 0\n",
    "    t0 = time.time()\n",
    "    \n",
    "    for batch in train_dataloader:\n",
    "        # Unpack batch and move to device\n",
    "        b_input_ids = batch[0].to(device)\n",
    "        b_attention_mask = batch[1].to(device)\n",
    "        b_labels = batch[2].to(device)\n",
    "        \n",
    "        # Clear gradients\n",
    "        model.zero_grad()\n",
    "        \n",
    "        # Forward pass\n",
    "\n",
    "        \n",
    "        # #############FIRST RUN#############\n",
    "        # outputs = model(\n",
    "        #     b_input_ids,\n",
    "        #     attention_mask=b_attention_mask,\n",
    "        #     labels=b_labels\n",
    "        # )\n",
    "        #####################################\n",
    "        \n",
    "        ########## SECOND RUN ###########\n",
    "        outputs = model(b_input_ids, \n",
    "                        attention_mask=b_attention_mask)\n",
    "        \n",
    "        logits = outputs.logits\n",
    "        loss = loss_fn(logits, b_labels)\n",
    "        # Get loss and update total\n",
    "       \n",
    "        total_train_loss += loss.item()\n",
    "        #################################\n",
    "\n",
    "        \n",
    "        \n",
    "        # Backward pass and update\n",
    "        loss.backward()\n",
    "        torch.nn.utils.clip_grad_norm_(model.parameters(), 1.0)\n",
    "        optimizer.step()\n",
    "        scheduler.step()\n",
    "    \n",
    "    # Calculate average training loss\n",
    "    avg_train_loss = total_train_loss / len(train_dataloader)\n",
    "    print(f\"  Training loss: {avg_train_loss:.4f}\")\n",
    "    print(f\"  Training time: {format_time(time.time() - t0)}\")"
   ]
  },
  {
   "cell_type": "markdown",
   "metadata": {},
   "source": [
    "---\n",
    "\n",
    "## 8. Validation Loop\n"
   ]
  },
  {
   "cell_type": "code",
   "execution_count": 219,
   "metadata": {},
   "outputs": [],
   "source": [
    "# Switch to evaluation mode\n",
    "model.eval()\n",
    "val_accuracy = 0\n",
    "val_loss = 0\n",
    "\n",
    "# No gradient calculation needed for validation\n",
    "with torch.no_grad():\n",
    "    for batch in val_dataloader:\n",
    "        # Unpack batch and move to device\n",
    "        b_input_ids = batch[0].to(device)\n",
    "        b_attention_mask = batch[1].to(device)\n",
    "        b_labels = batch[2].to(device)\n",
    "        \n",
    "        ######## FIRST RUN ##########\n",
    "        # # Forward pass\n",
    "        # outputs = model(\n",
    "        #     b_input_ids,\n",
    "        #     attention_mask=b_attention_mask,\n",
    "        #     labels=b_labels\n",
    "        # )\n",
    "        \n",
    "        # \n",
    "        # loss = outputs.loss\n",
    "        # logits = outputs.logits\n",
    "        ##############################\n",
    "\n",
    "\n",
    "        ########## SECOND RUN ##############\n",
    "        # Get loss and predictions\n",
    "        outputs = model(b_input_ids, \n",
    "                        attention_mask=b_attention_mask)\n",
    "        \n",
    "        logits = outputs.logits\n",
    "\n",
    "        loss = loss_fn(logits, b_labels)\n",
    "\n",
    "\n",
    "\n",
    "        # Calculate metrics\n",
    "        val_loss += loss.item()\n",
    "        val_accuracy += flat_accuracy(logits.cpu().numpy(), b_labels.cpu().numpy())\n",
    "\n"
   ]
  },
  {
   "cell_type": "code",
   "execution_count": null,
   "metadata": {},
   "outputs": [
    {
     "name": "stdout",
     "output_type": "stream",
     "text": [
      "  Validation accuracy: 0.8967\n",
      "  Validation loss: 0.4018\n",
      "  Saved new best model with accuracy: 0.8967\n",
      "Training complete! Total time: 0:00:30\n",
      "Best validation accuracy: 0.8967\n"
     ]
    }
   ],
   "source": [
    "# Calculate averages\n",
    "avg_val_accuracy = val_accuracy / len(val_dataloader)\n",
    "avg_val_loss = val_loss / len(val_dataloader)\n",
    "\n",
    "print(f\"  Validation accuracy: {avg_val_accuracy:.4f}\")\n",
    "print(f\"  Validation loss: {avg_val_loss:.4f}\")\n",
    "\n",
    "# Store stats\n",
    "training_stats.append({\n",
    "    'epoch': epoch_i + 1,\n",
    "    'train_loss': avg_train_loss,\n",
    "    'val_loss': avg_val_loss,\n",
    "    'val_accuracy': avg_val_accuracy\n",
    "})\n",
    "\n",
    "\n",
    "#################### NOTE: ONLY UNCOMMENT AND RUN IF BETTER METRICS ARE MET #########################\n",
    "# # Save best model\n",
    "# if avg_val_accuracy > best_val_accuracy:\n",
    "#     best_val_accuracy = avg_val_accuracy\n",
    "#     torch.save(model.state_dict(), '../../outputs/week4/models/best_roberta_sentiment_model.pt')\n",
    "#     print(f\"  Saved new best model with accuracy: {best_val_accuracy:.4f}\")\n",
    "\n",
    "# print(f\"Training complete! Total time: {format_time(time.time() - total_t0)}\")\n",
    "# print(f\"Best validation accuracy: {best_val_accuracy:.4f}\")\n",
    "######################################################################################################"
   ]
  },
  {
   "cell_type": "code",
   "execution_count": 221,
   "metadata": {},
   "outputs": [
    {
     "name": "stdout",
     "output_type": "stream",
     "text": [
      "  F1 score (weighted): 0.8070\n"
     ]
    }
   ],
   "source": [
    "from sklearn.metrics import f1_score\n",
    "\n",
    "# In validation loop:\n",
    "predictions = np.argmax(logits.cpu().numpy(), axis=1)\n",
    "labels = b_labels.cpu().numpy()\n",
    "f1 = f1_score(labels, predictions, average='weighted')\n",
    "print(f\"  F1 score (weighted): {f1:.4f}\")"
   ]
  },
  {
   "cell_type": "code",
   "execution_count": 222,
   "metadata": {},
   "outputs": [
    {
     "data": {
      "image/png": "[encoded data removed]",
      "text/plain": [
       "<Figure size 800x600 with 2 Axes>"
      ]
     },
     "metadata": {},
     "output_type": "display_data"
    }
   ],
   "source": [
    "# After validation:\n",
    "from sklearn.metrics import confusion_matrix\n",
    "import seaborn as sns\n",
    "import matplotlib.pyplot as plt\n",
    "\n",
    "# Collect all predictions and labels\n",
    "all_preds = []\n",
    "all_labels = []\n",
    "\n",
    "with torch.no_grad():\n",
    "    for batch in val_dataloader:\n",
    "        b_input_ids = batch[0].to(device)\n",
    "        b_attention_mask = batch[1].to(device)\n",
    "        b_labels = batch[2].to(device)\n",
    "        \n",
    "        outputs = model(b_input_ids, attention_mask=b_attention_mask)\n",
    "        logits = outputs.logits\n",
    "        \n",
    "        all_preds.extend(np.argmax(logits.cpu().numpy(), axis=1))\n",
    "        all_labels.extend(b_labels.cpu().numpy())\n",
    "\n",
    "# Create confusion matrix\n",
    "cm = confusion_matrix(all_labels, all_preds)\n",
    "plt.figure(figsize=(8, 6))\n",
    "sns.heatmap(cm, annot=True, fmt='d', cmap='Blues',\n",
    "            xticklabels=['positive', 'neutral', 'negative'],\n",
    "            yticklabels=['positive', 'neutral', 'negative'])\n",
    "plt.xlabel('Predicted')\n",
    "plt.ylabel('True')\n",
    "plt.title('Confusion Matrix')\n",
    "plt.show()"
   ]
  },
  {
   "cell_type": "markdown",
   "metadata": {},
   "source": [
    "### First result\n",
    "  - Validation accuracy: 0.7233\n",
    "  - Validation loss: 0.6376\n",
    "\n",
    "Not that bad, but can improve. For that, I´m going to try to implement weights to compensate class imbalance and also add more metrics, like f1-score and confussion matrix.\n",
    "\n",
    "Due to the fast training (only took 1 minute), I will also add more epochs, from 4 to 6, being careful about overfitting.\n"
   ]
  },
  {
   "cell_type": "markdown",
   "metadata": {},
   "source": [
    "---\n",
    "\n",
    "### Second result: Analysis of Improved Results\n",
    "\n",
    "- Validation accuracy: 0.7850\n",
    "- Validation loss: 0.5231\n",
    "- F1 score (weighted): 0.8425\n",
    "\n",
    "\n",
    "The increase from 72.33% to 78.50% accuracy represents a significant improvement, especially considering your highly imbalanced dataset. \n",
    "\n",
    "**Why the Improvement Occurred**\n",
    "The implementation of class weights was the key factor. By giving the model stronger signals for the underrepresented classes (particularly positive sentiment at only 9.4% of samples), the model is now better at recognizing all three sentiment categories rather than defaulting to the majority class.\n",
    "\n",
    "**The change in loss function was particularly important**:\n",
    "\n",
    "Without weights, the model optimizes for overall accuracy, which it can achieve by mostly predicting \"neutral\"\n",
    "With weights, the model treats mistakes on minority classes as more costly, forcing it to learn their patterns better\n",
    "\n",
    "**What 78.5% Accuracy Means in Context**\n",
    "For a 3-class sentiment problem with this level of imbalance, 78.5% is quite good:\n",
    "\n",
    "- Industry benchmarks: General sentiment analysis on balanced datasets typically achieves 75-85% accuracy.\n",
    "\n",
    "- With my constraints: Limited data (530 samples) + significant imbalance + specialized F1 domain terminology.\n",
    "\n",
    "- Random baseline: ~33% for balanced classes, but only about 55% if always predicting \"neutral\" in your case.\n",
    "\n",
    "#### For next run\n",
    "\n",
    "- Change the learning rate and optimizer adjustments.\n",
    "- Adding warmup steps to stabilize early training.\n",
    "- Chaning epsilon in the Adam optimizer.\n",
    "\n"
   ]
  },
  {
   "cell_type": "markdown",
   "metadata": {},
   "source": [
    "---\n",
    "\n",
    "### Third result : Worse metrics\n",
    "\n",
    "As all the metrics went down, the next steps are:\n",
    "\n",
    "1. **Going back to my hyperparameters of run 2**.\n",
    "2. **Applies more aggressive class weighting to counter imbalance**\n",
    "3. **Adds label smoothing to help the model generalize better**\n",
    "4.** Retains the optimizer settings that worked well previously**"
   ]
  },
  {
   "cell_type": "markdown",
   "metadata": {},
   "source": [
    "---\n",
    "### Fourth results: Overgeneralizing\n",
    "\n",
    "*Changes in Performance*\n",
    "\n",
    "- Validation accuracy decreased from 78.50% to 74.58%\n",
    "- F1 score decreased from 84.25% to 76.24%\n",
    "- The model is now perfectly classifying the positive class (7/7 correct)\n",
    "\n",
    "But it's overgeneralizing - classifying too many neutral samples as positive (12 misclassifications)\n",
    "\n",
    "*What Happened*\n",
    "\n",
    "Our aggressive class weighting (1.5× for positive, 1.2× for negative) pushed the model too far in the other direction. While we solved the positive class recognition problem completely, we created a new problem where the model sees \"positive sentiment\" too often in neutral text.\n",
    "\n",
    "#### Next steps: one last atempt between fourth and second result\n",
    "\n",
    "My second run (78.50% accuracy, 84.25% F1) was actually very good given the dataset constraints. I´m aiming for a small improvement rather than a dramatic change."
   ]
  },
  {
   "cell_type": "markdown",
   "metadata": {},
   "source": [
    "---\n",
    "\n",
    "### Fifth result: conclussion, second model was the best one.\n",
    "\n",
    "While the latest run perfectly classifies positive samples (7/7), the significantly lower F1 score (70.91% vs 84.25%) reveals an important issue: the model is sacrificing balanced performance across classes for perfect recognition of one class.\n",
    "\n",
    "\n",
    "#### Why the Second Run is Superior\n",
    "\n",
    "- *Better balanced performance*: The second run achieves strong accuracy without sacrificing performance on any particular class.\n",
    "\n",
    "- *Higher F1 score*: The 84.25% F1 score indicates better precision and recall across all classes, which is crucial for imbalanced datasets like mine.\n",
    "\n",
    "- *More reliable for deployment*: A model with balanced performance is more trustworthy when encountering new, unseen data.\n",
    "\n"
   ]
  },
  {
   "cell_type": "markdown",
   "metadata": {},
   "source": [
    "---\n",
    "\n",
    "## A good surprise\n",
    "\n",
    "The latest second run shows remarkable improvement over all previous attempts.\n",
    "\n",
    "### Understanding This Improvement\n",
    "The nearly 90% accuracy you've achieved is exceptional, especially considering:\n",
    "\n",
    "- My dataset has only 530 samples total\n",
    "- The severe class imbalance (71.5% neutral, 19.1% negative, 9.4% positive)\n",
    "- The specialized language of F1 radio communications\n",
    "\n",
    "### Confussion matrix\n",
    "This confusion matrix shows excellent performance across all sentiment classes:\n",
    "\n",
    "- *Positive class*: Perfect 7/7 classification (100% accuracy)\n",
    "- *Neutral class:* 51/57 correct classifications (89.5% accuracy)\n",
    "- *Negative class:* 13/15 correct classifications (86.7% accuracy)\n",
    "\n",
    "The model now handles all three classes well, with minimal confusion between them. Even with the severe class imbalance, it's achieving strong recognition rates for minority classes without sacrificing performance on the majority class.\n",
    "\n",
    "### Why Results Vary Between Runs\n",
    "Neural network training involves several random elements:\n",
    "\n",
    "* Initial parameter values\n",
    "* Order of training examples\n",
    "* Mini-batch composition\n",
    "\n",
    "In this case, the random factors aligned particularly well, letting the model find a superior solution to the same problem with identical hyperparameters.\n",
    "\n",
    "### What This Means For the  Project\n",
    "\n",
    "I´ve not only met but significantly exceeded your 85% accuracy target. This model should provide reliable sentiment classifications for the F1 radio messages, with strong performance across all three sentiment classes.\n",
    "\n",
    "The F1 score of 80.70% confirms the model is handling the class imbalance effectively, though there may be a slight trade-off compared to the previous run's 84.25%.\n",
    "\n"
   ]
  },
  {
   "cell_type": "markdown",
   "metadata": {},
   "source": [
    "---\n",
    "\n",
    "## Next Step: running on the test set\n",
    "\n",
    "Finally, I will load the model and try it on the test set, unseen by it until now."
   ]
  },
  {
   "cell_type": "code",
   "execution_count": 224,
   "metadata": {},
   "outputs": [
    {
     "name": "stderr",
     "output_type": "stream",
     "text": [
      "C:\\Users\\victo\\AppData\\Local\\Temp\\ipykernel_26972\\3585015688.py:12: FutureWarning: You are using `torch.load` with `weights_only=False` (the current default value), which uses the default pickle module implicitly. It is possible to construct malicious pickle data which will execute arbitrary code during unpickling (See https://github.com/pytorch/pytorch/blob/main/SECURITY.md#untrusted-models for more details). In a future release, the default value for `weights_only` will be flipped to `True`. This limits the functions that could be executed during unpickling. Arbitrary objects will no longer be allowed to be loaded via this mode unless they are explicitly allowlisted by the user via `torch.serialization.add_safe_globals`. We recommend you start setting `weights_only=True` for any use case where you don't have full control of the loaded file. Please open an issue on GitHub for any issues related to this experimental feature.\n",
      "  model.load_state_dict(torch.load(model_path))\n"
     ]
    },
    {
     "data": {
      "text/plain": [
       "RobertaForSequenceClassification(\n",
       "  (roberta): RobertaModel(\n",
       "    (embeddings): RobertaEmbeddings(\n",
       "      (word_embeddings): Embedding(50265, 768, padding_idx=1)\n",
       "      (position_embeddings): Embedding(514, 768, padding_idx=1)\n",
       "      (token_type_embeddings): Embedding(1, 768)\n",
       "      (LayerNorm): LayerNorm((768,), eps=1e-05, elementwise_affine=True)\n",
       "      (dropout): Dropout(p=0.1, inplace=False)\n",
       "    )\n",
       "    (encoder): RobertaEncoder(\n",
       "      (layer): ModuleList(\n",
       "        (0-11): 12 x RobertaLayer(\n",
       "          (attention): RobertaAttention(\n",
       "            (self): RobertaSdpaSelfAttention(\n",
       "              (query): Linear(in_features=768, out_features=768, bias=True)\n",
       "              (key): Linear(in_features=768, out_features=768, bias=True)\n",
       "              (value): Linear(in_features=768, out_features=768, bias=True)\n",
       "              (dropout): Dropout(p=0.1, inplace=False)\n",
       "            )\n",
       "            (output): RobertaSelfOutput(\n",
       "              (dense): Linear(in_features=768, out_features=768, bias=True)\n",
       "              (LayerNorm): LayerNorm((768,), eps=1e-05, elementwise_affine=True)\n",
       "              (dropout): Dropout(p=0.1, inplace=False)\n",
       "            )\n",
       "          )\n",
       "          (intermediate): RobertaIntermediate(\n",
       "            (dense): Linear(in_features=768, out_features=3072, bias=True)\n",
       "            (intermediate_act_fn): GELUActivation()\n",
       "          )\n",
       "          (output): RobertaOutput(\n",
       "            (dense): Linear(in_features=3072, out_features=768, bias=True)\n",
       "            (LayerNorm): LayerNorm((768,), eps=1e-05, elementwise_affine=True)\n",
       "            (dropout): Dropout(p=0.1, inplace=False)\n",
       "          )\n",
       "        )\n",
       "      )\n",
       "    )\n",
       "  )\n",
       "  (classifier): RobertaClassificationHead(\n",
       "    (dense): Linear(in_features=768, out_features=768, bias=True)\n",
       "    (dropout): Dropout(p=0.1, inplace=False)\n",
       "    (out_proj): Linear(in_features=768, out_features=3, bias=True)\n",
       "  )\n",
       ")"
      ]
     },
     "execution_count": 224,
     "metadata": {},
     "output_type": "execute_result"
    }
   ],
   "source": [
    "# Cell 1: Load the trained model and evaluate on test set\n",
    "import torch\n",
    "import numpy as np\n",
    "from sklearn.metrics import accuracy_score, classification_report, confusion_matrix\n",
    "import matplotlib.pyplot as plt\n",
    "import seaborn as sns\n",
    "\n",
    "# Path to the saved model\n",
    "model_path = '../../outputs/week4/models/best_roberta_sentiment_model.pt'\n",
    "\n",
    "# Load the model\n",
    "model.load_state_dict(torch.load(model_path))\n",
    "model.eval()  # Set to evaluation mode\n",
    "\n"
   ]
  },
  {
   "cell_type": "code",
   "execution_count": 225,
   "metadata": {},
   "outputs": [],
   "source": [
    "# Initialize variables to store predictions and true labels\n",
    "all_predictions = []\n",
    "all_true_labels = []\n",
    "\n",
    "# No gradients needed for evaluation\n",
    "with torch.no_grad():\n",
    "    # Test loop\n",
    "    test_accuracy = 0\n",
    "    for batch in test_dataloader:\n",
    "        # Unpack the batch and move to GPU/CPU\n",
    "        b_input_ids = batch[0].to(device)\n",
    "        b_attention_mask = batch[1].to(device)\n",
    "        b_labels = batch[2].to(device)\n",
    "        \n",
    "        # Forward pass\n",
    "        outputs = model(b_input_ids, attention_mask=b_attention_mask)\n",
    "        logits = outputs.logits\n",
    "        \n",
    "        # Convert logits to predictions\n",
    "        preds = torch.argmax(logits, dim=1).cpu().numpy()\n",
    "        labels = b_labels.cpu().numpy()\n",
    "        \n",
    "        # Store predictions and labels\n",
    "        all_predictions.extend(preds)\n",
    "        all_true_labels.extend(labels)\n",
    "\n",
    "\n",
    "\n",
    "\n"
   ]
  },
  {
   "cell_type": "code",
   "execution_count": 226,
   "metadata": {},
   "outputs": [
    {
     "name": "stdout",
     "output_type": "stream",
     "text": [
      "Test set accuracy: 0.8750\n",
      "F1 score (weighted): 0.8746\n",
      "\n",
      "Classification Report:\n",
      "              precision    recall  f1-score   support\n",
      "\n",
      "    positive     0.6667    0.7500    0.7059         8\n",
      "     neutral     0.9138    0.9298    0.9217        57\n",
      "    negative     0.8462    0.7333    0.7857        15\n",
      "\n",
      "    accuracy                         0.8750        80\n",
      "   macro avg     0.8089    0.8044    0.8044        80\n",
      "weighted avg     0.8764    0.8750    0.8746        80\n",
      "\n"
     ]
    }
   ],
   "source": [
    "# Calculate overall accuracy\n",
    "test_accuracy = accuracy_score(all_true_labels, all_predictions)\n",
    "print(f\"Test set accuracy: {test_accuracy:.4f}\")\n",
    "\n",
    "# Calculate F1 score (weighted)\n",
    "from sklearn.metrics import f1_score\n",
    "f1 = f1_score(all_true_labels, all_predictions, average='weighted')\n",
    "print(f\"F1 score (weighted): {f1:.4f}\")\n",
    "\n",
    "# Create a detailed classification report\n",
    "sentiment_names = ['positive', 'neutral', 'negative']\n",
    "print(\"\\nClassification Report:\")\n",
    "report = classification_report(\n",
    "    all_true_labels, \n",
    "    all_predictions, \n",
    "    target_names=sentiment_names,\n",
    "    digits=4\n",
    ")\n",
    "print(report)"
   ]
  },
  {
   "cell_type": "code",
   "execution_count": 227,
   "metadata": {},
   "outputs": [
    {
     "data": {
      "image/png": "[encoded data removed]",
      "text/plain": [
       "<Figure size 800x600 with 2 Axes>"
      ]
     },
     "metadata": {},
     "output_type": "display_data"
    }
   ],
   "source": [
    "# Create and plot confusion matrix\n",
    "cm = confusion_matrix(all_true_labels, all_predictions)\n",
    "plt.figure(figsize=(8, 6))\n",
    "sns.heatmap(\n",
    "    cm, \n",
    "    annot=True, \n",
    "    fmt='d', \n",
    "    cmap='Blues',\n",
    "    xticklabels=sentiment_names,\n",
    "    yticklabels=sentiment_names\n",
    ")\n",
    "plt.xlabel('Predicted')\n",
    "plt.ylabel('True')\n",
    "plt.title('Test Set Confusion Matrix')\n",
    "plt.show()\n"
   ]
  },
  {
   "cell_type": "code",
   "execution_count": 229,
   "metadata": {},
   "outputs": [
    {
     "name": "stdout",
     "output_type": "stream",
     "text": [
      "\n",
      "Sample Predictions:\n",
      "Message: \"Great job on that overtake!\"\n",
      "Predicted sentiment: positive\n",
      "\n",
      "Message: \"Box this lap to overtake Hamilton, we are changing the tires to soft ones\"\n",
      "Predicted sentiment: neutral\n",
      "\n",
      "Message: \"What happened there? You're losing time!\"\n",
      "Predicted sentiment: negative\n",
      "\n"
     ]
    }
   ],
   "source": [
    "# Example: Using the model for inference on new text\n",
    "def predict_sentiment(text):\n",
    "    # Tokenize\n",
    "    encoded_text = tokenizer(\n",
    "        text,\n",
    "        truncation=True,\n",
    "        padding='max_length',\n",
    "        max_length=128,\n",
    "        return_tensors='pt'\n",
    "    )\n",
    "    \n",
    "    # Move to device\n",
    "    input_ids = encoded_text['input_ids'].to(device)\n",
    "    attention_mask = encoded_text['attention_mask'].to(device)\n",
    "    \n",
    "    # Predict\n",
    "    with torch.no_grad():\n",
    "        outputs = model(input_ids, attention_mask=attention_mask)\n",
    "        logits = outputs.logits\n",
    "        pred = torch.argmax(logits, dim=1).item()\n",
    "    \n",
    "    # Map prediction to sentiment\n",
    "    sentiments = ['positive', 'neutral', 'negative']\n",
    "    return sentiments[pred]\n",
    "\n",
    "# Test with sample messages\n",
    "sample_messages = [\n",
    "    \"Great job on that overtake!\",\n",
    "    \"Box this lap to overtake Hamilton, we are changing the tires to soft ones\",\n",
    "    \"What happened there? You're losing time!\"\n",
    "]\n",
    "\n",
    "print(\"\\nSample Predictions:\")\n",
    "for message in sample_messages:\n",
    "    sentiment = predict_sentiment(message)\n",
    "    print(f\"Message: \\\"{message}\\\"\")\n",
    "    print(f\"Predicted sentiment: {sentiment}\\n\")"
   ]
  },
  {
   "cell_type": "markdown",
   "metadata": {},
   "source": [
    "# RoBERTa Sentiment Analysis Model Evaluation\n",
    "\n",
    "## Comparing to VADER\n",
    "\n",
    "Compared to VADER, the metrics have been greatly improved. There is (and there was) no doubt that this model performs much better in this task than this sentiment analyzer.\n",
    "\n",
    "## Test Set Performance\n",
    "The model achieves excellent results on the test set, with 87.50% accuracy and a weighted F1 score of 87.46%. This significantly exceeds your target of 85% accuracy, demonstrating the effectiveness of the fine-tuning approach and hyperparameter choices.\n",
    "\n",
    "--- \n",
    "\n",
    "### Class-specific Performance\n",
    "\n",
    "#### Neutral class (majority class):\n",
    "\n",
    "* Outstanding performance with 92.17% F1-score\n",
    "* Correctly identifies 53 out of 57 neutral messages (92.98% recall)\n",
    "* Most reliable class prediction with 91.38% precision\n",
    "\n",
    "\n",
    "#### Negative class:\n",
    "\n",
    "* Strong performance with 78.57% F1-score\n",
    "* Correctly identifies 11 out of 15 negative messages (73.33% recall)\n",
    "* Good precision at 84.62% - when the model predicts negative, it's usually right\n",
    "\n",
    "\n",
    "#### Positive class (smallest class):\n",
    "\n",
    "* Reasonable performance with 70.59% F1-score given the limited samples\n",
    "* Correctly identifies 6 out of 8 positive messages (75.00% recall)\n",
    "* Lower precision (66.67%) indicates some false positives, primarily from neutral messages\n",
    "\n",
    "---\n",
    "\n",
    "### Key Insights\n",
    "\n",
    "1. *Class imbalance handling*: The class weights and training approach successfully addressed the severe imbalance in your dataset (71.5% neutral, 19.1% negative, 9.4% positive).\n",
    "\n",
    "2. *Generalization*: The model performs similarly on the validation and test sets, indicating good generalization capabilities rather than overfitting.\n",
    "\n",
    "3. *Error patterns*: Most errors involve:\n",
    "\n",
    "    - Neutral messages being classified as positive (3 instances)\n",
    "    - Negative messages being classified as neutral (4 instances)\n",
    "\n",
    "    These patterns make intuitive sense, as sentiment boundaries can be subtle in technical communications.\n",
    "---\n",
    "\n",
    "## Practical Application\n",
    "The sample predictions demonstrate the model's real-world utility:\n",
    "\n",
    "* Positive sentiment: Successfully recognizes praise and positive reinforcement\n",
    "* Neutral sentiment: Correctly identifies strategic instructions without emotional content\n",
    "* Negative sentiment: Accurately detects concerned or critical communications\n",
    "\n",
    "This level of performance makes the model suitable for integration into my F1 strategy project, where understanding the sentiment of radio communications can provide valuable context for decision-making algorithms.\n",
    "\n",
    "Furthermore, if we can merge the outputs from this model with a **new one that extracts significant information about the radio**, the performance of my future agent can be greatly improved.\n",
    "\n",
    "Therefore, I´ll proceed to make a new notebook, called `N04_radio_info.ipynb`, where I will explore the best models for this task, and then try to implement them."
   ]
  }
 ],
 "metadata": {
  "kernelspec": {
   "display_name": "f1_strat_manager",
   "language": "python",
   "name": "python3"
  },
  "language_info": {
   "codemirror_mode": {
    "name": "ipython",
    "version": 3
   },
   "file_extension": ".py",
   "mimetype": "text/x-python",
   "name": "python",
   "nbconvert_exporter": "python",
   "pygments_lexer": "ipython3",
   "version": "3.10.16"
  }
 },
 "nbformat": 4,
 "nbformat_minor": 2
}
