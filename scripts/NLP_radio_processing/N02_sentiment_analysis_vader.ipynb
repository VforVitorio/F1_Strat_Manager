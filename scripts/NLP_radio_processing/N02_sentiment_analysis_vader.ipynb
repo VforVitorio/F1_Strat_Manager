{
 "cells": [
  {
   "cell_type": "markdown",
   "metadata": {},
   "source": [
    "# Sentiment analysis of Formula 1 radio messages\n",
    "\n",
    "This is the second notebook of the task of analyzing Formula 1 radios and extracting valuable information.\n",
    "\n",
    "For the sentiment analysis, first, we will use **nltk** with Vader. \n",
    "\n",
    "First, I used `radios_raw.csv`. As this contianed lots of post-race radios, I have eliminated them, so the I will rerun the code using ``radios_filtered.csv``."
   ]
  },
  {
   "cell_type": "markdown",
   "metadata": {},
   "source": [
    "#### Importing necessar libraries and downloading vader lexicon"
   ]
  },
  {
   "cell_type": "code",
   "execution_count": 24,
   "metadata": {},
   "outputs": [],
   "source": [
    "import pandas as pd\n",
    "import numpy as np\n",
    "import matplotlib.pyplot as plt\n",
    "import seaborn as sns\n",
    "from nltk.sentiment.vader import SentimentIntensityAnalyzer\n",
    "import nltk\n",
    "from tqdm.notebook import tqdm\n",
    "\n",
    "# Set styling for visualizations\n",
    "plt.style.use('ggplot')\n",
    "sns.set(style=\"whitegrid\")"
   ]
  },
  {
   "cell_type": "code",
   "execution_count": 25,
   "metadata": {},
   "outputs": [
    {
     "name": "stderr",
     "output_type": "stream",
     "text": [
      "[nltk_data] Downloading package vader_lexicon to\n",
      "[nltk_data]     C:\\Users\\victo\\AppData\\Roaming\\nltk_data...\n",
      "[nltk_data]   Package vader_lexicon is already up-to-date!\n"
     ]
    },
    {
     "data": {
      "text/plain": [
       "True"
      ]
     },
     "execution_count": 25,
     "metadata": {},
     "output_type": "execute_result"
    }
   ],
   "source": [
    "# Download necessary NLTK resources for sentiment analysis\n",
    "nltk.download('vader_lexicon')"
   ]
  },
  {
   "cell_type": "markdown",
   "metadata": {},
   "source": [
    "--- \n",
    "\n",
    "### Loading the transcribed messages\n"
   ]
  },
  {
   "cell_type": "code",
   "execution_count": 26,
   "metadata": {},
   "outputs": [
    {
     "name": "stdout",
     "output_type": "stream",
     "text": [
      "Number of transcribed radio messages: 529\n"
     ]
    },
    {
     "data": {
      "application/vnd.microsoft.datawrangler.viewer.v0+json": {
       "columns": [
        {
         "name": "index",
         "rawType": "int64",
         "type": "integer"
        },
        {
         "name": "driver",
         "rawType": "int64",
         "type": "integer"
        },
        {
         "name": "radio_message",
         "rawType": "object",
         "type": "string"
        },
        {
         "name": "sentiment",
         "rawType": "float64",
         "type": "float"
        }
       ],
       "conversionMethod": "pd.DataFrame",
       "ref": "0ee468d1-0fd1-42fd-b1e1-2c7dc382300a",
       "rows": [
        [
         "0",
         "1",
         "So don't forget Max, use your head please. Are we both doing it or what? You just follow my instruction. No, I want to know if both cars do it. Max, please follow my instruction and trust it. Thank you.",
         null
        ],
        [
         "1",
         "1",
         "Okay Max, we're expecting rain in about 9 or 10 minutes. What are your thoughts? That you can get there or should we box? We'd need to box this lap to cover Leclerc. I can't see the weather, can I? I don't know.",
         null
        ],
        [
         "2",
         "1",
         "You might find this lap that you meet a little bit more water.",
         null
        ],
        [
         "3",
         "1",
         "Just another two or three minutes to get through this.",
         null
        ],
        [
         "4",
         "1",
         "So settle into standard race management now Max.",
         null
        ]
       ],
       "shape": {
        "columns": 3,
        "rows": 5
       }
      },
      "text/html": [
       "<div>\n",
       "<style scoped>\n",
       "    .dataframe tbody tr th:only-of-type {\n",
       "        vertical-align: middle;\n",
       "    }\n",
       "\n",
       "    .dataframe tbody tr th {\n",
       "        vertical-align: top;\n",
       "    }\n",
       "\n",
       "    .dataframe thead th {\n",
       "        text-align: right;\n",
       "    }\n",
       "</style>\n",
       "<table border=\"1\" class=\"dataframe\">\n",
       "  <thead>\n",
       "    <tr style=\"text-align: right;\">\n",
       "      <th></th>\n",
       "      <th>driver</th>\n",
       "      <th>radio_message</th>\n",
       "      <th>sentiment</th>\n",
       "    </tr>\n",
       "  </thead>\n",
       "  <tbody>\n",
       "    <tr>\n",
       "      <th>0</th>\n",
       "      <td>1</td>\n",
       "      <td>So don't forget Max, use your head please. Are...</td>\n",
       "      <td>NaN</td>\n",
       "    </tr>\n",
       "    <tr>\n",
       "      <th>1</th>\n",
       "      <td>1</td>\n",
       "      <td>Okay Max, we're expecting rain in about 9 or 1...</td>\n",
       "      <td>NaN</td>\n",
       "    </tr>\n",
       "    <tr>\n",
       "      <th>2</th>\n",
       "      <td>1</td>\n",
       "      <td>You might find this lap that you meet a little...</td>\n",
       "      <td>NaN</td>\n",
       "    </tr>\n",
       "    <tr>\n",
       "      <th>3</th>\n",
       "      <td>1</td>\n",
       "      <td>Just another two or three minutes to get throu...</td>\n",
       "      <td>NaN</td>\n",
       "    </tr>\n",
       "    <tr>\n",
       "      <th>4</th>\n",
       "      <td>1</td>\n",
       "      <td>So settle into standard race management now Max.</td>\n",
       "      <td>NaN</td>\n",
       "    </tr>\n",
       "  </tbody>\n",
       "</table>\n",
       "</div>"
      ],
      "text/plain": [
       "   driver                                      radio_message  sentiment\n",
       "0       1  So don't forget Max, use your head please. Are...        NaN\n",
       "1       1  Okay Max, we're expecting rain in about 9 or 1...        NaN\n",
       "2       1  You might find this lap that you meet a little...        NaN\n",
       "3       1  Just another two or three minutes to get throu...        NaN\n",
       "4       1   So settle into standard race management now Max.        NaN"
      ]
     },
     "execution_count": 26,
     "metadata": {},
     "output_type": "execute_result"
    }
   ],
   "source": [
    "data_path = \"../../outputs/week4/radio_clean/radio_filtered.csv\"\n",
    "\n",
    "radio_data = pd.read_csv(data_path)\n",
    "\n",
    "# Display basic information\n",
    "\n",
    "print(f\"Number of transcribed radio messages: {len(radio_data)}\")\n",
    "\n",
    "radio_data.head()"
   ]
  },
  {
   "cell_type": "markdown",
   "metadata": {},
   "source": [
    "--- \n",
    "\n",
    "### Initializing Vader sentiment analyzer"
   ]
  },
  {
   "cell_type": "code",
   "execution_count": 27,
   "metadata": {},
   "outputs": [],
   "source": [
    "# Initializing the sentiment analyzer\n",
    "sid = SentimentIntensityAnalyzer()\n",
    "\n",
    "# Get the sentiment scores\n",
    "def get_sentiment_scores(text):\n",
    "    # I add an exception for if the radio message is empty\n",
    "    if pd.isna(text) or text ==\"\":\n",
    "        return {\"neg\": 0 , \"neu\": 0, \"pos\": 0, \"compound\": 0}\n",
    "    \n",
    "    return sid.polarity_scores(text)"
   ]
  },
  {
   "cell_type": "markdown",
   "metadata": {},
   "source": [
    "---\n",
    "### Applying VADER\n",
    "\n",
    "Moreover, I will modify our current Dataframe to add the sentiment analysis made by vader to it. Therefore, there will be *5 new columns:*\n",
    "\n",
    "1. neg: number for specifying the ``negative`` component of the radio message.\n",
    "2. pos: number for specifying the ``positive`` component of the radio message.\n",
    "3. compound: the normalized, weighted composite score that represents overall sentiment of the text on a scale of -1 to 1.\n",
    "4. sentiment: a final column whith the output of the sentiment. "
   ]
  },
  {
   "cell_type": "code",
   "execution_count": 28,
   "metadata": {},
   "outputs": [
    {
     "data": {
      "application/vnd.jupyter.widget-view+json": {
       "model_id": "f7ffb8731a864e05bcbec6c8ef683805",
       "version_major": 2,
       "version_minor": 0
      },
      "text/plain": [
       "Analyzing sentiment:   0%|          | 0/529 [00:00<?, ?it/s]"
      ]
     },
     "metadata": {},
     "output_type": "display_data"
    }
   ],
   "source": [
    "# We apply vader to each transcription\n",
    "\n",
    "tqdm.pandas(desc = \"Analyzing sentiment\")\n",
    "sentiment_scores = radio_data[\"radio_message\"].progress_apply(get_sentiment_scores)\n",
    "\n",
    "# Convert sentiment scores to Dataframe Columns\n",
    "\n",
    "sentiment_df = pd.DataFrame(sentiment_scores.to_list())\n",
    "radio_data = pd.concat([radio_data, sentiment_df], axis = 1)\n",
    "\n"
   ]
  },
  {
   "cell_type": "code",
   "execution_count": 29,
   "metadata": {},
   "outputs": [],
   "source": [
    "# Adding a simple category based on compound score\n",
    "\n",
    "def categorize_sentiment(compound):\n",
    "    if compound >= 0.05:\n",
    "        return \"positive\"\n",
    "    elif compound <= -0.05:\n",
    "        return \"negative\"\n",
    "    else:\n",
    "        return \"neutral\""
   ]
  },
  {
   "cell_type": "code",
   "execution_count": 30,
   "metadata": {},
   "outputs": [
    {
     "data": {
      "application/vnd.microsoft.datawrangler.viewer.v0+json": {
       "columns": [
        {
         "name": "index",
         "rawType": "int64",
         "type": "integer"
        },
        {
         "name": "driver",
         "rawType": "int64",
         "type": "integer"
        },
        {
         "name": "radio_message",
         "rawType": "object",
         "type": "string"
        },
        {
         "name": "sentiment",
         "rawType": "object",
         "type": "string"
        },
        {
         "name": "neg",
         "rawType": "float64",
         "type": "float"
        },
        {
         "name": "neu",
         "rawType": "float64",
         "type": "float"
        },
        {
         "name": "pos",
         "rawType": "float64",
         "type": "float"
        },
        {
         "name": "compound",
         "rawType": "float64",
         "type": "float"
        }
       ],
       "conversionMethod": "pd.DataFrame",
       "ref": "78a37bf2-0688-41af-afad-d80573081ecf",
       "rows": [
        [
         "0",
         "1",
         "So don't forget Max, use your head please. Are we both doing it or what? You just follow my instruction. No, I want to know if both cars do it. Max, please follow my instruction and trust it. Thank you.",
         "positive",
         "0.046",
         "0.669",
         "0.285",
         "0.8571"
        ],
        [
         "1",
         "1",
         "Okay Max, we're expecting rain in about 9 or 10 minutes. What are your thoughts? That you can get there or should we box? We'd need to box this lap to cover Leclerc. I can't see the weather, can I? I don't know.",
         "positive",
         "0.0",
         "0.941",
         "0.059",
         "0.3485"
        ],
        [
         "2",
         "1",
         "You might find this lap that you meet a little bit more water.",
         "neutral",
         "0.0",
         "1.0",
         "0.0",
         "0.0"
        ],
        [
         "3",
         "1",
         "Just another two or three minutes to get through this.",
         "neutral",
         "0.0",
         "1.0",
         "0.0",
         "0.0"
        ],
        [
         "4",
         "1",
         "So settle into standard race management now Max.",
         "neutral",
         "0.0",
         "1.0",
         "0.0",
         "0.0"
        ]
       ],
       "shape": {
        "columns": 7,
        "rows": 5
       }
      },
      "text/html": [
       "<div>\n",
       "<style scoped>\n",
       "    .dataframe tbody tr th:only-of-type {\n",
       "        vertical-align: middle;\n",
       "    }\n",
       "\n",
       "    .dataframe tbody tr th {\n",
       "        vertical-align: top;\n",
       "    }\n",
       "\n",
       "    .dataframe thead th {\n",
       "        text-align: right;\n",
       "    }\n",
       "</style>\n",
       "<table border=\"1\" class=\"dataframe\">\n",
       "  <thead>\n",
       "    <tr style=\"text-align: right;\">\n",
       "      <th></th>\n",
       "      <th>driver</th>\n",
       "      <th>radio_message</th>\n",
       "      <th>sentiment</th>\n",
       "      <th>neg</th>\n",
       "      <th>neu</th>\n",
       "      <th>pos</th>\n",
       "      <th>compound</th>\n",
       "    </tr>\n",
       "  </thead>\n",
       "  <tbody>\n",
       "    <tr>\n",
       "      <th>0</th>\n",
       "      <td>1</td>\n",
       "      <td>So don't forget Max, use your head please. Are...</td>\n",
       "      <td>positive</td>\n",
       "      <td>0.046</td>\n",
       "      <td>0.669</td>\n",
       "      <td>0.285</td>\n",
       "      <td>0.8571</td>\n",
       "    </tr>\n",
       "    <tr>\n",
       "      <th>1</th>\n",
       "      <td>1</td>\n",
       "      <td>Okay Max, we're expecting rain in about 9 or 1...</td>\n",
       "      <td>positive</td>\n",
       "      <td>0.000</td>\n",
       "      <td>0.941</td>\n",
       "      <td>0.059</td>\n",
       "      <td>0.3485</td>\n",
       "    </tr>\n",
       "    <tr>\n",
       "      <th>2</th>\n",
       "      <td>1</td>\n",
       "      <td>You might find this lap that you meet a little...</td>\n",
       "      <td>neutral</td>\n",
       "      <td>0.000</td>\n",
       "      <td>1.000</td>\n",
       "      <td>0.000</td>\n",
       "      <td>0.0000</td>\n",
       "    </tr>\n",
       "    <tr>\n",
       "      <th>3</th>\n",
       "      <td>1</td>\n",
       "      <td>Just another two or three minutes to get throu...</td>\n",
       "      <td>neutral</td>\n",
       "      <td>0.000</td>\n",
       "      <td>1.000</td>\n",
       "      <td>0.000</td>\n",
       "      <td>0.0000</td>\n",
       "    </tr>\n",
       "    <tr>\n",
       "      <th>4</th>\n",
       "      <td>1</td>\n",
       "      <td>So settle into standard race management now Max.</td>\n",
       "      <td>neutral</td>\n",
       "      <td>0.000</td>\n",
       "      <td>1.000</td>\n",
       "      <td>0.000</td>\n",
       "      <td>0.0000</td>\n",
       "    </tr>\n",
       "  </tbody>\n",
       "</table>\n",
       "</div>"
      ],
      "text/plain": [
       "   driver                                      radio_message sentiment    neg  \\\n",
       "0       1  So don't forget Max, use your head please. Are...  positive  0.046   \n",
       "1       1  Okay Max, we're expecting rain in about 9 or 1...  positive  0.000   \n",
       "2       1  You might find this lap that you meet a little...   neutral  0.000   \n",
       "3       1  Just another two or three minutes to get throu...   neutral  0.000   \n",
       "4       1   So settle into standard race management now Max.   neutral  0.000   \n",
       "\n",
       "     neu    pos  compound  \n",
       "0  0.669  0.285    0.8571  \n",
       "1  0.941  0.059    0.3485  \n",
       "2  1.000  0.000    0.0000  \n",
       "3  1.000  0.000    0.0000  \n",
       "4  1.000  0.000    0.0000  "
      ]
     },
     "execution_count": 30,
     "metadata": {},
     "output_type": "execute_result"
    }
   ],
   "source": [
    "radio_data[\"sentiment\"] = radio_data[\"compound\"].apply(categorize_sentiment)\n",
    "\n",
    "# Display the updated dataframe\n",
    "\n",
    "radio_data.head()"
   ]
  },
  {
   "cell_type": "markdown",
   "metadata": {},
   "source": [
    "---\n",
    "### Analyzing sentiment distribution"
   ]
  },
  {
   "cell_type": "code",
   "execution_count": 31,
   "metadata": {},
   "outputs": [
    {
     "name": "stdout",
     "output_type": "stream",
     "text": [
      "Sentiment distribution:\n",
      "sentiment\n",
      "positive    231\n",
      "neutral     175\n",
      "negative    123\n",
      "Name: count, dtype: int64\n",
      "Percentage of positive messages: 43.67%\n",
      "Percentage of neutral messages: 33.08%\n",
      "Percentage of negative messages: 23.25%\n"
     ]
    }
   ],
   "source": [
    "# Analyze sentiment distribution\n",
    "sentiment_counts = radio_data['sentiment'].value_counts()\n",
    "print(\"Sentiment distribution:\")\n",
    "print(sentiment_counts)\n",
    "print(f\"Percentage of positive messages: {sentiment_counts.get('positive', 0) / len(radio_data) * 100:.2f}%\")\n",
    "print(f\"Percentage of neutral messages: {sentiment_counts.get('neutral', 0) / len(radio_data) * 100:.2f}%\")\n",
    "print(f\"Percentage of negative messages: {sentiment_counts.get('negative', 0) / len(radio_data) * 100:.2f}%\")\n",
    "\n"
   ]
  },
  {
   "cell_type": "markdown",
   "metadata": {},
   "source": [
    "#### Key observations\n",
    "\n",
    "1. High positive sentiment. Much more than expected:\n",
    "\n",
    "    52.34% of messages being positive are somewhat surprising for F1 team radio, whic is primarly technical and instructional in nature. However, this can be due to the end-of-race radios, where the drivers and engineers make a summary of the race.\n",
    "\n",
    "    After eliminating them, this percentage has being reduced to 43.67% , suggesting that VADER analyzer can be the problem instead of post-race radios. However, eliminating them was still a good apporach, and a smaller percentage means that the cleaning has been performed well.\n",
    "\n",
    "2. Relatively low neutral percentage:\n",
    "\n",
    "    Given that most team radio communications are tactical instructions or status updates, we would expect the neutral category to be dominant. The 33.08% neutral finding is likely an underestimation.\n",
    "\n",
    "3. Potential VADER Limitations in F1 Context:\n",
    "\n",
    "    Racing-specific terminology might be misclassified (e.g., \"push now\" being seen as positive encouragement rather than a neutral tactical instruction)\n",
    "\n",
    "    Technical acknowledgments like \"copy that, understood\" might register as slightly positive.\n",
    "\n",
    "These points prove that, when labeling the data, it will be needed to define a clear context of what is a positive or negative radio message, and maybe, eliminating the end-of-race messages, because they do not give information during the race."
   ]
  },
  {
   "cell_type": "code",
   "execution_count": 32,
   "metadata": {},
   "outputs": [
    {
     "name": "stderr",
     "output_type": "stream",
     "text": [
      "C:\\Users\\victo\\AppData\\Local\\Temp\\ipykernel_11400\\3269159944.py:3: FutureWarning: \n",
      "\n",
      "Passing `palette` without assigning `hue` is deprecated and will be removed in v0.14.0. Assign the `x` variable to `hue` and set `legend=False` for the same effect.\n",
      "\n",
      "  sns.countplot(x='sentiment', data=radio_data, palette={'positive': 'green', 'neutral': 'gray', 'negative': 'red'})\n"
     ]
    },
    {
     "data": {
      "image/png": "[encoded data removed]",
      "text/plain": [
       "<Figure size 1000x600 with 1 Axes>"
      ]
     },
     "metadata": {},
     "output_type": "display_data"
    }
   ],
   "source": [
    "# Visualize sentiment distribution\n",
    "plt.figure(figsize=(10, 6))\n",
    "sns.countplot(x='sentiment', data=radio_data, palette={'positive': 'green', 'neutral': 'gray', 'negative': 'red'})\n",
    "plt.title('Sentiment Distribution of F1 Team Radio Messages', fontsize=15)\n",
    "plt.xlabel('Sentiment', fontsize=12)\n",
    "plt.ylabel('Count', fontsize=12)\n",
    "plt.xticks(rotation=0)\n",
    "plt.tight_layout()\n",
    "plt.show()"
   ]
  },
  {
   "cell_type": "markdown",
   "metadata": {},
   "source": [
    "---\n",
    "### Analyzing sentiment distribution by driver\n"
   ]
  },
  {
   "cell_type": "code",
   "execution_count": 33,
   "metadata": {},
   "outputs": [
    {
     "data": {
      "text/plain": [
       "<Figure size 1200x800 with 0 Axes>"
      ]
     },
     "metadata": {},
     "output_type": "display_data"
    },
    {
     "data": {
      "image/png": "[encoded data removed]",
      "text/plain": [
       "<Figure size 1200x800 with 1 Axes>"
      ]
     },
     "metadata": {},
     "output_type": "display_data"
    }
   ],
   "source": [
    "# Examine sentiment distribution by driver\n",
    "driver_sentiment = pd.crosstab(radio_data['driver'], radio_data['sentiment'], normalize='index') * 100\n",
    "driver_sentiment = driver_sentiment.sort_values(by='positive', ascending=False)\n",
    "\n",
    "# Plot driver sentiment distribution\n",
    "plt.figure(figsize=(12, 8))\n",
    "driver_sentiment.plot(kind='bar', stacked=True, \n",
    "                     colormap='viridis', figsize=(12, 8))\n",
    "plt.title('Sentiment Distribution by Driver (%)', fontsize=15)\n",
    "plt.xlabel('Driver', fontsize=12)\n",
    "plt.ylabel('Percentage', fontsize=12)\n",
    "plt.xticks(rotation=45)\n",
    "plt.legend(title='Sentiment')\n",
    "plt.tight_layout()\n",
    "plt.show()"
   ]
  },
  {
   "cell_type": "markdown",
   "metadata": {},
   "source": [
    "#### Key observations\n",
    "\n",
    "1. *Driver Sentiment Variability*: The visualization reveals dramatic differences in communication sentiment across F1 drivers:\n",
    "\n",
    "    * Drivers on the left (14, 10, 4, 3) show overwhelmingly positive communications (yellow), with 70-90% positive sentiment.\n",
    "\n",
    "    * Middle-range drivers (11, 27, 1) display increasing proportions of neutral communications.\n",
    "    \n",
    "    * Drivers on the right side (55, 2, 20, 16) exhibit significantly higher neutral sentiment percentages (green), with some reaching 50-67% neutral.\n",
    "\n",
    "\n",
    "2. *Distinct Sentiment Patterns and Outliers*:\n",
    "\n",
    "    * Driver 40 stands out with the highest negative sentiment percentage (purple), reaching approximately 42% of communications.\n",
    "    \n",
    "    * A clear gradient exists across drivers, with neutral sentiment gradually increasing from left to right.\n",
    "    \n",
    "    * Most drivers maintain at least 30% positive sentiment regardless of position, suggesting a baseline of positive communication exists across all teams/drivers.\n",
    "\n",
    "\n"
   ]
  },
  {
   "cell_type": "markdown",
   "metadata": {},
   "source": [
    "---\n",
    "### Displaying examples of each sentiment category"
   ]
  },
  {
   "cell_type": "code",
   "execution_count": 34,
   "metadata": {},
   "outputs": [],
   "source": [
    "# Display examples of each sentiment category\n",
    "def display_examples(sentiment_type, n=10):\n",
    "    examples = radio_data[radio_data['sentiment'] == sentiment_type].sort_values(\n",
    "        by='compound', ascending=(sentiment_type == 'negative'))\n",
    "    return examples[['driver', 'radio_message', 'compound']].head(n)\n",
    "\n"
   ]
  },
  {
   "cell_type": "code",
   "execution_count": 35,
   "metadata": {},
   "outputs": [
    {
     "name": "stdout",
     "output_type": "stream",
     "text": [
      "Examples of POSITIVE messages:\n"
     ]
    },
    {
     "data": {
      "application/vnd.microsoft.datawrangler.viewer.v0+json": {
       "columns": [
        {
         "name": "index",
         "rawType": "int64",
         "type": "integer"
        },
        {
         "name": "driver",
         "rawType": "int64",
         "type": "integer"
        },
        {
         "name": "radio_message",
         "rawType": "object",
         "type": "string"
        },
        {
         "name": "compound",
         "rawType": "float64",
         "type": "float"
        }
       ],
       "conversionMethod": "pd.DataFrame",
       "ref": "30845d74-c9dc-4858-9b8c-68d71ae99db0",
       "rows": [
        [
         "383",
         "44",
         "I think it's another lap man. Yes mate, yes. Just one more lap, that would have done it. But great job there mate, so that's P3 and fastest lap. Lewis, five hours later. Sir, yeah, I hear you Toto. Thanks so much for the support, for the positive words. It's not the easiest of weekends, but good result in the end. Thank you. Peace out guys.",
         "0.9875"
        ],
        [
         "347",
         "40",
         "Okay Liam, so Yuki got a penalty and that's P13 for you today. P13, good effort, good effort. I think you should be pleased. Cool, yeah. Considering the amount of time that we lost at the start, yeah. Good job. I enjoyed that. Okay, glad you enjoyed it. Still a lot of work ahead and we get ready again. Unfortunate with the penalty, very unfortunate. But you did all the right things today and we review the details for next time. Yeah, for sure. To be honest, I started to get a bit more of a feeling on the soft when I got clean air. That medium set I didn't feel very comfortable on, but I started to get more of an understanding on that soft. Yeah, I copied that. And we wanted to try something on the medium because there was not too much to lose. But yeah, the soft was a good component. So, I think the soft was a good component.",
         "0.9823"
        ],
        [
         "120",
         "14",
         "At the moment we will be faster in this. Yeah definitely I think. We only expect two or three minutes of this but it's definitely wet now. Okay so we can wait I don't know. Okay so we think it's getting lighter now. Can we survive it do you think? Definitely survive yes. So definitely KM411 now. Smooth tarmac. Okay it's you let us know as you come in but it's still raining a bit and a bit lighter. Yeah I think I don't know I can survive. It's one minute or so you can follow those other cars.",
         "0.9779"
        ],
        [
         "162",
         "18",
         "One switch cool Lance, one switch cool, keep your delta positive. So if you can't phase out we should fit hard. We've done 18 laps Lance, long way to go, there's more rain coming. Yeah. Jun feels this is the best tyre for the conditions, we think this is the best tyre for the conditions and the context of the race. Make sure your brakes are working well.",
         "0.9737"
        ],
        [
         "212",
         "23",
         "Car feels pretty good. It feels like exactly as we left off yesterday. The same balance. It's a bit neutral in 3 and 4 but then I think that's good for the low speed stuff. I feel quite good on the brakes so I think we just need to keep it like this. Will you hear me? Yes, it is. You don't have to ruin in. Let's take a review. There you go. There it is. It's fine.",
         "0.9718"
        ],
        [
         "274",
         "27",
         "Do you want to flap adjust, Nico? Not really, but it's new sticky tires. Let's maybe try, which way would you go? I would take off, yeah. I would try less, I guess, and see what it feels like. Okay, copy. Take half percent down. Turn 10 feels pretty low in grip, like tailwind, I think. The rear is pretty unhappy there. Yes, on the tailwind into 10. Also 1 and 6 and 7 are tailwind. Okay, so we've taken off 0.5. We'll get a feel. One more grid. Go to the grid after this. Close the radio, Gary. It's too loud.",
         "0.9653"
        ],
        [
         "320",
         "4",
         "Digestion, yellow G2 Yeah, none of this is helping mate Ok mate, we are trying here our best as well Yeah, I can understand Ok",
         "0.936"
        ],
        [
         "492",
         "63",
         "Oh no no What the f*** Guys what the f*** What a f*** Rookie Oh my goodness is True Yes True That's true Yes True I",
         "0.9349"
        ],
        [
         "97",
         "14",
         "Happy for the romance? Yeah, happy. No problem with having a long race, mate. Yeah, copy mate, yeah. Agreed. Perez is the race now.",
         "0.93"
        ],
        [
         "112",
         "14",
         "So there is a small chance of rain in about 10 laps. I'll keep you updated. Good job mate, good job. Good puppy. Good job guys. Got it flying.",
         "0.9118"
        ]
       ],
       "shape": {
        "columns": 3,
        "rows": 10
       }
      },
      "text/html": [
       "<div>\n",
       "<style scoped>\n",
       "    .dataframe tbody tr th:only-of-type {\n",
       "        vertical-align: middle;\n",
       "    }\n",
       "\n",
       "    .dataframe tbody tr th {\n",
       "        vertical-align: top;\n",
       "    }\n",
       "\n",
       "    .dataframe thead th {\n",
       "        text-align: right;\n",
       "    }\n",
       "</style>\n",
       "<table border=\"1\" class=\"dataframe\">\n",
       "  <thead>\n",
       "    <tr style=\"text-align: right;\">\n",
       "      <th></th>\n",
       "      <th>driver</th>\n",
       "      <th>radio_message</th>\n",
       "      <th>compound</th>\n",
       "    </tr>\n",
       "  </thead>\n",
       "  <tbody>\n",
       "    <tr>\n",
       "      <th>383</th>\n",
       "      <td>44</td>\n",
       "      <td>I think it's another lap man. Yes mate, yes. J...</td>\n",
       "      <td>0.9875</td>\n",
       "    </tr>\n",
       "    <tr>\n",
       "      <th>347</th>\n",
       "      <td>40</td>\n",
       "      <td>Okay Liam, so Yuki got a penalty and that's P1...</td>\n",
       "      <td>0.9823</td>\n",
       "    </tr>\n",
       "    <tr>\n",
       "      <th>120</th>\n",
       "      <td>14</td>\n",
       "      <td>At the moment we will be faster in this. Yeah ...</td>\n",
       "      <td>0.9779</td>\n",
       "    </tr>\n",
       "    <tr>\n",
       "      <th>162</th>\n",
       "      <td>18</td>\n",
       "      <td>One switch cool Lance, one switch cool, keep y...</td>\n",
       "      <td>0.9737</td>\n",
       "    </tr>\n",
       "    <tr>\n",
       "      <th>212</th>\n",
       "      <td>23</td>\n",
       "      <td>Car feels pretty good. It feels like exactly a...</td>\n",
       "      <td>0.9718</td>\n",
       "    </tr>\n",
       "    <tr>\n",
       "      <th>274</th>\n",
       "      <td>27</td>\n",
       "      <td>Do you want to flap adjust, Nico? Not really, ...</td>\n",
       "      <td>0.9653</td>\n",
       "    </tr>\n",
       "    <tr>\n",
       "      <th>320</th>\n",
       "      <td>4</td>\n",
       "      <td>Digestion, yellow G2 Yeah, none of this is hel...</td>\n",
       "      <td>0.9360</td>\n",
       "    </tr>\n",
       "    <tr>\n",
       "      <th>492</th>\n",
       "      <td>63</td>\n",
       "      <td>Oh no no What the f*** Guys what the f*** What...</td>\n",
       "      <td>0.9349</td>\n",
       "    </tr>\n",
       "    <tr>\n",
       "      <th>97</th>\n",
       "      <td>14</td>\n",
       "      <td>Happy for the romance? Yeah, happy. No problem...</td>\n",
       "      <td>0.9300</td>\n",
       "    </tr>\n",
       "    <tr>\n",
       "      <th>112</th>\n",
       "      <td>14</td>\n",
       "      <td>So there is a small chance of rain in about 10...</td>\n",
       "      <td>0.9118</td>\n",
       "    </tr>\n",
       "  </tbody>\n",
       "</table>\n",
       "</div>"
      ],
      "text/plain": [
       "     driver                                      radio_message  compound\n",
       "383      44  I think it's another lap man. Yes mate, yes. J...    0.9875\n",
       "347      40  Okay Liam, so Yuki got a penalty and that's P1...    0.9823\n",
       "120      14  At the moment we will be faster in this. Yeah ...    0.9779\n",
       "162      18  One switch cool Lance, one switch cool, keep y...    0.9737\n",
       "212      23  Car feels pretty good. It feels like exactly a...    0.9718\n",
       "274      27  Do you want to flap adjust, Nico? Not really, ...    0.9653\n",
       "320       4  Digestion, yellow G2 Yeah, none of this is hel...    0.9360\n",
       "492      63  Oh no no What the f*** Guys what the f*** What...    0.9349\n",
       "97       14  Happy for the romance? Yeah, happy. No problem...    0.9300\n",
       "112      14  So there is a small chance of rain in about 10...    0.9118"
      ]
     },
     "execution_count": 35,
     "metadata": {},
     "output_type": "execute_result"
    }
   ],
   "source": [
    "print(\"Examples of POSITIVE messages:\")\n",
    "display_examples('positive')"
   ]
  },
  {
   "cell_type": "code",
   "execution_count": 36,
   "metadata": {},
   "outputs": [
    {
     "name": "stdout",
     "output_type": "stream",
     "text": [
      "\n",
      "Examples of NEUTRAL messages:\n"
     ]
    },
    {
     "data": {
      "application/vnd.microsoft.datawrangler.viewer.v0+json": {
       "columns": [
        {
         "name": "index",
         "rawType": "int64",
         "type": "integer"
        },
        {
         "name": "driver",
         "rawType": "int64",
         "type": "integer"
        },
        {
         "name": "radio_message",
         "rawType": "object",
         "type": "string"
        },
        {
         "name": "compound",
         "rawType": "float64",
         "type": "float"
        }
       ],
       "conversionMethod": "pd.DataFrame",
       "ref": "fc60d6e0-78b8-41ea-8f01-9ebf74725551",
       "rows": [
        [
         "46",
         "1",
         "Max, I will say it again, there is no merit at this stage in being within one second of Ocon. Sainz is still doing 40.3s. We've been here before, we've been hurt before. You might not think you are pushing Max, but the effective V-ratio as we've seen before is very low.",
         "0.0414"
        ],
        [
         "286",
         "31",
         "The grip of the steering wheel is falling apart. It's okay for this race, but I think next one we need a refurnish or something.",
         "0.0387"
        ],
        [
         "289",
         "31",
         "This is new material so I wouldn't be surprised if it just takes a lap or two to bed in. I wouldn't be too alarmed at the moment. We'll keep looking.",
         "0.0274"
        ],
        [
         "6",
         "1",
         "This time I had reasonable deg in the first stint. I'd ask you to use your head a bit more.",
         "0.0"
        ],
        [
         "12",
         "1",
         "I'm just picking up.",
         "0.0"
        ],
        [
         "3",
         "1",
         "Just another two or three minutes to get through this.",
         "0.0"
        ],
        [
         "2",
         "1",
         "You might find this lap that you meet a little bit more water.",
         "0.0"
        ],
        [
         "18",
         "1",
         "There are some pockets of rain a few kilometres away from the track we're monitoring.",
         "0.0"
        ],
        [
         "22",
         "1",
         "Alonso has pitted for dry tyres. Understood, Max. We need enters. Understood, Max. We are pitting for enters.",
         "0.0"
        ],
        [
         "34",
         "1",
         "Is it gonna be like extreme tyre or Inter? Difficult to say at the moment, I guess.",
         "0.0"
        ]
       ],
       "shape": {
        "columns": 3,
        "rows": 10
       }
      },
      "text/html": [
       "<div>\n",
       "<style scoped>\n",
       "    .dataframe tbody tr th:only-of-type {\n",
       "        vertical-align: middle;\n",
       "    }\n",
       "\n",
       "    .dataframe tbody tr th {\n",
       "        vertical-align: top;\n",
       "    }\n",
       "\n",
       "    .dataframe thead th {\n",
       "        text-align: right;\n",
       "    }\n",
       "</style>\n",
       "<table border=\"1\" class=\"dataframe\">\n",
       "  <thead>\n",
       "    <tr style=\"text-align: right;\">\n",
       "      <th></th>\n",
       "      <th>driver</th>\n",
       "      <th>radio_message</th>\n",
       "      <th>compound</th>\n",
       "    </tr>\n",
       "  </thead>\n",
       "  <tbody>\n",
       "    <tr>\n",
       "      <th>46</th>\n",
       "      <td>1</td>\n",
       "      <td>Max, I will say it again, there is no merit at...</td>\n",
       "      <td>0.0414</td>\n",
       "    </tr>\n",
       "    <tr>\n",
       "      <th>286</th>\n",
       "      <td>31</td>\n",
       "      <td>The grip of the steering wheel is falling apar...</td>\n",
       "      <td>0.0387</td>\n",
       "    </tr>\n",
       "    <tr>\n",
       "      <th>289</th>\n",
       "      <td>31</td>\n",
       "      <td>This is new material so I wouldn't be surprise...</td>\n",
       "      <td>0.0274</td>\n",
       "    </tr>\n",
       "    <tr>\n",
       "      <th>6</th>\n",
       "      <td>1</td>\n",
       "      <td>This time I had reasonable deg in the first st...</td>\n",
       "      <td>0.0000</td>\n",
       "    </tr>\n",
       "    <tr>\n",
       "      <th>12</th>\n",
       "      <td>1</td>\n",
       "      <td>I'm just picking up.</td>\n",
       "      <td>0.0000</td>\n",
       "    </tr>\n",
       "    <tr>\n",
       "      <th>3</th>\n",
       "      <td>1</td>\n",
       "      <td>Just another two or three minutes to get throu...</td>\n",
       "      <td>0.0000</td>\n",
       "    </tr>\n",
       "    <tr>\n",
       "      <th>2</th>\n",
       "      <td>1</td>\n",
       "      <td>You might find this lap that you meet a little...</td>\n",
       "      <td>0.0000</td>\n",
       "    </tr>\n",
       "    <tr>\n",
       "      <th>18</th>\n",
       "      <td>1</td>\n",
       "      <td>There are some pockets of rain a few kilometre...</td>\n",
       "      <td>0.0000</td>\n",
       "    </tr>\n",
       "    <tr>\n",
       "      <th>22</th>\n",
       "      <td>1</td>\n",
       "      <td>Alonso has pitted for dry tyres. Understood, M...</td>\n",
       "      <td>0.0000</td>\n",
       "    </tr>\n",
       "    <tr>\n",
       "      <th>34</th>\n",
       "      <td>1</td>\n",
       "      <td>Is it gonna be like extreme tyre or Inter? Dif...</td>\n",
       "      <td>0.0000</td>\n",
       "    </tr>\n",
       "  </tbody>\n",
       "</table>\n",
       "</div>"
      ],
      "text/plain": [
       "     driver                                      radio_message  compound\n",
       "46        1  Max, I will say it again, there is no merit at...    0.0414\n",
       "286      31  The grip of the steering wheel is falling apar...    0.0387\n",
       "289      31  This is new material so I wouldn't be surprise...    0.0274\n",
       "6         1  This time I had reasonable deg in the first st...    0.0000\n",
       "12        1                               I'm just picking up.    0.0000\n",
       "3         1  Just another two or three minutes to get throu...    0.0000\n",
       "2         1  You might find this lap that you meet a little...    0.0000\n",
       "18        1  There are some pockets of rain a few kilometre...    0.0000\n",
       "22        1  Alonso has pitted for dry tyres. Understood, M...    0.0000\n",
       "34        1  Is it gonna be like extreme tyre or Inter? Dif...    0.0000"
      ]
     },
     "execution_count": 36,
     "metadata": {},
     "output_type": "execute_result"
    }
   ],
   "source": [
    "print(\"\\nExamples of NEUTRAL messages:\")\n",
    "display_examples('neutral')"
   ]
  },
  {
   "cell_type": "code",
   "execution_count": 37,
   "metadata": {},
   "outputs": [
    {
     "name": "stdout",
     "output_type": "stream",
     "text": [
      "\n",
      "Examples of NEGATIVE messages:\n"
     ]
    },
    {
     "data": {
      "application/vnd.microsoft.datawrangler.viewer.v0+json": {
       "columns": [
        {
         "name": "index",
         "rawType": "int64",
         "type": "integer"
        },
        {
         "name": "driver",
         "rawType": "int64",
         "type": "integer"
        },
        {
         "name": "radio_message",
         "rawType": "object",
         "type": "string"
        },
        {
         "name": "compound",
         "rawType": "float64",
         "type": "float"
        }
       ],
       "conversionMethod": "pd.DataFrame",
       "ref": "b653a80e-fa56-4734-8d2c-df63861a1caa",
       "rows": [
        [
         "491",
         "63",
         "No! No! No! No!",
         "-0.8388"
        ],
        [
         "516",
         "81",
         "Oscar, kill the engine. The car is not safe to continue.",
         "-0.7967"
        ],
        [
         "105",
         "14",
         "The most damage is done after the tunnel breaking for 10 and the last two corners. That's where you do the most damage to the tarts.",
         "-0.7897"
        ],
        [
         "399",
         "55",
         "What the f***? Exactly what I talked about! Exactly what I talked about! Slow intro, Hamilton 1.4 behind The main target there was to cover Hamilton Hamilton 1 second behind I don't care about Hamilton! I was f***ing weak!",
         "-0.7715"
        ],
        [
         "130",
         "16",
         "No, I lost the hydraulics. I lost the hydraulics. Why the f*** am I so unlucky? Why the f*** am I so unlucky?",
         "-0.7319"
        ],
        [
         "333",
         "4",
         "How's the balance? How's the balance? Well, not great obviously. The front grainings is hard to not get. The raise you have to manage a bit but the front grainings is the bigger problem.",
         "-0.6915"
        ],
        [
         "168",
         "2",
         "Where's Bortas? Bortas has retired, no threat.",
         "-0.6808"
        ],
        [
         "264",
         "27",
         "A lot of understeer creeping in, all speeds but also traction getting very poor.",
         "-0.6798"
        ],
        [
         "51",
         "1",
         "In the low speed, from back steering to opening up, I just have no traction and no open steer. Understood.",
         "-0.6705"
        ],
        [
         "510",
         "77",
         "Okay Valtteri, no more shifts, no more shifts, we need to stop the car on track, stop the car. Okay, sorry for that.",
         "-0.6486"
        ]
       ],
       "shape": {
        "columns": 3,
        "rows": 10
       }
      },
      "text/html": [
       "<div>\n",
       "<style scoped>\n",
       "    .dataframe tbody tr th:only-of-type {\n",
       "        vertical-align: middle;\n",
       "    }\n",
       "\n",
       "    .dataframe tbody tr th {\n",
       "        vertical-align: top;\n",
       "    }\n",
       "\n",
       "    .dataframe thead th {\n",
       "        text-align: right;\n",
       "    }\n",
       "</style>\n",
       "<table border=\"1\" class=\"dataframe\">\n",
       "  <thead>\n",
       "    <tr style=\"text-align: right;\">\n",
       "      <th></th>\n",
       "      <th>driver</th>\n",
       "      <th>radio_message</th>\n",
       "      <th>compound</th>\n",
       "    </tr>\n",
       "  </thead>\n",
       "  <tbody>\n",
       "    <tr>\n",
       "      <th>491</th>\n",
       "      <td>63</td>\n",
       "      <td>No! No! No! No!</td>\n",
       "      <td>-0.8388</td>\n",
       "    </tr>\n",
       "    <tr>\n",
       "      <th>516</th>\n",
       "      <td>81</td>\n",
       "      <td>Oscar, kill the engine. The car is not safe to...</td>\n",
       "      <td>-0.7967</td>\n",
       "    </tr>\n",
       "    <tr>\n",
       "      <th>105</th>\n",
       "      <td>14</td>\n",
       "      <td>The most damage is done after the tunnel break...</td>\n",
       "      <td>-0.7897</td>\n",
       "    </tr>\n",
       "    <tr>\n",
       "      <th>399</th>\n",
       "      <td>55</td>\n",
       "      <td>What the f***? Exactly what I talked about! Ex...</td>\n",
       "      <td>-0.7715</td>\n",
       "    </tr>\n",
       "    <tr>\n",
       "      <th>130</th>\n",
       "      <td>16</td>\n",
       "      <td>No, I lost the hydraulics. I lost the hydrauli...</td>\n",
       "      <td>-0.7319</td>\n",
       "    </tr>\n",
       "    <tr>\n",
       "      <th>333</th>\n",
       "      <td>4</td>\n",
       "      <td>How's the balance? How's the balance? Well, no...</td>\n",
       "      <td>-0.6915</td>\n",
       "    </tr>\n",
       "    <tr>\n",
       "      <th>168</th>\n",
       "      <td>2</td>\n",
       "      <td>Where's Bortas? Bortas has retired, no threat.</td>\n",
       "      <td>-0.6808</td>\n",
       "    </tr>\n",
       "    <tr>\n",
       "      <th>264</th>\n",
       "      <td>27</td>\n",
       "      <td>A lot of understeer creeping in, all speeds bu...</td>\n",
       "      <td>-0.6798</td>\n",
       "    </tr>\n",
       "    <tr>\n",
       "      <th>51</th>\n",
       "      <td>1</td>\n",
       "      <td>In the low speed, from back steering to openin...</td>\n",
       "      <td>-0.6705</td>\n",
       "    </tr>\n",
       "    <tr>\n",
       "      <th>510</th>\n",
       "      <td>77</td>\n",
       "      <td>Okay Valtteri, no more shifts, no more shifts,...</td>\n",
       "      <td>-0.6486</td>\n",
       "    </tr>\n",
       "  </tbody>\n",
       "</table>\n",
       "</div>"
      ],
      "text/plain": [
       "     driver                                      radio_message  compound\n",
       "491      63                                    No! No! No! No!   -0.8388\n",
       "516      81  Oscar, kill the engine. The car is not safe to...   -0.7967\n",
       "105      14  The most damage is done after the tunnel break...   -0.7897\n",
       "399      55  What the f***? Exactly what I talked about! Ex...   -0.7715\n",
       "130      16  No, I lost the hydraulics. I lost the hydrauli...   -0.7319\n",
       "333       4  How's the balance? How's the balance? Well, no...   -0.6915\n",
       "168       2     Where's Bortas? Bortas has retired, no threat.   -0.6808\n",
       "264      27  A lot of understeer creeping in, all speeds bu...   -0.6798\n",
       "51        1  In the low speed, from back steering to openin...   -0.6705\n",
       "510      77  Okay Valtteri, no more shifts, no more shifts,...   -0.6486"
      ]
     },
     "execution_count": 37,
     "metadata": {},
     "output_type": "execute_result"
    }
   ],
   "source": [
    "print(\"\\nExamples of NEGATIVE messages:\")\n",
    "display_examples('negative')"
   ]
  },
  {
   "cell_type": "markdown",
   "metadata": {},
   "source": [
    "---\n",
    "\n",
    "### Saving the sentiment vader results\n"
   ]
  },
  {
   "cell_type": "code",
   "execution_count": 38,
   "metadata": {},
   "outputs": [
    {
     "name": "stdout",
     "output_type": "stream",
     "text": [
      "Sentiment analysis results saved to ../../outputs/week4/radios_sentiment_vader.csv\n"
     ]
    }
   ],
   "source": [
    "output_path = \"../../outputs/week4/radios_sentiment_vader.csv\"\n",
    "radio_data.to_csv(output_path, index = False)\n",
    "print(f\"Sentiment analysis results saved to {output_path}\")"
   ]
  },
  {
   "cell_type": "markdown",
   "metadata": {},
   "source": [
    "---\n",
    "\n",
    "## Making metrics for future comparison with other models"
   ]
  },
  {
   "cell_type": "code",
   "execution_count": 39,
   "metadata": {},
   "outputs": [
    {
     "name": "stdout",
     "output_type": "stream",
     "text": [
      "Summary metrics:\n"
     ]
    },
    {
     "data": {
      "application/vnd.microsoft.datawrangler.viewer.v0+json": {
       "columns": [
        {
         "name": "index",
         "rawType": "int64",
         "type": "integer"
        },
        {
         "name": "model",
         "rawType": "object",
         "type": "string"
        },
        {
         "name": "positive_percentage",
         "rawType": "float64",
         "type": "float"
        },
        {
         "name": "neutral_percentage",
         "rawType": "float64",
         "type": "float"
        },
        {
         "name": "negative_percentage",
         "rawType": "float64",
         "type": "float"
        },
        {
         "name": "average_compound",
         "rawType": "float64",
         "type": "float"
        },
        {
         "name": "std_compound",
         "rawType": "float64",
         "type": "float"
        }
       ],
       "conversionMethod": "pd.DataFrame",
       "ref": "aeabf48a-2e02-48e9-a84d-3b5c6c25eb44",
       "rows": [
        [
         "0",
         "VADER",
         "43.667296786389414",
         "33.0812854442344",
         "23.251417769376182",
         "0.12766672967863896",
         "0.376898266643089"
        ]
       ],
       "shape": {
        "columns": 6,
        "rows": 1
       }
      },
      "text/html": [
       "<div>\n",
       "<style scoped>\n",
       "    .dataframe tbody tr th:only-of-type {\n",
       "        vertical-align: middle;\n",
       "    }\n",
       "\n",
       "    .dataframe tbody tr th {\n",
       "        vertical-align: top;\n",
       "    }\n",
       "\n",
       "    .dataframe thead th {\n",
       "        text-align: right;\n",
       "    }\n",
       "</style>\n",
       "<table border=\"1\" class=\"dataframe\">\n",
       "  <thead>\n",
       "    <tr style=\"text-align: right;\">\n",
       "      <th></th>\n",
       "      <th>model</th>\n",
       "      <th>positive_percentage</th>\n",
       "      <th>neutral_percentage</th>\n",
       "      <th>negative_percentage</th>\n",
       "      <th>average_compound</th>\n",
       "      <th>std_compound</th>\n",
       "    </tr>\n",
       "  </thead>\n",
       "  <tbody>\n",
       "    <tr>\n",
       "      <th>0</th>\n",
       "      <td>VADER</td>\n",
       "      <td>43.667297</td>\n",
       "      <td>33.081285</td>\n",
       "      <td>23.251418</td>\n",
       "      <td>0.127667</td>\n",
       "      <td>0.376898</td>\n",
       "    </tr>\n",
       "  </tbody>\n",
       "</table>\n",
       "</div>"
      ],
      "text/plain": [
       "   model  positive_percentage  neutral_percentage  negative_percentage  \\\n",
       "0  VADER            43.667297           33.081285            23.251418   \n",
       "\n",
       "   average_compound  std_compound  \n",
       "0          0.127667      0.376898  "
      ]
     },
     "execution_count": 39,
     "metadata": {},
     "output_type": "execute_result"
    }
   ],
   "source": [
    "# Calculate metrics for future comparison with other models\n",
    "metrics = {\n",
    "    'model': 'VADER',\n",
    "    'positive_percentage': sentiment_counts.get('positive', 0) / len(radio_data) * 100,\n",
    "    'neutral_percentage': sentiment_counts.get('neutral', 0) / len(radio_data) * 100,\n",
    "    'negative_percentage': sentiment_counts.get('negative', 0) / len(radio_data) * 100,\n",
    "    'average_compound': radio_data['compound'].mean(),\n",
    "    'std_compound': radio_data['compound'].std()\n",
    "}\n",
    "\n",
    "metrics_df = pd.DataFrame([metrics])\n",
    "metrics_df.to_csv('../../outputs/week4/sentiment_metrics_vader.csv', index=False)\n",
    "print(\"Summary metrics:\")\n",
    "metrics_df"
   ]
  },
  {
   "cell_type": "markdown",
   "metadata": {},
   "source": [
    "--- \n",
    "\n",
    "## Next Steps: BERT-based Sentiment Analysis\n",
    "\n",
    "While NLTK's VADER provides a quick, lexicon-based sentiment analysis, deep learning models \n",
    "like BERT can potentially offer better performance, especially for domain-specific language \n",
    "like F1 team radio communications.\n",
    "\n",
    "Moreover, with this sentiment analysis, we can´t extract metrics for mistakes, like false positives. For this, we´ll need to label the data.\n",
    "\n",
    "### But first: labeling the data\n",
    "\n",
    "I think it is a good idea to label myself the data. With the correct labeling, I can try to make a comparison between the results given by VADER and then the others.\n",
    "\n",
    "Because of that, I´ll add the `N00_labeling_radios.ipynb`, where I will label the data.\n",
    "\n",
    "But...\n",
    "\n",
    "#### **When labeling data, we will exclude end-of-race messages for the following reasons:**\n",
    "Why?\n",
    "\n",
    "* Project Focus: Our model aims to support real-time strategic decision-making during races, not post-race analysis.\n",
    "\n",
    "* Different Context: End-of-race communications follow different patterns (congratulatory, reflective) than tactical in-race messages.\n",
    "\n",
    "* Sentiment Distortion: Including these highly emotional messages would create an unrealistic sentiment distribution compared to the strategic communications we need to analyze.\n",
    "---\n",
    "\n",
    "#### Therefore, in the labelling radios notebook, I´ll make this cleaning before labeling. If the dataset gets highly reduced, I may need to rerun the code with new radio messages. \n",
    "\n",
    "This happened, so I added 3 more Grand Prix to have more data. I will rerun the code and change the percentages. Then, I will run the code again without the post-race messages.\n",
    "\n",
    "---\n",
    "### Approaches for BERT-based sentiment analysis:\n",
    "\n",
    "1. **Using pretrained BERT models**:\n",
    "   - Apply a pretrained BERT model fine-tuned for sentiment analysis (e.g., from Hugging Face)\n",
    "   - This approach doesn't require labeled data from our domain\n",
    "\n",
    "2. **Fine-tuning BERT with our data**:\n",
    "   - Requires manually labeling a subset of our radio messages\n",
    "   - Could capture F1-specific sentiment expressions better\n",
    "   - Steps:\n",
    "     a. Sample a subset of messages (e.g., 100-200)\n",
    "     b. Manually label them (positive, neutral, negative)\n",
    "     c. Fine-tune a pretrained BERT model with these labeled examples\n",
    "     d. Evaluate performance\n",
    "---\n",
    "## Metrics for comparison:\n",
    "- Distribution of sentiment categories\n",
    "- Manual evaluation of a sample of predictions\n",
    "- If we create a labeled test set, we can calculate precision, recall, and F1 scores\n"
   ]
  }
 ],
 "metadata": {
  "kernelspec": {
   "display_name": "f1_strat_manager",
   "language": "python",
   "name": "python3"
  },
  "language_info": {
   "codemirror_mode": {
    "name": "ipython",
    "version": 3
   },
   "file_extension": ".py",
   "mimetype": "text/x-python",
   "name": "python",
   "nbconvert_exporter": "python",
   "pygments_lexer": "ipython3",
   "version": "3.10.16"
  }
 },
 "nbformat": 4,
 "nbformat_minor": 2
}
