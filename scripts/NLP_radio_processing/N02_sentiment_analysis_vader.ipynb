{
 "cells": [
  {
   "cell_type": "markdown",
   "metadata": {},
   "source": [
    "# Sentiment analysis of Formula 1 radio messages\n",
    "\n",
    "This is the second notebook of the task of analyzing Formula 1 radios and extracting valuable information.\n",
    "\n",
    "For the sentiment analysis, first, we will use **nltk** with Vader. \n",
    "\n",
    "First, I used `radios_raw.csv`. As this contianed lots of post-race radios, I have eliminated them, so the I will rerun the code using ``radios_filtered.csv``."
   ]
  },
  {
   "cell_type": "markdown",
   "metadata": {},
   "source": [
    "#### Importing necessar libraries and downloading vader lexicon"
   ]
  },
  {
   "cell_type": "code",
   "execution_count": 19,
   "metadata": {},
   "outputs": [],
   "source": [
    "import pandas as pd\n",
    "import numpy as np\n",
    "import matplotlib.pyplot as plt\n",
    "import seaborn as sns\n",
    "from nltk.sentiment.vader import SentimentIntensityAnalyzer\n",
    "import nltk\n",
    "from tqdm.notebook import tqdm\n",
    "\n",
    "# Set styling for visualizations\n",
    "plt.style.use('ggplot')\n",
    "sns.set(style=\"whitegrid\")"
   ]
  },
  {
   "cell_type": "code",
   "execution_count": 20,
   "metadata": {},
   "outputs": [
    {
     "name": "stderr",
     "output_type": "stream",
     "text": [
      "[nltk_data] Downloading package vader_lexicon to\n",
      "[nltk_data]     C:\\Users\\victo\\AppData\\Roaming\\nltk_data...\n",
      "[nltk_data]   Package vader_lexicon is already up-to-date!\n"
     ]
    },
    {
     "data": {
      "text/plain": [
       "True"
      ]
     },
     "execution_count": 20,
     "metadata": {},
     "output_type": "execute_result"
    }
   ],
   "source": [
    "# Download necessary NLTK resources for sentiment analysis\n",
    "nltk.download('vader_lexicon')"
   ]
  },
  {
   "cell_type": "markdown",
   "metadata": {},
   "source": [
    "--- \n",
    "\n",
    "### Loading the transcribed messages\n"
   ]
  },
  {
   "cell_type": "code",
   "execution_count": 21,
   "metadata": {},
   "outputs": [
    {
     "name": "stdout",
     "output_type": "stream",
     "text": [
      "Number of transcribed radio messages: 603\n"
     ]
    },
    {
     "data": {
      "application/vnd.microsoft.datawrangler.viewer.v0+json": {
       "columns": [
        {
         "name": "index",
         "rawType": "int64",
         "type": "integer"
        },
        {
         "name": "Unnamed: 0",
         "rawType": "int64",
         "type": "integer"
        },
        {
         "name": "driver",
         "rawType": "int64",
         "type": "integer"
        },
        {
         "name": "radio_message",
         "rawType": "object",
         "type": "string"
        }
       ],
       "conversionMethod": "pd.DataFrame",
       "ref": "ee17afc7-6bb2-4b27-b8a0-187cce1c28c9",
       "rows": [
        [
         "0",
         "0",
         "1",
         "So don't forget Max, use your head please. Are we both doing it or what? You just follow my instruction. No, I want to know if both cars do it. Max, please follow my instruction and trust it. Thank you."
        ],
        [
         "1",
         "1",
         "1",
         "Okay Max, we're expecting rain in about 9 or 10 minutes. What are your thoughts? That you can get there or should we box? We'd need to box this lap to cover Leclerc. I can't see the weather, can I? I don't know."
        ],
        [
         "2",
         "3",
         "1",
         "You might find this lap that you meet a little bit more water."
        ],
        [
         "3",
         "4",
         "1",
         "Just another two or three minutes to get through this."
        ],
        [
         "4",
         "5",
         "1",
         "So settle into standard race management now Max."
        ]
       ],
       "shape": {
        "columns": 3,
        "rows": 5
       }
      },
      "text/html": [
       "<div>\n",
       "<style scoped>\n",
       "    .dataframe tbody tr th:only-of-type {\n",
       "        vertical-align: middle;\n",
       "    }\n",
       "\n",
       "    .dataframe tbody tr th {\n",
       "        vertical-align: top;\n",
       "    }\n",
       "\n",
       "    .dataframe thead th {\n",
       "        text-align: right;\n",
       "    }\n",
       "</style>\n",
       "<table border=\"1\" class=\"dataframe\">\n",
       "  <thead>\n",
       "    <tr style=\"text-align: right;\">\n",
       "      <th></th>\n",
       "      <th>Unnamed: 0</th>\n",
       "      <th>driver</th>\n",
       "      <th>radio_message</th>\n",
       "    </tr>\n",
       "  </thead>\n",
       "  <tbody>\n",
       "    <tr>\n",
       "      <th>0</th>\n",
       "      <td>0</td>\n",
       "      <td>1</td>\n",
       "      <td>So don't forget Max, use your head please. Are...</td>\n",
       "    </tr>\n",
       "    <tr>\n",
       "      <th>1</th>\n",
       "      <td>1</td>\n",
       "      <td>1</td>\n",
       "      <td>Okay Max, we're expecting rain in about 9 or 1...</td>\n",
       "    </tr>\n",
       "    <tr>\n",
       "      <th>2</th>\n",
       "      <td>3</td>\n",
       "      <td>1</td>\n",
       "      <td>You might find this lap that you meet a little...</td>\n",
       "    </tr>\n",
       "    <tr>\n",
       "      <th>3</th>\n",
       "      <td>4</td>\n",
       "      <td>1</td>\n",
       "      <td>Just another two or three minutes to get throu...</td>\n",
       "    </tr>\n",
       "    <tr>\n",
       "      <th>4</th>\n",
       "      <td>5</td>\n",
       "      <td>1</td>\n",
       "      <td>So settle into standard race management now Max.</td>\n",
       "    </tr>\n",
       "  </tbody>\n",
       "</table>\n",
       "</div>"
      ],
      "text/plain": [
       "   Unnamed: 0  driver                                      radio_message\n",
       "0           0       1  So don't forget Max, use your head please. Are...\n",
       "1           1       1  Okay Max, we're expecting rain in about 9 or 1...\n",
       "2           3       1  You might find this lap that you meet a little...\n",
       "3           4       1  Just another two or three minutes to get throu...\n",
       "4           5       1   So settle into standard race management now Max."
      ]
     },
     "execution_count": 21,
     "metadata": {},
     "output_type": "execute_result"
    }
   ],
   "source": [
    "data_path = \"../../outputs/week4/radios_filtered.csv\"\n",
    "\n",
    "radio_data = pd.read_csv(data_path)\n",
    "\n",
    "# Display basic information\n",
    "\n",
    "print(f\"Number of transcribed radio messages: {len(radio_data)}\")\n",
    "\n",
    "radio_data.head()"
   ]
  },
  {
   "cell_type": "markdown",
   "metadata": {},
   "source": [
    "--- \n",
    "\n",
    "### Initializing Vader sentiment analyzer"
   ]
  },
  {
   "cell_type": "code",
   "execution_count": 22,
   "metadata": {},
   "outputs": [],
   "source": [
    "# Initializing the sentiment analyzer\n",
    "sid = SentimentIntensityAnalyzer()\n",
    "\n",
    "# Get the sentiment scores\n",
    "def get_sentiment_scores(text):\n",
    "    # I add an exception for if the radio message is empty\n",
    "    if pd.isna(text) or text ==\"\":\n",
    "        return {\"neg\": 0 , \"neu\": 0, \"pos\": 0, \"compound\": 0}\n",
    "    \n",
    "    return sid.polarity_scores(text)"
   ]
  },
  {
   "cell_type": "markdown",
   "metadata": {},
   "source": [
    "---\n",
    "### Applying VADER\n",
    "\n",
    "Moreover, I will modify our current Dataframe to add the sentiment analysis made by vader to it. Therefore, there will be *5 new columns:*\n",
    "\n",
    "1. neg: number for specifying the ``negative`` component of the radio message.\n",
    "2. pos: number for specifying the ``positive`` component of the radio message.\n",
    "3. compound: the normalized, weighted composite score that represents overall sentiment of the text on a scale of -1 to 1.\n",
    "4. sentiment: a final column whith the output of the sentiment. "
   ]
  },
  {
   "cell_type": "code",
   "execution_count": 23,
   "metadata": {},
   "outputs": [
    {
     "data": {
      "application/vnd.jupyter.widget-view+json": {
       "model_id": "c3bd31670e6f48c882d294402e611ab7",
       "version_major": 2,
       "version_minor": 0
      },
      "text/plain": [
       "Analyzing sentiment:   0%|          | 0/603 [00:00<?, ?it/s]"
      ]
     },
     "metadata": {},
     "output_type": "display_data"
    }
   ],
   "source": [
    "# We apply vader to each transcription\n",
    "\n",
    "tqdm.pandas(desc = \"Analyzing sentiment\")\n",
    "sentiment_scores = radio_data[\"radio_message\"].progress_apply(get_sentiment_scores)\n",
    "\n",
    "# Convert sentiment scores to Dataframe Columns\n",
    "\n",
    "sentiment_df = pd.DataFrame(sentiment_scores.to_list())\n",
    "radio_data = pd.concat([radio_data, sentiment_df], axis = 1)\n",
    "\n"
   ]
  },
  {
   "cell_type": "code",
   "execution_count": 24,
   "metadata": {},
   "outputs": [],
   "source": [
    "# Adding a simple category based on compound score\n",
    "\n",
    "def categorize_sentiment(compound):\n",
    "    if compound >= 0.05:\n",
    "        return \"positive\"\n",
    "    elif compound <= -0.05:\n",
    "        return \"negative\"\n",
    "    else:\n",
    "        return \"neutral\""
   ]
  },
  {
   "cell_type": "code",
   "execution_count": 25,
   "metadata": {},
   "outputs": [
    {
     "data": {
      "application/vnd.microsoft.datawrangler.viewer.v0+json": {
       "columns": [
        {
         "name": "index",
         "rawType": "int64",
         "type": "integer"
        },
        {
         "name": "Unnamed: 0",
         "rawType": "int64",
         "type": "integer"
        },
        {
         "name": "driver",
         "rawType": "int64",
         "type": "integer"
        },
        {
         "name": "radio_message",
         "rawType": "object",
         "type": "string"
        },
        {
         "name": "neg",
         "rawType": "float64",
         "type": "float"
        },
        {
         "name": "neu",
         "rawType": "float64",
         "type": "float"
        },
        {
         "name": "pos",
         "rawType": "float64",
         "type": "float"
        },
        {
         "name": "compound",
         "rawType": "float64",
         "type": "float"
        },
        {
         "name": "sentiment",
         "rawType": "object",
         "type": "string"
        }
       ],
       "conversionMethod": "pd.DataFrame",
       "ref": "a4bd3e5c-b06f-4db7-a0ae-1b884cb72667",
       "rows": [
        [
         "0",
         "0",
         "1",
         "So don't forget Max, use your head please. Are we both doing it or what? You just follow my instruction. No, I want to know if both cars do it. Max, please follow my instruction and trust it. Thank you.",
         "0.046",
         "0.669",
         "0.285",
         "0.8571",
         "positive"
        ],
        [
         "1",
         "1",
         "1",
         "Okay Max, we're expecting rain in about 9 or 10 minutes. What are your thoughts? That you can get there or should we box? We'd need to box this lap to cover Leclerc. I can't see the weather, can I? I don't know.",
         "0.0",
         "0.941",
         "0.059",
         "0.3485",
         "positive"
        ],
        [
         "2",
         "3",
         "1",
         "You might find this lap that you meet a little bit more water.",
         "0.0",
         "1.0",
         "0.0",
         "0.0",
         "neutral"
        ],
        [
         "3",
         "4",
         "1",
         "Just another two or three minutes to get through this.",
         "0.0",
         "1.0",
         "0.0",
         "0.0",
         "neutral"
        ],
        [
         "4",
         "5",
         "1",
         "So settle into standard race management now Max.",
         "0.0",
         "1.0",
         "0.0",
         "0.0",
         "neutral"
        ]
       ],
       "shape": {
        "columns": 8,
        "rows": 5
       }
      },
      "text/html": [
       "<div>\n",
       "<style scoped>\n",
       "    .dataframe tbody tr th:only-of-type {\n",
       "        vertical-align: middle;\n",
       "    }\n",
       "\n",
       "    .dataframe tbody tr th {\n",
       "        vertical-align: top;\n",
       "    }\n",
       "\n",
       "    .dataframe thead th {\n",
       "        text-align: right;\n",
       "    }\n",
       "</style>\n",
       "<table border=\"1\" class=\"dataframe\">\n",
       "  <thead>\n",
       "    <tr style=\"text-align: right;\">\n",
       "      <th></th>\n",
       "      <th>Unnamed: 0</th>\n",
       "      <th>driver</th>\n",
       "      <th>radio_message</th>\n",
       "      <th>neg</th>\n",
       "      <th>neu</th>\n",
       "      <th>pos</th>\n",
       "      <th>compound</th>\n",
       "      <th>sentiment</th>\n",
       "    </tr>\n",
       "  </thead>\n",
       "  <tbody>\n",
       "    <tr>\n",
       "      <th>0</th>\n",
       "      <td>0</td>\n",
       "      <td>1</td>\n",
       "      <td>So don't forget Max, use your head please. Are...</td>\n",
       "      <td>0.046</td>\n",
       "      <td>0.669</td>\n",
       "      <td>0.285</td>\n",
       "      <td>0.8571</td>\n",
       "      <td>positive</td>\n",
       "    </tr>\n",
       "    <tr>\n",
       "      <th>1</th>\n",
       "      <td>1</td>\n",
       "      <td>1</td>\n",
       "      <td>Okay Max, we're expecting rain in about 9 or 1...</td>\n",
       "      <td>0.000</td>\n",
       "      <td>0.941</td>\n",
       "      <td>0.059</td>\n",
       "      <td>0.3485</td>\n",
       "      <td>positive</td>\n",
       "    </tr>\n",
       "    <tr>\n",
       "      <th>2</th>\n",
       "      <td>3</td>\n",
       "      <td>1</td>\n",
       "      <td>You might find this lap that you meet a little...</td>\n",
       "      <td>0.000</td>\n",
       "      <td>1.000</td>\n",
       "      <td>0.000</td>\n",
       "      <td>0.0000</td>\n",
       "      <td>neutral</td>\n",
       "    </tr>\n",
       "    <tr>\n",
       "      <th>3</th>\n",
       "      <td>4</td>\n",
       "      <td>1</td>\n",
       "      <td>Just another two or three minutes to get throu...</td>\n",
       "      <td>0.000</td>\n",
       "      <td>1.000</td>\n",
       "      <td>0.000</td>\n",
       "      <td>0.0000</td>\n",
       "      <td>neutral</td>\n",
       "    </tr>\n",
       "    <tr>\n",
       "      <th>4</th>\n",
       "      <td>5</td>\n",
       "      <td>1</td>\n",
       "      <td>So settle into standard race management now Max.</td>\n",
       "      <td>0.000</td>\n",
       "      <td>1.000</td>\n",
       "      <td>0.000</td>\n",
       "      <td>0.0000</td>\n",
       "      <td>neutral</td>\n",
       "    </tr>\n",
       "  </tbody>\n",
       "</table>\n",
       "</div>"
      ],
      "text/plain": [
       "   Unnamed: 0  driver                                      radio_message  \\\n",
       "0           0       1  So don't forget Max, use your head please. Are...   \n",
       "1           1       1  Okay Max, we're expecting rain in about 9 or 1...   \n",
       "2           3       1  You might find this lap that you meet a little...   \n",
       "3           4       1  Just another two or three minutes to get throu...   \n",
       "4           5       1   So settle into standard race management now Max.   \n",
       "\n",
       "     neg    neu    pos  compound sentiment  \n",
       "0  0.046  0.669  0.285    0.8571  positive  \n",
       "1  0.000  0.941  0.059    0.3485  positive  \n",
       "2  0.000  1.000  0.000    0.0000   neutral  \n",
       "3  0.000  1.000  0.000    0.0000   neutral  \n",
       "4  0.000  1.000  0.000    0.0000   neutral  "
      ]
     },
     "execution_count": 25,
     "metadata": {},
     "output_type": "execute_result"
    }
   ],
   "source": [
    "radio_data[\"sentiment\"] = radio_data[\"compound\"].apply(categorize_sentiment)\n",
    "\n",
    "# Display the updated dataframe\n",
    "\n",
    "radio_data.head()"
   ]
  },
  {
   "cell_type": "markdown",
   "metadata": {},
   "source": [
    "---\n",
    "### Analyzing sentiment distribution"
   ]
  },
  {
   "cell_type": "code",
   "execution_count": 26,
   "metadata": {},
   "outputs": [
    {
     "name": "stdout",
     "output_type": "stream",
     "text": [
      "Sentiment distribution:\n",
      "sentiment\n",
      "positive    316\n",
      "neutral     164\n",
      "negative    123\n",
      "Name: count, dtype: int64\n",
      "Percentage of positive messages: 52.40%\n",
      "Percentage of neutral messages: 27.20%\n",
      "Percentage of negative messages: 20.40%\n"
     ]
    }
   ],
   "source": [
    "# Analyze sentiment distribution\n",
    "sentiment_counts = radio_data['sentiment'].value_counts()\n",
    "print(\"Sentiment distribution:\")\n",
    "print(sentiment_counts)\n",
    "print(f\"Percentage of positive messages: {sentiment_counts.get('positive', 0) / len(radio_data) * 100:.2f}%\")\n",
    "print(f\"Percentage of neutral messages: {sentiment_counts.get('neutral', 0) / len(radio_data) * 100:.2f}%\")\n",
    "print(f\"Percentage of negative messages: {sentiment_counts.get('negative', 0) / len(radio_data) * 100:.2f}%\")\n",
    "\n"
   ]
  },
  {
   "cell_type": "markdown",
   "metadata": {},
   "source": [
    "#### Key observations\n",
    "\n",
    "1. High positive sentiment. Much more than expected:\n",
    "\n",
    "    52.34% of messages being positive are somewhat surprising for F1 team radio, whic is primarly technical and instructional in nature. However, this can be due to the end-of-race radios, where the drivers and engineers make a summary of the race.\n",
    "\n",
    "    After eliminating them, this percentage is almost the same (52.40%), suggesting that VADER analyzer can be the problem instead of post-race radios. However, eliminating them was still a good apporach.\n",
    "\n",
    "2. Relatively low neutral percentage:\n",
    "\n",
    "    Given that most team radio communications are tactical instructions or status updates, we would expect the neutral category to be dominant. The 27.20% neutral finding is likely an underestimation.\n",
    "\n",
    "3. Potential VADER Limitations in F1 Context:\n",
    "\n",
    "    Racing-specific terminology might be misclassified (e.g., \"push now\" being seen as positive encouragement rather than a neutral tactical instruction)\n",
    "\n",
    "    Technical acknowledgments like \"copy that, understood\" might register as slightly positive.\n",
    "\n",
    "These points prove that, when labeling the data, it will be needed to define a clear context of what is a positive or negative radio message, and maybe, eliminating the end-of-race messages, because they do not give information during the race."
   ]
  },
  {
   "cell_type": "code",
   "execution_count": 27,
   "metadata": {},
   "outputs": [
    {
     "name": "stderr",
     "output_type": "stream",
     "text": [
      "C:\\Users\\victo\\AppData\\Local\\Temp\\ipykernel_12028\\3269159944.py:3: FutureWarning: \n",
      "\n",
      "Passing `palette` without assigning `hue` is deprecated and will be removed in v0.14.0. Assign the `x` variable to `hue` and set `legend=False` for the same effect.\n",
      "\n",
      "  sns.countplot(x='sentiment', data=radio_data, palette={'positive': 'green', 'neutral': 'gray', 'negative': 'red'})\n"
     ]
    },
    {
     "data": {
      "image/png": "[encoded data removed]",
      "text/plain": [
       "<Figure size 1000x600 with 1 Axes>"
      ]
     },
     "metadata": {},
     "output_type": "display_data"
    }
   ],
   "source": [
    "# Visualize sentiment distribution\n",
    "plt.figure(figsize=(10, 6))\n",
    "sns.countplot(x='sentiment', data=radio_data, palette={'positive': 'green', 'neutral': 'gray', 'negative': 'red'})\n",
    "plt.title('Sentiment Distribution of F1 Team Radio Messages', fontsize=15)\n",
    "plt.xlabel('Sentiment', fontsize=12)\n",
    "plt.ylabel('Count', fontsize=12)\n",
    "plt.xticks(rotation=0)\n",
    "plt.tight_layout()\n",
    "plt.show()"
   ]
  },
  {
   "cell_type": "markdown",
   "metadata": {},
   "source": [
    "---\n",
    "### Analyzing sentiment distribution by driver\n"
   ]
  },
  {
   "cell_type": "code",
   "execution_count": 28,
   "metadata": {},
   "outputs": [
    {
     "data": {
      "text/plain": [
       "<Figure size 1200x800 with 0 Axes>"
      ]
     },
     "metadata": {},
     "output_type": "display_data"
    },
    {
     "data": {
      "image/png": "[encoded data removed]",
      "text/plain": [
       "<Figure size 1200x800 with 1 Axes>"
      ]
     },
     "metadata": {},
     "output_type": "display_data"
    }
   ],
   "source": [
    "# Examine sentiment distribution by driver\n",
    "driver_sentiment = pd.crosstab(radio_data['driver'], radio_data['sentiment'], normalize='index') * 100\n",
    "driver_sentiment = driver_sentiment.sort_values(by='positive', ascending=False)\n",
    "\n",
    "# Plot driver sentiment distribution\n",
    "plt.figure(figsize=(12, 8))\n",
    "driver_sentiment.plot(kind='bar', stacked=True, \n",
    "                     colormap='viridis', figsize=(12, 8))\n",
    "plt.title('Sentiment Distribution by Driver (%)', fontsize=15)\n",
    "plt.xlabel('Driver', fontsize=12)\n",
    "plt.ylabel('Percentage', fontsize=12)\n",
    "plt.xticks(rotation=45)\n",
    "plt.legend(title='Sentiment')\n",
    "plt.tight_layout()\n",
    "plt.show()"
   ]
  },
  {
   "cell_type": "markdown",
   "metadata": {},
   "source": [
    "#### Key observations\n",
    "\n",
    "1. *Driver Sentiment Variability*: The visualization reveals dramatic differences in communication sentiment across F1 drivers:\n",
    "\n",
    "    * Drivers on the left (14, 10, 4, 3) show overwhelmingly positive communications (yellow), with 70-90% positive sentiment.\n",
    "\n",
    "    * Middle-range drivers (11, 27, 1) display increasing proportions of neutral communications.\n",
    "    \n",
    "    * Drivers on the right side (55, 2, 20, 16) exhibit significantly higher neutral sentiment percentages (green), with some reaching 50-67% neutral.\n",
    "\n",
    "\n",
    "2. *Distinct Sentiment Patterns and Outliers*:\n",
    "\n",
    "    * Driver 40 stands out with the highest negative sentiment percentage (purple), reaching approximately 42% of communications.\n",
    "    \n",
    "    * A clear gradient exists across drivers, with neutral sentiment gradually increasing from left to right.\n",
    "    \n",
    "    * Most drivers maintain at least 30% positive sentiment regardless of position, suggesting a baseline of positive communication exists across all teams/drivers.\n",
    "\n",
    "\n"
   ]
  },
  {
   "cell_type": "markdown",
   "metadata": {},
   "source": [
    "---\n",
    "### Displaying examples of each sentiment category"
   ]
  },
  {
   "cell_type": "code",
   "execution_count": 29,
   "metadata": {},
   "outputs": [],
   "source": [
    "# Display examples of each sentiment category\n",
    "def display_examples(sentiment_type, n=10):\n",
    "    examples = radio_data[radio_data['sentiment'] == sentiment_type].sort_values(\n",
    "        by='compound', ascending=(sentiment_type == 'negative'))\n",
    "    return examples[['driver', 'radio_message', 'compound']].head(n)\n",
    "\n"
   ]
  },
  {
   "cell_type": "code",
   "execution_count": 30,
   "metadata": {},
   "outputs": [
    {
     "name": "stdout",
     "output_type": "stream",
     "text": [
      "Examples of POSITIVE messages:\n"
     ]
    },
    {
     "data": {
      "application/vnd.microsoft.datawrangler.viewer.v0+json": {
       "columns": [
        {
         "name": "index",
         "rawType": "int64",
         "type": "integer"
        },
        {
         "name": "driver",
         "rawType": "int64",
         "type": "integer"
        },
        {
         "name": "radio_message",
         "rawType": "object",
         "type": "string"
        },
        {
         "name": "compound",
         "rawType": "float64",
         "type": "float"
        }
       ],
       "conversionMethod": "pd.DataFrame",
       "ref": "f969c57e-b41b-4904-9a68-5d8555c43155",
       "rows": [
        [
         "396",
         "40",
         "And that's P9 for you today. And yeah, I think that's probably gonna stay P9. It's 11 seconds to press. But that's the Red Bull. Good effort, good fighting out there. Okay mate, P9 should be pleased with that. We've got Pascal ahead of us. I think you've defended very very hard. That was a good job. Mate, I gave that everything. There's nothing left. Yeah, that's what we need. That's why you're here mate. Okay, very good race mate. And you've got a lot of coverage. You should be pleased. You should be pleased. Same again next week. No time to rest. I can't hear that. Thank you guys for the hard work. It's good to get a couple of points. I feel like we've missed out on a bit, but you guys did a good job. And I really gave that everything. And we will do a practice art festival in Japan. Practice art festival in Japan. Please not. I know mate, I know. Apologies guys, because that's not good enough, honestly. That's okay. That's why we're here. We keep working. I'm good, Jermit. And I'm happy to get points. It's been a long, long season so far. I'm happy. I'm happy. I'm happy.",
         "0.9969"
        ],
        [
         "27",
         "1",
         "You've done it again Max, well done mate. Very lovely that, that was the real monocobe. It was quite difficult there on the wet but quite enjoyable as well. Thank you guys, that was a really well executed race I think. Yeah well done mate, that is a brilliant brilliant performance. I mean it's nearly two hours long and you've covered all the conditions. Well done, it was a fantastic drive. Yeah that was a long one for sure.",
         "0.9924"
        ],
        [
         "390",
         "40",
         "Liam, can you hear me? Yeah, I can. Okay mate, so most likely the FIA will tell us which tire to use, either inter or extreme. But if they don't, and if we have a choice, so the extreme could be good very initially for the restart, but then the deg will be higher than the inter. So we have seven laps remaining, and likely to have a couple of safety car laps, so basically we probably have four or five race laps remaining. So have a think if you would like to try something, if you have a view, have a think if you have a view, otherwise we decide for you. For me, if it's more than three, four laps, like more than three laps, four laps racing, then the inter is going to be better, because I don't think they're going to let us race until it's in conditions where the inter is actually probably stronger. So I think the inter is better, but if it's like two, three laps, then the wets, maybe. Copy that. It's just because we're thinking about warm-up. So the inter, I agree, will be better, but we will have a couple of safety car laps, then a couple of warm-up laps. So there won't be very much of racing at a full tire temperature. That's why we are thinking about it.",
         "0.9916"
        ],
        [
         "42",
         "1",
         "Yes! Wow! Didn't make it easy for us today, the weather, but again, unbelievable guys. Great way to come back after the break as well. Well done Max, that match is the best run ever of Sebastian, so nine wins in a row, it's amazing. So, yeah, take in every moment of this in lap, I'm sure they're going to serenade you all the way around.",
         "0.9912"
        ],
        [
         "226",
         "22",
         "Yeah, well done guys. Thank you. Yeah, it's the last three races. This was quite tough, quite rough from my side, but yeah. It was a nice car, very nice car. Amazing car. Thanks guys. What a way to finish the first half of the season. Let's keep pushing like this. Yeah, fantastic race, Juki. Fantastic race.",
         "0.991"
        ],
        [
         "71",
         "10",
         "Yeah, that's what I like baby! That's what I like! Really good race! Really good race! You guys can be proud, very well executed! And you mate, and you mate! Nice job! Very nice job! That's really one for the team this one, yeah? Awesome job, awesome job! Thank you!",
         "0.9891"
        ],
        [
         "422",
         "44",
         "Woo! Let's go! Great job guys. That was a tough race. Super grateful for all the hard work everyone's put in to bring this upgrade. Let's keep pushing. We need more. I don't know who you know that, but let's keep pushing and believe in you guys. Thank you mate. Yeah, we believe in you too. Yeah, Luis really went down and as you say, the team has done a brilliant job. The mechanics and strategy team today, the right cores at the right time, so good teamwork. Yes sir. Thank you.",
         "0.9878"
        ],
        [
         "438",
         "44",
         "I think it's another lap man. Yes mate, yes. Just one more lap, that would have done it. But great job there mate, so that's P3 and fastest lap. Lewis, five hours later. Sir, yeah, I hear you Toto. Thanks so much for the support, for the positive words. It's not the easiest of weekends, but good result in the end. Thank you. Peace out guys.",
         "0.9875"
        ],
        [
         "73",
         "10",
         "Nice one mate, well managed. It's not easy to do that last stint and to stay patient doing the first stint, but well managed P6. Yeah, very good recovery guys, very good recovery. I'm very happy, managed to turn things around from Friday to now, so can be very pleased with that. Yeah, let's keep working, keep working, there's potential to put our elbows out. That was fun.",
         "0.987"
        ],
        [
         "373",
         "4",
         "Okay mate, that's P9, P9. Uh huh. Yeah, yeah, good job everyone. Okay mate, that's P9, P9. Uh huh. Yeah, yeah, good job everyone. Good, good little couple points. Best we could do today. Pace is good obviously. So yeah, let's keep pushing guys. Keep it up. Thank you very much. Thank you.",
         "0.9864"
        ]
       ],
       "shape": {
        "columns": 3,
        "rows": 10
       }
      },
      "text/html": [
       "<div>\n",
       "<style scoped>\n",
       "    .dataframe tbody tr th:only-of-type {\n",
       "        vertical-align: middle;\n",
       "    }\n",
       "\n",
       "    .dataframe tbody tr th {\n",
       "        vertical-align: top;\n",
       "    }\n",
       "\n",
       "    .dataframe thead th {\n",
       "        text-align: right;\n",
       "    }\n",
       "</style>\n",
       "<table border=\"1\" class=\"dataframe\">\n",
       "  <thead>\n",
       "    <tr style=\"text-align: right;\">\n",
       "      <th></th>\n",
       "      <th>driver</th>\n",
       "      <th>radio_message</th>\n",
       "      <th>compound</th>\n",
       "    </tr>\n",
       "  </thead>\n",
       "  <tbody>\n",
       "    <tr>\n",
       "      <th>396</th>\n",
       "      <td>40</td>\n",
       "      <td>And that's P9 for you today. And yeah, I think...</td>\n",
       "      <td>0.9969</td>\n",
       "    </tr>\n",
       "    <tr>\n",
       "      <th>27</th>\n",
       "      <td>1</td>\n",
       "      <td>You've done it again Max, well done mate. Very...</td>\n",
       "      <td>0.9924</td>\n",
       "    </tr>\n",
       "    <tr>\n",
       "      <th>390</th>\n",
       "      <td>40</td>\n",
       "      <td>Liam, can you hear me? Yeah, I can. Okay mate,...</td>\n",
       "      <td>0.9916</td>\n",
       "    </tr>\n",
       "    <tr>\n",
       "      <th>42</th>\n",
       "      <td>1</td>\n",
       "      <td>Yes! Wow! Didn't make it easy for us today, th...</td>\n",
       "      <td>0.9912</td>\n",
       "    </tr>\n",
       "    <tr>\n",
       "      <th>226</th>\n",
       "      <td>22</td>\n",
       "      <td>Yeah, well done guys. Thank you. Yeah, it's th...</td>\n",
       "      <td>0.9910</td>\n",
       "    </tr>\n",
       "    <tr>\n",
       "      <th>71</th>\n",
       "      <td>10</td>\n",
       "      <td>Yeah, that's what I like baby! That's what I l...</td>\n",
       "      <td>0.9891</td>\n",
       "    </tr>\n",
       "    <tr>\n",
       "      <th>422</th>\n",
       "      <td>44</td>\n",
       "      <td>Woo! Let's go! Great job guys. That was a toug...</td>\n",
       "      <td>0.9878</td>\n",
       "    </tr>\n",
       "    <tr>\n",
       "      <th>438</th>\n",
       "      <td>44</td>\n",
       "      <td>I think it's another lap man. Yes mate, yes. J...</td>\n",
       "      <td>0.9875</td>\n",
       "    </tr>\n",
       "    <tr>\n",
       "      <th>73</th>\n",
       "      <td>10</td>\n",
       "      <td>Nice one mate, well managed. It's not easy to ...</td>\n",
       "      <td>0.9870</td>\n",
       "    </tr>\n",
       "    <tr>\n",
       "      <th>373</th>\n",
       "      <td>4</td>\n",
       "      <td>Okay mate, that's P9, P9. Uh huh. Yeah, yeah, ...</td>\n",
       "      <td>0.9864</td>\n",
       "    </tr>\n",
       "  </tbody>\n",
       "</table>\n",
       "</div>"
      ],
      "text/plain": [
       "     driver                                      radio_message  compound\n",
       "396      40  And that's P9 for you today. And yeah, I think...    0.9969\n",
       "27        1  You've done it again Max, well done mate. Very...    0.9924\n",
       "390      40  Liam, can you hear me? Yeah, I can. Okay mate,...    0.9916\n",
       "42        1  Yes! Wow! Didn't make it easy for us today, th...    0.9912\n",
       "226      22  Yeah, well done guys. Thank you. Yeah, it's th...    0.9910\n",
       "71       10  Yeah, that's what I like baby! That's what I l...    0.9891\n",
       "422      44  Woo! Let's go! Great job guys. That was a toug...    0.9878\n",
       "438      44  I think it's another lap man. Yes mate, yes. J...    0.9875\n",
       "73       10  Nice one mate, well managed. It's not easy to ...    0.9870\n",
       "373       4  Okay mate, that's P9, P9. Uh huh. Yeah, yeah, ...    0.9864"
      ]
     },
     "execution_count": 30,
     "metadata": {},
     "output_type": "execute_result"
    }
   ],
   "source": [
    "print(\"Examples of POSITIVE messages:\")\n",
    "display_examples('positive')"
   ]
  },
  {
   "cell_type": "code",
   "execution_count": 31,
   "metadata": {},
   "outputs": [
    {
     "name": "stdout",
     "output_type": "stream",
     "text": [
      "\n",
      "Examples of NEUTRAL messages:\n"
     ]
    },
    {
     "data": {
      "application/vnd.microsoft.datawrangler.viewer.v0+json": {
       "columns": [
        {
         "name": "index",
         "rawType": "int64",
         "type": "integer"
        },
        {
         "name": "driver",
         "rawType": "int64",
         "type": "integer"
        },
        {
         "name": "radio_message",
         "rawType": "object",
         "type": "string"
        },
        {
         "name": "compound",
         "rawType": "float64",
         "type": "float"
        }
       ],
       "conversionMethod": "pd.DataFrame",
       "ref": "3cc74bf7-98d8-40ea-acc5-a35046019130",
       "rows": [
        [
         "49",
         "1",
         "Max, I will say it again, there is no merit at this stage in being within one second of Ocon. Sainz is still doing 40.3s. We've been here before, we've been hurt before. You might not think you are pushing Max, but the effective V-ratio as we've seen before is very low.",
         "0.0414"
        ],
        [
         "328",
         "31",
         "The grip of the steering wheel is falling apart. It's okay for this race, but I think next one we need a refurnish or something.",
         "0.0387"
        ],
        [
         "331",
         "31",
         "This is new material so I wouldn't be surprised if it just takes a lap or two to bed in. I wouldn't be too alarmed at the moment. We'll keep looking.",
         "0.0274"
        ],
        [
         "2",
         "1",
         "You might find this lap that you meet a little bit more water.",
         "0.0"
        ],
        [
         "6",
         "1",
         "This time I had reasonable deg in the first stint. I'd ask you to use your head a bit more.",
         "0.0"
        ],
        [
         "13",
         "1",
         "I'm just picking up.",
         "0.0"
        ],
        [
         "20",
         "1",
         "There are some pockets of rain a few kilometres away from the track we're monitoring.",
         "0.0"
        ],
        [
         "19",
         "1",
         "Another four or five laps max and we could pit ahead of that train of blue flags.",
         "0.0"
        ],
        [
         "29",
         "1",
         "How far is it behind?",
         "0.0"
        ],
        [
         "36",
         "1",
         "Is it gonna be like extreme tyre or Inter? Difficult to say at the moment, I guess.",
         "0.0"
        ]
       ],
       "shape": {
        "columns": 3,
        "rows": 10
       }
      },
      "text/html": [
       "<div>\n",
       "<style scoped>\n",
       "    .dataframe tbody tr th:only-of-type {\n",
       "        vertical-align: middle;\n",
       "    }\n",
       "\n",
       "    .dataframe tbody tr th {\n",
       "        vertical-align: top;\n",
       "    }\n",
       "\n",
       "    .dataframe thead th {\n",
       "        text-align: right;\n",
       "    }\n",
       "</style>\n",
       "<table border=\"1\" class=\"dataframe\">\n",
       "  <thead>\n",
       "    <tr style=\"text-align: right;\">\n",
       "      <th></th>\n",
       "      <th>driver</th>\n",
       "      <th>radio_message</th>\n",
       "      <th>compound</th>\n",
       "    </tr>\n",
       "  </thead>\n",
       "  <tbody>\n",
       "    <tr>\n",
       "      <th>49</th>\n",
       "      <td>1</td>\n",
       "      <td>Max, I will say it again, there is no merit at...</td>\n",
       "      <td>0.0414</td>\n",
       "    </tr>\n",
       "    <tr>\n",
       "      <th>328</th>\n",
       "      <td>31</td>\n",
       "      <td>The grip of the steering wheel is falling apar...</td>\n",
       "      <td>0.0387</td>\n",
       "    </tr>\n",
       "    <tr>\n",
       "      <th>331</th>\n",
       "      <td>31</td>\n",
       "      <td>This is new material so I wouldn't be surprise...</td>\n",
       "      <td>0.0274</td>\n",
       "    </tr>\n",
       "    <tr>\n",
       "      <th>2</th>\n",
       "      <td>1</td>\n",
       "      <td>You might find this lap that you meet a little...</td>\n",
       "      <td>0.0000</td>\n",
       "    </tr>\n",
       "    <tr>\n",
       "      <th>6</th>\n",
       "      <td>1</td>\n",
       "      <td>This time I had reasonable deg in the first st...</td>\n",
       "      <td>0.0000</td>\n",
       "    </tr>\n",
       "    <tr>\n",
       "      <th>13</th>\n",
       "      <td>1</td>\n",
       "      <td>I'm just picking up.</td>\n",
       "      <td>0.0000</td>\n",
       "    </tr>\n",
       "    <tr>\n",
       "      <th>20</th>\n",
       "      <td>1</td>\n",
       "      <td>There are some pockets of rain a few kilometre...</td>\n",
       "      <td>0.0000</td>\n",
       "    </tr>\n",
       "    <tr>\n",
       "      <th>19</th>\n",
       "      <td>1</td>\n",
       "      <td>Another four or five laps max and we could pit...</td>\n",
       "      <td>0.0000</td>\n",
       "    </tr>\n",
       "    <tr>\n",
       "      <th>29</th>\n",
       "      <td>1</td>\n",
       "      <td>How far is it behind?</td>\n",
       "      <td>0.0000</td>\n",
       "    </tr>\n",
       "    <tr>\n",
       "      <th>36</th>\n",
       "      <td>1</td>\n",
       "      <td>Is it gonna be like extreme tyre or Inter? Dif...</td>\n",
       "      <td>0.0000</td>\n",
       "    </tr>\n",
       "  </tbody>\n",
       "</table>\n",
       "</div>"
      ],
      "text/plain": [
       "     driver                                      radio_message  compound\n",
       "49        1  Max, I will say it again, there is no merit at...    0.0414\n",
       "328      31  The grip of the steering wheel is falling apar...    0.0387\n",
       "331      31  This is new material so I wouldn't be surprise...    0.0274\n",
       "2         1  You might find this lap that you meet a little...    0.0000\n",
       "6         1  This time I had reasonable deg in the first st...    0.0000\n",
       "13        1                               I'm just picking up.    0.0000\n",
       "20        1  There are some pockets of rain a few kilometre...    0.0000\n",
       "19        1  Another four or five laps max and we could pit...    0.0000\n",
       "29        1                              How far is it behind?    0.0000\n",
       "36        1  Is it gonna be like extreme tyre or Inter? Dif...    0.0000"
      ]
     },
     "execution_count": 31,
     "metadata": {},
     "output_type": "execute_result"
    }
   ],
   "source": [
    "print(\"\\nExamples of NEUTRAL messages:\")\n",
    "display_examples('neutral')"
   ]
  },
  {
   "cell_type": "code",
   "execution_count": 32,
   "metadata": {},
   "outputs": [
    {
     "name": "stdout",
     "output_type": "stream",
     "text": [
      "\n",
      "Examples of NEGATIVE messages:\n"
     ]
    },
    {
     "data": {
      "application/vnd.microsoft.datawrangler.viewer.v0+json": {
       "columns": [
        {
         "name": "index",
         "rawType": "int64",
         "type": "integer"
        },
        {
         "name": "driver",
         "rawType": "int64",
         "type": "integer"
        },
        {
         "name": "radio_message",
         "rawType": "object",
         "type": "string"
        },
        {
         "name": "compound",
         "rawType": "float64",
         "type": "float"
        }
       ],
       "conversionMethod": "pd.DataFrame",
       "ref": "937fffa7-1b8a-4082-8862-6102142e7a23",
       "rows": [
        [
         "391",
         "40",
         "Out of curiosity, what was the penalty for in the pit stop? So it was because of the... The reason for the penalty was because we impeded Haas for their pit stop because of doing the double stack. So nothing you could have done. It's because of the car position in the pit end and yeah, what happened there. Bad timings. Copy that, copy. I just wanted to know just in case it was me that... No, no, no, no. Yeah, as I tried to say, it was nothing to do with you. It was just timings in the pit lane which didn't work out. Yeah, loud and clear.",
         "-0.91"
        ],
        [
         "410",
         "44",
         "It's disgusting but the cops are so bad in the air.",
         "-0.8569"
        ],
        [
         "164",
         "18",
         "10 lts, that's P9. So bad. No balance. There's so much daggy. Yeah, copy, copy. It's a horrible, horrible race.",
         "-0.8484"
        ],
        [
         "557",
         "63",
         "No! No! No! No!",
         "-0.8388"
        ],
        [
         "584",
         "81",
         "Oscar, kill the engine. The car is not safe to continue.",
         "-0.7967"
        ],
        [
         "117",
         "14",
         "The most damage is done after the tunnel breaking for 10 and the last two corners. That's where you do the most damage to the tarts.",
         "-0.7897"
        ],
        [
         "454",
         "55",
         "What the f***? Exactly what I talked about! Exactly what I talked about! Slow intro, Hamilton 1.4 behind The main target there was to cover Hamilton Hamilton 1 second behind I don't care about Hamilton! I was f***ing weak!",
         "-0.7715"
        ],
        [
         "145",
         "16",
         "No, I lost the hydraulics. I lost the hydraulics. Why the f*** am I so unlucky? Why the f*** am I so unlucky?",
         "-0.7319"
        ],
        [
         "378",
         "4",
         "How's the balance? How's the balance? Well, not great obviously. The front grainings is hard to not get. The raise you have to manage a bit but the front grainings is the bigger problem.",
         "-0.6915"
        ],
        [
         "305",
         "27",
         "A lot of understeer creeping in, all speeds but also traction getting very poor.",
         "-0.6798"
        ]
       ],
       "shape": {
        "columns": 3,
        "rows": 10
       }
      },
      "text/html": [
       "<div>\n",
       "<style scoped>\n",
       "    .dataframe tbody tr th:only-of-type {\n",
       "        vertical-align: middle;\n",
       "    }\n",
       "\n",
       "    .dataframe tbody tr th {\n",
       "        vertical-align: top;\n",
       "    }\n",
       "\n",
       "    .dataframe thead th {\n",
       "        text-align: right;\n",
       "    }\n",
       "</style>\n",
       "<table border=\"1\" class=\"dataframe\">\n",
       "  <thead>\n",
       "    <tr style=\"text-align: right;\">\n",
       "      <th></th>\n",
       "      <th>driver</th>\n",
       "      <th>radio_message</th>\n",
       "      <th>compound</th>\n",
       "    </tr>\n",
       "  </thead>\n",
       "  <tbody>\n",
       "    <tr>\n",
       "      <th>391</th>\n",
       "      <td>40</td>\n",
       "      <td>Out of curiosity, what was the penalty for in ...</td>\n",
       "      <td>-0.9100</td>\n",
       "    </tr>\n",
       "    <tr>\n",
       "      <th>410</th>\n",
       "      <td>44</td>\n",
       "      <td>It's disgusting but the cops are so bad in the...</td>\n",
       "      <td>-0.8569</td>\n",
       "    </tr>\n",
       "    <tr>\n",
       "      <th>164</th>\n",
       "      <td>18</td>\n",
       "      <td>10 lts, that's P9. So bad. No balance. There's...</td>\n",
       "      <td>-0.8484</td>\n",
       "    </tr>\n",
       "    <tr>\n",
       "      <th>557</th>\n",
       "      <td>63</td>\n",
       "      <td>No! No! No! No!</td>\n",
       "      <td>-0.8388</td>\n",
       "    </tr>\n",
       "    <tr>\n",
       "      <th>584</th>\n",
       "      <td>81</td>\n",
       "      <td>Oscar, kill the engine. The car is not safe to...</td>\n",
       "      <td>-0.7967</td>\n",
       "    </tr>\n",
       "    <tr>\n",
       "      <th>117</th>\n",
       "      <td>14</td>\n",
       "      <td>The most damage is done after the tunnel break...</td>\n",
       "      <td>-0.7897</td>\n",
       "    </tr>\n",
       "    <tr>\n",
       "      <th>454</th>\n",
       "      <td>55</td>\n",
       "      <td>What the f***? Exactly what I talked about! Ex...</td>\n",
       "      <td>-0.7715</td>\n",
       "    </tr>\n",
       "    <tr>\n",
       "      <th>145</th>\n",
       "      <td>16</td>\n",
       "      <td>No, I lost the hydraulics. I lost the hydrauli...</td>\n",
       "      <td>-0.7319</td>\n",
       "    </tr>\n",
       "    <tr>\n",
       "      <th>378</th>\n",
       "      <td>4</td>\n",
       "      <td>How's the balance? How's the balance? Well, no...</td>\n",
       "      <td>-0.6915</td>\n",
       "    </tr>\n",
       "    <tr>\n",
       "      <th>305</th>\n",
       "      <td>27</td>\n",
       "      <td>A lot of understeer creeping in, all speeds bu...</td>\n",
       "      <td>-0.6798</td>\n",
       "    </tr>\n",
       "  </tbody>\n",
       "</table>\n",
       "</div>"
      ],
      "text/plain": [
       "     driver                                      radio_message  compound\n",
       "391      40  Out of curiosity, what was the penalty for in ...   -0.9100\n",
       "410      44  It's disgusting but the cops are so bad in the...   -0.8569\n",
       "164      18  10 lts, that's P9. So bad. No balance. There's...   -0.8484\n",
       "557      63                                    No! No! No! No!   -0.8388\n",
       "584      81  Oscar, kill the engine. The car is not safe to...   -0.7967\n",
       "117      14  The most damage is done after the tunnel break...   -0.7897\n",
       "454      55  What the f***? Exactly what I talked about! Ex...   -0.7715\n",
       "145      16  No, I lost the hydraulics. I lost the hydrauli...   -0.7319\n",
       "378       4  How's the balance? How's the balance? Well, no...   -0.6915\n",
       "305      27  A lot of understeer creeping in, all speeds bu...   -0.6798"
      ]
     },
     "execution_count": 32,
     "metadata": {},
     "output_type": "execute_result"
    }
   ],
   "source": [
    "print(\"\\nExamples of NEGATIVE messages:\")\n",
    "display_examples('negative')"
   ]
  },
  {
   "cell_type": "markdown",
   "metadata": {},
   "source": [
    "---\n",
    "\n",
    "### Saving the sentiment vader results\n"
   ]
  },
  {
   "cell_type": "code",
   "execution_count": 33,
   "metadata": {},
   "outputs": [
    {
     "name": "stdout",
     "output_type": "stream",
     "text": [
      "Sentiment analysis results saved to ../../outputs/week4/radios_sentiment_vader.csv\n"
     ]
    }
   ],
   "source": [
    "output_path = \"../../outputs/week4/radios_sentiment_vader.csv\"\n",
    "radio_data.to_csv(output_path, index = False)\n",
    "print(f\"Sentiment analysis results saved to {output_path}\")"
   ]
  },
  {
   "cell_type": "markdown",
   "metadata": {},
   "source": [
    "---\n",
    "\n",
    "## Making metrics for future comparison with other models"
   ]
  },
  {
   "cell_type": "code",
   "execution_count": 34,
   "metadata": {},
   "outputs": [
    {
     "name": "stdout",
     "output_type": "stream",
     "text": [
      "Summary metrics:\n"
     ]
    },
    {
     "data": {
      "application/vnd.microsoft.datawrangler.viewer.v0+json": {
       "columns": [
        {
         "name": "index",
         "rawType": "int64",
         "type": "integer"
        },
        {
         "name": "model",
         "rawType": "object",
         "type": "string"
        },
        {
         "name": "positive_percentage",
         "rawType": "float64",
         "type": "float"
        },
        {
         "name": "neutral_percentage",
         "rawType": "float64",
         "type": "float"
        },
        {
         "name": "negative_percentage",
         "rawType": "float64",
         "type": "float"
        },
        {
         "name": "average_compound",
         "rawType": "float64",
         "type": "float"
        },
        {
         "name": "std_compound",
         "rawType": "float64",
         "type": "float"
        }
       ],
       "conversionMethod": "pd.DataFrame",
       "ref": "43d7bed5-b17b-44c2-92f7-e0eb462ecee8",
       "rows": [
        [
         "0",
         "VADER",
         "52.40464344941957",
         "27.197346600331674",
         "20.398009950248756",
         "0.2118351575456053",
         "0.4225987656182789"
        ]
       ],
       "shape": {
        "columns": 6,
        "rows": 1
       }
      },
      "text/html": [
       "<div>\n",
       "<style scoped>\n",
       "    .dataframe tbody tr th:only-of-type {\n",
       "        vertical-align: middle;\n",
       "    }\n",
       "\n",
       "    .dataframe tbody tr th {\n",
       "        vertical-align: top;\n",
       "    }\n",
       "\n",
       "    .dataframe thead th {\n",
       "        text-align: right;\n",
       "    }\n",
       "</style>\n",
       "<table border=\"1\" class=\"dataframe\">\n",
       "  <thead>\n",
       "    <tr style=\"text-align: right;\">\n",
       "      <th></th>\n",
       "      <th>model</th>\n",
       "      <th>positive_percentage</th>\n",
       "      <th>neutral_percentage</th>\n",
       "      <th>negative_percentage</th>\n",
       "      <th>average_compound</th>\n",
       "      <th>std_compound</th>\n",
       "    </tr>\n",
       "  </thead>\n",
       "  <tbody>\n",
       "    <tr>\n",
       "      <th>0</th>\n",
       "      <td>VADER</td>\n",
       "      <td>52.404643</td>\n",
       "      <td>27.197347</td>\n",
       "      <td>20.39801</td>\n",
       "      <td>0.211835</td>\n",
       "      <td>0.422599</td>\n",
       "    </tr>\n",
       "  </tbody>\n",
       "</table>\n",
       "</div>"
      ],
      "text/plain": [
       "   model  positive_percentage  neutral_percentage  negative_percentage  \\\n",
       "0  VADER            52.404643           27.197347             20.39801   \n",
       "\n",
       "   average_compound  std_compound  \n",
       "0          0.211835      0.422599  "
      ]
     },
     "execution_count": 34,
     "metadata": {},
     "output_type": "execute_result"
    }
   ],
   "source": [
    "# Calculate metrics for future comparison with other models\n",
    "metrics = {\n",
    "    'model': 'VADER',\n",
    "    'positive_percentage': sentiment_counts.get('positive', 0) / len(radio_data) * 100,\n",
    "    'neutral_percentage': sentiment_counts.get('neutral', 0) / len(radio_data) * 100,\n",
    "    'negative_percentage': sentiment_counts.get('negative', 0) / len(radio_data) * 100,\n",
    "    'average_compound': radio_data['compound'].mean(),\n",
    "    'std_compound': radio_data['compound'].std()\n",
    "}\n",
    "\n",
    "metrics_df = pd.DataFrame([metrics])\n",
    "metrics_df.to_csv('../../outputs/week4/sentiment_metrics_vader.csv', index=False)\n",
    "print(\"Summary metrics:\")\n",
    "metrics_df"
   ]
  },
  {
   "cell_type": "markdown",
   "metadata": {},
   "source": [
    "--- \n",
    "\n",
    "## Next Steps: BERT-based Sentiment Analysis\n",
    "\n",
    "While NLTK's VADER provides a quick, lexicon-based sentiment analysis, deep learning models \n",
    "like BERT can potentially offer better performance, especially for domain-specific language \n",
    "like F1 team radio communications.\n",
    "\n",
    "Moreover, with this sentiment analysis, we can´t extract metrics for mistakes, like false positives. For this, we´ll need to label the data.\n",
    "\n",
    "### But first: labeling the data\n",
    "\n",
    "I think it is a good idea to label myself the data. With the correct labeling, I can try to make a comparison between the results given by VADER and then the others.\n",
    "\n",
    "Because of that, I´ll add the `N00_labeling_radios.ipynb`, where I will label the data.\n",
    "\n",
    "But...\n",
    "\n",
    "#### **When labeling data, we will exclude end-of-race messages for the following reasons:**\n",
    "Why?\n",
    "\n",
    "* Project Focus: Our model aims to support real-time strategic decision-making during races, not post-race analysis.\n",
    "\n",
    "* Different Context: End-of-race communications follow different patterns (congratulatory, reflective) than tactical in-race messages.\n",
    "\n",
    "* Sentiment Distortion: Including these highly emotional messages would create an unrealistic sentiment distribution compared to the strategic communications we need to analyze.\n",
    "---\n",
    "\n",
    "#### Therefore, in the labelling radios notebook, I´ll make this cleaning before labeling. If the dataset gets highly reduced, I may need to rerun the code with new radio messages. \n",
    "\n",
    "This happened, so I added 3 more Grand Prix to have more data. I will rerun the code and change the percentages. Then, I will run the code again without the post-race messages.\n",
    "\n",
    "---\n",
    "### Approaches for BERT-based sentiment analysis:\n",
    "\n",
    "1. **Using pretrained BERT models**:\n",
    "   - Apply a pretrained BERT model fine-tuned for sentiment analysis (e.g., from Hugging Face)\n",
    "   - This approach doesn't require labeled data from our domain\n",
    "\n",
    "2. **Fine-tuning BERT with our data**:\n",
    "   - Requires manually labeling a subset of our radio messages\n",
    "   - Could capture F1-specific sentiment expressions better\n",
    "   - Steps:\n",
    "     a. Sample a subset of messages (e.g., 100-200)\n",
    "     b. Manually label them (positive, neutral, negative)\n",
    "     c. Fine-tune a pretrained BERT model with these labeled examples\n",
    "     d. Evaluate performance\n",
    "---\n",
    "## Metrics for comparison:\n",
    "- Distribution of sentiment categories\n",
    "- Manual evaluation of a sample of predictions\n",
    "- If we create a labeled test set, we can calculate precision, recall, and F1 scores\n"
   ]
  }
 ],
 "metadata": {
  "kernelspec": {
   "display_name": "f1_strat_manager",
   "language": "python",
   "name": "python3"
  },
  "language_info": {
   "codemirror_mode": {
    "name": "ipython",
    "version": 3
   },
   "file_extension": ".py",
   "mimetype": "text/x-python",
   "name": "python",
   "nbconvert_exporter": "python",
   "pygments_lexer": "ipython3",
   "version": "3.10.16"
  }
 },
 "nbformat": 4,
 "nbformat_minor": 2
}
