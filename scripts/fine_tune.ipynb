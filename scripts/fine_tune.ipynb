{
 "cells": [
  {
   "cell_type": "code",
   "execution_count": 1,
   "metadata": {},
   "outputs": [
    {
     "name": "stderr",
     "output_type": "stream",
     "text": [
      "c:\\Users\\victo\\miniconda3\\envs\\f1_strat_manager\\lib\\site-packages\\tqdm\\auto.py:21: TqdmWarning: IProgress not found. Please update jupyter and ipywidgets. See https://ipywidgets.readthedocs.io/en/stable/user_install.html\n",
      "  from .autonotebook import tqdm as notebook_tqdm\n"
     ]
    }
   ],
   "source": [
    "import os\n",
    "import torch\n",
    "from torch.utils.data import DataLoader\n",
    "from torchvision import transforms\n",
    "from PIL import Image\n",
    "from ultralytics import YOLO\n",
    "import cv2\n"
   ]
  },
  {
   "cell_type": "code",
   "execution_count": 3,
   "metadata": {},
   "outputs": [
    {
     "name": "stdout",
     "output_type": "stream",
     "text": [
      "Versión de PyTorch: 1.13.1+cu116\n",
      "CUDA disponible: True\n",
      "Nombre de la GPU: NVIDIA GeForce RTX 4060 Laptop GPU\n"
     ]
    }
   ],
   "source": [
    "import torch\n",
    "\n",
    "# Ver versión de PyTorch\n",
    "print(f\"Versión de PyTorch: {torch.__version__}\")\n",
    "\n",
    "# Ver disponibilidad de CUDA\n",
    "print(f\"CUDA disponible: {torch.cuda.is_available()}\")\n",
    "\n",
    "if torch.cuda.is_available():\n",
    "    print(f\"Nombre de la GPU: {torch.cuda.get_device_name(0)}\")\n",
    "else:\n",
    "    print(\"CUDA no está disponible.\")\n"
   ]
  },
  {
   "cell_type": "code",
   "execution_count": 4,
   "metadata": {},
   "outputs": [],
   "source": [
    "# Configuración del dispositivo (GPU o CPU)\n",
    "DEVICE = torch.device('cuda' if torch.cuda.is_available() else 'cpu')\n",
    "\n",
    "# Parámetros del modelo y entrenamiento\n",
    "NUM_CLASSES = 10  # Número de equipos de F1\n",
    "BATCH_SIZE = 8\n",
    "NUM_WORKERS = 4\n",
    "NUM_EPOCHS = 10\n",
    "LEARNING_RATE = 0.005\n"
   ]
  },
  {
   "cell_type": "code",
   "execution_count": null,
   "metadata": {},
   "outputs": [],
   "source": [
    "class F1Dataset(torch.utils.data.Dataset):\n",
    "    def __init__(self, root, annotation_path):\n",
    "        self.root = root\n",
    "        self.annotations = os.listdir(annotation_path)\n",
    "        self.transform = transforms.ToTensor()\n",
    "        \n",
    "    def __getitem__(self, idx):\n",
    "        annotation_path = os.path.join(self.annotation_path, self.annotations[idx])\n",
    "        with open(annotation_path, 'r') as f:\n",
    "            boxes = []\n",
    "            labels = []\n",
    "            for line in f.readlines():\n",
    "                parts = line.strip().split()\n",
    "                class_id = int(parts[0])\n",
    "                x_center = float(parts[1])\n",
    "                y_center = float(parts[2])\n",
    "                width = float(parts[3])\n",
    "                height = float(parts[4])\n",
    "                \n",
    "                # Convertir a coordenadas absolutas\n",
    "                x1 = x_center - width / 2\n",
    "                y1 = y_center - height / 2\n",
    "                x2 = x_center + width / 2\n",
    "                y2 = y_center + height / 2\n",
    "                \n",
    "                boxes.append([x1, y1, x2, y2])\n",
    "                labels.append(class_id)\n",
    "                \n",
    "            # Cargar imagen\n",
    "            image_path = os.path.join(self.root, self.annotations[idx].replace('.txt', '.jpg'))\n",
    "            image = self.transform(Image.open(image_path))\n",
    "            \n",
    "            # Crear target\n",
    "            target = {\n",
    "                'boxes': torch.as_tensor(boxes, dtype=torch.float32),\n",
    "                'labels': torch.as_tensor(labels, dtype=torch.int64),\n",
    "                'image_id': torch.tensor([idx])\n",
    "            }\n",
    "            \n",
    "            return image, target\n",
    "            \n",
    "    def __len__(self):\n",
    "        return len(self.annotations)\n"
   ]
  },
  {
   "cell_type": "code",
   "execution_count": null,
   "metadata": {},
   "outputs": [],
   "source": [
    "# Rutas a los conjuntos de datos\n",
    "train_root = '../train/images'\n",
    "train_annotation_path = '../train/labels'\n",
    "val_root = '../valid/images'\n",
    "val_annotation_path = '../valid/labels'\n",
    "\n",
    "# Crear datasets\n",
    "train_dataset = F1Dataset(root=train_root, annotation_path=train_annotation_path)\n",
    "val_dataset = F1Dataset(root=val_root, annotation_path=val_annotation_path)\n",
    "\n",
    "# Crear DataLoaders\n",
    "train_loader = DataLoader(train_dataset, batch_size=BATCH_SIZE, shuffle=True, num_workers=NUM_WORKERS)\n",
    "val_loader = DataLoader(val_dataset, batch_size=BATCH_SIZE, shuffle=False, num_workers=NUM_WORKERS)\n"
   ]
  },
  {
   "cell_type": "code",
   "execution_count": null,
   "metadata": {},
   "outputs": [],
   "source": [
    "# Cargar el modelo YOLOv8 Nano\n",
    "model = YOLO(\"yolov8n.yaml\")\n",
    "model.train()\n",
    "model.to(DEVICE)\n"
   ]
  },
  {
   "cell_type": "code",
   "execution_count": null,
   "metadata": {},
   "outputs": [],
   "source": [
    "# Optimizador y programador de tasa de aprendizaje\n",
    "optimizer = torch.optim.SGD(model.parameters(), lr=LEARNING_RATE)\n",
    "scheduler = torch.optim.lr_scheduler.StepLR(optimizer, step_size=3, gamma=0.1)\n"
   ]
  },
  {
   "cell_type": "code",
   "execution_count": null,
   "metadata": {},
   "outputs": [],
   "source": [
    "def train(model, device, loader, optimizer, epoch):\n",
    "    model.train()\n",
    "    for batch in loader:\n",
    "        images, targets = batch\n",
    "        images = list(img.to(device) for img in images)\n",
    "        targets = [{k: v.to(device) for k, v in t.items()} for t in targets]\n",
    "        \n",
    "        optimizer.zero_grad()\n",
    "        \n",
    "        outputs = model(images)\n",
    "        loss = outputs.loss\n",
    "        loss.backward()\n",
    "        optimizer.step()\n",
    "        \n",
    "def validate(model, device, loader, epoch):\n",
    "    model.eval()\n",
    "    total_loss = 0\n",
    "    with torch.no_grad():\n",
    "        for batch in loader:\n",
    "            images, targets = batch\n",
    "            images = list(img.to(device) for img in images)\n",
    "            targets = [{k: v.to(device) for k, v in t.items()} for t in targets]\n",
    "            \n",
    "            outputs = model(images)\n",
    "            loss = outputs.loss\n",
    "            total_loss += loss.item()\n",
    "    \n",
    "    avg_loss = total_loss / len(loader)\n",
    "    print(f'Epoch {epoch+1}/{NUM_EPOCHS}, Validation Loss: {avg_loss:.4f}')\n"
   ]
  },
  {
   "cell_type": "code",
   "execution_count": null,
   "metadata": {},
   "outputs": [],
   "source": [
    "# Iniciar el entrenamiento\n",
    "for epoch in range(NUM_EPOCHS):\n",
    "    train(model, DEVICE, train_loader, optimizer, epoch)\n",
    "    validate(model, DEVICE, val_loader, epoch)\n",
    "    \n",
    "    # Guardar checkpoint\n",
    "    torch.save(model.state_dict(), f'f1_detection_epoch_{epoch+1}.pth')\n"
   ]
  },
  {
   "cell_type": "code",
   "execution_count": null,
   "metadata": {},
   "outputs": [],
   "source": [
    "def detect_in_video(model, video_path):\n",
    "    cap = cv2.VideoCapture(video_path)\n",
    "    while cap.isOpened():\n",
    "        ret, frame = cap.read()\n",
    "        if not ret:\n",
    "            break\n",
    "        \n",
    "        frame = cv2.cvtColor(frame, cv2.COLOR_BGR2RGB)\n",
    "        frame = transforms.ToTensor()(frame)\n",
    "        frame = frame.unsqueeze(0)\n",
    "        \n",
    "        outputs = model(frame)\n",
    "        outputs.print()\n",
    "        \n",
    "        # Convertir de vuelta a BGR para mostrar\n",
    "        frame = frame.squeeze(0).permute(1, 0, 2).numpy()\n",
    "        frame = cv2.cvtColor(frame, cv2.COLOR_RGB2BGR)\n",
    "        \n",
    "        cv2.imshow('Detection', frame)\n",
    "        if cv2.waitKey(1) & 0xFF == ord('q'):\n",
    "            break\n",
    "            \n",
    "    cap.release()\n",
    "    cv2.destroyAllWindows()\n"
   ]
  },
  {
   "cell_type": "code",
   "execution_count": null,
   "metadata": {},
   "outputs": [],
   "source": [
    "# Cargar el modelo entrenado\n",
    "model.load_state_dict(torch.load('f1_detection_epoch_10.pth'))\n",
    "model.eval()\n",
    "\n",
    "# Ruta al video\n",
    "video_path = 'path/to/your/video.mp4'\n",
    "\n",
    "# Detectar en el video\n",
    "detect_in_video(model, video_path)\n"
   ]
  }
 ],
 "metadata": {
  "kernelspec": {
   "display_name": "f1_strat_manager",
   "language": "python",
   "name": "python3"
  },
  "language_info": {
   "codemirror_mode": {
    "name": "ipython",
    "version": 3
   },
   "file_extension": ".py",
   "mimetype": "text/x-python",
   "name": "python",
   "nbconvert_exporter": "python",
   "pygments_lexer": "ipython3",
   "version": "3.10.16"
  }
 },
 "nbformat": 4,
 "nbformat_minor": 2
}
