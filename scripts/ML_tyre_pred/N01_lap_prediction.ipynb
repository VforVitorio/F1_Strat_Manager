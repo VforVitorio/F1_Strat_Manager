{
 "cells": [
  {
   "cell_type": "markdown",
   "metadata": {},
   "source": [
    "# Lap Prediction"
   ]
  },
  {
   "cell_type": "code",
   "execution_count": 2,
   "metadata": {},
   "outputs": [],
   "source": [
    "import pandas as pd"
   ]
  },
  {
   "cell_type": "code",
   "execution_count": 3,
   "metadata": {},
   "outputs": [
    {
     "data": {
      "application/vnd.microsoft.datawrangler.viewer.v0+json": {
       "columns": [
        {
         "name": "index",
         "rawType": "int64",
         "type": "integer"
        },
        {
         "name": "Unnamed: 0",
         "rawType": "int64",
         "type": "integer"
        },
        {
         "name": "LapTime",
         "rawType": "float64",
         "type": "float"
        },
        {
         "name": "Stint",
         "rawType": "float64",
         "type": "float"
        },
        {
         "name": "SpeedI1",
         "rawType": "float64",
         "type": "float"
        },
        {
         "name": "SpeedI2",
         "rawType": "float64",
         "type": "float"
        },
        {
         "name": "SpeedFL",
         "rawType": "float64",
         "type": "float"
        },
        {
         "name": "SpeedST",
         "rawType": "float64",
         "type": "float"
        },
        {
         "name": "Position",
         "rawType": "float64",
         "type": "float"
        },
        {
         "name": "FreshTyreAfterStop",
         "rawType": "int64",
         "type": "integer"
        },
        {
         "name": "PitNextLap",
         "rawType": "int64",
         "type": "integer"
        },
        {
         "name": "LapsSincePitStop",
         "rawType": "float64",
         "type": "float"
        },
        {
         "name": "DRSUsed",
         "rawType": "int64",
         "type": "integer"
        },
        {
         "name": "TeamID",
         "rawType": "int64",
         "type": "integer"
        },
        {
         "name": "NextCompoundID",
         "rawType": "int64",
         "type": "integer"
        },
        {
         "name": "CompoundID",
         "rawType": "int64",
         "type": "integer"
        },
        {
         "name": "TyreAge",
         "rawType": "float64",
         "type": "float"
        },
        {
         "name": "FuelLoad",
         "rawType": "float64",
         "type": "float"
        },
        {
         "name": "DriverNumber",
         "rawType": "int64",
         "type": "integer"
        }
       ],
       "conversionMethod": "pd.DataFrame",
       "ref": "eff4a110-7001-486c-bb80-e8642e9b90ef",
       "rows": [
        [
         "0",
         "0",
         "83.935",
         "1.0",
         "256.0",
         "261.0",
         "276.0",
         "275.0",
         "1.0",
         "0",
         "0",
         "1.0",
         "0",
         "9",
         "0",
         "2",
         "1.0",
         "0.9848",
         "1"
        ],
        [
         "1",
         "1",
         "80.402",
         "1.0",
         "252.0",
         "257.0",
         "276.0",
         "295.0",
         "1.0",
         "0",
         "0",
         "2.0",
         "0",
         "9",
         "0",
         "2",
         "2.0",
         "0.9697",
         "1"
        ],
        [
         "2",
         "2",
         "80.499",
         "1.0",
         "249.0",
         "256.0",
         "276.0",
         "297.0",
         "1.0",
         "0",
         "0",
         "3.0",
         "0",
         "9",
         "0",
         "2",
         "3.0",
         "0.9545",
         "1"
        ],
        [
         "3",
         "3",
         "80.346",
         "1.0",
         "255.0",
         "256.0",
         "276.0",
         "300.0",
         "1.0",
         "0",
         "0",
         "4.0",
         "0",
         "9",
         "0",
         "2",
         "4.0",
         "0.9394",
         "1"
        ],
        [
         "4",
         "4",
         "80.283",
         "1.0",
         "254.0",
         "256.0",
         "277.0",
         "301.0",
         "1.0",
         "0",
         "0",
         "5.0",
         "0",
         "9",
         "0",
         "2",
         "5.0",
         "0.9242",
         "1"
        ]
       ],
       "shape": {
        "columns": 18,
        "rows": 5
       }
      },
      "text/html": [
       "<div>\n",
       "<style scoped>\n",
       "    .dataframe tbody tr th:only-of-type {\n",
       "        vertical-align: middle;\n",
       "    }\n",
       "\n",
       "    .dataframe tbody tr th {\n",
       "        vertical-align: top;\n",
       "    }\n",
       "\n",
       "    .dataframe thead th {\n",
       "        text-align: right;\n",
       "    }\n",
       "</style>\n",
       "<table border=\"1\" class=\"dataframe\">\n",
       "  <thead>\n",
       "    <tr style=\"text-align: right;\">\n",
       "      <th></th>\n",
       "      <th>Unnamed: 0</th>\n",
       "      <th>LapTime</th>\n",
       "      <th>Stint</th>\n",
       "      <th>SpeedI1</th>\n",
       "      <th>SpeedI2</th>\n",
       "      <th>SpeedFL</th>\n",
       "      <th>SpeedST</th>\n",
       "      <th>Position</th>\n",
       "      <th>FreshTyreAfterStop</th>\n",
       "      <th>PitNextLap</th>\n",
       "      <th>LapsSincePitStop</th>\n",
       "      <th>DRSUsed</th>\n",
       "      <th>TeamID</th>\n",
       "      <th>NextCompoundID</th>\n",
       "      <th>CompoundID</th>\n",
       "      <th>TyreAge</th>\n",
       "      <th>FuelLoad</th>\n",
       "      <th>DriverNumber</th>\n",
       "    </tr>\n",
       "  </thead>\n",
       "  <tbody>\n",
       "    <tr>\n",
       "      <th>0</th>\n",
       "      <td>0</td>\n",
       "      <td>83.935</td>\n",
       "      <td>1.0</td>\n",
       "      <td>256.0</td>\n",
       "      <td>261.0</td>\n",
       "      <td>276.0</td>\n",
       "      <td>275.0</td>\n",
       "      <td>1.0</td>\n",
       "      <td>0</td>\n",
       "      <td>0</td>\n",
       "      <td>1.0</td>\n",
       "      <td>0</td>\n",
       "      <td>9</td>\n",
       "      <td>0</td>\n",
       "      <td>2</td>\n",
       "      <td>1.0</td>\n",
       "      <td>0.9848</td>\n",
       "      <td>1</td>\n",
       "    </tr>\n",
       "    <tr>\n",
       "      <th>1</th>\n",
       "      <td>1</td>\n",
       "      <td>80.402</td>\n",
       "      <td>1.0</td>\n",
       "      <td>252.0</td>\n",
       "      <td>257.0</td>\n",
       "      <td>276.0</td>\n",
       "      <td>295.0</td>\n",
       "      <td>1.0</td>\n",
       "      <td>0</td>\n",
       "      <td>0</td>\n",
       "      <td>2.0</td>\n",
       "      <td>0</td>\n",
       "      <td>9</td>\n",
       "      <td>0</td>\n",
       "      <td>2</td>\n",
       "      <td>2.0</td>\n",
       "      <td>0.9697</td>\n",
       "      <td>1</td>\n",
       "    </tr>\n",
       "    <tr>\n",
       "      <th>2</th>\n",
       "      <td>2</td>\n",
       "      <td>80.499</td>\n",
       "      <td>1.0</td>\n",
       "      <td>249.0</td>\n",
       "      <td>256.0</td>\n",
       "      <td>276.0</td>\n",
       "      <td>297.0</td>\n",
       "      <td>1.0</td>\n",
       "      <td>0</td>\n",
       "      <td>0</td>\n",
       "      <td>3.0</td>\n",
       "      <td>0</td>\n",
       "      <td>9</td>\n",
       "      <td>0</td>\n",
       "      <td>2</td>\n",
       "      <td>3.0</td>\n",
       "      <td>0.9545</td>\n",
       "      <td>1</td>\n",
       "    </tr>\n",
       "    <tr>\n",
       "      <th>3</th>\n",
       "      <td>3</td>\n",
       "      <td>80.346</td>\n",
       "      <td>1.0</td>\n",
       "      <td>255.0</td>\n",
       "      <td>256.0</td>\n",
       "      <td>276.0</td>\n",
       "      <td>300.0</td>\n",
       "      <td>1.0</td>\n",
       "      <td>0</td>\n",
       "      <td>0</td>\n",
       "      <td>4.0</td>\n",
       "      <td>0</td>\n",
       "      <td>9</td>\n",
       "      <td>0</td>\n",
       "      <td>2</td>\n",
       "      <td>4.0</td>\n",
       "      <td>0.9394</td>\n",
       "      <td>1</td>\n",
       "    </tr>\n",
       "    <tr>\n",
       "      <th>4</th>\n",
       "      <td>4</td>\n",
       "      <td>80.283</td>\n",
       "      <td>1.0</td>\n",
       "      <td>254.0</td>\n",
       "      <td>256.0</td>\n",
       "      <td>277.0</td>\n",
       "      <td>301.0</td>\n",
       "      <td>1.0</td>\n",
       "      <td>0</td>\n",
       "      <td>0</td>\n",
       "      <td>5.0</td>\n",
       "      <td>0</td>\n",
       "      <td>9</td>\n",
       "      <td>0</td>\n",
       "      <td>2</td>\n",
       "      <td>5.0</td>\n",
       "      <td>0.9242</td>\n",
       "      <td>1</td>\n",
       "    </tr>\n",
       "  </tbody>\n",
       "</table>\n",
       "</div>"
      ],
      "text/plain": [
       "   Unnamed: 0  LapTime  Stint  SpeedI1  SpeedI2  SpeedFL  SpeedST  Position  \\\n",
       "0           0   83.935    1.0    256.0    261.0    276.0    275.0       1.0   \n",
       "1           1   80.402    1.0    252.0    257.0    276.0    295.0       1.0   \n",
       "2           2   80.499    1.0    249.0    256.0    276.0    297.0       1.0   \n",
       "3           3   80.346    1.0    255.0    256.0    276.0    300.0       1.0   \n",
       "4           4   80.283    1.0    254.0    256.0    277.0    301.0       1.0   \n",
       "\n",
       "   FreshTyreAfterStop  PitNextLap  LapsSincePitStop  DRSUsed  TeamID  \\\n",
       "0                   0           0               1.0        0       9   \n",
       "1                   0           0               2.0        0       9   \n",
       "2                   0           0               3.0        0       9   \n",
       "3                   0           0               4.0        0       9   \n",
       "4                   0           0               5.0        0       9   \n",
       "\n",
       "   NextCompoundID  CompoundID  TyreAge  FuelLoad  DriverNumber  \n",
       "0               0           2      1.0    0.9848             1  \n",
       "1               0           2      2.0    0.9697             1  \n",
       "2               0           2      3.0    0.9545             1  \n",
       "3               0           2      4.0    0.9394             1  \n",
       "4               0           2      5.0    0.9242             1  "
      ]
     },
     "execution_count": 3,
     "metadata": {},
     "output_type": "execute_result"
    }
   ],
   "source": [
    "data = pd.read_csv(\"../../outputs/week3/lap_prediction_data.csv\")\n",
    "data.head()"
   ]
  }
 ],
 "metadata": {
  "kernelspec": {
   "display_name": "f1_strat_manager",
   "language": "python",
   "name": "python3"
  },
  "language_info": {
   "codemirror_mode": {
    "name": "ipython",
    "version": 3
   },
   "file_extension": ".py",
   "mimetype": "text/x-python",
   "name": "python",
   "nbconvert_exporter": "python",
   "pygments_lexer": "ipython3",
   "version": "3.10.16"
  }
 },
 "nbformat": 4,
 "nbformat_minor": 2
}
