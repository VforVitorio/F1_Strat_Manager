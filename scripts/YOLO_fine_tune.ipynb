{
 "cells": [
  {
   "cell_type": "markdown",
   "metadata": {},
   "source": [
    "# Computer Vision: YOLO for identifying Formula 1 Teams\n"
   ]
  },
  {
   "cell_type": "code",
   "execution_count": null,
   "metadata": {},
   "outputs": [],
   "source": [
    "import os\n",
    "import torch\n",
    "from torch.utils.data import DataLoader\n",
    "from torchvision import transforms\n",
    "from PIL import Image\n",
    "from ultralytics import YOLO\n",
    "import cv2"
   ]
  },
  {
   "cell_type": "code",
   "execution_count": null,
   "metadata": {},
   "outputs": [
    {
     "name": "stdout",
     "output_type": "stream",
     "text": [
      "Versión de PyTorch: 2.5.1+cu124\n",
      "CUDA disponible: True\n",
      "Nombre de la GPU: NVIDIA GeForce RTX 4060 Laptop GPU\n"
     ]
    }
   ],
   "source": [
    "\n",
    "# Ver versión de PyTorch\n",
    "print(f\"Versión de PyTorch: {torch.__version__}\")\n",
    "\n",
    "# Ver disponibilidad de CUDA\n",
    "print(f\"CUDA disponible: {torch.cuda.is_available()}\")\n",
    "\n",
    "if torch.cuda.is_available():\n",
    "    print(f\"Nombre de la GPU: {torch.cuda.get_device_name(0)}\")\n",
    "else:\n",
    "    print(\"CUDA no está disponible.\")"
   ]
  },
  {
   "cell_type": "code",
   "execution_count": 4,
   "metadata": {},
   "outputs": [],
   "source": [
    "# Configuración del dispositivo (GPU o CPU)\n",
    "DEVICE = torch.device('cuda' if torch.cuda.is_available() else 'cpu')\n",
    "\n",
    "# Parámetros del modelo y entrenamiento\n",
    "NUM_CLASSES = 10  # Número de equipos de F1\n",
    "LEARNING_RATE = 0.0005\n",
    "BATCH_SIZE = 8  # Ajusta según la memoria de la GPU\n",
    "FINE_TUNED_BATCH_SIZE = 6\n",
    "NUM_WORKERS = 8  # Aumentar si tienes más núcleos en la CPU\n",
    "\n",
    "NUM_EPOCHS = 50  # O más, dependiendo del rendimiento\n",
    "FINE_TUNED_EPOCHS = 30\n",
    "AUGMENTATION = True  # Hacer augmentación de datos"
   ]
  },
  {
   "cell_type": "code",
   "execution_count": null,
   "metadata": {},
   "outputs": [
    {
     "name": "stdout",
     "output_type": "stream",
     "text": [
      "Imagen cargada correctamente:  (640, 640, 3)\n"
     ]
    }
   ],
   "source": [
    "import cv2\n",
    "import numpy as np\n",
    "\n",
    "# Verificar si las imágenes se leen correctamente\n",
    "train_image = cv2.imread(\n",
    "    \"../f1-strategy/f1-dataset/train/images/1-2023-Brazilian-GP-FP1-20_jpg.rf.2f3d25867c8e1661f6070ae5a84c6dd4.jpg\")\n",
    "if train_image is None:\n",
    "    print(\"Error al leer la imagen\")\n",
    "else:\n",
    "    print(\"Imagen cargada correctamente: \", train_image.shape)"
   ]
  },
  {
   "cell_type": "code",
   "execution_count": null,
   "metadata": {},
   "outputs": [
    {
     "name": "stdout",
     "output_type": "stream",
     "text": [
      "Todas las imágenes tienen el mismo tamaño.\n"
     ]
    }
   ],
   "source": [
    "import cv2\n",
    "import os\n",
    "\n",
    "# Definir la carpeta de imágenes\n",
    "image_folder = \"C:/Users/victo/Desktop/Documents/Tercer año/Segundo Cuatrimestre/Finales/f1-strategy/f1-dataset/train/images\"\n",
    "\n",
    "# Lista para almacenar los tamaños de las imágenes\n",
    "sizes = set()\n",
    "\n",
    "# Verificar el tamaño de cada imagen\n",
    "for image_name in os.listdir(image_folder):\n",
    "    image_path = os.path.join(image_folder, image_name)\n",
    "    img = cv2.imread(image_path)\n",
    "\n",
    "    if img is not None:\n",
    "        img_size = img.shape  # (height, width, channels)\n",
    "        sizes.add(img_size)\n",
    "    else:\n",
    "        print(f\"Error al cargar la imagen: {image_name}\")\n",
    "\n",
    "# Comprobar si todas las imágenes tienen el mismo tamaño\n",
    "if len(sizes) == 1:\n",
    "    print(\"Todas las imágenes tienen el mismo tamaño.\")\n",
    "else:\n",
    "    print(\"Hay imágenes con tamaños diferentes. Los tamaños encontrados son:\")\n",
    "    for size in sizes:\n",
    "        print(size)"
   ]
  },
  {
   "cell_type": "code",
   "execution_count": null,
   "metadata": {},
   "outputs": [
    {
     "name": "stdout",
     "output_type": "stream",
     "text": [
      "New https://pypi.org/project/ultralytics/8.3.79 available  Update with 'pip install -U ultralytics'\n",
      "\u001b[34m\u001b[1mengine\\trainer: \u001b[0mtask=detect, mode=train, model=yolov8m.pt, data=../f1-strategy/f1-dataset/data.yaml, epochs=50, time=None, patience=15, batch=8, imgsz=640, save=True, save_period=5, cache=False, device=cuda, workers=8, project=../f1-strategy/yolo-files/runs, name=train_optimized3, exist_ok=False, pretrained=True, optimizer=SGD, verbose=True, seed=0, deterministic=True, single_cls=False, rect=False, cos_lr=True, close_mosaic=10, resume=False, amp=True, fraction=1.0, profile=False, freeze=None, multi_scale=False, overlap_mask=True, mask_ratio=4, dropout=0.0, val=True, split=val, save_json=False, save_hybrid=False, conf=None, iou=0.7, max_det=300, half=False, dnn=False, plots=True, source=None, vid_stride=1, stream_buffer=False, visualize=False, augment=False, agnostic_nms=False, classes=None, retina_masks=False, embed=None, show=False, save_frames=False, save_txt=False, save_conf=False, save_crop=False, show_labels=True, show_conf=True, show_boxes=True, line_width=None, format=torchscript, keras=False, optimize=False, int8=False, dynamic=False, simplify=True, opset=None, workspace=None, nms=False, lr0=0.0005, lrf=0.01, momentum=0.9, weight_decay=0.0005, warmup_epochs=3, warmup_momentum=0.8, warmup_bias_lr=0.1, box=7.5, cls=2.5, dfl=1.5, pose=12.0, kobj=1.0, nbs=64, hsv_h=0.015, hsv_s=0.2, hsv_v=0.1, degrees=20.0, translate=0.2, scale=0.2, shear=0.1, perspective=0.0001, flipud=0.05, fliplr=0.5, bgr=0.0, mosaic=1.0, mixup=0.2, copy_paste=0.1, copy_paste_mode=flip, auto_augment=randaugment, erasing=0.4, crop_fraction=1.0, cfg=None, tracker=botsort.yaml, save_dir=..\\f1-strategy\\yolo-files\\runs\\train_optimized3\n",
      "Overriding model.yaml nc=80 with nc=10\n",
      "\n",
      "                   from  n    params  module                                       arguments                     \n",
      "  0                  -1  1      1392  ultralytics.nn.modules.conv.Conv             [3, 48, 3, 2]                 \n",
      "  1                  -1  1     41664  ultralytics.nn.modules.conv.Conv             [48, 96, 3, 2]                \n",
      "  2                  -1  2    111360  ultralytics.nn.modules.block.C2f             [96, 96, 2, True]             \n",
      "  3                  -1  1    166272  ultralytics.nn.modules.conv.Conv             [96, 192, 3, 2]               \n",
      "  4                  -1  4    813312  ultralytics.nn.modules.block.C2f             [192, 192, 4, True]           \n",
      "  5                  -1  1    664320  ultralytics.nn.modules.conv.Conv             [192, 384, 3, 2]              \n",
      "  6                  -1  4   3248640  ultralytics.nn.modules.block.C2f             [384, 384, 4, True]           \n",
      "  7                  -1  1   1991808  ultralytics.nn.modules.conv.Conv             [384, 576, 3, 2]              \n",
      "  8                  -1  2   3985920  ultralytics.nn.modules.block.C2f             [576, 576, 2, True]           \n",
      "  9                  -1  1    831168  ultralytics.nn.modules.block.SPPF            [576, 576, 5]                 \n",
      " 10                  -1  1         0  torch.nn.modules.upsampling.Upsample         [None, 2, 'nearest']          \n",
      " 11             [-1, 6]  1         0  ultralytics.nn.modules.conv.Concat           [1]                           \n",
      " 12                  -1  2   1993728  ultralytics.nn.modules.block.C2f             [960, 384, 2]                 \n",
      " 13                  -1  1         0  torch.nn.modules.upsampling.Upsample         [None, 2, 'nearest']          \n",
      " 14             [-1, 4]  1         0  ultralytics.nn.modules.conv.Concat           [1]                           \n",
      " 15                  -1  2    517632  ultralytics.nn.modules.block.C2f             [576, 192, 2]                 \n",
      " 16                  -1  1    332160  ultralytics.nn.modules.conv.Conv             [192, 192, 3, 2]              \n",
      " 17            [-1, 12]  1         0  ultralytics.nn.modules.conv.Concat           [1]                           \n",
      " 18                  -1  2   1846272  ultralytics.nn.modules.block.C2f             [576, 384, 2]                 \n",
      " 19                  -1  1   1327872  ultralytics.nn.modules.conv.Conv             [384, 384, 3, 2]              \n",
      " 20             [-1, 9]  1         0  ultralytics.nn.modules.conv.Concat           [1]                           \n",
      " 21                  -1  2   4207104  ultralytics.nn.modules.block.C2f             [960, 576, 2]                 \n",
      " 22        [15, 18, 21]  1   3781486  ultralytics.nn.modules.head.Detect           [10, [192, 384, 576]]         \n",
      "Model summary: 295 layers, 25,862,110 parameters, 25,862,094 gradients, 79.1 GFLOPs\n",
      "\n",
      "Transferred 469/475 items from pretrained weights\n",
      "Freezing layer 'model.22.dfl.conv.weight'\n",
      "\u001b[34m\u001b[1mAMP: \u001b[0mrunning Automatic Mixed Precision (AMP) checks...\n",
      "\u001b[34m\u001b[1mAMP: \u001b[0mchecks passed \n"
     ]
    },
    {
     "name": "stderr",
     "output_type": "stream",
     "text": [
      "\u001b[34m\u001b[1mtrain: \u001b[0mScanning C:\\Users\\victo\\Desktop\\Documents\\Tercer año\\Segundo Cuatrimestre\\Finales\\f1-strategy\\f1-dataset\\train\\labels.cache... 2500 images, 0 backgrounds, 0 corrupt: 100%|██████████| 2500/2500 [00:00<?, ?it/s]\n"
     ]
    },
    {
     "name": "stdout",
     "output_type": "stream",
     "text": [
      "\u001b[34m\u001b[1malbumentations: \u001b[0mBlur(p=0.01, blur_limit=(3, 7)), MedianBlur(p=0.01, blur_limit=(3, 7)), ToGray(p=0.01, num_output_channels=3, method='weighted_average'), CLAHE(p=0.01, clip_limit=(1.0, 4.0), tile_grid_size=(8, 8))\n"
     ]
    },
    {
     "name": "stderr",
     "output_type": "stream",
     "text": [
      "\u001b[34m\u001b[1mval: \u001b[0mScanning C:\\Users\\victo\\Desktop\\Documents\\Tercer año\\Segundo Cuatrimestre\\Finales\\f1-strategy\\f1-dataset\\valid\\labels.cache... 20 images, 0 backgrounds, 0 corrupt: 100%|██████████| 20/20 [00:00<?, ?it/s]\n"
     ]
    },
    {
     "name": "stdout",
     "output_type": "stream",
     "text": [
      "Plotting labels to ..\\f1-strategy\\yolo-files\\runs\\train_optimized3\\labels.jpg... \n",
      "\u001b[34m\u001b[1moptimizer:\u001b[0m SGD(lr=0.0005, momentum=0.9) with parameter groups 77 weight(decay=0.0), 84 weight(decay=0.0005), 83 bias(decay=0.0)\n",
      "Image sizes 640 train, 640 val\n",
      "Using 8 dataloader workers\n",
      "Logging results to \u001b[1m..\\f1-strategy\\yolo-files\\runs\\train_optimized3\u001b[0m\n",
      "Starting training for 50 epochs...\n",
      "\n",
      "      Epoch    GPU_mem   box_loss   cls_loss   dfl_loss  Instances       Size\n"
     ]
    },
    {
     "name": "stderr",
     "output_type": "stream",
     "text": [
      "       1/50      3.51G      2.195      19.42      2.482         11        640: 100%|██████████| 313/313 [01:08<00:00,  4.59it/s]\n",
      "                 Class     Images  Instances      Box(P          R      mAP50  mAP50-95): 100%|██████████| 2/2 [00:00<00:00,  5.95it/s]"
     ]
    },
    {
     "name": "stdout",
     "output_type": "stream",
     "text": [
      "                   all         20         29      0.138       0.49      0.212      0.172\n"
     ]
    },
    {
     "name": "stderr",
     "output_type": "stream",
     "text": [
      "\n"
     ]
    },
    {
     "name": "stdout",
     "output_type": "stream",
     "text": [
      "\n",
      "      Epoch    GPU_mem   box_loss   cls_loss   dfl_loss  Instances       Size\n"
     ]
    },
    {
     "name": "stderr",
     "output_type": "stream",
     "text": [
      "       2/50      3.61G      1.825      14.73      2.163         13        640: 100%|██████████| 313/313 [01:05<00:00,  4.80it/s]\n",
      "                 Class     Images  Instances      Box(P          R      mAP50  mAP50-95): 100%|██████████| 2/2 [00:00<00:00,  7.84it/s]"
     ]
    },
    {
     "name": "stdout",
     "output_type": "stream",
     "text": [
      "                   all         20         29      0.155      0.389      0.269      0.176\n"
     ]
    },
    {
     "name": "stderr",
     "output_type": "stream",
     "text": [
      "\n"
     ]
    },
    {
     "name": "stdout",
     "output_type": "stream",
     "text": [
      "\n",
      "      Epoch    GPU_mem   box_loss   cls_loss   dfl_loss  Instances       Size\n"
     ]
    },
    {
     "name": "stderr",
     "output_type": "stream",
     "text": [
      "       3/50       3.7G      1.527      11.47      1.864         14        640: 100%|██████████| 313/313 [01:04<00:00,  4.85it/s]\n",
      "                 Class     Images  Instances      Box(P          R      mAP50  mAP50-95): 100%|██████████| 2/2 [00:00<00:00,  8.01it/s]"
     ]
    },
    {
     "name": "stdout",
     "output_type": "stream",
     "text": [
      "                   all         20         29      0.331      0.641      0.405      0.179\n"
     ]
    },
    {
     "name": "stderr",
     "output_type": "stream",
     "text": [
      "\n"
     ]
    },
    {
     "name": "stdout",
     "output_type": "stream",
     "text": [
      "\n",
      "      Epoch    GPU_mem   box_loss   cls_loss   dfl_loss  Instances       Size\n"
     ]
    },
    {
     "name": "stderr",
     "output_type": "stream",
     "text": [
      "       4/50       3.7G      1.393       8.95      1.703         15        640: 100%|██████████| 313/313 [01:04<00:00,  4.88it/s]\n",
      "                 Class     Images  Instances      Box(P          R      mAP50  mAP50-95): 100%|██████████| 2/2 [00:00<00:00,  7.94it/s]"
     ]
    },
    {
     "name": "stdout",
     "output_type": "stream",
     "text": [
      "                   all         20         29      0.608       0.64      0.639      0.335\n"
     ]
    },
    {
     "name": "stderr",
     "output_type": "stream",
     "text": [
      "\n"
     ]
    },
    {
     "name": "stdout",
     "output_type": "stream",
     "text": [
      "\n",
      "      Epoch    GPU_mem   box_loss   cls_loss   dfl_loss  Instances       Size\n"
     ]
    },
    {
     "name": "stderr",
     "output_type": "stream",
     "text": [
      "       5/50      3.71G       1.31      7.641      1.625         13        640: 100%|██████████| 313/313 [01:04<00:00,  4.88it/s]\n",
      "                 Class     Images  Instances      Box(P          R      mAP50  mAP50-95): 100%|██████████| 2/2 [00:00<00:00,  8.20it/s]"
     ]
    },
    {
     "name": "stdout",
     "output_type": "stream",
     "text": [
      "                   all         20         29      0.676      0.806      0.769      0.388\n"
     ]
    },
    {
     "name": "stderr",
     "output_type": "stream",
     "text": [
      "\n"
     ]
    },
    {
     "name": "stdout",
     "output_type": "stream",
     "text": [
      "\n",
      "      Epoch    GPU_mem   box_loss   cls_loss   dfl_loss  Instances       Size\n"
     ]
    },
    {
     "name": "stderr",
     "output_type": "stream",
     "text": [
      "       6/50      3.69G      1.262       6.92      1.579         16        640: 100%|██████████| 313/313 [01:04<00:00,  4.86it/s]\n",
      "                 Class     Images  Instances      Box(P          R      mAP50  mAP50-95): 100%|██████████| 2/2 [00:00<00:00,  8.14it/s]"
     ]
    },
    {
     "name": "stdout",
     "output_type": "stream",
     "text": [
      "                   all         20         29      0.541      0.803      0.759      0.411\n"
     ]
    },
    {
     "name": "stderr",
     "output_type": "stream",
     "text": [
      "\n"
     ]
    },
    {
     "name": "stdout",
     "output_type": "stream",
     "text": [
      "\n",
      "      Epoch    GPU_mem   box_loss   cls_loss   dfl_loss  Instances       Size\n"
     ]
    },
    {
     "name": "stderr",
     "output_type": "stream",
     "text": [
      "       7/50      3.68G      1.249      6.449      1.568         11        640: 100%|██████████| 313/313 [01:05<00:00,  4.78it/s]\n",
      "                 Class     Images  Instances      Box(P          R      mAP50  mAP50-95): 100%|██████████| 2/2 [00:00<00:00,  8.09it/s]"
     ]
    },
    {
     "name": "stdout",
     "output_type": "stream",
     "text": [
      "                   all         20         29      0.534      0.777      0.769      0.426\n"
     ]
    },
    {
     "name": "stderr",
     "output_type": "stream",
     "text": [
      "\n"
     ]
    },
    {
     "name": "stdout",
     "output_type": "stream",
     "text": [
      "\n",
      "      Epoch    GPU_mem   box_loss   cls_loss   dfl_loss  Instances       Size\n"
     ]
    },
    {
     "name": "stderr",
     "output_type": "stream",
     "text": [
      "       8/50      3.62G      1.192      6.034      1.526          9        640: 100%|██████████| 313/313 [01:04<00:00,  4.85it/s]\n",
      "                 Class     Images  Instances      Box(P          R      mAP50  mAP50-95): 100%|██████████| 2/2 [00:00<00:00,  7.95it/s]"
     ]
    },
    {
     "name": "stdout",
     "output_type": "stream",
     "text": [
      "                   all         20         29      0.673      0.721      0.802      0.461\n"
     ]
    },
    {
     "name": "stderr",
     "output_type": "stream",
     "text": [
      "\n"
     ]
    },
    {
     "name": "stdout",
     "output_type": "stream",
     "text": [
      "\n",
      "      Epoch    GPU_mem   box_loss   cls_loss   dfl_loss  Instances       Size\n"
     ]
    },
    {
     "name": "stderr",
     "output_type": "stream",
     "text": [
      "       9/50      3.72G      1.184      5.775      1.529         16        640: 100%|██████████| 313/313 [01:04<00:00,  4.87it/s]\n",
      "                 Class     Images  Instances      Box(P          R      mAP50  mAP50-95): 100%|██████████| 2/2 [00:00<00:00,  8.07it/s]"
     ]
    },
    {
     "name": "stdout",
     "output_type": "stream",
     "text": [
      "                   all         20         29      0.563      0.705      0.784       0.45\n"
     ]
    },
    {
     "name": "stderr",
     "output_type": "stream",
     "text": [
      "\n"
     ]
    },
    {
     "name": "stdout",
     "output_type": "stream",
     "text": [
      "\n",
      "      Epoch    GPU_mem   box_loss   cls_loss   dfl_loss  Instances       Size\n"
     ]
    },
    {
     "name": "stderr",
     "output_type": "stream",
     "text": [
      "      10/50       3.7G      1.156      5.492      1.501         13        640: 100%|██████████| 313/313 [01:04<00:00,  4.87it/s]\n",
      "                 Class     Images  Instances      Box(P          R      mAP50  mAP50-95): 100%|██████████| 2/2 [00:00<00:00,  8.23it/s]"
     ]
    },
    {
     "name": "stdout",
     "output_type": "stream",
     "text": [
      "                   all         20         29      0.578      0.777      0.778      0.461\n"
     ]
    },
    {
     "name": "stderr",
     "output_type": "stream",
     "text": [
      "\n"
     ]
    },
    {
     "name": "stdout",
     "output_type": "stream",
     "text": [
      "\n",
      "      Epoch    GPU_mem   box_loss   cls_loss   dfl_loss  Instances       Size\n"
     ]
    },
    {
     "name": "stderr",
     "output_type": "stream",
     "text": [
      "      11/50      3.72G      1.118      5.332      1.474         15        640: 100%|██████████| 313/313 [01:05<00:00,  4.81it/s]\n",
      "                 Class     Images  Instances      Box(P          R      mAP50  mAP50-95): 100%|██████████| 2/2 [00:00<00:00,  7.89it/s]"
     ]
    },
    {
     "name": "stdout",
     "output_type": "stream",
     "text": [
      "                   all         20         29       0.53      0.834      0.781      0.488\n"
     ]
    },
    {
     "name": "stderr",
     "output_type": "stream",
     "text": [
      "\n"
     ]
    },
    {
     "name": "stdout",
     "output_type": "stream",
     "text": [
      "\n",
      "      Epoch    GPU_mem   box_loss   cls_loss   dfl_loss  Instances       Size\n"
     ]
    },
    {
     "name": "stderr",
     "output_type": "stream",
     "text": [
      "      12/50      3.72G      1.122       5.16      1.475         17        640: 100%|██████████| 313/313 [01:04<00:00,  4.85it/s]\n",
      "                 Class     Images  Instances      Box(P          R      mAP50  mAP50-95): 100%|██████████| 2/2 [00:00<00:00,  7.78it/s]"
     ]
    },
    {
     "name": "stdout",
     "output_type": "stream",
     "text": [
      "                   all         20         29      0.632      0.753      0.784      0.465\n"
     ]
    },
    {
     "name": "stderr",
     "output_type": "stream",
     "text": [
      "\n"
     ]
    },
    {
     "name": "stdout",
     "output_type": "stream",
     "text": [
      "\n",
      "      Epoch    GPU_mem   box_loss   cls_loss   dfl_loss  Instances       Size\n"
     ]
    },
    {
     "name": "stderr",
     "output_type": "stream",
     "text": [
      "      13/50       3.7G      1.095      5.099      1.459         14        640: 100%|██████████| 313/313 [01:04<00:00,  4.84it/s]\n",
      "                 Class     Images  Instances      Box(P          R      mAP50  mAP50-95): 100%|██████████| 2/2 [00:00<00:00,  7.78it/s]"
     ]
    },
    {
     "name": "stdout",
     "output_type": "stream",
     "text": [
      "                   all         20         29      0.654      0.672      0.817      0.529\n"
     ]
    },
    {
     "name": "stderr",
     "output_type": "stream",
     "text": [
      "\n"
     ]
    },
    {
     "name": "stdout",
     "output_type": "stream",
     "text": [
      "\n",
      "      Epoch    GPU_mem   box_loss   cls_loss   dfl_loss  Instances       Size\n"
     ]
    },
    {
     "name": "stderr",
     "output_type": "stream",
     "text": [
      "      14/50      3.68G      1.098       4.99      1.467         23        640: 100%|██████████| 313/313 [01:06<00:00,  4.73it/s]\n",
      "                 Class     Images  Instances      Box(P          R      mAP50  mAP50-95): 100%|██████████| 2/2 [00:00<00:00,  7.63it/s]"
     ]
    },
    {
     "name": "stdout",
     "output_type": "stream",
     "text": [
      "                   all         20         29      0.623       0.69      0.775      0.508\n"
     ]
    },
    {
     "name": "stderr",
     "output_type": "stream",
     "text": [
      "\n"
     ]
    },
    {
     "name": "stdout",
     "output_type": "stream",
     "text": [
      "\n",
      "      Epoch    GPU_mem   box_loss   cls_loss   dfl_loss  Instances       Size\n"
     ]
    },
    {
     "name": "stderr",
     "output_type": "stream",
     "text": [
      "      15/50      3.69G       1.07       4.71      1.443          8        640: 100%|██████████| 313/313 [01:06<00:00,  4.74it/s]\n",
      "                 Class     Images  Instances      Box(P          R      mAP50  mAP50-95): 100%|██████████| 2/2 [00:00<00:00,  8.06it/s]"
     ]
    },
    {
     "name": "stdout",
     "output_type": "stream",
     "text": [
      "                   all         20         29      0.727      0.718      0.832      0.544\n"
     ]
    },
    {
     "name": "stderr",
     "output_type": "stream",
     "text": [
      "\n"
     ]
    },
    {
     "name": "stdout",
     "output_type": "stream",
     "text": [
      "\n",
      "      Epoch    GPU_mem   box_loss   cls_loss   dfl_loss  Instances       Size\n"
     ]
    },
    {
     "name": "stderr",
     "output_type": "stream",
     "text": [
      "      16/50      3.62G      1.074      4.745      1.444         11        640: 100%|██████████| 313/313 [01:04<00:00,  4.86it/s]\n",
      "                 Class     Images  Instances      Box(P          R      mAP50  mAP50-95): 100%|██████████| 2/2 [00:00<00:00,  8.43it/s]"
     ]
    },
    {
     "name": "stdout",
     "output_type": "stream",
     "text": [
      "                   all         20         29      0.567      0.762      0.808      0.565\n"
     ]
    },
    {
     "name": "stderr",
     "output_type": "stream",
     "text": [
      "\n"
     ]
    },
    {
     "name": "stdout",
     "output_type": "stream",
     "text": [
      "\n",
      "      Epoch    GPU_mem   box_loss   cls_loss   dfl_loss  Instances       Size\n"
     ]
    },
    {
     "name": "stderr",
     "output_type": "stream",
     "text": [
      "      17/50      3.71G       1.05      4.629      1.428         12        640: 100%|██████████| 313/313 [01:04<00:00,  4.87it/s]\n",
      "                 Class     Images  Instances      Box(P          R      mAP50  mAP50-95): 100%|██████████| 2/2 [00:00<00:00,  8.60it/s]"
     ]
    },
    {
     "name": "stdout",
     "output_type": "stream",
     "text": [
      "                   all         20         29      0.645      0.722      0.821      0.542\n"
     ]
    },
    {
     "name": "stderr",
     "output_type": "stream",
     "text": [
      "\n"
     ]
    },
    {
     "name": "stdout",
     "output_type": "stream",
     "text": [
      "\n",
      "      Epoch    GPU_mem   box_loss   cls_loss   dfl_loss  Instances       Size\n"
     ]
    },
    {
     "name": "stderr",
     "output_type": "stream",
     "text": [
      "      18/50      3.69G      1.032      4.504      1.421          5        640: 100%|██████████| 313/313 [01:03<00:00,  4.89it/s]\n",
      "                 Class     Images  Instances      Box(P          R      mAP50  mAP50-95): 100%|██████████| 2/2 [00:00<00:00,  8.49it/s]"
     ]
    },
    {
     "name": "stdout",
     "output_type": "stream",
     "text": [
      "                   all         20         29      0.622      0.747      0.804      0.544\n"
     ]
    },
    {
     "name": "stderr",
     "output_type": "stream",
     "text": [
      "\n"
     ]
    },
    {
     "name": "stdout",
     "output_type": "stream",
     "text": [
      "\n",
      "      Epoch    GPU_mem   box_loss   cls_loss   dfl_loss  Instances       Size\n"
     ]
    },
    {
     "name": "stderr",
     "output_type": "stream",
     "text": [
      "      19/50      3.69G      1.034      4.516      1.419         15        640: 100%|██████████| 313/313 [01:03<00:00,  4.91it/s]\n",
      "                 Class     Images  Instances      Box(P          R      mAP50  mAP50-95): 100%|██████████| 2/2 [00:00<00:00,  7.85it/s]"
     ]
    },
    {
     "name": "stdout",
     "output_type": "stream",
     "text": [
      "                   all         20         29      0.633       0.76       0.82      0.562\n"
     ]
    },
    {
     "name": "stderr",
     "output_type": "stream",
     "text": [
      "\n"
     ]
    },
    {
     "name": "stdout",
     "output_type": "stream",
     "text": [
      "\n",
      "      Epoch    GPU_mem   box_loss   cls_loss   dfl_loss  Instances       Size\n"
     ]
    },
    {
     "name": "stderr",
     "output_type": "stream",
     "text": [
      "      20/50      3.71G      1.018      4.363      1.409         14        640: 100%|██████████| 313/313 [01:06<00:00,  4.72it/s]\n",
      "                 Class     Images  Instances      Box(P          R      mAP50  mAP50-95): 100%|██████████| 2/2 [00:00<00:00,  8.24it/s]"
     ]
    },
    {
     "name": "stdout",
     "output_type": "stream",
     "text": [
      "                   all         20         29       0.64      0.762      0.818       0.57\n"
     ]
    },
    {
     "name": "stderr",
     "output_type": "stream",
     "text": [
      "\n"
     ]
    },
    {
     "name": "stdout",
     "output_type": "stream",
     "text": [
      "\n",
      "      Epoch    GPU_mem   box_loss   cls_loss   dfl_loss  Instances       Size\n"
     ]
    },
    {
     "name": "stderr",
     "output_type": "stream",
     "text": [
      "      21/50      3.72G      1.007      4.397        1.4         23        640: 100%|██████████| 313/313 [01:05<00:00,  4.74it/s]\n",
      "                 Class     Images  Instances      Box(P          R      mAP50  mAP50-95): 100%|██████████| 2/2 [00:00<00:00,  7.97it/s]"
     ]
    },
    {
     "name": "stdout",
     "output_type": "stream",
     "text": [
      "                   all         20         29      0.573      0.742      0.796      0.603\n"
     ]
    },
    {
     "name": "stderr",
     "output_type": "stream",
     "text": [
      "\n"
     ]
    },
    {
     "name": "stdout",
     "output_type": "stream",
     "text": [
      "\n",
      "      Epoch    GPU_mem   box_loss   cls_loss   dfl_loss  Instances       Size\n"
     ]
    },
    {
     "name": "stderr",
     "output_type": "stream",
     "text": [
      "      22/50       3.7G          1      4.247      1.397         12        640: 100%|██████████| 313/313 [01:07<00:00,  4.66it/s]\n",
      "                 Class     Images  Instances      Box(P          R      mAP50  mAP50-95): 100%|██████████| 2/2 [00:00<00:00,  7.96it/s]"
     ]
    },
    {
     "name": "stdout",
     "output_type": "stream",
     "text": [
      "                   all         20         29        0.6      0.821      0.806       0.57\n"
     ]
    },
    {
     "name": "stderr",
     "output_type": "stream",
     "text": [
      "\n"
     ]
    },
    {
     "name": "stdout",
     "output_type": "stream",
     "text": [
      "\n",
      "      Epoch    GPU_mem   box_loss   cls_loss   dfl_loss  Instances       Size\n"
     ]
    },
    {
     "name": "stderr",
     "output_type": "stream",
     "text": [
      "      23/50      3.71G     0.9913      4.166      1.389         18        640: 100%|██████████| 313/313 [01:06<00:00,  4.68it/s]\n",
      "                 Class     Images  Instances      Box(P          R      mAP50  mAP50-95): 100%|██████████| 2/2 [00:00<00:00,  7.86it/s]"
     ]
    },
    {
     "name": "stdout",
     "output_type": "stream",
     "text": [
      "                   all         20         29      0.637       0.74      0.804      0.578\n"
     ]
    },
    {
     "name": "stderr",
     "output_type": "stream",
     "text": [
      "\n"
     ]
    },
    {
     "name": "stdout",
     "output_type": "stream",
     "text": [
      "\n",
      "      Epoch    GPU_mem   box_loss   cls_loss   dfl_loss  Instances       Size\n"
     ]
    },
    {
     "name": "stderr",
     "output_type": "stream",
     "text": [
      "      24/50      3.59G     0.9823      4.103      1.385         12        640: 100%|██████████| 313/313 [01:06<00:00,  4.69it/s]\n",
      "                 Class     Images  Instances      Box(P          R      mAP50  mAP50-95): 100%|██████████| 2/2 [00:00<00:00,  7.29it/s]"
     ]
    },
    {
     "name": "stdout",
     "output_type": "stream",
     "text": [
      "                   all         20         29      0.769      0.716      0.852      0.612\n"
     ]
    },
    {
     "name": "stderr",
     "output_type": "stream",
     "text": [
      "\n"
     ]
    },
    {
     "name": "stdout",
     "output_type": "stream",
     "text": [
      "\n",
      "      Epoch    GPU_mem   box_loss   cls_loss   dfl_loss  Instances       Size\n"
     ]
    },
    {
     "name": "stderr",
     "output_type": "stream",
     "text": [
      "      25/50       3.7G     0.9821      4.147      1.388         11        640: 100%|██████████| 313/313 [01:07<00:00,  4.67it/s]\n",
      "                 Class     Images  Instances      Box(P          R      mAP50  mAP50-95): 100%|██████████| 2/2 [00:00<00:00,  7.89it/s]"
     ]
    },
    {
     "name": "stdout",
     "output_type": "stream",
     "text": [
      "                   all         20         29      0.604      0.816      0.846      0.626\n"
     ]
    },
    {
     "name": "stderr",
     "output_type": "stream",
     "text": [
      "\n"
     ]
    },
    {
     "name": "stdout",
     "output_type": "stream",
     "text": [
      "\n",
      "      Epoch    GPU_mem   box_loss   cls_loss   dfl_loss  Instances       Size\n"
     ]
    },
    {
     "name": "stderr",
     "output_type": "stream",
     "text": [
      "      26/50      3.69G      0.972      4.025      1.383         13        640: 100%|██████████| 313/313 [01:06<00:00,  4.72it/s]\n",
      "                 Class     Images  Instances      Box(P          R      mAP50  mAP50-95): 100%|██████████| 2/2 [00:00<00:00,  8.07it/s]"
     ]
    },
    {
     "name": "stdout",
     "output_type": "stream",
     "text": [
      "                   all         20         29      0.601      0.843       0.83      0.649\n"
     ]
    },
    {
     "name": "stderr",
     "output_type": "stream",
     "text": [
      "\n"
     ]
    },
    {
     "name": "stdout",
     "output_type": "stream",
     "text": [
      "\n",
      "      Epoch    GPU_mem   box_loss   cls_loss   dfl_loss  Instances       Size\n"
     ]
    },
    {
     "name": "stderr",
     "output_type": "stream",
     "text": [
      "      27/50      3.71G      0.965      3.907      1.362         10        640: 100%|██████████| 313/313 [01:06<00:00,  4.71it/s]\n",
      "                 Class     Images  Instances      Box(P          R      mAP50  mAP50-95): 100%|██████████| 2/2 [00:00<00:00,  7.92it/s]"
     ]
    },
    {
     "name": "stdout",
     "output_type": "stream",
     "text": [
      "                   all         20         29      0.588      0.813      0.808      0.623\n"
     ]
    },
    {
     "name": "stderr",
     "output_type": "stream",
     "text": [
      "\n"
     ]
    },
    {
     "name": "stdout",
     "output_type": "stream",
     "text": [
      "\n",
      "      Epoch    GPU_mem   box_loss   cls_loss   dfl_loss  Instances       Size\n"
     ]
    },
    {
     "name": "stderr",
     "output_type": "stream",
     "text": [
      "      28/50      3.71G      0.959      3.913       1.37          6        640: 100%|██████████| 313/313 [01:06<00:00,  4.68it/s]\n",
      "                 Class     Images  Instances      Box(P          R      mAP50  mAP50-95): 100%|██████████| 2/2 [00:00<00:00,  7.87it/s]"
     ]
    },
    {
     "name": "stdout",
     "output_type": "stream",
     "text": [
      "                   all         20         29      0.629      0.744      0.824      0.625\n"
     ]
    },
    {
     "name": "stderr",
     "output_type": "stream",
     "text": [
      "\n"
     ]
    },
    {
     "name": "stdout",
     "output_type": "stream",
     "text": [
      "\n",
      "      Epoch    GPU_mem   box_loss   cls_loss   dfl_loss  Instances       Size\n"
     ]
    },
    {
     "name": "stderr",
     "output_type": "stream",
     "text": [
      "      29/50      3.69G     0.9726      3.891      1.375         13        640: 100%|██████████| 313/313 [01:06<00:00,  4.69it/s]\n",
      "                 Class     Images  Instances      Box(P          R      mAP50  mAP50-95): 100%|██████████| 2/2 [00:00<00:00,  7.82it/s]"
     ]
    },
    {
     "name": "stdout",
     "output_type": "stream",
     "text": [
      "                   all         20         29      0.635      0.782      0.829      0.643\n"
     ]
    },
    {
     "name": "stderr",
     "output_type": "stream",
     "text": [
      "\n"
     ]
    },
    {
     "name": "stdout",
     "output_type": "stream",
     "text": [
      "\n",
      "      Epoch    GPU_mem   box_loss   cls_loss   dfl_loss  Instances       Size\n"
     ]
    },
    {
     "name": "stderr",
     "output_type": "stream",
     "text": [
      "      30/50      3.69G     0.9567      3.896      1.361         12        640: 100%|██████████| 313/313 [01:06<00:00,  4.68it/s]\n",
      "                 Class     Images  Instances      Box(P          R      mAP50  mAP50-95): 100%|██████████| 2/2 [00:00<00:00,  7.80it/s]"
     ]
    },
    {
     "name": "stdout",
     "output_type": "stream",
     "text": [
      "                   all         20         29      0.605      0.785      0.793       0.64\n"
     ]
    },
    {
     "name": "stderr",
     "output_type": "stream",
     "text": [
      "\n"
     ]
    },
    {
     "name": "stdout",
     "output_type": "stream",
     "text": [
      "\n",
      "      Epoch    GPU_mem   box_loss   cls_loss   dfl_loss  Instances       Size\n"
     ]
    },
    {
     "name": "stderr",
     "output_type": "stream",
     "text": [
      "      31/50      3.69G     0.9365      3.793      1.353         13        640: 100%|██████████| 313/313 [01:06<00:00,  4.69it/s]\n",
      "                 Class     Images  Instances      Box(P          R      mAP50  mAP50-95): 100%|██████████| 2/2 [00:00<00:00,  7.64it/s]"
     ]
    },
    {
     "name": "stdout",
     "output_type": "stream",
     "text": [
      "                   all         20         29      0.669      0.756      0.815       0.62\n"
     ]
    },
    {
     "name": "stderr",
     "output_type": "stream",
     "text": [
      "\n"
     ]
    },
    {
     "name": "stdout",
     "output_type": "stream",
     "text": [
      "\n",
      "      Epoch    GPU_mem   box_loss   cls_loss   dfl_loss  Instances       Size\n"
     ]
    },
    {
     "name": "stderr",
     "output_type": "stream",
     "text": [
      "      32/50      3.59G     0.9397      3.859      1.347         11        640: 100%|██████████| 313/313 [01:06<00:00,  4.68it/s]\n",
      "                 Class     Images  Instances      Box(P          R      mAP50  mAP50-95): 100%|██████████| 2/2 [00:00<00:00,  7.93it/s]"
     ]
    },
    {
     "name": "stdout",
     "output_type": "stream",
     "text": [
      "                   all         20         29      0.565      0.782      0.796      0.637\n"
     ]
    },
    {
     "name": "stderr",
     "output_type": "stream",
     "text": [
      "\n"
     ]
    },
    {
     "name": "stdout",
     "output_type": "stream",
     "text": [
      "\n",
      "      Epoch    GPU_mem   box_loss   cls_loss   dfl_loss  Instances       Size\n"
     ]
    },
    {
     "name": "stderr",
     "output_type": "stream",
     "text": [
      "      33/50      3.71G     0.9443      3.838      1.353         10        640: 100%|██████████| 313/313 [01:06<00:00,  4.68it/s]\n",
      "                 Class     Images  Instances      Box(P          R      mAP50  mAP50-95): 100%|██████████| 2/2 [00:00<00:00,  7.57it/s]"
     ]
    },
    {
     "name": "stdout",
     "output_type": "stream",
     "text": [
      "                   all         20         29       0.67      0.776      0.804      0.638\n"
     ]
    },
    {
     "name": "stderr",
     "output_type": "stream",
     "text": [
      "\n"
     ]
    },
    {
     "name": "stdout",
     "output_type": "stream",
     "text": [
      "\n",
      "      Epoch    GPU_mem   box_loss   cls_loss   dfl_loss  Instances       Size\n"
     ]
    },
    {
     "name": "stderr",
     "output_type": "stream",
     "text": [
      "      34/50      3.72G     0.9343       3.82      1.351         14        640: 100%|██████████| 313/313 [01:07<00:00,  4.66it/s]\n",
      "                 Class     Images  Instances      Box(P          R      mAP50  mAP50-95): 100%|██████████| 2/2 [00:00<00:00,  6.62it/s]"
     ]
    },
    {
     "name": "stdout",
     "output_type": "stream",
     "text": [
      "                   all         20         29      0.694      0.699      0.803      0.636\n"
     ]
    },
    {
     "name": "stderr",
     "output_type": "stream",
     "text": [
      "\n"
     ]
    },
    {
     "name": "stdout",
     "output_type": "stream",
     "text": [
      "\n",
      "      Epoch    GPU_mem   box_loss   cls_loss   dfl_loss  Instances       Size\n"
     ]
    },
    {
     "name": "stderr",
     "output_type": "stream",
     "text": [
      "      35/50      3.72G     0.9309      3.784      1.346         10        640: 100%|██████████| 313/313 [01:06<00:00,  4.73it/s]\n",
      "                 Class     Images  Instances      Box(P          R      mAP50  mAP50-95): 100%|██████████| 2/2 [00:00<00:00,  8.32it/s]"
     ]
    },
    {
     "name": "stdout",
     "output_type": "stream",
     "text": [
      "                   all         20         29      0.717      0.763      0.824      0.645\n"
     ]
    },
    {
     "name": "stderr",
     "output_type": "stream",
     "text": [
      "\n"
     ]
    },
    {
     "name": "stdout",
     "output_type": "stream",
     "text": [
      "\n",
      "      Epoch    GPU_mem   box_loss   cls_loss   dfl_loss  Instances       Size\n"
     ]
    },
    {
     "name": "stderr",
     "output_type": "stream",
     "text": [
      "      36/50      3.72G     0.9361      3.745      1.354         17        640: 100%|██████████| 313/313 [01:05<00:00,  4.76it/s]\n",
      "                 Class     Images  Instances      Box(P          R      mAP50  mAP50-95): 100%|██████████| 2/2 [00:00<00:00,  8.03it/s]"
     ]
    },
    {
     "name": "stdout",
     "output_type": "stream",
     "text": [
      "                   all         20         29      0.706      0.752      0.804       0.64\n"
     ]
    },
    {
     "name": "stderr",
     "output_type": "stream",
     "text": [
      "\n"
     ]
    },
    {
     "name": "stdout",
     "output_type": "stream",
     "text": [
      "\n",
      "      Epoch    GPU_mem   box_loss   cls_loss   dfl_loss  Instances       Size\n"
     ]
    },
    {
     "name": "stderr",
     "output_type": "stream",
     "text": [
      "      37/50      3.68G     0.9108      3.593      1.332          7        640: 100%|██████████| 313/313 [01:05<00:00,  4.76it/s]\n",
      "                 Class     Images  Instances      Box(P          R      mAP50  mAP50-95): 100%|██████████| 2/2 [00:00<00:00,  8.06it/s]"
     ]
    },
    {
     "name": "stdout",
     "output_type": "stream",
     "text": [
      "                   all         20         29      0.689      0.729      0.808      0.649\n"
     ]
    },
    {
     "name": "stderr",
     "output_type": "stream",
     "text": [
      "\n"
     ]
    },
    {
     "name": "stdout",
     "output_type": "stream",
     "text": [
      "\n",
      "      Epoch    GPU_mem   box_loss   cls_loss   dfl_loss  Instances       Size\n"
     ]
    },
    {
     "name": "stderr",
     "output_type": "stream",
     "text": [
      "      38/50      3.71G     0.9136      3.647      1.338         12        640: 100%|██████████| 313/313 [01:05<00:00,  4.75it/s]\n",
      "                 Class     Images  Instances      Box(P          R      mAP50  mAP50-95): 100%|██████████| 2/2 [00:00<00:00,  8.06it/s]"
     ]
    },
    {
     "name": "stdout",
     "output_type": "stream",
     "text": [
      "                   all         20         29      0.655      0.792      0.815      0.664\n"
     ]
    },
    {
     "name": "stderr",
     "output_type": "stream",
     "text": [
      "\n"
     ]
    },
    {
     "name": "stdout",
     "output_type": "stream",
     "text": [
      "\n",
      "      Epoch    GPU_mem   box_loss   cls_loss   dfl_loss  Instances       Size\n"
     ]
    },
    {
     "name": "stderr",
     "output_type": "stream",
     "text": [
      "      39/50      3.69G     0.9134       3.66      1.336         12        640: 100%|██████████| 313/313 [01:07<00:00,  4.66it/s]\n",
      "                 Class     Images  Instances      Box(P          R      mAP50  mAP50-95): 100%|██████████| 2/2 [00:00<00:00,  7.31it/s]"
     ]
    },
    {
     "name": "stdout",
     "output_type": "stream",
     "text": [
      "                   all         20         29       0.67       0.77      0.802       0.65\n"
     ]
    },
    {
     "name": "stderr",
     "output_type": "stream",
     "text": [
      "\n"
     ]
    },
    {
     "name": "stdout",
     "output_type": "stream",
     "text": [
      "\n",
      "      Epoch    GPU_mem   box_loss   cls_loss   dfl_loss  Instances       Size\n"
     ]
    },
    {
     "name": "stderr",
     "output_type": "stream",
     "text": [
      "      40/50      3.59G     0.9083      3.619       1.33         13        640: 100%|██████████| 313/313 [01:06<00:00,  4.69it/s]\n",
      "                 Class     Images  Instances      Box(P          R      mAP50  mAP50-95): 100%|██████████| 2/2 [00:00<00:00,  7.89it/s]"
     ]
    },
    {
     "name": "stdout",
     "output_type": "stream",
     "text": [
      "                   all         20         29       0.66      0.774      0.807      0.658\n"
     ]
    },
    {
     "name": "stderr",
     "output_type": "stream",
     "text": [
      "\n"
     ]
    },
    {
     "name": "stdout",
     "output_type": "stream",
     "text": [
      "Closing dataloader mosaic\n",
      "\u001b[34m\u001b[1malbumentations: \u001b[0mBlur(p=0.01, blur_limit=(3, 7)), MedianBlur(p=0.01, blur_limit=(3, 7)), ToGray(p=0.01, num_output_channels=3, method='weighted_average'), CLAHE(p=0.01, clip_limit=(1.0, 4.0), tile_grid_size=(8, 8))\n",
      "\n",
      "      Epoch    GPU_mem   box_loss   cls_loss   dfl_loss  Instances       Size\n"
     ]
    },
    {
     "name": "stderr",
     "output_type": "stream",
     "text": [
      "      41/50      3.71G     0.6654      2.107      1.215          5        640: 100%|██████████| 313/313 [01:07<00:00,  4.66it/s]\n",
      "                 Class     Images  Instances      Box(P          R      mAP50  mAP50-95): 100%|██████████| 2/2 [00:00<00:00,  7.69it/s]"
     ]
    },
    {
     "name": "stdout",
     "output_type": "stream",
     "text": [
      "                   all         20         29       0.63      0.781      0.786      0.641\n"
     ]
    },
    {
     "name": "stderr",
     "output_type": "stream",
     "text": [
      "\n"
     ]
    },
    {
     "name": "stdout",
     "output_type": "stream",
     "text": [
      "\n",
      "      Epoch    GPU_mem   box_loss   cls_loss   dfl_loss  Instances       Size\n"
     ]
    },
    {
     "name": "stderr",
     "output_type": "stream",
     "text": [
      "      42/50      3.69G     0.6388       1.94      1.189          5        640: 100%|██████████| 313/313 [01:06<00:00,  4.70it/s]\n",
      "                 Class     Images  Instances      Box(P          R      mAP50  mAP50-95): 100%|██████████| 2/2 [00:00<00:00,  8.15it/s]"
     ]
    },
    {
     "name": "stdout",
     "output_type": "stream",
     "text": [
      "                   all         20         29      0.613      0.787      0.783      0.635\n"
     ]
    },
    {
     "name": "stderr",
     "output_type": "stream",
     "text": [
      "\n"
     ]
    },
    {
     "name": "stdout",
     "output_type": "stream",
     "text": [
      "\n",
      "      Epoch    GPU_mem   box_loss   cls_loss   dfl_loss  Instances       Size\n"
     ]
    },
    {
     "name": "stderr",
     "output_type": "stream",
     "text": [
      "      43/50      3.72G      0.619      1.898      1.175          5        640: 100%|██████████| 313/313 [01:05<00:00,  4.75it/s]\n",
      "                 Class     Images  Instances      Box(P          R      mAP50  mAP50-95): 100%|██████████| 2/2 [00:00<00:00,  8.09it/s]"
     ]
    },
    {
     "name": "stdout",
     "output_type": "stream",
     "text": [
      "                   all         20         29      0.639      0.801      0.818       0.66\n"
     ]
    },
    {
     "name": "stderr",
     "output_type": "stream",
     "text": [
      "\n"
     ]
    },
    {
     "name": "stdout",
     "output_type": "stream",
     "text": [
      "\n",
      "      Epoch    GPU_mem   box_loss   cls_loss   dfl_loss  Instances       Size\n"
     ]
    },
    {
     "name": "stderr",
     "output_type": "stream",
     "text": [
      "      44/50      3.69G     0.6484      1.909      1.197          6        640: 100%|██████████| 313/313 [01:05<00:00,  4.75it/s]\n",
      "                 Class     Images  Instances      Box(P          R      mAP50  mAP50-95): 100%|██████████| 2/2 [00:00<00:00,  8.16it/s]"
     ]
    },
    {
     "name": "stdout",
     "output_type": "stream",
     "text": [
      "                   all         20         29      0.681      0.702       0.82      0.663\n"
     ]
    },
    {
     "name": "stderr",
     "output_type": "stream",
     "text": [
      "\n"
     ]
    },
    {
     "name": "stdout",
     "output_type": "stream",
     "text": [
      "\n",
      "      Epoch    GPU_mem   box_loss   cls_loss   dfl_loss  Instances       Size\n"
     ]
    },
    {
     "name": "stderr",
     "output_type": "stream",
     "text": [
      "      45/50      3.68G     0.6332      1.883      1.188          4        640: 100%|██████████| 313/313 [01:05<00:00,  4.76it/s]\n",
      "                 Class     Images  Instances      Box(P          R      mAP50  mAP50-95): 100%|██████████| 2/2 [00:00<00:00,  8.29it/s]"
     ]
    },
    {
     "name": "stdout",
     "output_type": "stream",
     "text": [
      "                   all         20         29      0.624      0.747       0.79      0.638\n"
     ]
    },
    {
     "name": "stderr",
     "output_type": "stream",
     "text": [
      "\n"
     ]
    },
    {
     "name": "stdout",
     "output_type": "stream",
     "text": [
      "\n",
      "      Epoch    GPU_mem   box_loss   cls_loss   dfl_loss  Instances       Size\n"
     ]
    },
    {
     "name": "stderr",
     "output_type": "stream",
     "text": [
      "      46/50      3.71G     0.6328      1.876      1.188          5        640: 100%|██████████| 313/313 [01:05<00:00,  4.75it/s]\n",
      "                 Class     Images  Instances      Box(P          R      mAP50  mAP50-95): 100%|██████████| 2/2 [00:00<00:00,  7.92it/s]"
     ]
    },
    {
     "name": "stdout",
     "output_type": "stream",
     "text": [
      "                   all         20         29      0.601      0.807        0.8      0.652\n"
     ]
    },
    {
     "name": "stderr",
     "output_type": "stream",
     "text": [
      "\n"
     ]
    },
    {
     "name": "stdout",
     "output_type": "stream",
     "text": [
      "\n",
      "      Epoch    GPU_mem   box_loss   cls_loss   dfl_loss  Instances       Size\n"
     ]
    },
    {
     "name": "stderr",
     "output_type": "stream",
     "text": [
      "      47/50       3.7G     0.6228      1.845      1.178          4        640: 100%|██████████| 313/313 [01:05<00:00,  4.75it/s]\n",
      "                 Class     Images  Instances      Box(P          R      mAP50  mAP50-95): 100%|██████████| 2/2 [00:00<00:00,  8.05it/s]"
     ]
    },
    {
     "name": "stdout",
     "output_type": "stream",
     "text": [
      "                   all         20         29      0.706      0.691      0.811      0.654\n"
     ]
    },
    {
     "name": "stderr",
     "output_type": "stream",
     "text": [
      "\n"
     ]
    },
    {
     "name": "stdout",
     "output_type": "stream",
     "text": [
      "\n",
      "      Epoch    GPU_mem   box_loss   cls_loss   dfl_loss  Instances       Size\n"
     ]
    },
    {
     "name": "stderr",
     "output_type": "stream",
     "text": [
      "      48/50      3.62G      0.616      1.852      1.169          8        640: 100%|██████████| 313/313 [01:06<00:00,  4.74it/s]\n",
      "                 Class     Images  Instances      Box(P          R      mAP50  mAP50-95): 100%|██████████| 2/2 [00:00<00:00,  8.06it/s]"
     ]
    },
    {
     "name": "stdout",
     "output_type": "stream",
     "text": [
      "                   all         20         29      0.588      0.798        0.8       0.65\n"
     ]
    },
    {
     "name": "stderr",
     "output_type": "stream",
     "text": [
      "\n"
     ]
    },
    {
     "name": "stdout",
     "output_type": "stream",
     "text": [
      "\n",
      "      Epoch    GPU_mem   box_loss   cls_loss   dfl_loss  Instances       Size\n"
     ]
    },
    {
     "name": "stderr",
     "output_type": "stream",
     "text": [
      "      49/50      3.73G      0.616      1.833      1.166          6        640: 100%|██████████| 313/313 [01:06<00:00,  4.74it/s]\n",
      "                 Class     Images  Instances      Box(P          R      mAP50  mAP50-95): 100%|██████████| 2/2 [00:00<00:00,  8.23it/s]"
     ]
    },
    {
     "name": "stdout",
     "output_type": "stream",
     "text": [
      "                   all         20         29      0.601      0.782      0.798      0.648\n"
     ]
    },
    {
     "name": "stderr",
     "output_type": "stream",
     "text": [
      "\n"
     ]
    },
    {
     "name": "stdout",
     "output_type": "stream",
     "text": [
      "\n",
      "      Epoch    GPU_mem   box_loss   cls_loss   dfl_loss  Instances       Size\n"
     ]
    },
    {
     "name": "stderr",
     "output_type": "stream",
     "text": [
      "      50/50      3.69G     0.6416      1.885      1.186          6        640: 100%|██████████| 313/313 [01:05<00:00,  4.75it/s]\n",
      "                 Class     Images  Instances      Box(P          R      mAP50  mAP50-95): 100%|██████████| 2/2 [00:00<00:00,  8.24it/s]"
     ]
    },
    {
     "name": "stdout",
     "output_type": "stream",
     "text": [
      "                   all         20         29      0.583      0.837      0.794      0.646\n"
     ]
    },
    {
     "name": "stderr",
     "output_type": "stream",
     "text": [
      "\n"
     ]
    },
    {
     "name": "stdout",
     "output_type": "stream",
     "text": [
      "\n",
      "50 epochs completed in 0.933 hours.\n",
      "Optimizer stripped from ..\\f1-strategy\\yolo-files\\runs\\train_optimized3\\weights\\last.pt, 52.0MB\n",
      "Optimizer stripped from ..\\f1-strategy\\yolo-files\\runs\\train_optimized3\\weights\\best.pt, 52.0MB\n",
      "\n",
      "Validating ..\\f1-strategy\\yolo-files\\runs\\train_optimized3\\weights\\best.pt...\n",
      "Ultralytics 8.3.69  Python-3.10.16 torch-2.5.1+cu124 CUDA:0 (NVIDIA GeForce RTX 4060 Laptop GPU, 8188MiB)\n",
      "Model summary (fused): 218 layers, 25,845,550 parameters, 0 gradients, 78.7 GFLOPs\n"
     ]
    },
    {
     "name": "stderr",
     "output_type": "stream",
     "text": [
      "                 Class     Images  Instances      Box(P          R      mAP50  mAP50-95): 100%|██████████| 2/2 [00:00<00:00,  7.71it/s]\n"
     ]
    },
    {
     "name": "stdout",
     "output_type": "stream",
     "text": [
      "                   all         20         29      0.653      0.795      0.815      0.665\n",
      "           Kick Sauber          4          6      0.794        0.5       0.71      0.508\n",
      "          Racing Bulls          1          1      0.467          1      0.995      0.796\n",
      "                Alpine          4          5      0.797      0.787      0.811      0.674\n",
      "               Ferarri          3          4      0.625       0.75      0.788      0.705\n",
      "                  Haas          1          1      0.474          1      0.995      0.895\n",
      "               Mclaren          5          6      0.807        0.5      0.775      0.651\n",
      "              Mercedes          3          3          1      0.826      0.995      0.735\n",
      "              Williams          2          3      0.259          1       0.45      0.355\n",
      "Speed: 0.3ms preprocess, 8.1ms inference, 0.0ms loss, 1.0ms postprocess per image\n",
      "Results saved to \u001b[1m..\\f1-strategy\\yolo-files\\runs\\train_optimized3\u001b[0m\n"
     ]
    },
    {
     "data": {
      "text/plain": [
       "ultralytics.utils.metrics.DetMetrics object with attributes:\n",
       "\n",
       "ap_class_index: array([0, 1, 2, 4, 5, 6, 7, 9])\n",
       "box: ultralytics.utils.metrics.Metric object\n",
       "confusion_matrix: <ultralytics.utils.metrics.ConfusionMatrix object at 0x0000021028FEEBF0>\n",
       "curves: ['Precision-Recall(B)', 'F1-Confidence(B)', 'Precision-Confidence(B)', 'Recall-Confidence(B)']\n",
       "curves_results: [[array([          0,    0.001001,    0.002002,    0.003003,    0.004004,    0.005005,    0.006006,    0.007007,    0.008008,    0.009009,     0.01001,    0.011011,    0.012012,    0.013013,    0.014014,    0.015015,    0.016016,    0.017017,    0.018018,    0.019019,     0.02002,    0.021021,    0.022022,    0.023023,\n",
       "          0.024024,    0.025025,    0.026026,    0.027027,    0.028028,    0.029029,     0.03003,    0.031031,    0.032032,    0.033033,    0.034034,    0.035035,    0.036036,    0.037037,    0.038038,    0.039039,     0.04004,    0.041041,    0.042042,    0.043043,    0.044044,    0.045045,    0.046046,    0.047047,\n",
       "          0.048048,    0.049049,     0.05005,    0.051051,    0.052052,    0.053053,    0.054054,    0.055055,    0.056056,    0.057057,    0.058058,    0.059059,     0.06006,    0.061061,    0.062062,    0.063063,    0.064064,    0.065065,    0.066066,    0.067067,    0.068068,    0.069069,     0.07007,    0.071071,\n",
       "          0.072072,    0.073073,    0.074074,    0.075075,    0.076076,    0.077077,    0.078078,    0.079079,     0.08008,    0.081081,    0.082082,    0.083083,    0.084084,    0.085085,    0.086086,    0.087087,    0.088088,    0.089089,     0.09009,    0.091091,    0.092092,    0.093093,    0.094094,    0.095095,\n",
       "          0.096096,    0.097097,    0.098098,    0.099099,      0.1001,      0.1011,      0.1021,      0.1031,      0.1041,     0.10511,     0.10611,     0.10711,     0.10811,     0.10911,     0.11011,     0.11111,     0.11211,     0.11311,     0.11411,     0.11512,     0.11612,     0.11712,     0.11812,     0.11912,\n",
       "           0.12012,     0.12112,     0.12212,     0.12312,     0.12412,     0.12513,     0.12613,     0.12713,     0.12813,     0.12913,     0.13013,     0.13113,     0.13213,     0.13313,     0.13413,     0.13514,     0.13614,     0.13714,     0.13814,     0.13914,     0.14014,     0.14114,     0.14214,     0.14314,\n",
       "           0.14414,     0.14515,     0.14615,     0.14715,     0.14815,     0.14915,     0.15015,     0.15115,     0.15215,     0.15315,     0.15415,     0.15516,     0.15616,     0.15716,     0.15816,     0.15916,     0.16016,     0.16116,     0.16216,     0.16316,     0.16416,     0.16517,     0.16617,     0.16717,\n",
       "           0.16817,     0.16917,     0.17017,     0.17117,     0.17217,     0.17317,     0.17417,     0.17518,     0.17618,     0.17718,     0.17818,     0.17918,     0.18018,     0.18118,     0.18218,     0.18318,     0.18418,     0.18519,     0.18619,     0.18719,     0.18819,     0.18919,     0.19019,     0.19119,\n",
       "           0.19219,     0.19319,     0.19419,      0.1952,      0.1962,      0.1972,      0.1982,      0.1992,      0.2002,      0.2012,      0.2022,      0.2032,      0.2042,     0.20521,     0.20621,     0.20721,     0.20821,     0.20921,     0.21021,     0.21121,     0.21221,     0.21321,     0.21421,     0.21522,\n",
       "           0.21622,     0.21722,     0.21822,     0.21922,     0.22022,     0.22122,     0.22222,     0.22322,     0.22422,     0.22523,     0.22623,     0.22723,     0.22823,     0.22923,     0.23023,     0.23123,     0.23223,     0.23323,     0.23423,     0.23524,     0.23624,     0.23724,     0.23824,     0.23924,\n",
       "           0.24024,     0.24124,     0.24224,     0.24324,     0.24424,     0.24525,     0.24625,     0.24725,     0.24825,     0.24925,     0.25025,     0.25125,     0.25225,     0.25325,     0.25425,     0.25526,     0.25626,     0.25726,     0.25826,     0.25926,     0.26026,     0.26126,     0.26226,     0.26326,\n",
       "           0.26426,     0.26527,     0.26627,     0.26727,     0.26827,     0.26927,     0.27027,     0.27127,     0.27227,     0.27327,     0.27427,     0.27528,     0.27628,     0.27728,     0.27828,     0.27928,     0.28028,     0.28128,     0.28228,     0.28328,     0.28428,     0.28529,     0.28629,     0.28729,\n",
       "           0.28829,     0.28929,     0.29029,     0.29129,     0.29229,     0.29329,     0.29429,      0.2953,      0.2963,      0.2973,      0.2983,      0.2993,      0.3003,      0.3013,      0.3023,      0.3033,      0.3043,     0.30531,     0.30631,     0.30731,     0.30831,     0.30931,     0.31031,     0.31131,\n",
       "           0.31231,     0.31331,     0.31431,     0.31532,     0.31632,     0.31732,     0.31832,     0.31932,     0.32032,     0.32132,     0.32232,     0.32332,     0.32432,     0.32533,     0.32633,     0.32733,     0.32833,     0.32933,     0.33033,     0.33133,     0.33233,     0.33333,     0.33433,     0.33534,\n",
       "           0.33634,     0.33734,     0.33834,     0.33934,     0.34034,     0.34134,     0.34234,     0.34334,     0.34434,     0.34535,     0.34635,     0.34735,     0.34835,     0.34935,     0.35035,     0.35135,     0.35235,     0.35335,     0.35435,     0.35536,     0.35636,     0.35736,     0.35836,     0.35936,\n",
       "           0.36036,     0.36136,     0.36236,     0.36336,     0.36436,     0.36537,     0.36637,     0.36737,     0.36837,     0.36937,     0.37037,     0.37137,     0.37237,     0.37337,     0.37437,     0.37538,     0.37638,     0.37738,     0.37838,     0.37938,     0.38038,     0.38138,     0.38238,     0.38338,\n",
       "           0.38438,     0.38539,     0.38639,     0.38739,     0.38839,     0.38939,     0.39039,     0.39139,     0.39239,     0.39339,     0.39439,      0.3954,      0.3964,      0.3974,      0.3984,      0.3994,      0.4004,      0.4014,      0.4024,      0.4034,      0.4044,     0.40541,     0.40641,     0.40741,\n",
       "           0.40841,     0.40941,     0.41041,     0.41141,     0.41241,     0.41341,     0.41441,     0.41542,     0.41642,     0.41742,     0.41842,     0.41942,     0.42042,     0.42142,     0.42242,     0.42342,     0.42442,     0.42543,     0.42643,     0.42743,     0.42843,     0.42943,     0.43043,     0.43143,\n",
       "           0.43243,     0.43343,     0.43443,     0.43544,     0.43644,     0.43744,     0.43844,     0.43944,     0.44044,     0.44144,     0.44244,     0.44344,     0.44444,     0.44545,     0.44645,     0.44745,     0.44845,     0.44945,     0.45045,     0.45145,     0.45245,     0.45345,     0.45445,     0.45546,\n",
       "           0.45646,     0.45746,     0.45846,     0.45946,     0.46046,     0.46146,     0.46246,     0.46346,     0.46446,     0.46547,     0.46647,     0.46747,     0.46847,     0.46947,     0.47047,     0.47147,     0.47247,     0.47347,     0.47447,     0.47548,     0.47648,     0.47748,     0.47848,     0.47948,\n",
       "           0.48048,     0.48148,     0.48248,     0.48348,     0.48448,     0.48549,     0.48649,     0.48749,     0.48849,     0.48949,     0.49049,     0.49149,     0.49249,     0.49349,     0.49449,      0.4955,      0.4965,      0.4975,      0.4985,      0.4995,      0.5005,      0.5015,      0.5025,      0.5035,\n",
       "            0.5045,     0.50551,     0.50651,     0.50751,     0.50851,     0.50951,     0.51051,     0.51151,     0.51251,     0.51351,     0.51451,     0.51552,     0.51652,     0.51752,     0.51852,     0.51952,     0.52052,     0.52152,     0.52252,     0.52352,     0.52452,     0.52553,     0.52653,     0.52753,\n",
       "           0.52853,     0.52953,     0.53053,     0.53153,     0.53253,     0.53353,     0.53453,     0.53554,     0.53654,     0.53754,     0.53854,     0.53954,     0.54054,     0.54154,     0.54254,     0.54354,     0.54454,     0.54555,     0.54655,     0.54755,     0.54855,     0.54955,     0.55055,     0.55155,\n",
       "           0.55255,     0.55355,     0.55455,     0.55556,     0.55656,     0.55756,     0.55856,     0.55956,     0.56056,     0.56156,     0.56256,     0.56356,     0.56456,     0.56557,     0.56657,     0.56757,     0.56857,     0.56957,     0.57057,     0.57157,     0.57257,     0.57357,     0.57457,     0.57558,\n",
       "           0.57658,     0.57758,     0.57858,     0.57958,     0.58058,     0.58158,     0.58258,     0.58358,     0.58458,     0.58559,     0.58659,     0.58759,     0.58859,     0.58959,     0.59059,     0.59159,     0.59259,     0.59359,     0.59459,      0.5956,      0.5966,      0.5976,      0.5986,      0.5996,\n",
       "            0.6006,      0.6016,      0.6026,      0.6036,      0.6046,     0.60561,     0.60661,     0.60761,     0.60861,     0.60961,     0.61061,     0.61161,     0.61261,     0.61361,     0.61461,     0.61562,     0.61662,     0.61762,     0.61862,     0.61962,     0.62062,     0.62162,     0.62262,     0.62362,\n",
       "           0.62462,     0.62563,     0.62663,     0.62763,     0.62863,     0.62963,     0.63063,     0.63163,     0.63263,     0.63363,     0.63463,     0.63564,     0.63664,     0.63764,     0.63864,     0.63964,     0.64064,     0.64164,     0.64264,     0.64364,     0.64464,     0.64565,     0.64665,     0.64765,\n",
       "           0.64865,     0.64965,     0.65065,     0.65165,     0.65265,     0.65365,     0.65465,     0.65566,     0.65666,     0.65766,     0.65866,     0.65966,     0.66066,     0.66166,     0.66266,     0.66366,     0.66466,     0.66567,     0.66667,     0.66767,     0.66867,     0.66967,     0.67067,     0.67167,\n",
       "           0.67267,     0.67367,     0.67467,     0.67568,     0.67668,     0.67768,     0.67868,     0.67968,     0.68068,     0.68168,     0.68268,     0.68368,     0.68468,     0.68569,     0.68669,     0.68769,     0.68869,     0.68969,     0.69069,     0.69169,     0.69269,     0.69369,     0.69469,      0.6957,\n",
       "            0.6967,      0.6977,      0.6987,      0.6997,      0.7007,      0.7017,      0.7027,      0.7037,      0.7047,     0.70571,     0.70671,     0.70771,     0.70871,     0.70971,     0.71071,     0.71171,     0.71271,     0.71371,     0.71471,     0.71572,     0.71672,     0.71772,     0.71872,     0.71972,\n",
       "           0.72072,     0.72172,     0.72272,     0.72372,     0.72472,     0.72573,     0.72673,     0.72773,     0.72873,     0.72973,     0.73073,     0.73173,     0.73273,     0.73373,     0.73473,     0.73574,     0.73674,     0.73774,     0.73874,     0.73974,     0.74074,     0.74174,     0.74274,     0.74374,\n",
       "           0.74474,     0.74575,     0.74675,     0.74775,     0.74875,     0.74975,     0.75075,     0.75175,     0.75275,     0.75375,     0.75475,     0.75576,     0.75676,     0.75776,     0.75876,     0.75976,     0.76076,     0.76176,     0.76276,     0.76376,     0.76476,     0.76577,     0.76677,     0.76777,\n",
       "           0.76877,     0.76977,     0.77077,     0.77177,     0.77277,     0.77377,     0.77477,     0.77578,     0.77678,     0.77778,     0.77878,     0.77978,     0.78078,     0.78178,     0.78278,     0.78378,     0.78478,     0.78579,     0.78679,     0.78779,     0.78879,     0.78979,     0.79079,     0.79179,\n",
       "           0.79279,     0.79379,     0.79479,      0.7958,      0.7968,      0.7978,      0.7988,      0.7998,      0.8008,      0.8018,      0.8028,      0.8038,      0.8048,     0.80581,     0.80681,     0.80781,     0.80881,     0.80981,     0.81081,     0.81181,     0.81281,     0.81381,     0.81481,     0.81582,\n",
       "           0.81682,     0.81782,     0.81882,     0.81982,     0.82082,     0.82182,     0.82282,     0.82382,     0.82482,     0.82583,     0.82683,     0.82783,     0.82883,     0.82983,     0.83083,     0.83183,     0.83283,     0.83383,     0.83483,     0.83584,     0.83684,     0.83784,     0.83884,     0.83984,\n",
       "           0.84084,     0.84184,     0.84284,     0.84384,     0.84484,     0.84585,     0.84685,     0.84785,     0.84885,     0.84985,     0.85085,     0.85185,     0.85285,     0.85385,     0.85485,     0.85586,     0.85686,     0.85786,     0.85886,     0.85986,     0.86086,     0.86186,     0.86286,     0.86386,\n",
       "           0.86486,     0.86587,     0.86687,     0.86787,     0.86887,     0.86987,     0.87087,     0.87187,     0.87287,     0.87387,     0.87487,     0.87588,     0.87688,     0.87788,     0.87888,     0.87988,     0.88088,     0.88188,     0.88288,     0.88388,     0.88488,     0.88589,     0.88689,     0.88789,\n",
       "           0.88889,     0.88989,     0.89089,     0.89189,     0.89289,     0.89389,     0.89489,      0.8959,      0.8969,      0.8979,      0.8989,      0.8999,      0.9009,      0.9019,      0.9029,      0.9039,      0.9049,     0.90591,     0.90691,     0.90791,     0.90891,     0.90991,     0.91091,     0.91191,\n",
       "           0.91291,     0.91391,     0.91491,     0.91592,     0.91692,     0.91792,     0.91892,     0.91992,     0.92092,     0.92192,     0.92292,     0.92392,     0.92492,     0.92593,     0.92693,     0.92793,     0.92893,     0.92993,     0.93093,     0.93193,     0.93293,     0.93393,     0.93493,     0.93594,\n",
       "           0.93694,     0.93794,     0.93894,     0.93994,     0.94094,     0.94194,     0.94294,     0.94394,     0.94494,     0.94595,     0.94695,     0.94795,     0.94895,     0.94995,     0.95095,     0.95195,     0.95295,     0.95395,     0.95495,     0.95596,     0.95696,     0.95796,     0.95896,     0.95996,\n",
       "           0.96096,     0.96196,     0.96296,     0.96396,     0.96496,     0.96597,     0.96697,     0.96797,     0.96897,     0.96997,     0.97097,     0.97197,     0.97297,     0.97397,     0.97497,     0.97598,     0.97698,     0.97798,     0.97898,     0.97998,     0.98098,     0.98198,     0.98298,     0.98398,\n",
       "           0.98498,     0.98599,     0.98699,     0.98799,     0.98899,     0.98999,     0.99099,     0.99199,     0.99299,     0.99399,     0.99499,       0.996,       0.997,       0.998,       0.999,           1]), array([[          1,           1,           1, ...,     0.00273,    0.001365,           0],\n",
       "       [          1,           1,           1, ...,           1,           1,           0],\n",
       "       [          1,           1,           1, ...,     0.27778,     0.27778,           0],\n",
       "       ...,\n",
       "       [          1,           1,           1, ...,       0.375,       0.375,           0],\n",
       "       [          1,           1,           1, ...,           1,           1,           0],\n",
       "       [        0.5,         0.5,         0.5, ...,     0.42857,     0.42857,           0]]), 'Recall', 'Precision'], [array([          0,    0.001001,    0.002002,    0.003003,    0.004004,    0.005005,    0.006006,    0.007007,    0.008008,    0.009009,     0.01001,    0.011011,    0.012012,    0.013013,    0.014014,    0.015015,    0.016016,    0.017017,    0.018018,    0.019019,     0.02002,    0.021021,    0.022022,    0.023023,\n",
       "          0.024024,    0.025025,    0.026026,    0.027027,    0.028028,    0.029029,     0.03003,    0.031031,    0.032032,    0.033033,    0.034034,    0.035035,    0.036036,    0.037037,    0.038038,    0.039039,     0.04004,    0.041041,    0.042042,    0.043043,    0.044044,    0.045045,    0.046046,    0.047047,\n",
       "          0.048048,    0.049049,     0.05005,    0.051051,    0.052052,    0.053053,    0.054054,    0.055055,    0.056056,    0.057057,    0.058058,    0.059059,     0.06006,    0.061061,    0.062062,    0.063063,    0.064064,    0.065065,    0.066066,    0.067067,    0.068068,    0.069069,     0.07007,    0.071071,\n",
       "          0.072072,    0.073073,    0.074074,    0.075075,    0.076076,    0.077077,    0.078078,    0.079079,     0.08008,    0.081081,    0.082082,    0.083083,    0.084084,    0.085085,    0.086086,    0.087087,    0.088088,    0.089089,     0.09009,    0.091091,    0.092092,    0.093093,    0.094094,    0.095095,\n",
       "          0.096096,    0.097097,    0.098098,    0.099099,      0.1001,      0.1011,      0.1021,      0.1031,      0.1041,     0.10511,     0.10611,     0.10711,     0.10811,     0.10911,     0.11011,     0.11111,     0.11211,     0.11311,     0.11411,     0.11512,     0.11612,     0.11712,     0.11812,     0.11912,\n",
       "           0.12012,     0.12112,     0.12212,     0.12312,     0.12412,     0.12513,     0.12613,     0.12713,     0.12813,     0.12913,     0.13013,     0.13113,     0.13213,     0.13313,     0.13413,     0.13514,     0.13614,     0.13714,     0.13814,     0.13914,     0.14014,     0.14114,     0.14214,     0.14314,\n",
       "           0.14414,     0.14515,     0.14615,     0.14715,     0.14815,     0.14915,     0.15015,     0.15115,     0.15215,     0.15315,     0.15415,     0.15516,     0.15616,     0.15716,     0.15816,     0.15916,     0.16016,     0.16116,     0.16216,     0.16316,     0.16416,     0.16517,     0.16617,     0.16717,\n",
       "           0.16817,     0.16917,     0.17017,     0.17117,     0.17217,     0.17317,     0.17417,     0.17518,     0.17618,     0.17718,     0.17818,     0.17918,     0.18018,     0.18118,     0.18218,     0.18318,     0.18418,     0.18519,     0.18619,     0.18719,     0.18819,     0.18919,     0.19019,     0.19119,\n",
       "           0.19219,     0.19319,     0.19419,      0.1952,      0.1962,      0.1972,      0.1982,      0.1992,      0.2002,      0.2012,      0.2022,      0.2032,      0.2042,     0.20521,     0.20621,     0.20721,     0.20821,     0.20921,     0.21021,     0.21121,     0.21221,     0.21321,     0.21421,     0.21522,\n",
       "           0.21622,     0.21722,     0.21822,     0.21922,     0.22022,     0.22122,     0.22222,     0.22322,     0.22422,     0.22523,     0.22623,     0.22723,     0.22823,     0.22923,     0.23023,     0.23123,     0.23223,     0.23323,     0.23423,     0.23524,     0.23624,     0.23724,     0.23824,     0.23924,\n",
       "           0.24024,     0.24124,     0.24224,     0.24324,     0.24424,     0.24525,     0.24625,     0.24725,     0.24825,     0.24925,     0.25025,     0.25125,     0.25225,     0.25325,     0.25425,     0.25526,     0.25626,     0.25726,     0.25826,     0.25926,     0.26026,     0.26126,     0.26226,     0.26326,\n",
       "           0.26426,     0.26527,     0.26627,     0.26727,     0.26827,     0.26927,     0.27027,     0.27127,     0.27227,     0.27327,     0.27427,     0.27528,     0.27628,     0.27728,     0.27828,     0.27928,     0.28028,     0.28128,     0.28228,     0.28328,     0.28428,     0.28529,     0.28629,     0.28729,\n",
       "           0.28829,     0.28929,     0.29029,     0.29129,     0.29229,     0.29329,     0.29429,      0.2953,      0.2963,      0.2973,      0.2983,      0.2993,      0.3003,      0.3013,      0.3023,      0.3033,      0.3043,     0.30531,     0.30631,     0.30731,     0.30831,     0.30931,     0.31031,     0.31131,\n",
       "           0.31231,     0.31331,     0.31431,     0.31532,     0.31632,     0.31732,     0.31832,     0.31932,     0.32032,     0.32132,     0.32232,     0.32332,     0.32432,     0.32533,     0.32633,     0.32733,     0.32833,     0.32933,     0.33033,     0.33133,     0.33233,     0.33333,     0.33433,     0.33534,\n",
       "           0.33634,     0.33734,     0.33834,     0.33934,     0.34034,     0.34134,     0.34234,     0.34334,     0.34434,     0.34535,     0.34635,     0.34735,     0.34835,     0.34935,     0.35035,     0.35135,     0.35235,     0.35335,     0.35435,     0.35536,     0.35636,     0.35736,     0.35836,     0.35936,\n",
       "           0.36036,     0.36136,     0.36236,     0.36336,     0.36436,     0.36537,     0.36637,     0.36737,     0.36837,     0.36937,     0.37037,     0.37137,     0.37237,     0.37337,     0.37437,     0.37538,     0.37638,     0.37738,     0.37838,     0.37938,     0.38038,     0.38138,     0.38238,     0.38338,\n",
       "           0.38438,     0.38539,     0.38639,     0.38739,     0.38839,     0.38939,     0.39039,     0.39139,     0.39239,     0.39339,     0.39439,      0.3954,      0.3964,      0.3974,      0.3984,      0.3994,      0.4004,      0.4014,      0.4024,      0.4034,      0.4044,     0.40541,     0.40641,     0.40741,\n",
       "           0.40841,     0.40941,     0.41041,     0.41141,     0.41241,     0.41341,     0.41441,     0.41542,     0.41642,     0.41742,     0.41842,     0.41942,     0.42042,     0.42142,     0.42242,     0.42342,     0.42442,     0.42543,     0.42643,     0.42743,     0.42843,     0.42943,     0.43043,     0.43143,\n",
       "           0.43243,     0.43343,     0.43443,     0.43544,     0.43644,     0.43744,     0.43844,     0.43944,     0.44044,     0.44144,     0.44244,     0.44344,     0.44444,     0.44545,     0.44645,     0.44745,     0.44845,     0.44945,     0.45045,     0.45145,     0.45245,     0.45345,     0.45445,     0.45546,\n",
       "           0.45646,     0.45746,     0.45846,     0.45946,     0.46046,     0.46146,     0.46246,     0.46346,     0.46446,     0.46547,     0.46647,     0.46747,     0.46847,     0.46947,     0.47047,     0.47147,     0.47247,     0.47347,     0.47447,     0.47548,     0.47648,     0.47748,     0.47848,     0.47948,\n",
       "           0.48048,     0.48148,     0.48248,     0.48348,     0.48448,     0.48549,     0.48649,     0.48749,     0.48849,     0.48949,     0.49049,     0.49149,     0.49249,     0.49349,     0.49449,      0.4955,      0.4965,      0.4975,      0.4985,      0.4995,      0.5005,      0.5015,      0.5025,      0.5035,\n",
       "            0.5045,     0.50551,     0.50651,     0.50751,     0.50851,     0.50951,     0.51051,     0.51151,     0.51251,     0.51351,     0.51451,     0.51552,     0.51652,     0.51752,     0.51852,     0.51952,     0.52052,     0.52152,     0.52252,     0.52352,     0.52452,     0.52553,     0.52653,     0.52753,\n",
       "           0.52853,     0.52953,     0.53053,     0.53153,     0.53253,     0.53353,     0.53453,     0.53554,     0.53654,     0.53754,     0.53854,     0.53954,     0.54054,     0.54154,     0.54254,     0.54354,     0.54454,     0.54555,     0.54655,     0.54755,     0.54855,     0.54955,     0.55055,     0.55155,\n",
       "           0.55255,     0.55355,     0.55455,     0.55556,     0.55656,     0.55756,     0.55856,     0.55956,     0.56056,     0.56156,     0.56256,     0.56356,     0.56456,     0.56557,     0.56657,     0.56757,     0.56857,     0.56957,     0.57057,     0.57157,     0.57257,     0.57357,     0.57457,     0.57558,\n",
       "           0.57658,     0.57758,     0.57858,     0.57958,     0.58058,     0.58158,     0.58258,     0.58358,     0.58458,     0.58559,     0.58659,     0.58759,     0.58859,     0.58959,     0.59059,     0.59159,     0.59259,     0.59359,     0.59459,      0.5956,      0.5966,      0.5976,      0.5986,      0.5996,\n",
       "            0.6006,      0.6016,      0.6026,      0.6036,      0.6046,     0.60561,     0.60661,     0.60761,     0.60861,     0.60961,     0.61061,     0.61161,     0.61261,     0.61361,     0.61461,     0.61562,     0.61662,     0.61762,     0.61862,     0.61962,     0.62062,     0.62162,     0.62262,     0.62362,\n",
       "           0.62462,     0.62563,     0.62663,     0.62763,     0.62863,     0.62963,     0.63063,     0.63163,     0.63263,     0.63363,     0.63463,     0.63564,     0.63664,     0.63764,     0.63864,     0.63964,     0.64064,     0.64164,     0.64264,     0.64364,     0.64464,     0.64565,     0.64665,     0.64765,\n",
       "           0.64865,     0.64965,     0.65065,     0.65165,     0.65265,     0.65365,     0.65465,     0.65566,     0.65666,     0.65766,     0.65866,     0.65966,     0.66066,     0.66166,     0.66266,     0.66366,     0.66466,     0.66567,     0.66667,     0.66767,     0.66867,     0.66967,     0.67067,     0.67167,\n",
       "           0.67267,     0.67367,     0.67467,     0.67568,     0.67668,     0.67768,     0.67868,     0.67968,     0.68068,     0.68168,     0.68268,     0.68368,     0.68468,     0.68569,     0.68669,     0.68769,     0.68869,     0.68969,     0.69069,     0.69169,     0.69269,     0.69369,     0.69469,      0.6957,\n",
       "            0.6967,      0.6977,      0.6987,      0.6997,      0.7007,      0.7017,      0.7027,      0.7037,      0.7047,     0.70571,     0.70671,     0.70771,     0.70871,     0.70971,     0.71071,     0.71171,     0.71271,     0.71371,     0.71471,     0.71572,     0.71672,     0.71772,     0.71872,     0.71972,\n",
       "           0.72072,     0.72172,     0.72272,     0.72372,     0.72472,     0.72573,     0.72673,     0.72773,     0.72873,     0.72973,     0.73073,     0.73173,     0.73273,     0.73373,     0.73473,     0.73574,     0.73674,     0.73774,     0.73874,     0.73974,     0.74074,     0.74174,     0.74274,     0.74374,\n",
       "           0.74474,     0.74575,     0.74675,     0.74775,     0.74875,     0.74975,     0.75075,     0.75175,     0.75275,     0.75375,     0.75475,     0.75576,     0.75676,     0.75776,     0.75876,     0.75976,     0.76076,     0.76176,     0.76276,     0.76376,     0.76476,     0.76577,     0.76677,     0.76777,\n",
       "           0.76877,     0.76977,     0.77077,     0.77177,     0.77277,     0.77377,     0.77477,     0.77578,     0.77678,     0.77778,     0.77878,     0.77978,     0.78078,     0.78178,     0.78278,     0.78378,     0.78478,     0.78579,     0.78679,     0.78779,     0.78879,     0.78979,     0.79079,     0.79179,\n",
       "           0.79279,     0.79379,     0.79479,      0.7958,      0.7968,      0.7978,      0.7988,      0.7998,      0.8008,      0.8018,      0.8028,      0.8038,      0.8048,     0.80581,     0.80681,     0.80781,     0.80881,     0.80981,     0.81081,     0.81181,     0.81281,     0.81381,     0.81481,     0.81582,\n",
       "           0.81682,     0.81782,     0.81882,     0.81982,     0.82082,     0.82182,     0.82282,     0.82382,     0.82482,     0.82583,     0.82683,     0.82783,     0.82883,     0.82983,     0.83083,     0.83183,     0.83283,     0.83383,     0.83483,     0.83584,     0.83684,     0.83784,     0.83884,     0.83984,\n",
       "           0.84084,     0.84184,     0.84284,     0.84384,     0.84484,     0.84585,     0.84685,     0.84785,     0.84885,     0.84985,     0.85085,     0.85185,     0.85285,     0.85385,     0.85485,     0.85586,     0.85686,     0.85786,     0.85886,     0.85986,     0.86086,     0.86186,     0.86286,     0.86386,\n",
       "           0.86486,     0.86587,     0.86687,     0.86787,     0.86887,     0.86987,     0.87087,     0.87187,     0.87287,     0.87387,     0.87487,     0.87588,     0.87688,     0.87788,     0.87888,     0.87988,     0.88088,     0.88188,     0.88288,     0.88388,     0.88488,     0.88589,     0.88689,     0.88789,\n",
       "           0.88889,     0.88989,     0.89089,     0.89189,     0.89289,     0.89389,     0.89489,      0.8959,      0.8969,      0.8979,      0.8989,      0.8999,      0.9009,      0.9019,      0.9029,      0.9039,      0.9049,     0.90591,     0.90691,     0.90791,     0.90891,     0.90991,     0.91091,     0.91191,\n",
       "           0.91291,     0.91391,     0.91491,     0.91592,     0.91692,     0.91792,     0.91892,     0.91992,     0.92092,     0.92192,     0.92292,     0.92392,     0.92492,     0.92593,     0.92693,     0.92793,     0.92893,     0.92993,     0.93093,     0.93193,     0.93293,     0.93393,     0.93493,     0.93594,\n",
       "           0.93694,     0.93794,     0.93894,     0.93994,     0.94094,     0.94194,     0.94294,     0.94394,     0.94494,     0.94595,     0.94695,     0.94795,     0.94895,     0.94995,     0.95095,     0.95195,     0.95295,     0.95395,     0.95495,     0.95596,     0.95696,     0.95796,     0.95896,     0.95996,\n",
       "           0.96096,     0.96196,     0.96296,     0.96396,     0.96496,     0.96597,     0.96697,     0.96797,     0.96897,     0.96997,     0.97097,     0.97197,     0.97297,     0.97397,     0.97497,     0.97598,     0.97698,     0.97798,     0.97898,     0.97998,     0.98098,     0.98198,     0.98298,     0.98398,\n",
       "           0.98498,     0.98599,     0.98699,     0.98799,     0.98899,     0.98999,     0.99099,     0.99199,     0.99299,     0.99399,     0.99499,       0.996,       0.997,       0.998,       0.999,           1]), array([[    0.35714,     0.35714,     0.48997, ...,           0,           0,           0],\n",
       "       [   0.083333,    0.083333,      0.1021, ...,           0,           0,           0],\n",
       "       [     0.3125,      0.3125,     0.43087, ...,           0,           0,           0],\n",
       "       ...,\n",
       "       [        0.5,         0.5,     0.54115, ...,           0,           0,           0],\n",
       "       [     0.1875,      0.1875,     0.29447, ...,           0,           0,           0],\n",
       "       [    0.13333,     0.13333,     0.20157, ...,           0,           0,           0]]), 'Confidence', 'F1'], [array([          0,    0.001001,    0.002002,    0.003003,    0.004004,    0.005005,    0.006006,    0.007007,    0.008008,    0.009009,     0.01001,    0.011011,    0.012012,    0.013013,    0.014014,    0.015015,    0.016016,    0.017017,    0.018018,    0.019019,     0.02002,    0.021021,    0.022022,    0.023023,\n",
       "          0.024024,    0.025025,    0.026026,    0.027027,    0.028028,    0.029029,     0.03003,    0.031031,    0.032032,    0.033033,    0.034034,    0.035035,    0.036036,    0.037037,    0.038038,    0.039039,     0.04004,    0.041041,    0.042042,    0.043043,    0.044044,    0.045045,    0.046046,    0.047047,\n",
       "          0.048048,    0.049049,     0.05005,    0.051051,    0.052052,    0.053053,    0.054054,    0.055055,    0.056056,    0.057057,    0.058058,    0.059059,     0.06006,    0.061061,    0.062062,    0.063063,    0.064064,    0.065065,    0.066066,    0.067067,    0.068068,    0.069069,     0.07007,    0.071071,\n",
       "          0.072072,    0.073073,    0.074074,    0.075075,    0.076076,    0.077077,    0.078078,    0.079079,     0.08008,    0.081081,    0.082082,    0.083083,    0.084084,    0.085085,    0.086086,    0.087087,    0.088088,    0.089089,     0.09009,    0.091091,    0.092092,    0.093093,    0.094094,    0.095095,\n",
       "          0.096096,    0.097097,    0.098098,    0.099099,      0.1001,      0.1011,      0.1021,      0.1031,      0.1041,     0.10511,     0.10611,     0.10711,     0.10811,     0.10911,     0.11011,     0.11111,     0.11211,     0.11311,     0.11411,     0.11512,     0.11612,     0.11712,     0.11812,     0.11912,\n",
       "           0.12012,     0.12112,     0.12212,     0.12312,     0.12412,     0.12513,     0.12613,     0.12713,     0.12813,     0.12913,     0.13013,     0.13113,     0.13213,     0.13313,     0.13413,     0.13514,     0.13614,     0.13714,     0.13814,     0.13914,     0.14014,     0.14114,     0.14214,     0.14314,\n",
       "           0.14414,     0.14515,     0.14615,     0.14715,     0.14815,     0.14915,     0.15015,     0.15115,     0.15215,     0.15315,     0.15415,     0.15516,     0.15616,     0.15716,     0.15816,     0.15916,     0.16016,     0.16116,     0.16216,     0.16316,     0.16416,     0.16517,     0.16617,     0.16717,\n",
       "           0.16817,     0.16917,     0.17017,     0.17117,     0.17217,     0.17317,     0.17417,     0.17518,     0.17618,     0.17718,     0.17818,     0.17918,     0.18018,     0.18118,     0.18218,     0.18318,     0.18418,     0.18519,     0.18619,     0.18719,     0.18819,     0.18919,     0.19019,     0.19119,\n",
       "           0.19219,     0.19319,     0.19419,      0.1952,      0.1962,      0.1972,      0.1982,      0.1992,      0.2002,      0.2012,      0.2022,      0.2032,      0.2042,     0.20521,     0.20621,     0.20721,     0.20821,     0.20921,     0.21021,     0.21121,     0.21221,     0.21321,     0.21421,     0.21522,\n",
       "           0.21622,     0.21722,     0.21822,     0.21922,     0.22022,     0.22122,     0.22222,     0.22322,     0.22422,     0.22523,     0.22623,     0.22723,     0.22823,     0.22923,     0.23023,     0.23123,     0.23223,     0.23323,     0.23423,     0.23524,     0.23624,     0.23724,     0.23824,     0.23924,\n",
       "           0.24024,     0.24124,     0.24224,     0.24324,     0.24424,     0.24525,     0.24625,     0.24725,     0.24825,     0.24925,     0.25025,     0.25125,     0.25225,     0.25325,     0.25425,     0.25526,     0.25626,     0.25726,     0.25826,     0.25926,     0.26026,     0.26126,     0.26226,     0.26326,\n",
       "           0.26426,     0.26527,     0.26627,     0.26727,     0.26827,     0.26927,     0.27027,     0.27127,     0.27227,     0.27327,     0.27427,     0.27528,     0.27628,     0.27728,     0.27828,     0.27928,     0.28028,     0.28128,     0.28228,     0.28328,     0.28428,     0.28529,     0.28629,     0.28729,\n",
       "           0.28829,     0.28929,     0.29029,     0.29129,     0.29229,     0.29329,     0.29429,      0.2953,      0.2963,      0.2973,      0.2983,      0.2993,      0.3003,      0.3013,      0.3023,      0.3033,      0.3043,     0.30531,     0.30631,     0.30731,     0.30831,     0.30931,     0.31031,     0.31131,\n",
       "           0.31231,     0.31331,     0.31431,     0.31532,     0.31632,     0.31732,     0.31832,     0.31932,     0.32032,     0.32132,     0.32232,     0.32332,     0.32432,     0.32533,     0.32633,     0.32733,     0.32833,     0.32933,     0.33033,     0.33133,     0.33233,     0.33333,     0.33433,     0.33534,\n",
       "           0.33634,     0.33734,     0.33834,     0.33934,     0.34034,     0.34134,     0.34234,     0.34334,     0.34434,     0.34535,     0.34635,     0.34735,     0.34835,     0.34935,     0.35035,     0.35135,     0.35235,     0.35335,     0.35435,     0.35536,     0.35636,     0.35736,     0.35836,     0.35936,\n",
       "           0.36036,     0.36136,     0.36236,     0.36336,     0.36436,     0.36537,     0.36637,     0.36737,     0.36837,     0.36937,     0.37037,     0.37137,     0.37237,     0.37337,     0.37437,     0.37538,     0.37638,     0.37738,     0.37838,     0.37938,     0.38038,     0.38138,     0.38238,     0.38338,\n",
       "           0.38438,     0.38539,     0.38639,     0.38739,     0.38839,     0.38939,     0.39039,     0.39139,     0.39239,     0.39339,     0.39439,      0.3954,      0.3964,      0.3974,      0.3984,      0.3994,      0.4004,      0.4014,      0.4024,      0.4034,      0.4044,     0.40541,     0.40641,     0.40741,\n",
       "           0.40841,     0.40941,     0.41041,     0.41141,     0.41241,     0.41341,     0.41441,     0.41542,     0.41642,     0.41742,     0.41842,     0.41942,     0.42042,     0.42142,     0.42242,     0.42342,     0.42442,     0.42543,     0.42643,     0.42743,     0.42843,     0.42943,     0.43043,     0.43143,\n",
       "           0.43243,     0.43343,     0.43443,     0.43544,     0.43644,     0.43744,     0.43844,     0.43944,     0.44044,     0.44144,     0.44244,     0.44344,     0.44444,     0.44545,     0.44645,     0.44745,     0.44845,     0.44945,     0.45045,     0.45145,     0.45245,     0.45345,     0.45445,     0.45546,\n",
       "           0.45646,     0.45746,     0.45846,     0.45946,     0.46046,     0.46146,     0.46246,     0.46346,     0.46446,     0.46547,     0.46647,     0.46747,     0.46847,     0.46947,     0.47047,     0.47147,     0.47247,     0.47347,     0.47447,     0.47548,     0.47648,     0.47748,     0.47848,     0.47948,\n",
       "           0.48048,     0.48148,     0.48248,     0.48348,     0.48448,     0.48549,     0.48649,     0.48749,     0.48849,     0.48949,     0.49049,     0.49149,     0.49249,     0.49349,     0.49449,      0.4955,      0.4965,      0.4975,      0.4985,      0.4995,      0.5005,      0.5015,      0.5025,      0.5035,\n",
       "            0.5045,     0.50551,     0.50651,     0.50751,     0.50851,     0.50951,     0.51051,     0.51151,     0.51251,     0.51351,     0.51451,     0.51552,     0.51652,     0.51752,     0.51852,     0.51952,     0.52052,     0.52152,     0.52252,     0.52352,     0.52452,     0.52553,     0.52653,     0.52753,\n",
       "           0.52853,     0.52953,     0.53053,     0.53153,     0.53253,     0.53353,     0.53453,     0.53554,     0.53654,     0.53754,     0.53854,     0.53954,     0.54054,     0.54154,     0.54254,     0.54354,     0.54454,     0.54555,     0.54655,     0.54755,     0.54855,     0.54955,     0.55055,     0.55155,\n",
       "           0.55255,     0.55355,     0.55455,     0.55556,     0.55656,     0.55756,     0.55856,     0.55956,     0.56056,     0.56156,     0.56256,     0.56356,     0.56456,     0.56557,     0.56657,     0.56757,     0.56857,     0.56957,     0.57057,     0.57157,     0.57257,     0.57357,     0.57457,     0.57558,\n",
       "           0.57658,     0.57758,     0.57858,     0.57958,     0.58058,     0.58158,     0.58258,     0.58358,     0.58458,     0.58559,     0.58659,     0.58759,     0.58859,     0.58959,     0.59059,     0.59159,     0.59259,     0.59359,     0.59459,      0.5956,      0.5966,      0.5976,      0.5986,      0.5996,\n",
       "            0.6006,      0.6016,      0.6026,      0.6036,      0.6046,     0.60561,     0.60661,     0.60761,     0.60861,     0.60961,     0.61061,     0.61161,     0.61261,     0.61361,     0.61461,     0.61562,     0.61662,     0.61762,     0.61862,     0.61962,     0.62062,     0.62162,     0.62262,     0.62362,\n",
       "           0.62462,     0.62563,     0.62663,     0.62763,     0.62863,     0.62963,     0.63063,     0.63163,     0.63263,     0.63363,     0.63463,     0.63564,     0.63664,     0.63764,     0.63864,     0.63964,     0.64064,     0.64164,     0.64264,     0.64364,     0.64464,     0.64565,     0.64665,     0.64765,\n",
       "           0.64865,     0.64965,     0.65065,     0.65165,     0.65265,     0.65365,     0.65465,     0.65566,     0.65666,     0.65766,     0.65866,     0.65966,     0.66066,     0.66166,     0.66266,     0.66366,     0.66466,     0.66567,     0.66667,     0.66767,     0.66867,     0.66967,     0.67067,     0.67167,\n",
       "           0.67267,     0.67367,     0.67467,     0.67568,     0.67668,     0.67768,     0.67868,     0.67968,     0.68068,     0.68168,     0.68268,     0.68368,     0.68468,     0.68569,     0.68669,     0.68769,     0.68869,     0.68969,     0.69069,     0.69169,     0.69269,     0.69369,     0.69469,      0.6957,\n",
       "            0.6967,      0.6977,      0.6987,      0.6997,      0.7007,      0.7017,      0.7027,      0.7037,      0.7047,     0.70571,     0.70671,     0.70771,     0.70871,     0.70971,     0.71071,     0.71171,     0.71271,     0.71371,     0.71471,     0.71572,     0.71672,     0.71772,     0.71872,     0.71972,\n",
       "           0.72072,     0.72172,     0.72272,     0.72372,     0.72472,     0.72573,     0.72673,     0.72773,     0.72873,     0.72973,     0.73073,     0.73173,     0.73273,     0.73373,     0.73473,     0.73574,     0.73674,     0.73774,     0.73874,     0.73974,     0.74074,     0.74174,     0.74274,     0.74374,\n",
       "           0.74474,     0.74575,     0.74675,     0.74775,     0.74875,     0.74975,     0.75075,     0.75175,     0.75275,     0.75375,     0.75475,     0.75576,     0.75676,     0.75776,     0.75876,     0.75976,     0.76076,     0.76176,     0.76276,     0.76376,     0.76476,     0.76577,     0.76677,     0.76777,\n",
       "           0.76877,     0.76977,     0.77077,     0.77177,     0.77277,     0.77377,     0.77477,     0.77578,     0.77678,     0.77778,     0.77878,     0.77978,     0.78078,     0.78178,     0.78278,     0.78378,     0.78478,     0.78579,     0.78679,     0.78779,     0.78879,     0.78979,     0.79079,     0.79179,\n",
       "           0.79279,     0.79379,     0.79479,      0.7958,      0.7968,      0.7978,      0.7988,      0.7998,      0.8008,      0.8018,      0.8028,      0.8038,      0.8048,     0.80581,     0.80681,     0.80781,     0.80881,     0.80981,     0.81081,     0.81181,     0.81281,     0.81381,     0.81481,     0.81582,\n",
       "           0.81682,     0.81782,     0.81882,     0.81982,     0.82082,     0.82182,     0.82282,     0.82382,     0.82482,     0.82583,     0.82683,     0.82783,     0.82883,     0.82983,     0.83083,     0.83183,     0.83283,     0.83383,     0.83483,     0.83584,     0.83684,     0.83784,     0.83884,     0.83984,\n",
       "           0.84084,     0.84184,     0.84284,     0.84384,     0.84484,     0.84585,     0.84685,     0.84785,     0.84885,     0.84985,     0.85085,     0.85185,     0.85285,     0.85385,     0.85485,     0.85586,     0.85686,     0.85786,     0.85886,     0.85986,     0.86086,     0.86186,     0.86286,     0.86386,\n",
       "           0.86486,     0.86587,     0.86687,     0.86787,     0.86887,     0.86987,     0.87087,     0.87187,     0.87287,     0.87387,     0.87487,     0.87588,     0.87688,     0.87788,     0.87888,     0.87988,     0.88088,     0.88188,     0.88288,     0.88388,     0.88488,     0.88589,     0.88689,     0.88789,\n",
       "           0.88889,     0.88989,     0.89089,     0.89189,     0.89289,     0.89389,     0.89489,      0.8959,      0.8969,      0.8979,      0.8989,      0.8999,      0.9009,      0.9019,      0.9029,      0.9039,      0.9049,     0.90591,     0.90691,     0.90791,     0.90891,     0.90991,     0.91091,     0.91191,\n",
       "           0.91291,     0.91391,     0.91491,     0.91592,     0.91692,     0.91792,     0.91892,     0.91992,     0.92092,     0.92192,     0.92292,     0.92392,     0.92492,     0.92593,     0.92693,     0.92793,     0.92893,     0.92993,     0.93093,     0.93193,     0.93293,     0.93393,     0.93493,     0.93594,\n",
       "           0.93694,     0.93794,     0.93894,     0.93994,     0.94094,     0.94194,     0.94294,     0.94394,     0.94494,     0.94595,     0.94695,     0.94795,     0.94895,     0.94995,     0.95095,     0.95195,     0.95295,     0.95395,     0.95495,     0.95596,     0.95696,     0.95796,     0.95896,     0.95996,\n",
       "           0.96096,     0.96196,     0.96296,     0.96396,     0.96496,     0.96597,     0.96697,     0.96797,     0.96897,     0.96997,     0.97097,     0.97197,     0.97297,     0.97397,     0.97497,     0.97598,     0.97698,     0.97798,     0.97898,     0.97998,     0.98098,     0.98198,     0.98298,     0.98398,\n",
       "           0.98498,     0.98599,     0.98699,     0.98799,     0.98899,     0.98999,     0.99099,     0.99199,     0.99299,     0.99399,     0.99499,       0.996,       0.997,       0.998,       0.999,           1]), array([[    0.22727,     0.22727,     0.34699, ...,           1,           1,           1],\n",
       "       [   0.043478,    0.043478,    0.053795, ...,           1,           1,           1],\n",
       "       [    0.18519,     0.18519,     0.29483, ...,           1,           1,           1],\n",
       "       ...,\n",
       "       [    0.33333,     0.33333,     0.40067, ...,           1,           1,           1],\n",
       "       [    0.10345,     0.10345,     0.17265, ...,           1,           1,           1],\n",
       "       [   0.071429,    0.071429,     0.11208, ...,           1,           1,           1]]), 'Confidence', 'Precision'], [array([          0,    0.001001,    0.002002,    0.003003,    0.004004,    0.005005,    0.006006,    0.007007,    0.008008,    0.009009,     0.01001,    0.011011,    0.012012,    0.013013,    0.014014,    0.015015,    0.016016,    0.017017,    0.018018,    0.019019,     0.02002,    0.021021,    0.022022,    0.023023,\n",
       "          0.024024,    0.025025,    0.026026,    0.027027,    0.028028,    0.029029,     0.03003,    0.031031,    0.032032,    0.033033,    0.034034,    0.035035,    0.036036,    0.037037,    0.038038,    0.039039,     0.04004,    0.041041,    0.042042,    0.043043,    0.044044,    0.045045,    0.046046,    0.047047,\n",
       "          0.048048,    0.049049,     0.05005,    0.051051,    0.052052,    0.053053,    0.054054,    0.055055,    0.056056,    0.057057,    0.058058,    0.059059,     0.06006,    0.061061,    0.062062,    0.063063,    0.064064,    0.065065,    0.066066,    0.067067,    0.068068,    0.069069,     0.07007,    0.071071,\n",
       "          0.072072,    0.073073,    0.074074,    0.075075,    0.076076,    0.077077,    0.078078,    0.079079,     0.08008,    0.081081,    0.082082,    0.083083,    0.084084,    0.085085,    0.086086,    0.087087,    0.088088,    0.089089,     0.09009,    0.091091,    0.092092,    0.093093,    0.094094,    0.095095,\n",
       "          0.096096,    0.097097,    0.098098,    0.099099,      0.1001,      0.1011,      0.1021,      0.1031,      0.1041,     0.10511,     0.10611,     0.10711,     0.10811,     0.10911,     0.11011,     0.11111,     0.11211,     0.11311,     0.11411,     0.11512,     0.11612,     0.11712,     0.11812,     0.11912,\n",
       "           0.12012,     0.12112,     0.12212,     0.12312,     0.12412,     0.12513,     0.12613,     0.12713,     0.12813,     0.12913,     0.13013,     0.13113,     0.13213,     0.13313,     0.13413,     0.13514,     0.13614,     0.13714,     0.13814,     0.13914,     0.14014,     0.14114,     0.14214,     0.14314,\n",
       "           0.14414,     0.14515,     0.14615,     0.14715,     0.14815,     0.14915,     0.15015,     0.15115,     0.15215,     0.15315,     0.15415,     0.15516,     0.15616,     0.15716,     0.15816,     0.15916,     0.16016,     0.16116,     0.16216,     0.16316,     0.16416,     0.16517,     0.16617,     0.16717,\n",
       "           0.16817,     0.16917,     0.17017,     0.17117,     0.17217,     0.17317,     0.17417,     0.17518,     0.17618,     0.17718,     0.17818,     0.17918,     0.18018,     0.18118,     0.18218,     0.18318,     0.18418,     0.18519,     0.18619,     0.18719,     0.18819,     0.18919,     0.19019,     0.19119,\n",
       "           0.19219,     0.19319,     0.19419,      0.1952,      0.1962,      0.1972,      0.1982,      0.1992,      0.2002,      0.2012,      0.2022,      0.2032,      0.2042,     0.20521,     0.20621,     0.20721,     0.20821,     0.20921,     0.21021,     0.21121,     0.21221,     0.21321,     0.21421,     0.21522,\n",
       "           0.21622,     0.21722,     0.21822,     0.21922,     0.22022,     0.22122,     0.22222,     0.22322,     0.22422,     0.22523,     0.22623,     0.22723,     0.22823,     0.22923,     0.23023,     0.23123,     0.23223,     0.23323,     0.23423,     0.23524,     0.23624,     0.23724,     0.23824,     0.23924,\n",
       "           0.24024,     0.24124,     0.24224,     0.24324,     0.24424,     0.24525,     0.24625,     0.24725,     0.24825,     0.24925,     0.25025,     0.25125,     0.25225,     0.25325,     0.25425,     0.25526,     0.25626,     0.25726,     0.25826,     0.25926,     0.26026,     0.26126,     0.26226,     0.26326,\n",
       "           0.26426,     0.26527,     0.26627,     0.26727,     0.26827,     0.26927,     0.27027,     0.27127,     0.27227,     0.27327,     0.27427,     0.27528,     0.27628,     0.27728,     0.27828,     0.27928,     0.28028,     0.28128,     0.28228,     0.28328,     0.28428,     0.28529,     0.28629,     0.28729,\n",
       "           0.28829,     0.28929,     0.29029,     0.29129,     0.29229,     0.29329,     0.29429,      0.2953,      0.2963,      0.2973,      0.2983,      0.2993,      0.3003,      0.3013,      0.3023,      0.3033,      0.3043,     0.30531,     0.30631,     0.30731,     0.30831,     0.30931,     0.31031,     0.31131,\n",
       "           0.31231,     0.31331,     0.31431,     0.31532,     0.31632,     0.31732,     0.31832,     0.31932,     0.32032,     0.32132,     0.32232,     0.32332,     0.32432,     0.32533,     0.32633,     0.32733,     0.32833,     0.32933,     0.33033,     0.33133,     0.33233,     0.33333,     0.33433,     0.33534,\n",
       "           0.33634,     0.33734,     0.33834,     0.33934,     0.34034,     0.34134,     0.34234,     0.34334,     0.34434,     0.34535,     0.34635,     0.34735,     0.34835,     0.34935,     0.35035,     0.35135,     0.35235,     0.35335,     0.35435,     0.35536,     0.35636,     0.35736,     0.35836,     0.35936,\n",
       "           0.36036,     0.36136,     0.36236,     0.36336,     0.36436,     0.36537,     0.36637,     0.36737,     0.36837,     0.36937,     0.37037,     0.37137,     0.37237,     0.37337,     0.37437,     0.37538,     0.37638,     0.37738,     0.37838,     0.37938,     0.38038,     0.38138,     0.38238,     0.38338,\n",
       "           0.38438,     0.38539,     0.38639,     0.38739,     0.38839,     0.38939,     0.39039,     0.39139,     0.39239,     0.39339,     0.39439,      0.3954,      0.3964,      0.3974,      0.3984,      0.3994,      0.4004,      0.4014,      0.4024,      0.4034,      0.4044,     0.40541,     0.40641,     0.40741,\n",
       "           0.40841,     0.40941,     0.41041,     0.41141,     0.41241,     0.41341,     0.41441,     0.41542,     0.41642,     0.41742,     0.41842,     0.41942,     0.42042,     0.42142,     0.42242,     0.42342,     0.42442,     0.42543,     0.42643,     0.42743,     0.42843,     0.42943,     0.43043,     0.43143,\n",
       "           0.43243,     0.43343,     0.43443,     0.43544,     0.43644,     0.43744,     0.43844,     0.43944,     0.44044,     0.44144,     0.44244,     0.44344,     0.44444,     0.44545,     0.44645,     0.44745,     0.44845,     0.44945,     0.45045,     0.45145,     0.45245,     0.45345,     0.45445,     0.45546,\n",
       "           0.45646,     0.45746,     0.45846,     0.45946,     0.46046,     0.46146,     0.46246,     0.46346,     0.46446,     0.46547,     0.46647,     0.46747,     0.46847,     0.46947,     0.47047,     0.47147,     0.47247,     0.47347,     0.47447,     0.47548,     0.47648,     0.47748,     0.47848,     0.47948,\n",
       "           0.48048,     0.48148,     0.48248,     0.48348,     0.48448,     0.48549,     0.48649,     0.48749,     0.48849,     0.48949,     0.49049,     0.49149,     0.49249,     0.49349,     0.49449,      0.4955,      0.4965,      0.4975,      0.4985,      0.4995,      0.5005,      0.5015,      0.5025,      0.5035,\n",
       "            0.5045,     0.50551,     0.50651,     0.50751,     0.50851,     0.50951,     0.51051,     0.51151,     0.51251,     0.51351,     0.51451,     0.51552,     0.51652,     0.51752,     0.51852,     0.51952,     0.52052,     0.52152,     0.52252,     0.52352,     0.52452,     0.52553,     0.52653,     0.52753,\n",
       "           0.52853,     0.52953,     0.53053,     0.53153,     0.53253,     0.53353,     0.53453,     0.53554,     0.53654,     0.53754,     0.53854,     0.53954,     0.54054,     0.54154,     0.54254,     0.54354,     0.54454,     0.54555,     0.54655,     0.54755,     0.54855,     0.54955,     0.55055,     0.55155,\n",
       "           0.55255,     0.55355,     0.55455,     0.55556,     0.55656,     0.55756,     0.55856,     0.55956,     0.56056,     0.56156,     0.56256,     0.56356,     0.56456,     0.56557,     0.56657,     0.56757,     0.56857,     0.56957,     0.57057,     0.57157,     0.57257,     0.57357,     0.57457,     0.57558,\n",
       "           0.57658,     0.57758,     0.57858,     0.57958,     0.58058,     0.58158,     0.58258,     0.58358,     0.58458,     0.58559,     0.58659,     0.58759,     0.58859,     0.58959,     0.59059,     0.59159,     0.59259,     0.59359,     0.59459,      0.5956,      0.5966,      0.5976,      0.5986,      0.5996,\n",
       "            0.6006,      0.6016,      0.6026,      0.6036,      0.6046,     0.60561,     0.60661,     0.60761,     0.60861,     0.60961,     0.61061,     0.61161,     0.61261,     0.61361,     0.61461,     0.61562,     0.61662,     0.61762,     0.61862,     0.61962,     0.62062,     0.62162,     0.62262,     0.62362,\n",
       "           0.62462,     0.62563,     0.62663,     0.62763,     0.62863,     0.62963,     0.63063,     0.63163,     0.63263,     0.63363,     0.63463,     0.63564,     0.63664,     0.63764,     0.63864,     0.63964,     0.64064,     0.64164,     0.64264,     0.64364,     0.64464,     0.64565,     0.64665,     0.64765,\n",
       "           0.64865,     0.64965,     0.65065,     0.65165,     0.65265,     0.65365,     0.65465,     0.65566,     0.65666,     0.65766,     0.65866,     0.65966,     0.66066,     0.66166,     0.66266,     0.66366,     0.66466,     0.66567,     0.66667,     0.66767,     0.66867,     0.66967,     0.67067,     0.67167,\n",
       "           0.67267,     0.67367,     0.67467,     0.67568,     0.67668,     0.67768,     0.67868,     0.67968,     0.68068,     0.68168,     0.68268,     0.68368,     0.68468,     0.68569,     0.68669,     0.68769,     0.68869,     0.68969,     0.69069,     0.69169,     0.69269,     0.69369,     0.69469,      0.6957,\n",
       "            0.6967,      0.6977,      0.6987,      0.6997,      0.7007,      0.7017,      0.7027,      0.7037,      0.7047,     0.70571,     0.70671,     0.70771,     0.70871,     0.70971,     0.71071,     0.71171,     0.71271,     0.71371,     0.71471,     0.71572,     0.71672,     0.71772,     0.71872,     0.71972,\n",
       "           0.72072,     0.72172,     0.72272,     0.72372,     0.72472,     0.72573,     0.72673,     0.72773,     0.72873,     0.72973,     0.73073,     0.73173,     0.73273,     0.73373,     0.73473,     0.73574,     0.73674,     0.73774,     0.73874,     0.73974,     0.74074,     0.74174,     0.74274,     0.74374,\n",
       "           0.74474,     0.74575,     0.74675,     0.74775,     0.74875,     0.74975,     0.75075,     0.75175,     0.75275,     0.75375,     0.75475,     0.75576,     0.75676,     0.75776,     0.75876,     0.75976,     0.76076,     0.76176,     0.76276,     0.76376,     0.76476,     0.76577,     0.76677,     0.76777,\n",
       "           0.76877,     0.76977,     0.77077,     0.77177,     0.77277,     0.77377,     0.77477,     0.77578,     0.77678,     0.77778,     0.77878,     0.77978,     0.78078,     0.78178,     0.78278,     0.78378,     0.78478,     0.78579,     0.78679,     0.78779,     0.78879,     0.78979,     0.79079,     0.79179,\n",
       "           0.79279,     0.79379,     0.79479,      0.7958,      0.7968,      0.7978,      0.7988,      0.7998,      0.8008,      0.8018,      0.8028,      0.8038,      0.8048,     0.80581,     0.80681,     0.80781,     0.80881,     0.80981,     0.81081,     0.81181,     0.81281,     0.81381,     0.81481,     0.81582,\n",
       "           0.81682,     0.81782,     0.81882,     0.81982,     0.82082,     0.82182,     0.82282,     0.82382,     0.82482,     0.82583,     0.82683,     0.82783,     0.82883,     0.82983,     0.83083,     0.83183,     0.83283,     0.83383,     0.83483,     0.83584,     0.83684,     0.83784,     0.83884,     0.83984,\n",
       "           0.84084,     0.84184,     0.84284,     0.84384,     0.84484,     0.84585,     0.84685,     0.84785,     0.84885,     0.84985,     0.85085,     0.85185,     0.85285,     0.85385,     0.85485,     0.85586,     0.85686,     0.85786,     0.85886,     0.85986,     0.86086,     0.86186,     0.86286,     0.86386,\n",
       "           0.86486,     0.86587,     0.86687,     0.86787,     0.86887,     0.86987,     0.87087,     0.87187,     0.87287,     0.87387,     0.87487,     0.87588,     0.87688,     0.87788,     0.87888,     0.87988,     0.88088,     0.88188,     0.88288,     0.88388,     0.88488,     0.88589,     0.88689,     0.88789,\n",
       "           0.88889,     0.88989,     0.89089,     0.89189,     0.89289,     0.89389,     0.89489,      0.8959,      0.8969,      0.8979,      0.8989,      0.8999,      0.9009,      0.9019,      0.9029,      0.9039,      0.9049,     0.90591,     0.90691,     0.90791,     0.90891,     0.90991,     0.91091,     0.91191,\n",
       "           0.91291,     0.91391,     0.91491,     0.91592,     0.91692,     0.91792,     0.91892,     0.91992,     0.92092,     0.92192,     0.92292,     0.92392,     0.92492,     0.92593,     0.92693,     0.92793,     0.92893,     0.92993,     0.93093,     0.93193,     0.93293,     0.93393,     0.93493,     0.93594,\n",
       "           0.93694,     0.93794,     0.93894,     0.93994,     0.94094,     0.94194,     0.94294,     0.94394,     0.94494,     0.94595,     0.94695,     0.94795,     0.94895,     0.94995,     0.95095,     0.95195,     0.95295,     0.95395,     0.95495,     0.95596,     0.95696,     0.95796,     0.95896,     0.95996,\n",
       "           0.96096,     0.96196,     0.96296,     0.96396,     0.96496,     0.96597,     0.96697,     0.96797,     0.96897,     0.96997,     0.97097,     0.97197,     0.97297,     0.97397,     0.97497,     0.97598,     0.97698,     0.97798,     0.97898,     0.97998,     0.98098,     0.98198,     0.98298,     0.98398,\n",
       "           0.98498,     0.98599,     0.98699,     0.98799,     0.98899,     0.98999,     0.99099,     0.99199,     0.99299,     0.99399,     0.99499,       0.996,       0.997,       0.998,       0.999,           1]), array([[    0.83333,     0.83333,     0.83333, ...,           0,           0,           0],\n",
       "       [          1,           1,           1, ...,           0,           0,           0],\n",
       "       [          1,           1,         0.8, ...,           0,           0,           0],\n",
       "       ...,\n",
       "       [          1,           1,     0.83333, ...,           0,           0,           0],\n",
       "       [          1,           1,           1, ...,           0,           0,           0],\n",
       "       [          1,           1,           1, ...,           0,           0,           0]]), 'Confidence', 'Recall']]\n",
       "fitness: np.float64(0.6800154881456052)\n",
       "keys: ['metrics/precision(B)', 'metrics/recall(B)', 'metrics/mAP50(B)', 'metrics/mAP50-95(B)']\n",
       "maps: array([    0.50836,       0.796,      0.6742,     0.66503,     0.70507,      0.8955,     0.65111,     0.73513,     0.66503,     0.35485])\n",
       "names: {0: 'Kick Sauber', 1: 'Racing Bulls', 2: 'Alpine', 3: 'Aston Martin', 4: 'Ferarri', 5: 'Haas', 6: 'Mclaren', 7: 'Mercedes', 8: 'Red Bull', 9: 'Williams'}\n",
       "plot: True\n",
       "results_dict: {'metrics/precision(B)': np.float64(0.6528054826986828), 'metrics/recall(B)': np.float64(0.7953771295697929), 'metrics/mAP50(B)': np.float64(0.8149042541094171), 'metrics/mAP50-95(B)': np.float64(0.6650278474829594), 'fitness': np.float64(0.6800154881456052)}\n",
       "save_dir: WindowsPath('../f1-strategy/yolo-files/runs/train_optimized3')\n",
       "speed: {'preprocess': 0.25031566619873047, 'inference': 8.134627342224121, 'loss': 0.0, 'postprocess': 0.9579300880432129}\n",
       "task: 'detect'"
      ]
     },
     "execution_count": 4,
     "metadata": {},
     "output_type": "execute_result"
    }
   ],
   "source": [
    "# Cargar el modelo YOLOv8 Nano\n",
    "from torch.optim import Adam\n",
    "model = YOLO(\"yolov8m.pt\")\n",
    "\n",
    "\n",
    "# model.train(\n",
    "#     data=\"../f1-strategy/f1-dataset/data.yaml\",\n",
    "#     epochs=NUM_EPOCHS,\n",
    "#     batch=BATCH_SIZE,\n",
    "#     optimizer=\"SGD\",         # Puedes probar también con \"AdamW\" para un optimizador adaptativo\n",
    "#     lr0=LEARNING_RATE,\n",
    "#     momentum=0.9,\n",
    "#     warmup_epochs=5,         # Menos epochs de warmup para entrar más rápido en el entrenamiento efectivo\n",
    "#     weight_decay=0.0001,\n",
    "#     label_smoothing=0.1,\n",
    "#     degrees=15.0,            # Rotación máxima reducida a 15° para evitar transformaciones demasiado agresivas\n",
    "#     mixup=0.15,              # Mezcla de imágenes de forma moderada\n",
    "#     copy_paste=0.05,         # Menor intensidad para no alterar en exceso la composición real de la imagen\n",
    "#     hsv_h=0.015,             # Cambios sutiles en el tono para mantener la naturalidad\n",
    "#     box=7.5,\n",
    "#     cls=1.5,\n",
    "#     patience=10,             # Más paciencia para que el scheduler pueda adaptarse y reducir la lr si es necesario\n",
    "#     pretrained=True,\n",
    "#     project='../f1-strategy/yolo-files/runs',\n",
    "#     name='train_v1',\n",
    "# )\n",
    "\n",
    "\n",
    "# SOBREAJUSTE Y BAJO RECALL, NUEVO MODELO\n",
    "model.train(\n",
    "    data=\"../f1-strategy/f1-dataset/data.yaml\",\n",
    "    epochs=NUM_EPOCHS,\n",
    "    batch=BATCH_SIZE,\n",
    "    optimizer=\"SGD\",\n",
    "    lr0=LEARNING_RATE,\n",
    "    lrf=0.01,               # Factor LR final para scheduler cosine\n",
    "    cos_lr=True,            # Activar cosine annealing scheduler\n",
    "    momentum=0.9,\n",
    "    warmup_epochs=3,        # Warmup más corto\n",
    "    weight_decay=0.0005,    # Regularización aumentada\n",
    "\n",
    "    # Balanceo de clases y prevención de sobreajuste\n",
    "    box=7.5,                # Mayor peso en pérdida de detección de cajas\n",
    "    cls=2.5,                # Mayor peso para la pérdida de clasificación\n",
    "\n",
    "    # Data augmentation intensificado para mejorar generalización\n",
    "    mosaic=1.0,             # Máximo mosaico para objetos pequeños/distantes\n",
    "    mixup=0.2,              # Mezcla de imágenes moderada\n",
    "    copy_paste=0.1,         # Copiar-pegar para aumentar variabilidad\n",
    "    degrees=20.0,           # Más rotación para variabilidad\n",
    "    translate=0.2,          # Mayor traslación\n",
    "    scale=0.2,              # Escala para simular objetos de diferentes tamaños\n",
    "    shear=0.1,              # Distorsión ligera\n",
    "    perspective=0.0001,     # Ligero cambio de perspectiva\n",
    "    fliplr=0.5,             # Flip horizontal con 50% de probabilidad\n",
    "    flipud=0.05,            # Flip vertical ocasional\n",
    "    hsv_h=0.015,            # Cambios sutiles en colores\n",
    "    hsv_s=0.2,              # Mayor saturación para distinguir colores\n",
    "    hsv_v=0.1,              # Variación en brillo\n",
    "\n",
    "    # Parámetros de entrenamiento\n",
    "    patience=15,            # Más paciencia para el early stopping\n",
    "    verbose=True,\n",
    "    device=DEVICE,\n",
    "    pretrained=True,        # Usar pesos preentrenados\n",
    "    project='../f1-strategy/yolo-files/runs',\n",
    "    name='train_optimized',\n",
    "\n",
    "    # Guardar mejores modelos\n",
    "    save_period=5,          # Guardar cada 5 épocas\n",
    ")"
   ]
  },
  {
   "cell_type": "markdown",
   "metadata": {},
   "source": [
    "# Resultados con 200 imágenes\n",
    "\n",
    "### Model With this paremeters and no optimizer:\n",
    "\n",
    "#### Configuración del dispositivo (GPU o CPU)\n",
    "\n",
    "DEVICE = torch.device('cuda' if torch.cuda.is_available() else 'cpu')\n",
    "\n",
    "#### Parámetros del modelo y entrenamiento\n",
    "\n",
    "NUM_CLASSES = 10 # Número de equipos de F1\n",
    "BATCH_SIZE = 8\n",
    "NUM_WORKERS = 4\n",
    "NUM_EPOCHS = 10\n",
    "LEARNING_RATE = 0.005\n",
    "\n",
    "Mal rendimiento, pasando a nuevos valores y reentrenamiento.\n",
    "\n",
    "### Aun mal rendimiento, Pasando a un modelo mas complejo, del nano al m.\n",
    "\n",
    "### Nuevo modelo tras data augmentation\n",
    "\n",
    "Después de aumentar las imágenes a 200 por clase, rendimiento del 70% obtenido en todas las clases.\n",
    "Sí, recuerdo los resultados anteriores que compartiste. Por ejemplo, tenías:\n",
    "\n",
    "Métricas generales:\n",
    "\n",
    "mAP50: 0.772\n",
    "mAP50-95: 0.449\n",
    "Precisión (P): 0.733\n",
    "Recall (R): 0.615\n",
    "Clases problemáticas y sus mAP50:\n",
    "\n",
    "Williams: 0.487\n",
    "Kick Sauber: 0.619 (con un recall notablemente bajo, alrededor de 0.443)\n",
    "Alpine: 0.556\n",
    "Clases con buenos resultados:\n",
    "\n",
    "Racing Bulls y Haas: mAP50 > 0.99\n",
    "Mclaren y Mercedes: mAP50 > 0.88\n",
    "Tiempo de inferencia: 8.1 ms por imagen\n",
    "\n",
    "Williams y Sauber con muchos falsos positivos, por lo que:\n",
    "\n",
    "- Probamos con nuevos hiperparámetros y aumentamos las epocas.\n"
   ]
  },
  {
   "cell_type": "code",
   "execution_count": 5,
   "metadata": {},
   "outputs": [
    {
     "name": "stdout",
     "output_type": "stream",
     "text": [
      "Ultralytics 8.3.69  Python-3.10.16 torch-2.5.1+cu124 CUDA:0 (NVIDIA GeForce RTX 4060 Laptop GPU, 8188MiB)\n",
      "Model summary (fused): 218 layers, 25,845,550 parameters, 0 gradients, 78.7 GFLOPs\n"
     ]
    },
    {
     "name": "stderr",
     "output_type": "stream",
     "text": [
      "\u001b[34m\u001b[1mval: \u001b[0mScanning C:\\Users\\victo\\Desktop\\Documents\\Tercer año\\Segundo Cuatrimestre\\Finales\\f1-strategy\\f1-dataset\\valid\\labels.cache... 20 images, 0 backgrounds, 0 corrupt: 100%|██████████| 20/20 [00:00<?, ?it/s]\n",
      "                 Class     Images  Instances      Box(P          R      mAP50  mAP50-95): 100%|██████████| 3/3 [00:03<00:00,  1.20s/it]\n"
     ]
    },
    {
     "name": "stdout",
     "output_type": "stream",
     "text": [
      "                   all         20         29      0.654      0.794      0.815      0.661\n",
      "           Kick Sauber          4          6      0.794        0.5       0.71      0.508\n",
      "          Racing Bulls          1          1       0.47          1      0.995      0.796\n",
      "                Alpine          4          5      0.797      0.787      0.811      0.664\n",
      "               Ferarri          3          4      0.626       0.75      0.788      0.705\n",
      "                  Haas          1          1      0.476          1      0.995      0.895\n",
      "               Mclaren          5          6       0.81        0.5      0.775      0.641\n",
      "              Mercedes          3          3          1      0.813      0.995      0.735\n",
      "              Williams          2          3       0.26          1       0.45      0.341\n",
      "Speed: 2.7ms preprocess, 36.3ms inference, 0.0ms loss, 1.1ms postprocess per image\n",
      "Results saved to \u001b[1m..\\f1-strategy\\yolo-files\\runs\\train_optimized32\u001b[0m\n"
     ]
    },
    {
     "data": {
      "text/plain": [
       "ultralytics.utils.metrics.DetMetrics object with attributes:\n",
       "\n",
       "ap_class_index: array([0, 1, 2, 4, 5, 6, 7, 9])\n",
       "box: ultralytics.utils.metrics.Metric object\n",
       "confusion_matrix: <ultralytics.utils.metrics.ConfusionMatrix object at 0x000002102922D420>\n",
       "curves: ['Precision-Recall(B)', 'F1-Confidence(B)', 'Precision-Confidence(B)', 'Recall-Confidence(B)']\n",
       "curves_results: [[array([          0,    0.001001,    0.002002,    0.003003,    0.004004,    0.005005,    0.006006,    0.007007,    0.008008,    0.009009,     0.01001,    0.011011,    0.012012,    0.013013,    0.014014,    0.015015,    0.016016,    0.017017,    0.018018,    0.019019,     0.02002,    0.021021,    0.022022,    0.023023,\n",
       "          0.024024,    0.025025,    0.026026,    0.027027,    0.028028,    0.029029,     0.03003,    0.031031,    0.032032,    0.033033,    0.034034,    0.035035,    0.036036,    0.037037,    0.038038,    0.039039,     0.04004,    0.041041,    0.042042,    0.043043,    0.044044,    0.045045,    0.046046,    0.047047,\n",
       "          0.048048,    0.049049,     0.05005,    0.051051,    0.052052,    0.053053,    0.054054,    0.055055,    0.056056,    0.057057,    0.058058,    0.059059,     0.06006,    0.061061,    0.062062,    0.063063,    0.064064,    0.065065,    0.066066,    0.067067,    0.068068,    0.069069,     0.07007,    0.071071,\n",
       "          0.072072,    0.073073,    0.074074,    0.075075,    0.076076,    0.077077,    0.078078,    0.079079,     0.08008,    0.081081,    0.082082,    0.083083,    0.084084,    0.085085,    0.086086,    0.087087,    0.088088,    0.089089,     0.09009,    0.091091,    0.092092,    0.093093,    0.094094,    0.095095,\n",
       "          0.096096,    0.097097,    0.098098,    0.099099,      0.1001,      0.1011,      0.1021,      0.1031,      0.1041,     0.10511,     0.10611,     0.10711,     0.10811,     0.10911,     0.11011,     0.11111,     0.11211,     0.11311,     0.11411,     0.11512,     0.11612,     0.11712,     0.11812,     0.11912,\n",
       "           0.12012,     0.12112,     0.12212,     0.12312,     0.12412,     0.12513,     0.12613,     0.12713,     0.12813,     0.12913,     0.13013,     0.13113,     0.13213,     0.13313,     0.13413,     0.13514,     0.13614,     0.13714,     0.13814,     0.13914,     0.14014,     0.14114,     0.14214,     0.14314,\n",
       "           0.14414,     0.14515,     0.14615,     0.14715,     0.14815,     0.14915,     0.15015,     0.15115,     0.15215,     0.15315,     0.15415,     0.15516,     0.15616,     0.15716,     0.15816,     0.15916,     0.16016,     0.16116,     0.16216,     0.16316,     0.16416,     0.16517,     0.16617,     0.16717,\n",
       "           0.16817,     0.16917,     0.17017,     0.17117,     0.17217,     0.17317,     0.17417,     0.17518,     0.17618,     0.17718,     0.17818,     0.17918,     0.18018,     0.18118,     0.18218,     0.18318,     0.18418,     0.18519,     0.18619,     0.18719,     0.18819,     0.18919,     0.19019,     0.19119,\n",
       "           0.19219,     0.19319,     0.19419,      0.1952,      0.1962,      0.1972,      0.1982,      0.1992,      0.2002,      0.2012,      0.2022,      0.2032,      0.2042,     0.20521,     0.20621,     0.20721,     0.20821,     0.20921,     0.21021,     0.21121,     0.21221,     0.21321,     0.21421,     0.21522,\n",
       "           0.21622,     0.21722,     0.21822,     0.21922,     0.22022,     0.22122,     0.22222,     0.22322,     0.22422,     0.22523,     0.22623,     0.22723,     0.22823,     0.22923,     0.23023,     0.23123,     0.23223,     0.23323,     0.23423,     0.23524,     0.23624,     0.23724,     0.23824,     0.23924,\n",
       "           0.24024,     0.24124,     0.24224,     0.24324,     0.24424,     0.24525,     0.24625,     0.24725,     0.24825,     0.24925,     0.25025,     0.25125,     0.25225,     0.25325,     0.25425,     0.25526,     0.25626,     0.25726,     0.25826,     0.25926,     0.26026,     0.26126,     0.26226,     0.26326,\n",
       "           0.26426,     0.26527,     0.26627,     0.26727,     0.26827,     0.26927,     0.27027,     0.27127,     0.27227,     0.27327,     0.27427,     0.27528,     0.27628,     0.27728,     0.27828,     0.27928,     0.28028,     0.28128,     0.28228,     0.28328,     0.28428,     0.28529,     0.28629,     0.28729,\n",
       "           0.28829,     0.28929,     0.29029,     0.29129,     0.29229,     0.29329,     0.29429,      0.2953,      0.2963,      0.2973,      0.2983,      0.2993,      0.3003,      0.3013,      0.3023,      0.3033,      0.3043,     0.30531,     0.30631,     0.30731,     0.30831,     0.30931,     0.31031,     0.31131,\n",
       "           0.31231,     0.31331,     0.31431,     0.31532,     0.31632,     0.31732,     0.31832,     0.31932,     0.32032,     0.32132,     0.32232,     0.32332,     0.32432,     0.32533,     0.32633,     0.32733,     0.32833,     0.32933,     0.33033,     0.33133,     0.33233,     0.33333,     0.33433,     0.33534,\n",
       "           0.33634,     0.33734,     0.33834,     0.33934,     0.34034,     0.34134,     0.34234,     0.34334,     0.34434,     0.34535,     0.34635,     0.34735,     0.34835,     0.34935,     0.35035,     0.35135,     0.35235,     0.35335,     0.35435,     0.35536,     0.35636,     0.35736,     0.35836,     0.35936,\n",
       "           0.36036,     0.36136,     0.36236,     0.36336,     0.36436,     0.36537,     0.36637,     0.36737,     0.36837,     0.36937,     0.37037,     0.37137,     0.37237,     0.37337,     0.37437,     0.37538,     0.37638,     0.37738,     0.37838,     0.37938,     0.38038,     0.38138,     0.38238,     0.38338,\n",
       "           0.38438,     0.38539,     0.38639,     0.38739,     0.38839,     0.38939,     0.39039,     0.39139,     0.39239,     0.39339,     0.39439,      0.3954,      0.3964,      0.3974,      0.3984,      0.3994,      0.4004,      0.4014,      0.4024,      0.4034,      0.4044,     0.40541,     0.40641,     0.40741,\n",
       "           0.40841,     0.40941,     0.41041,     0.41141,     0.41241,     0.41341,     0.41441,     0.41542,     0.41642,     0.41742,     0.41842,     0.41942,     0.42042,     0.42142,     0.42242,     0.42342,     0.42442,     0.42543,     0.42643,     0.42743,     0.42843,     0.42943,     0.43043,     0.43143,\n",
       "           0.43243,     0.43343,     0.43443,     0.43544,     0.43644,     0.43744,     0.43844,     0.43944,     0.44044,     0.44144,     0.44244,     0.44344,     0.44444,     0.44545,     0.44645,     0.44745,     0.44845,     0.44945,     0.45045,     0.45145,     0.45245,     0.45345,     0.45445,     0.45546,\n",
       "           0.45646,     0.45746,     0.45846,     0.45946,     0.46046,     0.46146,     0.46246,     0.46346,     0.46446,     0.46547,     0.46647,     0.46747,     0.46847,     0.46947,     0.47047,     0.47147,     0.47247,     0.47347,     0.47447,     0.47548,     0.47648,     0.47748,     0.47848,     0.47948,\n",
       "           0.48048,     0.48148,     0.48248,     0.48348,     0.48448,     0.48549,     0.48649,     0.48749,     0.48849,     0.48949,     0.49049,     0.49149,     0.49249,     0.49349,     0.49449,      0.4955,      0.4965,      0.4975,      0.4985,      0.4995,      0.5005,      0.5015,      0.5025,      0.5035,\n",
       "            0.5045,     0.50551,     0.50651,     0.50751,     0.50851,     0.50951,     0.51051,     0.51151,     0.51251,     0.51351,     0.51451,     0.51552,     0.51652,     0.51752,     0.51852,     0.51952,     0.52052,     0.52152,     0.52252,     0.52352,     0.52452,     0.52553,     0.52653,     0.52753,\n",
       "           0.52853,     0.52953,     0.53053,     0.53153,     0.53253,     0.53353,     0.53453,     0.53554,     0.53654,     0.53754,     0.53854,     0.53954,     0.54054,     0.54154,     0.54254,     0.54354,     0.54454,     0.54555,     0.54655,     0.54755,     0.54855,     0.54955,     0.55055,     0.55155,\n",
       "           0.55255,     0.55355,     0.55455,     0.55556,     0.55656,     0.55756,     0.55856,     0.55956,     0.56056,     0.56156,     0.56256,     0.56356,     0.56456,     0.56557,     0.56657,     0.56757,     0.56857,     0.56957,     0.57057,     0.57157,     0.57257,     0.57357,     0.57457,     0.57558,\n",
       "           0.57658,     0.57758,     0.57858,     0.57958,     0.58058,     0.58158,     0.58258,     0.58358,     0.58458,     0.58559,     0.58659,     0.58759,     0.58859,     0.58959,     0.59059,     0.59159,     0.59259,     0.59359,     0.59459,      0.5956,      0.5966,      0.5976,      0.5986,      0.5996,\n",
       "            0.6006,      0.6016,      0.6026,      0.6036,      0.6046,     0.60561,     0.60661,     0.60761,     0.60861,     0.60961,     0.61061,     0.61161,     0.61261,     0.61361,     0.61461,     0.61562,     0.61662,     0.61762,     0.61862,     0.61962,     0.62062,     0.62162,     0.62262,     0.62362,\n",
       "           0.62462,     0.62563,     0.62663,     0.62763,     0.62863,     0.62963,     0.63063,     0.63163,     0.63263,     0.63363,     0.63463,     0.63564,     0.63664,     0.63764,     0.63864,     0.63964,     0.64064,     0.64164,     0.64264,     0.64364,     0.64464,     0.64565,     0.64665,     0.64765,\n",
       "           0.64865,     0.64965,     0.65065,     0.65165,     0.65265,     0.65365,     0.65465,     0.65566,     0.65666,     0.65766,     0.65866,     0.65966,     0.66066,     0.66166,     0.66266,     0.66366,     0.66466,     0.66567,     0.66667,     0.66767,     0.66867,     0.66967,     0.67067,     0.67167,\n",
       "           0.67267,     0.67367,     0.67467,     0.67568,     0.67668,     0.67768,     0.67868,     0.67968,     0.68068,     0.68168,     0.68268,     0.68368,     0.68468,     0.68569,     0.68669,     0.68769,     0.68869,     0.68969,     0.69069,     0.69169,     0.69269,     0.69369,     0.69469,      0.6957,\n",
       "            0.6967,      0.6977,      0.6987,      0.6997,      0.7007,      0.7017,      0.7027,      0.7037,      0.7047,     0.70571,     0.70671,     0.70771,     0.70871,     0.70971,     0.71071,     0.71171,     0.71271,     0.71371,     0.71471,     0.71572,     0.71672,     0.71772,     0.71872,     0.71972,\n",
       "           0.72072,     0.72172,     0.72272,     0.72372,     0.72472,     0.72573,     0.72673,     0.72773,     0.72873,     0.72973,     0.73073,     0.73173,     0.73273,     0.73373,     0.73473,     0.73574,     0.73674,     0.73774,     0.73874,     0.73974,     0.74074,     0.74174,     0.74274,     0.74374,\n",
       "           0.74474,     0.74575,     0.74675,     0.74775,     0.74875,     0.74975,     0.75075,     0.75175,     0.75275,     0.75375,     0.75475,     0.75576,     0.75676,     0.75776,     0.75876,     0.75976,     0.76076,     0.76176,     0.76276,     0.76376,     0.76476,     0.76577,     0.76677,     0.76777,\n",
       "           0.76877,     0.76977,     0.77077,     0.77177,     0.77277,     0.77377,     0.77477,     0.77578,     0.77678,     0.77778,     0.77878,     0.77978,     0.78078,     0.78178,     0.78278,     0.78378,     0.78478,     0.78579,     0.78679,     0.78779,     0.78879,     0.78979,     0.79079,     0.79179,\n",
       "           0.79279,     0.79379,     0.79479,      0.7958,      0.7968,      0.7978,      0.7988,      0.7998,      0.8008,      0.8018,      0.8028,      0.8038,      0.8048,     0.80581,     0.80681,     0.80781,     0.80881,     0.80981,     0.81081,     0.81181,     0.81281,     0.81381,     0.81481,     0.81582,\n",
       "           0.81682,     0.81782,     0.81882,     0.81982,     0.82082,     0.82182,     0.82282,     0.82382,     0.82482,     0.82583,     0.82683,     0.82783,     0.82883,     0.82983,     0.83083,     0.83183,     0.83283,     0.83383,     0.83483,     0.83584,     0.83684,     0.83784,     0.83884,     0.83984,\n",
       "           0.84084,     0.84184,     0.84284,     0.84384,     0.84484,     0.84585,     0.84685,     0.84785,     0.84885,     0.84985,     0.85085,     0.85185,     0.85285,     0.85385,     0.85485,     0.85586,     0.85686,     0.85786,     0.85886,     0.85986,     0.86086,     0.86186,     0.86286,     0.86386,\n",
       "           0.86486,     0.86587,     0.86687,     0.86787,     0.86887,     0.86987,     0.87087,     0.87187,     0.87287,     0.87387,     0.87487,     0.87588,     0.87688,     0.87788,     0.87888,     0.87988,     0.88088,     0.88188,     0.88288,     0.88388,     0.88488,     0.88589,     0.88689,     0.88789,\n",
       "           0.88889,     0.88989,     0.89089,     0.89189,     0.89289,     0.89389,     0.89489,      0.8959,      0.8969,      0.8979,      0.8989,      0.8999,      0.9009,      0.9019,      0.9029,      0.9039,      0.9049,     0.90591,     0.90691,     0.90791,     0.90891,     0.90991,     0.91091,     0.91191,\n",
       "           0.91291,     0.91391,     0.91491,     0.91592,     0.91692,     0.91792,     0.91892,     0.91992,     0.92092,     0.92192,     0.92292,     0.92392,     0.92492,     0.92593,     0.92693,     0.92793,     0.92893,     0.92993,     0.93093,     0.93193,     0.93293,     0.93393,     0.93493,     0.93594,\n",
       "           0.93694,     0.93794,     0.93894,     0.93994,     0.94094,     0.94194,     0.94294,     0.94394,     0.94494,     0.94595,     0.94695,     0.94795,     0.94895,     0.94995,     0.95095,     0.95195,     0.95295,     0.95395,     0.95495,     0.95596,     0.95696,     0.95796,     0.95896,     0.95996,\n",
       "           0.96096,     0.96196,     0.96296,     0.96396,     0.96496,     0.96597,     0.96697,     0.96797,     0.96897,     0.96997,     0.97097,     0.97197,     0.97297,     0.97397,     0.97497,     0.97598,     0.97698,     0.97798,     0.97898,     0.97998,     0.98098,     0.98198,     0.98298,     0.98398,\n",
       "           0.98498,     0.98599,     0.98699,     0.98799,     0.98899,     0.98999,     0.99099,     0.99199,     0.99299,     0.99399,     0.99499,       0.996,       0.997,       0.998,       0.999,           1]), array([[          1,           1,           1, ...,     0.00273,    0.001365,           0],\n",
       "       [          1,           1,           1, ...,           1,           1,           0],\n",
       "       [          1,           1,           1, ...,     0.27778,     0.27778,           0],\n",
       "       ...,\n",
       "       [          1,           1,           1, ...,       0.375,       0.375,           0],\n",
       "       [          1,           1,           1, ...,           1,           1,           0],\n",
       "       [        0.5,         0.5,         0.5, ...,     0.42857,     0.42857,           0]]), 'Recall', 'Precision'], [array([          0,    0.001001,    0.002002,    0.003003,    0.004004,    0.005005,    0.006006,    0.007007,    0.008008,    0.009009,     0.01001,    0.011011,    0.012012,    0.013013,    0.014014,    0.015015,    0.016016,    0.017017,    0.018018,    0.019019,     0.02002,    0.021021,    0.022022,    0.023023,\n",
       "          0.024024,    0.025025,    0.026026,    0.027027,    0.028028,    0.029029,     0.03003,    0.031031,    0.032032,    0.033033,    0.034034,    0.035035,    0.036036,    0.037037,    0.038038,    0.039039,     0.04004,    0.041041,    0.042042,    0.043043,    0.044044,    0.045045,    0.046046,    0.047047,\n",
       "          0.048048,    0.049049,     0.05005,    0.051051,    0.052052,    0.053053,    0.054054,    0.055055,    0.056056,    0.057057,    0.058058,    0.059059,     0.06006,    0.061061,    0.062062,    0.063063,    0.064064,    0.065065,    0.066066,    0.067067,    0.068068,    0.069069,     0.07007,    0.071071,\n",
       "          0.072072,    0.073073,    0.074074,    0.075075,    0.076076,    0.077077,    0.078078,    0.079079,     0.08008,    0.081081,    0.082082,    0.083083,    0.084084,    0.085085,    0.086086,    0.087087,    0.088088,    0.089089,     0.09009,    0.091091,    0.092092,    0.093093,    0.094094,    0.095095,\n",
       "          0.096096,    0.097097,    0.098098,    0.099099,      0.1001,      0.1011,      0.1021,      0.1031,      0.1041,     0.10511,     0.10611,     0.10711,     0.10811,     0.10911,     0.11011,     0.11111,     0.11211,     0.11311,     0.11411,     0.11512,     0.11612,     0.11712,     0.11812,     0.11912,\n",
       "           0.12012,     0.12112,     0.12212,     0.12312,     0.12412,     0.12513,     0.12613,     0.12713,     0.12813,     0.12913,     0.13013,     0.13113,     0.13213,     0.13313,     0.13413,     0.13514,     0.13614,     0.13714,     0.13814,     0.13914,     0.14014,     0.14114,     0.14214,     0.14314,\n",
       "           0.14414,     0.14515,     0.14615,     0.14715,     0.14815,     0.14915,     0.15015,     0.15115,     0.15215,     0.15315,     0.15415,     0.15516,     0.15616,     0.15716,     0.15816,     0.15916,     0.16016,     0.16116,     0.16216,     0.16316,     0.16416,     0.16517,     0.16617,     0.16717,\n",
       "           0.16817,     0.16917,     0.17017,     0.17117,     0.17217,     0.17317,     0.17417,     0.17518,     0.17618,     0.17718,     0.17818,     0.17918,     0.18018,     0.18118,     0.18218,     0.18318,     0.18418,     0.18519,     0.18619,     0.18719,     0.18819,     0.18919,     0.19019,     0.19119,\n",
       "           0.19219,     0.19319,     0.19419,      0.1952,      0.1962,      0.1972,      0.1982,      0.1992,      0.2002,      0.2012,      0.2022,      0.2032,      0.2042,     0.20521,     0.20621,     0.20721,     0.20821,     0.20921,     0.21021,     0.21121,     0.21221,     0.21321,     0.21421,     0.21522,\n",
       "           0.21622,     0.21722,     0.21822,     0.21922,     0.22022,     0.22122,     0.22222,     0.22322,     0.22422,     0.22523,     0.22623,     0.22723,     0.22823,     0.22923,     0.23023,     0.23123,     0.23223,     0.23323,     0.23423,     0.23524,     0.23624,     0.23724,     0.23824,     0.23924,\n",
       "           0.24024,     0.24124,     0.24224,     0.24324,     0.24424,     0.24525,     0.24625,     0.24725,     0.24825,     0.24925,     0.25025,     0.25125,     0.25225,     0.25325,     0.25425,     0.25526,     0.25626,     0.25726,     0.25826,     0.25926,     0.26026,     0.26126,     0.26226,     0.26326,\n",
       "           0.26426,     0.26527,     0.26627,     0.26727,     0.26827,     0.26927,     0.27027,     0.27127,     0.27227,     0.27327,     0.27427,     0.27528,     0.27628,     0.27728,     0.27828,     0.27928,     0.28028,     0.28128,     0.28228,     0.28328,     0.28428,     0.28529,     0.28629,     0.28729,\n",
       "           0.28829,     0.28929,     0.29029,     0.29129,     0.29229,     0.29329,     0.29429,      0.2953,      0.2963,      0.2973,      0.2983,      0.2993,      0.3003,      0.3013,      0.3023,      0.3033,      0.3043,     0.30531,     0.30631,     0.30731,     0.30831,     0.30931,     0.31031,     0.31131,\n",
       "           0.31231,     0.31331,     0.31431,     0.31532,     0.31632,     0.31732,     0.31832,     0.31932,     0.32032,     0.32132,     0.32232,     0.32332,     0.32432,     0.32533,     0.32633,     0.32733,     0.32833,     0.32933,     0.33033,     0.33133,     0.33233,     0.33333,     0.33433,     0.33534,\n",
       "           0.33634,     0.33734,     0.33834,     0.33934,     0.34034,     0.34134,     0.34234,     0.34334,     0.34434,     0.34535,     0.34635,     0.34735,     0.34835,     0.34935,     0.35035,     0.35135,     0.35235,     0.35335,     0.35435,     0.35536,     0.35636,     0.35736,     0.35836,     0.35936,\n",
       "           0.36036,     0.36136,     0.36236,     0.36336,     0.36436,     0.36537,     0.36637,     0.36737,     0.36837,     0.36937,     0.37037,     0.37137,     0.37237,     0.37337,     0.37437,     0.37538,     0.37638,     0.37738,     0.37838,     0.37938,     0.38038,     0.38138,     0.38238,     0.38338,\n",
       "           0.38438,     0.38539,     0.38639,     0.38739,     0.38839,     0.38939,     0.39039,     0.39139,     0.39239,     0.39339,     0.39439,      0.3954,      0.3964,      0.3974,      0.3984,      0.3994,      0.4004,      0.4014,      0.4024,      0.4034,      0.4044,     0.40541,     0.40641,     0.40741,\n",
       "           0.40841,     0.40941,     0.41041,     0.41141,     0.41241,     0.41341,     0.41441,     0.41542,     0.41642,     0.41742,     0.41842,     0.41942,     0.42042,     0.42142,     0.42242,     0.42342,     0.42442,     0.42543,     0.42643,     0.42743,     0.42843,     0.42943,     0.43043,     0.43143,\n",
       "           0.43243,     0.43343,     0.43443,     0.43544,     0.43644,     0.43744,     0.43844,     0.43944,     0.44044,     0.44144,     0.44244,     0.44344,     0.44444,     0.44545,     0.44645,     0.44745,     0.44845,     0.44945,     0.45045,     0.45145,     0.45245,     0.45345,     0.45445,     0.45546,\n",
       "           0.45646,     0.45746,     0.45846,     0.45946,     0.46046,     0.46146,     0.46246,     0.46346,     0.46446,     0.46547,     0.46647,     0.46747,     0.46847,     0.46947,     0.47047,     0.47147,     0.47247,     0.47347,     0.47447,     0.47548,     0.47648,     0.47748,     0.47848,     0.47948,\n",
       "           0.48048,     0.48148,     0.48248,     0.48348,     0.48448,     0.48549,     0.48649,     0.48749,     0.48849,     0.48949,     0.49049,     0.49149,     0.49249,     0.49349,     0.49449,      0.4955,      0.4965,      0.4975,      0.4985,      0.4995,      0.5005,      0.5015,      0.5025,      0.5035,\n",
       "            0.5045,     0.50551,     0.50651,     0.50751,     0.50851,     0.50951,     0.51051,     0.51151,     0.51251,     0.51351,     0.51451,     0.51552,     0.51652,     0.51752,     0.51852,     0.51952,     0.52052,     0.52152,     0.52252,     0.52352,     0.52452,     0.52553,     0.52653,     0.52753,\n",
       "           0.52853,     0.52953,     0.53053,     0.53153,     0.53253,     0.53353,     0.53453,     0.53554,     0.53654,     0.53754,     0.53854,     0.53954,     0.54054,     0.54154,     0.54254,     0.54354,     0.54454,     0.54555,     0.54655,     0.54755,     0.54855,     0.54955,     0.55055,     0.55155,\n",
       "           0.55255,     0.55355,     0.55455,     0.55556,     0.55656,     0.55756,     0.55856,     0.55956,     0.56056,     0.56156,     0.56256,     0.56356,     0.56456,     0.56557,     0.56657,     0.56757,     0.56857,     0.56957,     0.57057,     0.57157,     0.57257,     0.57357,     0.57457,     0.57558,\n",
       "           0.57658,     0.57758,     0.57858,     0.57958,     0.58058,     0.58158,     0.58258,     0.58358,     0.58458,     0.58559,     0.58659,     0.58759,     0.58859,     0.58959,     0.59059,     0.59159,     0.59259,     0.59359,     0.59459,      0.5956,      0.5966,      0.5976,      0.5986,      0.5996,\n",
       "            0.6006,      0.6016,      0.6026,      0.6036,      0.6046,     0.60561,     0.60661,     0.60761,     0.60861,     0.60961,     0.61061,     0.61161,     0.61261,     0.61361,     0.61461,     0.61562,     0.61662,     0.61762,     0.61862,     0.61962,     0.62062,     0.62162,     0.62262,     0.62362,\n",
       "           0.62462,     0.62563,     0.62663,     0.62763,     0.62863,     0.62963,     0.63063,     0.63163,     0.63263,     0.63363,     0.63463,     0.63564,     0.63664,     0.63764,     0.63864,     0.63964,     0.64064,     0.64164,     0.64264,     0.64364,     0.64464,     0.64565,     0.64665,     0.64765,\n",
       "           0.64865,     0.64965,     0.65065,     0.65165,     0.65265,     0.65365,     0.65465,     0.65566,     0.65666,     0.65766,     0.65866,     0.65966,     0.66066,     0.66166,     0.66266,     0.66366,     0.66466,     0.66567,     0.66667,     0.66767,     0.66867,     0.66967,     0.67067,     0.67167,\n",
       "           0.67267,     0.67367,     0.67467,     0.67568,     0.67668,     0.67768,     0.67868,     0.67968,     0.68068,     0.68168,     0.68268,     0.68368,     0.68468,     0.68569,     0.68669,     0.68769,     0.68869,     0.68969,     0.69069,     0.69169,     0.69269,     0.69369,     0.69469,      0.6957,\n",
       "            0.6967,      0.6977,      0.6987,      0.6997,      0.7007,      0.7017,      0.7027,      0.7037,      0.7047,     0.70571,     0.70671,     0.70771,     0.70871,     0.70971,     0.71071,     0.71171,     0.71271,     0.71371,     0.71471,     0.71572,     0.71672,     0.71772,     0.71872,     0.71972,\n",
       "           0.72072,     0.72172,     0.72272,     0.72372,     0.72472,     0.72573,     0.72673,     0.72773,     0.72873,     0.72973,     0.73073,     0.73173,     0.73273,     0.73373,     0.73473,     0.73574,     0.73674,     0.73774,     0.73874,     0.73974,     0.74074,     0.74174,     0.74274,     0.74374,\n",
       "           0.74474,     0.74575,     0.74675,     0.74775,     0.74875,     0.74975,     0.75075,     0.75175,     0.75275,     0.75375,     0.75475,     0.75576,     0.75676,     0.75776,     0.75876,     0.75976,     0.76076,     0.76176,     0.76276,     0.76376,     0.76476,     0.76577,     0.76677,     0.76777,\n",
       "           0.76877,     0.76977,     0.77077,     0.77177,     0.77277,     0.77377,     0.77477,     0.77578,     0.77678,     0.77778,     0.77878,     0.77978,     0.78078,     0.78178,     0.78278,     0.78378,     0.78478,     0.78579,     0.78679,     0.78779,     0.78879,     0.78979,     0.79079,     0.79179,\n",
       "           0.79279,     0.79379,     0.79479,      0.7958,      0.7968,      0.7978,      0.7988,      0.7998,      0.8008,      0.8018,      0.8028,      0.8038,      0.8048,     0.80581,     0.80681,     0.80781,     0.80881,     0.80981,     0.81081,     0.81181,     0.81281,     0.81381,     0.81481,     0.81582,\n",
       "           0.81682,     0.81782,     0.81882,     0.81982,     0.82082,     0.82182,     0.82282,     0.82382,     0.82482,     0.82583,     0.82683,     0.82783,     0.82883,     0.82983,     0.83083,     0.83183,     0.83283,     0.83383,     0.83483,     0.83584,     0.83684,     0.83784,     0.83884,     0.83984,\n",
       "           0.84084,     0.84184,     0.84284,     0.84384,     0.84484,     0.84585,     0.84685,     0.84785,     0.84885,     0.84985,     0.85085,     0.85185,     0.85285,     0.85385,     0.85485,     0.85586,     0.85686,     0.85786,     0.85886,     0.85986,     0.86086,     0.86186,     0.86286,     0.86386,\n",
       "           0.86486,     0.86587,     0.86687,     0.86787,     0.86887,     0.86987,     0.87087,     0.87187,     0.87287,     0.87387,     0.87487,     0.87588,     0.87688,     0.87788,     0.87888,     0.87988,     0.88088,     0.88188,     0.88288,     0.88388,     0.88488,     0.88589,     0.88689,     0.88789,\n",
       "           0.88889,     0.88989,     0.89089,     0.89189,     0.89289,     0.89389,     0.89489,      0.8959,      0.8969,      0.8979,      0.8989,      0.8999,      0.9009,      0.9019,      0.9029,      0.9039,      0.9049,     0.90591,     0.90691,     0.90791,     0.90891,     0.90991,     0.91091,     0.91191,\n",
       "           0.91291,     0.91391,     0.91491,     0.91592,     0.91692,     0.91792,     0.91892,     0.91992,     0.92092,     0.92192,     0.92292,     0.92392,     0.92492,     0.92593,     0.92693,     0.92793,     0.92893,     0.92993,     0.93093,     0.93193,     0.93293,     0.93393,     0.93493,     0.93594,\n",
       "           0.93694,     0.93794,     0.93894,     0.93994,     0.94094,     0.94194,     0.94294,     0.94394,     0.94494,     0.94595,     0.94695,     0.94795,     0.94895,     0.94995,     0.95095,     0.95195,     0.95295,     0.95395,     0.95495,     0.95596,     0.95696,     0.95796,     0.95896,     0.95996,\n",
       "           0.96096,     0.96196,     0.96296,     0.96396,     0.96496,     0.96597,     0.96697,     0.96797,     0.96897,     0.96997,     0.97097,     0.97197,     0.97297,     0.97397,     0.97497,     0.97598,     0.97698,     0.97798,     0.97898,     0.97998,     0.98098,     0.98198,     0.98298,     0.98398,\n",
       "           0.98498,     0.98599,     0.98699,     0.98799,     0.98899,     0.98999,     0.99099,     0.99199,     0.99299,     0.99399,     0.99499,       0.996,       0.997,       0.998,       0.999,           1]), array([[    0.35714,     0.35714,     0.48957, ...,           0,           0,           0],\n",
       "       [   0.083333,    0.083333,     0.10188, ...,           0,           0,           0],\n",
       "       [    0.30303,     0.30309,     0.43242, ...,           0,           0,           0],\n",
       "       ...,\n",
       "       [        0.5,         0.5,     0.54108, ...,           0,           0,           0],\n",
       "       [     0.1875,      0.1875,     0.29465, ...,           0,           0,           0],\n",
       "       [    0.13333,     0.13333,     0.20196, ...,           0,           0,           0]]), 'Confidence', 'F1'], [array([          0,    0.001001,    0.002002,    0.003003,    0.004004,    0.005005,    0.006006,    0.007007,    0.008008,    0.009009,     0.01001,    0.011011,    0.012012,    0.013013,    0.014014,    0.015015,    0.016016,    0.017017,    0.018018,    0.019019,     0.02002,    0.021021,    0.022022,    0.023023,\n",
       "          0.024024,    0.025025,    0.026026,    0.027027,    0.028028,    0.029029,     0.03003,    0.031031,    0.032032,    0.033033,    0.034034,    0.035035,    0.036036,    0.037037,    0.038038,    0.039039,     0.04004,    0.041041,    0.042042,    0.043043,    0.044044,    0.045045,    0.046046,    0.047047,\n",
       "          0.048048,    0.049049,     0.05005,    0.051051,    0.052052,    0.053053,    0.054054,    0.055055,    0.056056,    0.057057,    0.058058,    0.059059,     0.06006,    0.061061,    0.062062,    0.063063,    0.064064,    0.065065,    0.066066,    0.067067,    0.068068,    0.069069,     0.07007,    0.071071,\n",
       "          0.072072,    0.073073,    0.074074,    0.075075,    0.076076,    0.077077,    0.078078,    0.079079,     0.08008,    0.081081,    0.082082,    0.083083,    0.084084,    0.085085,    0.086086,    0.087087,    0.088088,    0.089089,     0.09009,    0.091091,    0.092092,    0.093093,    0.094094,    0.095095,\n",
       "          0.096096,    0.097097,    0.098098,    0.099099,      0.1001,      0.1011,      0.1021,      0.1031,      0.1041,     0.10511,     0.10611,     0.10711,     0.10811,     0.10911,     0.11011,     0.11111,     0.11211,     0.11311,     0.11411,     0.11512,     0.11612,     0.11712,     0.11812,     0.11912,\n",
       "           0.12012,     0.12112,     0.12212,     0.12312,     0.12412,     0.12513,     0.12613,     0.12713,     0.12813,     0.12913,     0.13013,     0.13113,     0.13213,     0.13313,     0.13413,     0.13514,     0.13614,     0.13714,     0.13814,     0.13914,     0.14014,     0.14114,     0.14214,     0.14314,\n",
       "           0.14414,     0.14515,     0.14615,     0.14715,     0.14815,     0.14915,     0.15015,     0.15115,     0.15215,     0.15315,     0.15415,     0.15516,     0.15616,     0.15716,     0.15816,     0.15916,     0.16016,     0.16116,     0.16216,     0.16316,     0.16416,     0.16517,     0.16617,     0.16717,\n",
       "           0.16817,     0.16917,     0.17017,     0.17117,     0.17217,     0.17317,     0.17417,     0.17518,     0.17618,     0.17718,     0.17818,     0.17918,     0.18018,     0.18118,     0.18218,     0.18318,     0.18418,     0.18519,     0.18619,     0.18719,     0.18819,     0.18919,     0.19019,     0.19119,\n",
       "           0.19219,     0.19319,     0.19419,      0.1952,      0.1962,      0.1972,      0.1982,      0.1992,      0.2002,      0.2012,      0.2022,      0.2032,      0.2042,     0.20521,     0.20621,     0.20721,     0.20821,     0.20921,     0.21021,     0.21121,     0.21221,     0.21321,     0.21421,     0.21522,\n",
       "           0.21622,     0.21722,     0.21822,     0.21922,     0.22022,     0.22122,     0.22222,     0.22322,     0.22422,     0.22523,     0.22623,     0.22723,     0.22823,     0.22923,     0.23023,     0.23123,     0.23223,     0.23323,     0.23423,     0.23524,     0.23624,     0.23724,     0.23824,     0.23924,\n",
       "           0.24024,     0.24124,     0.24224,     0.24324,     0.24424,     0.24525,     0.24625,     0.24725,     0.24825,     0.24925,     0.25025,     0.25125,     0.25225,     0.25325,     0.25425,     0.25526,     0.25626,     0.25726,     0.25826,     0.25926,     0.26026,     0.26126,     0.26226,     0.26326,\n",
       "           0.26426,     0.26527,     0.26627,     0.26727,     0.26827,     0.26927,     0.27027,     0.27127,     0.27227,     0.27327,     0.27427,     0.27528,     0.27628,     0.27728,     0.27828,     0.27928,     0.28028,     0.28128,     0.28228,     0.28328,     0.28428,     0.28529,     0.28629,     0.28729,\n",
       "           0.28829,     0.28929,     0.29029,     0.29129,     0.29229,     0.29329,     0.29429,      0.2953,      0.2963,      0.2973,      0.2983,      0.2993,      0.3003,      0.3013,      0.3023,      0.3033,      0.3043,     0.30531,     0.30631,     0.30731,     0.30831,     0.30931,     0.31031,     0.31131,\n",
       "           0.31231,     0.31331,     0.31431,     0.31532,     0.31632,     0.31732,     0.31832,     0.31932,     0.32032,     0.32132,     0.32232,     0.32332,     0.32432,     0.32533,     0.32633,     0.32733,     0.32833,     0.32933,     0.33033,     0.33133,     0.33233,     0.33333,     0.33433,     0.33534,\n",
       "           0.33634,     0.33734,     0.33834,     0.33934,     0.34034,     0.34134,     0.34234,     0.34334,     0.34434,     0.34535,     0.34635,     0.34735,     0.34835,     0.34935,     0.35035,     0.35135,     0.35235,     0.35335,     0.35435,     0.35536,     0.35636,     0.35736,     0.35836,     0.35936,\n",
       "           0.36036,     0.36136,     0.36236,     0.36336,     0.36436,     0.36537,     0.36637,     0.36737,     0.36837,     0.36937,     0.37037,     0.37137,     0.37237,     0.37337,     0.37437,     0.37538,     0.37638,     0.37738,     0.37838,     0.37938,     0.38038,     0.38138,     0.38238,     0.38338,\n",
       "           0.38438,     0.38539,     0.38639,     0.38739,     0.38839,     0.38939,     0.39039,     0.39139,     0.39239,     0.39339,     0.39439,      0.3954,      0.3964,      0.3974,      0.3984,      0.3994,      0.4004,      0.4014,      0.4024,      0.4034,      0.4044,     0.40541,     0.40641,     0.40741,\n",
       "           0.40841,     0.40941,     0.41041,     0.41141,     0.41241,     0.41341,     0.41441,     0.41542,     0.41642,     0.41742,     0.41842,     0.41942,     0.42042,     0.42142,     0.42242,     0.42342,     0.42442,     0.42543,     0.42643,     0.42743,     0.42843,     0.42943,     0.43043,     0.43143,\n",
       "           0.43243,     0.43343,     0.43443,     0.43544,     0.43644,     0.43744,     0.43844,     0.43944,     0.44044,     0.44144,     0.44244,     0.44344,     0.44444,     0.44545,     0.44645,     0.44745,     0.44845,     0.44945,     0.45045,     0.45145,     0.45245,     0.45345,     0.45445,     0.45546,\n",
       "           0.45646,     0.45746,     0.45846,     0.45946,     0.46046,     0.46146,     0.46246,     0.46346,     0.46446,     0.46547,     0.46647,     0.46747,     0.46847,     0.46947,     0.47047,     0.47147,     0.47247,     0.47347,     0.47447,     0.47548,     0.47648,     0.47748,     0.47848,     0.47948,\n",
       "           0.48048,     0.48148,     0.48248,     0.48348,     0.48448,     0.48549,     0.48649,     0.48749,     0.48849,     0.48949,     0.49049,     0.49149,     0.49249,     0.49349,     0.49449,      0.4955,      0.4965,      0.4975,      0.4985,      0.4995,      0.5005,      0.5015,      0.5025,      0.5035,\n",
       "            0.5045,     0.50551,     0.50651,     0.50751,     0.50851,     0.50951,     0.51051,     0.51151,     0.51251,     0.51351,     0.51451,     0.51552,     0.51652,     0.51752,     0.51852,     0.51952,     0.52052,     0.52152,     0.52252,     0.52352,     0.52452,     0.52553,     0.52653,     0.52753,\n",
       "           0.52853,     0.52953,     0.53053,     0.53153,     0.53253,     0.53353,     0.53453,     0.53554,     0.53654,     0.53754,     0.53854,     0.53954,     0.54054,     0.54154,     0.54254,     0.54354,     0.54454,     0.54555,     0.54655,     0.54755,     0.54855,     0.54955,     0.55055,     0.55155,\n",
       "           0.55255,     0.55355,     0.55455,     0.55556,     0.55656,     0.55756,     0.55856,     0.55956,     0.56056,     0.56156,     0.56256,     0.56356,     0.56456,     0.56557,     0.56657,     0.56757,     0.56857,     0.56957,     0.57057,     0.57157,     0.57257,     0.57357,     0.57457,     0.57558,\n",
       "           0.57658,     0.57758,     0.57858,     0.57958,     0.58058,     0.58158,     0.58258,     0.58358,     0.58458,     0.58559,     0.58659,     0.58759,     0.58859,     0.58959,     0.59059,     0.59159,     0.59259,     0.59359,     0.59459,      0.5956,      0.5966,      0.5976,      0.5986,      0.5996,\n",
       "            0.6006,      0.6016,      0.6026,      0.6036,      0.6046,     0.60561,     0.60661,     0.60761,     0.60861,     0.60961,     0.61061,     0.61161,     0.61261,     0.61361,     0.61461,     0.61562,     0.61662,     0.61762,     0.61862,     0.61962,     0.62062,     0.62162,     0.62262,     0.62362,\n",
       "           0.62462,     0.62563,     0.62663,     0.62763,     0.62863,     0.62963,     0.63063,     0.63163,     0.63263,     0.63363,     0.63463,     0.63564,     0.63664,     0.63764,     0.63864,     0.63964,     0.64064,     0.64164,     0.64264,     0.64364,     0.64464,     0.64565,     0.64665,     0.64765,\n",
       "           0.64865,     0.64965,     0.65065,     0.65165,     0.65265,     0.65365,     0.65465,     0.65566,     0.65666,     0.65766,     0.65866,     0.65966,     0.66066,     0.66166,     0.66266,     0.66366,     0.66466,     0.66567,     0.66667,     0.66767,     0.66867,     0.66967,     0.67067,     0.67167,\n",
       "           0.67267,     0.67367,     0.67467,     0.67568,     0.67668,     0.67768,     0.67868,     0.67968,     0.68068,     0.68168,     0.68268,     0.68368,     0.68468,     0.68569,     0.68669,     0.68769,     0.68869,     0.68969,     0.69069,     0.69169,     0.69269,     0.69369,     0.69469,      0.6957,\n",
       "            0.6967,      0.6977,      0.6987,      0.6997,      0.7007,      0.7017,      0.7027,      0.7037,      0.7047,     0.70571,     0.70671,     0.70771,     0.70871,     0.70971,     0.71071,     0.71171,     0.71271,     0.71371,     0.71471,     0.71572,     0.71672,     0.71772,     0.71872,     0.71972,\n",
       "           0.72072,     0.72172,     0.72272,     0.72372,     0.72472,     0.72573,     0.72673,     0.72773,     0.72873,     0.72973,     0.73073,     0.73173,     0.73273,     0.73373,     0.73473,     0.73574,     0.73674,     0.73774,     0.73874,     0.73974,     0.74074,     0.74174,     0.74274,     0.74374,\n",
       "           0.74474,     0.74575,     0.74675,     0.74775,     0.74875,     0.74975,     0.75075,     0.75175,     0.75275,     0.75375,     0.75475,     0.75576,     0.75676,     0.75776,     0.75876,     0.75976,     0.76076,     0.76176,     0.76276,     0.76376,     0.76476,     0.76577,     0.76677,     0.76777,\n",
       "           0.76877,     0.76977,     0.77077,     0.77177,     0.77277,     0.77377,     0.77477,     0.77578,     0.77678,     0.77778,     0.77878,     0.77978,     0.78078,     0.78178,     0.78278,     0.78378,     0.78478,     0.78579,     0.78679,     0.78779,     0.78879,     0.78979,     0.79079,     0.79179,\n",
       "           0.79279,     0.79379,     0.79479,      0.7958,      0.7968,      0.7978,      0.7988,      0.7998,      0.8008,      0.8018,      0.8028,      0.8038,      0.8048,     0.80581,     0.80681,     0.80781,     0.80881,     0.80981,     0.81081,     0.81181,     0.81281,     0.81381,     0.81481,     0.81582,\n",
       "           0.81682,     0.81782,     0.81882,     0.81982,     0.82082,     0.82182,     0.82282,     0.82382,     0.82482,     0.82583,     0.82683,     0.82783,     0.82883,     0.82983,     0.83083,     0.83183,     0.83283,     0.83383,     0.83483,     0.83584,     0.83684,     0.83784,     0.83884,     0.83984,\n",
       "           0.84084,     0.84184,     0.84284,     0.84384,     0.84484,     0.84585,     0.84685,     0.84785,     0.84885,     0.84985,     0.85085,     0.85185,     0.85285,     0.85385,     0.85485,     0.85586,     0.85686,     0.85786,     0.85886,     0.85986,     0.86086,     0.86186,     0.86286,     0.86386,\n",
       "           0.86486,     0.86587,     0.86687,     0.86787,     0.86887,     0.86987,     0.87087,     0.87187,     0.87287,     0.87387,     0.87487,     0.87588,     0.87688,     0.87788,     0.87888,     0.87988,     0.88088,     0.88188,     0.88288,     0.88388,     0.88488,     0.88589,     0.88689,     0.88789,\n",
       "           0.88889,     0.88989,     0.89089,     0.89189,     0.89289,     0.89389,     0.89489,      0.8959,      0.8969,      0.8979,      0.8989,      0.8999,      0.9009,      0.9019,      0.9029,      0.9039,      0.9049,     0.90591,     0.90691,     0.90791,     0.90891,     0.90991,     0.91091,     0.91191,\n",
       "           0.91291,     0.91391,     0.91491,     0.91592,     0.91692,     0.91792,     0.91892,     0.91992,     0.92092,     0.92192,     0.92292,     0.92392,     0.92492,     0.92593,     0.92693,     0.92793,     0.92893,     0.92993,     0.93093,     0.93193,     0.93293,     0.93393,     0.93493,     0.93594,\n",
       "           0.93694,     0.93794,     0.93894,     0.93994,     0.94094,     0.94194,     0.94294,     0.94394,     0.94494,     0.94595,     0.94695,     0.94795,     0.94895,     0.94995,     0.95095,     0.95195,     0.95295,     0.95395,     0.95495,     0.95596,     0.95696,     0.95796,     0.95896,     0.95996,\n",
       "           0.96096,     0.96196,     0.96296,     0.96396,     0.96496,     0.96597,     0.96697,     0.96797,     0.96897,     0.96997,     0.97097,     0.97197,     0.97297,     0.97397,     0.97497,     0.97598,     0.97698,     0.97798,     0.97898,     0.97998,     0.98098,     0.98198,     0.98298,     0.98398,\n",
       "           0.98498,     0.98599,     0.98699,     0.98799,     0.98899,     0.98999,     0.99099,     0.99199,     0.99299,     0.99399,     0.99499,       0.996,       0.997,       0.998,       0.999,           1]), array([[    0.22727,     0.22727,     0.34659, ...,           1,           1,           1],\n",
       "       [   0.043478,    0.043478,    0.053675, ...,           1,           1,           1],\n",
       "       [    0.17857,     0.17861,     0.29628, ...,           1,           1,           1],\n",
       "       ...,\n",
       "       [    0.33333,     0.33333,     0.40059, ...,           1,           1,           1],\n",
       "       [    0.10345,     0.10345,     0.17278, ...,           1,           1,           1],\n",
       "       [   0.071429,    0.071429,     0.11232, ...,           1,           1,           1]]), 'Confidence', 'Precision'], [array([          0,    0.001001,    0.002002,    0.003003,    0.004004,    0.005005,    0.006006,    0.007007,    0.008008,    0.009009,     0.01001,    0.011011,    0.012012,    0.013013,    0.014014,    0.015015,    0.016016,    0.017017,    0.018018,    0.019019,     0.02002,    0.021021,    0.022022,    0.023023,\n",
       "          0.024024,    0.025025,    0.026026,    0.027027,    0.028028,    0.029029,     0.03003,    0.031031,    0.032032,    0.033033,    0.034034,    0.035035,    0.036036,    0.037037,    0.038038,    0.039039,     0.04004,    0.041041,    0.042042,    0.043043,    0.044044,    0.045045,    0.046046,    0.047047,\n",
       "          0.048048,    0.049049,     0.05005,    0.051051,    0.052052,    0.053053,    0.054054,    0.055055,    0.056056,    0.057057,    0.058058,    0.059059,     0.06006,    0.061061,    0.062062,    0.063063,    0.064064,    0.065065,    0.066066,    0.067067,    0.068068,    0.069069,     0.07007,    0.071071,\n",
       "          0.072072,    0.073073,    0.074074,    0.075075,    0.076076,    0.077077,    0.078078,    0.079079,     0.08008,    0.081081,    0.082082,    0.083083,    0.084084,    0.085085,    0.086086,    0.087087,    0.088088,    0.089089,     0.09009,    0.091091,    0.092092,    0.093093,    0.094094,    0.095095,\n",
       "          0.096096,    0.097097,    0.098098,    0.099099,      0.1001,      0.1011,      0.1021,      0.1031,      0.1041,     0.10511,     0.10611,     0.10711,     0.10811,     0.10911,     0.11011,     0.11111,     0.11211,     0.11311,     0.11411,     0.11512,     0.11612,     0.11712,     0.11812,     0.11912,\n",
       "           0.12012,     0.12112,     0.12212,     0.12312,     0.12412,     0.12513,     0.12613,     0.12713,     0.12813,     0.12913,     0.13013,     0.13113,     0.13213,     0.13313,     0.13413,     0.13514,     0.13614,     0.13714,     0.13814,     0.13914,     0.14014,     0.14114,     0.14214,     0.14314,\n",
       "           0.14414,     0.14515,     0.14615,     0.14715,     0.14815,     0.14915,     0.15015,     0.15115,     0.15215,     0.15315,     0.15415,     0.15516,     0.15616,     0.15716,     0.15816,     0.15916,     0.16016,     0.16116,     0.16216,     0.16316,     0.16416,     0.16517,     0.16617,     0.16717,\n",
       "           0.16817,     0.16917,     0.17017,     0.17117,     0.17217,     0.17317,     0.17417,     0.17518,     0.17618,     0.17718,     0.17818,     0.17918,     0.18018,     0.18118,     0.18218,     0.18318,     0.18418,     0.18519,     0.18619,     0.18719,     0.18819,     0.18919,     0.19019,     0.19119,\n",
       "           0.19219,     0.19319,     0.19419,      0.1952,      0.1962,      0.1972,      0.1982,      0.1992,      0.2002,      0.2012,      0.2022,      0.2032,      0.2042,     0.20521,     0.20621,     0.20721,     0.20821,     0.20921,     0.21021,     0.21121,     0.21221,     0.21321,     0.21421,     0.21522,\n",
       "           0.21622,     0.21722,     0.21822,     0.21922,     0.22022,     0.22122,     0.22222,     0.22322,     0.22422,     0.22523,     0.22623,     0.22723,     0.22823,     0.22923,     0.23023,     0.23123,     0.23223,     0.23323,     0.23423,     0.23524,     0.23624,     0.23724,     0.23824,     0.23924,\n",
       "           0.24024,     0.24124,     0.24224,     0.24324,     0.24424,     0.24525,     0.24625,     0.24725,     0.24825,     0.24925,     0.25025,     0.25125,     0.25225,     0.25325,     0.25425,     0.25526,     0.25626,     0.25726,     0.25826,     0.25926,     0.26026,     0.26126,     0.26226,     0.26326,\n",
       "           0.26426,     0.26527,     0.26627,     0.26727,     0.26827,     0.26927,     0.27027,     0.27127,     0.27227,     0.27327,     0.27427,     0.27528,     0.27628,     0.27728,     0.27828,     0.27928,     0.28028,     0.28128,     0.28228,     0.28328,     0.28428,     0.28529,     0.28629,     0.28729,\n",
       "           0.28829,     0.28929,     0.29029,     0.29129,     0.29229,     0.29329,     0.29429,      0.2953,      0.2963,      0.2973,      0.2983,      0.2993,      0.3003,      0.3013,      0.3023,      0.3033,      0.3043,     0.30531,     0.30631,     0.30731,     0.30831,     0.30931,     0.31031,     0.31131,\n",
       "           0.31231,     0.31331,     0.31431,     0.31532,     0.31632,     0.31732,     0.31832,     0.31932,     0.32032,     0.32132,     0.32232,     0.32332,     0.32432,     0.32533,     0.32633,     0.32733,     0.32833,     0.32933,     0.33033,     0.33133,     0.33233,     0.33333,     0.33433,     0.33534,\n",
       "           0.33634,     0.33734,     0.33834,     0.33934,     0.34034,     0.34134,     0.34234,     0.34334,     0.34434,     0.34535,     0.34635,     0.34735,     0.34835,     0.34935,     0.35035,     0.35135,     0.35235,     0.35335,     0.35435,     0.35536,     0.35636,     0.35736,     0.35836,     0.35936,\n",
       "           0.36036,     0.36136,     0.36236,     0.36336,     0.36436,     0.36537,     0.36637,     0.36737,     0.36837,     0.36937,     0.37037,     0.37137,     0.37237,     0.37337,     0.37437,     0.37538,     0.37638,     0.37738,     0.37838,     0.37938,     0.38038,     0.38138,     0.38238,     0.38338,\n",
       "           0.38438,     0.38539,     0.38639,     0.38739,     0.38839,     0.38939,     0.39039,     0.39139,     0.39239,     0.39339,     0.39439,      0.3954,      0.3964,      0.3974,      0.3984,      0.3994,      0.4004,      0.4014,      0.4024,      0.4034,      0.4044,     0.40541,     0.40641,     0.40741,\n",
       "           0.40841,     0.40941,     0.41041,     0.41141,     0.41241,     0.41341,     0.41441,     0.41542,     0.41642,     0.41742,     0.41842,     0.41942,     0.42042,     0.42142,     0.42242,     0.42342,     0.42442,     0.42543,     0.42643,     0.42743,     0.42843,     0.42943,     0.43043,     0.43143,\n",
       "           0.43243,     0.43343,     0.43443,     0.43544,     0.43644,     0.43744,     0.43844,     0.43944,     0.44044,     0.44144,     0.44244,     0.44344,     0.44444,     0.44545,     0.44645,     0.44745,     0.44845,     0.44945,     0.45045,     0.45145,     0.45245,     0.45345,     0.45445,     0.45546,\n",
       "           0.45646,     0.45746,     0.45846,     0.45946,     0.46046,     0.46146,     0.46246,     0.46346,     0.46446,     0.46547,     0.46647,     0.46747,     0.46847,     0.46947,     0.47047,     0.47147,     0.47247,     0.47347,     0.47447,     0.47548,     0.47648,     0.47748,     0.47848,     0.47948,\n",
       "           0.48048,     0.48148,     0.48248,     0.48348,     0.48448,     0.48549,     0.48649,     0.48749,     0.48849,     0.48949,     0.49049,     0.49149,     0.49249,     0.49349,     0.49449,      0.4955,      0.4965,      0.4975,      0.4985,      0.4995,      0.5005,      0.5015,      0.5025,      0.5035,\n",
       "            0.5045,     0.50551,     0.50651,     0.50751,     0.50851,     0.50951,     0.51051,     0.51151,     0.51251,     0.51351,     0.51451,     0.51552,     0.51652,     0.51752,     0.51852,     0.51952,     0.52052,     0.52152,     0.52252,     0.52352,     0.52452,     0.52553,     0.52653,     0.52753,\n",
       "           0.52853,     0.52953,     0.53053,     0.53153,     0.53253,     0.53353,     0.53453,     0.53554,     0.53654,     0.53754,     0.53854,     0.53954,     0.54054,     0.54154,     0.54254,     0.54354,     0.54454,     0.54555,     0.54655,     0.54755,     0.54855,     0.54955,     0.55055,     0.55155,\n",
       "           0.55255,     0.55355,     0.55455,     0.55556,     0.55656,     0.55756,     0.55856,     0.55956,     0.56056,     0.56156,     0.56256,     0.56356,     0.56456,     0.56557,     0.56657,     0.56757,     0.56857,     0.56957,     0.57057,     0.57157,     0.57257,     0.57357,     0.57457,     0.57558,\n",
       "           0.57658,     0.57758,     0.57858,     0.57958,     0.58058,     0.58158,     0.58258,     0.58358,     0.58458,     0.58559,     0.58659,     0.58759,     0.58859,     0.58959,     0.59059,     0.59159,     0.59259,     0.59359,     0.59459,      0.5956,      0.5966,      0.5976,      0.5986,      0.5996,\n",
       "            0.6006,      0.6016,      0.6026,      0.6036,      0.6046,     0.60561,     0.60661,     0.60761,     0.60861,     0.60961,     0.61061,     0.61161,     0.61261,     0.61361,     0.61461,     0.61562,     0.61662,     0.61762,     0.61862,     0.61962,     0.62062,     0.62162,     0.62262,     0.62362,\n",
       "           0.62462,     0.62563,     0.62663,     0.62763,     0.62863,     0.62963,     0.63063,     0.63163,     0.63263,     0.63363,     0.63463,     0.63564,     0.63664,     0.63764,     0.63864,     0.63964,     0.64064,     0.64164,     0.64264,     0.64364,     0.64464,     0.64565,     0.64665,     0.64765,\n",
       "           0.64865,     0.64965,     0.65065,     0.65165,     0.65265,     0.65365,     0.65465,     0.65566,     0.65666,     0.65766,     0.65866,     0.65966,     0.66066,     0.66166,     0.66266,     0.66366,     0.66466,     0.66567,     0.66667,     0.66767,     0.66867,     0.66967,     0.67067,     0.67167,\n",
       "           0.67267,     0.67367,     0.67467,     0.67568,     0.67668,     0.67768,     0.67868,     0.67968,     0.68068,     0.68168,     0.68268,     0.68368,     0.68468,     0.68569,     0.68669,     0.68769,     0.68869,     0.68969,     0.69069,     0.69169,     0.69269,     0.69369,     0.69469,      0.6957,\n",
       "            0.6967,      0.6977,      0.6987,      0.6997,      0.7007,      0.7017,      0.7027,      0.7037,      0.7047,     0.70571,     0.70671,     0.70771,     0.70871,     0.70971,     0.71071,     0.71171,     0.71271,     0.71371,     0.71471,     0.71572,     0.71672,     0.71772,     0.71872,     0.71972,\n",
       "           0.72072,     0.72172,     0.72272,     0.72372,     0.72472,     0.72573,     0.72673,     0.72773,     0.72873,     0.72973,     0.73073,     0.73173,     0.73273,     0.73373,     0.73473,     0.73574,     0.73674,     0.73774,     0.73874,     0.73974,     0.74074,     0.74174,     0.74274,     0.74374,\n",
       "           0.74474,     0.74575,     0.74675,     0.74775,     0.74875,     0.74975,     0.75075,     0.75175,     0.75275,     0.75375,     0.75475,     0.75576,     0.75676,     0.75776,     0.75876,     0.75976,     0.76076,     0.76176,     0.76276,     0.76376,     0.76476,     0.76577,     0.76677,     0.76777,\n",
       "           0.76877,     0.76977,     0.77077,     0.77177,     0.77277,     0.77377,     0.77477,     0.77578,     0.77678,     0.77778,     0.77878,     0.77978,     0.78078,     0.78178,     0.78278,     0.78378,     0.78478,     0.78579,     0.78679,     0.78779,     0.78879,     0.78979,     0.79079,     0.79179,\n",
       "           0.79279,     0.79379,     0.79479,      0.7958,      0.7968,      0.7978,      0.7988,      0.7998,      0.8008,      0.8018,      0.8028,      0.8038,      0.8048,     0.80581,     0.80681,     0.80781,     0.80881,     0.80981,     0.81081,     0.81181,     0.81281,     0.81381,     0.81481,     0.81582,\n",
       "           0.81682,     0.81782,     0.81882,     0.81982,     0.82082,     0.82182,     0.82282,     0.82382,     0.82482,     0.82583,     0.82683,     0.82783,     0.82883,     0.82983,     0.83083,     0.83183,     0.83283,     0.83383,     0.83483,     0.83584,     0.83684,     0.83784,     0.83884,     0.83984,\n",
       "           0.84084,     0.84184,     0.84284,     0.84384,     0.84484,     0.84585,     0.84685,     0.84785,     0.84885,     0.84985,     0.85085,     0.85185,     0.85285,     0.85385,     0.85485,     0.85586,     0.85686,     0.85786,     0.85886,     0.85986,     0.86086,     0.86186,     0.86286,     0.86386,\n",
       "           0.86486,     0.86587,     0.86687,     0.86787,     0.86887,     0.86987,     0.87087,     0.87187,     0.87287,     0.87387,     0.87487,     0.87588,     0.87688,     0.87788,     0.87888,     0.87988,     0.88088,     0.88188,     0.88288,     0.88388,     0.88488,     0.88589,     0.88689,     0.88789,\n",
       "           0.88889,     0.88989,     0.89089,     0.89189,     0.89289,     0.89389,     0.89489,      0.8959,      0.8969,      0.8979,      0.8989,      0.8999,      0.9009,      0.9019,      0.9029,      0.9039,      0.9049,     0.90591,     0.90691,     0.90791,     0.90891,     0.90991,     0.91091,     0.91191,\n",
       "           0.91291,     0.91391,     0.91491,     0.91592,     0.91692,     0.91792,     0.91892,     0.91992,     0.92092,     0.92192,     0.92292,     0.92392,     0.92492,     0.92593,     0.92693,     0.92793,     0.92893,     0.92993,     0.93093,     0.93193,     0.93293,     0.93393,     0.93493,     0.93594,\n",
       "           0.93694,     0.93794,     0.93894,     0.93994,     0.94094,     0.94194,     0.94294,     0.94394,     0.94494,     0.94595,     0.94695,     0.94795,     0.94895,     0.94995,     0.95095,     0.95195,     0.95295,     0.95395,     0.95495,     0.95596,     0.95696,     0.95796,     0.95896,     0.95996,\n",
       "           0.96096,     0.96196,     0.96296,     0.96396,     0.96496,     0.96597,     0.96697,     0.96797,     0.96897,     0.96997,     0.97097,     0.97197,     0.97297,     0.97397,     0.97497,     0.97598,     0.97698,     0.97798,     0.97898,     0.97998,     0.98098,     0.98198,     0.98298,     0.98398,\n",
       "           0.98498,     0.98599,     0.98699,     0.98799,     0.98899,     0.98999,     0.99099,     0.99199,     0.99299,     0.99399,     0.99499,       0.996,       0.997,       0.998,       0.999,           1]), array([[    0.83333,     0.83333,     0.83333, ...,           0,           0,           0],\n",
       "       [          1,           1,           1, ...,           0,           0,           0],\n",
       "       [          1,           1,         0.8, ...,           0,           0,           0],\n",
       "       ...,\n",
       "       [          1,           1,     0.83333, ...,           0,           0,           0],\n",
       "       [          1,           1,           1, ...,           0,           0,           0],\n",
       "       [          1,           1,           1, ...,           0,           0,           0]]), 'Confidence', 'Recall']]\n",
       "fitness: np.float64(0.6761132777289386)\n",
       "keys: ['metrics/precision(B)', 'metrics/recall(B)', 'metrics/mAP50(B)', 'metrics/mAP50-95(B)']\n",
       "maps: array([    0.50836,       0.796,     0.66432,     0.66069,     0.70507,      0.8955,     0.64054,     0.73513,     0.66069,     0.34063])\n",
       "names: {0: 'Kick Sauber', 1: 'Racing Bulls', 2: 'Alpine', 3: 'Aston Martin', 4: 'Ferarri', 5: 'Haas', 6: 'Mclaren', 7: 'Mercedes', 8: 'Red Bull', 9: 'Williams'}\n",
       "plot: True\n",
       "results_dict: {'metrics/precision(B)': np.float64(0.6540244417728256), 'metrics/recall(B)': np.float64(0.7937041504188724), 'metrics/mAP50(B)': np.float64(0.8149042541094171), 'metrics/mAP50-95(B)': np.float64(0.6606920581311075), 'fitness': np.float64(0.6761132777289386)}\n",
       "save_dir: WindowsPath('../f1-strategy/yolo-files/runs/train_optimized32')\n",
       "speed: {'preprocess': 2.6614904403686523, 'inference': 36.26958131790161, 'loss': 0.0, 'postprocess': 1.1167526245117188}\n",
       "task: 'detect'"
      ]
     },
     "execution_count": 5,
     "metadata": {},
     "output_type": "execute_result"
    }
   ],
   "source": [
    "model.val()"
   ]
  },
  {
   "cell_type": "markdown",
   "metadata": {},
   "source": [
    "Comparación y Conclusión\n",
    "Mejora Global:\n",
    "La nueva configuración muestra una mejora en el mAP50 (0.818 vs 0.772) y en el mAP50-95 (0.552 vs 0.449), lo que indica que el modelo está detectando con mayor precisión y que sus cajas se ajustan mejor a los objetos reales.\n",
    "\n",
    "Precisión:\n",
    "La precisión global ha subido de 0.733 a 0.765, lo que es un buen indicativo de que las predicciones correctas han aumentado.\n",
    "\n",
    "Recall:\n",
    "El recall se mantiene prácticamente igual (0.615 vs 0.61), lo que sugiere que el número de falsos negativos no varió significativamente.\n",
    "Sin embargo, la mejora en mAP50-95 implica que las detecciones precisas han mejorado, aunque quizá se deba trabajar estrategias adicionales para las clases problemáticas (como Kick Sauber, Alpine y Williams).\n",
    "\n",
    "Hiperparámetros:\n",
    "El uso de una tasa de aprendizaje variable (con warmup y decaimiento), junto con ajustes más moderados en la intensidad de las transformaciones (reduciendo grados de rotación, mixup y copy_paste) parecen haber contribuido a esta mejora global.\n",
    "\n",
    "Consideraciones:\n",
    "Las clases con peor desempeño (por ejemplo, Williams) siguen siendo un reto. Podría ser interesante explorar aumentos específicos o técnicas de fine-tuning para esas clases en particular.\n",
    "\n",
    "#### Proóximos pasos.\n",
    "\n",
    "Aumentar a 50 epochs.\n",
    "Hace fine tuning de las clases problematicas.\n"
   ]
  },
  {
   "cell_type": "markdown",
   "metadata": {},
   "source": [
    "# Modelo v3: reentrenar para 250 imágenes\n",
    "\n",
    "Resultados comparados con el anterior modelo de 200 imágenes:\n",
    "\n",
    "# Repetir fine tuning pero para v3\n",
    "\n",
    "Resultados Globales\n",
    "mAP50:\n",
    "\n",
    "Anterior: 0.84\n",
    "Nuevo: 0.871\n",
    "→ Mejora global.\n",
    "mAP50-95:\n",
    "\n",
    "Anterior: 0.728\n",
    "Nuevo: 0.752\n",
    "→ También mejora ligeramente.\n",
    "Por Clase\n",
    "Kick Sauber:\n",
    "\n",
    "Anterior: mAP50 = 0.714, mAP50-95 = 0.575\n",
    "Nuevo: mAP50 = 0.849, mAP50-95 = 0.585\n",
    "→ Se observa una mejora significativa en mAP50, lo cual es muy positivo.\n",
    "Racing Bulls:\n",
    "\n",
    "Ambos modelos mantienen mAP50 muy altos (0.995), con un leve aumento en mAP50-95 (de 0.796 a 0.895).\n",
    "Alpine:\n",
    "\n",
    "Anterior: mAP50 = 0.928, mAP50-95 = 0.876\n",
    "Nuevo: mAP50 = 0.753, mAP50-95 = 0.71\n",
    "→ Se degrada considerablemente el rendimiento, lo que sugiere que los nuevos parámetros (por ejemplo, una mayor rotación o mixup) podrían estar afectando negativamente a esta clase.\n",
    "Ferarri:\n",
    "\n",
    "Una ligera reducción en mAP50 (de 0.845 a 0.808), pero mAP50-95 se mantiene prácticamente igual.\n",
    "Haas:\n",
    "\n",
    "Permanece estable (mAP50 ≈ 0.995 y mAP50-95 ≈ 0.895).\n",
    "Mclaren:\n",
    "\n",
    "Mejora de mAP50 de 0.805 a 0.903 y un leve incremento en mAP50-95 (de 0.738 a 0.767).\n",
    "Mercedes:\n",
    "\n",
    "Se mantiene mAP50 en 0.913, con un aumento en mAP50-95 de 0.726 a 0.793.\n",
    "Williams:\n",
    "\n",
    "Mejora de mAP50 de 0.522 a 0.753 y mAP50-95 de 0.473 a 0.627\n",
    "→ Es un resultado positivo, especialmente si en el YAML se ha bajado el peso de esta clase.\n",
    "Conclusiones y Recomendaciones\n",
    "Globalmente, el nuevo fine-tuned mejora las métricas generales (mAP50 y mAP50-95), lo que indica que el modelo, en promedio, está detectando y ajustando mejor las cajas.\n",
    "Mejoras destacadas en clases problemáticas como Kick Sauber, Mclaren, Mercedes y Williams sugieren que aumentar el dataset a 250 imágenes y ajustar los parámetros (incluyendo la modificación de pesos en el YAML para Williams) ha beneficiado a estas clases.\n",
    "La principal preocupación es Alpine, cuya precisión (mAP50) se redujo notablemente. Esto podría deberse a:\n",
    "Los nuevos parámetros de augmentación (por ejemplo, grados de rotación de 15° y mixup de 0.3) podrían estar generando transformaciones que afectan negativamente las características de Alpine.\n",
    "Es posible que la variabilidad en Alpine no se esté reflejando adecuadamente en el conjunto de datos.\n",
    "Recomendación:\n",
    "\n",
    "Es viable continuar con el fine tuning usando 250 imágenes por clase y ajustar el peso de Williams a 1.2 en el YAML, ya que esto ha mostrado mejoras para esa clase.\n",
    "Sin embargo, sería conveniente revisar o ajustar las transformaciones específicas para Alpine (por ejemplo, disminuir la rotación o el mixup) para intentar recuperar parte del rendimiento perdido en esa clase.\n",
    "En resumen, el nuevo fine tuning mejora el desempeño global y de varias clases problemáticas, aunque se requiere un ajuste focalizado para Alpine\n"
   ]
  },
  {
   "cell_type": "code",
   "execution_count": null,
   "metadata": {},
   "outputs": [],
   "source": [
    "# model.save(\"../f1-strategy/weights/f1_detection_best.pt\")\n",
    "model.save(\"../f1-strategy/weights/f1_detection_best_2.pt\")"
   ]
  },
  {
   "cell_type": "code",
   "execution_count": null,
   "metadata": {},
   "outputs": [],
   "source": [
    "# FIRST DEVELOPED MODEL\n",
    "# model_fine_tuned.train(\n",
    "#     data=\"../f1-strategy/f1-dataset/data.yaml\",\n",
    "#     epochs=NUM_EPOCHS,\n",
    "#     batch=BATCH_SIZE,\n",
    "#     optimizer=\"AdamW\",\n",
    "#     lr0=LEARNING_RATE / 2,  # Aprendizaje más lento para no sobreajustar\n",
    "#     momentum=0.9,\n",
    "#     weight_decay=0.0001,\n",
    "#     label_smoothing=0.1,\n",
    "#     degrees=10.0,\n",
    "#     mixup=0.2,\n",
    "#     patience=5,\n",
    "#     pretrained=True,  # Importante para mantener el conocimiento previo\n",
    "#     project='../f1-strategy/yolo-files/runs',\n",
    "#     name='train_finetune'\n",
    "# )"
   ]
  },
  {
   "cell_type": "code",
   "execution_count": null,
   "metadata": {},
   "outputs": [],
   "source": [
    "# SECOND DEVELOPED MODEL\n",
    "# model_fine_tuned.train(\n",
    "#     data=\"../f1-strategy/f1-dataset/data.yaml\",\n",
    "#     epochs=NUM_EPOCHS,\n",
    "#     batch=BATCH_SIZE,\n",
    "#     optimizer=\"AdamW\",\n",
    "#     lr0=LEARNING_RATE / 2,  # Mantener un aprendizaje más lento para no sobreajustar\n",
    "#     momentum=0.9,\n",
    "#     weight_decay=0.0001,  # Mantener el ajuste original para evitar sobreajuste\n",
    "#     label_smoothing=0.1,\n",
    "#     degrees=10.0,\n",
    "#     mixup=0.2,\n",
    "#     patience=10,  # Paciencia ajustada a 10\n",
    "#     pretrained=True,  # Mantener el conocimiento previo\n",
    "#     project='../f1-strategy/yolo-files/runs',\n",
    "#     name='train_finetune',\n",
    "# )"
   ]
  },
  {
   "cell_type": "code",
   "execution_count": null,
   "metadata": {},
   "outputs": [
    {
     "name": "stdout",
     "output_type": "stream",
     "text": [
      "New https://pypi.org/project/ultralytics/8.3.78 available  Update with 'pip install -U ultralytics'\n",
      "WARNING  'label_smoothing' is deprecated and will be removed in in the future.\n",
      "Ultralytics 8.3.69  Python-3.10.16 torch-2.5.1+cu124 CUDA:0 (NVIDIA GeForce RTX 4060 Laptop GPU, 8188MiB)\n",
      "\u001b[34m\u001b[1mengine\\trainer: \u001b[0mtask=detect, mode=train, model=../f1-strategy/weights/f1_detection_best.pt, data=../f1-strategy/f1-dataset/data.yaml, epochs=50, time=None, patience=15, batch=8, imgsz=640, save=True, save_period=-1, cache=False, device=None, workers=8, project=../f1-strategy/yolo-files/runs, name=train_finetune, exist_ok=False, pretrained=True, optimizer=AdamW, verbose=True, seed=0, deterministic=True, single_cls=False, rect=False, cos_lr=False, close_mosaic=10, resume=False, amp=True, fraction=1.0, profile=False, freeze=None, multi_scale=False, overlap_mask=True, mask_ratio=4, dropout=0.0, val=True, split=val, save_json=False, save_hybrid=False, conf=None, iou=0.7, max_det=300, half=False, dnn=False, plots=True, source=None, vid_stride=1, stream_buffer=False, visualize=False, augment=False, agnostic_nms=False, classes=None, retina_masks=False, embed=None, show=False, save_frames=False, save_txt=False, save_conf=False, save_crop=False, show_labels=True, show_conf=True, show_boxes=True, line_width=None, format=torchscript, keras=False, optimize=False, int8=False, dynamic=False, simplify=True, opset=None, workspace=None, nms=False, lr0=0.00016666666666666666, lrf=0.01, momentum=0.9, weight_decay=0.001, warmup_epochs=3.0, warmup_momentum=0.8, warmup_bias_lr=0.1, box=7.5, cls=0.5, dfl=1.5, pose=12.0, kobj=1.0, nbs=64, hsv_h=0.015, hsv_s=0.7, hsv_v=0.4, degrees=15.0, translate=0.1, scale=0.5, shear=2.0, perspective=0.0, flipud=0.1, fliplr=0.5, bgr=0.0, mosaic=1.0, mixup=0.3, copy_paste=0.0, copy_paste_mode=flip, auto_augment=randaugment, erasing=0.4, crop_fraction=1.0, cfg=None, tracker=botsort.yaml, save_dir=..\\f1-strategy\\yolo-files\\runs\\train_finetune\n",
      "\n",
      "                   from  n    params  module                                       arguments                     \n",
      "  0                  -1  1      1392  ultralytics.nn.modules.conv.Conv             [3, 48, 3, 2]                 \n",
      "  1                  -1  1     41664  ultralytics.nn.modules.conv.Conv             [48, 96, 3, 2]                \n",
      "  2                  -1  2    111360  ultralytics.nn.modules.block.C2f             [96, 96, 2, True]             \n",
      "  3                  -1  1    166272  ultralytics.nn.modules.conv.Conv             [96, 192, 3, 2]               \n",
      "  4                  -1  4    813312  ultralytics.nn.modules.block.C2f             [192, 192, 4, True]           \n",
      "  5                  -1  1    664320  ultralytics.nn.modules.conv.Conv             [192, 384, 3, 2]              \n",
      "  6                  -1  4   3248640  ultralytics.nn.modules.block.C2f             [384, 384, 4, True]           \n",
      "  7                  -1  1   1991808  ultralytics.nn.modules.conv.Conv             [384, 576, 3, 2]              \n",
      "  8                  -1  2   3985920  ultralytics.nn.modules.block.C2f             [576, 576, 2, True]           \n",
      "  9                  -1  1    831168  ultralytics.nn.modules.block.SPPF            [576, 576, 5]                 \n",
      " 10                  -1  1         0  torch.nn.modules.upsampling.Upsample         [None, 2, 'nearest']          \n",
      " 11             [-1, 6]  1         0  ultralytics.nn.modules.conv.Concat           [1]                           \n",
      " 12                  -1  2   1993728  ultralytics.nn.modules.block.C2f             [960, 384, 2]                 \n",
      " 13                  -1  1         0  torch.nn.modules.upsampling.Upsample         [None, 2, 'nearest']          \n",
      " 14             [-1, 4]  1         0  ultralytics.nn.modules.conv.Concat           [1]                           \n",
      " 15                  -1  2    517632  ultralytics.nn.modules.block.C2f             [576, 192, 2]                 \n",
      " 16                  -1  1    332160  ultralytics.nn.modules.conv.Conv             [192, 192, 3, 2]              \n",
      " 17            [-1, 12]  1         0  ultralytics.nn.modules.conv.Concat           [1]                           \n",
      " 18                  -1  2   1846272  ultralytics.nn.modules.block.C2f             [576, 384, 2]                 \n",
      " 19                  -1  1   1327872  ultralytics.nn.modules.conv.Conv             [384, 384, 3, 2]              \n",
      " 20             [-1, 9]  1         0  ultralytics.nn.modules.conv.Concat           [1]                           \n",
      " 21                  -1  2   4207104  ultralytics.nn.modules.block.C2f             [960, 576, 2]                 \n",
      " 22        [15, 18, 21]  1   3781486  ultralytics.nn.modules.head.Detect           [10, [192, 384, 576]]         \n",
      "Model summary: 295 layers, 25,862,110 parameters, 25,862,094 gradients, 79.1 GFLOPs\n",
      "\n",
      "Transferred 90/475 items from pretrained weights\n",
      "Freezing layer 'model.22.dfl.conv.weight'\n",
      "\u001b[34m\u001b[1mAMP: \u001b[0mrunning Automatic Mixed Precision (AMP) checks...\n",
      "\u001b[34m\u001b[1mAMP: \u001b[0mchecks passed \n"
     ]
    },
    {
     "name": "stderr",
     "output_type": "stream",
     "text": [
      "\u001b[34m\u001b[1mtrain: \u001b[0mScanning C:\\Users\\victo\\Desktop\\Documents\\Tercer año\\Segundo Cuatrimestre\\Finales\\f1-strategy\\f1-dataset\\train\\labels.cache... 2500 images, 0 backgrounds, 0 corrupt: 100%|██████████| 2500/2500 [00:00<?, ?it/s]"
     ]
    },
    {
     "name": "stdout",
     "output_type": "stream",
     "text": [
      "\u001b[34m\u001b[1malbumentations: \u001b[0mBlur(p=0.01, blur_limit=(3, 7)), MedianBlur(p=0.01, blur_limit=(3, 7)), ToGray(p=0.01, num_output_channels=3, method='weighted_average'), CLAHE(p=0.01, clip_limit=(1.0, 4.0), tile_grid_size=(8, 8))\n"
     ]
    },
    {
     "name": "stderr",
     "output_type": "stream",
     "text": [
      "\n",
      "\u001b[34m\u001b[1mval: \u001b[0mScanning C:\\Users\\victo\\Desktop\\Documents\\Tercer año\\Segundo Cuatrimestre\\Finales\\f1-strategy\\f1-dataset\\valid\\labels.cache... 20 images, 0 backgrounds, 0 corrupt: 100%|██████████| 20/20 [00:00<?, ?it/s]\n"
     ]
    },
    {
     "name": "stdout",
     "output_type": "stream",
     "text": [
      "Plotting labels to ..\\f1-strategy\\yolo-files\\runs\\train_finetune\\labels.jpg... \n",
      "\u001b[34m\u001b[1moptimizer:\u001b[0m AdamW(lr=0.00016666666666666666, momentum=0.9) with parameter groups 77 weight(decay=0.0), 84 weight(decay=0.001), 83 bias(decay=0.0)\n",
      "Image sizes 640 train, 640 val\n",
      "Using 8 dataloader workers\n",
      "Logging results to \u001b[1m..\\f1-strategy\\yolo-files\\runs\\train_finetune\u001b[0m\n",
      "Starting training for 50 epochs...\n",
      "\n",
      "      Epoch    GPU_mem   box_loss   cls_loss   dfl_loss  Instances       Size\n"
     ]
    },
    {
     "name": "stderr",
     "output_type": "stream",
     "text": [
      "       1/50      4.27G      1.367      1.478      1.644         21        640: 100%|██████████| 313/313 [01:08<00:00,  4.54it/s]\n",
      "                 Class     Images  Instances      Box(P          R      mAP50  mAP50-95): 100%|██████████| 2/2 [00:00<00:00,  8.76it/s]"
     ]
    },
    {
     "name": "stdout",
     "output_type": "stream",
     "text": [
      "                   all         20         29      0.651       0.51       0.66      0.391\n"
     ]
    },
    {
     "name": "stderr",
     "output_type": "stream",
     "text": [
      "\n"
     ]
    },
    {
     "name": "stdout",
     "output_type": "stream",
     "text": [
      "\n",
      "      Epoch    GPU_mem   box_loss   cls_loss   dfl_loss  Instances       Size\n"
     ]
    },
    {
     "name": "stderr",
     "output_type": "stream",
     "text": [
      "       2/50      4.31G      1.177      1.111      1.501          7        640: 100%|██████████| 313/313 [01:04<00:00,  4.86it/s]\n",
      "                 Class     Images  Instances      Box(P          R      mAP50  mAP50-95): 100%|██████████| 2/2 [00:00<00:00,  8.56it/s]"
     ]
    },
    {
     "name": "stdout",
     "output_type": "stream",
     "text": [
      "                   all         20         29      0.654      0.772      0.845      0.624\n"
     ]
    },
    {
     "name": "stderr",
     "output_type": "stream",
     "text": [
      "\n"
     ]
    },
    {
     "name": "stdout",
     "output_type": "stream",
     "text": [
      "\n",
      "      Epoch    GPU_mem   box_loss   cls_loss   dfl_loss  Instances       Size\n"
     ]
    },
    {
     "name": "stderr",
     "output_type": "stream",
     "text": [
      "       3/50       4.4G      1.106     0.9925      1.454         11        640: 100%|██████████| 313/313 [01:07<00:00,  4.66it/s]\n",
      "                 Class     Images  Instances      Box(P          R      mAP50  mAP50-95): 100%|██████████| 2/2 [00:00<00:00,  7.39it/s]"
     ]
    },
    {
     "name": "stdout",
     "output_type": "stream",
     "text": [
      "                   all         20         29      0.635      0.739      0.795      0.635\n"
     ]
    },
    {
     "name": "stderr",
     "output_type": "stream",
     "text": [
      "\n"
     ]
    },
    {
     "name": "stdout",
     "output_type": "stream",
     "text": [
      "\n",
      "      Epoch    GPU_mem   box_loss   cls_loss   dfl_loss  Instances       Size\n"
     ]
    },
    {
     "name": "stderr",
     "output_type": "stream",
     "text": [
      "       4/50      4.42G      1.059     0.9307      1.427         15        640: 100%|██████████| 313/313 [01:06<00:00,  4.67it/s]\n",
      "                 Class     Images  Instances      Box(P          R      mAP50  mAP50-95): 100%|██████████| 2/2 [00:00<00:00,  7.64it/s]"
     ]
    },
    {
     "name": "stdout",
     "output_type": "stream",
     "text": [
      "                   all         20         29      0.627      0.797      0.738      0.557\n"
     ]
    },
    {
     "name": "stderr",
     "output_type": "stream",
     "text": [
      "\n"
     ]
    },
    {
     "name": "stdout",
     "output_type": "stream",
     "text": [
      "\n",
      "      Epoch    GPU_mem   box_loss   cls_loss   dfl_loss  Instances       Size\n"
     ]
    },
    {
     "name": "stderr",
     "output_type": "stream",
     "text": [
      "       5/50      4.39G      1.021     0.8639      1.396          9        640: 100%|██████████| 313/313 [01:07<00:00,  4.67it/s]\n",
      "                 Class     Images  Instances      Box(P          R      mAP50  mAP50-95): 100%|██████████| 2/2 [00:00<00:00,  7.55it/s]"
     ]
    },
    {
     "name": "stdout",
     "output_type": "stream",
     "text": [
      "                   all         20         29      0.528      0.752      0.802      0.671\n"
     ]
    },
    {
     "name": "stderr",
     "output_type": "stream",
     "text": [
      "\n"
     ]
    },
    {
     "name": "stdout",
     "output_type": "stream",
     "text": [
      "\n",
      "      Epoch    GPU_mem   box_loss   cls_loss   dfl_loss  Instances       Size\n"
     ]
    },
    {
     "name": "stderr",
     "output_type": "stream",
     "text": [
      "       6/50       4.4G      1.006     0.8395      1.385         15        640: 100%|██████████| 313/313 [01:07<00:00,  4.66it/s]\n",
      "                 Class     Images  Instances      Box(P          R      mAP50  mAP50-95): 100%|██████████| 2/2 [00:00<00:00,  7.46it/s]"
     ]
    },
    {
     "name": "stdout",
     "output_type": "stream",
     "text": [
      "                   all         20         29      0.792      0.553      0.812      0.683\n"
     ]
    },
    {
     "name": "stderr",
     "output_type": "stream",
     "text": [
      "\n"
     ]
    },
    {
     "name": "stdout",
     "output_type": "stream",
     "text": [
      "\n",
      "      Epoch    GPU_mem   box_loss   cls_loss   dfl_loss  Instances       Size\n"
     ]
    },
    {
     "name": "stderr",
     "output_type": "stream",
     "text": [
      "       7/50      4.41G     0.9904     0.8305      1.371         21        640: 100%|██████████| 313/313 [01:07<00:00,  4.63it/s]\n",
      "                 Class     Images  Instances      Box(P          R      mAP50  mAP50-95): 100%|██████████| 2/2 [00:00<00:00,  6.18it/s]"
     ]
    },
    {
     "name": "stdout",
     "output_type": "stream",
     "text": [
      "                   all         20         29      0.724      0.704      0.806      0.666\n"
     ]
    },
    {
     "name": "stderr",
     "output_type": "stream",
     "text": [
      "\n"
     ]
    },
    {
     "name": "stdout",
     "output_type": "stream",
     "text": [
      "\n",
      "      Epoch    GPU_mem   box_loss   cls_loss   dfl_loss  Instances       Size\n"
     ]
    },
    {
     "name": "stderr",
     "output_type": "stream",
     "text": [
      "       8/50       4.3G     0.9742     0.8007      1.365          6        640: 100%|██████████| 313/313 [01:06<00:00,  4.73it/s]\n",
      "                 Class     Images  Instances      Box(P          R      mAP50  mAP50-95): 100%|██████████| 2/2 [00:00<00:00,  7.83it/s]"
     ]
    },
    {
     "name": "stdout",
     "output_type": "stream",
     "text": [
      "                   all         20         29      0.739      0.785      0.812      0.696\n"
     ]
    },
    {
     "name": "stderr",
     "output_type": "stream",
     "text": [
      "\n"
     ]
    },
    {
     "name": "stdout",
     "output_type": "stream",
     "text": [
      "\n",
      "      Epoch    GPU_mem   box_loss   cls_loss   dfl_loss  Instances       Size\n"
     ]
    },
    {
     "name": "stderr",
     "output_type": "stream",
     "text": [
      "       9/50      4.41G     0.9468     0.7691      1.343         10        640: 100%|██████████| 313/313 [01:06<00:00,  4.72it/s]\n",
      "                 Class     Images  Instances      Box(P          R      mAP50  mAP50-95): 100%|██████████| 2/2 [00:00<00:00,  7.91it/s]"
     ]
    },
    {
     "name": "stdout",
     "output_type": "stream",
     "text": [
      "                   all         20         29      0.734      0.767      0.801       0.69\n"
     ]
    },
    {
     "name": "stderr",
     "output_type": "stream",
     "text": [
      "\n"
     ]
    },
    {
     "name": "stdout",
     "output_type": "stream",
     "text": [
      "\n",
      "      Epoch    GPU_mem   box_loss   cls_loss   dfl_loss  Instances       Size\n"
     ]
    },
    {
     "name": "stderr",
     "output_type": "stream",
     "text": [
      "      10/50       4.4G     0.9566     0.7653      1.346         17        640: 100%|██████████| 313/313 [01:06<00:00,  4.72it/s]\n",
      "                 Class     Images  Instances      Box(P          R      mAP50  mAP50-95): 100%|██████████| 2/2 [00:00<00:00,  8.05it/s]"
     ]
    },
    {
     "name": "stdout",
     "output_type": "stream",
     "text": [
      "                   all         20         29      0.804      0.745       0.81      0.708\n"
     ]
    },
    {
     "name": "stderr",
     "output_type": "stream",
     "text": [
      "\n"
     ]
    },
    {
     "name": "stdout",
     "output_type": "stream",
     "text": [
      "\n",
      "      Epoch    GPU_mem   box_loss   cls_loss   dfl_loss  Instances       Size\n"
     ]
    },
    {
     "name": "stderr",
     "output_type": "stream",
     "text": [
      "      11/50       4.4G      0.926     0.7515      1.339         12        640: 100%|██████████| 313/313 [01:05<00:00,  4.76it/s]\n",
      "                 Class     Images  Instances      Box(P          R      mAP50  mAP50-95): 100%|██████████| 2/2 [00:00<00:00,  8.67it/s]"
     ]
    },
    {
     "name": "stdout",
     "output_type": "stream",
     "text": [
      "                   all         20         29      0.895      0.624      0.804      0.702\n"
     ]
    },
    {
     "name": "stderr",
     "output_type": "stream",
     "text": [
      "\n"
     ]
    },
    {
     "name": "stdout",
     "output_type": "stream",
     "text": [
      "\n",
      "      Epoch    GPU_mem   box_loss   cls_loss   dfl_loss  Instances       Size\n"
     ]
    },
    {
     "name": "stderr",
     "output_type": "stream",
     "text": [
      "      12/50      4.42G      0.913     0.7306      1.323         18        640: 100%|██████████| 313/313 [01:03<00:00,  4.89it/s]\n",
      "                 Class     Images  Instances      Box(P          R      mAP50  mAP50-95): 100%|██████████| 2/2 [00:00<00:00,  6.63it/s]"
     ]
    },
    {
     "name": "stdout",
     "output_type": "stream",
     "text": [
      "                   all         20         29      0.796      0.626      0.841      0.715\n"
     ]
    },
    {
     "name": "stderr",
     "output_type": "stream",
     "text": [
      "\n"
     ]
    },
    {
     "name": "stdout",
     "output_type": "stream",
     "text": [
      "\n",
      "      Epoch    GPU_mem   box_loss   cls_loss   dfl_loss  Instances       Size\n"
     ]
    },
    {
     "name": "stderr",
     "output_type": "stream",
     "text": [
      "      13/50       4.4G     0.9043     0.7296      1.311         16        640: 100%|██████████| 313/313 [01:04<00:00,  4.89it/s]\n",
      "                 Class     Images  Instances      Box(P          R      mAP50  mAP50-95): 100%|██████████| 2/2 [00:00<00:00,  8.21it/s]"
     ]
    },
    {
     "name": "stdout",
     "output_type": "stream",
     "text": [
      "                   all         20         29      0.731      0.787      0.858      0.714\n"
     ]
    },
    {
     "name": "stderr",
     "output_type": "stream",
     "text": [
      "\n"
     ]
    },
    {
     "name": "stdout",
     "output_type": "stream",
     "text": [
      "\n",
      "      Epoch    GPU_mem   box_loss   cls_loss   dfl_loss  Instances       Size\n"
     ]
    },
    {
     "name": "stderr",
     "output_type": "stream",
     "text": [
      "      14/50       4.4G     0.9028     0.7244      1.314          9        640: 100%|██████████| 313/313 [01:04<00:00,  4.88it/s]\n",
      "                 Class     Images  Instances      Box(P          R      mAP50  mAP50-95): 100%|██████████| 2/2 [00:00<00:00,  8.36it/s]"
     ]
    },
    {
     "name": "stdout",
     "output_type": "stream",
     "text": [
      "                   all         20         29      0.706      0.723        0.8      0.709\n"
     ]
    },
    {
     "name": "stderr",
     "output_type": "stream",
     "text": [
      "\n"
     ]
    },
    {
     "name": "stdout",
     "output_type": "stream",
     "text": [
      "\n",
      "      Epoch    GPU_mem   box_loss   cls_loss   dfl_loss  Instances       Size\n"
     ]
    },
    {
     "name": "stderr",
     "output_type": "stream",
     "text": [
      "      15/50      4.41G     0.8819     0.7007        1.3         13        640: 100%|██████████| 313/313 [01:04<00:00,  4.86it/s]\n",
      "                 Class     Images  Instances      Box(P          R      mAP50  mAP50-95): 100%|██████████| 2/2 [00:00<00:00,  8.60it/s]"
     ]
    },
    {
     "name": "stdout",
     "output_type": "stream",
     "text": [
      "                   all         20         29        0.7      0.792      0.871      0.752\n"
     ]
    },
    {
     "name": "stderr",
     "output_type": "stream",
     "text": [
      "\n"
     ]
    },
    {
     "name": "stdout",
     "output_type": "stream",
     "text": [
      "\n",
      "      Epoch    GPU_mem   box_loss   cls_loss   dfl_loss  Instances       Size\n"
     ]
    },
    {
     "name": "stderr",
     "output_type": "stream",
     "text": [
      "      16/50       4.3G     0.8632     0.6772      1.292         21        640: 100%|██████████| 313/313 [01:03<00:00,  4.89it/s]\n",
      "                 Class     Images  Instances      Box(P          R      mAP50  mAP50-95): 100%|██████████| 2/2 [00:00<00:00,  8.45it/s]"
     ]
    },
    {
     "name": "stdout",
     "output_type": "stream",
     "text": [
      "                   all         20         29      0.669      0.791      0.816      0.717\n"
     ]
    },
    {
     "name": "stderr",
     "output_type": "stream",
     "text": [
      "\n"
     ]
    },
    {
     "name": "stdout",
     "output_type": "stream",
     "text": [
      "\n",
      "      Epoch    GPU_mem   box_loss   cls_loss   dfl_loss  Instances       Size\n"
     ]
    },
    {
     "name": "stderr",
     "output_type": "stream",
     "text": [
      "      17/50      4.41G     0.8615     0.6805      1.281         22        640: 100%|██████████| 313/313 [01:03<00:00,  4.90it/s]\n",
      "                 Class     Images  Instances      Box(P          R      mAP50  mAP50-95): 100%|██████████| 2/2 [00:00<00:00,  8.26it/s]"
     ]
    },
    {
     "name": "stdout",
     "output_type": "stream",
     "text": [
      "                   all         20         29      0.605      0.636      0.758      0.658\n"
     ]
    },
    {
     "name": "stderr",
     "output_type": "stream",
     "text": [
      "\n"
     ]
    },
    {
     "name": "stdout",
     "output_type": "stream",
     "text": [
      "\n",
      "      Epoch    GPU_mem   box_loss   cls_loss   dfl_loss  Instances       Size\n"
     ]
    },
    {
     "name": "stderr",
     "output_type": "stream",
     "text": [
      "      18/50      4.43G      0.855     0.6728      1.283         15        640: 100%|██████████| 313/313 [01:04<00:00,  4.88it/s]\n",
      "                 Class     Images  Instances      Box(P          R      mAP50  mAP50-95): 100%|██████████| 2/2 [00:00<00:00,  8.28it/s]"
     ]
    },
    {
     "name": "stdout",
     "output_type": "stream",
     "text": [
      "                   all         20         29      0.647      0.721       0.79      0.706\n"
     ]
    },
    {
     "name": "stderr",
     "output_type": "stream",
     "text": [
      "\n"
     ]
    },
    {
     "name": "stdout",
     "output_type": "stream",
     "text": [
      "\n",
      "      Epoch    GPU_mem   box_loss   cls_loss   dfl_loss  Instances       Size\n"
     ]
    },
    {
     "name": "stderr",
     "output_type": "stream",
     "text": [
      "      19/50      4.41G     0.8458     0.6691      1.276         13        640: 100%|██████████| 313/313 [01:04<00:00,  4.88it/s]\n",
      "                 Class     Images  Instances      Box(P          R      mAP50  mAP50-95): 100%|██████████| 2/2 [00:00<00:00,  8.38it/s]"
     ]
    },
    {
     "name": "stdout",
     "output_type": "stream",
     "text": [
      "                   all         20         29      0.656      0.712      0.767      0.673\n"
     ]
    },
    {
     "name": "stderr",
     "output_type": "stream",
     "text": [
      "\n"
     ]
    },
    {
     "name": "stdout",
     "output_type": "stream",
     "text": [
      "\n",
      "      Epoch    GPU_mem   box_loss   cls_loss   dfl_loss  Instances       Size\n"
     ]
    },
    {
     "name": "stderr",
     "output_type": "stream",
     "text": [
      "      20/50       4.4G     0.8397     0.6378      1.266         16        640: 100%|██████████| 313/313 [01:03<00:00,  4.90it/s]\n",
      "                 Class     Images  Instances      Box(P          R      mAP50  mAP50-95): 100%|██████████| 2/2 [00:00<00:00,  8.57it/s]"
     ]
    },
    {
     "name": "stdout",
     "output_type": "stream",
     "text": [
      "                   all         20         29      0.759      0.687      0.801      0.716\n"
     ]
    },
    {
     "name": "stderr",
     "output_type": "stream",
     "text": [
      "\n"
     ]
    },
    {
     "name": "stdout",
     "output_type": "stream",
     "text": [
      "\n",
      "      Epoch    GPU_mem   box_loss   cls_loss   dfl_loss  Instances       Size\n"
     ]
    },
    {
     "name": "stderr",
     "output_type": "stream",
     "text": [
      "      21/50      4.43G     0.8224     0.6529      1.265         17        640: 100%|██████████| 313/313 [01:03<00:00,  4.89it/s]\n",
      "                 Class     Images  Instances      Box(P          R      mAP50  mAP50-95): 100%|██████████| 2/2 [00:00<00:00,  8.27it/s]"
     ]
    },
    {
     "name": "stdout",
     "output_type": "stream",
     "text": [
      "                   all         20         29      0.766      0.669      0.795      0.701\n"
     ]
    },
    {
     "name": "stderr",
     "output_type": "stream",
     "text": [
      "\n"
     ]
    },
    {
     "name": "stdout",
     "output_type": "stream",
     "text": [
      "\n",
      "      Epoch    GPU_mem   box_loss   cls_loss   dfl_loss  Instances       Size\n"
     ]
    },
    {
     "name": "stderr",
     "output_type": "stream",
     "text": [
      "      22/50      4.41G     0.8164     0.6451      1.256         10        640: 100%|██████████| 313/313 [01:04<00:00,  4.88it/s]\n",
      "                 Class     Images  Instances      Box(P          R      mAP50  mAP50-95): 100%|██████████| 2/2 [00:00<00:00,  8.29it/s]"
     ]
    },
    {
     "name": "stdout",
     "output_type": "stream",
     "text": [
      "                   all         20         29      0.737      0.738      0.811      0.706\n"
     ]
    },
    {
     "name": "stderr",
     "output_type": "stream",
     "text": [
      "\n"
     ]
    },
    {
     "name": "stdout",
     "output_type": "stream",
     "text": [
      "\n",
      "      Epoch    GPU_mem   box_loss   cls_loss   dfl_loss  Instances       Size\n"
     ]
    },
    {
     "name": "stderr",
     "output_type": "stream",
     "text": [
      "      23/50       4.4G     0.8117       0.62      1.244         10        640: 100%|██████████| 313/313 [01:04<00:00,  4.88it/s]\n",
      "                 Class     Images  Instances      Box(P          R      mAP50  mAP50-95): 100%|██████████| 2/2 [00:00<00:00,  6.79it/s]"
     ]
    },
    {
     "name": "stdout",
     "output_type": "stream",
     "text": [
      "                   all         20         29      0.811      0.681      0.809      0.714\n"
     ]
    },
    {
     "name": "stderr",
     "output_type": "stream",
     "text": [
      "\n"
     ]
    },
    {
     "name": "stdout",
     "output_type": "stream",
     "text": [
      "\n",
      "      Epoch    GPU_mem   box_loss   cls_loss   dfl_loss  Instances       Size\n"
     ]
    },
    {
     "name": "stderr",
     "output_type": "stream",
     "text": [
      "      24/50      4.32G      0.809     0.6141      1.245         15        640: 100%|██████████| 313/313 [01:04<00:00,  4.89it/s]\n",
      "                 Class     Images  Instances      Box(P          R      mAP50  mAP50-95): 100%|██████████| 2/2 [00:00<00:00,  8.28it/s]"
     ]
    },
    {
     "name": "stdout",
     "output_type": "stream",
     "text": [
      "                   all         20         29      0.798        0.7      0.814      0.733\n"
     ]
    },
    {
     "name": "stderr",
     "output_type": "stream",
     "text": [
      "\n"
     ]
    },
    {
     "name": "stdout",
     "output_type": "stream",
     "text": [
      "\n",
      "      Epoch    GPU_mem   box_loss   cls_loss   dfl_loss  Instances       Size\n"
     ]
    },
    {
     "name": "stderr",
     "output_type": "stream",
     "text": [
      "      25/50      4.43G     0.8152     0.6207      1.256         12        640: 100%|██████████| 313/313 [01:03<00:00,  4.89it/s]\n",
      "                 Class     Images  Instances      Box(P          R      mAP50  mAP50-95): 100%|██████████| 2/2 [00:00<00:00,  8.28it/s]"
     ]
    },
    {
     "name": "stdout",
     "output_type": "stream",
     "text": [
      "                   all         20         29      0.808      0.681      0.798       0.71\n"
     ]
    },
    {
     "name": "stderr",
     "output_type": "stream",
     "text": [
      "\n"
     ]
    },
    {
     "name": "stdout",
     "output_type": "stream",
     "text": [
      "\n",
      "      Epoch    GPU_mem   box_loss   cls_loss   dfl_loss  Instances       Size\n"
     ]
    },
    {
     "name": "stderr",
     "output_type": "stream",
     "text": [
      "      26/50       4.4G     0.8054     0.6264      1.249         13        640: 100%|██████████| 313/313 [01:03<00:00,  4.95it/s]\n",
      "                 Class     Images  Instances      Box(P          R      mAP50  mAP50-95): 100%|██████████| 2/2 [00:00<00:00,  8.54it/s]"
     ]
    },
    {
     "name": "stdout",
     "output_type": "stream",
     "text": [
      "                   all         20         29       0.79      0.689      0.789      0.717\n"
     ]
    },
    {
     "name": "stderr",
     "output_type": "stream",
     "text": [
      "\n"
     ]
    },
    {
     "name": "stdout",
     "output_type": "stream",
     "text": [
      "\n",
      "      Epoch    GPU_mem   box_loss   cls_loss   dfl_loss  Instances       Size\n"
     ]
    },
    {
     "name": "stderr",
     "output_type": "stream",
     "text": [
      "      27/50      4.43G      0.794     0.6142      1.242         15        640: 100%|██████████| 313/313 [01:03<00:00,  4.95it/s]\n",
      "                 Class     Images  Instances      Box(P          R      mAP50  mAP50-95): 100%|██████████| 2/2 [00:00<00:00,  8.45it/s]"
     ]
    },
    {
     "name": "stdout",
     "output_type": "stream",
     "text": [
      "                   all         20         29      0.754      0.679      0.769      0.695\n"
     ]
    },
    {
     "name": "stderr",
     "output_type": "stream",
     "text": [
      "\n"
     ]
    },
    {
     "name": "stdout",
     "output_type": "stream",
     "text": [
      "\n",
      "      Epoch    GPU_mem   box_loss   cls_loss   dfl_loss  Instances       Size\n"
     ]
    },
    {
     "name": "stderr",
     "output_type": "stream",
     "text": [
      "      28/50       4.4G     0.7958     0.6171      1.241         14        640: 100%|██████████| 313/313 [01:03<00:00,  4.94it/s]\n",
      "                 Class     Images  Instances      Box(P          R      mAP50  mAP50-95): 100%|██████████| 2/2 [00:00<00:00,  8.48it/s]"
     ]
    },
    {
     "name": "stdout",
     "output_type": "stream",
     "text": [
      "                   all         20         29      0.679       0.74      0.798      0.722\n"
     ]
    },
    {
     "name": "stderr",
     "output_type": "stream",
     "text": [
      "\n"
     ]
    },
    {
     "name": "stdout",
     "output_type": "stream",
     "text": [
      "\n",
      "      Epoch    GPU_mem   box_loss   cls_loss   dfl_loss  Instances       Size\n"
     ]
    },
    {
     "name": "stderr",
     "output_type": "stream",
     "text": [
      "      29/50       4.4G     0.7952     0.6043      1.239         13        640: 100%|██████████| 313/313 [01:03<00:00,  4.95it/s]\n",
      "                 Class     Images  Instances      Box(P          R      mAP50  mAP50-95): 100%|██████████| 2/2 [00:00<00:00,  8.26it/s]"
     ]
    },
    {
     "name": "stdout",
     "output_type": "stream",
     "text": [
      "                   all         20         29       0.77      0.608      0.782      0.703\n"
     ]
    },
    {
     "name": "stderr",
     "output_type": "stream",
     "text": [
      "\n"
     ]
    },
    {
     "name": "stdout",
     "output_type": "stream",
     "text": [
      "\n",
      "      Epoch    GPU_mem   box_loss   cls_loss   dfl_loss  Instances       Size\n"
     ]
    },
    {
     "name": "stderr",
     "output_type": "stream",
     "text": [
      "      30/50       4.4G     0.7855     0.5943      1.235         10        640: 100%|██████████| 313/313 [01:04<00:00,  4.86it/s]\n",
      "                 Class     Images  Instances      Box(P          R      mAP50  mAP50-95): 100%|██████████| 2/2 [00:00<00:00,  8.54it/s]"
     ]
    },
    {
     "name": "stdout",
     "output_type": "stream",
     "text": [
      "                   all         20         29      0.677       0.65      0.782      0.692\n",
      "\u001b[34m\u001b[1mEarlyStopping: \u001b[0mTraining stopped early as no improvement observed in last 15 epochs. Best results observed at epoch 15, best model saved as best.pt.\n",
      "To update EarlyStopping(patience=15) pass a new patience value, i.e. `patience=300` or use `patience=0` to disable EarlyStopping.\n"
     ]
    },
    {
     "name": "stderr",
     "output_type": "stream",
     "text": [
      "\n"
     ]
    },
    {
     "name": "stdout",
     "output_type": "stream",
     "text": [
      "\n",
      "30 epochs completed in 0.551 hours.\n",
      "Optimizer stripped from ..\\f1-strategy\\yolo-files\\runs\\train_finetune\\weights\\last.pt, 52.0MB\n",
      "Optimizer stripped from ..\\f1-strategy\\yolo-files\\runs\\train_finetune\\weights\\best.pt, 52.0MB\n",
      "\n",
      "Validating ..\\f1-strategy\\yolo-files\\runs\\train_finetune\\weights\\best.pt...\n",
      "Ultralytics 8.3.69  Python-3.10.16 torch-2.5.1+cu124 CUDA:0 (NVIDIA GeForce RTX 4060 Laptop GPU, 8188MiB)\n",
      "Model summary (fused): 218 layers, 25,845,550 parameters, 0 gradients, 78.7 GFLOPs\n"
     ]
    },
    {
     "name": "stderr",
     "output_type": "stream",
     "text": [
      "                 Class     Images  Instances      Box(P          R      mAP50  mAP50-95): 100%|██████████| 2/2 [00:00<00:00,  8.60it/s]\n"
     ]
    },
    {
     "name": "stdout",
     "output_type": "stream",
     "text": [
      "                   all         20         29      0.699      0.792      0.871      0.752\n",
      "           Kick Sauber          4          6          1      0.461      0.849      0.585\n",
      "          Racing Bulls          1          1      0.522          1      0.995      0.895\n",
      "                Alpine          4          5      0.639      0.716      0.753       0.71\n",
      "               Ferarri          3          4      0.615       0.75      0.808      0.742\n",
      "                  Haas          1          1      0.403          1      0.995      0.895\n",
      "               Mclaren          5          6      0.826      0.796      0.903      0.767\n",
      "              Mercedes          3          3          1      0.614      0.913      0.793\n",
      "              Williams          2          3      0.591          1      0.753      0.627\n",
      "Speed: 0.6ms preprocess, 7.6ms inference, 0.0ms loss, 0.8ms postprocess per image\n",
      "Results saved to \u001b[1m..\\f1-strategy\\yolo-files\\runs\\train_finetune\u001b[0m\n"
     ]
    },
    {
     "data": {
      "text/plain": [
       "ultralytics.utils.metrics.DetMetrics object with attributes:\n",
       "\n",
       "ap_class_index: array([0, 1, 2, 4, 5, 6, 7, 9])\n",
       "box: ultralytics.utils.metrics.Metric object\n",
       "confusion_matrix: <ultralytics.utils.metrics.ConfusionMatrix object at 0x0000022CABFEF6D0>\n",
       "curves: ['Precision-Recall(B)', 'F1-Confidence(B)', 'Precision-Confidence(B)', 'Recall-Confidence(B)']\n",
       "curves_results: [[array([          0,    0.001001,    0.002002,    0.003003,    0.004004,    0.005005,    0.006006,    0.007007,    0.008008,    0.009009,     0.01001,    0.011011,    0.012012,    0.013013,    0.014014,    0.015015,    0.016016,    0.017017,    0.018018,    0.019019,     0.02002,    0.021021,    0.022022,    0.023023,\n",
       "          0.024024,    0.025025,    0.026026,    0.027027,    0.028028,    0.029029,     0.03003,    0.031031,    0.032032,    0.033033,    0.034034,    0.035035,    0.036036,    0.037037,    0.038038,    0.039039,     0.04004,    0.041041,    0.042042,    0.043043,    0.044044,    0.045045,    0.046046,    0.047047,\n",
       "          0.048048,    0.049049,     0.05005,    0.051051,    0.052052,    0.053053,    0.054054,    0.055055,    0.056056,    0.057057,    0.058058,    0.059059,     0.06006,    0.061061,    0.062062,    0.063063,    0.064064,    0.065065,    0.066066,    0.067067,    0.068068,    0.069069,     0.07007,    0.071071,\n",
       "          0.072072,    0.073073,    0.074074,    0.075075,    0.076076,    0.077077,    0.078078,    0.079079,     0.08008,    0.081081,    0.082082,    0.083083,    0.084084,    0.085085,    0.086086,    0.087087,    0.088088,    0.089089,     0.09009,    0.091091,    0.092092,    0.093093,    0.094094,    0.095095,\n",
       "          0.096096,    0.097097,    0.098098,    0.099099,      0.1001,      0.1011,      0.1021,      0.1031,      0.1041,     0.10511,     0.10611,     0.10711,     0.10811,     0.10911,     0.11011,     0.11111,     0.11211,     0.11311,     0.11411,     0.11512,     0.11612,     0.11712,     0.11812,     0.11912,\n",
       "           0.12012,     0.12112,     0.12212,     0.12312,     0.12412,     0.12513,     0.12613,     0.12713,     0.12813,     0.12913,     0.13013,     0.13113,     0.13213,     0.13313,     0.13413,     0.13514,     0.13614,     0.13714,     0.13814,     0.13914,     0.14014,     0.14114,     0.14214,     0.14314,\n",
       "           0.14414,     0.14515,     0.14615,     0.14715,     0.14815,     0.14915,     0.15015,     0.15115,     0.15215,     0.15315,     0.15415,     0.15516,     0.15616,     0.15716,     0.15816,     0.15916,     0.16016,     0.16116,     0.16216,     0.16316,     0.16416,     0.16517,     0.16617,     0.16717,\n",
       "           0.16817,     0.16917,     0.17017,     0.17117,     0.17217,     0.17317,     0.17417,     0.17518,     0.17618,     0.17718,     0.17818,     0.17918,     0.18018,     0.18118,     0.18218,     0.18318,     0.18418,     0.18519,     0.18619,     0.18719,     0.18819,     0.18919,     0.19019,     0.19119,\n",
       "           0.19219,     0.19319,     0.19419,      0.1952,      0.1962,      0.1972,      0.1982,      0.1992,      0.2002,      0.2012,      0.2022,      0.2032,      0.2042,     0.20521,     0.20621,     0.20721,     0.20821,     0.20921,     0.21021,     0.21121,     0.21221,     0.21321,     0.21421,     0.21522,\n",
       "           0.21622,     0.21722,     0.21822,     0.21922,     0.22022,     0.22122,     0.22222,     0.22322,     0.22422,     0.22523,     0.22623,     0.22723,     0.22823,     0.22923,     0.23023,     0.23123,     0.23223,     0.23323,     0.23423,     0.23524,     0.23624,     0.23724,     0.23824,     0.23924,\n",
       "           0.24024,     0.24124,     0.24224,     0.24324,     0.24424,     0.24525,     0.24625,     0.24725,     0.24825,     0.24925,     0.25025,     0.25125,     0.25225,     0.25325,     0.25425,     0.25526,     0.25626,     0.25726,     0.25826,     0.25926,     0.26026,     0.26126,     0.26226,     0.26326,\n",
       "           0.26426,     0.26527,     0.26627,     0.26727,     0.26827,     0.26927,     0.27027,     0.27127,     0.27227,     0.27327,     0.27427,     0.27528,     0.27628,     0.27728,     0.27828,     0.27928,     0.28028,     0.28128,     0.28228,     0.28328,     0.28428,     0.28529,     0.28629,     0.28729,\n",
       "           0.28829,     0.28929,     0.29029,     0.29129,     0.29229,     0.29329,     0.29429,      0.2953,      0.2963,      0.2973,      0.2983,      0.2993,      0.3003,      0.3013,      0.3023,      0.3033,      0.3043,     0.30531,     0.30631,     0.30731,     0.30831,     0.30931,     0.31031,     0.31131,\n",
       "           0.31231,     0.31331,     0.31431,     0.31532,     0.31632,     0.31732,     0.31832,     0.31932,     0.32032,     0.32132,     0.32232,     0.32332,     0.32432,     0.32533,     0.32633,     0.32733,     0.32833,     0.32933,     0.33033,     0.33133,     0.33233,     0.33333,     0.33433,     0.33534,\n",
       "           0.33634,     0.33734,     0.33834,     0.33934,     0.34034,     0.34134,     0.34234,     0.34334,     0.34434,     0.34535,     0.34635,     0.34735,     0.34835,     0.34935,     0.35035,     0.35135,     0.35235,     0.35335,     0.35435,     0.35536,     0.35636,     0.35736,     0.35836,     0.35936,\n",
       "           0.36036,     0.36136,     0.36236,     0.36336,     0.36436,     0.36537,     0.36637,     0.36737,     0.36837,     0.36937,     0.37037,     0.37137,     0.37237,     0.37337,     0.37437,     0.37538,     0.37638,     0.37738,     0.37838,     0.37938,     0.38038,     0.38138,     0.38238,     0.38338,\n",
       "           0.38438,     0.38539,     0.38639,     0.38739,     0.38839,     0.38939,     0.39039,     0.39139,     0.39239,     0.39339,     0.39439,      0.3954,      0.3964,      0.3974,      0.3984,      0.3994,      0.4004,      0.4014,      0.4024,      0.4034,      0.4044,     0.40541,     0.40641,     0.40741,\n",
       "           0.40841,     0.40941,     0.41041,     0.41141,     0.41241,     0.41341,     0.41441,     0.41542,     0.41642,     0.41742,     0.41842,     0.41942,     0.42042,     0.42142,     0.42242,     0.42342,     0.42442,     0.42543,     0.42643,     0.42743,     0.42843,     0.42943,     0.43043,     0.43143,\n",
       "           0.43243,     0.43343,     0.43443,     0.43544,     0.43644,     0.43744,     0.43844,     0.43944,     0.44044,     0.44144,     0.44244,     0.44344,     0.44444,     0.44545,     0.44645,     0.44745,     0.44845,     0.44945,     0.45045,     0.45145,     0.45245,     0.45345,     0.45445,     0.45546,\n",
       "           0.45646,     0.45746,     0.45846,     0.45946,     0.46046,     0.46146,     0.46246,     0.46346,     0.46446,     0.46547,     0.46647,     0.46747,     0.46847,     0.46947,     0.47047,     0.47147,     0.47247,     0.47347,     0.47447,     0.47548,     0.47648,     0.47748,     0.47848,     0.47948,\n",
       "           0.48048,     0.48148,     0.48248,     0.48348,     0.48448,     0.48549,     0.48649,     0.48749,     0.48849,     0.48949,     0.49049,     0.49149,     0.49249,     0.49349,     0.49449,      0.4955,      0.4965,      0.4975,      0.4985,      0.4995,      0.5005,      0.5015,      0.5025,      0.5035,\n",
       "            0.5045,     0.50551,     0.50651,     0.50751,     0.50851,     0.50951,     0.51051,     0.51151,     0.51251,     0.51351,     0.51451,     0.51552,     0.51652,     0.51752,     0.51852,     0.51952,     0.52052,     0.52152,     0.52252,     0.52352,     0.52452,     0.52553,     0.52653,     0.52753,\n",
       "           0.52853,     0.52953,     0.53053,     0.53153,     0.53253,     0.53353,     0.53453,     0.53554,     0.53654,     0.53754,     0.53854,     0.53954,     0.54054,     0.54154,     0.54254,     0.54354,     0.54454,     0.54555,     0.54655,     0.54755,     0.54855,     0.54955,     0.55055,     0.55155,\n",
       "           0.55255,     0.55355,     0.55455,     0.55556,     0.55656,     0.55756,     0.55856,     0.55956,     0.56056,     0.56156,     0.56256,     0.56356,     0.56456,     0.56557,     0.56657,     0.56757,     0.56857,     0.56957,     0.57057,     0.57157,     0.57257,     0.57357,     0.57457,     0.57558,\n",
       "           0.57658,     0.57758,     0.57858,     0.57958,     0.58058,     0.58158,     0.58258,     0.58358,     0.58458,     0.58559,     0.58659,     0.58759,     0.58859,     0.58959,     0.59059,     0.59159,     0.59259,     0.59359,     0.59459,      0.5956,      0.5966,      0.5976,      0.5986,      0.5996,\n",
       "            0.6006,      0.6016,      0.6026,      0.6036,      0.6046,     0.60561,     0.60661,     0.60761,     0.60861,     0.60961,     0.61061,     0.61161,     0.61261,     0.61361,     0.61461,     0.61562,     0.61662,     0.61762,     0.61862,     0.61962,     0.62062,     0.62162,     0.62262,     0.62362,\n",
       "           0.62462,     0.62563,     0.62663,     0.62763,     0.62863,     0.62963,     0.63063,     0.63163,     0.63263,     0.63363,     0.63463,     0.63564,     0.63664,     0.63764,     0.63864,     0.63964,     0.64064,     0.64164,     0.64264,     0.64364,     0.64464,     0.64565,     0.64665,     0.64765,\n",
       "           0.64865,     0.64965,     0.65065,     0.65165,     0.65265,     0.65365,     0.65465,     0.65566,     0.65666,     0.65766,     0.65866,     0.65966,     0.66066,     0.66166,     0.66266,     0.66366,     0.66466,     0.66567,     0.66667,     0.66767,     0.66867,     0.66967,     0.67067,     0.67167,\n",
       "           0.67267,     0.67367,     0.67467,     0.67568,     0.67668,     0.67768,     0.67868,     0.67968,     0.68068,     0.68168,     0.68268,     0.68368,     0.68468,     0.68569,     0.68669,     0.68769,     0.68869,     0.68969,     0.69069,     0.69169,     0.69269,     0.69369,     0.69469,      0.6957,\n",
       "            0.6967,      0.6977,      0.6987,      0.6997,      0.7007,      0.7017,      0.7027,      0.7037,      0.7047,     0.70571,     0.70671,     0.70771,     0.70871,     0.70971,     0.71071,     0.71171,     0.71271,     0.71371,     0.71471,     0.71572,     0.71672,     0.71772,     0.71872,     0.71972,\n",
       "           0.72072,     0.72172,     0.72272,     0.72372,     0.72472,     0.72573,     0.72673,     0.72773,     0.72873,     0.72973,     0.73073,     0.73173,     0.73273,     0.73373,     0.73473,     0.73574,     0.73674,     0.73774,     0.73874,     0.73974,     0.74074,     0.74174,     0.74274,     0.74374,\n",
       "           0.74474,     0.74575,     0.74675,     0.74775,     0.74875,     0.74975,     0.75075,     0.75175,     0.75275,     0.75375,     0.75475,     0.75576,     0.75676,     0.75776,     0.75876,     0.75976,     0.76076,     0.76176,     0.76276,     0.76376,     0.76476,     0.76577,     0.76677,     0.76777,\n",
       "           0.76877,     0.76977,     0.77077,     0.77177,     0.77277,     0.77377,     0.77477,     0.77578,     0.77678,     0.77778,     0.77878,     0.77978,     0.78078,     0.78178,     0.78278,     0.78378,     0.78478,     0.78579,     0.78679,     0.78779,     0.78879,     0.78979,     0.79079,     0.79179,\n",
       "           0.79279,     0.79379,     0.79479,      0.7958,      0.7968,      0.7978,      0.7988,      0.7998,      0.8008,      0.8018,      0.8028,      0.8038,      0.8048,     0.80581,     0.80681,     0.80781,     0.80881,     0.80981,     0.81081,     0.81181,     0.81281,     0.81381,     0.81481,     0.81582,\n",
       "           0.81682,     0.81782,     0.81882,     0.81982,     0.82082,     0.82182,     0.82282,     0.82382,     0.82482,     0.82583,     0.82683,     0.82783,     0.82883,     0.82983,     0.83083,     0.83183,     0.83283,     0.83383,     0.83483,     0.83584,     0.83684,     0.83784,     0.83884,     0.83984,\n",
       "           0.84084,     0.84184,     0.84284,     0.84384,     0.84484,     0.84585,     0.84685,     0.84785,     0.84885,     0.84985,     0.85085,     0.85185,     0.85285,     0.85385,     0.85485,     0.85586,     0.85686,     0.85786,     0.85886,     0.85986,     0.86086,     0.86186,     0.86286,     0.86386,\n",
       "           0.86486,     0.86587,     0.86687,     0.86787,     0.86887,     0.86987,     0.87087,     0.87187,     0.87287,     0.87387,     0.87487,     0.87588,     0.87688,     0.87788,     0.87888,     0.87988,     0.88088,     0.88188,     0.88288,     0.88388,     0.88488,     0.88589,     0.88689,     0.88789,\n",
       "           0.88889,     0.88989,     0.89089,     0.89189,     0.89289,     0.89389,     0.89489,      0.8959,      0.8969,      0.8979,      0.8989,      0.8999,      0.9009,      0.9019,      0.9029,      0.9039,      0.9049,     0.90591,     0.90691,     0.90791,     0.90891,     0.90991,     0.91091,     0.91191,\n",
       "           0.91291,     0.91391,     0.91491,     0.91592,     0.91692,     0.91792,     0.91892,     0.91992,     0.92092,     0.92192,     0.92292,     0.92392,     0.92492,     0.92593,     0.92693,     0.92793,     0.92893,     0.92993,     0.93093,     0.93193,     0.93293,     0.93393,     0.93493,     0.93594,\n",
       "           0.93694,     0.93794,     0.93894,     0.93994,     0.94094,     0.94194,     0.94294,     0.94394,     0.94494,     0.94595,     0.94695,     0.94795,     0.94895,     0.94995,     0.95095,     0.95195,     0.95295,     0.95395,     0.95495,     0.95596,     0.95696,     0.95796,     0.95896,     0.95996,\n",
       "           0.96096,     0.96196,     0.96296,     0.96396,     0.96496,     0.96597,     0.96697,     0.96797,     0.96897,     0.96997,     0.97097,     0.97197,     0.97297,     0.97397,     0.97497,     0.97598,     0.97698,     0.97798,     0.97898,     0.97998,     0.98098,     0.98198,     0.98298,     0.98398,\n",
       "           0.98498,     0.98599,     0.98699,     0.98799,     0.98899,     0.98999,     0.99099,     0.99199,     0.99299,     0.99399,     0.99499,       0.996,       0.997,       0.998,       0.999,           1]), array([[          1,           1,           1, ...,    0.002002,    0.001001,           0],\n",
       "       [          1,           1,           1, ...,           1,           1,           0],\n",
       "       [          1,           1,           1, ...,       0.625,       0.625,           0],\n",
       "       ...,\n",
       "       [          1,           1,           1, ...,         0.6,         0.6,           0],\n",
       "       [          1,           1,           1, ...,        0.75,        0.75,           0],\n",
       "       [          1,           1,           1, ...,         0.6,         0.6,           0]]), 'Recall', 'Precision'], [array([          0,    0.001001,    0.002002,    0.003003,    0.004004,    0.005005,    0.006006,    0.007007,    0.008008,    0.009009,     0.01001,    0.011011,    0.012012,    0.013013,    0.014014,    0.015015,    0.016016,    0.017017,    0.018018,    0.019019,     0.02002,    0.021021,    0.022022,    0.023023,\n",
       "          0.024024,    0.025025,    0.026026,    0.027027,    0.028028,    0.029029,     0.03003,    0.031031,    0.032032,    0.033033,    0.034034,    0.035035,    0.036036,    0.037037,    0.038038,    0.039039,     0.04004,    0.041041,    0.042042,    0.043043,    0.044044,    0.045045,    0.046046,    0.047047,\n",
       "          0.048048,    0.049049,     0.05005,    0.051051,    0.052052,    0.053053,    0.054054,    0.055055,    0.056056,    0.057057,    0.058058,    0.059059,     0.06006,    0.061061,    0.062062,    0.063063,    0.064064,    0.065065,    0.066066,    0.067067,    0.068068,    0.069069,     0.07007,    0.071071,\n",
       "          0.072072,    0.073073,    0.074074,    0.075075,    0.076076,    0.077077,    0.078078,    0.079079,     0.08008,    0.081081,    0.082082,    0.083083,    0.084084,    0.085085,    0.086086,    0.087087,    0.088088,    0.089089,     0.09009,    0.091091,    0.092092,    0.093093,    0.094094,    0.095095,\n",
       "          0.096096,    0.097097,    0.098098,    0.099099,      0.1001,      0.1011,      0.1021,      0.1031,      0.1041,     0.10511,     0.10611,     0.10711,     0.10811,     0.10911,     0.11011,     0.11111,     0.11211,     0.11311,     0.11411,     0.11512,     0.11612,     0.11712,     0.11812,     0.11912,\n",
       "           0.12012,     0.12112,     0.12212,     0.12312,     0.12412,     0.12513,     0.12613,     0.12713,     0.12813,     0.12913,     0.13013,     0.13113,     0.13213,     0.13313,     0.13413,     0.13514,     0.13614,     0.13714,     0.13814,     0.13914,     0.14014,     0.14114,     0.14214,     0.14314,\n",
       "           0.14414,     0.14515,     0.14615,     0.14715,     0.14815,     0.14915,     0.15015,     0.15115,     0.15215,     0.15315,     0.15415,     0.15516,     0.15616,     0.15716,     0.15816,     0.15916,     0.16016,     0.16116,     0.16216,     0.16316,     0.16416,     0.16517,     0.16617,     0.16717,\n",
       "           0.16817,     0.16917,     0.17017,     0.17117,     0.17217,     0.17317,     0.17417,     0.17518,     0.17618,     0.17718,     0.17818,     0.17918,     0.18018,     0.18118,     0.18218,     0.18318,     0.18418,     0.18519,     0.18619,     0.18719,     0.18819,     0.18919,     0.19019,     0.19119,\n",
       "           0.19219,     0.19319,     0.19419,      0.1952,      0.1962,      0.1972,      0.1982,      0.1992,      0.2002,      0.2012,      0.2022,      0.2032,      0.2042,     0.20521,     0.20621,     0.20721,     0.20821,     0.20921,     0.21021,     0.21121,     0.21221,     0.21321,     0.21421,     0.21522,\n",
       "           0.21622,     0.21722,     0.21822,     0.21922,     0.22022,     0.22122,     0.22222,     0.22322,     0.22422,     0.22523,     0.22623,     0.22723,     0.22823,     0.22923,     0.23023,     0.23123,     0.23223,     0.23323,     0.23423,     0.23524,     0.23624,     0.23724,     0.23824,     0.23924,\n",
       "           0.24024,     0.24124,     0.24224,     0.24324,     0.24424,     0.24525,     0.24625,     0.24725,     0.24825,     0.24925,     0.25025,     0.25125,     0.25225,     0.25325,     0.25425,     0.25526,     0.25626,     0.25726,     0.25826,     0.25926,     0.26026,     0.26126,     0.26226,     0.26326,\n",
       "           0.26426,     0.26527,     0.26627,     0.26727,     0.26827,     0.26927,     0.27027,     0.27127,     0.27227,     0.27327,     0.27427,     0.27528,     0.27628,     0.27728,     0.27828,     0.27928,     0.28028,     0.28128,     0.28228,     0.28328,     0.28428,     0.28529,     0.28629,     0.28729,\n",
       "           0.28829,     0.28929,     0.29029,     0.29129,     0.29229,     0.29329,     0.29429,      0.2953,      0.2963,      0.2973,      0.2983,      0.2993,      0.3003,      0.3013,      0.3023,      0.3033,      0.3043,     0.30531,     0.30631,     0.30731,     0.30831,     0.30931,     0.31031,     0.31131,\n",
       "           0.31231,     0.31331,     0.31431,     0.31532,     0.31632,     0.31732,     0.31832,     0.31932,     0.32032,     0.32132,     0.32232,     0.32332,     0.32432,     0.32533,     0.32633,     0.32733,     0.32833,     0.32933,     0.33033,     0.33133,     0.33233,     0.33333,     0.33433,     0.33534,\n",
       "           0.33634,     0.33734,     0.33834,     0.33934,     0.34034,     0.34134,     0.34234,     0.34334,     0.34434,     0.34535,     0.34635,     0.34735,     0.34835,     0.34935,     0.35035,     0.35135,     0.35235,     0.35335,     0.35435,     0.35536,     0.35636,     0.35736,     0.35836,     0.35936,\n",
       "           0.36036,     0.36136,     0.36236,     0.36336,     0.36436,     0.36537,     0.36637,     0.36737,     0.36837,     0.36937,     0.37037,     0.37137,     0.37237,     0.37337,     0.37437,     0.37538,     0.37638,     0.37738,     0.37838,     0.37938,     0.38038,     0.38138,     0.38238,     0.38338,\n",
       "           0.38438,     0.38539,     0.38639,     0.38739,     0.38839,     0.38939,     0.39039,     0.39139,     0.39239,     0.39339,     0.39439,      0.3954,      0.3964,      0.3974,      0.3984,      0.3994,      0.4004,      0.4014,      0.4024,      0.4034,      0.4044,     0.40541,     0.40641,     0.40741,\n",
       "           0.40841,     0.40941,     0.41041,     0.41141,     0.41241,     0.41341,     0.41441,     0.41542,     0.41642,     0.41742,     0.41842,     0.41942,     0.42042,     0.42142,     0.42242,     0.42342,     0.42442,     0.42543,     0.42643,     0.42743,     0.42843,     0.42943,     0.43043,     0.43143,\n",
       "           0.43243,     0.43343,     0.43443,     0.43544,     0.43644,     0.43744,     0.43844,     0.43944,     0.44044,     0.44144,     0.44244,     0.44344,     0.44444,     0.44545,     0.44645,     0.44745,     0.44845,     0.44945,     0.45045,     0.45145,     0.45245,     0.45345,     0.45445,     0.45546,\n",
       "           0.45646,     0.45746,     0.45846,     0.45946,     0.46046,     0.46146,     0.46246,     0.46346,     0.46446,     0.46547,     0.46647,     0.46747,     0.46847,     0.46947,     0.47047,     0.47147,     0.47247,     0.47347,     0.47447,     0.47548,     0.47648,     0.47748,     0.47848,     0.47948,\n",
       "           0.48048,     0.48148,     0.48248,     0.48348,     0.48448,     0.48549,     0.48649,     0.48749,     0.48849,     0.48949,     0.49049,     0.49149,     0.49249,     0.49349,     0.49449,      0.4955,      0.4965,      0.4975,      0.4985,      0.4995,      0.5005,      0.5015,      0.5025,      0.5035,\n",
       "            0.5045,     0.50551,     0.50651,     0.50751,     0.50851,     0.50951,     0.51051,     0.51151,     0.51251,     0.51351,     0.51451,     0.51552,     0.51652,     0.51752,     0.51852,     0.51952,     0.52052,     0.52152,     0.52252,     0.52352,     0.52452,     0.52553,     0.52653,     0.52753,\n",
       "           0.52853,     0.52953,     0.53053,     0.53153,     0.53253,     0.53353,     0.53453,     0.53554,     0.53654,     0.53754,     0.53854,     0.53954,     0.54054,     0.54154,     0.54254,     0.54354,     0.54454,     0.54555,     0.54655,     0.54755,     0.54855,     0.54955,     0.55055,     0.55155,\n",
       "           0.55255,     0.55355,     0.55455,     0.55556,     0.55656,     0.55756,     0.55856,     0.55956,     0.56056,     0.56156,     0.56256,     0.56356,     0.56456,     0.56557,     0.56657,     0.56757,     0.56857,     0.56957,     0.57057,     0.57157,     0.57257,     0.57357,     0.57457,     0.57558,\n",
       "           0.57658,     0.57758,     0.57858,     0.57958,     0.58058,     0.58158,     0.58258,     0.58358,     0.58458,     0.58559,     0.58659,     0.58759,     0.58859,     0.58959,     0.59059,     0.59159,     0.59259,     0.59359,     0.59459,      0.5956,      0.5966,      0.5976,      0.5986,      0.5996,\n",
       "            0.6006,      0.6016,      0.6026,      0.6036,      0.6046,     0.60561,     0.60661,     0.60761,     0.60861,     0.60961,     0.61061,     0.61161,     0.61261,     0.61361,     0.61461,     0.61562,     0.61662,     0.61762,     0.61862,     0.61962,     0.62062,     0.62162,     0.62262,     0.62362,\n",
       "           0.62462,     0.62563,     0.62663,     0.62763,     0.62863,     0.62963,     0.63063,     0.63163,     0.63263,     0.63363,     0.63463,     0.63564,     0.63664,     0.63764,     0.63864,     0.63964,     0.64064,     0.64164,     0.64264,     0.64364,     0.64464,     0.64565,     0.64665,     0.64765,\n",
       "           0.64865,     0.64965,     0.65065,     0.65165,     0.65265,     0.65365,     0.65465,     0.65566,     0.65666,     0.65766,     0.65866,     0.65966,     0.66066,     0.66166,     0.66266,     0.66366,     0.66466,     0.66567,     0.66667,     0.66767,     0.66867,     0.66967,     0.67067,     0.67167,\n",
       "           0.67267,     0.67367,     0.67467,     0.67568,     0.67668,     0.67768,     0.67868,     0.67968,     0.68068,     0.68168,     0.68268,     0.68368,     0.68468,     0.68569,     0.68669,     0.68769,     0.68869,     0.68969,     0.69069,     0.69169,     0.69269,     0.69369,     0.69469,      0.6957,\n",
       "            0.6967,      0.6977,      0.6987,      0.6997,      0.7007,      0.7017,      0.7027,      0.7037,      0.7047,     0.70571,     0.70671,     0.70771,     0.70871,     0.70971,     0.71071,     0.71171,     0.71271,     0.71371,     0.71471,     0.71572,     0.71672,     0.71772,     0.71872,     0.71972,\n",
       "           0.72072,     0.72172,     0.72272,     0.72372,     0.72472,     0.72573,     0.72673,     0.72773,     0.72873,     0.72973,     0.73073,     0.73173,     0.73273,     0.73373,     0.73473,     0.73574,     0.73674,     0.73774,     0.73874,     0.73974,     0.74074,     0.74174,     0.74274,     0.74374,\n",
       "           0.74474,     0.74575,     0.74675,     0.74775,     0.74875,     0.74975,     0.75075,     0.75175,     0.75275,     0.75375,     0.75475,     0.75576,     0.75676,     0.75776,     0.75876,     0.75976,     0.76076,     0.76176,     0.76276,     0.76376,     0.76476,     0.76577,     0.76677,     0.76777,\n",
       "           0.76877,     0.76977,     0.77077,     0.77177,     0.77277,     0.77377,     0.77477,     0.77578,     0.77678,     0.77778,     0.77878,     0.77978,     0.78078,     0.78178,     0.78278,     0.78378,     0.78478,     0.78579,     0.78679,     0.78779,     0.78879,     0.78979,     0.79079,     0.79179,\n",
       "           0.79279,     0.79379,     0.79479,      0.7958,      0.7968,      0.7978,      0.7988,      0.7998,      0.8008,      0.8018,      0.8028,      0.8038,      0.8048,     0.80581,     0.80681,     0.80781,     0.80881,     0.80981,     0.81081,     0.81181,     0.81281,     0.81381,     0.81481,     0.81582,\n",
       "           0.81682,     0.81782,     0.81882,     0.81982,     0.82082,     0.82182,     0.82282,     0.82382,     0.82482,     0.82583,     0.82683,     0.82783,     0.82883,     0.82983,     0.83083,     0.83183,     0.83283,     0.83383,     0.83483,     0.83584,     0.83684,     0.83784,     0.83884,     0.83984,\n",
       "           0.84084,     0.84184,     0.84284,     0.84384,     0.84484,     0.84585,     0.84685,     0.84785,     0.84885,     0.84985,     0.85085,     0.85185,     0.85285,     0.85385,     0.85485,     0.85586,     0.85686,     0.85786,     0.85886,     0.85986,     0.86086,     0.86186,     0.86286,     0.86386,\n",
       "           0.86486,     0.86587,     0.86687,     0.86787,     0.86887,     0.86987,     0.87087,     0.87187,     0.87287,     0.87387,     0.87487,     0.87588,     0.87688,     0.87788,     0.87888,     0.87988,     0.88088,     0.88188,     0.88288,     0.88388,     0.88488,     0.88589,     0.88689,     0.88789,\n",
       "           0.88889,     0.88989,     0.89089,     0.89189,     0.89289,     0.89389,     0.89489,      0.8959,      0.8969,      0.8979,      0.8989,      0.8999,      0.9009,      0.9019,      0.9029,      0.9039,      0.9049,     0.90591,     0.90691,     0.90791,     0.90891,     0.90991,     0.91091,     0.91191,\n",
       "           0.91291,     0.91391,     0.91491,     0.91592,     0.91692,     0.91792,     0.91892,     0.91992,     0.92092,     0.92192,     0.92292,     0.92392,     0.92492,     0.92593,     0.92693,     0.92793,     0.92893,     0.92993,     0.93093,     0.93193,     0.93293,     0.93393,     0.93493,     0.93594,\n",
       "           0.93694,     0.93794,     0.93894,     0.93994,     0.94094,     0.94194,     0.94294,     0.94394,     0.94494,     0.94595,     0.94695,     0.94795,     0.94895,     0.94995,     0.95095,     0.95195,     0.95295,     0.95395,     0.95495,     0.95596,     0.95696,     0.95796,     0.95896,     0.95996,\n",
       "           0.96096,     0.96196,     0.96296,     0.96396,     0.96496,     0.96597,     0.96697,     0.96797,     0.96897,     0.96997,     0.97097,     0.97197,     0.97297,     0.97397,     0.97497,     0.97598,     0.97698,     0.97798,     0.97898,     0.97998,     0.98098,     0.98198,     0.98298,     0.98398,\n",
       "           0.98498,     0.98599,     0.98699,     0.98799,     0.98899,     0.98999,     0.99099,     0.99199,     0.99299,     0.99399,     0.99499,       0.996,       0.997,       0.998,       0.999,           1]), array([[    0.27778,     0.27778,     0.38814, ...,           0,           0,           0],\n",
       "       [   0.071429,    0.071429,    0.096344, ...,           0,           0,           0],\n",
       "       [    0.32258,     0.32258,     0.44829, ...,           0,           0,           0],\n",
       "       ...,\n",
       "       [    0.44444,     0.44444,     0.57164, ...,           0,           0,           0],\n",
       "       [    0.22222,     0.22222,      0.2751, ...,           0,           0,           0],\n",
       "       [    0.19355,     0.19355,     0.22061, ...,           0,           0,           0]]), 'Confidence', 'F1'], [array([          0,    0.001001,    0.002002,    0.003003,    0.004004,    0.005005,    0.006006,    0.007007,    0.008008,    0.009009,     0.01001,    0.011011,    0.012012,    0.013013,    0.014014,    0.015015,    0.016016,    0.017017,    0.018018,    0.019019,     0.02002,    0.021021,    0.022022,    0.023023,\n",
       "          0.024024,    0.025025,    0.026026,    0.027027,    0.028028,    0.029029,     0.03003,    0.031031,    0.032032,    0.033033,    0.034034,    0.035035,    0.036036,    0.037037,    0.038038,    0.039039,     0.04004,    0.041041,    0.042042,    0.043043,    0.044044,    0.045045,    0.046046,    0.047047,\n",
       "          0.048048,    0.049049,     0.05005,    0.051051,    0.052052,    0.053053,    0.054054,    0.055055,    0.056056,    0.057057,    0.058058,    0.059059,     0.06006,    0.061061,    0.062062,    0.063063,    0.064064,    0.065065,    0.066066,    0.067067,    0.068068,    0.069069,     0.07007,    0.071071,\n",
       "          0.072072,    0.073073,    0.074074,    0.075075,    0.076076,    0.077077,    0.078078,    0.079079,     0.08008,    0.081081,    0.082082,    0.083083,    0.084084,    0.085085,    0.086086,    0.087087,    0.088088,    0.089089,     0.09009,    0.091091,    0.092092,    0.093093,    0.094094,    0.095095,\n",
       "          0.096096,    0.097097,    0.098098,    0.099099,      0.1001,      0.1011,      0.1021,      0.1031,      0.1041,     0.10511,     0.10611,     0.10711,     0.10811,     0.10911,     0.11011,     0.11111,     0.11211,     0.11311,     0.11411,     0.11512,     0.11612,     0.11712,     0.11812,     0.11912,\n",
       "           0.12012,     0.12112,     0.12212,     0.12312,     0.12412,     0.12513,     0.12613,     0.12713,     0.12813,     0.12913,     0.13013,     0.13113,     0.13213,     0.13313,     0.13413,     0.13514,     0.13614,     0.13714,     0.13814,     0.13914,     0.14014,     0.14114,     0.14214,     0.14314,\n",
       "           0.14414,     0.14515,     0.14615,     0.14715,     0.14815,     0.14915,     0.15015,     0.15115,     0.15215,     0.15315,     0.15415,     0.15516,     0.15616,     0.15716,     0.15816,     0.15916,     0.16016,     0.16116,     0.16216,     0.16316,     0.16416,     0.16517,     0.16617,     0.16717,\n",
       "           0.16817,     0.16917,     0.17017,     0.17117,     0.17217,     0.17317,     0.17417,     0.17518,     0.17618,     0.17718,     0.17818,     0.17918,     0.18018,     0.18118,     0.18218,     0.18318,     0.18418,     0.18519,     0.18619,     0.18719,     0.18819,     0.18919,     0.19019,     0.19119,\n",
       "           0.19219,     0.19319,     0.19419,      0.1952,      0.1962,      0.1972,      0.1982,      0.1992,      0.2002,      0.2012,      0.2022,      0.2032,      0.2042,     0.20521,     0.20621,     0.20721,     0.20821,     0.20921,     0.21021,     0.21121,     0.21221,     0.21321,     0.21421,     0.21522,\n",
       "           0.21622,     0.21722,     0.21822,     0.21922,     0.22022,     0.22122,     0.22222,     0.22322,     0.22422,     0.22523,     0.22623,     0.22723,     0.22823,     0.22923,     0.23023,     0.23123,     0.23223,     0.23323,     0.23423,     0.23524,     0.23624,     0.23724,     0.23824,     0.23924,\n",
       "           0.24024,     0.24124,     0.24224,     0.24324,     0.24424,     0.24525,     0.24625,     0.24725,     0.24825,     0.24925,     0.25025,     0.25125,     0.25225,     0.25325,     0.25425,     0.25526,     0.25626,     0.25726,     0.25826,     0.25926,     0.26026,     0.26126,     0.26226,     0.26326,\n",
       "           0.26426,     0.26527,     0.26627,     0.26727,     0.26827,     0.26927,     0.27027,     0.27127,     0.27227,     0.27327,     0.27427,     0.27528,     0.27628,     0.27728,     0.27828,     0.27928,     0.28028,     0.28128,     0.28228,     0.28328,     0.28428,     0.28529,     0.28629,     0.28729,\n",
       "           0.28829,     0.28929,     0.29029,     0.29129,     0.29229,     0.29329,     0.29429,      0.2953,      0.2963,      0.2973,      0.2983,      0.2993,      0.3003,      0.3013,      0.3023,      0.3033,      0.3043,     0.30531,     0.30631,     0.30731,     0.30831,     0.30931,     0.31031,     0.31131,\n",
       "           0.31231,     0.31331,     0.31431,     0.31532,     0.31632,     0.31732,     0.31832,     0.31932,     0.32032,     0.32132,     0.32232,     0.32332,     0.32432,     0.32533,     0.32633,     0.32733,     0.32833,     0.32933,     0.33033,     0.33133,     0.33233,     0.33333,     0.33433,     0.33534,\n",
       "           0.33634,     0.33734,     0.33834,     0.33934,     0.34034,     0.34134,     0.34234,     0.34334,     0.34434,     0.34535,     0.34635,     0.34735,     0.34835,     0.34935,     0.35035,     0.35135,     0.35235,     0.35335,     0.35435,     0.35536,     0.35636,     0.35736,     0.35836,     0.35936,\n",
       "           0.36036,     0.36136,     0.36236,     0.36336,     0.36436,     0.36537,     0.36637,     0.36737,     0.36837,     0.36937,     0.37037,     0.37137,     0.37237,     0.37337,     0.37437,     0.37538,     0.37638,     0.37738,     0.37838,     0.37938,     0.38038,     0.38138,     0.38238,     0.38338,\n",
       "           0.38438,     0.38539,     0.38639,     0.38739,     0.38839,     0.38939,     0.39039,     0.39139,     0.39239,     0.39339,     0.39439,      0.3954,      0.3964,      0.3974,      0.3984,      0.3994,      0.4004,      0.4014,      0.4024,      0.4034,      0.4044,     0.40541,     0.40641,     0.40741,\n",
       "           0.40841,     0.40941,     0.41041,     0.41141,     0.41241,     0.41341,     0.41441,     0.41542,     0.41642,     0.41742,     0.41842,     0.41942,     0.42042,     0.42142,     0.42242,     0.42342,     0.42442,     0.42543,     0.42643,     0.42743,     0.42843,     0.42943,     0.43043,     0.43143,\n",
       "           0.43243,     0.43343,     0.43443,     0.43544,     0.43644,     0.43744,     0.43844,     0.43944,     0.44044,     0.44144,     0.44244,     0.44344,     0.44444,     0.44545,     0.44645,     0.44745,     0.44845,     0.44945,     0.45045,     0.45145,     0.45245,     0.45345,     0.45445,     0.45546,\n",
       "           0.45646,     0.45746,     0.45846,     0.45946,     0.46046,     0.46146,     0.46246,     0.46346,     0.46446,     0.46547,     0.46647,     0.46747,     0.46847,     0.46947,     0.47047,     0.47147,     0.47247,     0.47347,     0.47447,     0.47548,     0.47648,     0.47748,     0.47848,     0.47948,\n",
       "           0.48048,     0.48148,     0.48248,     0.48348,     0.48448,     0.48549,     0.48649,     0.48749,     0.48849,     0.48949,     0.49049,     0.49149,     0.49249,     0.49349,     0.49449,      0.4955,      0.4965,      0.4975,      0.4985,      0.4995,      0.5005,      0.5015,      0.5025,      0.5035,\n",
       "            0.5045,     0.50551,     0.50651,     0.50751,     0.50851,     0.50951,     0.51051,     0.51151,     0.51251,     0.51351,     0.51451,     0.51552,     0.51652,     0.51752,     0.51852,     0.51952,     0.52052,     0.52152,     0.52252,     0.52352,     0.52452,     0.52553,     0.52653,     0.52753,\n",
       "           0.52853,     0.52953,     0.53053,     0.53153,     0.53253,     0.53353,     0.53453,     0.53554,     0.53654,     0.53754,     0.53854,     0.53954,     0.54054,     0.54154,     0.54254,     0.54354,     0.54454,     0.54555,     0.54655,     0.54755,     0.54855,     0.54955,     0.55055,     0.55155,\n",
       "           0.55255,     0.55355,     0.55455,     0.55556,     0.55656,     0.55756,     0.55856,     0.55956,     0.56056,     0.56156,     0.56256,     0.56356,     0.56456,     0.56557,     0.56657,     0.56757,     0.56857,     0.56957,     0.57057,     0.57157,     0.57257,     0.57357,     0.57457,     0.57558,\n",
       "           0.57658,     0.57758,     0.57858,     0.57958,     0.58058,     0.58158,     0.58258,     0.58358,     0.58458,     0.58559,     0.58659,     0.58759,     0.58859,     0.58959,     0.59059,     0.59159,     0.59259,     0.59359,     0.59459,      0.5956,      0.5966,      0.5976,      0.5986,      0.5996,\n",
       "            0.6006,      0.6016,      0.6026,      0.6036,      0.6046,     0.60561,     0.60661,     0.60761,     0.60861,     0.60961,     0.61061,     0.61161,     0.61261,     0.61361,     0.61461,     0.61562,     0.61662,     0.61762,     0.61862,     0.61962,     0.62062,     0.62162,     0.62262,     0.62362,\n",
       "           0.62462,     0.62563,     0.62663,     0.62763,     0.62863,     0.62963,     0.63063,     0.63163,     0.63263,     0.63363,     0.63463,     0.63564,     0.63664,     0.63764,     0.63864,     0.63964,     0.64064,     0.64164,     0.64264,     0.64364,     0.64464,     0.64565,     0.64665,     0.64765,\n",
       "           0.64865,     0.64965,     0.65065,     0.65165,     0.65265,     0.65365,     0.65465,     0.65566,     0.65666,     0.65766,     0.65866,     0.65966,     0.66066,     0.66166,     0.66266,     0.66366,     0.66466,     0.66567,     0.66667,     0.66767,     0.66867,     0.66967,     0.67067,     0.67167,\n",
       "           0.67267,     0.67367,     0.67467,     0.67568,     0.67668,     0.67768,     0.67868,     0.67968,     0.68068,     0.68168,     0.68268,     0.68368,     0.68468,     0.68569,     0.68669,     0.68769,     0.68869,     0.68969,     0.69069,     0.69169,     0.69269,     0.69369,     0.69469,      0.6957,\n",
       "            0.6967,      0.6977,      0.6987,      0.6997,      0.7007,      0.7017,      0.7027,      0.7037,      0.7047,     0.70571,     0.70671,     0.70771,     0.70871,     0.70971,     0.71071,     0.71171,     0.71271,     0.71371,     0.71471,     0.71572,     0.71672,     0.71772,     0.71872,     0.71972,\n",
       "           0.72072,     0.72172,     0.72272,     0.72372,     0.72472,     0.72573,     0.72673,     0.72773,     0.72873,     0.72973,     0.73073,     0.73173,     0.73273,     0.73373,     0.73473,     0.73574,     0.73674,     0.73774,     0.73874,     0.73974,     0.74074,     0.74174,     0.74274,     0.74374,\n",
       "           0.74474,     0.74575,     0.74675,     0.74775,     0.74875,     0.74975,     0.75075,     0.75175,     0.75275,     0.75375,     0.75475,     0.75576,     0.75676,     0.75776,     0.75876,     0.75976,     0.76076,     0.76176,     0.76276,     0.76376,     0.76476,     0.76577,     0.76677,     0.76777,\n",
       "           0.76877,     0.76977,     0.77077,     0.77177,     0.77277,     0.77377,     0.77477,     0.77578,     0.77678,     0.77778,     0.77878,     0.77978,     0.78078,     0.78178,     0.78278,     0.78378,     0.78478,     0.78579,     0.78679,     0.78779,     0.78879,     0.78979,     0.79079,     0.79179,\n",
       "           0.79279,     0.79379,     0.79479,      0.7958,      0.7968,      0.7978,      0.7988,      0.7998,      0.8008,      0.8018,      0.8028,      0.8038,      0.8048,     0.80581,     0.80681,     0.80781,     0.80881,     0.80981,     0.81081,     0.81181,     0.81281,     0.81381,     0.81481,     0.81582,\n",
       "           0.81682,     0.81782,     0.81882,     0.81982,     0.82082,     0.82182,     0.82282,     0.82382,     0.82482,     0.82583,     0.82683,     0.82783,     0.82883,     0.82983,     0.83083,     0.83183,     0.83283,     0.83383,     0.83483,     0.83584,     0.83684,     0.83784,     0.83884,     0.83984,\n",
       "           0.84084,     0.84184,     0.84284,     0.84384,     0.84484,     0.84585,     0.84685,     0.84785,     0.84885,     0.84985,     0.85085,     0.85185,     0.85285,     0.85385,     0.85485,     0.85586,     0.85686,     0.85786,     0.85886,     0.85986,     0.86086,     0.86186,     0.86286,     0.86386,\n",
       "           0.86486,     0.86587,     0.86687,     0.86787,     0.86887,     0.86987,     0.87087,     0.87187,     0.87287,     0.87387,     0.87487,     0.87588,     0.87688,     0.87788,     0.87888,     0.87988,     0.88088,     0.88188,     0.88288,     0.88388,     0.88488,     0.88589,     0.88689,     0.88789,\n",
       "           0.88889,     0.88989,     0.89089,     0.89189,     0.89289,     0.89389,     0.89489,      0.8959,      0.8969,      0.8979,      0.8989,      0.8999,      0.9009,      0.9019,      0.9029,      0.9039,      0.9049,     0.90591,     0.90691,     0.90791,     0.90891,     0.90991,     0.91091,     0.91191,\n",
       "           0.91291,     0.91391,     0.91491,     0.91592,     0.91692,     0.91792,     0.91892,     0.91992,     0.92092,     0.92192,     0.92292,     0.92392,     0.92492,     0.92593,     0.92693,     0.92793,     0.92893,     0.92993,     0.93093,     0.93193,     0.93293,     0.93393,     0.93493,     0.93594,\n",
       "           0.93694,     0.93794,     0.93894,     0.93994,     0.94094,     0.94194,     0.94294,     0.94394,     0.94494,     0.94595,     0.94695,     0.94795,     0.94895,     0.94995,     0.95095,     0.95195,     0.95295,     0.95395,     0.95495,     0.95596,     0.95696,     0.95796,     0.95896,     0.95996,\n",
       "           0.96096,     0.96196,     0.96296,     0.96396,     0.96496,     0.96597,     0.96697,     0.96797,     0.96897,     0.96997,     0.97097,     0.97197,     0.97297,     0.97397,     0.97497,     0.97598,     0.97698,     0.97798,     0.97898,     0.97998,     0.98098,     0.98198,     0.98298,     0.98398,\n",
       "           0.98498,     0.98599,     0.98699,     0.98799,     0.98899,     0.98999,     0.99099,     0.99199,     0.99299,     0.99399,     0.99499,       0.996,       0.997,       0.998,       0.999,           1]), array([[    0.16667,     0.16667,     0.25299, ...,           1,           1,           1],\n",
       "       [   0.037037,    0.037037,     0.05061, ...,           1,           1,           1],\n",
       "       [    0.19231,     0.19231,      0.2889, ...,           1,           1,           1],\n",
       "       ...,\n",
       "       [    0.28571,     0.28571,     0.40021, ...,           1,           1,           1],\n",
       "       [      0.125,       0.125,     0.15949, ...,           1,           1,           1],\n",
       "       [    0.10714,     0.10714,     0.12398, ...,           1,           1,           1]]), 'Confidence', 'Precision'], [array([          0,    0.001001,    0.002002,    0.003003,    0.004004,    0.005005,    0.006006,    0.007007,    0.008008,    0.009009,     0.01001,    0.011011,    0.012012,    0.013013,    0.014014,    0.015015,    0.016016,    0.017017,    0.018018,    0.019019,     0.02002,    0.021021,    0.022022,    0.023023,\n",
       "          0.024024,    0.025025,    0.026026,    0.027027,    0.028028,    0.029029,     0.03003,    0.031031,    0.032032,    0.033033,    0.034034,    0.035035,    0.036036,    0.037037,    0.038038,    0.039039,     0.04004,    0.041041,    0.042042,    0.043043,    0.044044,    0.045045,    0.046046,    0.047047,\n",
       "          0.048048,    0.049049,     0.05005,    0.051051,    0.052052,    0.053053,    0.054054,    0.055055,    0.056056,    0.057057,    0.058058,    0.059059,     0.06006,    0.061061,    0.062062,    0.063063,    0.064064,    0.065065,    0.066066,    0.067067,    0.068068,    0.069069,     0.07007,    0.071071,\n",
       "          0.072072,    0.073073,    0.074074,    0.075075,    0.076076,    0.077077,    0.078078,    0.079079,     0.08008,    0.081081,    0.082082,    0.083083,    0.084084,    0.085085,    0.086086,    0.087087,    0.088088,    0.089089,     0.09009,    0.091091,    0.092092,    0.093093,    0.094094,    0.095095,\n",
       "          0.096096,    0.097097,    0.098098,    0.099099,      0.1001,      0.1011,      0.1021,      0.1031,      0.1041,     0.10511,     0.10611,     0.10711,     0.10811,     0.10911,     0.11011,     0.11111,     0.11211,     0.11311,     0.11411,     0.11512,     0.11612,     0.11712,     0.11812,     0.11912,\n",
       "           0.12012,     0.12112,     0.12212,     0.12312,     0.12412,     0.12513,     0.12613,     0.12713,     0.12813,     0.12913,     0.13013,     0.13113,     0.13213,     0.13313,     0.13413,     0.13514,     0.13614,     0.13714,     0.13814,     0.13914,     0.14014,     0.14114,     0.14214,     0.14314,\n",
       "           0.14414,     0.14515,     0.14615,     0.14715,     0.14815,     0.14915,     0.15015,     0.15115,     0.15215,     0.15315,     0.15415,     0.15516,     0.15616,     0.15716,     0.15816,     0.15916,     0.16016,     0.16116,     0.16216,     0.16316,     0.16416,     0.16517,     0.16617,     0.16717,\n",
       "           0.16817,     0.16917,     0.17017,     0.17117,     0.17217,     0.17317,     0.17417,     0.17518,     0.17618,     0.17718,     0.17818,     0.17918,     0.18018,     0.18118,     0.18218,     0.18318,     0.18418,     0.18519,     0.18619,     0.18719,     0.18819,     0.18919,     0.19019,     0.19119,\n",
       "           0.19219,     0.19319,     0.19419,      0.1952,      0.1962,      0.1972,      0.1982,      0.1992,      0.2002,      0.2012,      0.2022,      0.2032,      0.2042,     0.20521,     0.20621,     0.20721,     0.20821,     0.20921,     0.21021,     0.21121,     0.21221,     0.21321,     0.21421,     0.21522,\n",
       "           0.21622,     0.21722,     0.21822,     0.21922,     0.22022,     0.22122,     0.22222,     0.22322,     0.22422,     0.22523,     0.22623,     0.22723,     0.22823,     0.22923,     0.23023,     0.23123,     0.23223,     0.23323,     0.23423,     0.23524,     0.23624,     0.23724,     0.23824,     0.23924,\n",
       "           0.24024,     0.24124,     0.24224,     0.24324,     0.24424,     0.24525,     0.24625,     0.24725,     0.24825,     0.24925,     0.25025,     0.25125,     0.25225,     0.25325,     0.25425,     0.25526,     0.25626,     0.25726,     0.25826,     0.25926,     0.26026,     0.26126,     0.26226,     0.26326,\n",
       "           0.26426,     0.26527,     0.26627,     0.26727,     0.26827,     0.26927,     0.27027,     0.27127,     0.27227,     0.27327,     0.27427,     0.27528,     0.27628,     0.27728,     0.27828,     0.27928,     0.28028,     0.28128,     0.28228,     0.28328,     0.28428,     0.28529,     0.28629,     0.28729,\n",
       "           0.28829,     0.28929,     0.29029,     0.29129,     0.29229,     0.29329,     0.29429,      0.2953,      0.2963,      0.2973,      0.2983,      0.2993,      0.3003,      0.3013,      0.3023,      0.3033,      0.3043,     0.30531,     0.30631,     0.30731,     0.30831,     0.30931,     0.31031,     0.31131,\n",
       "           0.31231,     0.31331,     0.31431,     0.31532,     0.31632,     0.31732,     0.31832,     0.31932,     0.32032,     0.32132,     0.32232,     0.32332,     0.32432,     0.32533,     0.32633,     0.32733,     0.32833,     0.32933,     0.33033,     0.33133,     0.33233,     0.33333,     0.33433,     0.33534,\n",
       "           0.33634,     0.33734,     0.33834,     0.33934,     0.34034,     0.34134,     0.34234,     0.34334,     0.34434,     0.34535,     0.34635,     0.34735,     0.34835,     0.34935,     0.35035,     0.35135,     0.35235,     0.35335,     0.35435,     0.35536,     0.35636,     0.35736,     0.35836,     0.35936,\n",
       "           0.36036,     0.36136,     0.36236,     0.36336,     0.36436,     0.36537,     0.36637,     0.36737,     0.36837,     0.36937,     0.37037,     0.37137,     0.37237,     0.37337,     0.37437,     0.37538,     0.37638,     0.37738,     0.37838,     0.37938,     0.38038,     0.38138,     0.38238,     0.38338,\n",
       "           0.38438,     0.38539,     0.38639,     0.38739,     0.38839,     0.38939,     0.39039,     0.39139,     0.39239,     0.39339,     0.39439,      0.3954,      0.3964,      0.3974,      0.3984,      0.3994,      0.4004,      0.4014,      0.4024,      0.4034,      0.4044,     0.40541,     0.40641,     0.40741,\n",
       "           0.40841,     0.40941,     0.41041,     0.41141,     0.41241,     0.41341,     0.41441,     0.41542,     0.41642,     0.41742,     0.41842,     0.41942,     0.42042,     0.42142,     0.42242,     0.42342,     0.42442,     0.42543,     0.42643,     0.42743,     0.42843,     0.42943,     0.43043,     0.43143,\n",
       "           0.43243,     0.43343,     0.43443,     0.43544,     0.43644,     0.43744,     0.43844,     0.43944,     0.44044,     0.44144,     0.44244,     0.44344,     0.44444,     0.44545,     0.44645,     0.44745,     0.44845,     0.44945,     0.45045,     0.45145,     0.45245,     0.45345,     0.45445,     0.45546,\n",
       "           0.45646,     0.45746,     0.45846,     0.45946,     0.46046,     0.46146,     0.46246,     0.46346,     0.46446,     0.46547,     0.46647,     0.46747,     0.46847,     0.46947,     0.47047,     0.47147,     0.47247,     0.47347,     0.47447,     0.47548,     0.47648,     0.47748,     0.47848,     0.47948,\n",
       "           0.48048,     0.48148,     0.48248,     0.48348,     0.48448,     0.48549,     0.48649,     0.48749,     0.48849,     0.48949,     0.49049,     0.49149,     0.49249,     0.49349,     0.49449,      0.4955,      0.4965,      0.4975,      0.4985,      0.4995,      0.5005,      0.5015,      0.5025,      0.5035,\n",
       "            0.5045,     0.50551,     0.50651,     0.50751,     0.50851,     0.50951,     0.51051,     0.51151,     0.51251,     0.51351,     0.51451,     0.51552,     0.51652,     0.51752,     0.51852,     0.51952,     0.52052,     0.52152,     0.52252,     0.52352,     0.52452,     0.52553,     0.52653,     0.52753,\n",
       "           0.52853,     0.52953,     0.53053,     0.53153,     0.53253,     0.53353,     0.53453,     0.53554,     0.53654,     0.53754,     0.53854,     0.53954,     0.54054,     0.54154,     0.54254,     0.54354,     0.54454,     0.54555,     0.54655,     0.54755,     0.54855,     0.54955,     0.55055,     0.55155,\n",
       "           0.55255,     0.55355,     0.55455,     0.55556,     0.55656,     0.55756,     0.55856,     0.55956,     0.56056,     0.56156,     0.56256,     0.56356,     0.56456,     0.56557,     0.56657,     0.56757,     0.56857,     0.56957,     0.57057,     0.57157,     0.57257,     0.57357,     0.57457,     0.57558,\n",
       "           0.57658,     0.57758,     0.57858,     0.57958,     0.58058,     0.58158,     0.58258,     0.58358,     0.58458,     0.58559,     0.58659,     0.58759,     0.58859,     0.58959,     0.59059,     0.59159,     0.59259,     0.59359,     0.59459,      0.5956,      0.5966,      0.5976,      0.5986,      0.5996,\n",
       "            0.6006,      0.6016,      0.6026,      0.6036,      0.6046,     0.60561,     0.60661,     0.60761,     0.60861,     0.60961,     0.61061,     0.61161,     0.61261,     0.61361,     0.61461,     0.61562,     0.61662,     0.61762,     0.61862,     0.61962,     0.62062,     0.62162,     0.62262,     0.62362,\n",
       "           0.62462,     0.62563,     0.62663,     0.62763,     0.62863,     0.62963,     0.63063,     0.63163,     0.63263,     0.63363,     0.63463,     0.63564,     0.63664,     0.63764,     0.63864,     0.63964,     0.64064,     0.64164,     0.64264,     0.64364,     0.64464,     0.64565,     0.64665,     0.64765,\n",
       "           0.64865,     0.64965,     0.65065,     0.65165,     0.65265,     0.65365,     0.65465,     0.65566,     0.65666,     0.65766,     0.65866,     0.65966,     0.66066,     0.66166,     0.66266,     0.66366,     0.66466,     0.66567,     0.66667,     0.66767,     0.66867,     0.66967,     0.67067,     0.67167,\n",
       "           0.67267,     0.67367,     0.67467,     0.67568,     0.67668,     0.67768,     0.67868,     0.67968,     0.68068,     0.68168,     0.68268,     0.68368,     0.68468,     0.68569,     0.68669,     0.68769,     0.68869,     0.68969,     0.69069,     0.69169,     0.69269,     0.69369,     0.69469,      0.6957,\n",
       "            0.6967,      0.6977,      0.6987,      0.6997,      0.7007,      0.7017,      0.7027,      0.7037,      0.7047,     0.70571,     0.70671,     0.70771,     0.70871,     0.70971,     0.71071,     0.71171,     0.71271,     0.71371,     0.71471,     0.71572,     0.71672,     0.71772,     0.71872,     0.71972,\n",
       "           0.72072,     0.72172,     0.72272,     0.72372,     0.72472,     0.72573,     0.72673,     0.72773,     0.72873,     0.72973,     0.73073,     0.73173,     0.73273,     0.73373,     0.73473,     0.73574,     0.73674,     0.73774,     0.73874,     0.73974,     0.74074,     0.74174,     0.74274,     0.74374,\n",
       "           0.74474,     0.74575,     0.74675,     0.74775,     0.74875,     0.74975,     0.75075,     0.75175,     0.75275,     0.75375,     0.75475,     0.75576,     0.75676,     0.75776,     0.75876,     0.75976,     0.76076,     0.76176,     0.76276,     0.76376,     0.76476,     0.76577,     0.76677,     0.76777,\n",
       "           0.76877,     0.76977,     0.77077,     0.77177,     0.77277,     0.77377,     0.77477,     0.77578,     0.77678,     0.77778,     0.77878,     0.77978,     0.78078,     0.78178,     0.78278,     0.78378,     0.78478,     0.78579,     0.78679,     0.78779,     0.78879,     0.78979,     0.79079,     0.79179,\n",
       "           0.79279,     0.79379,     0.79479,      0.7958,      0.7968,      0.7978,      0.7988,      0.7998,      0.8008,      0.8018,      0.8028,      0.8038,      0.8048,     0.80581,     0.80681,     0.80781,     0.80881,     0.80981,     0.81081,     0.81181,     0.81281,     0.81381,     0.81481,     0.81582,\n",
       "           0.81682,     0.81782,     0.81882,     0.81982,     0.82082,     0.82182,     0.82282,     0.82382,     0.82482,     0.82583,     0.82683,     0.82783,     0.82883,     0.82983,     0.83083,     0.83183,     0.83283,     0.83383,     0.83483,     0.83584,     0.83684,     0.83784,     0.83884,     0.83984,\n",
       "           0.84084,     0.84184,     0.84284,     0.84384,     0.84484,     0.84585,     0.84685,     0.84785,     0.84885,     0.84985,     0.85085,     0.85185,     0.85285,     0.85385,     0.85485,     0.85586,     0.85686,     0.85786,     0.85886,     0.85986,     0.86086,     0.86186,     0.86286,     0.86386,\n",
       "           0.86486,     0.86587,     0.86687,     0.86787,     0.86887,     0.86987,     0.87087,     0.87187,     0.87287,     0.87387,     0.87487,     0.87588,     0.87688,     0.87788,     0.87888,     0.87988,     0.88088,     0.88188,     0.88288,     0.88388,     0.88488,     0.88589,     0.88689,     0.88789,\n",
       "           0.88889,     0.88989,     0.89089,     0.89189,     0.89289,     0.89389,     0.89489,      0.8959,      0.8969,      0.8979,      0.8989,      0.8999,      0.9009,      0.9019,      0.9029,      0.9039,      0.9049,     0.90591,     0.90691,     0.90791,     0.90891,     0.90991,     0.91091,     0.91191,\n",
       "           0.91291,     0.91391,     0.91491,     0.91592,     0.91692,     0.91792,     0.91892,     0.91992,     0.92092,     0.92192,     0.92292,     0.92392,     0.92492,     0.92593,     0.92693,     0.92793,     0.92893,     0.92993,     0.93093,     0.93193,     0.93293,     0.93393,     0.93493,     0.93594,\n",
       "           0.93694,     0.93794,     0.93894,     0.93994,     0.94094,     0.94194,     0.94294,     0.94394,     0.94494,     0.94595,     0.94695,     0.94795,     0.94895,     0.94995,     0.95095,     0.95195,     0.95295,     0.95395,     0.95495,     0.95596,     0.95696,     0.95796,     0.95896,     0.95996,\n",
       "           0.96096,     0.96196,     0.96296,     0.96396,     0.96496,     0.96597,     0.96697,     0.96797,     0.96897,     0.96997,     0.97097,     0.97197,     0.97297,     0.97397,     0.97497,     0.97598,     0.97698,     0.97798,     0.97898,     0.97998,     0.98098,     0.98198,     0.98298,     0.98398,\n",
       "           0.98498,     0.98599,     0.98699,     0.98799,     0.98899,     0.98999,     0.99099,     0.99199,     0.99299,     0.99399,     0.99499,       0.996,       0.997,       0.998,       0.999,           1]), array([[    0.83333,     0.83333,     0.83333, ...,           0,           0,           0],\n",
       "       [          1,           1,           1, ...,           0,           0,           0],\n",
       "       [          1,           1,           1, ...,           0,           0,           0],\n",
       "       ...,\n",
       "       [          1,           1,           1, ...,           0,           0,           0],\n",
       "       [          1,           1,           1, ...,           0,           0,           0],\n",
       "       [          1,           1,           1, ...,           0,           0,           0]]), 'Confidence', 'Recall']]\n",
       "fitness: np.float64(0.7637157736435441)\n",
       "keys: ['metrics/precision(B)', 'metrics/recall(B)', 'metrics/mAP50(B)', 'metrics/mAP50-95(B)']\n",
       "maps: array([    0.58528,      0.8955,     0.70985,      0.7518,     0.74171,      0.8955,     0.76678,     0.79269,      0.7518,      0.6271])\n",
       "names: {0: 'Kick Sauber', 1: 'Racing Bulls', 2: 'Alpine', 3: 'Aston Martin', 4: 'Ferarri', 5: 'Haas', 6: 'Mclaren', 7: 'Mercedes', 8: 'Red Bull', 9: 'Williams'}\n",
       "plot: True\n",
       "results_dict: {'metrics/precision(B)': np.float64(0.6994150061673156), 'metrics/recall(B)': np.float64(0.7922347681283299), 'metrics/mAP50(B)': np.float64(0.8709500000000001), 'metrics/mAP50-95(B)': np.float64(0.7518008596039378), 'fitness': np.float64(0.7637157736435441)}\n",
       "save_dir: WindowsPath('../f1-strategy/yolo-files/runs/train_finetune')\n",
       "speed: {'preprocess': 0.6113529205322266, 'inference': 7.559692859649658, 'loss': 0.0, 'postprocess': 0.7712364196777344}\n",
       "task: 'detect'"
      ]
     },
     "execution_count": 13,
     "metadata": {},
     "output_type": "execute_result"
    }
   ],
   "source": [
    "model_fine_tuned = YOLO(\"../f1-strategy/weights/f1_detection_best.pt\")\n",
    "\n",
    "model_fine_tuned.train(\n",
    "    data=\"../f1-strategy/f1-dataset/data.yaml\",\n",
    "    epochs=NUM_EPOCHS,\n",
    "    batch=BATCH_SIZE,\n",
    "    optimizer=\"AdamW\",\n",
    "    lr0=LEARNING_RATE / 3,  # Reducción más agresiva del learning rate\n",
    "    momentum=0.9,\n",
    "    weight_decay=0.001,  # Aumentar regularización\n",
    "    label_smoothing=0.2,  # Mayor suavizado para evitar overconfidence\n",
    "    degrees=15.0,  # Más rotación para ayudar con ángulos lejanos\n",
    "    mixup=0.3,  # Mayor mezcla para generalización\n",
    "    patience=15,  # Más paciencia para convergencia\n",
    "    pretrained=True,\n",
    "    project='../f1-strategy/yolo-files/runs',\n",
    "    name='train_finetune',\n",
    "    flipud=0.1,  # Añadir flip vertical\n",
    "    shear=2.0  # Distorsión adicional\n",
    ")"
   ]
  },
  {
   "cell_type": "markdown",
   "metadata": {},
   "source": [
    "#### Best 2 para fine tuned 2:\n",
    "\n",
    "Comparación con modelo base original:\n",
    "Modelo Base Original:\n",
    "\n",
    "mAP50: 0.762\n",
    "mAP50-95: 0.633\n",
    "\n",
    "Modelo Base Optimizado:\n",
    "\n",
    "mAP50: 0.815 (↑ 0.053)\n",
    "mAP50-95: 0.661 (↑ 0.028)\n",
    "\n",
    "Análisis por clase:\n",
    "\n",
    "Kick Sauber:\n",
    "\n",
    "Original: P=0.784, R=0.5, mAP50=0.691\n",
    "Optimizado: P=0.794, R=0.5, mAP50=0.71\n",
    "Mejora: Ligero aumento en precision y mAP, mismo recall\n",
    "\n",
    "Racing Bulls:\n",
    "\n",
    "Original: P=0.353, R=1.0, mAP50=0.995\n",
    "Optimizado: P=0.47, R=1.0, mAP50=0.995\n",
    "Mejora: Incremento significativo en precision (+0.117)\n",
    "\n",
    "Alpine:\n",
    "\n",
    "Original: P=0.532, R=0.6, mAP50=0.669\n",
    "Optimizado: P=0.797, R=0.787, mAP50=0.811\n",
    "Mejora: Aumento importante en precision (+0.265) y recall (+0.187)\n",
    "\n",
    "Ferrari:\n",
    "\n",
    "Original: P=0.689, R=0.75, mAP50=0.812\n",
    "Optimizado: P=0.626, R=0.75, mAP50=0.788\n",
    "Cambio: Ligera reducción en precision, mismo recall\n",
    "\n",
    "Haas:\n",
    "\n",
    "Original: P=0.588, R=1.0, mAP50=0.995\n",
    "Optimizado: P=0.476, R=1.0, mAP50=0.995\n",
    "Cambio: Reducción en precision, mismo recall\n",
    "\n",
    "McLaren:\n",
    "\n",
    "Original: P=1.0, R=0.581, mAP50=0.887\n",
    "Optimizado: P=0.81, R=0.5, mAP50=0.775\n",
    "Cambio: Reducción en todos los aspectos, especialmente recall\n",
    "\n",
    "Mercedes:\n",
    "\n",
    "Original: P=0.841, R=0.333, mAP50=0.72\n",
    "Optimizado: P=1.0, R=0.813, mAP50=0.995\n",
    "Mejora: Gran aumento en recall (+0.48) y mAP, precision perfecta\n",
    "\n",
    "Williams:\n",
    "\n",
    "Original: P=0.316, R=1.0, mAP50=0.332\n",
    "Optimizado: P=0.26, R=1.0, mAP50=0.45\n",
    "Cambio: Ligera reducción en precision, pero aumento en mAP\n"
   ]
  },
  {
   "cell_type": "code",
   "execution_count": null,
   "metadata": {},
   "outputs": [
    {
     "name": "stdout",
     "output_type": "stream",
     "text": [
      "New https://pypi.org/project/ultralytics/8.3.79 available  Update with 'pip install -U ultralytics'\n",
      "WARNING  'label_smoothing' is deprecated and will be removed in in the future.\n",
      "\u001b[34m\u001b[1mengine\\trainer: \u001b[0mtask=detect, mode=train, model=../f1-strategy/weights/f1_detection_best_2.pt, data=../f1-strategy/f1-dataset/data.yaml, epochs=30, time=None, patience=25, batch=6, imgsz=640, save=True, save_period=2, cache=False, device=cuda, workers=8, project=../f1-strategy/yolo-files/runs, name=train_finetune_adjusted, exist_ok=False, pretrained=True, optimizer=AdamW, verbose=True, seed=0, deterministic=True, single_cls=False, rect=False, cos_lr=True, close_mosaic=10, resume=False, amp=True, fraction=1.0, profile=False, freeze=None, multi_scale=False, overlap_mask=True, mask_ratio=4, dropout=0.0, val=True, split=val, save_json=False, save_hybrid=False, conf=None, iou=0.65, max_det=300, half=False, dnn=False, plots=True, source=None, vid_stride=1, stream_buffer=False, visualize=False, augment=False, agnostic_nms=False, classes=None, retina_masks=False, embed=None, show=False, save_frames=False, save_txt=False, save_conf=False, save_crop=False, show_labels=True, show_conf=True, show_boxes=True, line_width=None, format=torchscript, keras=False, optimize=False, int8=False, dynamic=False, simplify=True, opset=None, workspace=None, nms=False, lr0=6.25e-05, lrf=0.0005, momentum=0.937, weight_decay=0.004, warmup_epochs=3.0, warmup_momentum=0.8, warmup_bias_lr=0.1, box=4.0, cls=3.5, dfl=1.5, pose=12.0, kobj=1.0, nbs=64, hsv_h=0.02, hsv_s=0.25, hsv_v=0.15, degrees=15.0, translate=0.2, scale=0.35, shear=2.5, perspective=0.001, flipud=0.05, fliplr=0.5, bgr=0.0, mosaic=0.9, mixup=0.3, copy_paste=0.25, copy_paste_mode=flip, auto_augment=randaugment, erasing=0.4, crop_fraction=1.0, cfg=None, tracker=botsort.yaml, save_dir=..\\f1-strategy\\yolo-files\\runs\\train_finetune_adjusted\n",
      "\n",
      "                   from  n    params  module                                       arguments                     \n",
      "  0                  -1  1      1392  ultralytics.nn.modules.conv.Conv             [3, 48, 3, 2]                 \n",
      "  1                  -1  1     41664  ultralytics.nn.modules.conv.Conv             [48, 96, 3, 2]                \n",
      "  2                  -1  2    111360  ultralytics.nn.modules.block.C2f             [96, 96, 2, True]             \n",
      "  3                  -1  1    166272  ultralytics.nn.modules.conv.Conv             [96, 192, 3, 2]               \n",
      "  4                  -1  4    813312  ultralytics.nn.modules.block.C2f             [192, 192, 4, True]           \n",
      "  5                  -1  1    664320  ultralytics.nn.modules.conv.Conv             [192, 384, 3, 2]              \n",
      "  6                  -1  4   3248640  ultralytics.nn.modules.block.C2f             [384, 384, 4, True]           \n",
      "  7                  -1  1   1991808  ultralytics.nn.modules.conv.Conv             [384, 576, 3, 2]              \n",
      "  8                  -1  2   3985920  ultralytics.nn.modules.block.C2f             [576, 576, 2, True]           \n",
      "  9                  -1  1    831168  ultralytics.nn.modules.block.SPPF            [576, 576, 5]                 \n",
      " 10                  -1  1         0  torch.nn.modules.upsampling.Upsample         [None, 2, 'nearest']          \n",
      " 11             [-1, 6]  1         0  ultralytics.nn.modules.conv.Concat           [1]                           \n",
      " 12                  -1  2   1993728  ultralytics.nn.modules.block.C2f             [960, 384, 2]                 \n",
      " 13                  -1  1         0  torch.nn.modules.upsampling.Upsample         [None, 2, 'nearest']          \n",
      " 14             [-1, 4]  1         0  ultralytics.nn.modules.conv.Concat           [1]                           \n",
      " 15                  -1  2    517632  ultralytics.nn.modules.block.C2f             [576, 192, 2]                 \n",
      " 16                  -1  1    332160  ultralytics.nn.modules.conv.Conv             [192, 192, 3, 2]              \n",
      " 17            [-1, 12]  1         0  ultralytics.nn.modules.conv.Concat           [1]                           \n",
      " 18                  -1  2   1846272  ultralytics.nn.modules.block.C2f             [576, 384, 2]                 \n",
      " 19                  -1  1   1327872  ultralytics.nn.modules.conv.Conv             [384, 384, 3, 2]              \n",
      " 20             [-1, 9]  1         0  ultralytics.nn.modules.conv.Concat           [1]                           \n",
      " 21                  -1  2   4207104  ultralytics.nn.modules.block.C2f             [960, 576, 2]                 \n",
      " 22        [15, 18, 21]  1   3781486  ultralytics.nn.modules.head.Detect           [10, [192, 384, 576]]         \n",
      "Model summary: 295 layers, 25,862,110 parameters, 25,862,094 gradients, 79.1 GFLOPs\n",
      "\n",
      "Transferred 90/475 items from pretrained weights\n",
      "Freezing layer 'model.22.dfl.conv.weight'\n",
      "\u001b[34m\u001b[1mAMP: \u001b[0mrunning Automatic Mixed Precision (AMP) checks...\n",
      "\u001b[34m\u001b[1mAMP: \u001b[0mchecks passed \n"
     ]
    },
    {
     "name": "stderr",
     "output_type": "stream",
     "text": [
      "\u001b[34m\u001b[1mtrain: \u001b[0mScanning C:\\Users\\victo\\Desktop\\Documents\\Tercer año\\Segundo Cuatrimestre\\Finales\\f1-strategy\\f1-dataset\\train\\labels.cache... 2500 images, 0 backgrounds, 0 corrupt: 100%|██████████| 2500/2500 [00:00<?, ?it/s]"
     ]
    },
    {
     "name": "stdout",
     "output_type": "stream",
     "text": [
      "\u001b[34m\u001b[1malbumentations: \u001b[0mBlur(p=0.01, blur_limit=(3, 7)), MedianBlur(p=0.01, blur_limit=(3, 7)), ToGray(p=0.01, num_output_channels=3, method='weighted_average'), CLAHE(p=0.01, clip_limit=(1.0, 4.0), tile_grid_size=(8, 8))\n"
     ]
    },
    {
     "name": "stderr",
     "output_type": "stream",
     "text": [
      "\n",
      "\u001b[34m\u001b[1mval: \u001b[0mScanning C:\\Users\\victo\\Desktop\\Documents\\Tercer año\\Segundo Cuatrimestre\\Finales\\f1-strategy\\f1-dataset\\valid\\labels.cache... 20 images, 0 backgrounds, 0 corrupt: 100%|██████████| 20/20 [00:00<?, ?it/s]\n"
     ]
    },
    {
     "name": "stdout",
     "output_type": "stream",
     "text": [
      "Plotting labels to ..\\f1-strategy\\yolo-files\\runs\\train_finetune_adjusted\\labels.jpg... \n",
      "\u001b[34m\u001b[1moptimizer:\u001b[0m AdamW(lr=6.25e-05, momentum=0.937) with parameter groups 77 weight(decay=0.0), 84 weight(decay=0.004125), 83 bias(decay=0.0)\n",
      "Image sizes 640 train, 640 val\n",
      "Using 8 dataloader workers\n",
      "Logging results to \u001b[1m..\\f1-strategy\\yolo-files\\runs\\train_finetune_adjusted\u001b[0m\n",
      "Starting training for 30 epochs...\n",
      "\n",
      "      Epoch    GPU_mem   box_loss   cls_loss   dfl_loss  Instances       Size\n"
     ]
    },
    {
     "name": "stderr",
     "output_type": "stream",
     "text": [
      "       1/30      3.34G     0.8512      11.36      1.807         13        640: 100%|██████████| 417/417 [01:12<00:00,  5.74it/s]\n",
      "                 Class     Images  Instances      Box(P          R      mAP50  mAP50-95): 100%|██████████| 2/2 [00:00<00:00,  8.03it/s]"
     ]
    },
    {
     "name": "stdout",
     "output_type": "stream",
     "text": [
      "                   all         20         29      0.715      0.716      0.857      0.435\n"
     ]
    },
    {
     "name": "stderr",
     "output_type": "stream",
     "text": [
      "\n"
     ]
    },
    {
     "name": "stdout",
     "output_type": "stream",
     "text": [
      "\n",
      "      Epoch    GPU_mem   box_loss   cls_loss   dfl_loss  Instances       Size\n"
     ]
    },
    {
     "name": "stderr",
     "output_type": "stream",
     "text": [
      "       2/30      3.49G     0.7518      8.926      1.695          7        640: 100%|██████████| 417/417 [01:11<00:00,  5.84it/s]\n",
      "                 Class     Images  Instances      Box(P          R      mAP50  mAP50-95): 100%|██████████| 2/2 [00:00<00:00,  7.83it/s]"
     ]
    },
    {
     "name": "stdout",
     "output_type": "stream",
     "text": [
      "                   all         20         29      0.688      0.758      0.858       0.55\n"
     ]
    },
    {
     "name": "stderr",
     "output_type": "stream",
     "text": [
      "\n"
     ]
    },
    {
     "name": "stdout",
     "output_type": "stream",
     "text": [
      "\n",
      "      Epoch    GPU_mem   box_loss   cls_loss   dfl_loss  Instances       Size\n"
     ]
    },
    {
     "name": "stderr",
     "output_type": "stream",
     "text": [
      "       3/30       3.4G     0.7157      7.962      1.649         15        640: 100%|██████████| 417/417 [01:10<00:00,  5.89it/s]\n",
      "                 Class     Images  Instances      Box(P          R      mAP50  mAP50-95): 100%|██████████| 2/2 [00:00<00:00,  7.87it/s]"
     ]
    },
    {
     "name": "stdout",
     "output_type": "stream",
     "text": [
      "                   all         20         29       0.66      0.873      0.858      0.561\n"
     ]
    },
    {
     "name": "stderr",
     "output_type": "stream",
     "text": [
      "\n"
     ]
    },
    {
     "name": "stdout",
     "output_type": "stream",
     "text": [
      "\n",
      "      Epoch    GPU_mem   box_loss   cls_loss   dfl_loss  Instances       Size\n"
     ]
    },
    {
     "name": "stderr",
     "output_type": "stream",
     "text": [
      "       4/30      3.47G     0.7029      7.549      1.617         13        640: 100%|██████████| 417/417 [01:10<00:00,  5.92it/s]\n",
      "                 Class     Images  Instances      Box(P          R      mAP50  mAP50-95): 100%|██████████| 2/2 [00:00<00:00,  8.43it/s]"
     ]
    },
    {
     "name": "stdout",
     "output_type": "stream",
     "text": [
      "                   all         20         29       0.68      0.848       0.91      0.612\n"
     ]
    },
    {
     "name": "stderr",
     "output_type": "stream",
     "text": [
      "\n"
     ]
    },
    {
     "name": "stdout",
     "output_type": "stream",
     "text": [
      "\n",
      "      Epoch    GPU_mem   box_loss   cls_loss   dfl_loss  Instances       Size\n"
     ]
    },
    {
     "name": "stderr",
     "output_type": "stream",
     "text": [
      "       5/30      3.47G     0.6765      7.303      1.591         15        640: 100%|██████████| 417/417 [01:09<00:00,  6.01it/s]\n",
      "                 Class     Images  Instances      Box(P          R      mAP50  mAP50-95): 100%|██████████| 2/2 [00:00<00:00,  8.54it/s]"
     ]
    },
    {
     "name": "stdout",
     "output_type": "stream",
     "text": [
      "                   all         20         29      0.719      0.771      0.878      0.607\n"
     ]
    },
    {
     "name": "stderr",
     "output_type": "stream",
     "text": [
      "\n"
     ]
    },
    {
     "name": "stdout",
     "output_type": "stream",
     "text": [
      "\n",
      "      Epoch    GPU_mem   box_loss   cls_loss   dfl_loss  Instances       Size\n"
     ]
    },
    {
     "name": "stderr",
     "output_type": "stream",
     "text": [
      "       6/30      3.46G     0.6786      7.091      1.589         17        640: 100%|██████████| 417/417 [01:09<00:00,  6.04it/s]\n",
      "                 Class     Images  Instances      Box(P          R      mAP50  mAP50-95): 100%|██████████| 2/2 [00:00<00:00,  8.28it/s]"
     ]
    },
    {
     "name": "stdout",
     "output_type": "stream",
     "text": [
      "                   all         20         29      0.791      0.759      0.891      0.634\n"
     ]
    },
    {
     "name": "stderr",
     "output_type": "stream",
     "text": [
      "\n"
     ]
    },
    {
     "name": "stdout",
     "output_type": "stream",
     "text": [
      "\n",
      "      Epoch    GPU_mem   box_loss   cls_loss   dfl_loss  Instances       Size\n"
     ]
    },
    {
     "name": "stderr",
     "output_type": "stream",
     "text": [
      "       7/30      3.49G      0.665       6.75      1.571         17        640: 100%|██████████| 417/417 [01:09<00:00,  6.03it/s]\n",
      "                 Class     Images  Instances      Box(P          R      mAP50  mAP50-95): 100%|██████████| 2/2 [00:00<00:00,  8.36it/s]"
     ]
    },
    {
     "name": "stdout",
     "output_type": "stream",
     "text": [
      "                   all         20         29       0.77      0.797      0.913      0.631\n"
     ]
    },
    {
     "name": "stderr",
     "output_type": "stream",
     "text": [
      "\n"
     ]
    },
    {
     "name": "stdout",
     "output_type": "stream",
     "text": [
      "\n",
      "      Epoch    GPU_mem   box_loss   cls_loss   dfl_loss  Instances       Size\n"
     ]
    },
    {
     "name": "stderr",
     "output_type": "stream",
     "text": [
      "       8/30      3.39G     0.6544      6.553      1.559         15        640: 100%|██████████| 417/417 [01:09<00:00,  6.04it/s]\n",
      "                 Class     Images  Instances      Box(P          R      mAP50  mAP50-95): 100%|██████████| 2/2 [00:00<00:00,  8.29it/s]"
     ]
    },
    {
     "name": "stdout",
     "output_type": "stream",
     "text": [
      "                   all         20         29      0.821      0.706      0.916      0.588\n"
     ]
    },
    {
     "name": "stderr",
     "output_type": "stream",
     "text": [
      "\n"
     ]
    },
    {
     "name": "stdout",
     "output_type": "stream",
     "text": [
      "\n",
      "      Epoch    GPU_mem   box_loss   cls_loss   dfl_loss  Instances       Size\n"
     ]
    },
    {
     "name": "stderr",
     "output_type": "stream",
     "text": [
      "       9/30      3.48G     0.6525      6.497      1.559         11        640: 100%|██████████| 417/417 [01:09<00:00,  5.98it/s]\n",
      "                 Class     Images  Instances      Box(P          R      mAP50  mAP50-95): 100%|██████████| 2/2 [00:00<00:00,  7.85it/s]"
     ]
    },
    {
     "name": "stdout",
     "output_type": "stream",
     "text": [
      "                   all         20         29      0.667      0.845      0.897      0.622\n"
     ]
    },
    {
     "name": "stderr",
     "output_type": "stream",
     "text": [
      "\n"
     ]
    },
    {
     "name": "stdout",
     "output_type": "stream",
     "text": [
      "\n",
      "      Epoch    GPU_mem   box_loss   cls_loss   dfl_loss  Instances       Size\n"
     ]
    },
    {
     "name": "stderr",
     "output_type": "stream",
     "text": [
      "      10/30      3.47G     0.6554      6.414      1.548         12        640: 100%|██████████| 417/417 [01:10<00:00,  5.92it/s]\n",
      "                 Class     Images  Instances      Box(P          R      mAP50  mAP50-95): 100%|██████████| 2/2 [00:00<00:00,  7.74it/s]"
     ]
    },
    {
     "name": "stdout",
     "output_type": "stream",
     "text": [
      "                   all         20         29       0.67      0.824      0.899      0.635\n"
     ]
    },
    {
     "name": "stderr",
     "output_type": "stream",
     "text": [
      "\n"
     ]
    },
    {
     "name": "stdout",
     "output_type": "stream",
     "text": [
      "\n",
      "      Epoch    GPU_mem   box_loss   cls_loss   dfl_loss  Instances       Size\n"
     ]
    },
    {
     "name": "stderr",
     "output_type": "stream",
     "text": [
      "      11/30      3.44G     0.6403      6.327      1.535         33        640: 100%|██████████| 417/417 [01:10<00:00,  5.92it/s]\n",
      "                 Class     Images  Instances      Box(P          R      mAP50  mAP50-95): 100%|██████████| 2/2 [00:00<00:00,  8.07it/s]"
     ]
    },
    {
     "name": "stdout",
     "output_type": "stream",
     "text": [
      "                   all         20         29      0.641      0.855      0.905      0.606\n"
     ]
    },
    {
     "name": "stderr",
     "output_type": "stream",
     "text": [
      "\n"
     ]
    },
    {
     "name": "stdout",
     "output_type": "stream",
     "text": [
      "\n",
      "      Epoch    GPU_mem   box_loss   cls_loss   dfl_loss  Instances       Size\n"
     ]
    },
    {
     "name": "stderr",
     "output_type": "stream",
     "text": [
      "      12/30      3.47G     0.6429      6.284      1.547         12        640: 100%|██████████| 417/417 [01:10<00:00,  5.94it/s]\n",
      "                 Class     Images  Instances      Box(P          R      mAP50  mAP50-95): 100%|██████████| 2/2 [00:00<00:00,  8.16it/s]"
     ]
    },
    {
     "name": "stdout",
     "output_type": "stream",
     "text": [
      "                   all         20         29      0.836      0.699      0.903      0.639\n"
     ]
    },
    {
     "name": "stderr",
     "output_type": "stream",
     "text": [
      "\n"
     ]
    },
    {
     "name": "stdout",
     "output_type": "stream",
     "text": [
      "\n",
      "      Epoch    GPU_mem   box_loss   cls_loss   dfl_loss  Instances       Size\n"
     ]
    },
    {
     "name": "stderr",
     "output_type": "stream",
     "text": [
      "      13/30      3.47G     0.6337      6.174       1.53         10        640: 100%|██████████| 417/417 [01:10<00:00,  5.90it/s]\n",
      "                 Class     Images  Instances      Box(P          R      mAP50  mAP50-95): 100%|██████████| 2/2 [00:00<00:00,  8.01it/s]"
     ]
    },
    {
     "name": "stdout",
     "output_type": "stream",
     "text": [
      "                   all         20         29      0.611      0.794       0.87      0.618\n"
     ]
    },
    {
     "name": "stderr",
     "output_type": "stream",
     "text": [
      "\n"
     ]
    },
    {
     "name": "stdout",
     "output_type": "stream",
     "text": [
      "\n",
      "      Epoch    GPU_mem   box_loss   cls_loss   dfl_loss  Instances       Size\n"
     ]
    },
    {
     "name": "stderr",
     "output_type": "stream",
     "text": [
      "      14/30      3.43G     0.6329      6.129       1.53         34        640: 100%|██████████| 417/417 [01:10<00:00,  5.94it/s]\n",
      "                 Class     Images  Instances      Box(P          R      mAP50  mAP50-95): 100%|██████████| 2/2 [00:00<00:00,  8.25it/s]"
     ]
    },
    {
     "name": "stdout",
     "output_type": "stream",
     "text": [
      "                   all         20         29       0.68      0.851      0.889      0.646\n"
     ]
    },
    {
     "name": "stderr",
     "output_type": "stream",
     "text": [
      "\n"
     ]
    },
    {
     "name": "stdout",
     "output_type": "stream",
     "text": [
      "\n",
      "      Epoch    GPU_mem   box_loss   cls_loss   dfl_loss  Instances       Size\n"
     ]
    },
    {
     "name": "stderr",
     "output_type": "stream",
     "text": [
      "      15/30      3.44G     0.6249      6.098      1.511         14        640: 100%|██████████| 417/417 [01:10<00:00,  5.93it/s]\n",
      "                 Class     Images  Instances      Box(P          R      mAP50  mAP50-95): 100%|██████████| 2/2 [00:00<00:00,  8.05it/s]"
     ]
    },
    {
     "name": "stdout",
     "output_type": "stream",
     "text": [
      "                   all         20         29      0.757      0.769      0.883      0.606\n"
     ]
    },
    {
     "name": "stderr",
     "output_type": "stream",
     "text": [
      "\n"
     ]
    },
    {
     "name": "stdout",
     "output_type": "stream",
     "text": [
      "\n",
      "      Epoch    GPU_mem   box_loss   cls_loss   dfl_loss  Instances       Size\n"
     ]
    },
    {
     "name": "stderr",
     "output_type": "stream",
     "text": [
      "      16/30      3.38G     0.6212      5.939      1.509         23        640: 100%|██████████| 417/417 [01:10<00:00,  5.93it/s]\n",
      "                 Class     Images  Instances      Box(P          R      mAP50  mAP50-95): 100%|██████████| 2/2 [00:00<00:00,  8.21it/s]"
     ]
    },
    {
     "name": "stdout",
     "output_type": "stream",
     "text": [
      "                   all         20         29      0.836      0.741      0.887      0.612\n"
     ]
    },
    {
     "name": "stderr",
     "output_type": "stream",
     "text": [
      "\n"
     ]
    },
    {
     "name": "stdout",
     "output_type": "stream",
     "text": [
      "\n",
      "      Epoch    GPU_mem   box_loss   cls_loss   dfl_loss  Instances       Size\n"
     ]
    },
    {
     "name": "stderr",
     "output_type": "stream",
     "text": [
      "      17/30      3.37G      0.619      5.962      1.513         12        640: 100%|██████████| 417/417 [01:10<00:00,  5.94it/s]\n",
      "                 Class     Images  Instances      Box(P          R      mAP50  mAP50-95): 100%|██████████| 2/2 [00:00<00:00,  8.22it/s]"
     ]
    },
    {
     "name": "stdout",
     "output_type": "stream",
     "text": [
      "                   all         20         29      0.742      0.784       0.88      0.622\n"
     ]
    },
    {
     "name": "stderr",
     "output_type": "stream",
     "text": [
      "\n"
     ]
    },
    {
     "name": "stdout",
     "output_type": "stream",
     "text": [
      "\n",
      "      Epoch    GPU_mem   box_loss   cls_loss   dfl_loss  Instances       Size\n"
     ]
    },
    {
     "name": "stderr",
     "output_type": "stream",
     "text": [
      "      18/30      3.49G     0.6131      5.778      1.501         14        640: 100%|██████████| 417/417 [01:10<00:00,  5.92it/s]\n",
      "                 Class     Images  Instances      Box(P          R      mAP50  mAP50-95): 100%|██████████| 2/2 [00:00<00:00,  7.36it/s]"
     ]
    },
    {
     "name": "stdout",
     "output_type": "stream",
     "text": [
      "                   all         20         29      0.678      0.858      0.895      0.612\n"
     ]
    },
    {
     "name": "stderr",
     "output_type": "stream",
     "text": [
      "\n"
     ]
    },
    {
     "name": "stdout",
     "output_type": "stream",
     "text": [
      "\n",
      "      Epoch    GPU_mem   box_loss   cls_loss   dfl_loss  Instances       Size\n"
     ]
    },
    {
     "name": "stderr",
     "output_type": "stream",
     "text": [
      "      19/30      3.39G     0.6219      5.959      1.511         13        640: 100%|██████████| 417/417 [01:08<00:00,  6.09it/s]\n",
      "                 Class     Images  Instances      Box(P          R      mAP50  mAP50-95): 100%|██████████| 2/2 [00:00<00:00,  9.17it/s]"
     ]
    },
    {
     "name": "stdout",
     "output_type": "stream",
     "text": [
      "                   all         20         29      0.684      0.822      0.906      0.646\n"
     ]
    },
    {
     "name": "stderr",
     "output_type": "stream",
     "text": [
      "\n"
     ]
    },
    {
     "name": "stdout",
     "output_type": "stream",
     "text": [
      "\n",
      "      Epoch    GPU_mem   box_loss   cls_loss   dfl_loss  Instances       Size\n"
     ]
    },
    {
     "name": "stderr",
     "output_type": "stream",
     "text": [
      "      20/30      3.48G     0.6071      5.684      1.489         11        640: 100%|██████████| 417/417 [01:06<00:00,  6.27it/s]\n",
      "                 Class     Images  Instances      Box(P          R      mAP50  mAP50-95): 100%|██████████| 2/2 [00:00<00:00,  8.84it/s]"
     ]
    },
    {
     "name": "stdout",
     "output_type": "stream",
     "text": [
      "                   all         20         29      0.677      0.859      0.886      0.609\n"
     ]
    },
    {
     "name": "stderr",
     "output_type": "stream",
     "text": [
      "\n"
     ]
    },
    {
     "name": "stdout",
     "output_type": "stream",
     "text": [
      "Closing dataloader mosaic\n",
      "\u001b[34m\u001b[1malbumentations: \u001b[0mBlur(p=0.01, blur_limit=(3, 7)), MedianBlur(p=0.01, blur_limit=(3, 7)), ToGray(p=0.01, num_output_channels=3, method='weighted_average'), CLAHE(p=0.01, clip_limit=(1.0, 4.0), tile_grid_size=(8, 8))\n",
      "\n",
      "      Epoch    GPU_mem   box_loss   cls_loss   dfl_loss  Instances       Size\n"
     ]
    },
    {
     "name": "stderr",
     "output_type": "stream",
     "text": [
      "      21/30      3.44G     0.4584      3.139      1.376          4        640: 100%|██████████| 417/417 [01:07<00:00,  6.22it/s]\n",
      "                 Class     Images  Instances      Box(P          R      mAP50  mAP50-95): 100%|██████████| 2/2 [00:00<00:00,  8.76it/s]"
     ]
    },
    {
     "name": "stdout",
     "output_type": "stream",
     "text": [
      "                   all         20         29      0.856      0.763      0.901      0.659\n"
     ]
    },
    {
     "name": "stderr",
     "output_type": "stream",
     "text": [
      "\n"
     ]
    },
    {
     "name": "stdout",
     "output_type": "stream",
     "text": [
      "\n",
      "      Epoch    GPU_mem   box_loss   cls_loss   dfl_loss  Instances       Size\n"
     ]
    },
    {
     "name": "stderr",
     "output_type": "stream",
     "text": [
      "      22/30      3.37G     0.4619      2.921      1.375          4        640: 100%|██████████| 417/417 [01:06<00:00,  6.25it/s]\n",
      "                 Class     Images  Instances      Box(P          R      mAP50  mAP50-95): 100%|██████████| 2/2 [00:00<00:00,  8.58it/s]"
     ]
    },
    {
     "name": "stdout",
     "output_type": "stream",
     "text": [
      "                   all         20         29      0.817      0.754      0.902       0.68\n"
     ]
    },
    {
     "name": "stderr",
     "output_type": "stream",
     "text": [
      "\n"
     ]
    },
    {
     "name": "stdout",
     "output_type": "stream",
     "text": [
      "\n",
      "      Epoch    GPU_mem   box_loss   cls_loss   dfl_loss  Instances       Size\n"
     ]
    },
    {
     "name": "stderr",
     "output_type": "stream",
     "text": [
      "      23/30      3.38G     0.4388      2.832       1.35          5        640: 100%|██████████| 417/417 [01:06<00:00,  6.24it/s]\n",
      "                 Class     Images  Instances      Box(P          R      mAP50  mAP50-95): 100%|██████████| 2/2 [00:00<00:00,  8.73it/s]"
     ]
    },
    {
     "name": "stdout",
     "output_type": "stream",
     "text": [
      "                   all         20         29      0.749       0.88      0.905      0.694\n"
     ]
    },
    {
     "name": "stderr",
     "output_type": "stream",
     "text": [
      "\n"
     ]
    },
    {
     "name": "stdout",
     "output_type": "stream",
     "text": [
      "\n",
      "      Epoch    GPU_mem   box_loss   cls_loss   dfl_loss  Instances       Size\n"
     ]
    },
    {
     "name": "stderr",
     "output_type": "stream",
     "text": [
      "      24/30      3.37G     0.4459      2.787      1.362          5        640: 100%|██████████| 417/417 [01:06<00:00,  6.25it/s]\n",
      "                 Class     Images  Instances      Box(P          R      mAP50  mAP50-95): 100%|██████████| 2/2 [00:00<00:00,  8.62it/s]"
     ]
    },
    {
     "name": "stdout",
     "output_type": "stream",
     "text": [
      "                   all         20         29      0.775      0.852      0.922      0.703\n"
     ]
    },
    {
     "name": "stderr",
     "output_type": "stream",
     "text": [
      "\n"
     ]
    },
    {
     "name": "stdout",
     "output_type": "stream",
     "text": [
      "\n",
      "      Epoch    GPU_mem   box_loss   cls_loss   dfl_loss  Instances       Size\n"
     ]
    },
    {
     "name": "stderr",
     "output_type": "stream",
     "text": [
      "      25/30      3.44G     0.4357      2.743      1.341          4        640: 100%|██████████| 417/417 [01:07<00:00,  6.20it/s]\n",
      "                 Class     Images  Instances      Box(P          R      mAP50  mAP50-95): 100%|██████████| 2/2 [00:00<00:00,  8.74it/s]"
     ]
    },
    {
     "name": "stdout",
     "output_type": "stream",
     "text": [
      "                   all         20         29      0.803      0.847      0.926      0.709\n"
     ]
    },
    {
     "name": "stderr",
     "output_type": "stream",
     "text": [
      "\n"
     ]
    },
    {
     "name": "stdout",
     "output_type": "stream",
     "text": [
      "\n",
      "      Epoch    GPU_mem   box_loss   cls_loss   dfl_loss  Instances       Size\n"
     ]
    },
    {
     "name": "stderr",
     "output_type": "stream",
     "text": [
      "      26/30      3.44G     0.4439      2.776      1.354          4        640: 100%|██████████| 417/417 [01:06<00:00,  6.27it/s]\n",
      "                 Class     Images  Instances      Box(P          R      mAP50  mAP50-95): 100%|██████████| 2/2 [00:00<00:00,  8.67it/s]"
     ]
    },
    {
     "name": "stdout",
     "output_type": "stream",
     "text": [
      "                   all         20         29      0.787      0.822      0.918      0.689\n"
     ]
    },
    {
     "name": "stderr",
     "output_type": "stream",
     "text": [
      "\n"
     ]
    },
    {
     "name": "stdout",
     "output_type": "stream",
     "text": [
      "\n",
      "      Epoch    GPU_mem   box_loss   cls_loss   dfl_loss  Instances       Size\n"
     ]
    },
    {
     "name": "stderr",
     "output_type": "stream",
     "text": [
      "      27/30      3.44G     0.4237       2.69      1.327          4        640: 100%|██████████| 417/417 [01:06<00:00,  6.31it/s]\n",
      "                 Class     Images  Instances      Box(P          R      mAP50  mAP50-95): 100%|██████████| 2/2 [00:00<00:00,  8.48it/s]"
     ]
    },
    {
     "name": "stdout",
     "output_type": "stream",
     "text": [
      "                   all         20         29      0.807      0.838      0.921      0.709\n"
     ]
    },
    {
     "name": "stderr",
     "output_type": "stream",
     "text": [
      "\n"
     ]
    },
    {
     "name": "stdout",
     "output_type": "stream",
     "text": [
      "\n",
      "      Epoch    GPU_mem   box_loss   cls_loss   dfl_loss  Instances       Size\n"
     ]
    },
    {
     "name": "stderr",
     "output_type": "stream",
     "text": [
      "      28/30      3.36G     0.4284      2.689      1.331          4        640: 100%|██████████| 417/417 [01:06<00:00,  6.31it/s]\n",
      "                 Class     Images  Instances      Box(P          R      mAP50  mAP50-95): 100%|██████████| 2/2 [00:00<00:00,  8.85it/s]"
     ]
    },
    {
     "name": "stdout",
     "output_type": "stream",
     "text": [
      "                   all         20         29      0.809      0.838      0.921      0.707\n"
     ]
    },
    {
     "name": "stderr",
     "output_type": "stream",
     "text": [
      "\n"
     ]
    },
    {
     "name": "stdout",
     "output_type": "stream",
     "text": [
      "\n",
      "      Epoch    GPU_mem   box_loss   cls_loss   dfl_loss  Instances       Size\n"
     ]
    },
    {
     "name": "stderr",
     "output_type": "stream",
     "text": [
      "      29/30      3.49G     0.4292      2.694      1.332          4        640: 100%|██████████| 417/417 [01:06<00:00,  6.30it/s]\n",
      "                 Class     Images  Instances      Box(P          R      mAP50  mAP50-95): 100%|██████████| 2/2 [00:00<00:00,  8.77it/s]"
     ]
    },
    {
     "name": "stdout",
     "output_type": "stream",
     "text": [
      "                   all         20         29      0.806      0.846      0.922        0.7\n"
     ]
    },
    {
     "name": "stderr",
     "output_type": "stream",
     "text": [
      "\n"
     ]
    },
    {
     "name": "stdout",
     "output_type": "stream",
     "text": [
      "\n",
      "      Epoch    GPU_mem   box_loss   cls_loss   dfl_loss  Instances       Size\n"
     ]
    },
    {
     "name": "stderr",
     "output_type": "stream",
     "text": [
      "      30/30      3.37G     0.4278      2.705      1.337          5        640: 100%|██████████| 417/417 [01:15<00:00,  5.51it/s]\n",
      "                 Class     Images  Instances      Box(P          R      mAP50  mAP50-95): 100%|██████████| 2/2 [00:00<00:00,  7.86it/s]"
     ]
    },
    {
     "name": "stdout",
     "output_type": "stream",
     "text": [
      "                   all         20         29      0.804      0.841      0.922      0.705\n"
     ]
    },
    {
     "name": "stderr",
     "output_type": "stream",
     "text": [
      "\n"
     ]
    },
    {
     "name": "stdout",
     "output_type": "stream",
     "text": [
      "\n",
      "30 epochs completed in 0.593 hours.\n",
      "Optimizer stripped from ..\\f1-strategy\\yolo-files\\runs\\train_finetune_adjusted\\weights\\last.pt, 52.0MB\n",
      "Optimizer stripped from ..\\f1-strategy\\yolo-files\\runs\\train_finetune_adjusted\\weights\\best.pt, 52.0MB\n",
      "\n",
      "Validating ..\\f1-strategy\\yolo-files\\runs\\train_finetune_adjusted\\weights\\best.pt...\n",
      "Ultralytics 8.3.69  Python-3.10.16 torch-2.5.1+cu124 CUDA:0 (NVIDIA GeForce RTX 4060 Laptop GPU, 8188MiB)\n",
      "Model summary (fused): 218 layers, 25,845,550 parameters, 0 gradients, 78.7 GFLOPs\n"
     ]
    },
    {
     "name": "stderr",
     "output_type": "stream",
     "text": [
      "                 Class     Images  Instances      Box(P          R      mAP50  mAP50-95): 100%|██████████| 2/2 [00:00<00:00,  6.80it/s]\n"
     ]
    },
    {
     "name": "stdout",
     "output_type": "stream",
     "text": [
      "                   all         20         29      0.807      0.837      0.921      0.709\n",
      "           Kick Sauber          4          6          1      0.475       0.73      0.508\n",
      "          Racing Bulls          1          1      0.529          1      0.995      0.697\n",
      "                Alpine          4          5          1       0.62       0.92      0.758\n",
      "               Ferarri          3          4      0.772       0.75      0.912      0.727\n",
      "                  Haas          1          1      0.598          1      0.995      0.895\n",
      "               Mclaren          5          6          1      0.965      0.995      0.775\n",
      "              Mercedes          3          3          1      0.882      0.995      0.688\n",
      "              Williams          2          3      0.558          1       0.83      0.625\n",
      "Speed: 0.5ms preprocess, 7.3ms inference, 0.0ms loss, 1.1ms postprocess per image\n",
      "Results saved to \u001b[1m..\\f1-strategy\\yolo-files\\runs\\train_finetune_adjusted\u001b[0m\n"
     ]
    },
    {
     "data": {
      "text/plain": [
       "ultralytics.utils.metrics.DetMetrics object with attributes:\n",
       "\n",
       "ap_class_index: array([0, 1, 2, 4, 5, 6, 7, 9])\n",
       "box: ultralytics.utils.metrics.Metric object\n",
       "confusion_matrix: <ultralytics.utils.metrics.ConfusionMatrix object at 0x000002102BAB8370>\n",
       "curves: ['Precision-Recall(B)', 'F1-Confidence(B)', 'Precision-Confidence(B)', 'Recall-Confidence(B)']\n",
       "curves_results: [[array([          0,    0.001001,    0.002002,    0.003003,    0.004004,    0.005005,    0.006006,    0.007007,    0.008008,    0.009009,     0.01001,    0.011011,    0.012012,    0.013013,    0.014014,    0.015015,    0.016016,    0.017017,    0.018018,    0.019019,     0.02002,    0.021021,    0.022022,    0.023023,\n",
       "          0.024024,    0.025025,    0.026026,    0.027027,    0.028028,    0.029029,     0.03003,    0.031031,    0.032032,    0.033033,    0.034034,    0.035035,    0.036036,    0.037037,    0.038038,    0.039039,     0.04004,    0.041041,    0.042042,    0.043043,    0.044044,    0.045045,    0.046046,    0.047047,\n",
       "          0.048048,    0.049049,     0.05005,    0.051051,    0.052052,    0.053053,    0.054054,    0.055055,    0.056056,    0.057057,    0.058058,    0.059059,     0.06006,    0.061061,    0.062062,    0.063063,    0.064064,    0.065065,    0.066066,    0.067067,    0.068068,    0.069069,     0.07007,    0.071071,\n",
       "          0.072072,    0.073073,    0.074074,    0.075075,    0.076076,    0.077077,    0.078078,    0.079079,     0.08008,    0.081081,    0.082082,    0.083083,    0.084084,    0.085085,    0.086086,    0.087087,    0.088088,    0.089089,     0.09009,    0.091091,    0.092092,    0.093093,    0.094094,    0.095095,\n",
       "          0.096096,    0.097097,    0.098098,    0.099099,      0.1001,      0.1011,      0.1021,      0.1031,      0.1041,     0.10511,     0.10611,     0.10711,     0.10811,     0.10911,     0.11011,     0.11111,     0.11211,     0.11311,     0.11411,     0.11512,     0.11612,     0.11712,     0.11812,     0.11912,\n",
       "           0.12012,     0.12112,     0.12212,     0.12312,     0.12412,     0.12513,     0.12613,     0.12713,     0.12813,     0.12913,     0.13013,     0.13113,     0.13213,     0.13313,     0.13413,     0.13514,     0.13614,     0.13714,     0.13814,     0.13914,     0.14014,     0.14114,     0.14214,     0.14314,\n",
       "           0.14414,     0.14515,     0.14615,     0.14715,     0.14815,     0.14915,     0.15015,     0.15115,     0.15215,     0.15315,     0.15415,     0.15516,     0.15616,     0.15716,     0.15816,     0.15916,     0.16016,     0.16116,     0.16216,     0.16316,     0.16416,     0.16517,     0.16617,     0.16717,\n",
       "           0.16817,     0.16917,     0.17017,     0.17117,     0.17217,     0.17317,     0.17417,     0.17518,     0.17618,     0.17718,     0.17818,     0.17918,     0.18018,     0.18118,     0.18218,     0.18318,     0.18418,     0.18519,     0.18619,     0.18719,     0.18819,     0.18919,     0.19019,     0.19119,\n",
       "           0.19219,     0.19319,     0.19419,      0.1952,      0.1962,      0.1972,      0.1982,      0.1992,      0.2002,      0.2012,      0.2022,      0.2032,      0.2042,     0.20521,     0.20621,     0.20721,     0.20821,     0.20921,     0.21021,     0.21121,     0.21221,     0.21321,     0.21421,     0.21522,\n",
       "           0.21622,     0.21722,     0.21822,     0.21922,     0.22022,     0.22122,     0.22222,     0.22322,     0.22422,     0.22523,     0.22623,     0.22723,     0.22823,     0.22923,     0.23023,     0.23123,     0.23223,     0.23323,     0.23423,     0.23524,     0.23624,     0.23724,     0.23824,     0.23924,\n",
       "           0.24024,     0.24124,     0.24224,     0.24324,     0.24424,     0.24525,     0.24625,     0.24725,     0.24825,     0.24925,     0.25025,     0.25125,     0.25225,     0.25325,     0.25425,     0.25526,     0.25626,     0.25726,     0.25826,     0.25926,     0.26026,     0.26126,     0.26226,     0.26326,\n",
       "           0.26426,     0.26527,     0.26627,     0.26727,     0.26827,     0.26927,     0.27027,     0.27127,     0.27227,     0.27327,     0.27427,     0.27528,     0.27628,     0.27728,     0.27828,     0.27928,     0.28028,     0.28128,     0.28228,     0.28328,     0.28428,     0.28529,     0.28629,     0.28729,\n",
       "           0.28829,     0.28929,     0.29029,     0.29129,     0.29229,     0.29329,     0.29429,      0.2953,      0.2963,      0.2973,      0.2983,      0.2993,      0.3003,      0.3013,      0.3023,      0.3033,      0.3043,     0.30531,     0.30631,     0.30731,     0.30831,     0.30931,     0.31031,     0.31131,\n",
       "           0.31231,     0.31331,     0.31431,     0.31532,     0.31632,     0.31732,     0.31832,     0.31932,     0.32032,     0.32132,     0.32232,     0.32332,     0.32432,     0.32533,     0.32633,     0.32733,     0.32833,     0.32933,     0.33033,     0.33133,     0.33233,     0.33333,     0.33433,     0.33534,\n",
       "           0.33634,     0.33734,     0.33834,     0.33934,     0.34034,     0.34134,     0.34234,     0.34334,     0.34434,     0.34535,     0.34635,     0.34735,     0.34835,     0.34935,     0.35035,     0.35135,     0.35235,     0.35335,     0.35435,     0.35536,     0.35636,     0.35736,     0.35836,     0.35936,\n",
       "           0.36036,     0.36136,     0.36236,     0.36336,     0.36436,     0.36537,     0.36637,     0.36737,     0.36837,     0.36937,     0.37037,     0.37137,     0.37237,     0.37337,     0.37437,     0.37538,     0.37638,     0.37738,     0.37838,     0.37938,     0.38038,     0.38138,     0.38238,     0.38338,\n",
       "           0.38438,     0.38539,     0.38639,     0.38739,     0.38839,     0.38939,     0.39039,     0.39139,     0.39239,     0.39339,     0.39439,      0.3954,      0.3964,      0.3974,      0.3984,      0.3994,      0.4004,      0.4014,      0.4024,      0.4034,      0.4044,     0.40541,     0.40641,     0.40741,\n",
       "           0.40841,     0.40941,     0.41041,     0.41141,     0.41241,     0.41341,     0.41441,     0.41542,     0.41642,     0.41742,     0.41842,     0.41942,     0.42042,     0.42142,     0.42242,     0.42342,     0.42442,     0.42543,     0.42643,     0.42743,     0.42843,     0.42943,     0.43043,     0.43143,\n",
       "           0.43243,     0.43343,     0.43443,     0.43544,     0.43644,     0.43744,     0.43844,     0.43944,     0.44044,     0.44144,     0.44244,     0.44344,     0.44444,     0.44545,     0.44645,     0.44745,     0.44845,     0.44945,     0.45045,     0.45145,     0.45245,     0.45345,     0.45445,     0.45546,\n",
       "           0.45646,     0.45746,     0.45846,     0.45946,     0.46046,     0.46146,     0.46246,     0.46346,     0.46446,     0.46547,     0.46647,     0.46747,     0.46847,     0.46947,     0.47047,     0.47147,     0.47247,     0.47347,     0.47447,     0.47548,     0.47648,     0.47748,     0.47848,     0.47948,\n",
       "           0.48048,     0.48148,     0.48248,     0.48348,     0.48448,     0.48549,     0.48649,     0.48749,     0.48849,     0.48949,     0.49049,     0.49149,     0.49249,     0.49349,     0.49449,      0.4955,      0.4965,      0.4975,      0.4985,      0.4995,      0.5005,      0.5015,      0.5025,      0.5035,\n",
       "            0.5045,     0.50551,     0.50651,     0.50751,     0.50851,     0.50951,     0.51051,     0.51151,     0.51251,     0.51351,     0.51451,     0.51552,     0.51652,     0.51752,     0.51852,     0.51952,     0.52052,     0.52152,     0.52252,     0.52352,     0.52452,     0.52553,     0.52653,     0.52753,\n",
       "           0.52853,     0.52953,     0.53053,     0.53153,     0.53253,     0.53353,     0.53453,     0.53554,     0.53654,     0.53754,     0.53854,     0.53954,     0.54054,     0.54154,     0.54254,     0.54354,     0.54454,     0.54555,     0.54655,     0.54755,     0.54855,     0.54955,     0.55055,     0.55155,\n",
       "           0.55255,     0.55355,     0.55455,     0.55556,     0.55656,     0.55756,     0.55856,     0.55956,     0.56056,     0.56156,     0.56256,     0.56356,     0.56456,     0.56557,     0.56657,     0.56757,     0.56857,     0.56957,     0.57057,     0.57157,     0.57257,     0.57357,     0.57457,     0.57558,\n",
       "           0.57658,     0.57758,     0.57858,     0.57958,     0.58058,     0.58158,     0.58258,     0.58358,     0.58458,     0.58559,     0.58659,     0.58759,     0.58859,     0.58959,     0.59059,     0.59159,     0.59259,     0.59359,     0.59459,      0.5956,      0.5966,      0.5976,      0.5986,      0.5996,\n",
       "            0.6006,      0.6016,      0.6026,      0.6036,      0.6046,     0.60561,     0.60661,     0.60761,     0.60861,     0.60961,     0.61061,     0.61161,     0.61261,     0.61361,     0.61461,     0.61562,     0.61662,     0.61762,     0.61862,     0.61962,     0.62062,     0.62162,     0.62262,     0.62362,\n",
       "           0.62462,     0.62563,     0.62663,     0.62763,     0.62863,     0.62963,     0.63063,     0.63163,     0.63263,     0.63363,     0.63463,     0.63564,     0.63664,     0.63764,     0.63864,     0.63964,     0.64064,     0.64164,     0.64264,     0.64364,     0.64464,     0.64565,     0.64665,     0.64765,\n",
       "           0.64865,     0.64965,     0.65065,     0.65165,     0.65265,     0.65365,     0.65465,     0.65566,     0.65666,     0.65766,     0.65866,     0.65966,     0.66066,     0.66166,     0.66266,     0.66366,     0.66466,     0.66567,     0.66667,     0.66767,     0.66867,     0.66967,     0.67067,     0.67167,\n",
       "           0.67267,     0.67367,     0.67467,     0.67568,     0.67668,     0.67768,     0.67868,     0.67968,     0.68068,     0.68168,     0.68268,     0.68368,     0.68468,     0.68569,     0.68669,     0.68769,     0.68869,     0.68969,     0.69069,     0.69169,     0.69269,     0.69369,     0.69469,      0.6957,\n",
       "            0.6967,      0.6977,      0.6987,      0.6997,      0.7007,      0.7017,      0.7027,      0.7037,      0.7047,     0.70571,     0.70671,     0.70771,     0.70871,     0.70971,     0.71071,     0.71171,     0.71271,     0.71371,     0.71471,     0.71572,     0.71672,     0.71772,     0.71872,     0.71972,\n",
       "           0.72072,     0.72172,     0.72272,     0.72372,     0.72472,     0.72573,     0.72673,     0.72773,     0.72873,     0.72973,     0.73073,     0.73173,     0.73273,     0.73373,     0.73473,     0.73574,     0.73674,     0.73774,     0.73874,     0.73974,     0.74074,     0.74174,     0.74274,     0.74374,\n",
       "           0.74474,     0.74575,     0.74675,     0.74775,     0.74875,     0.74975,     0.75075,     0.75175,     0.75275,     0.75375,     0.75475,     0.75576,     0.75676,     0.75776,     0.75876,     0.75976,     0.76076,     0.76176,     0.76276,     0.76376,     0.76476,     0.76577,     0.76677,     0.76777,\n",
       "           0.76877,     0.76977,     0.77077,     0.77177,     0.77277,     0.77377,     0.77477,     0.77578,     0.77678,     0.77778,     0.77878,     0.77978,     0.78078,     0.78178,     0.78278,     0.78378,     0.78478,     0.78579,     0.78679,     0.78779,     0.78879,     0.78979,     0.79079,     0.79179,\n",
       "           0.79279,     0.79379,     0.79479,      0.7958,      0.7968,      0.7978,      0.7988,      0.7998,      0.8008,      0.8018,      0.8028,      0.8038,      0.8048,     0.80581,     0.80681,     0.80781,     0.80881,     0.80981,     0.81081,     0.81181,     0.81281,     0.81381,     0.81481,     0.81582,\n",
       "           0.81682,     0.81782,     0.81882,     0.81982,     0.82082,     0.82182,     0.82282,     0.82382,     0.82482,     0.82583,     0.82683,     0.82783,     0.82883,     0.82983,     0.83083,     0.83183,     0.83283,     0.83383,     0.83483,     0.83584,     0.83684,     0.83784,     0.83884,     0.83984,\n",
       "           0.84084,     0.84184,     0.84284,     0.84384,     0.84484,     0.84585,     0.84685,     0.84785,     0.84885,     0.84985,     0.85085,     0.85185,     0.85285,     0.85385,     0.85485,     0.85586,     0.85686,     0.85786,     0.85886,     0.85986,     0.86086,     0.86186,     0.86286,     0.86386,\n",
       "           0.86486,     0.86587,     0.86687,     0.86787,     0.86887,     0.86987,     0.87087,     0.87187,     0.87287,     0.87387,     0.87487,     0.87588,     0.87688,     0.87788,     0.87888,     0.87988,     0.88088,     0.88188,     0.88288,     0.88388,     0.88488,     0.88589,     0.88689,     0.88789,\n",
       "           0.88889,     0.88989,     0.89089,     0.89189,     0.89289,     0.89389,     0.89489,      0.8959,      0.8969,      0.8979,      0.8989,      0.8999,      0.9009,      0.9019,      0.9029,      0.9039,      0.9049,     0.90591,     0.90691,     0.90791,     0.90891,     0.90991,     0.91091,     0.91191,\n",
       "           0.91291,     0.91391,     0.91491,     0.91592,     0.91692,     0.91792,     0.91892,     0.91992,     0.92092,     0.92192,     0.92292,     0.92392,     0.92492,     0.92593,     0.92693,     0.92793,     0.92893,     0.92993,     0.93093,     0.93193,     0.93293,     0.93393,     0.93493,     0.93594,\n",
       "           0.93694,     0.93794,     0.93894,     0.93994,     0.94094,     0.94194,     0.94294,     0.94394,     0.94494,     0.94595,     0.94695,     0.94795,     0.94895,     0.94995,     0.95095,     0.95195,     0.95295,     0.95395,     0.95495,     0.95596,     0.95696,     0.95796,     0.95896,     0.95996,\n",
       "           0.96096,     0.96196,     0.96296,     0.96396,     0.96496,     0.96597,     0.96697,     0.96797,     0.96897,     0.96997,     0.97097,     0.97197,     0.97297,     0.97397,     0.97497,     0.97598,     0.97698,     0.97798,     0.97898,     0.97998,     0.98098,     0.98198,     0.98298,     0.98398,\n",
       "           0.98498,     0.98599,     0.98699,     0.98799,     0.98899,     0.98999,     0.99099,     0.99199,     0.99299,     0.99399,     0.99499,       0.996,       0.997,       0.998,       0.999,           1]), array([[          1,           1,           1, ...,   0.0026113,   0.0013057,           0],\n",
       "       [          1,           1,           1, ...,           1,           1,           0],\n",
       "       [          1,           1,           1, ...,       0.625,       0.625,           0],\n",
       "       ...,\n",
       "       [          1,           1,           1, ...,           1,           1,           0],\n",
       "       [          1,           1,           1, ...,           1,           1,           0],\n",
       "       [          1,           1,           1, ...,        0.75,        0.75,           0]]), 'Recall', 'Precision'], [array([          0,    0.001001,    0.002002,    0.003003,    0.004004,    0.005005,    0.006006,    0.007007,    0.008008,    0.009009,     0.01001,    0.011011,    0.012012,    0.013013,    0.014014,    0.015015,    0.016016,    0.017017,    0.018018,    0.019019,     0.02002,    0.021021,    0.022022,    0.023023,\n",
       "          0.024024,    0.025025,    0.026026,    0.027027,    0.028028,    0.029029,     0.03003,    0.031031,    0.032032,    0.033033,    0.034034,    0.035035,    0.036036,    0.037037,    0.038038,    0.039039,     0.04004,    0.041041,    0.042042,    0.043043,    0.044044,    0.045045,    0.046046,    0.047047,\n",
       "          0.048048,    0.049049,     0.05005,    0.051051,    0.052052,    0.053053,    0.054054,    0.055055,    0.056056,    0.057057,    0.058058,    0.059059,     0.06006,    0.061061,    0.062062,    0.063063,    0.064064,    0.065065,    0.066066,    0.067067,    0.068068,    0.069069,     0.07007,    0.071071,\n",
       "          0.072072,    0.073073,    0.074074,    0.075075,    0.076076,    0.077077,    0.078078,    0.079079,     0.08008,    0.081081,    0.082082,    0.083083,    0.084084,    0.085085,    0.086086,    0.087087,    0.088088,    0.089089,     0.09009,    0.091091,    0.092092,    0.093093,    0.094094,    0.095095,\n",
       "          0.096096,    0.097097,    0.098098,    0.099099,      0.1001,      0.1011,      0.1021,      0.1031,      0.1041,     0.10511,     0.10611,     0.10711,     0.10811,     0.10911,     0.11011,     0.11111,     0.11211,     0.11311,     0.11411,     0.11512,     0.11612,     0.11712,     0.11812,     0.11912,\n",
       "           0.12012,     0.12112,     0.12212,     0.12312,     0.12412,     0.12513,     0.12613,     0.12713,     0.12813,     0.12913,     0.13013,     0.13113,     0.13213,     0.13313,     0.13413,     0.13514,     0.13614,     0.13714,     0.13814,     0.13914,     0.14014,     0.14114,     0.14214,     0.14314,\n",
       "           0.14414,     0.14515,     0.14615,     0.14715,     0.14815,     0.14915,     0.15015,     0.15115,     0.15215,     0.15315,     0.15415,     0.15516,     0.15616,     0.15716,     0.15816,     0.15916,     0.16016,     0.16116,     0.16216,     0.16316,     0.16416,     0.16517,     0.16617,     0.16717,\n",
       "           0.16817,     0.16917,     0.17017,     0.17117,     0.17217,     0.17317,     0.17417,     0.17518,     0.17618,     0.17718,     0.17818,     0.17918,     0.18018,     0.18118,     0.18218,     0.18318,     0.18418,     0.18519,     0.18619,     0.18719,     0.18819,     0.18919,     0.19019,     0.19119,\n",
       "           0.19219,     0.19319,     0.19419,      0.1952,      0.1962,      0.1972,      0.1982,      0.1992,      0.2002,      0.2012,      0.2022,      0.2032,      0.2042,     0.20521,     0.20621,     0.20721,     0.20821,     0.20921,     0.21021,     0.21121,     0.21221,     0.21321,     0.21421,     0.21522,\n",
       "           0.21622,     0.21722,     0.21822,     0.21922,     0.22022,     0.22122,     0.22222,     0.22322,     0.22422,     0.22523,     0.22623,     0.22723,     0.22823,     0.22923,     0.23023,     0.23123,     0.23223,     0.23323,     0.23423,     0.23524,     0.23624,     0.23724,     0.23824,     0.23924,\n",
       "           0.24024,     0.24124,     0.24224,     0.24324,     0.24424,     0.24525,     0.24625,     0.24725,     0.24825,     0.24925,     0.25025,     0.25125,     0.25225,     0.25325,     0.25425,     0.25526,     0.25626,     0.25726,     0.25826,     0.25926,     0.26026,     0.26126,     0.26226,     0.26326,\n",
       "           0.26426,     0.26527,     0.26627,     0.26727,     0.26827,     0.26927,     0.27027,     0.27127,     0.27227,     0.27327,     0.27427,     0.27528,     0.27628,     0.27728,     0.27828,     0.27928,     0.28028,     0.28128,     0.28228,     0.28328,     0.28428,     0.28529,     0.28629,     0.28729,\n",
       "           0.28829,     0.28929,     0.29029,     0.29129,     0.29229,     0.29329,     0.29429,      0.2953,      0.2963,      0.2973,      0.2983,      0.2993,      0.3003,      0.3013,      0.3023,      0.3033,      0.3043,     0.30531,     0.30631,     0.30731,     0.30831,     0.30931,     0.31031,     0.31131,\n",
       "           0.31231,     0.31331,     0.31431,     0.31532,     0.31632,     0.31732,     0.31832,     0.31932,     0.32032,     0.32132,     0.32232,     0.32332,     0.32432,     0.32533,     0.32633,     0.32733,     0.32833,     0.32933,     0.33033,     0.33133,     0.33233,     0.33333,     0.33433,     0.33534,\n",
       "           0.33634,     0.33734,     0.33834,     0.33934,     0.34034,     0.34134,     0.34234,     0.34334,     0.34434,     0.34535,     0.34635,     0.34735,     0.34835,     0.34935,     0.35035,     0.35135,     0.35235,     0.35335,     0.35435,     0.35536,     0.35636,     0.35736,     0.35836,     0.35936,\n",
       "           0.36036,     0.36136,     0.36236,     0.36336,     0.36436,     0.36537,     0.36637,     0.36737,     0.36837,     0.36937,     0.37037,     0.37137,     0.37237,     0.37337,     0.37437,     0.37538,     0.37638,     0.37738,     0.37838,     0.37938,     0.38038,     0.38138,     0.38238,     0.38338,\n",
       "           0.38438,     0.38539,     0.38639,     0.38739,     0.38839,     0.38939,     0.39039,     0.39139,     0.39239,     0.39339,     0.39439,      0.3954,      0.3964,      0.3974,      0.3984,      0.3994,      0.4004,      0.4014,      0.4024,      0.4034,      0.4044,     0.40541,     0.40641,     0.40741,\n",
       "           0.40841,     0.40941,     0.41041,     0.41141,     0.41241,     0.41341,     0.41441,     0.41542,     0.41642,     0.41742,     0.41842,     0.41942,     0.42042,     0.42142,     0.42242,     0.42342,     0.42442,     0.42543,     0.42643,     0.42743,     0.42843,     0.42943,     0.43043,     0.43143,\n",
       "           0.43243,     0.43343,     0.43443,     0.43544,     0.43644,     0.43744,     0.43844,     0.43944,     0.44044,     0.44144,     0.44244,     0.44344,     0.44444,     0.44545,     0.44645,     0.44745,     0.44845,     0.44945,     0.45045,     0.45145,     0.45245,     0.45345,     0.45445,     0.45546,\n",
       "           0.45646,     0.45746,     0.45846,     0.45946,     0.46046,     0.46146,     0.46246,     0.46346,     0.46446,     0.46547,     0.46647,     0.46747,     0.46847,     0.46947,     0.47047,     0.47147,     0.47247,     0.47347,     0.47447,     0.47548,     0.47648,     0.47748,     0.47848,     0.47948,\n",
       "           0.48048,     0.48148,     0.48248,     0.48348,     0.48448,     0.48549,     0.48649,     0.48749,     0.48849,     0.48949,     0.49049,     0.49149,     0.49249,     0.49349,     0.49449,      0.4955,      0.4965,      0.4975,      0.4985,      0.4995,      0.5005,      0.5015,      0.5025,      0.5035,\n",
       "            0.5045,     0.50551,     0.50651,     0.50751,     0.50851,     0.50951,     0.51051,     0.51151,     0.51251,     0.51351,     0.51451,     0.51552,     0.51652,     0.51752,     0.51852,     0.51952,     0.52052,     0.52152,     0.52252,     0.52352,     0.52452,     0.52553,     0.52653,     0.52753,\n",
       "           0.52853,     0.52953,     0.53053,     0.53153,     0.53253,     0.53353,     0.53453,     0.53554,     0.53654,     0.53754,     0.53854,     0.53954,     0.54054,     0.54154,     0.54254,     0.54354,     0.54454,     0.54555,     0.54655,     0.54755,     0.54855,     0.54955,     0.55055,     0.55155,\n",
       "           0.55255,     0.55355,     0.55455,     0.55556,     0.55656,     0.55756,     0.55856,     0.55956,     0.56056,     0.56156,     0.56256,     0.56356,     0.56456,     0.56557,     0.56657,     0.56757,     0.56857,     0.56957,     0.57057,     0.57157,     0.57257,     0.57357,     0.57457,     0.57558,\n",
       "           0.57658,     0.57758,     0.57858,     0.57958,     0.58058,     0.58158,     0.58258,     0.58358,     0.58458,     0.58559,     0.58659,     0.58759,     0.58859,     0.58959,     0.59059,     0.59159,     0.59259,     0.59359,     0.59459,      0.5956,      0.5966,      0.5976,      0.5986,      0.5996,\n",
       "            0.6006,      0.6016,      0.6026,      0.6036,      0.6046,     0.60561,     0.60661,     0.60761,     0.60861,     0.60961,     0.61061,     0.61161,     0.61261,     0.61361,     0.61461,     0.61562,     0.61662,     0.61762,     0.61862,     0.61962,     0.62062,     0.62162,     0.62262,     0.62362,\n",
       "           0.62462,     0.62563,     0.62663,     0.62763,     0.62863,     0.62963,     0.63063,     0.63163,     0.63263,     0.63363,     0.63463,     0.63564,     0.63664,     0.63764,     0.63864,     0.63964,     0.64064,     0.64164,     0.64264,     0.64364,     0.64464,     0.64565,     0.64665,     0.64765,\n",
       "           0.64865,     0.64965,     0.65065,     0.65165,     0.65265,     0.65365,     0.65465,     0.65566,     0.65666,     0.65766,     0.65866,     0.65966,     0.66066,     0.66166,     0.66266,     0.66366,     0.66466,     0.66567,     0.66667,     0.66767,     0.66867,     0.66967,     0.67067,     0.67167,\n",
       "           0.67267,     0.67367,     0.67467,     0.67568,     0.67668,     0.67768,     0.67868,     0.67968,     0.68068,     0.68168,     0.68268,     0.68368,     0.68468,     0.68569,     0.68669,     0.68769,     0.68869,     0.68969,     0.69069,     0.69169,     0.69269,     0.69369,     0.69469,      0.6957,\n",
       "            0.6967,      0.6977,      0.6987,      0.6997,      0.7007,      0.7017,      0.7027,      0.7037,      0.7047,     0.70571,     0.70671,     0.70771,     0.70871,     0.70971,     0.71071,     0.71171,     0.71271,     0.71371,     0.71471,     0.71572,     0.71672,     0.71772,     0.71872,     0.71972,\n",
       "           0.72072,     0.72172,     0.72272,     0.72372,     0.72472,     0.72573,     0.72673,     0.72773,     0.72873,     0.72973,     0.73073,     0.73173,     0.73273,     0.73373,     0.73473,     0.73574,     0.73674,     0.73774,     0.73874,     0.73974,     0.74074,     0.74174,     0.74274,     0.74374,\n",
       "           0.74474,     0.74575,     0.74675,     0.74775,     0.74875,     0.74975,     0.75075,     0.75175,     0.75275,     0.75375,     0.75475,     0.75576,     0.75676,     0.75776,     0.75876,     0.75976,     0.76076,     0.76176,     0.76276,     0.76376,     0.76476,     0.76577,     0.76677,     0.76777,\n",
       "           0.76877,     0.76977,     0.77077,     0.77177,     0.77277,     0.77377,     0.77477,     0.77578,     0.77678,     0.77778,     0.77878,     0.77978,     0.78078,     0.78178,     0.78278,     0.78378,     0.78478,     0.78579,     0.78679,     0.78779,     0.78879,     0.78979,     0.79079,     0.79179,\n",
       "           0.79279,     0.79379,     0.79479,      0.7958,      0.7968,      0.7978,      0.7988,      0.7998,      0.8008,      0.8018,      0.8028,      0.8038,      0.8048,     0.80581,     0.80681,     0.80781,     0.80881,     0.80981,     0.81081,     0.81181,     0.81281,     0.81381,     0.81481,     0.81582,\n",
       "           0.81682,     0.81782,     0.81882,     0.81982,     0.82082,     0.82182,     0.82282,     0.82382,     0.82482,     0.82583,     0.82683,     0.82783,     0.82883,     0.82983,     0.83083,     0.83183,     0.83283,     0.83383,     0.83483,     0.83584,     0.83684,     0.83784,     0.83884,     0.83984,\n",
       "           0.84084,     0.84184,     0.84284,     0.84384,     0.84484,     0.84585,     0.84685,     0.84785,     0.84885,     0.84985,     0.85085,     0.85185,     0.85285,     0.85385,     0.85485,     0.85586,     0.85686,     0.85786,     0.85886,     0.85986,     0.86086,     0.86186,     0.86286,     0.86386,\n",
       "           0.86486,     0.86587,     0.86687,     0.86787,     0.86887,     0.86987,     0.87087,     0.87187,     0.87287,     0.87387,     0.87487,     0.87588,     0.87688,     0.87788,     0.87888,     0.87988,     0.88088,     0.88188,     0.88288,     0.88388,     0.88488,     0.88589,     0.88689,     0.88789,\n",
       "           0.88889,     0.88989,     0.89089,     0.89189,     0.89289,     0.89389,     0.89489,      0.8959,      0.8969,      0.8979,      0.8989,      0.8999,      0.9009,      0.9019,      0.9029,      0.9039,      0.9049,     0.90591,     0.90691,     0.90791,     0.90891,     0.90991,     0.91091,     0.91191,\n",
       "           0.91291,     0.91391,     0.91491,     0.91592,     0.91692,     0.91792,     0.91892,     0.91992,     0.92092,     0.92192,     0.92292,     0.92392,     0.92492,     0.92593,     0.92693,     0.92793,     0.92893,     0.92993,     0.93093,     0.93193,     0.93293,     0.93393,     0.93493,     0.93594,\n",
       "           0.93694,     0.93794,     0.93894,     0.93994,     0.94094,     0.94194,     0.94294,     0.94394,     0.94494,     0.94595,     0.94695,     0.94795,     0.94895,     0.94995,     0.95095,     0.95195,     0.95295,     0.95395,     0.95495,     0.95596,     0.95696,     0.95796,     0.95896,     0.95996,\n",
       "           0.96096,     0.96196,     0.96296,     0.96396,     0.96496,     0.96597,     0.96697,     0.96797,     0.96897,     0.96997,     0.97097,     0.97197,     0.97297,     0.97397,     0.97497,     0.97598,     0.97698,     0.97798,     0.97898,     0.97998,     0.98098,     0.98198,     0.98298,     0.98398,\n",
       "           0.98498,     0.98599,     0.98699,     0.98799,     0.98899,     0.98999,     0.99099,     0.99199,     0.99299,     0.99399,     0.99499,       0.996,       0.997,       0.998,       0.999,           1]), array([[    0.34483,     0.34483,     0.41054, ...,           0,           0,           0],\n",
       "       [   0.095238,    0.095238,     0.11953, ...,           0,           0,           0],\n",
       "       [    0.33333,     0.33333,     0.41527, ...,           0,           0,           0],\n",
       "       ...,\n",
       "       [    0.54545,     0.54545,      0.5774, ...,           0,           0,           0],\n",
       "       [       0.24,        0.24,     0.30752, ...,           0,           0,           0],\n",
       "       [     0.2069,      0.2069,     0.22781, ...,           0,           0,           0]]), 'Confidence', 'F1'], [array([          0,    0.001001,    0.002002,    0.003003,    0.004004,    0.005005,    0.006006,    0.007007,    0.008008,    0.009009,     0.01001,    0.011011,    0.012012,    0.013013,    0.014014,    0.015015,    0.016016,    0.017017,    0.018018,    0.019019,     0.02002,    0.021021,    0.022022,    0.023023,\n",
       "          0.024024,    0.025025,    0.026026,    0.027027,    0.028028,    0.029029,     0.03003,    0.031031,    0.032032,    0.033033,    0.034034,    0.035035,    0.036036,    0.037037,    0.038038,    0.039039,     0.04004,    0.041041,    0.042042,    0.043043,    0.044044,    0.045045,    0.046046,    0.047047,\n",
       "          0.048048,    0.049049,     0.05005,    0.051051,    0.052052,    0.053053,    0.054054,    0.055055,    0.056056,    0.057057,    0.058058,    0.059059,     0.06006,    0.061061,    0.062062,    0.063063,    0.064064,    0.065065,    0.066066,    0.067067,    0.068068,    0.069069,     0.07007,    0.071071,\n",
       "          0.072072,    0.073073,    0.074074,    0.075075,    0.076076,    0.077077,    0.078078,    0.079079,     0.08008,    0.081081,    0.082082,    0.083083,    0.084084,    0.085085,    0.086086,    0.087087,    0.088088,    0.089089,     0.09009,    0.091091,    0.092092,    0.093093,    0.094094,    0.095095,\n",
       "          0.096096,    0.097097,    0.098098,    0.099099,      0.1001,      0.1011,      0.1021,      0.1031,      0.1041,     0.10511,     0.10611,     0.10711,     0.10811,     0.10911,     0.11011,     0.11111,     0.11211,     0.11311,     0.11411,     0.11512,     0.11612,     0.11712,     0.11812,     0.11912,\n",
       "           0.12012,     0.12112,     0.12212,     0.12312,     0.12412,     0.12513,     0.12613,     0.12713,     0.12813,     0.12913,     0.13013,     0.13113,     0.13213,     0.13313,     0.13413,     0.13514,     0.13614,     0.13714,     0.13814,     0.13914,     0.14014,     0.14114,     0.14214,     0.14314,\n",
       "           0.14414,     0.14515,     0.14615,     0.14715,     0.14815,     0.14915,     0.15015,     0.15115,     0.15215,     0.15315,     0.15415,     0.15516,     0.15616,     0.15716,     0.15816,     0.15916,     0.16016,     0.16116,     0.16216,     0.16316,     0.16416,     0.16517,     0.16617,     0.16717,\n",
       "           0.16817,     0.16917,     0.17017,     0.17117,     0.17217,     0.17317,     0.17417,     0.17518,     0.17618,     0.17718,     0.17818,     0.17918,     0.18018,     0.18118,     0.18218,     0.18318,     0.18418,     0.18519,     0.18619,     0.18719,     0.18819,     0.18919,     0.19019,     0.19119,\n",
       "           0.19219,     0.19319,     0.19419,      0.1952,      0.1962,      0.1972,      0.1982,      0.1992,      0.2002,      0.2012,      0.2022,      0.2032,      0.2042,     0.20521,     0.20621,     0.20721,     0.20821,     0.20921,     0.21021,     0.21121,     0.21221,     0.21321,     0.21421,     0.21522,\n",
       "           0.21622,     0.21722,     0.21822,     0.21922,     0.22022,     0.22122,     0.22222,     0.22322,     0.22422,     0.22523,     0.22623,     0.22723,     0.22823,     0.22923,     0.23023,     0.23123,     0.23223,     0.23323,     0.23423,     0.23524,     0.23624,     0.23724,     0.23824,     0.23924,\n",
       "           0.24024,     0.24124,     0.24224,     0.24324,     0.24424,     0.24525,     0.24625,     0.24725,     0.24825,     0.24925,     0.25025,     0.25125,     0.25225,     0.25325,     0.25425,     0.25526,     0.25626,     0.25726,     0.25826,     0.25926,     0.26026,     0.26126,     0.26226,     0.26326,\n",
       "           0.26426,     0.26527,     0.26627,     0.26727,     0.26827,     0.26927,     0.27027,     0.27127,     0.27227,     0.27327,     0.27427,     0.27528,     0.27628,     0.27728,     0.27828,     0.27928,     0.28028,     0.28128,     0.28228,     0.28328,     0.28428,     0.28529,     0.28629,     0.28729,\n",
       "           0.28829,     0.28929,     0.29029,     0.29129,     0.29229,     0.29329,     0.29429,      0.2953,      0.2963,      0.2973,      0.2983,      0.2993,      0.3003,      0.3013,      0.3023,      0.3033,      0.3043,     0.30531,     0.30631,     0.30731,     0.30831,     0.30931,     0.31031,     0.31131,\n",
       "           0.31231,     0.31331,     0.31431,     0.31532,     0.31632,     0.31732,     0.31832,     0.31932,     0.32032,     0.32132,     0.32232,     0.32332,     0.32432,     0.32533,     0.32633,     0.32733,     0.32833,     0.32933,     0.33033,     0.33133,     0.33233,     0.33333,     0.33433,     0.33534,\n",
       "           0.33634,     0.33734,     0.33834,     0.33934,     0.34034,     0.34134,     0.34234,     0.34334,     0.34434,     0.34535,     0.34635,     0.34735,     0.34835,     0.34935,     0.35035,     0.35135,     0.35235,     0.35335,     0.35435,     0.35536,     0.35636,     0.35736,     0.35836,     0.35936,\n",
       "           0.36036,     0.36136,     0.36236,     0.36336,     0.36436,     0.36537,     0.36637,     0.36737,     0.36837,     0.36937,     0.37037,     0.37137,     0.37237,     0.37337,     0.37437,     0.37538,     0.37638,     0.37738,     0.37838,     0.37938,     0.38038,     0.38138,     0.38238,     0.38338,\n",
       "           0.38438,     0.38539,     0.38639,     0.38739,     0.38839,     0.38939,     0.39039,     0.39139,     0.39239,     0.39339,     0.39439,      0.3954,      0.3964,      0.3974,      0.3984,      0.3994,      0.4004,      0.4014,      0.4024,      0.4034,      0.4044,     0.40541,     0.40641,     0.40741,\n",
       "           0.40841,     0.40941,     0.41041,     0.41141,     0.41241,     0.41341,     0.41441,     0.41542,     0.41642,     0.41742,     0.41842,     0.41942,     0.42042,     0.42142,     0.42242,     0.42342,     0.42442,     0.42543,     0.42643,     0.42743,     0.42843,     0.42943,     0.43043,     0.43143,\n",
       "           0.43243,     0.43343,     0.43443,     0.43544,     0.43644,     0.43744,     0.43844,     0.43944,     0.44044,     0.44144,     0.44244,     0.44344,     0.44444,     0.44545,     0.44645,     0.44745,     0.44845,     0.44945,     0.45045,     0.45145,     0.45245,     0.45345,     0.45445,     0.45546,\n",
       "           0.45646,     0.45746,     0.45846,     0.45946,     0.46046,     0.46146,     0.46246,     0.46346,     0.46446,     0.46547,     0.46647,     0.46747,     0.46847,     0.46947,     0.47047,     0.47147,     0.47247,     0.47347,     0.47447,     0.47548,     0.47648,     0.47748,     0.47848,     0.47948,\n",
       "           0.48048,     0.48148,     0.48248,     0.48348,     0.48448,     0.48549,     0.48649,     0.48749,     0.48849,     0.48949,     0.49049,     0.49149,     0.49249,     0.49349,     0.49449,      0.4955,      0.4965,      0.4975,      0.4985,      0.4995,      0.5005,      0.5015,      0.5025,      0.5035,\n",
       "            0.5045,     0.50551,     0.50651,     0.50751,     0.50851,     0.50951,     0.51051,     0.51151,     0.51251,     0.51351,     0.51451,     0.51552,     0.51652,     0.51752,     0.51852,     0.51952,     0.52052,     0.52152,     0.52252,     0.52352,     0.52452,     0.52553,     0.52653,     0.52753,\n",
       "           0.52853,     0.52953,     0.53053,     0.53153,     0.53253,     0.53353,     0.53453,     0.53554,     0.53654,     0.53754,     0.53854,     0.53954,     0.54054,     0.54154,     0.54254,     0.54354,     0.54454,     0.54555,     0.54655,     0.54755,     0.54855,     0.54955,     0.55055,     0.55155,\n",
       "           0.55255,     0.55355,     0.55455,     0.55556,     0.55656,     0.55756,     0.55856,     0.55956,     0.56056,     0.56156,     0.56256,     0.56356,     0.56456,     0.56557,     0.56657,     0.56757,     0.56857,     0.56957,     0.57057,     0.57157,     0.57257,     0.57357,     0.57457,     0.57558,\n",
       "           0.57658,     0.57758,     0.57858,     0.57958,     0.58058,     0.58158,     0.58258,     0.58358,     0.58458,     0.58559,     0.58659,     0.58759,     0.58859,     0.58959,     0.59059,     0.59159,     0.59259,     0.59359,     0.59459,      0.5956,      0.5966,      0.5976,      0.5986,      0.5996,\n",
       "            0.6006,      0.6016,      0.6026,      0.6036,      0.6046,     0.60561,     0.60661,     0.60761,     0.60861,     0.60961,     0.61061,     0.61161,     0.61261,     0.61361,     0.61461,     0.61562,     0.61662,     0.61762,     0.61862,     0.61962,     0.62062,     0.62162,     0.62262,     0.62362,\n",
       "           0.62462,     0.62563,     0.62663,     0.62763,     0.62863,     0.62963,     0.63063,     0.63163,     0.63263,     0.63363,     0.63463,     0.63564,     0.63664,     0.63764,     0.63864,     0.63964,     0.64064,     0.64164,     0.64264,     0.64364,     0.64464,     0.64565,     0.64665,     0.64765,\n",
       "           0.64865,     0.64965,     0.65065,     0.65165,     0.65265,     0.65365,     0.65465,     0.65566,     0.65666,     0.65766,     0.65866,     0.65966,     0.66066,     0.66166,     0.66266,     0.66366,     0.66466,     0.66567,     0.66667,     0.66767,     0.66867,     0.66967,     0.67067,     0.67167,\n",
       "           0.67267,     0.67367,     0.67467,     0.67568,     0.67668,     0.67768,     0.67868,     0.67968,     0.68068,     0.68168,     0.68268,     0.68368,     0.68468,     0.68569,     0.68669,     0.68769,     0.68869,     0.68969,     0.69069,     0.69169,     0.69269,     0.69369,     0.69469,      0.6957,\n",
       "            0.6967,      0.6977,      0.6987,      0.6997,      0.7007,      0.7017,      0.7027,      0.7037,      0.7047,     0.70571,     0.70671,     0.70771,     0.70871,     0.70971,     0.71071,     0.71171,     0.71271,     0.71371,     0.71471,     0.71572,     0.71672,     0.71772,     0.71872,     0.71972,\n",
       "           0.72072,     0.72172,     0.72272,     0.72372,     0.72472,     0.72573,     0.72673,     0.72773,     0.72873,     0.72973,     0.73073,     0.73173,     0.73273,     0.73373,     0.73473,     0.73574,     0.73674,     0.73774,     0.73874,     0.73974,     0.74074,     0.74174,     0.74274,     0.74374,\n",
       "           0.74474,     0.74575,     0.74675,     0.74775,     0.74875,     0.74975,     0.75075,     0.75175,     0.75275,     0.75375,     0.75475,     0.75576,     0.75676,     0.75776,     0.75876,     0.75976,     0.76076,     0.76176,     0.76276,     0.76376,     0.76476,     0.76577,     0.76677,     0.76777,\n",
       "           0.76877,     0.76977,     0.77077,     0.77177,     0.77277,     0.77377,     0.77477,     0.77578,     0.77678,     0.77778,     0.77878,     0.77978,     0.78078,     0.78178,     0.78278,     0.78378,     0.78478,     0.78579,     0.78679,     0.78779,     0.78879,     0.78979,     0.79079,     0.79179,\n",
       "           0.79279,     0.79379,     0.79479,      0.7958,      0.7968,      0.7978,      0.7988,      0.7998,      0.8008,      0.8018,      0.8028,      0.8038,      0.8048,     0.80581,     0.80681,     0.80781,     0.80881,     0.80981,     0.81081,     0.81181,     0.81281,     0.81381,     0.81481,     0.81582,\n",
       "           0.81682,     0.81782,     0.81882,     0.81982,     0.82082,     0.82182,     0.82282,     0.82382,     0.82482,     0.82583,     0.82683,     0.82783,     0.82883,     0.82983,     0.83083,     0.83183,     0.83283,     0.83383,     0.83483,     0.83584,     0.83684,     0.83784,     0.83884,     0.83984,\n",
       "           0.84084,     0.84184,     0.84284,     0.84384,     0.84484,     0.84585,     0.84685,     0.84785,     0.84885,     0.84985,     0.85085,     0.85185,     0.85285,     0.85385,     0.85485,     0.85586,     0.85686,     0.85786,     0.85886,     0.85986,     0.86086,     0.86186,     0.86286,     0.86386,\n",
       "           0.86486,     0.86587,     0.86687,     0.86787,     0.86887,     0.86987,     0.87087,     0.87187,     0.87287,     0.87387,     0.87487,     0.87588,     0.87688,     0.87788,     0.87888,     0.87988,     0.88088,     0.88188,     0.88288,     0.88388,     0.88488,     0.88589,     0.88689,     0.88789,\n",
       "           0.88889,     0.88989,     0.89089,     0.89189,     0.89289,     0.89389,     0.89489,      0.8959,      0.8969,      0.8979,      0.8989,      0.8999,      0.9009,      0.9019,      0.9029,      0.9039,      0.9049,     0.90591,     0.90691,     0.90791,     0.90891,     0.90991,     0.91091,     0.91191,\n",
       "           0.91291,     0.91391,     0.91491,     0.91592,     0.91692,     0.91792,     0.91892,     0.91992,     0.92092,     0.92192,     0.92292,     0.92392,     0.92492,     0.92593,     0.92693,     0.92793,     0.92893,     0.92993,     0.93093,     0.93193,     0.93293,     0.93393,     0.93493,     0.93594,\n",
       "           0.93694,     0.93794,     0.93894,     0.93994,     0.94094,     0.94194,     0.94294,     0.94394,     0.94494,     0.94595,     0.94695,     0.94795,     0.94895,     0.94995,     0.95095,     0.95195,     0.95295,     0.95395,     0.95495,     0.95596,     0.95696,     0.95796,     0.95896,     0.95996,\n",
       "           0.96096,     0.96196,     0.96296,     0.96396,     0.96496,     0.96597,     0.96697,     0.96797,     0.96897,     0.96997,     0.97097,     0.97197,     0.97297,     0.97397,     0.97497,     0.97598,     0.97698,     0.97798,     0.97898,     0.97998,     0.98098,     0.98198,     0.98298,     0.98398,\n",
       "           0.98498,     0.98599,     0.98699,     0.98799,     0.98899,     0.98999,     0.99099,     0.99199,     0.99299,     0.99399,     0.99499,       0.996,       0.997,       0.998,       0.999,           1]), array([[    0.21739,     0.21739,     0.27398, ...,           1,           1,           1],\n",
       "       [       0.05,        0.05,    0.063561, ...,           1,           1,           1],\n",
       "       [        0.2,         0.2,     0.26205, ...,           1,           1,           1],\n",
       "       ...,\n",
       "       [      0.375,       0.375,     0.40588, ...,           1,           1,           1],\n",
       "       [    0.13636,     0.13636,      0.1817, ...,           1,           1,           1],\n",
       "       [    0.11538,     0.11538,     0.12855, ...,           1,           1,           1]]), 'Confidence', 'Precision'], [array([          0,    0.001001,    0.002002,    0.003003,    0.004004,    0.005005,    0.006006,    0.007007,    0.008008,    0.009009,     0.01001,    0.011011,    0.012012,    0.013013,    0.014014,    0.015015,    0.016016,    0.017017,    0.018018,    0.019019,     0.02002,    0.021021,    0.022022,    0.023023,\n",
       "          0.024024,    0.025025,    0.026026,    0.027027,    0.028028,    0.029029,     0.03003,    0.031031,    0.032032,    0.033033,    0.034034,    0.035035,    0.036036,    0.037037,    0.038038,    0.039039,     0.04004,    0.041041,    0.042042,    0.043043,    0.044044,    0.045045,    0.046046,    0.047047,\n",
       "          0.048048,    0.049049,     0.05005,    0.051051,    0.052052,    0.053053,    0.054054,    0.055055,    0.056056,    0.057057,    0.058058,    0.059059,     0.06006,    0.061061,    0.062062,    0.063063,    0.064064,    0.065065,    0.066066,    0.067067,    0.068068,    0.069069,     0.07007,    0.071071,\n",
       "          0.072072,    0.073073,    0.074074,    0.075075,    0.076076,    0.077077,    0.078078,    0.079079,     0.08008,    0.081081,    0.082082,    0.083083,    0.084084,    0.085085,    0.086086,    0.087087,    0.088088,    0.089089,     0.09009,    0.091091,    0.092092,    0.093093,    0.094094,    0.095095,\n",
       "          0.096096,    0.097097,    0.098098,    0.099099,      0.1001,      0.1011,      0.1021,      0.1031,      0.1041,     0.10511,     0.10611,     0.10711,     0.10811,     0.10911,     0.11011,     0.11111,     0.11211,     0.11311,     0.11411,     0.11512,     0.11612,     0.11712,     0.11812,     0.11912,\n",
       "           0.12012,     0.12112,     0.12212,     0.12312,     0.12412,     0.12513,     0.12613,     0.12713,     0.12813,     0.12913,     0.13013,     0.13113,     0.13213,     0.13313,     0.13413,     0.13514,     0.13614,     0.13714,     0.13814,     0.13914,     0.14014,     0.14114,     0.14214,     0.14314,\n",
       "           0.14414,     0.14515,     0.14615,     0.14715,     0.14815,     0.14915,     0.15015,     0.15115,     0.15215,     0.15315,     0.15415,     0.15516,     0.15616,     0.15716,     0.15816,     0.15916,     0.16016,     0.16116,     0.16216,     0.16316,     0.16416,     0.16517,     0.16617,     0.16717,\n",
       "           0.16817,     0.16917,     0.17017,     0.17117,     0.17217,     0.17317,     0.17417,     0.17518,     0.17618,     0.17718,     0.17818,     0.17918,     0.18018,     0.18118,     0.18218,     0.18318,     0.18418,     0.18519,     0.18619,     0.18719,     0.18819,     0.18919,     0.19019,     0.19119,\n",
       "           0.19219,     0.19319,     0.19419,      0.1952,      0.1962,      0.1972,      0.1982,      0.1992,      0.2002,      0.2012,      0.2022,      0.2032,      0.2042,     0.20521,     0.20621,     0.20721,     0.20821,     0.20921,     0.21021,     0.21121,     0.21221,     0.21321,     0.21421,     0.21522,\n",
       "           0.21622,     0.21722,     0.21822,     0.21922,     0.22022,     0.22122,     0.22222,     0.22322,     0.22422,     0.22523,     0.22623,     0.22723,     0.22823,     0.22923,     0.23023,     0.23123,     0.23223,     0.23323,     0.23423,     0.23524,     0.23624,     0.23724,     0.23824,     0.23924,\n",
       "           0.24024,     0.24124,     0.24224,     0.24324,     0.24424,     0.24525,     0.24625,     0.24725,     0.24825,     0.24925,     0.25025,     0.25125,     0.25225,     0.25325,     0.25425,     0.25526,     0.25626,     0.25726,     0.25826,     0.25926,     0.26026,     0.26126,     0.26226,     0.26326,\n",
       "           0.26426,     0.26527,     0.26627,     0.26727,     0.26827,     0.26927,     0.27027,     0.27127,     0.27227,     0.27327,     0.27427,     0.27528,     0.27628,     0.27728,     0.27828,     0.27928,     0.28028,     0.28128,     0.28228,     0.28328,     0.28428,     0.28529,     0.28629,     0.28729,\n",
       "           0.28829,     0.28929,     0.29029,     0.29129,     0.29229,     0.29329,     0.29429,      0.2953,      0.2963,      0.2973,      0.2983,      0.2993,      0.3003,      0.3013,      0.3023,      0.3033,      0.3043,     0.30531,     0.30631,     0.30731,     0.30831,     0.30931,     0.31031,     0.31131,\n",
       "           0.31231,     0.31331,     0.31431,     0.31532,     0.31632,     0.31732,     0.31832,     0.31932,     0.32032,     0.32132,     0.32232,     0.32332,     0.32432,     0.32533,     0.32633,     0.32733,     0.32833,     0.32933,     0.33033,     0.33133,     0.33233,     0.33333,     0.33433,     0.33534,\n",
       "           0.33634,     0.33734,     0.33834,     0.33934,     0.34034,     0.34134,     0.34234,     0.34334,     0.34434,     0.34535,     0.34635,     0.34735,     0.34835,     0.34935,     0.35035,     0.35135,     0.35235,     0.35335,     0.35435,     0.35536,     0.35636,     0.35736,     0.35836,     0.35936,\n",
       "           0.36036,     0.36136,     0.36236,     0.36336,     0.36436,     0.36537,     0.36637,     0.36737,     0.36837,     0.36937,     0.37037,     0.37137,     0.37237,     0.37337,     0.37437,     0.37538,     0.37638,     0.37738,     0.37838,     0.37938,     0.38038,     0.38138,     0.38238,     0.38338,\n",
       "           0.38438,     0.38539,     0.38639,     0.38739,     0.38839,     0.38939,     0.39039,     0.39139,     0.39239,     0.39339,     0.39439,      0.3954,      0.3964,      0.3974,      0.3984,      0.3994,      0.4004,      0.4014,      0.4024,      0.4034,      0.4044,     0.40541,     0.40641,     0.40741,\n",
       "           0.40841,     0.40941,     0.41041,     0.41141,     0.41241,     0.41341,     0.41441,     0.41542,     0.41642,     0.41742,     0.41842,     0.41942,     0.42042,     0.42142,     0.42242,     0.42342,     0.42442,     0.42543,     0.42643,     0.42743,     0.42843,     0.42943,     0.43043,     0.43143,\n",
       "           0.43243,     0.43343,     0.43443,     0.43544,     0.43644,     0.43744,     0.43844,     0.43944,     0.44044,     0.44144,     0.44244,     0.44344,     0.44444,     0.44545,     0.44645,     0.44745,     0.44845,     0.44945,     0.45045,     0.45145,     0.45245,     0.45345,     0.45445,     0.45546,\n",
       "           0.45646,     0.45746,     0.45846,     0.45946,     0.46046,     0.46146,     0.46246,     0.46346,     0.46446,     0.46547,     0.46647,     0.46747,     0.46847,     0.46947,     0.47047,     0.47147,     0.47247,     0.47347,     0.47447,     0.47548,     0.47648,     0.47748,     0.47848,     0.47948,\n",
       "           0.48048,     0.48148,     0.48248,     0.48348,     0.48448,     0.48549,     0.48649,     0.48749,     0.48849,     0.48949,     0.49049,     0.49149,     0.49249,     0.49349,     0.49449,      0.4955,      0.4965,      0.4975,      0.4985,      0.4995,      0.5005,      0.5015,      0.5025,      0.5035,\n",
       "            0.5045,     0.50551,     0.50651,     0.50751,     0.50851,     0.50951,     0.51051,     0.51151,     0.51251,     0.51351,     0.51451,     0.51552,     0.51652,     0.51752,     0.51852,     0.51952,     0.52052,     0.52152,     0.52252,     0.52352,     0.52452,     0.52553,     0.52653,     0.52753,\n",
       "           0.52853,     0.52953,     0.53053,     0.53153,     0.53253,     0.53353,     0.53453,     0.53554,     0.53654,     0.53754,     0.53854,     0.53954,     0.54054,     0.54154,     0.54254,     0.54354,     0.54454,     0.54555,     0.54655,     0.54755,     0.54855,     0.54955,     0.55055,     0.55155,\n",
       "           0.55255,     0.55355,     0.55455,     0.55556,     0.55656,     0.55756,     0.55856,     0.55956,     0.56056,     0.56156,     0.56256,     0.56356,     0.56456,     0.56557,     0.56657,     0.56757,     0.56857,     0.56957,     0.57057,     0.57157,     0.57257,     0.57357,     0.57457,     0.57558,\n",
       "           0.57658,     0.57758,     0.57858,     0.57958,     0.58058,     0.58158,     0.58258,     0.58358,     0.58458,     0.58559,     0.58659,     0.58759,     0.58859,     0.58959,     0.59059,     0.59159,     0.59259,     0.59359,     0.59459,      0.5956,      0.5966,      0.5976,      0.5986,      0.5996,\n",
       "            0.6006,      0.6016,      0.6026,      0.6036,      0.6046,     0.60561,     0.60661,     0.60761,     0.60861,     0.60961,     0.61061,     0.61161,     0.61261,     0.61361,     0.61461,     0.61562,     0.61662,     0.61762,     0.61862,     0.61962,     0.62062,     0.62162,     0.62262,     0.62362,\n",
       "           0.62462,     0.62563,     0.62663,     0.62763,     0.62863,     0.62963,     0.63063,     0.63163,     0.63263,     0.63363,     0.63463,     0.63564,     0.63664,     0.63764,     0.63864,     0.63964,     0.64064,     0.64164,     0.64264,     0.64364,     0.64464,     0.64565,     0.64665,     0.64765,\n",
       "           0.64865,     0.64965,     0.65065,     0.65165,     0.65265,     0.65365,     0.65465,     0.65566,     0.65666,     0.65766,     0.65866,     0.65966,     0.66066,     0.66166,     0.66266,     0.66366,     0.66466,     0.66567,     0.66667,     0.66767,     0.66867,     0.66967,     0.67067,     0.67167,\n",
       "           0.67267,     0.67367,     0.67467,     0.67568,     0.67668,     0.67768,     0.67868,     0.67968,     0.68068,     0.68168,     0.68268,     0.68368,     0.68468,     0.68569,     0.68669,     0.68769,     0.68869,     0.68969,     0.69069,     0.69169,     0.69269,     0.69369,     0.69469,      0.6957,\n",
       "            0.6967,      0.6977,      0.6987,      0.6997,      0.7007,      0.7017,      0.7027,      0.7037,      0.7047,     0.70571,     0.70671,     0.70771,     0.70871,     0.70971,     0.71071,     0.71171,     0.71271,     0.71371,     0.71471,     0.71572,     0.71672,     0.71772,     0.71872,     0.71972,\n",
       "           0.72072,     0.72172,     0.72272,     0.72372,     0.72472,     0.72573,     0.72673,     0.72773,     0.72873,     0.72973,     0.73073,     0.73173,     0.73273,     0.73373,     0.73473,     0.73574,     0.73674,     0.73774,     0.73874,     0.73974,     0.74074,     0.74174,     0.74274,     0.74374,\n",
       "           0.74474,     0.74575,     0.74675,     0.74775,     0.74875,     0.74975,     0.75075,     0.75175,     0.75275,     0.75375,     0.75475,     0.75576,     0.75676,     0.75776,     0.75876,     0.75976,     0.76076,     0.76176,     0.76276,     0.76376,     0.76476,     0.76577,     0.76677,     0.76777,\n",
       "           0.76877,     0.76977,     0.77077,     0.77177,     0.77277,     0.77377,     0.77477,     0.77578,     0.77678,     0.77778,     0.77878,     0.77978,     0.78078,     0.78178,     0.78278,     0.78378,     0.78478,     0.78579,     0.78679,     0.78779,     0.78879,     0.78979,     0.79079,     0.79179,\n",
       "           0.79279,     0.79379,     0.79479,      0.7958,      0.7968,      0.7978,      0.7988,      0.7998,      0.8008,      0.8018,      0.8028,      0.8038,      0.8048,     0.80581,     0.80681,     0.80781,     0.80881,     0.80981,     0.81081,     0.81181,     0.81281,     0.81381,     0.81481,     0.81582,\n",
       "           0.81682,     0.81782,     0.81882,     0.81982,     0.82082,     0.82182,     0.82282,     0.82382,     0.82482,     0.82583,     0.82683,     0.82783,     0.82883,     0.82983,     0.83083,     0.83183,     0.83283,     0.83383,     0.83483,     0.83584,     0.83684,     0.83784,     0.83884,     0.83984,\n",
       "           0.84084,     0.84184,     0.84284,     0.84384,     0.84484,     0.84585,     0.84685,     0.84785,     0.84885,     0.84985,     0.85085,     0.85185,     0.85285,     0.85385,     0.85485,     0.85586,     0.85686,     0.85786,     0.85886,     0.85986,     0.86086,     0.86186,     0.86286,     0.86386,\n",
       "           0.86486,     0.86587,     0.86687,     0.86787,     0.86887,     0.86987,     0.87087,     0.87187,     0.87287,     0.87387,     0.87487,     0.87588,     0.87688,     0.87788,     0.87888,     0.87988,     0.88088,     0.88188,     0.88288,     0.88388,     0.88488,     0.88589,     0.88689,     0.88789,\n",
       "           0.88889,     0.88989,     0.89089,     0.89189,     0.89289,     0.89389,     0.89489,      0.8959,      0.8969,      0.8979,      0.8989,      0.8999,      0.9009,      0.9019,      0.9029,      0.9039,      0.9049,     0.90591,     0.90691,     0.90791,     0.90891,     0.90991,     0.91091,     0.91191,\n",
       "           0.91291,     0.91391,     0.91491,     0.91592,     0.91692,     0.91792,     0.91892,     0.91992,     0.92092,     0.92192,     0.92292,     0.92392,     0.92492,     0.92593,     0.92693,     0.92793,     0.92893,     0.92993,     0.93093,     0.93193,     0.93293,     0.93393,     0.93493,     0.93594,\n",
       "           0.93694,     0.93794,     0.93894,     0.93994,     0.94094,     0.94194,     0.94294,     0.94394,     0.94494,     0.94595,     0.94695,     0.94795,     0.94895,     0.94995,     0.95095,     0.95195,     0.95295,     0.95395,     0.95495,     0.95596,     0.95696,     0.95796,     0.95896,     0.95996,\n",
       "           0.96096,     0.96196,     0.96296,     0.96396,     0.96496,     0.96597,     0.96697,     0.96797,     0.96897,     0.96997,     0.97097,     0.97197,     0.97297,     0.97397,     0.97497,     0.97598,     0.97698,     0.97798,     0.97898,     0.97998,     0.98098,     0.98198,     0.98298,     0.98398,\n",
       "           0.98498,     0.98599,     0.98699,     0.98799,     0.98899,     0.98999,     0.99099,     0.99199,     0.99299,     0.99399,     0.99499,       0.996,       0.997,       0.998,       0.999,           1]), array([[    0.83333,     0.83333,     0.81845, ...,           0,           0,           0],\n",
       "       [          1,           1,           1, ...,           0,           0,           0],\n",
       "       [          1,           1,           1, ...,           0,           0,           0],\n",
       "       ...,\n",
       "       [          1,           1,           1, ...,           0,           0,           0],\n",
       "       [          1,           1,           1, ...,           0,           0,           0],\n",
       "       [          1,           1,           1, ...,           0,           0,           0]]), 'Confidence', 'Recall']]\n",
       "fitness: np.float64(0.7304655334930091)\n",
       "keys: ['metrics/precision(B)', 'metrics/recall(B)', 'metrics/mAP50(B)', 'metrics/mAP50-95(B)']\n",
       "maps: array([    0.50803,      0.6965,     0.75819,     0.70924,     0.72741,      0.8955,     0.77475,     0.68838,     0.70924,      0.6252])\n",
       "names: {0: 'Kick Sauber', 1: 'Racing Bulls', 2: 'Alpine', 3: 'Aston Martin', 4: 'Ferarri', 5: 'Haas', 6: 'Mclaren', 7: 'Mercedes', 8: 'Red Bull', 9: 'Williams'}\n",
       "plot: True\n",
       "results_dict: {'metrics/precision(B)': np.float64(0.8071095506153896), 'metrics/recall(B)': np.float64(0.8365606206064535), 'metrics/mAP50(B)': np.float64(0.921453502415459), 'metrics/mAP50-95(B)': np.float64(0.7092446480571813), 'fitness': np.float64(0.7304655334930091)}\n",
       "save_dir: WindowsPath('../f1-strategy/yolo-files/runs/train_finetune_adjusted')\n",
       "speed: {'preprocess': 0.523066520690918, 'inference': 7.304584980010986, 'loss': 0.0, 'postprocess': 1.0753989219665527}\n",
       "task: 'detect'"
      ]
     },
     "execution_count": 7,
     "metadata": {},
     "output_type": "execute_result"
    }
   ],
   "source": [
    "# Cargar el mejor modelo de la etapa anterior\n",
    "model_fine_tuned_2 = YOLO(\"../f1-strategy/weights/f1_detection_best_2.pt\")\n",
    "\n",
    "\n",
    "# Fine-tuning con enfoque en mejorar el recall y reducir overfitting\n",
    "model_fine_tuned_2.train(\n",
    "    data=\"../f1-strategy/f1-dataset/data.yaml\",\n",
    "    epochs=FINE_TUNED_EPOCHS,\n",
    "    batch=FINE_TUNED_BATCH_SIZE,\n",
    "    optimizer=\"AdamW\",      # Mantener optimizador adaptativo\n",
    "    lr0=LEARNING_RATE/8,    # Learning rate aún más bajo para fine-tuning refinado\n",
    "    lrf=0.0005,             # Factor LR final más bajo para mejor convergencia\n",
    "    cos_lr=True,            # Mantener cosine annealing\n",
    "    momentum=0.937,         # Valor óptimo para AdamW\n",
    "    weight_decay=0.004,     # Ajustar regularización\n",
    "\n",
    "    # Balanceo de clases\n",
    "    label_smoothing=0.1,    # Reducir smoothing para enfocarse más en clases específicas\n",
    "\n",
    "    # Énfasis en las pérdidas\n",
    "    box=4.0,                # Ajustar peso para pérdida de bounding box\n",
    "    cls=3.5,                # Mayor énfasis en clasificación para clases difíciles\n",
    "\n",
    "    # Augmentaciones ajustadas según resultados\n",
    "    mosaic=0.9,             # Mayor mosaico para mejorar detección\n",
    "    mixup=0.3,              # Mantener mixup para generalizar mejor\n",
    "    copy_paste=0.25,        # Aumentar para más variedad\n",
    "    degrees=15.0,           # Reducir un poco la rotación\n",
    "    translate=0.2,          # Mantener traslación\n",
    "    scale=0.35,             # Mayor variación de escala\n",
    "    shear=2.5,              # Ajustar distorsión\n",
    "    perspective=0.001,      # Mantener perspectiva\n",
    "    fliplr=0.5,             # Mantener flip horizontal\n",
    "    flipud=0.05,            # Mantener flip vertical ocasional\n",
    "\n",
    "    # Cambios en color\n",
    "    hsv_h=0.02,             # Mantener cambios en tono\n",
    "    hsv_s=0.25,             # Ajustar saturación\n",
    "    hsv_v=0.15,             # Reducir variación de brillo\n",
    "\n",
    "    # Parámetros avanzados\n",
    "    iou=0.65,               # Ajustar umbral IOU\n",
    "\n",
    "    # Configuración general\n",
    "    patience=25,            # Mayor paciencia para convergencia\n",
    "    verbose=True,\n",
    "    device=DEVICE,\n",
    "    pretrained=True,\n",
    "    project='../f1-strategy/yolo-files/runs',\n",
    "    name='train_finetune_adjusted',\n",
    "\n",
    "    # Guardar puntos de control\n",
    "    save_period=2,          # Guardar modelos cada 2 épocas\n",
    ")"
   ]
  },
  {
   "cell_type": "code",
   "execution_count": null,
   "metadata": {},
   "outputs": [
    {
     "name": "stdout",
     "output_type": "stream",
     "text": [
      "Ultralytics 8.3.69  Python-3.10.16 torch-2.5.1+cu124 CUDA:0 (NVIDIA GeForce RTX 4060 Laptop GPU, 8188MiB)\n",
      "Model summary (fused): 218 layers, 25,845,550 parameters, 0 gradients, 78.7 GFLOPs\n"
     ]
    },
    {
     "name": "stderr",
     "output_type": "stream",
     "text": [
      "\u001b[34m\u001b[1mval: \u001b[0mScanning C:\\Users\\victo\\Desktop\\Documents\\Tercer año\\Segundo Cuatrimestre\\Finales\\f1-strategy\\f1-dataset\\valid\\labels.cache... 20 images, 0 backgrounds, 0 corrupt: 100%|██████████| 20/20 [00:00<?, ?it/s]\n",
      "                 Class     Images  Instances      Box(P          R      mAP50  mAP50-95): 100%|██████████| 3/3 [00:03<00:00,  1.21s/it]\n"
     ]
    },
    {
     "name": "stdout",
     "output_type": "stream",
     "text": [
      "                   all         20         29        0.7      0.792      0.871      0.752\n",
      "           Kick Sauber          4          6          1      0.461      0.849      0.585\n",
      "          Racing Bulls          1          1      0.521          1      0.995      0.895\n",
      "                Alpine          4          5      0.638      0.715      0.753       0.71\n",
      "               Ferarri          3          4      0.615       0.75      0.808      0.742\n",
      "                  Haas          1          1      0.403          1      0.995      0.895\n",
      "               Mclaren          5          6      0.826      0.797      0.903      0.767\n",
      "              Mercedes          3          3          1      0.614      0.913      0.793\n",
      "              Williams          2          3      0.594          1      0.753      0.627\n",
      "Speed: 2.2ms preprocess, 33.6ms inference, 0.0ms loss, 0.1ms postprocess per image\n",
      "Results saved to \u001b[1m..\\f1-strategy\\yolo-files\\runs\\train_finetune2\u001b[0m\n"
     ]
    },
    {
     "data": {
      "text/plain": [
       "ultralytics.utils.metrics.DetMetrics object with attributes:\n",
       "\n",
       "ap_class_index: array([0, 1, 2, 4, 5, 6, 7, 9])\n",
       "box: ultralytics.utils.metrics.Metric object\n",
       "confusion_matrix: <ultralytics.utils.metrics.ConfusionMatrix object at 0x0000022CA7200BB0>\n",
       "curves: ['Precision-Recall(B)', 'F1-Confidence(B)', 'Precision-Confidence(B)', 'Recall-Confidence(B)']\n",
       "curves_results: [[array([          0,    0.001001,    0.002002,    0.003003,    0.004004,    0.005005,    0.006006,    0.007007,    0.008008,    0.009009,     0.01001,    0.011011,    0.012012,    0.013013,    0.014014,    0.015015,    0.016016,    0.017017,    0.018018,    0.019019,     0.02002,    0.021021,    0.022022,    0.023023,\n",
       "          0.024024,    0.025025,    0.026026,    0.027027,    0.028028,    0.029029,     0.03003,    0.031031,    0.032032,    0.033033,    0.034034,    0.035035,    0.036036,    0.037037,    0.038038,    0.039039,     0.04004,    0.041041,    0.042042,    0.043043,    0.044044,    0.045045,    0.046046,    0.047047,\n",
       "          0.048048,    0.049049,     0.05005,    0.051051,    0.052052,    0.053053,    0.054054,    0.055055,    0.056056,    0.057057,    0.058058,    0.059059,     0.06006,    0.061061,    0.062062,    0.063063,    0.064064,    0.065065,    0.066066,    0.067067,    0.068068,    0.069069,     0.07007,    0.071071,\n",
       "          0.072072,    0.073073,    0.074074,    0.075075,    0.076076,    0.077077,    0.078078,    0.079079,     0.08008,    0.081081,    0.082082,    0.083083,    0.084084,    0.085085,    0.086086,    0.087087,    0.088088,    0.089089,     0.09009,    0.091091,    0.092092,    0.093093,    0.094094,    0.095095,\n",
       "          0.096096,    0.097097,    0.098098,    0.099099,      0.1001,      0.1011,      0.1021,      0.1031,      0.1041,     0.10511,     0.10611,     0.10711,     0.10811,     0.10911,     0.11011,     0.11111,     0.11211,     0.11311,     0.11411,     0.11512,     0.11612,     0.11712,     0.11812,     0.11912,\n",
       "           0.12012,     0.12112,     0.12212,     0.12312,     0.12412,     0.12513,     0.12613,     0.12713,     0.12813,     0.12913,     0.13013,     0.13113,     0.13213,     0.13313,     0.13413,     0.13514,     0.13614,     0.13714,     0.13814,     0.13914,     0.14014,     0.14114,     0.14214,     0.14314,\n",
       "           0.14414,     0.14515,     0.14615,     0.14715,     0.14815,     0.14915,     0.15015,     0.15115,     0.15215,     0.15315,     0.15415,     0.15516,     0.15616,     0.15716,     0.15816,     0.15916,     0.16016,     0.16116,     0.16216,     0.16316,     0.16416,     0.16517,     0.16617,     0.16717,\n",
       "           0.16817,     0.16917,     0.17017,     0.17117,     0.17217,     0.17317,     0.17417,     0.17518,     0.17618,     0.17718,     0.17818,     0.17918,     0.18018,     0.18118,     0.18218,     0.18318,     0.18418,     0.18519,     0.18619,     0.18719,     0.18819,     0.18919,     0.19019,     0.19119,\n",
       "           0.19219,     0.19319,     0.19419,      0.1952,      0.1962,      0.1972,      0.1982,      0.1992,      0.2002,      0.2012,      0.2022,      0.2032,      0.2042,     0.20521,     0.20621,     0.20721,     0.20821,     0.20921,     0.21021,     0.21121,     0.21221,     0.21321,     0.21421,     0.21522,\n",
       "           0.21622,     0.21722,     0.21822,     0.21922,     0.22022,     0.22122,     0.22222,     0.22322,     0.22422,     0.22523,     0.22623,     0.22723,     0.22823,     0.22923,     0.23023,     0.23123,     0.23223,     0.23323,     0.23423,     0.23524,     0.23624,     0.23724,     0.23824,     0.23924,\n",
       "           0.24024,     0.24124,     0.24224,     0.24324,     0.24424,     0.24525,     0.24625,     0.24725,     0.24825,     0.24925,     0.25025,     0.25125,     0.25225,     0.25325,     0.25425,     0.25526,     0.25626,     0.25726,     0.25826,     0.25926,     0.26026,     0.26126,     0.26226,     0.26326,\n",
       "           0.26426,     0.26527,     0.26627,     0.26727,     0.26827,     0.26927,     0.27027,     0.27127,     0.27227,     0.27327,     0.27427,     0.27528,     0.27628,     0.27728,     0.27828,     0.27928,     0.28028,     0.28128,     0.28228,     0.28328,     0.28428,     0.28529,     0.28629,     0.28729,\n",
       "           0.28829,     0.28929,     0.29029,     0.29129,     0.29229,     0.29329,     0.29429,      0.2953,      0.2963,      0.2973,      0.2983,      0.2993,      0.3003,      0.3013,      0.3023,      0.3033,      0.3043,     0.30531,     0.30631,     0.30731,     0.30831,     0.30931,     0.31031,     0.31131,\n",
       "           0.31231,     0.31331,     0.31431,     0.31532,     0.31632,     0.31732,     0.31832,     0.31932,     0.32032,     0.32132,     0.32232,     0.32332,     0.32432,     0.32533,     0.32633,     0.32733,     0.32833,     0.32933,     0.33033,     0.33133,     0.33233,     0.33333,     0.33433,     0.33534,\n",
       "           0.33634,     0.33734,     0.33834,     0.33934,     0.34034,     0.34134,     0.34234,     0.34334,     0.34434,     0.34535,     0.34635,     0.34735,     0.34835,     0.34935,     0.35035,     0.35135,     0.35235,     0.35335,     0.35435,     0.35536,     0.35636,     0.35736,     0.35836,     0.35936,\n",
       "           0.36036,     0.36136,     0.36236,     0.36336,     0.36436,     0.36537,     0.36637,     0.36737,     0.36837,     0.36937,     0.37037,     0.37137,     0.37237,     0.37337,     0.37437,     0.37538,     0.37638,     0.37738,     0.37838,     0.37938,     0.38038,     0.38138,     0.38238,     0.38338,\n",
       "           0.38438,     0.38539,     0.38639,     0.38739,     0.38839,     0.38939,     0.39039,     0.39139,     0.39239,     0.39339,     0.39439,      0.3954,      0.3964,      0.3974,      0.3984,      0.3994,      0.4004,      0.4014,      0.4024,      0.4034,      0.4044,     0.40541,     0.40641,     0.40741,\n",
       "           0.40841,     0.40941,     0.41041,     0.41141,     0.41241,     0.41341,     0.41441,     0.41542,     0.41642,     0.41742,     0.41842,     0.41942,     0.42042,     0.42142,     0.42242,     0.42342,     0.42442,     0.42543,     0.42643,     0.42743,     0.42843,     0.42943,     0.43043,     0.43143,\n",
       "           0.43243,     0.43343,     0.43443,     0.43544,     0.43644,     0.43744,     0.43844,     0.43944,     0.44044,     0.44144,     0.44244,     0.44344,     0.44444,     0.44545,     0.44645,     0.44745,     0.44845,     0.44945,     0.45045,     0.45145,     0.45245,     0.45345,     0.45445,     0.45546,\n",
       "           0.45646,     0.45746,     0.45846,     0.45946,     0.46046,     0.46146,     0.46246,     0.46346,     0.46446,     0.46547,     0.46647,     0.46747,     0.46847,     0.46947,     0.47047,     0.47147,     0.47247,     0.47347,     0.47447,     0.47548,     0.47648,     0.47748,     0.47848,     0.47948,\n",
       "           0.48048,     0.48148,     0.48248,     0.48348,     0.48448,     0.48549,     0.48649,     0.48749,     0.48849,     0.48949,     0.49049,     0.49149,     0.49249,     0.49349,     0.49449,      0.4955,      0.4965,      0.4975,      0.4985,      0.4995,      0.5005,      0.5015,      0.5025,      0.5035,\n",
       "            0.5045,     0.50551,     0.50651,     0.50751,     0.50851,     0.50951,     0.51051,     0.51151,     0.51251,     0.51351,     0.51451,     0.51552,     0.51652,     0.51752,     0.51852,     0.51952,     0.52052,     0.52152,     0.52252,     0.52352,     0.52452,     0.52553,     0.52653,     0.52753,\n",
       "           0.52853,     0.52953,     0.53053,     0.53153,     0.53253,     0.53353,     0.53453,     0.53554,     0.53654,     0.53754,     0.53854,     0.53954,     0.54054,     0.54154,     0.54254,     0.54354,     0.54454,     0.54555,     0.54655,     0.54755,     0.54855,     0.54955,     0.55055,     0.55155,\n",
       "           0.55255,     0.55355,     0.55455,     0.55556,     0.55656,     0.55756,     0.55856,     0.55956,     0.56056,     0.56156,     0.56256,     0.56356,     0.56456,     0.56557,     0.56657,     0.56757,     0.56857,     0.56957,     0.57057,     0.57157,     0.57257,     0.57357,     0.57457,     0.57558,\n",
       "           0.57658,     0.57758,     0.57858,     0.57958,     0.58058,     0.58158,     0.58258,     0.58358,     0.58458,     0.58559,     0.58659,     0.58759,     0.58859,     0.58959,     0.59059,     0.59159,     0.59259,     0.59359,     0.59459,      0.5956,      0.5966,      0.5976,      0.5986,      0.5996,\n",
       "            0.6006,      0.6016,      0.6026,      0.6036,      0.6046,     0.60561,     0.60661,     0.60761,     0.60861,     0.60961,     0.61061,     0.61161,     0.61261,     0.61361,     0.61461,     0.61562,     0.61662,     0.61762,     0.61862,     0.61962,     0.62062,     0.62162,     0.62262,     0.62362,\n",
       "           0.62462,     0.62563,     0.62663,     0.62763,     0.62863,     0.62963,     0.63063,     0.63163,     0.63263,     0.63363,     0.63463,     0.63564,     0.63664,     0.63764,     0.63864,     0.63964,     0.64064,     0.64164,     0.64264,     0.64364,     0.64464,     0.64565,     0.64665,     0.64765,\n",
       "           0.64865,     0.64965,     0.65065,     0.65165,     0.65265,     0.65365,     0.65465,     0.65566,     0.65666,     0.65766,     0.65866,     0.65966,     0.66066,     0.66166,     0.66266,     0.66366,     0.66466,     0.66567,     0.66667,     0.66767,     0.66867,     0.66967,     0.67067,     0.67167,\n",
       "           0.67267,     0.67367,     0.67467,     0.67568,     0.67668,     0.67768,     0.67868,     0.67968,     0.68068,     0.68168,     0.68268,     0.68368,     0.68468,     0.68569,     0.68669,     0.68769,     0.68869,     0.68969,     0.69069,     0.69169,     0.69269,     0.69369,     0.69469,      0.6957,\n",
       "            0.6967,      0.6977,      0.6987,      0.6997,      0.7007,      0.7017,      0.7027,      0.7037,      0.7047,     0.70571,     0.70671,     0.70771,     0.70871,     0.70971,     0.71071,     0.71171,     0.71271,     0.71371,     0.71471,     0.71572,     0.71672,     0.71772,     0.71872,     0.71972,\n",
       "           0.72072,     0.72172,     0.72272,     0.72372,     0.72472,     0.72573,     0.72673,     0.72773,     0.72873,     0.72973,     0.73073,     0.73173,     0.73273,     0.73373,     0.73473,     0.73574,     0.73674,     0.73774,     0.73874,     0.73974,     0.74074,     0.74174,     0.74274,     0.74374,\n",
       "           0.74474,     0.74575,     0.74675,     0.74775,     0.74875,     0.74975,     0.75075,     0.75175,     0.75275,     0.75375,     0.75475,     0.75576,     0.75676,     0.75776,     0.75876,     0.75976,     0.76076,     0.76176,     0.76276,     0.76376,     0.76476,     0.76577,     0.76677,     0.76777,\n",
       "           0.76877,     0.76977,     0.77077,     0.77177,     0.77277,     0.77377,     0.77477,     0.77578,     0.77678,     0.77778,     0.77878,     0.77978,     0.78078,     0.78178,     0.78278,     0.78378,     0.78478,     0.78579,     0.78679,     0.78779,     0.78879,     0.78979,     0.79079,     0.79179,\n",
       "           0.79279,     0.79379,     0.79479,      0.7958,      0.7968,      0.7978,      0.7988,      0.7998,      0.8008,      0.8018,      0.8028,      0.8038,      0.8048,     0.80581,     0.80681,     0.80781,     0.80881,     0.80981,     0.81081,     0.81181,     0.81281,     0.81381,     0.81481,     0.81582,\n",
       "           0.81682,     0.81782,     0.81882,     0.81982,     0.82082,     0.82182,     0.82282,     0.82382,     0.82482,     0.82583,     0.82683,     0.82783,     0.82883,     0.82983,     0.83083,     0.83183,     0.83283,     0.83383,     0.83483,     0.83584,     0.83684,     0.83784,     0.83884,     0.83984,\n",
       "           0.84084,     0.84184,     0.84284,     0.84384,     0.84484,     0.84585,     0.84685,     0.84785,     0.84885,     0.84985,     0.85085,     0.85185,     0.85285,     0.85385,     0.85485,     0.85586,     0.85686,     0.85786,     0.85886,     0.85986,     0.86086,     0.86186,     0.86286,     0.86386,\n",
       "           0.86486,     0.86587,     0.86687,     0.86787,     0.86887,     0.86987,     0.87087,     0.87187,     0.87287,     0.87387,     0.87487,     0.87588,     0.87688,     0.87788,     0.87888,     0.87988,     0.88088,     0.88188,     0.88288,     0.88388,     0.88488,     0.88589,     0.88689,     0.88789,\n",
       "           0.88889,     0.88989,     0.89089,     0.89189,     0.89289,     0.89389,     0.89489,      0.8959,      0.8969,      0.8979,      0.8989,      0.8999,      0.9009,      0.9019,      0.9029,      0.9039,      0.9049,     0.90591,     0.90691,     0.90791,     0.90891,     0.90991,     0.91091,     0.91191,\n",
       "           0.91291,     0.91391,     0.91491,     0.91592,     0.91692,     0.91792,     0.91892,     0.91992,     0.92092,     0.92192,     0.92292,     0.92392,     0.92492,     0.92593,     0.92693,     0.92793,     0.92893,     0.92993,     0.93093,     0.93193,     0.93293,     0.93393,     0.93493,     0.93594,\n",
       "           0.93694,     0.93794,     0.93894,     0.93994,     0.94094,     0.94194,     0.94294,     0.94394,     0.94494,     0.94595,     0.94695,     0.94795,     0.94895,     0.94995,     0.95095,     0.95195,     0.95295,     0.95395,     0.95495,     0.95596,     0.95696,     0.95796,     0.95896,     0.95996,\n",
       "           0.96096,     0.96196,     0.96296,     0.96396,     0.96496,     0.96597,     0.96697,     0.96797,     0.96897,     0.96997,     0.97097,     0.97197,     0.97297,     0.97397,     0.97497,     0.97598,     0.97698,     0.97798,     0.97898,     0.97998,     0.98098,     0.98198,     0.98298,     0.98398,\n",
       "           0.98498,     0.98599,     0.98699,     0.98799,     0.98899,     0.98999,     0.99099,     0.99199,     0.99299,     0.99399,     0.99499,       0.996,       0.997,       0.998,       0.999,           1]), array([[          1,           1,           1, ...,    0.002002,    0.001001,           0],\n",
       "       [          1,           1,           1, ...,           1,           1,           0],\n",
       "       [          1,           1,           1, ...,       0.625,       0.625,           0],\n",
       "       ...,\n",
       "       [          1,           1,           1, ...,         0.6,         0.6,           0],\n",
       "       [          1,           1,           1, ...,        0.75,        0.75,           0],\n",
       "       [          1,           1,           1, ...,         0.6,         0.6,           0]]), 'Recall', 'Precision'], [array([          0,    0.001001,    0.002002,    0.003003,    0.004004,    0.005005,    0.006006,    0.007007,    0.008008,    0.009009,     0.01001,    0.011011,    0.012012,    0.013013,    0.014014,    0.015015,    0.016016,    0.017017,    0.018018,    0.019019,     0.02002,    0.021021,    0.022022,    0.023023,\n",
       "          0.024024,    0.025025,    0.026026,    0.027027,    0.028028,    0.029029,     0.03003,    0.031031,    0.032032,    0.033033,    0.034034,    0.035035,    0.036036,    0.037037,    0.038038,    0.039039,     0.04004,    0.041041,    0.042042,    0.043043,    0.044044,    0.045045,    0.046046,    0.047047,\n",
       "          0.048048,    0.049049,     0.05005,    0.051051,    0.052052,    0.053053,    0.054054,    0.055055,    0.056056,    0.057057,    0.058058,    0.059059,     0.06006,    0.061061,    0.062062,    0.063063,    0.064064,    0.065065,    0.066066,    0.067067,    0.068068,    0.069069,     0.07007,    0.071071,\n",
       "          0.072072,    0.073073,    0.074074,    0.075075,    0.076076,    0.077077,    0.078078,    0.079079,     0.08008,    0.081081,    0.082082,    0.083083,    0.084084,    0.085085,    0.086086,    0.087087,    0.088088,    0.089089,     0.09009,    0.091091,    0.092092,    0.093093,    0.094094,    0.095095,\n",
       "          0.096096,    0.097097,    0.098098,    0.099099,      0.1001,      0.1011,      0.1021,      0.1031,      0.1041,     0.10511,     0.10611,     0.10711,     0.10811,     0.10911,     0.11011,     0.11111,     0.11211,     0.11311,     0.11411,     0.11512,     0.11612,     0.11712,     0.11812,     0.11912,\n",
       "           0.12012,     0.12112,     0.12212,     0.12312,     0.12412,     0.12513,     0.12613,     0.12713,     0.12813,     0.12913,     0.13013,     0.13113,     0.13213,     0.13313,     0.13413,     0.13514,     0.13614,     0.13714,     0.13814,     0.13914,     0.14014,     0.14114,     0.14214,     0.14314,\n",
       "           0.14414,     0.14515,     0.14615,     0.14715,     0.14815,     0.14915,     0.15015,     0.15115,     0.15215,     0.15315,     0.15415,     0.15516,     0.15616,     0.15716,     0.15816,     0.15916,     0.16016,     0.16116,     0.16216,     0.16316,     0.16416,     0.16517,     0.16617,     0.16717,\n",
       "           0.16817,     0.16917,     0.17017,     0.17117,     0.17217,     0.17317,     0.17417,     0.17518,     0.17618,     0.17718,     0.17818,     0.17918,     0.18018,     0.18118,     0.18218,     0.18318,     0.18418,     0.18519,     0.18619,     0.18719,     0.18819,     0.18919,     0.19019,     0.19119,\n",
       "           0.19219,     0.19319,     0.19419,      0.1952,      0.1962,      0.1972,      0.1982,      0.1992,      0.2002,      0.2012,      0.2022,      0.2032,      0.2042,     0.20521,     0.20621,     0.20721,     0.20821,     0.20921,     0.21021,     0.21121,     0.21221,     0.21321,     0.21421,     0.21522,\n",
       "           0.21622,     0.21722,     0.21822,     0.21922,     0.22022,     0.22122,     0.22222,     0.22322,     0.22422,     0.22523,     0.22623,     0.22723,     0.22823,     0.22923,     0.23023,     0.23123,     0.23223,     0.23323,     0.23423,     0.23524,     0.23624,     0.23724,     0.23824,     0.23924,\n",
       "           0.24024,     0.24124,     0.24224,     0.24324,     0.24424,     0.24525,     0.24625,     0.24725,     0.24825,     0.24925,     0.25025,     0.25125,     0.25225,     0.25325,     0.25425,     0.25526,     0.25626,     0.25726,     0.25826,     0.25926,     0.26026,     0.26126,     0.26226,     0.26326,\n",
       "           0.26426,     0.26527,     0.26627,     0.26727,     0.26827,     0.26927,     0.27027,     0.27127,     0.27227,     0.27327,     0.27427,     0.27528,     0.27628,     0.27728,     0.27828,     0.27928,     0.28028,     0.28128,     0.28228,     0.28328,     0.28428,     0.28529,     0.28629,     0.28729,\n",
       "           0.28829,     0.28929,     0.29029,     0.29129,     0.29229,     0.29329,     0.29429,      0.2953,      0.2963,      0.2973,      0.2983,      0.2993,      0.3003,      0.3013,      0.3023,      0.3033,      0.3043,     0.30531,     0.30631,     0.30731,     0.30831,     0.30931,     0.31031,     0.31131,\n",
       "           0.31231,     0.31331,     0.31431,     0.31532,     0.31632,     0.31732,     0.31832,     0.31932,     0.32032,     0.32132,     0.32232,     0.32332,     0.32432,     0.32533,     0.32633,     0.32733,     0.32833,     0.32933,     0.33033,     0.33133,     0.33233,     0.33333,     0.33433,     0.33534,\n",
       "           0.33634,     0.33734,     0.33834,     0.33934,     0.34034,     0.34134,     0.34234,     0.34334,     0.34434,     0.34535,     0.34635,     0.34735,     0.34835,     0.34935,     0.35035,     0.35135,     0.35235,     0.35335,     0.35435,     0.35536,     0.35636,     0.35736,     0.35836,     0.35936,\n",
       "           0.36036,     0.36136,     0.36236,     0.36336,     0.36436,     0.36537,     0.36637,     0.36737,     0.36837,     0.36937,     0.37037,     0.37137,     0.37237,     0.37337,     0.37437,     0.37538,     0.37638,     0.37738,     0.37838,     0.37938,     0.38038,     0.38138,     0.38238,     0.38338,\n",
       "           0.38438,     0.38539,     0.38639,     0.38739,     0.38839,     0.38939,     0.39039,     0.39139,     0.39239,     0.39339,     0.39439,      0.3954,      0.3964,      0.3974,      0.3984,      0.3994,      0.4004,      0.4014,      0.4024,      0.4034,      0.4044,     0.40541,     0.40641,     0.40741,\n",
       "           0.40841,     0.40941,     0.41041,     0.41141,     0.41241,     0.41341,     0.41441,     0.41542,     0.41642,     0.41742,     0.41842,     0.41942,     0.42042,     0.42142,     0.42242,     0.42342,     0.42442,     0.42543,     0.42643,     0.42743,     0.42843,     0.42943,     0.43043,     0.43143,\n",
       "           0.43243,     0.43343,     0.43443,     0.43544,     0.43644,     0.43744,     0.43844,     0.43944,     0.44044,     0.44144,     0.44244,     0.44344,     0.44444,     0.44545,     0.44645,     0.44745,     0.44845,     0.44945,     0.45045,     0.45145,     0.45245,     0.45345,     0.45445,     0.45546,\n",
       "           0.45646,     0.45746,     0.45846,     0.45946,     0.46046,     0.46146,     0.46246,     0.46346,     0.46446,     0.46547,     0.46647,     0.46747,     0.46847,     0.46947,     0.47047,     0.47147,     0.47247,     0.47347,     0.47447,     0.47548,     0.47648,     0.47748,     0.47848,     0.47948,\n",
       "           0.48048,     0.48148,     0.48248,     0.48348,     0.48448,     0.48549,     0.48649,     0.48749,     0.48849,     0.48949,     0.49049,     0.49149,     0.49249,     0.49349,     0.49449,      0.4955,      0.4965,      0.4975,      0.4985,      0.4995,      0.5005,      0.5015,      0.5025,      0.5035,\n",
       "            0.5045,     0.50551,     0.50651,     0.50751,     0.50851,     0.50951,     0.51051,     0.51151,     0.51251,     0.51351,     0.51451,     0.51552,     0.51652,     0.51752,     0.51852,     0.51952,     0.52052,     0.52152,     0.52252,     0.52352,     0.52452,     0.52553,     0.52653,     0.52753,\n",
       "           0.52853,     0.52953,     0.53053,     0.53153,     0.53253,     0.53353,     0.53453,     0.53554,     0.53654,     0.53754,     0.53854,     0.53954,     0.54054,     0.54154,     0.54254,     0.54354,     0.54454,     0.54555,     0.54655,     0.54755,     0.54855,     0.54955,     0.55055,     0.55155,\n",
       "           0.55255,     0.55355,     0.55455,     0.55556,     0.55656,     0.55756,     0.55856,     0.55956,     0.56056,     0.56156,     0.56256,     0.56356,     0.56456,     0.56557,     0.56657,     0.56757,     0.56857,     0.56957,     0.57057,     0.57157,     0.57257,     0.57357,     0.57457,     0.57558,\n",
       "           0.57658,     0.57758,     0.57858,     0.57958,     0.58058,     0.58158,     0.58258,     0.58358,     0.58458,     0.58559,     0.58659,     0.58759,     0.58859,     0.58959,     0.59059,     0.59159,     0.59259,     0.59359,     0.59459,      0.5956,      0.5966,      0.5976,      0.5986,      0.5996,\n",
       "            0.6006,      0.6016,      0.6026,      0.6036,      0.6046,     0.60561,     0.60661,     0.60761,     0.60861,     0.60961,     0.61061,     0.61161,     0.61261,     0.61361,     0.61461,     0.61562,     0.61662,     0.61762,     0.61862,     0.61962,     0.62062,     0.62162,     0.62262,     0.62362,\n",
       "           0.62462,     0.62563,     0.62663,     0.62763,     0.62863,     0.62963,     0.63063,     0.63163,     0.63263,     0.63363,     0.63463,     0.63564,     0.63664,     0.63764,     0.63864,     0.63964,     0.64064,     0.64164,     0.64264,     0.64364,     0.64464,     0.64565,     0.64665,     0.64765,\n",
       "           0.64865,     0.64965,     0.65065,     0.65165,     0.65265,     0.65365,     0.65465,     0.65566,     0.65666,     0.65766,     0.65866,     0.65966,     0.66066,     0.66166,     0.66266,     0.66366,     0.66466,     0.66567,     0.66667,     0.66767,     0.66867,     0.66967,     0.67067,     0.67167,\n",
       "           0.67267,     0.67367,     0.67467,     0.67568,     0.67668,     0.67768,     0.67868,     0.67968,     0.68068,     0.68168,     0.68268,     0.68368,     0.68468,     0.68569,     0.68669,     0.68769,     0.68869,     0.68969,     0.69069,     0.69169,     0.69269,     0.69369,     0.69469,      0.6957,\n",
       "            0.6967,      0.6977,      0.6987,      0.6997,      0.7007,      0.7017,      0.7027,      0.7037,      0.7047,     0.70571,     0.70671,     0.70771,     0.70871,     0.70971,     0.71071,     0.71171,     0.71271,     0.71371,     0.71471,     0.71572,     0.71672,     0.71772,     0.71872,     0.71972,\n",
       "           0.72072,     0.72172,     0.72272,     0.72372,     0.72472,     0.72573,     0.72673,     0.72773,     0.72873,     0.72973,     0.73073,     0.73173,     0.73273,     0.73373,     0.73473,     0.73574,     0.73674,     0.73774,     0.73874,     0.73974,     0.74074,     0.74174,     0.74274,     0.74374,\n",
       "           0.74474,     0.74575,     0.74675,     0.74775,     0.74875,     0.74975,     0.75075,     0.75175,     0.75275,     0.75375,     0.75475,     0.75576,     0.75676,     0.75776,     0.75876,     0.75976,     0.76076,     0.76176,     0.76276,     0.76376,     0.76476,     0.76577,     0.76677,     0.76777,\n",
       "           0.76877,     0.76977,     0.77077,     0.77177,     0.77277,     0.77377,     0.77477,     0.77578,     0.77678,     0.77778,     0.77878,     0.77978,     0.78078,     0.78178,     0.78278,     0.78378,     0.78478,     0.78579,     0.78679,     0.78779,     0.78879,     0.78979,     0.79079,     0.79179,\n",
       "           0.79279,     0.79379,     0.79479,      0.7958,      0.7968,      0.7978,      0.7988,      0.7998,      0.8008,      0.8018,      0.8028,      0.8038,      0.8048,     0.80581,     0.80681,     0.80781,     0.80881,     0.80981,     0.81081,     0.81181,     0.81281,     0.81381,     0.81481,     0.81582,\n",
       "           0.81682,     0.81782,     0.81882,     0.81982,     0.82082,     0.82182,     0.82282,     0.82382,     0.82482,     0.82583,     0.82683,     0.82783,     0.82883,     0.82983,     0.83083,     0.83183,     0.83283,     0.83383,     0.83483,     0.83584,     0.83684,     0.83784,     0.83884,     0.83984,\n",
       "           0.84084,     0.84184,     0.84284,     0.84384,     0.84484,     0.84585,     0.84685,     0.84785,     0.84885,     0.84985,     0.85085,     0.85185,     0.85285,     0.85385,     0.85485,     0.85586,     0.85686,     0.85786,     0.85886,     0.85986,     0.86086,     0.86186,     0.86286,     0.86386,\n",
       "           0.86486,     0.86587,     0.86687,     0.86787,     0.86887,     0.86987,     0.87087,     0.87187,     0.87287,     0.87387,     0.87487,     0.87588,     0.87688,     0.87788,     0.87888,     0.87988,     0.88088,     0.88188,     0.88288,     0.88388,     0.88488,     0.88589,     0.88689,     0.88789,\n",
       "           0.88889,     0.88989,     0.89089,     0.89189,     0.89289,     0.89389,     0.89489,      0.8959,      0.8969,      0.8979,      0.8989,      0.8999,      0.9009,      0.9019,      0.9029,      0.9039,      0.9049,     0.90591,     0.90691,     0.90791,     0.90891,     0.90991,     0.91091,     0.91191,\n",
       "           0.91291,     0.91391,     0.91491,     0.91592,     0.91692,     0.91792,     0.91892,     0.91992,     0.92092,     0.92192,     0.92292,     0.92392,     0.92492,     0.92593,     0.92693,     0.92793,     0.92893,     0.92993,     0.93093,     0.93193,     0.93293,     0.93393,     0.93493,     0.93594,\n",
       "           0.93694,     0.93794,     0.93894,     0.93994,     0.94094,     0.94194,     0.94294,     0.94394,     0.94494,     0.94595,     0.94695,     0.94795,     0.94895,     0.94995,     0.95095,     0.95195,     0.95295,     0.95395,     0.95495,     0.95596,     0.95696,     0.95796,     0.95896,     0.95996,\n",
       "           0.96096,     0.96196,     0.96296,     0.96396,     0.96496,     0.96597,     0.96697,     0.96797,     0.96897,     0.96997,     0.97097,     0.97197,     0.97297,     0.97397,     0.97497,     0.97598,     0.97698,     0.97798,     0.97898,     0.97998,     0.98098,     0.98198,     0.98298,     0.98398,\n",
       "           0.98498,     0.98599,     0.98699,     0.98799,     0.98899,     0.98999,     0.99099,     0.99199,     0.99299,     0.99399,     0.99499,       0.996,       0.997,       0.998,       0.999,           1]), array([[    0.27778,     0.27778,      0.3879, ...,           0,           0,           0],\n",
       "       [   0.071429,    0.071429,    0.097008, ...,           0,           0,           0],\n",
       "       [    0.32258,     0.32258,     0.44669, ...,           0,           0,           0],\n",
       "       ...,\n",
       "       [    0.44444,     0.44444,     0.57202, ...,           0,           0,           0],\n",
       "       [    0.22222,     0.22222,     0.27517, ...,           0,           0,           0],\n",
       "       [    0.19355,     0.19355,     0.22085, ...,           0,           0,           0]]), 'Confidence', 'F1'], [array([          0,    0.001001,    0.002002,    0.003003,    0.004004,    0.005005,    0.006006,    0.007007,    0.008008,    0.009009,     0.01001,    0.011011,    0.012012,    0.013013,    0.014014,    0.015015,    0.016016,    0.017017,    0.018018,    0.019019,     0.02002,    0.021021,    0.022022,    0.023023,\n",
       "          0.024024,    0.025025,    0.026026,    0.027027,    0.028028,    0.029029,     0.03003,    0.031031,    0.032032,    0.033033,    0.034034,    0.035035,    0.036036,    0.037037,    0.038038,    0.039039,     0.04004,    0.041041,    0.042042,    0.043043,    0.044044,    0.045045,    0.046046,    0.047047,\n",
       "          0.048048,    0.049049,     0.05005,    0.051051,    0.052052,    0.053053,    0.054054,    0.055055,    0.056056,    0.057057,    0.058058,    0.059059,     0.06006,    0.061061,    0.062062,    0.063063,    0.064064,    0.065065,    0.066066,    0.067067,    0.068068,    0.069069,     0.07007,    0.071071,\n",
       "          0.072072,    0.073073,    0.074074,    0.075075,    0.076076,    0.077077,    0.078078,    0.079079,     0.08008,    0.081081,    0.082082,    0.083083,    0.084084,    0.085085,    0.086086,    0.087087,    0.088088,    0.089089,     0.09009,    0.091091,    0.092092,    0.093093,    0.094094,    0.095095,\n",
       "          0.096096,    0.097097,    0.098098,    0.099099,      0.1001,      0.1011,      0.1021,      0.1031,      0.1041,     0.10511,     0.10611,     0.10711,     0.10811,     0.10911,     0.11011,     0.11111,     0.11211,     0.11311,     0.11411,     0.11512,     0.11612,     0.11712,     0.11812,     0.11912,\n",
       "           0.12012,     0.12112,     0.12212,     0.12312,     0.12412,     0.12513,     0.12613,     0.12713,     0.12813,     0.12913,     0.13013,     0.13113,     0.13213,     0.13313,     0.13413,     0.13514,     0.13614,     0.13714,     0.13814,     0.13914,     0.14014,     0.14114,     0.14214,     0.14314,\n",
       "           0.14414,     0.14515,     0.14615,     0.14715,     0.14815,     0.14915,     0.15015,     0.15115,     0.15215,     0.15315,     0.15415,     0.15516,     0.15616,     0.15716,     0.15816,     0.15916,     0.16016,     0.16116,     0.16216,     0.16316,     0.16416,     0.16517,     0.16617,     0.16717,\n",
       "           0.16817,     0.16917,     0.17017,     0.17117,     0.17217,     0.17317,     0.17417,     0.17518,     0.17618,     0.17718,     0.17818,     0.17918,     0.18018,     0.18118,     0.18218,     0.18318,     0.18418,     0.18519,     0.18619,     0.18719,     0.18819,     0.18919,     0.19019,     0.19119,\n",
       "           0.19219,     0.19319,     0.19419,      0.1952,      0.1962,      0.1972,      0.1982,      0.1992,      0.2002,      0.2012,      0.2022,      0.2032,      0.2042,     0.20521,     0.20621,     0.20721,     0.20821,     0.20921,     0.21021,     0.21121,     0.21221,     0.21321,     0.21421,     0.21522,\n",
       "           0.21622,     0.21722,     0.21822,     0.21922,     0.22022,     0.22122,     0.22222,     0.22322,     0.22422,     0.22523,     0.22623,     0.22723,     0.22823,     0.22923,     0.23023,     0.23123,     0.23223,     0.23323,     0.23423,     0.23524,     0.23624,     0.23724,     0.23824,     0.23924,\n",
       "           0.24024,     0.24124,     0.24224,     0.24324,     0.24424,     0.24525,     0.24625,     0.24725,     0.24825,     0.24925,     0.25025,     0.25125,     0.25225,     0.25325,     0.25425,     0.25526,     0.25626,     0.25726,     0.25826,     0.25926,     0.26026,     0.26126,     0.26226,     0.26326,\n",
       "           0.26426,     0.26527,     0.26627,     0.26727,     0.26827,     0.26927,     0.27027,     0.27127,     0.27227,     0.27327,     0.27427,     0.27528,     0.27628,     0.27728,     0.27828,     0.27928,     0.28028,     0.28128,     0.28228,     0.28328,     0.28428,     0.28529,     0.28629,     0.28729,\n",
       "           0.28829,     0.28929,     0.29029,     0.29129,     0.29229,     0.29329,     0.29429,      0.2953,      0.2963,      0.2973,      0.2983,      0.2993,      0.3003,      0.3013,      0.3023,      0.3033,      0.3043,     0.30531,     0.30631,     0.30731,     0.30831,     0.30931,     0.31031,     0.31131,\n",
       "           0.31231,     0.31331,     0.31431,     0.31532,     0.31632,     0.31732,     0.31832,     0.31932,     0.32032,     0.32132,     0.32232,     0.32332,     0.32432,     0.32533,     0.32633,     0.32733,     0.32833,     0.32933,     0.33033,     0.33133,     0.33233,     0.33333,     0.33433,     0.33534,\n",
       "           0.33634,     0.33734,     0.33834,     0.33934,     0.34034,     0.34134,     0.34234,     0.34334,     0.34434,     0.34535,     0.34635,     0.34735,     0.34835,     0.34935,     0.35035,     0.35135,     0.35235,     0.35335,     0.35435,     0.35536,     0.35636,     0.35736,     0.35836,     0.35936,\n",
       "           0.36036,     0.36136,     0.36236,     0.36336,     0.36436,     0.36537,     0.36637,     0.36737,     0.36837,     0.36937,     0.37037,     0.37137,     0.37237,     0.37337,     0.37437,     0.37538,     0.37638,     0.37738,     0.37838,     0.37938,     0.38038,     0.38138,     0.38238,     0.38338,\n",
       "           0.38438,     0.38539,     0.38639,     0.38739,     0.38839,     0.38939,     0.39039,     0.39139,     0.39239,     0.39339,     0.39439,      0.3954,      0.3964,      0.3974,      0.3984,      0.3994,      0.4004,      0.4014,      0.4024,      0.4034,      0.4044,     0.40541,     0.40641,     0.40741,\n",
       "           0.40841,     0.40941,     0.41041,     0.41141,     0.41241,     0.41341,     0.41441,     0.41542,     0.41642,     0.41742,     0.41842,     0.41942,     0.42042,     0.42142,     0.42242,     0.42342,     0.42442,     0.42543,     0.42643,     0.42743,     0.42843,     0.42943,     0.43043,     0.43143,\n",
       "           0.43243,     0.43343,     0.43443,     0.43544,     0.43644,     0.43744,     0.43844,     0.43944,     0.44044,     0.44144,     0.44244,     0.44344,     0.44444,     0.44545,     0.44645,     0.44745,     0.44845,     0.44945,     0.45045,     0.45145,     0.45245,     0.45345,     0.45445,     0.45546,\n",
       "           0.45646,     0.45746,     0.45846,     0.45946,     0.46046,     0.46146,     0.46246,     0.46346,     0.46446,     0.46547,     0.46647,     0.46747,     0.46847,     0.46947,     0.47047,     0.47147,     0.47247,     0.47347,     0.47447,     0.47548,     0.47648,     0.47748,     0.47848,     0.47948,\n",
       "           0.48048,     0.48148,     0.48248,     0.48348,     0.48448,     0.48549,     0.48649,     0.48749,     0.48849,     0.48949,     0.49049,     0.49149,     0.49249,     0.49349,     0.49449,      0.4955,      0.4965,      0.4975,      0.4985,      0.4995,      0.5005,      0.5015,      0.5025,      0.5035,\n",
       "            0.5045,     0.50551,     0.50651,     0.50751,     0.50851,     0.50951,     0.51051,     0.51151,     0.51251,     0.51351,     0.51451,     0.51552,     0.51652,     0.51752,     0.51852,     0.51952,     0.52052,     0.52152,     0.52252,     0.52352,     0.52452,     0.52553,     0.52653,     0.52753,\n",
       "           0.52853,     0.52953,     0.53053,     0.53153,     0.53253,     0.53353,     0.53453,     0.53554,     0.53654,     0.53754,     0.53854,     0.53954,     0.54054,     0.54154,     0.54254,     0.54354,     0.54454,     0.54555,     0.54655,     0.54755,     0.54855,     0.54955,     0.55055,     0.55155,\n",
       "           0.55255,     0.55355,     0.55455,     0.55556,     0.55656,     0.55756,     0.55856,     0.55956,     0.56056,     0.56156,     0.56256,     0.56356,     0.56456,     0.56557,     0.56657,     0.56757,     0.56857,     0.56957,     0.57057,     0.57157,     0.57257,     0.57357,     0.57457,     0.57558,\n",
       "           0.57658,     0.57758,     0.57858,     0.57958,     0.58058,     0.58158,     0.58258,     0.58358,     0.58458,     0.58559,     0.58659,     0.58759,     0.58859,     0.58959,     0.59059,     0.59159,     0.59259,     0.59359,     0.59459,      0.5956,      0.5966,      0.5976,      0.5986,      0.5996,\n",
       "            0.6006,      0.6016,      0.6026,      0.6036,      0.6046,     0.60561,     0.60661,     0.60761,     0.60861,     0.60961,     0.61061,     0.61161,     0.61261,     0.61361,     0.61461,     0.61562,     0.61662,     0.61762,     0.61862,     0.61962,     0.62062,     0.62162,     0.62262,     0.62362,\n",
       "           0.62462,     0.62563,     0.62663,     0.62763,     0.62863,     0.62963,     0.63063,     0.63163,     0.63263,     0.63363,     0.63463,     0.63564,     0.63664,     0.63764,     0.63864,     0.63964,     0.64064,     0.64164,     0.64264,     0.64364,     0.64464,     0.64565,     0.64665,     0.64765,\n",
       "           0.64865,     0.64965,     0.65065,     0.65165,     0.65265,     0.65365,     0.65465,     0.65566,     0.65666,     0.65766,     0.65866,     0.65966,     0.66066,     0.66166,     0.66266,     0.66366,     0.66466,     0.66567,     0.66667,     0.66767,     0.66867,     0.66967,     0.67067,     0.67167,\n",
       "           0.67267,     0.67367,     0.67467,     0.67568,     0.67668,     0.67768,     0.67868,     0.67968,     0.68068,     0.68168,     0.68268,     0.68368,     0.68468,     0.68569,     0.68669,     0.68769,     0.68869,     0.68969,     0.69069,     0.69169,     0.69269,     0.69369,     0.69469,      0.6957,\n",
       "            0.6967,      0.6977,      0.6987,      0.6997,      0.7007,      0.7017,      0.7027,      0.7037,      0.7047,     0.70571,     0.70671,     0.70771,     0.70871,     0.70971,     0.71071,     0.71171,     0.71271,     0.71371,     0.71471,     0.71572,     0.71672,     0.71772,     0.71872,     0.71972,\n",
       "           0.72072,     0.72172,     0.72272,     0.72372,     0.72472,     0.72573,     0.72673,     0.72773,     0.72873,     0.72973,     0.73073,     0.73173,     0.73273,     0.73373,     0.73473,     0.73574,     0.73674,     0.73774,     0.73874,     0.73974,     0.74074,     0.74174,     0.74274,     0.74374,\n",
       "           0.74474,     0.74575,     0.74675,     0.74775,     0.74875,     0.74975,     0.75075,     0.75175,     0.75275,     0.75375,     0.75475,     0.75576,     0.75676,     0.75776,     0.75876,     0.75976,     0.76076,     0.76176,     0.76276,     0.76376,     0.76476,     0.76577,     0.76677,     0.76777,\n",
       "           0.76877,     0.76977,     0.77077,     0.77177,     0.77277,     0.77377,     0.77477,     0.77578,     0.77678,     0.77778,     0.77878,     0.77978,     0.78078,     0.78178,     0.78278,     0.78378,     0.78478,     0.78579,     0.78679,     0.78779,     0.78879,     0.78979,     0.79079,     0.79179,\n",
       "           0.79279,     0.79379,     0.79479,      0.7958,      0.7968,      0.7978,      0.7988,      0.7998,      0.8008,      0.8018,      0.8028,      0.8038,      0.8048,     0.80581,     0.80681,     0.80781,     0.80881,     0.80981,     0.81081,     0.81181,     0.81281,     0.81381,     0.81481,     0.81582,\n",
       "           0.81682,     0.81782,     0.81882,     0.81982,     0.82082,     0.82182,     0.82282,     0.82382,     0.82482,     0.82583,     0.82683,     0.82783,     0.82883,     0.82983,     0.83083,     0.83183,     0.83283,     0.83383,     0.83483,     0.83584,     0.83684,     0.83784,     0.83884,     0.83984,\n",
       "           0.84084,     0.84184,     0.84284,     0.84384,     0.84484,     0.84585,     0.84685,     0.84785,     0.84885,     0.84985,     0.85085,     0.85185,     0.85285,     0.85385,     0.85485,     0.85586,     0.85686,     0.85786,     0.85886,     0.85986,     0.86086,     0.86186,     0.86286,     0.86386,\n",
       "           0.86486,     0.86587,     0.86687,     0.86787,     0.86887,     0.86987,     0.87087,     0.87187,     0.87287,     0.87387,     0.87487,     0.87588,     0.87688,     0.87788,     0.87888,     0.87988,     0.88088,     0.88188,     0.88288,     0.88388,     0.88488,     0.88589,     0.88689,     0.88789,\n",
       "           0.88889,     0.88989,     0.89089,     0.89189,     0.89289,     0.89389,     0.89489,      0.8959,      0.8969,      0.8979,      0.8989,      0.8999,      0.9009,      0.9019,      0.9029,      0.9039,      0.9049,     0.90591,     0.90691,     0.90791,     0.90891,     0.90991,     0.91091,     0.91191,\n",
       "           0.91291,     0.91391,     0.91491,     0.91592,     0.91692,     0.91792,     0.91892,     0.91992,     0.92092,     0.92192,     0.92292,     0.92392,     0.92492,     0.92593,     0.92693,     0.92793,     0.92893,     0.92993,     0.93093,     0.93193,     0.93293,     0.93393,     0.93493,     0.93594,\n",
       "           0.93694,     0.93794,     0.93894,     0.93994,     0.94094,     0.94194,     0.94294,     0.94394,     0.94494,     0.94595,     0.94695,     0.94795,     0.94895,     0.94995,     0.95095,     0.95195,     0.95295,     0.95395,     0.95495,     0.95596,     0.95696,     0.95796,     0.95896,     0.95996,\n",
       "           0.96096,     0.96196,     0.96296,     0.96396,     0.96496,     0.96597,     0.96697,     0.96797,     0.96897,     0.96997,     0.97097,     0.97197,     0.97297,     0.97397,     0.97497,     0.97598,     0.97698,     0.97798,     0.97898,     0.97998,     0.98098,     0.98198,     0.98298,     0.98398,\n",
       "           0.98498,     0.98599,     0.98699,     0.98799,     0.98899,     0.98999,     0.99099,     0.99199,     0.99299,     0.99399,     0.99499,       0.996,       0.997,       0.998,       0.999,           1]), array([[    0.16667,     0.16667,     0.25279, ...,           1,           1,           1],\n",
       "       [   0.037037,    0.037037,    0.050976, ...,           1,           1,           1],\n",
       "       [    0.19231,     0.19231,     0.28757, ...,           1,           1,           1],\n",
       "       ...,\n",
       "       [    0.28571,     0.28571,     0.40058, ...,           1,           1,           1],\n",
       "       [      0.125,       0.125,     0.15953, ...,           1,           1,           1],\n",
       "       [    0.10714,     0.10714,     0.12413, ...,           1,           1,           1]]), 'Confidence', 'Precision'], [array([          0,    0.001001,    0.002002,    0.003003,    0.004004,    0.005005,    0.006006,    0.007007,    0.008008,    0.009009,     0.01001,    0.011011,    0.012012,    0.013013,    0.014014,    0.015015,    0.016016,    0.017017,    0.018018,    0.019019,     0.02002,    0.021021,    0.022022,    0.023023,\n",
       "          0.024024,    0.025025,    0.026026,    0.027027,    0.028028,    0.029029,     0.03003,    0.031031,    0.032032,    0.033033,    0.034034,    0.035035,    0.036036,    0.037037,    0.038038,    0.039039,     0.04004,    0.041041,    0.042042,    0.043043,    0.044044,    0.045045,    0.046046,    0.047047,\n",
       "          0.048048,    0.049049,     0.05005,    0.051051,    0.052052,    0.053053,    0.054054,    0.055055,    0.056056,    0.057057,    0.058058,    0.059059,     0.06006,    0.061061,    0.062062,    0.063063,    0.064064,    0.065065,    0.066066,    0.067067,    0.068068,    0.069069,     0.07007,    0.071071,\n",
       "          0.072072,    0.073073,    0.074074,    0.075075,    0.076076,    0.077077,    0.078078,    0.079079,     0.08008,    0.081081,    0.082082,    0.083083,    0.084084,    0.085085,    0.086086,    0.087087,    0.088088,    0.089089,     0.09009,    0.091091,    0.092092,    0.093093,    0.094094,    0.095095,\n",
       "          0.096096,    0.097097,    0.098098,    0.099099,      0.1001,      0.1011,      0.1021,      0.1031,      0.1041,     0.10511,     0.10611,     0.10711,     0.10811,     0.10911,     0.11011,     0.11111,     0.11211,     0.11311,     0.11411,     0.11512,     0.11612,     0.11712,     0.11812,     0.11912,\n",
       "           0.12012,     0.12112,     0.12212,     0.12312,     0.12412,     0.12513,     0.12613,     0.12713,     0.12813,     0.12913,     0.13013,     0.13113,     0.13213,     0.13313,     0.13413,     0.13514,     0.13614,     0.13714,     0.13814,     0.13914,     0.14014,     0.14114,     0.14214,     0.14314,\n",
       "           0.14414,     0.14515,     0.14615,     0.14715,     0.14815,     0.14915,     0.15015,     0.15115,     0.15215,     0.15315,     0.15415,     0.15516,     0.15616,     0.15716,     0.15816,     0.15916,     0.16016,     0.16116,     0.16216,     0.16316,     0.16416,     0.16517,     0.16617,     0.16717,\n",
       "           0.16817,     0.16917,     0.17017,     0.17117,     0.17217,     0.17317,     0.17417,     0.17518,     0.17618,     0.17718,     0.17818,     0.17918,     0.18018,     0.18118,     0.18218,     0.18318,     0.18418,     0.18519,     0.18619,     0.18719,     0.18819,     0.18919,     0.19019,     0.19119,\n",
       "           0.19219,     0.19319,     0.19419,      0.1952,      0.1962,      0.1972,      0.1982,      0.1992,      0.2002,      0.2012,      0.2022,      0.2032,      0.2042,     0.20521,     0.20621,     0.20721,     0.20821,     0.20921,     0.21021,     0.21121,     0.21221,     0.21321,     0.21421,     0.21522,\n",
       "           0.21622,     0.21722,     0.21822,     0.21922,     0.22022,     0.22122,     0.22222,     0.22322,     0.22422,     0.22523,     0.22623,     0.22723,     0.22823,     0.22923,     0.23023,     0.23123,     0.23223,     0.23323,     0.23423,     0.23524,     0.23624,     0.23724,     0.23824,     0.23924,\n",
       "           0.24024,     0.24124,     0.24224,     0.24324,     0.24424,     0.24525,     0.24625,     0.24725,     0.24825,     0.24925,     0.25025,     0.25125,     0.25225,     0.25325,     0.25425,     0.25526,     0.25626,     0.25726,     0.25826,     0.25926,     0.26026,     0.26126,     0.26226,     0.26326,\n",
       "           0.26426,     0.26527,     0.26627,     0.26727,     0.26827,     0.26927,     0.27027,     0.27127,     0.27227,     0.27327,     0.27427,     0.27528,     0.27628,     0.27728,     0.27828,     0.27928,     0.28028,     0.28128,     0.28228,     0.28328,     0.28428,     0.28529,     0.28629,     0.28729,\n",
       "           0.28829,     0.28929,     0.29029,     0.29129,     0.29229,     0.29329,     0.29429,      0.2953,      0.2963,      0.2973,      0.2983,      0.2993,      0.3003,      0.3013,      0.3023,      0.3033,      0.3043,     0.30531,     0.30631,     0.30731,     0.30831,     0.30931,     0.31031,     0.31131,\n",
       "           0.31231,     0.31331,     0.31431,     0.31532,     0.31632,     0.31732,     0.31832,     0.31932,     0.32032,     0.32132,     0.32232,     0.32332,     0.32432,     0.32533,     0.32633,     0.32733,     0.32833,     0.32933,     0.33033,     0.33133,     0.33233,     0.33333,     0.33433,     0.33534,\n",
       "           0.33634,     0.33734,     0.33834,     0.33934,     0.34034,     0.34134,     0.34234,     0.34334,     0.34434,     0.34535,     0.34635,     0.34735,     0.34835,     0.34935,     0.35035,     0.35135,     0.35235,     0.35335,     0.35435,     0.35536,     0.35636,     0.35736,     0.35836,     0.35936,\n",
       "           0.36036,     0.36136,     0.36236,     0.36336,     0.36436,     0.36537,     0.36637,     0.36737,     0.36837,     0.36937,     0.37037,     0.37137,     0.37237,     0.37337,     0.37437,     0.37538,     0.37638,     0.37738,     0.37838,     0.37938,     0.38038,     0.38138,     0.38238,     0.38338,\n",
       "           0.38438,     0.38539,     0.38639,     0.38739,     0.38839,     0.38939,     0.39039,     0.39139,     0.39239,     0.39339,     0.39439,      0.3954,      0.3964,      0.3974,      0.3984,      0.3994,      0.4004,      0.4014,      0.4024,      0.4034,      0.4044,     0.40541,     0.40641,     0.40741,\n",
       "           0.40841,     0.40941,     0.41041,     0.41141,     0.41241,     0.41341,     0.41441,     0.41542,     0.41642,     0.41742,     0.41842,     0.41942,     0.42042,     0.42142,     0.42242,     0.42342,     0.42442,     0.42543,     0.42643,     0.42743,     0.42843,     0.42943,     0.43043,     0.43143,\n",
       "           0.43243,     0.43343,     0.43443,     0.43544,     0.43644,     0.43744,     0.43844,     0.43944,     0.44044,     0.44144,     0.44244,     0.44344,     0.44444,     0.44545,     0.44645,     0.44745,     0.44845,     0.44945,     0.45045,     0.45145,     0.45245,     0.45345,     0.45445,     0.45546,\n",
       "           0.45646,     0.45746,     0.45846,     0.45946,     0.46046,     0.46146,     0.46246,     0.46346,     0.46446,     0.46547,     0.46647,     0.46747,     0.46847,     0.46947,     0.47047,     0.47147,     0.47247,     0.47347,     0.47447,     0.47548,     0.47648,     0.47748,     0.47848,     0.47948,\n",
       "           0.48048,     0.48148,     0.48248,     0.48348,     0.48448,     0.48549,     0.48649,     0.48749,     0.48849,     0.48949,     0.49049,     0.49149,     0.49249,     0.49349,     0.49449,      0.4955,      0.4965,      0.4975,      0.4985,      0.4995,      0.5005,      0.5015,      0.5025,      0.5035,\n",
       "            0.5045,     0.50551,     0.50651,     0.50751,     0.50851,     0.50951,     0.51051,     0.51151,     0.51251,     0.51351,     0.51451,     0.51552,     0.51652,     0.51752,     0.51852,     0.51952,     0.52052,     0.52152,     0.52252,     0.52352,     0.52452,     0.52553,     0.52653,     0.52753,\n",
       "           0.52853,     0.52953,     0.53053,     0.53153,     0.53253,     0.53353,     0.53453,     0.53554,     0.53654,     0.53754,     0.53854,     0.53954,     0.54054,     0.54154,     0.54254,     0.54354,     0.54454,     0.54555,     0.54655,     0.54755,     0.54855,     0.54955,     0.55055,     0.55155,\n",
       "           0.55255,     0.55355,     0.55455,     0.55556,     0.55656,     0.55756,     0.55856,     0.55956,     0.56056,     0.56156,     0.56256,     0.56356,     0.56456,     0.56557,     0.56657,     0.56757,     0.56857,     0.56957,     0.57057,     0.57157,     0.57257,     0.57357,     0.57457,     0.57558,\n",
       "           0.57658,     0.57758,     0.57858,     0.57958,     0.58058,     0.58158,     0.58258,     0.58358,     0.58458,     0.58559,     0.58659,     0.58759,     0.58859,     0.58959,     0.59059,     0.59159,     0.59259,     0.59359,     0.59459,      0.5956,      0.5966,      0.5976,      0.5986,      0.5996,\n",
       "            0.6006,      0.6016,      0.6026,      0.6036,      0.6046,     0.60561,     0.60661,     0.60761,     0.60861,     0.60961,     0.61061,     0.61161,     0.61261,     0.61361,     0.61461,     0.61562,     0.61662,     0.61762,     0.61862,     0.61962,     0.62062,     0.62162,     0.62262,     0.62362,\n",
       "           0.62462,     0.62563,     0.62663,     0.62763,     0.62863,     0.62963,     0.63063,     0.63163,     0.63263,     0.63363,     0.63463,     0.63564,     0.63664,     0.63764,     0.63864,     0.63964,     0.64064,     0.64164,     0.64264,     0.64364,     0.64464,     0.64565,     0.64665,     0.64765,\n",
       "           0.64865,     0.64965,     0.65065,     0.65165,     0.65265,     0.65365,     0.65465,     0.65566,     0.65666,     0.65766,     0.65866,     0.65966,     0.66066,     0.66166,     0.66266,     0.66366,     0.66466,     0.66567,     0.66667,     0.66767,     0.66867,     0.66967,     0.67067,     0.67167,\n",
       "           0.67267,     0.67367,     0.67467,     0.67568,     0.67668,     0.67768,     0.67868,     0.67968,     0.68068,     0.68168,     0.68268,     0.68368,     0.68468,     0.68569,     0.68669,     0.68769,     0.68869,     0.68969,     0.69069,     0.69169,     0.69269,     0.69369,     0.69469,      0.6957,\n",
       "            0.6967,      0.6977,      0.6987,      0.6997,      0.7007,      0.7017,      0.7027,      0.7037,      0.7047,     0.70571,     0.70671,     0.70771,     0.70871,     0.70971,     0.71071,     0.71171,     0.71271,     0.71371,     0.71471,     0.71572,     0.71672,     0.71772,     0.71872,     0.71972,\n",
       "           0.72072,     0.72172,     0.72272,     0.72372,     0.72472,     0.72573,     0.72673,     0.72773,     0.72873,     0.72973,     0.73073,     0.73173,     0.73273,     0.73373,     0.73473,     0.73574,     0.73674,     0.73774,     0.73874,     0.73974,     0.74074,     0.74174,     0.74274,     0.74374,\n",
       "           0.74474,     0.74575,     0.74675,     0.74775,     0.74875,     0.74975,     0.75075,     0.75175,     0.75275,     0.75375,     0.75475,     0.75576,     0.75676,     0.75776,     0.75876,     0.75976,     0.76076,     0.76176,     0.76276,     0.76376,     0.76476,     0.76577,     0.76677,     0.76777,\n",
       "           0.76877,     0.76977,     0.77077,     0.77177,     0.77277,     0.77377,     0.77477,     0.77578,     0.77678,     0.77778,     0.77878,     0.77978,     0.78078,     0.78178,     0.78278,     0.78378,     0.78478,     0.78579,     0.78679,     0.78779,     0.78879,     0.78979,     0.79079,     0.79179,\n",
       "           0.79279,     0.79379,     0.79479,      0.7958,      0.7968,      0.7978,      0.7988,      0.7998,      0.8008,      0.8018,      0.8028,      0.8038,      0.8048,     0.80581,     0.80681,     0.80781,     0.80881,     0.80981,     0.81081,     0.81181,     0.81281,     0.81381,     0.81481,     0.81582,\n",
       "           0.81682,     0.81782,     0.81882,     0.81982,     0.82082,     0.82182,     0.82282,     0.82382,     0.82482,     0.82583,     0.82683,     0.82783,     0.82883,     0.82983,     0.83083,     0.83183,     0.83283,     0.83383,     0.83483,     0.83584,     0.83684,     0.83784,     0.83884,     0.83984,\n",
       "           0.84084,     0.84184,     0.84284,     0.84384,     0.84484,     0.84585,     0.84685,     0.84785,     0.84885,     0.84985,     0.85085,     0.85185,     0.85285,     0.85385,     0.85485,     0.85586,     0.85686,     0.85786,     0.85886,     0.85986,     0.86086,     0.86186,     0.86286,     0.86386,\n",
       "           0.86486,     0.86587,     0.86687,     0.86787,     0.86887,     0.86987,     0.87087,     0.87187,     0.87287,     0.87387,     0.87487,     0.87588,     0.87688,     0.87788,     0.87888,     0.87988,     0.88088,     0.88188,     0.88288,     0.88388,     0.88488,     0.88589,     0.88689,     0.88789,\n",
       "           0.88889,     0.88989,     0.89089,     0.89189,     0.89289,     0.89389,     0.89489,      0.8959,      0.8969,      0.8979,      0.8989,      0.8999,      0.9009,      0.9019,      0.9029,      0.9039,      0.9049,     0.90591,     0.90691,     0.90791,     0.90891,     0.90991,     0.91091,     0.91191,\n",
       "           0.91291,     0.91391,     0.91491,     0.91592,     0.91692,     0.91792,     0.91892,     0.91992,     0.92092,     0.92192,     0.92292,     0.92392,     0.92492,     0.92593,     0.92693,     0.92793,     0.92893,     0.92993,     0.93093,     0.93193,     0.93293,     0.93393,     0.93493,     0.93594,\n",
       "           0.93694,     0.93794,     0.93894,     0.93994,     0.94094,     0.94194,     0.94294,     0.94394,     0.94494,     0.94595,     0.94695,     0.94795,     0.94895,     0.94995,     0.95095,     0.95195,     0.95295,     0.95395,     0.95495,     0.95596,     0.95696,     0.95796,     0.95896,     0.95996,\n",
       "           0.96096,     0.96196,     0.96296,     0.96396,     0.96496,     0.96597,     0.96697,     0.96797,     0.96897,     0.96997,     0.97097,     0.97197,     0.97297,     0.97397,     0.97497,     0.97598,     0.97698,     0.97798,     0.97898,     0.97998,     0.98098,     0.98198,     0.98298,     0.98398,\n",
       "           0.98498,     0.98599,     0.98699,     0.98799,     0.98899,     0.98999,     0.99099,     0.99199,     0.99299,     0.99399,     0.99499,       0.996,       0.997,       0.998,       0.999,           1]), array([[    0.83333,     0.83333,     0.83333, ...,           0,           0,           0],\n",
       "       [          1,           1,           1, ...,           0,           0,           0],\n",
       "       [          1,           1,           1, ...,           0,           0,           0],\n",
       "       ...,\n",
       "       [          1,           1,           1, ...,           0,           0,           0],\n",
       "       [          1,           1,           1, ...,           0,           0,           0],\n",
       "       [          1,           1,           1, ...,           0,           0,           0]]), 'Confidence', 'Recall']]\n",
       "fitness: np.float64(0.7637157736435441)\n",
       "keys: ['metrics/precision(B)', 'metrics/recall(B)', 'metrics/mAP50(B)', 'metrics/mAP50-95(B)']\n",
       "maps: array([    0.58528,      0.8955,     0.70985,      0.7518,     0.74171,      0.8955,     0.76678,     0.79269,      0.7518,      0.6271])\n",
       "names: {0: 'Kick Sauber', 1: 'Racing Bulls', 2: 'Alpine', 3: 'Aston Martin', 4: 'Ferarri', 5: 'Haas', 6: 'Mclaren', 7: 'Mercedes', 8: 'Red Bull', 9: 'Williams'}\n",
       "plot: True\n",
       "results_dict: {'metrics/precision(B)': np.float64(0.699728320397473), 'metrics/recall(B)': np.float64(0.792077017548238), 'metrics/mAP50(B)': np.float64(0.8709500000000001), 'metrics/mAP50-95(B)': np.float64(0.7518008596039378), 'fitness': np.float64(0.7637157736435441)}\n",
       "save_dir: WindowsPath('../f1-strategy/yolo-files/runs/train_finetune2')\n",
       "speed: {'preprocess': 2.202486991882324, 'inference': 33.563232421875, 'loss': 0.0, 'postprocess': 0.06841421127319336}\n",
       "task: 'detect'"
      ]
     },
     "execution_count": 14,
     "metadata": {},
     "output_type": "execute_result"
    }
   ],
   "source": [
    "# Evaluar después del fine-tuning\n",
    "model_fine_tuned.val()"
   ]
  },
  {
   "cell_type": "code",
   "execution_count": 8,
   "metadata": {},
   "outputs": [
    {
     "name": "stdout",
     "output_type": "stream",
     "text": [
      "Ultralytics 8.3.69  Python-3.10.16 torch-2.5.1+cu124 CUDA:0 (NVIDIA GeForce RTX 4060 Laptop GPU, 8188MiB)\n",
      "Model summary (fused): 218 layers, 25,845,550 parameters, 0 gradients, 78.7 GFLOPs\n"
     ]
    },
    {
     "name": "stderr",
     "output_type": "stream",
     "text": [
      "\u001b[34m\u001b[1mval: \u001b[0mScanning C:\\Users\\victo\\Desktop\\Documents\\Tercer año\\Segundo Cuatrimestre\\Finales\\f1-strategy\\f1-dataset\\valid\\labels.cache... 20 images, 0 backgrounds, 0 corrupt: 100%|██████████| 20/20 [00:00<?, ?it/s]\n",
      "                 Class     Images  Instances      Box(P          R      mAP50  mAP50-95): 100%|██████████| 4/4 [00:03<00:00,  1.07it/s]\n"
     ]
    },
    {
     "name": "stdout",
     "output_type": "stream",
     "text": [
      "                   all         20         29      0.807      0.837      0.921      0.708\n",
      "           Kick Sauber          4          6          1      0.475       0.73      0.508\n",
      "          Racing Bulls          1          1      0.528          1      0.995      0.697\n",
      "                Alpine          4          5          1      0.626       0.92      0.747\n",
      "               Ferarri          3          4      0.772       0.75      0.912      0.727\n",
      "                  Haas          1          1      0.599          1      0.995      0.895\n",
      "               Mclaren          5          6          1      0.964      0.995      0.778\n",
      "              Mercedes          3          3          1      0.879      0.995      0.688\n",
      "              Williams          2          3       0.56          1       0.83      0.625\n",
      "Speed: 3.8ms preprocess, 29.5ms inference, 0.0ms loss, 0.8ms postprocess per image\n",
      "Results saved to \u001b[1m..\\f1-strategy\\yolo-files\\runs\\train_finetune_adjusted2\u001b[0m\n"
     ]
    },
    {
     "data": {
      "text/plain": [
       "ultralytics.utils.metrics.DetMetrics object with attributes:\n",
       "\n",
       "ap_class_index: array([0, 1, 2, 4, 5, 6, 7, 9])\n",
       "box: ultralytics.utils.metrics.Metric object\n",
       "confusion_matrix: <ultralytics.utils.metrics.ConfusionMatrix object at 0x000002103D657910>\n",
       "curves: ['Precision-Recall(B)', 'F1-Confidence(B)', 'Precision-Confidence(B)', 'Recall-Confidence(B)']\n",
       "curves_results: [[array([          0,    0.001001,    0.002002,    0.003003,    0.004004,    0.005005,    0.006006,    0.007007,    0.008008,    0.009009,     0.01001,    0.011011,    0.012012,    0.013013,    0.014014,    0.015015,    0.016016,    0.017017,    0.018018,    0.019019,     0.02002,    0.021021,    0.022022,    0.023023,\n",
       "          0.024024,    0.025025,    0.026026,    0.027027,    0.028028,    0.029029,     0.03003,    0.031031,    0.032032,    0.033033,    0.034034,    0.035035,    0.036036,    0.037037,    0.038038,    0.039039,     0.04004,    0.041041,    0.042042,    0.043043,    0.044044,    0.045045,    0.046046,    0.047047,\n",
       "          0.048048,    0.049049,     0.05005,    0.051051,    0.052052,    0.053053,    0.054054,    0.055055,    0.056056,    0.057057,    0.058058,    0.059059,     0.06006,    0.061061,    0.062062,    0.063063,    0.064064,    0.065065,    0.066066,    0.067067,    0.068068,    0.069069,     0.07007,    0.071071,\n",
       "          0.072072,    0.073073,    0.074074,    0.075075,    0.076076,    0.077077,    0.078078,    0.079079,     0.08008,    0.081081,    0.082082,    0.083083,    0.084084,    0.085085,    0.086086,    0.087087,    0.088088,    0.089089,     0.09009,    0.091091,    0.092092,    0.093093,    0.094094,    0.095095,\n",
       "          0.096096,    0.097097,    0.098098,    0.099099,      0.1001,      0.1011,      0.1021,      0.1031,      0.1041,     0.10511,     0.10611,     0.10711,     0.10811,     0.10911,     0.11011,     0.11111,     0.11211,     0.11311,     0.11411,     0.11512,     0.11612,     0.11712,     0.11812,     0.11912,\n",
       "           0.12012,     0.12112,     0.12212,     0.12312,     0.12412,     0.12513,     0.12613,     0.12713,     0.12813,     0.12913,     0.13013,     0.13113,     0.13213,     0.13313,     0.13413,     0.13514,     0.13614,     0.13714,     0.13814,     0.13914,     0.14014,     0.14114,     0.14214,     0.14314,\n",
       "           0.14414,     0.14515,     0.14615,     0.14715,     0.14815,     0.14915,     0.15015,     0.15115,     0.15215,     0.15315,     0.15415,     0.15516,     0.15616,     0.15716,     0.15816,     0.15916,     0.16016,     0.16116,     0.16216,     0.16316,     0.16416,     0.16517,     0.16617,     0.16717,\n",
       "           0.16817,     0.16917,     0.17017,     0.17117,     0.17217,     0.17317,     0.17417,     0.17518,     0.17618,     0.17718,     0.17818,     0.17918,     0.18018,     0.18118,     0.18218,     0.18318,     0.18418,     0.18519,     0.18619,     0.18719,     0.18819,     0.18919,     0.19019,     0.19119,\n",
       "           0.19219,     0.19319,     0.19419,      0.1952,      0.1962,      0.1972,      0.1982,      0.1992,      0.2002,      0.2012,      0.2022,      0.2032,      0.2042,     0.20521,     0.20621,     0.20721,     0.20821,     0.20921,     0.21021,     0.21121,     0.21221,     0.21321,     0.21421,     0.21522,\n",
       "           0.21622,     0.21722,     0.21822,     0.21922,     0.22022,     0.22122,     0.22222,     0.22322,     0.22422,     0.22523,     0.22623,     0.22723,     0.22823,     0.22923,     0.23023,     0.23123,     0.23223,     0.23323,     0.23423,     0.23524,     0.23624,     0.23724,     0.23824,     0.23924,\n",
       "           0.24024,     0.24124,     0.24224,     0.24324,     0.24424,     0.24525,     0.24625,     0.24725,     0.24825,     0.24925,     0.25025,     0.25125,     0.25225,     0.25325,     0.25425,     0.25526,     0.25626,     0.25726,     0.25826,     0.25926,     0.26026,     0.26126,     0.26226,     0.26326,\n",
       "           0.26426,     0.26527,     0.26627,     0.26727,     0.26827,     0.26927,     0.27027,     0.27127,     0.27227,     0.27327,     0.27427,     0.27528,     0.27628,     0.27728,     0.27828,     0.27928,     0.28028,     0.28128,     0.28228,     0.28328,     0.28428,     0.28529,     0.28629,     0.28729,\n",
       "           0.28829,     0.28929,     0.29029,     0.29129,     0.29229,     0.29329,     0.29429,      0.2953,      0.2963,      0.2973,      0.2983,      0.2993,      0.3003,      0.3013,      0.3023,      0.3033,      0.3043,     0.30531,     0.30631,     0.30731,     0.30831,     0.30931,     0.31031,     0.31131,\n",
       "           0.31231,     0.31331,     0.31431,     0.31532,     0.31632,     0.31732,     0.31832,     0.31932,     0.32032,     0.32132,     0.32232,     0.32332,     0.32432,     0.32533,     0.32633,     0.32733,     0.32833,     0.32933,     0.33033,     0.33133,     0.33233,     0.33333,     0.33433,     0.33534,\n",
       "           0.33634,     0.33734,     0.33834,     0.33934,     0.34034,     0.34134,     0.34234,     0.34334,     0.34434,     0.34535,     0.34635,     0.34735,     0.34835,     0.34935,     0.35035,     0.35135,     0.35235,     0.35335,     0.35435,     0.35536,     0.35636,     0.35736,     0.35836,     0.35936,\n",
       "           0.36036,     0.36136,     0.36236,     0.36336,     0.36436,     0.36537,     0.36637,     0.36737,     0.36837,     0.36937,     0.37037,     0.37137,     0.37237,     0.37337,     0.37437,     0.37538,     0.37638,     0.37738,     0.37838,     0.37938,     0.38038,     0.38138,     0.38238,     0.38338,\n",
       "           0.38438,     0.38539,     0.38639,     0.38739,     0.38839,     0.38939,     0.39039,     0.39139,     0.39239,     0.39339,     0.39439,      0.3954,      0.3964,      0.3974,      0.3984,      0.3994,      0.4004,      0.4014,      0.4024,      0.4034,      0.4044,     0.40541,     0.40641,     0.40741,\n",
       "           0.40841,     0.40941,     0.41041,     0.41141,     0.41241,     0.41341,     0.41441,     0.41542,     0.41642,     0.41742,     0.41842,     0.41942,     0.42042,     0.42142,     0.42242,     0.42342,     0.42442,     0.42543,     0.42643,     0.42743,     0.42843,     0.42943,     0.43043,     0.43143,\n",
       "           0.43243,     0.43343,     0.43443,     0.43544,     0.43644,     0.43744,     0.43844,     0.43944,     0.44044,     0.44144,     0.44244,     0.44344,     0.44444,     0.44545,     0.44645,     0.44745,     0.44845,     0.44945,     0.45045,     0.45145,     0.45245,     0.45345,     0.45445,     0.45546,\n",
       "           0.45646,     0.45746,     0.45846,     0.45946,     0.46046,     0.46146,     0.46246,     0.46346,     0.46446,     0.46547,     0.46647,     0.46747,     0.46847,     0.46947,     0.47047,     0.47147,     0.47247,     0.47347,     0.47447,     0.47548,     0.47648,     0.47748,     0.47848,     0.47948,\n",
       "           0.48048,     0.48148,     0.48248,     0.48348,     0.48448,     0.48549,     0.48649,     0.48749,     0.48849,     0.48949,     0.49049,     0.49149,     0.49249,     0.49349,     0.49449,      0.4955,      0.4965,      0.4975,      0.4985,      0.4995,      0.5005,      0.5015,      0.5025,      0.5035,\n",
       "            0.5045,     0.50551,     0.50651,     0.50751,     0.50851,     0.50951,     0.51051,     0.51151,     0.51251,     0.51351,     0.51451,     0.51552,     0.51652,     0.51752,     0.51852,     0.51952,     0.52052,     0.52152,     0.52252,     0.52352,     0.52452,     0.52553,     0.52653,     0.52753,\n",
       "           0.52853,     0.52953,     0.53053,     0.53153,     0.53253,     0.53353,     0.53453,     0.53554,     0.53654,     0.53754,     0.53854,     0.53954,     0.54054,     0.54154,     0.54254,     0.54354,     0.54454,     0.54555,     0.54655,     0.54755,     0.54855,     0.54955,     0.55055,     0.55155,\n",
       "           0.55255,     0.55355,     0.55455,     0.55556,     0.55656,     0.55756,     0.55856,     0.55956,     0.56056,     0.56156,     0.56256,     0.56356,     0.56456,     0.56557,     0.56657,     0.56757,     0.56857,     0.56957,     0.57057,     0.57157,     0.57257,     0.57357,     0.57457,     0.57558,\n",
       "           0.57658,     0.57758,     0.57858,     0.57958,     0.58058,     0.58158,     0.58258,     0.58358,     0.58458,     0.58559,     0.58659,     0.58759,     0.58859,     0.58959,     0.59059,     0.59159,     0.59259,     0.59359,     0.59459,      0.5956,      0.5966,      0.5976,      0.5986,      0.5996,\n",
       "            0.6006,      0.6016,      0.6026,      0.6036,      0.6046,     0.60561,     0.60661,     0.60761,     0.60861,     0.60961,     0.61061,     0.61161,     0.61261,     0.61361,     0.61461,     0.61562,     0.61662,     0.61762,     0.61862,     0.61962,     0.62062,     0.62162,     0.62262,     0.62362,\n",
       "           0.62462,     0.62563,     0.62663,     0.62763,     0.62863,     0.62963,     0.63063,     0.63163,     0.63263,     0.63363,     0.63463,     0.63564,     0.63664,     0.63764,     0.63864,     0.63964,     0.64064,     0.64164,     0.64264,     0.64364,     0.64464,     0.64565,     0.64665,     0.64765,\n",
       "           0.64865,     0.64965,     0.65065,     0.65165,     0.65265,     0.65365,     0.65465,     0.65566,     0.65666,     0.65766,     0.65866,     0.65966,     0.66066,     0.66166,     0.66266,     0.66366,     0.66466,     0.66567,     0.66667,     0.66767,     0.66867,     0.66967,     0.67067,     0.67167,\n",
       "           0.67267,     0.67367,     0.67467,     0.67568,     0.67668,     0.67768,     0.67868,     0.67968,     0.68068,     0.68168,     0.68268,     0.68368,     0.68468,     0.68569,     0.68669,     0.68769,     0.68869,     0.68969,     0.69069,     0.69169,     0.69269,     0.69369,     0.69469,      0.6957,\n",
       "            0.6967,      0.6977,      0.6987,      0.6997,      0.7007,      0.7017,      0.7027,      0.7037,      0.7047,     0.70571,     0.70671,     0.70771,     0.70871,     0.70971,     0.71071,     0.71171,     0.71271,     0.71371,     0.71471,     0.71572,     0.71672,     0.71772,     0.71872,     0.71972,\n",
       "           0.72072,     0.72172,     0.72272,     0.72372,     0.72472,     0.72573,     0.72673,     0.72773,     0.72873,     0.72973,     0.73073,     0.73173,     0.73273,     0.73373,     0.73473,     0.73574,     0.73674,     0.73774,     0.73874,     0.73974,     0.74074,     0.74174,     0.74274,     0.74374,\n",
       "           0.74474,     0.74575,     0.74675,     0.74775,     0.74875,     0.74975,     0.75075,     0.75175,     0.75275,     0.75375,     0.75475,     0.75576,     0.75676,     0.75776,     0.75876,     0.75976,     0.76076,     0.76176,     0.76276,     0.76376,     0.76476,     0.76577,     0.76677,     0.76777,\n",
       "           0.76877,     0.76977,     0.77077,     0.77177,     0.77277,     0.77377,     0.77477,     0.77578,     0.77678,     0.77778,     0.77878,     0.77978,     0.78078,     0.78178,     0.78278,     0.78378,     0.78478,     0.78579,     0.78679,     0.78779,     0.78879,     0.78979,     0.79079,     0.79179,\n",
       "           0.79279,     0.79379,     0.79479,      0.7958,      0.7968,      0.7978,      0.7988,      0.7998,      0.8008,      0.8018,      0.8028,      0.8038,      0.8048,     0.80581,     0.80681,     0.80781,     0.80881,     0.80981,     0.81081,     0.81181,     0.81281,     0.81381,     0.81481,     0.81582,\n",
       "           0.81682,     0.81782,     0.81882,     0.81982,     0.82082,     0.82182,     0.82282,     0.82382,     0.82482,     0.82583,     0.82683,     0.82783,     0.82883,     0.82983,     0.83083,     0.83183,     0.83283,     0.83383,     0.83483,     0.83584,     0.83684,     0.83784,     0.83884,     0.83984,\n",
       "           0.84084,     0.84184,     0.84284,     0.84384,     0.84484,     0.84585,     0.84685,     0.84785,     0.84885,     0.84985,     0.85085,     0.85185,     0.85285,     0.85385,     0.85485,     0.85586,     0.85686,     0.85786,     0.85886,     0.85986,     0.86086,     0.86186,     0.86286,     0.86386,\n",
       "           0.86486,     0.86587,     0.86687,     0.86787,     0.86887,     0.86987,     0.87087,     0.87187,     0.87287,     0.87387,     0.87487,     0.87588,     0.87688,     0.87788,     0.87888,     0.87988,     0.88088,     0.88188,     0.88288,     0.88388,     0.88488,     0.88589,     0.88689,     0.88789,\n",
       "           0.88889,     0.88989,     0.89089,     0.89189,     0.89289,     0.89389,     0.89489,      0.8959,      0.8969,      0.8979,      0.8989,      0.8999,      0.9009,      0.9019,      0.9029,      0.9039,      0.9049,     0.90591,     0.90691,     0.90791,     0.90891,     0.90991,     0.91091,     0.91191,\n",
       "           0.91291,     0.91391,     0.91491,     0.91592,     0.91692,     0.91792,     0.91892,     0.91992,     0.92092,     0.92192,     0.92292,     0.92392,     0.92492,     0.92593,     0.92693,     0.92793,     0.92893,     0.92993,     0.93093,     0.93193,     0.93293,     0.93393,     0.93493,     0.93594,\n",
       "           0.93694,     0.93794,     0.93894,     0.93994,     0.94094,     0.94194,     0.94294,     0.94394,     0.94494,     0.94595,     0.94695,     0.94795,     0.94895,     0.94995,     0.95095,     0.95195,     0.95295,     0.95395,     0.95495,     0.95596,     0.95696,     0.95796,     0.95896,     0.95996,\n",
       "           0.96096,     0.96196,     0.96296,     0.96396,     0.96496,     0.96597,     0.96697,     0.96797,     0.96897,     0.96997,     0.97097,     0.97197,     0.97297,     0.97397,     0.97497,     0.97598,     0.97698,     0.97798,     0.97898,     0.97998,     0.98098,     0.98198,     0.98298,     0.98398,\n",
       "           0.98498,     0.98599,     0.98699,     0.98799,     0.98899,     0.98999,     0.99099,     0.99199,     0.99299,     0.99399,     0.99499,       0.996,       0.997,       0.998,       0.999,           1]), array([[          1,           1,           1, ...,   0.0026113,   0.0013057,           0],\n",
       "       [          1,           1,           1, ...,           1,           1,           0],\n",
       "       [          1,           1,           1, ...,       0.625,       0.625,           0],\n",
       "       ...,\n",
       "       [          1,           1,           1, ...,           1,           1,           0],\n",
       "       [          1,           1,           1, ...,           1,           1,           0],\n",
       "       [          1,           1,           1, ...,        0.75,        0.75,           0]]), 'Recall', 'Precision'], [array([          0,    0.001001,    0.002002,    0.003003,    0.004004,    0.005005,    0.006006,    0.007007,    0.008008,    0.009009,     0.01001,    0.011011,    0.012012,    0.013013,    0.014014,    0.015015,    0.016016,    0.017017,    0.018018,    0.019019,     0.02002,    0.021021,    0.022022,    0.023023,\n",
       "          0.024024,    0.025025,    0.026026,    0.027027,    0.028028,    0.029029,     0.03003,    0.031031,    0.032032,    0.033033,    0.034034,    0.035035,    0.036036,    0.037037,    0.038038,    0.039039,     0.04004,    0.041041,    0.042042,    0.043043,    0.044044,    0.045045,    0.046046,    0.047047,\n",
       "          0.048048,    0.049049,     0.05005,    0.051051,    0.052052,    0.053053,    0.054054,    0.055055,    0.056056,    0.057057,    0.058058,    0.059059,     0.06006,    0.061061,    0.062062,    0.063063,    0.064064,    0.065065,    0.066066,    0.067067,    0.068068,    0.069069,     0.07007,    0.071071,\n",
       "          0.072072,    0.073073,    0.074074,    0.075075,    0.076076,    0.077077,    0.078078,    0.079079,     0.08008,    0.081081,    0.082082,    0.083083,    0.084084,    0.085085,    0.086086,    0.087087,    0.088088,    0.089089,     0.09009,    0.091091,    0.092092,    0.093093,    0.094094,    0.095095,\n",
       "          0.096096,    0.097097,    0.098098,    0.099099,      0.1001,      0.1011,      0.1021,      0.1031,      0.1041,     0.10511,     0.10611,     0.10711,     0.10811,     0.10911,     0.11011,     0.11111,     0.11211,     0.11311,     0.11411,     0.11512,     0.11612,     0.11712,     0.11812,     0.11912,\n",
       "           0.12012,     0.12112,     0.12212,     0.12312,     0.12412,     0.12513,     0.12613,     0.12713,     0.12813,     0.12913,     0.13013,     0.13113,     0.13213,     0.13313,     0.13413,     0.13514,     0.13614,     0.13714,     0.13814,     0.13914,     0.14014,     0.14114,     0.14214,     0.14314,\n",
       "           0.14414,     0.14515,     0.14615,     0.14715,     0.14815,     0.14915,     0.15015,     0.15115,     0.15215,     0.15315,     0.15415,     0.15516,     0.15616,     0.15716,     0.15816,     0.15916,     0.16016,     0.16116,     0.16216,     0.16316,     0.16416,     0.16517,     0.16617,     0.16717,\n",
       "           0.16817,     0.16917,     0.17017,     0.17117,     0.17217,     0.17317,     0.17417,     0.17518,     0.17618,     0.17718,     0.17818,     0.17918,     0.18018,     0.18118,     0.18218,     0.18318,     0.18418,     0.18519,     0.18619,     0.18719,     0.18819,     0.18919,     0.19019,     0.19119,\n",
       "           0.19219,     0.19319,     0.19419,      0.1952,      0.1962,      0.1972,      0.1982,      0.1992,      0.2002,      0.2012,      0.2022,      0.2032,      0.2042,     0.20521,     0.20621,     0.20721,     0.20821,     0.20921,     0.21021,     0.21121,     0.21221,     0.21321,     0.21421,     0.21522,\n",
       "           0.21622,     0.21722,     0.21822,     0.21922,     0.22022,     0.22122,     0.22222,     0.22322,     0.22422,     0.22523,     0.22623,     0.22723,     0.22823,     0.22923,     0.23023,     0.23123,     0.23223,     0.23323,     0.23423,     0.23524,     0.23624,     0.23724,     0.23824,     0.23924,\n",
       "           0.24024,     0.24124,     0.24224,     0.24324,     0.24424,     0.24525,     0.24625,     0.24725,     0.24825,     0.24925,     0.25025,     0.25125,     0.25225,     0.25325,     0.25425,     0.25526,     0.25626,     0.25726,     0.25826,     0.25926,     0.26026,     0.26126,     0.26226,     0.26326,\n",
       "           0.26426,     0.26527,     0.26627,     0.26727,     0.26827,     0.26927,     0.27027,     0.27127,     0.27227,     0.27327,     0.27427,     0.27528,     0.27628,     0.27728,     0.27828,     0.27928,     0.28028,     0.28128,     0.28228,     0.28328,     0.28428,     0.28529,     0.28629,     0.28729,\n",
       "           0.28829,     0.28929,     0.29029,     0.29129,     0.29229,     0.29329,     0.29429,      0.2953,      0.2963,      0.2973,      0.2983,      0.2993,      0.3003,      0.3013,      0.3023,      0.3033,      0.3043,     0.30531,     0.30631,     0.30731,     0.30831,     0.30931,     0.31031,     0.31131,\n",
       "           0.31231,     0.31331,     0.31431,     0.31532,     0.31632,     0.31732,     0.31832,     0.31932,     0.32032,     0.32132,     0.32232,     0.32332,     0.32432,     0.32533,     0.32633,     0.32733,     0.32833,     0.32933,     0.33033,     0.33133,     0.33233,     0.33333,     0.33433,     0.33534,\n",
       "           0.33634,     0.33734,     0.33834,     0.33934,     0.34034,     0.34134,     0.34234,     0.34334,     0.34434,     0.34535,     0.34635,     0.34735,     0.34835,     0.34935,     0.35035,     0.35135,     0.35235,     0.35335,     0.35435,     0.35536,     0.35636,     0.35736,     0.35836,     0.35936,\n",
       "           0.36036,     0.36136,     0.36236,     0.36336,     0.36436,     0.36537,     0.36637,     0.36737,     0.36837,     0.36937,     0.37037,     0.37137,     0.37237,     0.37337,     0.37437,     0.37538,     0.37638,     0.37738,     0.37838,     0.37938,     0.38038,     0.38138,     0.38238,     0.38338,\n",
       "           0.38438,     0.38539,     0.38639,     0.38739,     0.38839,     0.38939,     0.39039,     0.39139,     0.39239,     0.39339,     0.39439,      0.3954,      0.3964,      0.3974,      0.3984,      0.3994,      0.4004,      0.4014,      0.4024,      0.4034,      0.4044,     0.40541,     0.40641,     0.40741,\n",
       "           0.40841,     0.40941,     0.41041,     0.41141,     0.41241,     0.41341,     0.41441,     0.41542,     0.41642,     0.41742,     0.41842,     0.41942,     0.42042,     0.42142,     0.42242,     0.42342,     0.42442,     0.42543,     0.42643,     0.42743,     0.42843,     0.42943,     0.43043,     0.43143,\n",
       "           0.43243,     0.43343,     0.43443,     0.43544,     0.43644,     0.43744,     0.43844,     0.43944,     0.44044,     0.44144,     0.44244,     0.44344,     0.44444,     0.44545,     0.44645,     0.44745,     0.44845,     0.44945,     0.45045,     0.45145,     0.45245,     0.45345,     0.45445,     0.45546,\n",
       "           0.45646,     0.45746,     0.45846,     0.45946,     0.46046,     0.46146,     0.46246,     0.46346,     0.46446,     0.46547,     0.46647,     0.46747,     0.46847,     0.46947,     0.47047,     0.47147,     0.47247,     0.47347,     0.47447,     0.47548,     0.47648,     0.47748,     0.47848,     0.47948,\n",
       "           0.48048,     0.48148,     0.48248,     0.48348,     0.48448,     0.48549,     0.48649,     0.48749,     0.48849,     0.48949,     0.49049,     0.49149,     0.49249,     0.49349,     0.49449,      0.4955,      0.4965,      0.4975,      0.4985,      0.4995,      0.5005,      0.5015,      0.5025,      0.5035,\n",
       "            0.5045,     0.50551,     0.50651,     0.50751,     0.50851,     0.50951,     0.51051,     0.51151,     0.51251,     0.51351,     0.51451,     0.51552,     0.51652,     0.51752,     0.51852,     0.51952,     0.52052,     0.52152,     0.52252,     0.52352,     0.52452,     0.52553,     0.52653,     0.52753,\n",
       "           0.52853,     0.52953,     0.53053,     0.53153,     0.53253,     0.53353,     0.53453,     0.53554,     0.53654,     0.53754,     0.53854,     0.53954,     0.54054,     0.54154,     0.54254,     0.54354,     0.54454,     0.54555,     0.54655,     0.54755,     0.54855,     0.54955,     0.55055,     0.55155,\n",
       "           0.55255,     0.55355,     0.55455,     0.55556,     0.55656,     0.55756,     0.55856,     0.55956,     0.56056,     0.56156,     0.56256,     0.56356,     0.56456,     0.56557,     0.56657,     0.56757,     0.56857,     0.56957,     0.57057,     0.57157,     0.57257,     0.57357,     0.57457,     0.57558,\n",
       "           0.57658,     0.57758,     0.57858,     0.57958,     0.58058,     0.58158,     0.58258,     0.58358,     0.58458,     0.58559,     0.58659,     0.58759,     0.58859,     0.58959,     0.59059,     0.59159,     0.59259,     0.59359,     0.59459,      0.5956,      0.5966,      0.5976,      0.5986,      0.5996,\n",
       "            0.6006,      0.6016,      0.6026,      0.6036,      0.6046,     0.60561,     0.60661,     0.60761,     0.60861,     0.60961,     0.61061,     0.61161,     0.61261,     0.61361,     0.61461,     0.61562,     0.61662,     0.61762,     0.61862,     0.61962,     0.62062,     0.62162,     0.62262,     0.62362,\n",
       "           0.62462,     0.62563,     0.62663,     0.62763,     0.62863,     0.62963,     0.63063,     0.63163,     0.63263,     0.63363,     0.63463,     0.63564,     0.63664,     0.63764,     0.63864,     0.63964,     0.64064,     0.64164,     0.64264,     0.64364,     0.64464,     0.64565,     0.64665,     0.64765,\n",
       "           0.64865,     0.64965,     0.65065,     0.65165,     0.65265,     0.65365,     0.65465,     0.65566,     0.65666,     0.65766,     0.65866,     0.65966,     0.66066,     0.66166,     0.66266,     0.66366,     0.66466,     0.66567,     0.66667,     0.66767,     0.66867,     0.66967,     0.67067,     0.67167,\n",
       "           0.67267,     0.67367,     0.67467,     0.67568,     0.67668,     0.67768,     0.67868,     0.67968,     0.68068,     0.68168,     0.68268,     0.68368,     0.68468,     0.68569,     0.68669,     0.68769,     0.68869,     0.68969,     0.69069,     0.69169,     0.69269,     0.69369,     0.69469,      0.6957,\n",
       "            0.6967,      0.6977,      0.6987,      0.6997,      0.7007,      0.7017,      0.7027,      0.7037,      0.7047,     0.70571,     0.70671,     0.70771,     0.70871,     0.70971,     0.71071,     0.71171,     0.71271,     0.71371,     0.71471,     0.71572,     0.71672,     0.71772,     0.71872,     0.71972,\n",
       "           0.72072,     0.72172,     0.72272,     0.72372,     0.72472,     0.72573,     0.72673,     0.72773,     0.72873,     0.72973,     0.73073,     0.73173,     0.73273,     0.73373,     0.73473,     0.73574,     0.73674,     0.73774,     0.73874,     0.73974,     0.74074,     0.74174,     0.74274,     0.74374,\n",
       "           0.74474,     0.74575,     0.74675,     0.74775,     0.74875,     0.74975,     0.75075,     0.75175,     0.75275,     0.75375,     0.75475,     0.75576,     0.75676,     0.75776,     0.75876,     0.75976,     0.76076,     0.76176,     0.76276,     0.76376,     0.76476,     0.76577,     0.76677,     0.76777,\n",
       "           0.76877,     0.76977,     0.77077,     0.77177,     0.77277,     0.77377,     0.77477,     0.77578,     0.77678,     0.77778,     0.77878,     0.77978,     0.78078,     0.78178,     0.78278,     0.78378,     0.78478,     0.78579,     0.78679,     0.78779,     0.78879,     0.78979,     0.79079,     0.79179,\n",
       "           0.79279,     0.79379,     0.79479,      0.7958,      0.7968,      0.7978,      0.7988,      0.7998,      0.8008,      0.8018,      0.8028,      0.8038,      0.8048,     0.80581,     0.80681,     0.80781,     0.80881,     0.80981,     0.81081,     0.81181,     0.81281,     0.81381,     0.81481,     0.81582,\n",
       "           0.81682,     0.81782,     0.81882,     0.81982,     0.82082,     0.82182,     0.82282,     0.82382,     0.82482,     0.82583,     0.82683,     0.82783,     0.82883,     0.82983,     0.83083,     0.83183,     0.83283,     0.83383,     0.83483,     0.83584,     0.83684,     0.83784,     0.83884,     0.83984,\n",
       "           0.84084,     0.84184,     0.84284,     0.84384,     0.84484,     0.84585,     0.84685,     0.84785,     0.84885,     0.84985,     0.85085,     0.85185,     0.85285,     0.85385,     0.85485,     0.85586,     0.85686,     0.85786,     0.85886,     0.85986,     0.86086,     0.86186,     0.86286,     0.86386,\n",
       "           0.86486,     0.86587,     0.86687,     0.86787,     0.86887,     0.86987,     0.87087,     0.87187,     0.87287,     0.87387,     0.87487,     0.87588,     0.87688,     0.87788,     0.87888,     0.87988,     0.88088,     0.88188,     0.88288,     0.88388,     0.88488,     0.88589,     0.88689,     0.88789,\n",
       "           0.88889,     0.88989,     0.89089,     0.89189,     0.89289,     0.89389,     0.89489,      0.8959,      0.8969,      0.8979,      0.8989,      0.8999,      0.9009,      0.9019,      0.9029,      0.9039,      0.9049,     0.90591,     0.90691,     0.90791,     0.90891,     0.90991,     0.91091,     0.91191,\n",
       "           0.91291,     0.91391,     0.91491,     0.91592,     0.91692,     0.91792,     0.91892,     0.91992,     0.92092,     0.92192,     0.92292,     0.92392,     0.92492,     0.92593,     0.92693,     0.92793,     0.92893,     0.92993,     0.93093,     0.93193,     0.93293,     0.93393,     0.93493,     0.93594,\n",
       "           0.93694,     0.93794,     0.93894,     0.93994,     0.94094,     0.94194,     0.94294,     0.94394,     0.94494,     0.94595,     0.94695,     0.94795,     0.94895,     0.94995,     0.95095,     0.95195,     0.95295,     0.95395,     0.95495,     0.95596,     0.95696,     0.95796,     0.95896,     0.95996,\n",
       "           0.96096,     0.96196,     0.96296,     0.96396,     0.96496,     0.96597,     0.96697,     0.96797,     0.96897,     0.96997,     0.97097,     0.97197,     0.97297,     0.97397,     0.97497,     0.97598,     0.97698,     0.97798,     0.97898,     0.97998,     0.98098,     0.98198,     0.98298,     0.98398,\n",
       "           0.98498,     0.98599,     0.98699,     0.98799,     0.98899,     0.98999,     0.99099,     0.99199,     0.99299,     0.99399,     0.99499,       0.996,       0.997,       0.998,       0.999,           1]), array([[    0.34483,     0.34483,     0.41445, ...,           0,           0,           0],\n",
       "       [        0.1,         0.1,     0.11951, ...,           0,           0,           0],\n",
       "       [    0.33333,     0.33333,     0.41497, ...,           0,           0,           0],\n",
       "       ...,\n",
       "       [    0.54545,     0.54545,     0.57617, ...,           0,           0,           0],\n",
       "       [       0.24,        0.24,     0.30916, ...,           0,           0,           0],\n",
       "       [     0.2069,      0.2069,     0.22794, ...,           0,           0,           0]]), 'Confidence', 'F1'], [array([          0,    0.001001,    0.002002,    0.003003,    0.004004,    0.005005,    0.006006,    0.007007,    0.008008,    0.009009,     0.01001,    0.011011,    0.012012,    0.013013,    0.014014,    0.015015,    0.016016,    0.017017,    0.018018,    0.019019,     0.02002,    0.021021,    0.022022,    0.023023,\n",
       "          0.024024,    0.025025,    0.026026,    0.027027,    0.028028,    0.029029,     0.03003,    0.031031,    0.032032,    0.033033,    0.034034,    0.035035,    0.036036,    0.037037,    0.038038,    0.039039,     0.04004,    0.041041,    0.042042,    0.043043,    0.044044,    0.045045,    0.046046,    0.047047,\n",
       "          0.048048,    0.049049,     0.05005,    0.051051,    0.052052,    0.053053,    0.054054,    0.055055,    0.056056,    0.057057,    0.058058,    0.059059,     0.06006,    0.061061,    0.062062,    0.063063,    0.064064,    0.065065,    0.066066,    0.067067,    0.068068,    0.069069,     0.07007,    0.071071,\n",
       "          0.072072,    0.073073,    0.074074,    0.075075,    0.076076,    0.077077,    0.078078,    0.079079,     0.08008,    0.081081,    0.082082,    0.083083,    0.084084,    0.085085,    0.086086,    0.087087,    0.088088,    0.089089,     0.09009,    0.091091,    0.092092,    0.093093,    0.094094,    0.095095,\n",
       "          0.096096,    0.097097,    0.098098,    0.099099,      0.1001,      0.1011,      0.1021,      0.1031,      0.1041,     0.10511,     0.10611,     0.10711,     0.10811,     0.10911,     0.11011,     0.11111,     0.11211,     0.11311,     0.11411,     0.11512,     0.11612,     0.11712,     0.11812,     0.11912,\n",
       "           0.12012,     0.12112,     0.12212,     0.12312,     0.12412,     0.12513,     0.12613,     0.12713,     0.12813,     0.12913,     0.13013,     0.13113,     0.13213,     0.13313,     0.13413,     0.13514,     0.13614,     0.13714,     0.13814,     0.13914,     0.14014,     0.14114,     0.14214,     0.14314,\n",
       "           0.14414,     0.14515,     0.14615,     0.14715,     0.14815,     0.14915,     0.15015,     0.15115,     0.15215,     0.15315,     0.15415,     0.15516,     0.15616,     0.15716,     0.15816,     0.15916,     0.16016,     0.16116,     0.16216,     0.16316,     0.16416,     0.16517,     0.16617,     0.16717,\n",
       "           0.16817,     0.16917,     0.17017,     0.17117,     0.17217,     0.17317,     0.17417,     0.17518,     0.17618,     0.17718,     0.17818,     0.17918,     0.18018,     0.18118,     0.18218,     0.18318,     0.18418,     0.18519,     0.18619,     0.18719,     0.18819,     0.18919,     0.19019,     0.19119,\n",
       "           0.19219,     0.19319,     0.19419,      0.1952,      0.1962,      0.1972,      0.1982,      0.1992,      0.2002,      0.2012,      0.2022,      0.2032,      0.2042,     0.20521,     0.20621,     0.20721,     0.20821,     0.20921,     0.21021,     0.21121,     0.21221,     0.21321,     0.21421,     0.21522,\n",
       "           0.21622,     0.21722,     0.21822,     0.21922,     0.22022,     0.22122,     0.22222,     0.22322,     0.22422,     0.22523,     0.22623,     0.22723,     0.22823,     0.22923,     0.23023,     0.23123,     0.23223,     0.23323,     0.23423,     0.23524,     0.23624,     0.23724,     0.23824,     0.23924,\n",
       "           0.24024,     0.24124,     0.24224,     0.24324,     0.24424,     0.24525,     0.24625,     0.24725,     0.24825,     0.24925,     0.25025,     0.25125,     0.25225,     0.25325,     0.25425,     0.25526,     0.25626,     0.25726,     0.25826,     0.25926,     0.26026,     0.26126,     0.26226,     0.26326,\n",
       "           0.26426,     0.26527,     0.26627,     0.26727,     0.26827,     0.26927,     0.27027,     0.27127,     0.27227,     0.27327,     0.27427,     0.27528,     0.27628,     0.27728,     0.27828,     0.27928,     0.28028,     0.28128,     0.28228,     0.28328,     0.28428,     0.28529,     0.28629,     0.28729,\n",
       "           0.28829,     0.28929,     0.29029,     0.29129,     0.29229,     0.29329,     0.29429,      0.2953,      0.2963,      0.2973,      0.2983,      0.2993,      0.3003,      0.3013,      0.3023,      0.3033,      0.3043,     0.30531,     0.30631,     0.30731,     0.30831,     0.30931,     0.31031,     0.31131,\n",
       "           0.31231,     0.31331,     0.31431,     0.31532,     0.31632,     0.31732,     0.31832,     0.31932,     0.32032,     0.32132,     0.32232,     0.32332,     0.32432,     0.32533,     0.32633,     0.32733,     0.32833,     0.32933,     0.33033,     0.33133,     0.33233,     0.33333,     0.33433,     0.33534,\n",
       "           0.33634,     0.33734,     0.33834,     0.33934,     0.34034,     0.34134,     0.34234,     0.34334,     0.34434,     0.34535,     0.34635,     0.34735,     0.34835,     0.34935,     0.35035,     0.35135,     0.35235,     0.35335,     0.35435,     0.35536,     0.35636,     0.35736,     0.35836,     0.35936,\n",
       "           0.36036,     0.36136,     0.36236,     0.36336,     0.36436,     0.36537,     0.36637,     0.36737,     0.36837,     0.36937,     0.37037,     0.37137,     0.37237,     0.37337,     0.37437,     0.37538,     0.37638,     0.37738,     0.37838,     0.37938,     0.38038,     0.38138,     0.38238,     0.38338,\n",
       "           0.38438,     0.38539,     0.38639,     0.38739,     0.38839,     0.38939,     0.39039,     0.39139,     0.39239,     0.39339,     0.39439,      0.3954,      0.3964,      0.3974,      0.3984,      0.3994,      0.4004,      0.4014,      0.4024,      0.4034,      0.4044,     0.40541,     0.40641,     0.40741,\n",
       "           0.40841,     0.40941,     0.41041,     0.41141,     0.41241,     0.41341,     0.41441,     0.41542,     0.41642,     0.41742,     0.41842,     0.41942,     0.42042,     0.42142,     0.42242,     0.42342,     0.42442,     0.42543,     0.42643,     0.42743,     0.42843,     0.42943,     0.43043,     0.43143,\n",
       "           0.43243,     0.43343,     0.43443,     0.43544,     0.43644,     0.43744,     0.43844,     0.43944,     0.44044,     0.44144,     0.44244,     0.44344,     0.44444,     0.44545,     0.44645,     0.44745,     0.44845,     0.44945,     0.45045,     0.45145,     0.45245,     0.45345,     0.45445,     0.45546,\n",
       "           0.45646,     0.45746,     0.45846,     0.45946,     0.46046,     0.46146,     0.46246,     0.46346,     0.46446,     0.46547,     0.46647,     0.46747,     0.46847,     0.46947,     0.47047,     0.47147,     0.47247,     0.47347,     0.47447,     0.47548,     0.47648,     0.47748,     0.47848,     0.47948,\n",
       "           0.48048,     0.48148,     0.48248,     0.48348,     0.48448,     0.48549,     0.48649,     0.48749,     0.48849,     0.48949,     0.49049,     0.49149,     0.49249,     0.49349,     0.49449,      0.4955,      0.4965,      0.4975,      0.4985,      0.4995,      0.5005,      0.5015,      0.5025,      0.5035,\n",
       "            0.5045,     0.50551,     0.50651,     0.50751,     0.50851,     0.50951,     0.51051,     0.51151,     0.51251,     0.51351,     0.51451,     0.51552,     0.51652,     0.51752,     0.51852,     0.51952,     0.52052,     0.52152,     0.52252,     0.52352,     0.52452,     0.52553,     0.52653,     0.52753,\n",
       "           0.52853,     0.52953,     0.53053,     0.53153,     0.53253,     0.53353,     0.53453,     0.53554,     0.53654,     0.53754,     0.53854,     0.53954,     0.54054,     0.54154,     0.54254,     0.54354,     0.54454,     0.54555,     0.54655,     0.54755,     0.54855,     0.54955,     0.55055,     0.55155,\n",
       "           0.55255,     0.55355,     0.55455,     0.55556,     0.55656,     0.55756,     0.55856,     0.55956,     0.56056,     0.56156,     0.56256,     0.56356,     0.56456,     0.56557,     0.56657,     0.56757,     0.56857,     0.56957,     0.57057,     0.57157,     0.57257,     0.57357,     0.57457,     0.57558,\n",
       "           0.57658,     0.57758,     0.57858,     0.57958,     0.58058,     0.58158,     0.58258,     0.58358,     0.58458,     0.58559,     0.58659,     0.58759,     0.58859,     0.58959,     0.59059,     0.59159,     0.59259,     0.59359,     0.59459,      0.5956,      0.5966,      0.5976,      0.5986,      0.5996,\n",
       "            0.6006,      0.6016,      0.6026,      0.6036,      0.6046,     0.60561,     0.60661,     0.60761,     0.60861,     0.60961,     0.61061,     0.61161,     0.61261,     0.61361,     0.61461,     0.61562,     0.61662,     0.61762,     0.61862,     0.61962,     0.62062,     0.62162,     0.62262,     0.62362,\n",
       "           0.62462,     0.62563,     0.62663,     0.62763,     0.62863,     0.62963,     0.63063,     0.63163,     0.63263,     0.63363,     0.63463,     0.63564,     0.63664,     0.63764,     0.63864,     0.63964,     0.64064,     0.64164,     0.64264,     0.64364,     0.64464,     0.64565,     0.64665,     0.64765,\n",
       "           0.64865,     0.64965,     0.65065,     0.65165,     0.65265,     0.65365,     0.65465,     0.65566,     0.65666,     0.65766,     0.65866,     0.65966,     0.66066,     0.66166,     0.66266,     0.66366,     0.66466,     0.66567,     0.66667,     0.66767,     0.66867,     0.66967,     0.67067,     0.67167,\n",
       "           0.67267,     0.67367,     0.67467,     0.67568,     0.67668,     0.67768,     0.67868,     0.67968,     0.68068,     0.68168,     0.68268,     0.68368,     0.68468,     0.68569,     0.68669,     0.68769,     0.68869,     0.68969,     0.69069,     0.69169,     0.69269,     0.69369,     0.69469,      0.6957,\n",
       "            0.6967,      0.6977,      0.6987,      0.6997,      0.7007,      0.7017,      0.7027,      0.7037,      0.7047,     0.70571,     0.70671,     0.70771,     0.70871,     0.70971,     0.71071,     0.71171,     0.71271,     0.71371,     0.71471,     0.71572,     0.71672,     0.71772,     0.71872,     0.71972,\n",
       "           0.72072,     0.72172,     0.72272,     0.72372,     0.72472,     0.72573,     0.72673,     0.72773,     0.72873,     0.72973,     0.73073,     0.73173,     0.73273,     0.73373,     0.73473,     0.73574,     0.73674,     0.73774,     0.73874,     0.73974,     0.74074,     0.74174,     0.74274,     0.74374,\n",
       "           0.74474,     0.74575,     0.74675,     0.74775,     0.74875,     0.74975,     0.75075,     0.75175,     0.75275,     0.75375,     0.75475,     0.75576,     0.75676,     0.75776,     0.75876,     0.75976,     0.76076,     0.76176,     0.76276,     0.76376,     0.76476,     0.76577,     0.76677,     0.76777,\n",
       "           0.76877,     0.76977,     0.77077,     0.77177,     0.77277,     0.77377,     0.77477,     0.77578,     0.77678,     0.77778,     0.77878,     0.77978,     0.78078,     0.78178,     0.78278,     0.78378,     0.78478,     0.78579,     0.78679,     0.78779,     0.78879,     0.78979,     0.79079,     0.79179,\n",
       "           0.79279,     0.79379,     0.79479,      0.7958,      0.7968,      0.7978,      0.7988,      0.7998,      0.8008,      0.8018,      0.8028,      0.8038,      0.8048,     0.80581,     0.80681,     0.80781,     0.80881,     0.80981,     0.81081,     0.81181,     0.81281,     0.81381,     0.81481,     0.81582,\n",
       "           0.81682,     0.81782,     0.81882,     0.81982,     0.82082,     0.82182,     0.82282,     0.82382,     0.82482,     0.82583,     0.82683,     0.82783,     0.82883,     0.82983,     0.83083,     0.83183,     0.83283,     0.83383,     0.83483,     0.83584,     0.83684,     0.83784,     0.83884,     0.83984,\n",
       "           0.84084,     0.84184,     0.84284,     0.84384,     0.84484,     0.84585,     0.84685,     0.84785,     0.84885,     0.84985,     0.85085,     0.85185,     0.85285,     0.85385,     0.85485,     0.85586,     0.85686,     0.85786,     0.85886,     0.85986,     0.86086,     0.86186,     0.86286,     0.86386,\n",
       "           0.86486,     0.86587,     0.86687,     0.86787,     0.86887,     0.86987,     0.87087,     0.87187,     0.87287,     0.87387,     0.87487,     0.87588,     0.87688,     0.87788,     0.87888,     0.87988,     0.88088,     0.88188,     0.88288,     0.88388,     0.88488,     0.88589,     0.88689,     0.88789,\n",
       "           0.88889,     0.88989,     0.89089,     0.89189,     0.89289,     0.89389,     0.89489,      0.8959,      0.8969,      0.8979,      0.8989,      0.8999,      0.9009,      0.9019,      0.9029,      0.9039,      0.9049,     0.90591,     0.90691,     0.90791,     0.90891,     0.90991,     0.91091,     0.91191,\n",
       "           0.91291,     0.91391,     0.91491,     0.91592,     0.91692,     0.91792,     0.91892,     0.91992,     0.92092,     0.92192,     0.92292,     0.92392,     0.92492,     0.92593,     0.92693,     0.92793,     0.92893,     0.92993,     0.93093,     0.93193,     0.93293,     0.93393,     0.93493,     0.93594,\n",
       "           0.93694,     0.93794,     0.93894,     0.93994,     0.94094,     0.94194,     0.94294,     0.94394,     0.94494,     0.94595,     0.94695,     0.94795,     0.94895,     0.94995,     0.95095,     0.95195,     0.95295,     0.95395,     0.95495,     0.95596,     0.95696,     0.95796,     0.95896,     0.95996,\n",
       "           0.96096,     0.96196,     0.96296,     0.96396,     0.96496,     0.96597,     0.96697,     0.96797,     0.96897,     0.96997,     0.97097,     0.97197,     0.97297,     0.97397,     0.97497,     0.97598,     0.97698,     0.97798,     0.97898,     0.97998,     0.98098,     0.98198,     0.98298,     0.98398,\n",
       "           0.98498,     0.98599,     0.98699,     0.98799,     0.98899,     0.98999,     0.99099,     0.99199,     0.99299,     0.99399,     0.99499,       0.996,       0.997,       0.998,       0.999,           1]), array([[    0.21739,     0.21739,     0.27641, ...,           1,           1,           1],\n",
       "       [   0.052632,    0.052632,    0.063554, ...,           1,           1,           1],\n",
       "       [        0.2,         0.2,      0.2618, ...,           1,           1,           1],\n",
       "       ...,\n",
       "       [      0.375,       0.375,     0.40466, ...,           1,           1,           1],\n",
       "       [    0.13636,     0.13636,     0.18285, ...,           1,           1,           1],\n",
       "       [    0.11538,     0.11538,     0.12863, ...,           1,           1,           1]]), 'Confidence', 'Precision'], [array([          0,    0.001001,    0.002002,    0.003003,    0.004004,    0.005005,    0.006006,    0.007007,    0.008008,    0.009009,     0.01001,    0.011011,    0.012012,    0.013013,    0.014014,    0.015015,    0.016016,    0.017017,    0.018018,    0.019019,     0.02002,    0.021021,    0.022022,    0.023023,\n",
       "          0.024024,    0.025025,    0.026026,    0.027027,    0.028028,    0.029029,     0.03003,    0.031031,    0.032032,    0.033033,    0.034034,    0.035035,    0.036036,    0.037037,    0.038038,    0.039039,     0.04004,    0.041041,    0.042042,    0.043043,    0.044044,    0.045045,    0.046046,    0.047047,\n",
       "          0.048048,    0.049049,     0.05005,    0.051051,    0.052052,    0.053053,    0.054054,    0.055055,    0.056056,    0.057057,    0.058058,    0.059059,     0.06006,    0.061061,    0.062062,    0.063063,    0.064064,    0.065065,    0.066066,    0.067067,    0.068068,    0.069069,     0.07007,    0.071071,\n",
       "          0.072072,    0.073073,    0.074074,    0.075075,    0.076076,    0.077077,    0.078078,    0.079079,     0.08008,    0.081081,    0.082082,    0.083083,    0.084084,    0.085085,    0.086086,    0.087087,    0.088088,    0.089089,     0.09009,    0.091091,    0.092092,    0.093093,    0.094094,    0.095095,\n",
       "          0.096096,    0.097097,    0.098098,    0.099099,      0.1001,      0.1011,      0.1021,      0.1031,      0.1041,     0.10511,     0.10611,     0.10711,     0.10811,     0.10911,     0.11011,     0.11111,     0.11211,     0.11311,     0.11411,     0.11512,     0.11612,     0.11712,     0.11812,     0.11912,\n",
       "           0.12012,     0.12112,     0.12212,     0.12312,     0.12412,     0.12513,     0.12613,     0.12713,     0.12813,     0.12913,     0.13013,     0.13113,     0.13213,     0.13313,     0.13413,     0.13514,     0.13614,     0.13714,     0.13814,     0.13914,     0.14014,     0.14114,     0.14214,     0.14314,\n",
       "           0.14414,     0.14515,     0.14615,     0.14715,     0.14815,     0.14915,     0.15015,     0.15115,     0.15215,     0.15315,     0.15415,     0.15516,     0.15616,     0.15716,     0.15816,     0.15916,     0.16016,     0.16116,     0.16216,     0.16316,     0.16416,     0.16517,     0.16617,     0.16717,\n",
       "           0.16817,     0.16917,     0.17017,     0.17117,     0.17217,     0.17317,     0.17417,     0.17518,     0.17618,     0.17718,     0.17818,     0.17918,     0.18018,     0.18118,     0.18218,     0.18318,     0.18418,     0.18519,     0.18619,     0.18719,     0.18819,     0.18919,     0.19019,     0.19119,\n",
       "           0.19219,     0.19319,     0.19419,      0.1952,      0.1962,      0.1972,      0.1982,      0.1992,      0.2002,      0.2012,      0.2022,      0.2032,      0.2042,     0.20521,     0.20621,     0.20721,     0.20821,     0.20921,     0.21021,     0.21121,     0.21221,     0.21321,     0.21421,     0.21522,\n",
       "           0.21622,     0.21722,     0.21822,     0.21922,     0.22022,     0.22122,     0.22222,     0.22322,     0.22422,     0.22523,     0.22623,     0.22723,     0.22823,     0.22923,     0.23023,     0.23123,     0.23223,     0.23323,     0.23423,     0.23524,     0.23624,     0.23724,     0.23824,     0.23924,\n",
       "           0.24024,     0.24124,     0.24224,     0.24324,     0.24424,     0.24525,     0.24625,     0.24725,     0.24825,     0.24925,     0.25025,     0.25125,     0.25225,     0.25325,     0.25425,     0.25526,     0.25626,     0.25726,     0.25826,     0.25926,     0.26026,     0.26126,     0.26226,     0.26326,\n",
       "           0.26426,     0.26527,     0.26627,     0.26727,     0.26827,     0.26927,     0.27027,     0.27127,     0.27227,     0.27327,     0.27427,     0.27528,     0.27628,     0.27728,     0.27828,     0.27928,     0.28028,     0.28128,     0.28228,     0.28328,     0.28428,     0.28529,     0.28629,     0.28729,\n",
       "           0.28829,     0.28929,     0.29029,     0.29129,     0.29229,     0.29329,     0.29429,      0.2953,      0.2963,      0.2973,      0.2983,      0.2993,      0.3003,      0.3013,      0.3023,      0.3033,      0.3043,     0.30531,     0.30631,     0.30731,     0.30831,     0.30931,     0.31031,     0.31131,\n",
       "           0.31231,     0.31331,     0.31431,     0.31532,     0.31632,     0.31732,     0.31832,     0.31932,     0.32032,     0.32132,     0.32232,     0.32332,     0.32432,     0.32533,     0.32633,     0.32733,     0.32833,     0.32933,     0.33033,     0.33133,     0.33233,     0.33333,     0.33433,     0.33534,\n",
       "           0.33634,     0.33734,     0.33834,     0.33934,     0.34034,     0.34134,     0.34234,     0.34334,     0.34434,     0.34535,     0.34635,     0.34735,     0.34835,     0.34935,     0.35035,     0.35135,     0.35235,     0.35335,     0.35435,     0.35536,     0.35636,     0.35736,     0.35836,     0.35936,\n",
       "           0.36036,     0.36136,     0.36236,     0.36336,     0.36436,     0.36537,     0.36637,     0.36737,     0.36837,     0.36937,     0.37037,     0.37137,     0.37237,     0.37337,     0.37437,     0.37538,     0.37638,     0.37738,     0.37838,     0.37938,     0.38038,     0.38138,     0.38238,     0.38338,\n",
       "           0.38438,     0.38539,     0.38639,     0.38739,     0.38839,     0.38939,     0.39039,     0.39139,     0.39239,     0.39339,     0.39439,      0.3954,      0.3964,      0.3974,      0.3984,      0.3994,      0.4004,      0.4014,      0.4024,      0.4034,      0.4044,     0.40541,     0.40641,     0.40741,\n",
       "           0.40841,     0.40941,     0.41041,     0.41141,     0.41241,     0.41341,     0.41441,     0.41542,     0.41642,     0.41742,     0.41842,     0.41942,     0.42042,     0.42142,     0.42242,     0.42342,     0.42442,     0.42543,     0.42643,     0.42743,     0.42843,     0.42943,     0.43043,     0.43143,\n",
       "           0.43243,     0.43343,     0.43443,     0.43544,     0.43644,     0.43744,     0.43844,     0.43944,     0.44044,     0.44144,     0.44244,     0.44344,     0.44444,     0.44545,     0.44645,     0.44745,     0.44845,     0.44945,     0.45045,     0.45145,     0.45245,     0.45345,     0.45445,     0.45546,\n",
       "           0.45646,     0.45746,     0.45846,     0.45946,     0.46046,     0.46146,     0.46246,     0.46346,     0.46446,     0.46547,     0.46647,     0.46747,     0.46847,     0.46947,     0.47047,     0.47147,     0.47247,     0.47347,     0.47447,     0.47548,     0.47648,     0.47748,     0.47848,     0.47948,\n",
       "           0.48048,     0.48148,     0.48248,     0.48348,     0.48448,     0.48549,     0.48649,     0.48749,     0.48849,     0.48949,     0.49049,     0.49149,     0.49249,     0.49349,     0.49449,      0.4955,      0.4965,      0.4975,      0.4985,      0.4995,      0.5005,      0.5015,      0.5025,      0.5035,\n",
       "            0.5045,     0.50551,     0.50651,     0.50751,     0.50851,     0.50951,     0.51051,     0.51151,     0.51251,     0.51351,     0.51451,     0.51552,     0.51652,     0.51752,     0.51852,     0.51952,     0.52052,     0.52152,     0.52252,     0.52352,     0.52452,     0.52553,     0.52653,     0.52753,\n",
       "           0.52853,     0.52953,     0.53053,     0.53153,     0.53253,     0.53353,     0.53453,     0.53554,     0.53654,     0.53754,     0.53854,     0.53954,     0.54054,     0.54154,     0.54254,     0.54354,     0.54454,     0.54555,     0.54655,     0.54755,     0.54855,     0.54955,     0.55055,     0.55155,\n",
       "           0.55255,     0.55355,     0.55455,     0.55556,     0.55656,     0.55756,     0.55856,     0.55956,     0.56056,     0.56156,     0.56256,     0.56356,     0.56456,     0.56557,     0.56657,     0.56757,     0.56857,     0.56957,     0.57057,     0.57157,     0.57257,     0.57357,     0.57457,     0.57558,\n",
       "           0.57658,     0.57758,     0.57858,     0.57958,     0.58058,     0.58158,     0.58258,     0.58358,     0.58458,     0.58559,     0.58659,     0.58759,     0.58859,     0.58959,     0.59059,     0.59159,     0.59259,     0.59359,     0.59459,      0.5956,      0.5966,      0.5976,      0.5986,      0.5996,\n",
       "            0.6006,      0.6016,      0.6026,      0.6036,      0.6046,     0.60561,     0.60661,     0.60761,     0.60861,     0.60961,     0.61061,     0.61161,     0.61261,     0.61361,     0.61461,     0.61562,     0.61662,     0.61762,     0.61862,     0.61962,     0.62062,     0.62162,     0.62262,     0.62362,\n",
       "           0.62462,     0.62563,     0.62663,     0.62763,     0.62863,     0.62963,     0.63063,     0.63163,     0.63263,     0.63363,     0.63463,     0.63564,     0.63664,     0.63764,     0.63864,     0.63964,     0.64064,     0.64164,     0.64264,     0.64364,     0.64464,     0.64565,     0.64665,     0.64765,\n",
       "           0.64865,     0.64965,     0.65065,     0.65165,     0.65265,     0.65365,     0.65465,     0.65566,     0.65666,     0.65766,     0.65866,     0.65966,     0.66066,     0.66166,     0.66266,     0.66366,     0.66466,     0.66567,     0.66667,     0.66767,     0.66867,     0.66967,     0.67067,     0.67167,\n",
       "           0.67267,     0.67367,     0.67467,     0.67568,     0.67668,     0.67768,     0.67868,     0.67968,     0.68068,     0.68168,     0.68268,     0.68368,     0.68468,     0.68569,     0.68669,     0.68769,     0.68869,     0.68969,     0.69069,     0.69169,     0.69269,     0.69369,     0.69469,      0.6957,\n",
       "            0.6967,      0.6977,      0.6987,      0.6997,      0.7007,      0.7017,      0.7027,      0.7037,      0.7047,     0.70571,     0.70671,     0.70771,     0.70871,     0.70971,     0.71071,     0.71171,     0.71271,     0.71371,     0.71471,     0.71572,     0.71672,     0.71772,     0.71872,     0.71972,\n",
       "           0.72072,     0.72172,     0.72272,     0.72372,     0.72472,     0.72573,     0.72673,     0.72773,     0.72873,     0.72973,     0.73073,     0.73173,     0.73273,     0.73373,     0.73473,     0.73574,     0.73674,     0.73774,     0.73874,     0.73974,     0.74074,     0.74174,     0.74274,     0.74374,\n",
       "           0.74474,     0.74575,     0.74675,     0.74775,     0.74875,     0.74975,     0.75075,     0.75175,     0.75275,     0.75375,     0.75475,     0.75576,     0.75676,     0.75776,     0.75876,     0.75976,     0.76076,     0.76176,     0.76276,     0.76376,     0.76476,     0.76577,     0.76677,     0.76777,\n",
       "           0.76877,     0.76977,     0.77077,     0.77177,     0.77277,     0.77377,     0.77477,     0.77578,     0.77678,     0.77778,     0.77878,     0.77978,     0.78078,     0.78178,     0.78278,     0.78378,     0.78478,     0.78579,     0.78679,     0.78779,     0.78879,     0.78979,     0.79079,     0.79179,\n",
       "           0.79279,     0.79379,     0.79479,      0.7958,      0.7968,      0.7978,      0.7988,      0.7998,      0.8008,      0.8018,      0.8028,      0.8038,      0.8048,     0.80581,     0.80681,     0.80781,     0.80881,     0.80981,     0.81081,     0.81181,     0.81281,     0.81381,     0.81481,     0.81582,\n",
       "           0.81682,     0.81782,     0.81882,     0.81982,     0.82082,     0.82182,     0.82282,     0.82382,     0.82482,     0.82583,     0.82683,     0.82783,     0.82883,     0.82983,     0.83083,     0.83183,     0.83283,     0.83383,     0.83483,     0.83584,     0.83684,     0.83784,     0.83884,     0.83984,\n",
       "           0.84084,     0.84184,     0.84284,     0.84384,     0.84484,     0.84585,     0.84685,     0.84785,     0.84885,     0.84985,     0.85085,     0.85185,     0.85285,     0.85385,     0.85485,     0.85586,     0.85686,     0.85786,     0.85886,     0.85986,     0.86086,     0.86186,     0.86286,     0.86386,\n",
       "           0.86486,     0.86587,     0.86687,     0.86787,     0.86887,     0.86987,     0.87087,     0.87187,     0.87287,     0.87387,     0.87487,     0.87588,     0.87688,     0.87788,     0.87888,     0.87988,     0.88088,     0.88188,     0.88288,     0.88388,     0.88488,     0.88589,     0.88689,     0.88789,\n",
       "           0.88889,     0.88989,     0.89089,     0.89189,     0.89289,     0.89389,     0.89489,      0.8959,      0.8969,      0.8979,      0.8989,      0.8999,      0.9009,      0.9019,      0.9029,      0.9039,      0.9049,     0.90591,     0.90691,     0.90791,     0.90891,     0.90991,     0.91091,     0.91191,\n",
       "           0.91291,     0.91391,     0.91491,     0.91592,     0.91692,     0.91792,     0.91892,     0.91992,     0.92092,     0.92192,     0.92292,     0.92392,     0.92492,     0.92593,     0.92693,     0.92793,     0.92893,     0.92993,     0.93093,     0.93193,     0.93293,     0.93393,     0.93493,     0.93594,\n",
       "           0.93694,     0.93794,     0.93894,     0.93994,     0.94094,     0.94194,     0.94294,     0.94394,     0.94494,     0.94595,     0.94695,     0.94795,     0.94895,     0.94995,     0.95095,     0.95195,     0.95295,     0.95395,     0.95495,     0.95596,     0.95696,     0.95796,     0.95896,     0.95996,\n",
       "           0.96096,     0.96196,     0.96296,     0.96396,     0.96496,     0.96597,     0.96697,     0.96797,     0.96897,     0.96997,     0.97097,     0.97197,     0.97297,     0.97397,     0.97497,     0.97598,     0.97698,     0.97798,     0.97898,     0.97998,     0.98098,     0.98198,     0.98298,     0.98398,\n",
       "           0.98498,     0.98599,     0.98699,     0.98799,     0.98899,     0.98999,     0.99099,     0.99199,     0.99299,     0.99399,     0.99499,       0.996,       0.997,       0.998,       0.999,           1]), array([[    0.83333,     0.83333,     0.82796, ...,           0,           0,           0],\n",
       "       [          1,           1,           1, ...,           0,           0,           0],\n",
       "       [          1,           1,           1, ...,           0,           0,           0],\n",
       "       ...,\n",
       "       [          1,           1,           1, ...,           0,           0,           0],\n",
       "       [          1,           1,           1, ...,           0,           0,           0],\n",
       "       [          1,           1,           1, ...,           0,           0,           0]]), 'Confidence', 'Recall']]\n",
       "fitness: np.float64(0.7296251584930091)\n",
       "keys: ['metrics/precision(B)', 'metrics/recall(B)', 'metrics/mAP50(B)', 'metrics/mAP50-95(B)']\n",
       "maps: array([    0.50803,      0.6965,     0.74737,     0.70831,     0.72741,      0.8955,      0.7781,     0.68838,     0.70831,      0.6252])\n",
       "names: {0: 'Kick Sauber', 1: 'Racing Bulls', 2: 'Alpine', 3: 'Aston Martin', 4: 'Ferarri', 5: 'Haas', 6: 'Mclaren', 7: 'Mercedes', 8: 'Red Bull', 9: 'Williams'}\n",
       "plot: True\n",
       "results_dict: {'metrics/precision(B)': np.float64(0.8073353142749295), 'metrics/recall(B)': np.float64(0.836820222166453), 'metrics/mAP50(B)': np.float64(0.921453502415459), 'metrics/mAP50-95(B)': np.float64(0.7083108980571813), 'fitness': np.float64(0.7296251584930091)}\n",
       "save_dir: WindowsPath('../f1-strategy/yolo-files/runs/train_finetune_adjusted2')\n",
       "speed: {'preprocess': 3.8289904594421387, 'inference': 29.54918146133423, 'loss': 0.0, 'postprocess': 0.8385300636291504}\n",
       "task: 'detect'"
      ]
     },
     "execution_count": 8,
     "metadata": {},
     "output_type": "execute_result"
    }
   ],
   "source": [
    "# Después del entrenamiento\n",
    "model_fine_tuned_2.val()"
   ]
  },
  {
   "cell_type": "code",
   "execution_count": null,
   "metadata": {},
   "outputs": [
    {
     "name": "stdout",
     "output_type": "stream",
     "text": [
      "Modelo fine-tuned guardado correctamente en: ../f1-strategy/weights/f1_detection_fine_tuned_best_2.pt\n"
     ]
    }
   ],
   "source": [
    "# Guardar el modelo fine-tuned con un nuevo nombre\n",
    "# model_fine_tuned.save(\"../f1-strategy/weights/f1_detection_fine_tuned_best.pt\")\n",
    "model_fine_tuned_2.save(\n",
    "    \"../f1-strategy/weights/f1_detection_fine_tuned_best_2.pt\")\n",
    "\n",
    "print(\"Modelo fine-tuned guardado correctamente en: ../f1-strategy/weights/f1_detection_fine_tuned_best_2.pt\")"
   ]
  },
  {
   "cell_type": "markdown",
   "metadata": {},
   "source": [
    "# Resultados con 200 imágenes\n",
    "\n",
    "### Conclusiones del modelo fine tuned: Mejor usar el best o el best_fine_tuned?\n",
    "\n",
    "Resultados del Modelo Anterior:\n",
    "mAP50: 0.772\n",
    "mAP50-95: 0.449\n",
    "Precisión (P): 0.733\n",
    "Recall (R): 0.615\n",
    "Clases Problemáticas:\n",
    "\n",
    "Kick Sauber: mAP50 ~0.619\n",
    "Alpine: mAP50 ~0.556\n",
    "Williams: mAP50 ~0.487\n",
    "Resultados del Nuevo Modelo Fine-Tuned:\n",
    "En Train:\n",
    "mAP50: 0.840\n",
    "mAP50-95: 0.728\n",
    "Precisión: 0.643\n",
    "Recall: 0.761\n",
    "Clases Problemáticas:\n",
    "\n",
    "Kick Sauber: mAP50 = 0.714\n",
    "Alpine: mAP50 = 0.928\n",
    "Williams: mAP50 = 0.522\n",
    "En Validación:\n",
    "mAP50: 0.839\n",
    "mAP50-95: 0.729\n",
    "Precisión: 0.643\n",
    "Recall: 0.762\n",
    "Clases Problemáticas:\n",
    "\n",
    "Kick Sauber: mAP50 = 0.714\n",
    "Alpine: mAP50 = 0.928\n",
    "Williams: mAP50 = 0.519\n",
    "Observaciones:\n",
    "El mAP50 ha mejorado notablemente, subiendo de 0.772 a 0.840 en entrenamiento y 0.839 en validación.\n",
    "El mAP50-95 también sube de 0.449 a 0.728 en entrenamiento y 0.729 en validación, lo cual indica un aumento en la precisión en diferentes umbrales de IoU.\n",
    "La precisión ha subido ligeramente de 0.733 a 0.643 en el entrenamiento, pero con un recall mucho más alto, lo que sugiere que el modelo fine-tuned ha mejorado la capacidad de identificar los objetos relevantes, aunque el número de falsos positivos puede haber aumentado.\n",
    "Las clases problemáticas como Kick Sauber, Alpine, y Williams han mostrado mejoras en mAP50, con un aumento significativo en Alpine (0.928 en validación, frente a 0.556 anteriormente).\n",
    "Conclusión:\n",
    "El modelo fine-tuned muestra una mejora general significativa, especialmente en mAP50 y en la capacidad para manejar clases problemáticas, aunque el modelo podría beneficiarse de un ajuste adicional en la precisión, especialmente para clases como Williams. Reducir las epochs de 40 a menos podría funcionar si se optimizan más hiperparámetros, pero parece que las 21 epochs han sido suficientes.\n",
    "\n",
    "### Siguiente modelo: peso de 2 a williams en el yaml.\n",
    "\n",
    "Resultados del Nuevo Modelo (Con Peso para Williams):\n",
    "mAP50: 0.840 en entrenamiento, 0.839 en validación.\n",
    "mAP50-95: 0.728 en entrenamiento, 0.729 en validación.\n",
    "Precisión: 0.643 en entrenamiento, 0.643 en validación.\n",
    "Recall: 0.761 en entrenamiento, 0.762 en validación.\n",
    "Resultados Anteriores (Sin Ajuste):\n",
    "mAP50: 0.772 en entrenamiento, 0.772 en validación.\n",
    "mAP50-95: 0.449 en entrenamiento, 0.449 en validación.\n",
    "Precisión: 0.733 en entrenamiento, 0.733 en validación.\n",
    "Recall: 0.615 en entrenamiento, 0.615 en validación.\n",
    "Clases Problemáticas:\n",
    "Antes (sin ajuste):\n",
    "\n",
    "Kick Sauber: mAP50 ~0.619\n",
    "Alpine: mAP50 ~0.556\n",
    "Williams: mAP50 ~0.487\n",
    "Ahora (con ajuste):\n",
    "\n",
    "Kick Sauber: mAP50 = 0.714\n",
    "Alpine: mAP50 = 0.928\n",
    "Williams: mAP50 = 0.522\n",
    "Observaciones:\n",
    "mAP50 ha mejorado significativamente: de 0.772 a 0.840 en entrenamiento y de 0.772 a 0.839 en validación, lo que refleja un aumento en la capacidad de detectar objetos de manera precisa.\n",
    "mAP50-95 también ha mejorado considerablemente, subiendo de 0.449 a 0.728 en entrenamiento y 0.449 a 0.729 en validación.\n",
    "Precisión y Recall en general han subido, pero la precisión ha tenido un ligero descenso (0.733 a 0.643), lo cual podría indicar un mayor número de falsos positivos, aunque el recall ha aumentado, lo que indica una mejora en la identificación de objetos relevantes.\n",
    "Williams sigue siendo un reto con un mAP50 de 0.522 en entrenamiento y 0.519 en validación, lo que es una ligera mejora respecto al valor anterior de 0.487, pero sigue estando por debajo de otros equipos.\n"
   ]
  },
  {
   "cell_type": "code",
   "execution_count": null,
   "metadata": {},
   "outputs": [
    {
     "data": {
      "text/plain": [
       "YOLO(\n",
       "  (model): DetectionModel(\n",
       "    (model): Sequential(\n",
       "      (0): Conv(\n",
       "        (conv): Conv2d(3, 48, kernel_size=(3, 3), stride=(2, 2), padding=(1, 1))\n",
       "        (act): SiLU(inplace=True)\n",
       "      )\n",
       "      (1): Conv(\n",
       "        (conv): Conv2d(48, 96, kernel_size=(3, 3), stride=(2, 2), padding=(1, 1))\n",
       "        (act): SiLU(inplace=True)\n",
       "      )\n",
       "      (2): C2f(\n",
       "        (cv1): Conv(\n",
       "          (conv): Conv2d(96, 96, kernel_size=(1, 1), stride=(1, 1))\n",
       "          (act): SiLU(inplace=True)\n",
       "        )\n",
       "        (cv2): Conv(\n",
       "          (conv): Conv2d(192, 96, kernel_size=(1, 1), stride=(1, 1))\n",
       "          (act): SiLU(inplace=True)\n",
       "        )\n",
       "        (m): ModuleList(\n",
       "          (0-1): 2 x Bottleneck(\n",
       "            (cv1): Conv(\n",
       "              (conv): Conv2d(48, 48, kernel_size=(3, 3), stride=(1, 1), padding=(1, 1))\n",
       "              (act): SiLU(inplace=True)\n",
       "            )\n",
       "            (cv2): Conv(\n",
       "              (conv): Conv2d(48, 48, kernel_size=(3, 3), stride=(1, 1), padding=(1, 1))\n",
       "              (act): SiLU(inplace=True)\n",
       "            )\n",
       "          )\n",
       "        )\n",
       "      )\n",
       "      (3): Conv(\n",
       "        (conv): Conv2d(96, 192, kernel_size=(3, 3), stride=(2, 2), padding=(1, 1))\n",
       "        (act): SiLU(inplace=True)\n",
       "      )\n",
       "      (4): C2f(\n",
       "        (cv1): Conv(\n",
       "          (conv): Conv2d(192, 192, kernel_size=(1, 1), stride=(1, 1))\n",
       "          (act): SiLU(inplace=True)\n",
       "        )\n",
       "        (cv2): Conv(\n",
       "          (conv): Conv2d(576, 192, kernel_size=(1, 1), stride=(1, 1))\n",
       "          (act): SiLU(inplace=True)\n",
       "        )\n",
       "        (m): ModuleList(\n",
       "          (0-3): 4 x Bottleneck(\n",
       "            (cv1): Conv(\n",
       "              (conv): Conv2d(96, 96, kernel_size=(3, 3), stride=(1, 1), padding=(1, 1))\n",
       "              (act): SiLU(inplace=True)\n",
       "            )\n",
       "            (cv2): Conv(\n",
       "              (conv): Conv2d(96, 96, kernel_size=(3, 3), stride=(1, 1), padding=(1, 1))\n",
       "              (act): SiLU(inplace=True)\n",
       "            )\n",
       "          )\n",
       "        )\n",
       "      )\n",
       "      (5): Conv(\n",
       "        (conv): Conv2d(192, 384, kernel_size=(3, 3), stride=(2, 2), padding=(1, 1))\n",
       "        (act): SiLU(inplace=True)\n",
       "      )\n",
       "      (6): C2f(\n",
       "        (cv1): Conv(\n",
       "          (conv): Conv2d(384, 384, kernel_size=(1, 1), stride=(1, 1))\n",
       "          (act): SiLU(inplace=True)\n",
       "        )\n",
       "        (cv2): Conv(\n",
       "          (conv): Conv2d(1152, 384, kernel_size=(1, 1), stride=(1, 1))\n",
       "          (act): SiLU(inplace=True)\n",
       "        )\n",
       "        (m): ModuleList(\n",
       "          (0-3): 4 x Bottleneck(\n",
       "            (cv1): Conv(\n",
       "              (conv): Conv2d(192, 192, kernel_size=(3, 3), stride=(1, 1), padding=(1, 1))\n",
       "              (act): SiLU(inplace=True)\n",
       "            )\n",
       "            (cv2): Conv(\n",
       "              (conv): Conv2d(192, 192, kernel_size=(3, 3), stride=(1, 1), padding=(1, 1))\n",
       "              (act): SiLU(inplace=True)\n",
       "            )\n",
       "          )\n",
       "        )\n",
       "      )\n",
       "      (7): Conv(\n",
       "        (conv): Conv2d(384, 576, kernel_size=(3, 3), stride=(2, 2), padding=(1, 1))\n",
       "        (act): SiLU(inplace=True)\n",
       "      )\n",
       "      (8): C2f(\n",
       "        (cv1): Conv(\n",
       "          (conv): Conv2d(576, 576, kernel_size=(1, 1), stride=(1, 1))\n",
       "          (act): SiLU(inplace=True)\n",
       "        )\n",
       "        (cv2): Conv(\n",
       "          (conv): Conv2d(1152, 576, kernel_size=(1, 1), stride=(1, 1))\n",
       "          (act): SiLU(inplace=True)\n",
       "        )\n",
       "        (m): ModuleList(\n",
       "          (0-1): 2 x Bottleneck(\n",
       "            (cv1): Conv(\n",
       "              (conv): Conv2d(288, 288, kernel_size=(3, 3), stride=(1, 1), padding=(1, 1))\n",
       "              (act): SiLU(inplace=True)\n",
       "            )\n",
       "            (cv2): Conv(\n",
       "              (conv): Conv2d(288, 288, kernel_size=(3, 3), stride=(1, 1), padding=(1, 1))\n",
       "              (act): SiLU(inplace=True)\n",
       "            )\n",
       "          )\n",
       "        )\n",
       "      )\n",
       "      (9): SPPF(\n",
       "        (cv1): Conv(\n",
       "          (conv): Conv2d(576, 288, kernel_size=(1, 1), stride=(1, 1))\n",
       "          (act): SiLU(inplace=True)\n",
       "        )\n",
       "        (cv2): Conv(\n",
       "          (conv): Conv2d(1152, 576, kernel_size=(1, 1), stride=(1, 1))\n",
       "          (act): SiLU(inplace=True)\n",
       "        )\n",
       "        (m): MaxPool2d(kernel_size=5, stride=1, padding=2, dilation=1, ceil_mode=False)\n",
       "      )\n",
       "      (10): Upsample(scale_factor=2.0, mode='nearest')\n",
       "      (11): Concat()\n",
       "      (12): C2f(\n",
       "        (cv1): Conv(\n",
       "          (conv): Conv2d(960, 384, kernel_size=(1, 1), stride=(1, 1))\n",
       "          (act): SiLU(inplace=True)\n",
       "        )\n",
       "        (cv2): Conv(\n",
       "          (conv): Conv2d(768, 384, kernel_size=(1, 1), stride=(1, 1))\n",
       "          (act): SiLU(inplace=True)\n",
       "        )\n",
       "        (m): ModuleList(\n",
       "          (0-1): 2 x Bottleneck(\n",
       "            (cv1): Conv(\n",
       "              (conv): Conv2d(192, 192, kernel_size=(3, 3), stride=(1, 1), padding=(1, 1))\n",
       "              (act): SiLU(inplace=True)\n",
       "            )\n",
       "            (cv2): Conv(\n",
       "              (conv): Conv2d(192, 192, kernel_size=(3, 3), stride=(1, 1), padding=(1, 1))\n",
       "              (act): SiLU(inplace=True)\n",
       "            )\n",
       "          )\n",
       "        )\n",
       "      )\n",
       "      (13): Upsample(scale_factor=2.0, mode='nearest')\n",
       "      (14): Concat()\n",
       "      (15): C2f(\n",
       "        (cv1): Conv(\n",
       "          (conv): Conv2d(576, 192, kernel_size=(1, 1), stride=(1, 1))\n",
       "          (act): SiLU(inplace=True)\n",
       "        )\n",
       "        (cv2): Conv(\n",
       "          (conv): Conv2d(384, 192, kernel_size=(1, 1), stride=(1, 1))\n",
       "          (act): SiLU(inplace=True)\n",
       "        )\n",
       "        (m): ModuleList(\n",
       "          (0-1): 2 x Bottleneck(\n",
       "            (cv1): Conv(\n",
       "              (conv): Conv2d(96, 96, kernel_size=(3, 3), stride=(1, 1), padding=(1, 1))\n",
       "              (act): SiLU(inplace=True)\n",
       "            )\n",
       "            (cv2): Conv(\n",
       "              (conv): Conv2d(96, 96, kernel_size=(3, 3), stride=(1, 1), padding=(1, 1))\n",
       "              (act): SiLU(inplace=True)\n",
       "            )\n",
       "          )\n",
       "        )\n",
       "      )\n",
       "      (16): Conv(\n",
       "        (conv): Conv2d(192, 192, kernel_size=(3, 3), stride=(2, 2), padding=(1, 1))\n",
       "        (act): SiLU(inplace=True)\n",
       "      )\n",
       "      (17): Concat()\n",
       "      (18): C2f(\n",
       "        (cv1): Conv(\n",
       "          (conv): Conv2d(576, 384, kernel_size=(1, 1), stride=(1, 1))\n",
       "          (act): SiLU(inplace=True)\n",
       "        )\n",
       "        (cv2): Conv(\n",
       "          (conv): Conv2d(768, 384, kernel_size=(1, 1), stride=(1, 1))\n",
       "          (act): SiLU(inplace=True)\n",
       "        )\n",
       "        (m): ModuleList(\n",
       "          (0-1): 2 x Bottleneck(\n",
       "            (cv1): Conv(\n",
       "              (conv): Conv2d(192, 192, kernel_size=(3, 3), stride=(1, 1), padding=(1, 1))\n",
       "              (act): SiLU(inplace=True)\n",
       "            )\n",
       "            (cv2): Conv(\n",
       "              (conv): Conv2d(192, 192, kernel_size=(3, 3), stride=(1, 1), padding=(1, 1))\n",
       "              (act): SiLU(inplace=True)\n",
       "            )\n",
       "          )\n",
       "        )\n",
       "      )\n",
       "      (19): Conv(\n",
       "        (conv): Conv2d(384, 384, kernel_size=(3, 3), stride=(2, 2), padding=(1, 1))\n",
       "        (act): SiLU(inplace=True)\n",
       "      )\n",
       "      (20): Concat()\n",
       "      (21): C2f(\n",
       "        (cv1): Conv(\n",
       "          (conv): Conv2d(960, 576, kernel_size=(1, 1), stride=(1, 1))\n",
       "          (act): SiLU(inplace=True)\n",
       "        )\n",
       "        (cv2): Conv(\n",
       "          (conv): Conv2d(1152, 576, kernel_size=(1, 1), stride=(1, 1))\n",
       "          (act): SiLU(inplace=True)\n",
       "        )\n",
       "        (m): ModuleList(\n",
       "          (0-1): 2 x Bottleneck(\n",
       "            (cv1): Conv(\n",
       "              (conv): Conv2d(288, 288, kernel_size=(3, 3), stride=(1, 1), padding=(1, 1))\n",
       "              (act): SiLU(inplace=True)\n",
       "            )\n",
       "            (cv2): Conv(\n",
       "              (conv): Conv2d(288, 288, kernel_size=(3, 3), stride=(1, 1), padding=(1, 1))\n",
       "              (act): SiLU(inplace=True)\n",
       "            )\n",
       "          )\n",
       "        )\n",
       "      )\n",
       "      (22): Detect(\n",
       "        (cv2): ModuleList(\n",
       "          (0): Sequential(\n",
       "            (0): Conv(\n",
       "              (conv): Conv2d(192, 64, kernel_size=(3, 3), stride=(1, 1), padding=(1, 1))\n",
       "              (act): SiLU(inplace=True)\n",
       "            )\n",
       "            (1): Conv(\n",
       "              (conv): Conv2d(64, 64, kernel_size=(3, 3), stride=(1, 1), padding=(1, 1))\n",
       "              (act): SiLU(inplace=True)\n",
       "            )\n",
       "            (2): Conv2d(64, 64, kernel_size=(1, 1), stride=(1, 1))\n",
       "          )\n",
       "          (1): Sequential(\n",
       "            (0): Conv(\n",
       "              (conv): Conv2d(384, 64, kernel_size=(3, 3), stride=(1, 1), padding=(1, 1))\n",
       "              (act): SiLU(inplace=True)\n",
       "            )\n",
       "            (1): Conv(\n",
       "              (conv): Conv2d(64, 64, kernel_size=(3, 3), stride=(1, 1), padding=(1, 1))\n",
       "              (act): SiLU(inplace=True)\n",
       "            )\n",
       "            (2): Conv2d(64, 64, kernel_size=(1, 1), stride=(1, 1))\n",
       "          )\n",
       "          (2): Sequential(\n",
       "            (0): Conv(\n",
       "              (conv): Conv2d(576, 64, kernel_size=(3, 3), stride=(1, 1), padding=(1, 1))\n",
       "              (act): SiLU(inplace=True)\n",
       "            )\n",
       "            (1): Conv(\n",
       "              (conv): Conv2d(64, 64, kernel_size=(3, 3), stride=(1, 1), padding=(1, 1))\n",
       "              (act): SiLU(inplace=True)\n",
       "            )\n",
       "            (2): Conv2d(64, 64, kernel_size=(1, 1), stride=(1, 1))\n",
       "          )\n",
       "        )\n",
       "        (cv3): ModuleList(\n",
       "          (0): Sequential(\n",
       "            (0): Conv(\n",
       "              (conv): Conv2d(192, 192, kernel_size=(3, 3), stride=(1, 1), padding=(1, 1))\n",
       "              (act): SiLU(inplace=True)\n",
       "            )\n",
       "            (1): Conv(\n",
       "              (conv): Conv2d(192, 192, kernel_size=(3, 3), stride=(1, 1), padding=(1, 1))\n",
       "              (act): SiLU(inplace=True)\n",
       "            )\n",
       "            (2): Conv2d(192, 10, kernel_size=(1, 1), stride=(1, 1))\n",
       "          )\n",
       "          (1): Sequential(\n",
       "            (0): Conv(\n",
       "              (conv): Conv2d(384, 192, kernel_size=(3, 3), stride=(1, 1), padding=(1, 1))\n",
       "              (act): SiLU(inplace=True)\n",
       "            )\n",
       "            (1): Conv(\n",
       "              (conv): Conv2d(192, 192, kernel_size=(3, 3), stride=(1, 1), padding=(1, 1))\n",
       "              (act): SiLU(inplace=True)\n",
       "            )\n",
       "            (2): Conv2d(192, 10, kernel_size=(1, 1), stride=(1, 1))\n",
       "          )\n",
       "          (2): Sequential(\n",
       "            (0): Conv(\n",
       "              (conv): Conv2d(576, 192, kernel_size=(3, 3), stride=(1, 1), padding=(1, 1))\n",
       "              (act): SiLU(inplace=True)\n",
       "            )\n",
       "            (1): Conv(\n",
       "              (conv): Conv2d(192, 192, kernel_size=(3, 3), stride=(1, 1), padding=(1, 1))\n",
       "              (act): SiLU(inplace=True)\n",
       "            )\n",
       "            (2): Conv2d(192, 10, kernel_size=(1, 1), stride=(1, 1))\n",
       "          )\n",
       "        )\n",
       "        (dfl): DFL(\n",
       "          (conv): Conv2d(16, 1, kernel_size=(1, 1), stride=(1, 1), bias=False)\n",
       "        )\n",
       "      )\n",
       "    )\n",
       "  )\n",
       ")"
      ]
     },
     "execution_count": 10,
     "metadata": {},
     "output_type": "execute_result"
    }
   ],
   "source": [
    "# Cargar el modelo entrenado para hacer predicciones\n",
    "# model_fine_tuned_test = YOLO(\"../f1-strategy/weights/f1_detection_fine_tuned_best.pt\")\n",
    "# model_fine_tuned_test.to(DEVICE)\n",
    "model_fine_tuned_2_test = YOLO(\n",
    "    \"../f1-strategy/weights/f1_detection_fine_tuned_best_2.pt\")\n",
    "\n",
    "model_fine_tuned_2_test.to(DEVICE)"
   ]
  },
  {
   "cell_type": "code",
   "execution_count": null,
   "metadata": {},
   "outputs": [
    {
     "name": "stdout",
     "output_type": "stream",
     "text": [
      "\n",
      "image 1/11 c:\\Users\\victo\\Desktop\\Documents\\Tercer ao\\Segundo Cuatrimestre\\Finales\\scripts\\..\\f1-strategy\\f1-dataset\\test\\images\\1-2023-Brazilian-GP-FP1-21_jpg.rf.e0a6d6d14a2b145d1285111d65dcf969.jpg: 640x640 1 Ferarri, 119.3ms\n",
      "image 2/11 c:\\Users\\victo\\Desktop\\Documents\\Tercer ao\\Segundo Cuatrimestre\\Finales\\scripts\\..\\f1-strategy\\f1-dataset\\test\\images\\1019924227-LAT-20231105-GP2320_143500SMG_2193-747_jpg.rf.cd24225e35180d6a3ede83dfb291abea.jpg: 640x640 3 Williamss, 13.4ms\n",
      "image 3/11 c:\\Users\\victo\\Desktop\\Documents\\Tercer ao\\Segundo Cuatrimestre\\Finales\\scripts\\..\\f1-strategy\\f1-dataset\\test\\images\\13-sunday-mexicocity-2023_jpg.rf.9fb9bf359354501321e3dbd03e75d0d6.jpg: 640x640 2 Racing Bullss, 1 Aston Martin, 11.8ms\n",
      "image 4/11 c:\\Users\\victo\\Desktop\\Documents\\Tercer ao\\Segundo Cuatrimestre\\Finales\\scripts\\..\\f1-strategy\\f1-dataset\\test\\images\\Ferraritop_jpg.rf.2986765a7cdb43c522f47262e9e4b1ab.jpg: 640x640 1 Ferarri, 13.5ms\n",
      "image 5/11 c:\\Users\\victo\\Desktop\\Documents\\Tercer ao\\Segundo Cuatrimestre\\Finales\\scripts\\..\\f1-strategy\\f1-dataset\\test\\images\\atbacl_jpg.rf.a5f559982c9977a9dd4944ba25157191.jpg: 640x640 1 Racing Bulls, 16.1ms\n",
      "image 6/11 c:\\Users\\victo\\Desktop\\Documents\\Tercer ao\\Segundo Cuatrimestre\\Finales\\scripts\\..\\f1-strategy\\f1-dataset\\test\\images\\frontside_jpg.rf.7c74ea6652d134b294e4f876d13517ce.jpg: 640x640 1 Williams, 14.3ms\n",
      "image 7/11 c:\\Users\\victo\\Desktop\\Documents\\Tercer ao\\Segundo Cuatrimestre\\Finales\\scripts\\..\\f1-strategy\\f1-dataset\\test\\images\\lowprofileAR_jpg.rf.28710b56c53ea202a7d7ce7df7cb3ad4.jpg: 640x640 1 Mercedes, 14.9ms\n",
      "image 8/11 c:\\Users\\victo\\Desktop\\Documents\\Tercer ao\\Segundo Cuatrimestre\\Finales\\scripts\\..\\f1-strategy\\f1-dataset\\test\\images\\m404125_jpg.rf.fafa711c48f08720af31bc6667e93428.jpg: 640x640 1 Aston Martin, 7.1ms\n",
      "image 9/11 c:\\Users\\victo\\Desktop\\Documents\\Tercer ao\\Segundo Cuatrimestre\\Finales\\scripts\\..\\f1-strategy\\f1-dataset\\test\\images\\mclarentfrontside_jpg.rf.672dfe2daba2a832744a238ddcd824d4.jpg: 640x640 1 Racing Bulls, 12.8ms\n",
      "image 10/11 c:\\Users\\victo\\Desktop\\Documents\\Tercer ao\\Segundo Cuatrimestre\\Finales\\scripts\\..\\f1-strategy\\f1-dataset\\test\\images\\rbfullside_jpg.rf.24fcc0caff1ddb59697ea96006bcd93a.jpg: 640x640 1 Red Bull, 12.2ms\n",
      "image 11/11 c:\\Users\\victo\\Desktop\\Documents\\Tercer ao\\Segundo Cuatrimestre\\Finales\\scripts\\..\\f1-strategy\\f1-dataset\\test\\images\\siderightat_jpg.rf.006445f880bb837e2f454d34739750f5.jpg: 640x640 1 Racing Bulls, 10.9ms\n",
      "Speed: 1.7ms preprocess, 22.4ms inference, 2.7ms postprocess per image at shape (1, 3, 640, 640)\n",
      "Results saved to \u001b[1mruns\\detect\\predict3\u001b[0m\n"
     ]
    }
   ],
   "source": [
    "# Evaluar en el conjunto de prueba\n",
    "test_results = model_fine_tuned_2_test.predict(\n",
    "    source=\"../f1-strategy/f1-dataset/test/images\", save=True)"
   ]
  },
  {
   "cell_type": "code",
   "execution_count": null,
   "metadata": {},
   "outputs": [
    {
     "name": "stdout",
     "output_type": "stream",
     "text": [
      "[ultralytics.engine.results.Results object with attributes:\n",
      "\n",
      "boxes: ultralytics.engine.results.Boxes object\n",
      "keypoints: None\n",
      "masks: None\n",
      "names: {0: 'Kick Sauber', 1: 'Racing Bulls', 2: 'Alpine', 3: 'Aston Martin', 4: 'Ferarri', 5: 'Haas', 6: 'Mclaren', 7: 'Mercedes', 8: 'Red Bull', 9: 'Williams'}\n",
      "obb: None\n",
      "orig_img: array([[[ 32,  39,  12],\n",
      "        [ 35,  42,  15],\n",
      "        [ 47,  52,  25],\n",
      "        ...,\n",
      "        [233, 220, 222],\n",
      "        [233, 220, 222],\n",
      "        [233, 220, 222]],\n",
      "\n",
      "       [[ 30,  37,  10],\n",
      "        [ 32,  39,  12],\n",
      "        [ 42,  47,  20],\n",
      "        ...,\n",
      "        [234, 221, 223],\n",
      "        [233, 220, 222],\n",
      "        [233, 220, 222]],\n",
      "\n",
      "       [[ 26,  33,   6],\n",
      "        [ 28,  35,   8],\n",
      "        [ 36,  40,  15],\n",
      "        ...,\n",
      "        [234, 221, 223],\n",
      "        [234, 221, 223],\n",
      "        [233, 220, 222]],\n",
      "\n",
      "       ...,\n",
      "\n",
      "       [[ 29,  88,  67],\n",
      "        [ 27,  89,  65],\n",
      "        [ 27,  89,  67],\n",
      "        ...,\n",
      "        [136, 145, 154],\n",
      "        [135, 144, 153],\n",
      "        [134, 143, 152]],\n",
      "\n",
      "       [[ 30,  92,  68],\n",
      "        [ 28,  93,  67],\n",
      "        [ 27,  92,  67],\n",
      "        ...,\n",
      "        [137, 146, 155],\n",
      "        [137, 146, 155],\n",
      "        [137, 146, 155]],\n",
      "\n",
      "       [[ 29,  94,  68],\n",
      "        [ 29,  94,  68],\n",
      "        [ 27,  94,  67],\n",
      "        ...,\n",
      "        [134, 143, 152],\n",
      "        [134, 143, 152],\n",
      "        [134, 143, 152]]], dtype=uint8)\n",
      "orig_shape: (640, 640)\n",
      "path: 'c:\\\\Users\\\\victo\\\\Desktop\\\\Documents\\\\Tercer año\\\\Segundo Cuatrimestre\\\\Finales\\\\scripts\\\\..\\\\f1-strategy\\\\f1-dataset\\\\test\\\\images\\\\1-2023-Brazilian-GP-FP1-21_jpg.rf.e0a6d6d14a2b145d1285111d65dcf969.jpg'\n",
      "probs: None\n",
      "save_dir: 'runs\\\\detect\\\\predict3'\n",
      "speed: {'preprocess': 0.0, 'inference': 119.28033828735352, 'postprocess': 6.9580078125}, ultralytics.engine.results.Results object with attributes:\n",
      "\n",
      "boxes: ultralytics.engine.results.Boxes object\n",
      "keypoints: None\n",
      "masks: None\n",
      "names: {0: 'Kick Sauber', 1: 'Racing Bulls', 2: 'Alpine', 3: 'Aston Martin', 4: 'Ferarri', 5: 'Haas', 6: 'Mclaren', 7: 'Mercedes', 8: 'Red Bull', 9: 'Williams'}\n",
      "obb: None\n",
      "orig_img: array([[[222, 180, 143],\n",
      "        [222, 180, 143],\n",
      "        [222, 180, 143],\n",
      "        ...,\n",
      "        [226, 186, 144],\n",
      "        [226, 186, 144],\n",
      "        [226, 186, 144]],\n",
      "\n",
      "       [[222, 180, 143],\n",
      "        [222, 180, 143],\n",
      "        [222, 180, 143],\n",
      "        ...,\n",
      "        [226, 186, 144],\n",
      "        [226, 186, 144],\n",
      "        [226, 186, 144]],\n",
      "\n",
      "       [[222, 180, 143],\n",
      "        [222, 180, 143],\n",
      "        [222, 180, 143],\n",
      "        ...,\n",
      "        [226, 186, 144],\n",
      "        [226, 186, 144],\n",
      "        [226, 186, 144]],\n",
      "\n",
      "       ...,\n",
      "\n",
      "       [[ 61,  62,  58],\n",
      "        [ 61,  62,  58],\n",
      "        [ 61,  62,  58],\n",
      "        ...,\n",
      "        [115, 192,  64],\n",
      "        [115, 192,  64],\n",
      "        [115, 193,  62]],\n",
      "\n",
      "       [[ 62,  58,  57],\n",
      "        [ 62,  58,  57],\n",
      "        [ 63,  58,  57],\n",
      "        ...,\n",
      "        [111, 195,  59],\n",
      "        [111, 195,  59],\n",
      "        [111, 196,  58]],\n",
      "\n",
      "       [[ 65,  59,  60],\n",
      "        [ 65,  59,  60],\n",
      "        [ 67,  59,  60],\n",
      "        ...,\n",
      "        [110, 196,  58],\n",
      "        [110, 197,  57],\n",
      "        [110, 197,  57]]], dtype=uint8)\n",
      "orig_shape: (640, 640)\n",
      "path: 'c:\\\\Users\\\\victo\\\\Desktop\\\\Documents\\\\Tercer año\\\\Segundo Cuatrimestre\\\\Finales\\\\scripts\\\\..\\\\f1-strategy\\\\f1-dataset\\\\test\\\\images\\\\1019924227-LAT-20231105-GP2320_143500SMG_2193-747_jpg.rf.cd24225e35180d6a3ede83dfb291abea.jpg'\n",
      "probs: None\n",
      "save_dir: 'runs\\\\detect\\\\predict3'\n",
      "speed: {'preprocess': 3.444671630859375, 'inference': 13.423442840576172, 'postprocess': 8.490562438964844}, ultralytics.engine.results.Results object with attributes:\n",
      "\n",
      "boxes: ultralytics.engine.results.Boxes object\n",
      "keypoints: None\n",
      "masks: None\n",
      "names: {0: 'Kick Sauber', 1: 'Racing Bulls', 2: 'Alpine', 3: 'Aston Martin', 4: 'Ferarri', 5: 'Haas', 6: 'Mclaren', 7: 'Mercedes', 8: 'Red Bull', 9: 'Williams'}\n",
      "obb: None\n",
      "orig_img: array([[[ 54,  52,  52],\n",
      "        [ 54,  52,  52],\n",
      "        [ 54,  52,  52],\n",
      "        ...,\n",
      "        [ 37,  35,  35],\n",
      "        [ 37,  35,  35],\n",
      "        [ 37,  35,  35]],\n",
      "\n",
      "       [[ 54,  52,  52],\n",
      "        [ 54,  52,  52],\n",
      "        [ 54,  52,  52],\n",
      "        ...,\n",
      "        [ 37,  35,  35],\n",
      "        [ 37,  35,  35],\n",
      "        [ 37,  35,  35]],\n",
      "\n",
      "       [[ 54,  52,  52],\n",
      "        [ 54,  52,  52],\n",
      "        [ 54,  52,  52],\n",
      "        ...,\n",
      "        [ 37,  35,  35],\n",
      "        [ 37,  35,  35],\n",
      "        [ 37,  35,  35]],\n",
      "\n",
      "       ...,\n",
      "\n",
      "       [[ 84,  87,  91],\n",
      "        [ 84,  87,  91],\n",
      "        [ 84,  87,  91],\n",
      "        ...,\n",
      "        [195, 198, 196],\n",
      "        [190, 193, 191],\n",
      "        [187, 190, 188]],\n",
      "\n",
      "       [[ 84,  87,  91],\n",
      "        [ 84,  87,  91],\n",
      "        [ 84,  87,  91],\n",
      "        ...,\n",
      "        [190, 194, 189],\n",
      "        [185, 189, 184],\n",
      "        [182, 186, 181]],\n",
      "\n",
      "       [[ 84,  87,  91],\n",
      "        [ 84,  87,  91],\n",
      "        [ 84,  87,  91],\n",
      "        ...,\n",
      "        [186, 190, 185],\n",
      "        [181, 185, 180],\n",
      "        [178, 182, 177]]], dtype=uint8)\n",
      "orig_shape: (640, 640)\n",
      "path: 'c:\\\\Users\\\\victo\\\\Desktop\\\\Documents\\\\Tercer año\\\\Segundo Cuatrimestre\\\\Finales\\\\scripts\\\\..\\\\f1-strategy\\\\f1-dataset\\\\test\\\\images\\\\13-sunday-mexicocity-2023_jpg.rf.9fb9bf359354501321e3dbd03e75d0d6.jpg'\n",
      "probs: None\n",
      "save_dir: 'runs\\\\detect\\\\predict3'\n",
      "speed: {'preprocess': 1.7650127410888672, 'inference': 11.795997619628906, 'postprocess': 4.135847091674805}, ultralytics.engine.results.Results object with attributes:\n",
      "\n",
      "boxes: ultralytics.engine.results.Boxes object\n",
      "keypoints: None\n",
      "masks: None\n",
      "names: {0: 'Kick Sauber', 1: 'Racing Bulls', 2: 'Alpine', 3: 'Aston Martin', 4: 'Ferarri', 5: 'Haas', 6: 'Mclaren', 7: 'Mercedes', 8: 'Red Bull', 9: 'Williams'}\n",
      "obb: None\n",
      "orig_img: array([[[ 20,  21,  19],\n",
      "        [ 26,  27,  25],\n",
      "        [ 32,  33,  31],\n",
      "        ...,\n",
      "        [ 49,  86, 108],\n",
      "        [ 48,  85, 107],\n",
      "        [ 47,  84, 106]],\n",
      "\n",
      "       [[  7,   8,   6],\n",
      "        [ 10,  11,   9],\n",
      "        [ 14,  15,  13],\n",
      "        ...,\n",
      "        [ 45,  80, 100],\n",
      "        [ 44,  79,  99],\n",
      "        [ 43,  78,  98]],\n",
      "\n",
      "       [[  0,   1,   1],\n",
      "        [  0,   0,   0],\n",
      "        [  0,   1,   1],\n",
      "        ...,\n",
      "        [ 46,  78,  97],\n",
      "        [ 46,  78,  97],\n",
      "        [ 45,  77,  96]],\n",
      "\n",
      "       ...,\n",
      "\n",
      "       [[ 45,  49,  43],\n",
      "        [ 45,  49,  43],\n",
      "        [ 45,  49,  43],\n",
      "        ...,\n",
      "        [ 77,  86,  96],\n",
      "        [ 77,  86,  96],\n",
      "        [ 78,  87,  97]],\n",
      "\n",
      "       [[ 44,  48,  42],\n",
      "        [ 44,  48,  42],\n",
      "        [ 44,  48,  42],\n",
      "        ...,\n",
      "        [ 75,  84,  94],\n",
      "        [ 76,  85,  95],\n",
      "        [ 77,  86,  96]],\n",
      "\n",
      "       [[ 44,  48,  42],\n",
      "        [ 44,  48,  42],\n",
      "        [ 44,  48,  42],\n",
      "        ...,\n",
      "        [ 71,  80,  90],\n",
      "        [ 72,  81,  91],\n",
      "        [ 74,  83,  93]]], dtype=uint8)\n",
      "orig_shape: (640, 640)\n",
      "path: 'c:\\\\Users\\\\victo\\\\Desktop\\\\Documents\\\\Tercer año\\\\Segundo Cuatrimestre\\\\Finales\\\\scripts\\\\..\\\\f1-strategy\\\\f1-dataset\\\\test\\\\images\\\\Ferraritop_jpg.rf.2986765a7cdb43c522f47262e9e4b1ab.jpg'\n",
      "probs: None\n",
      "save_dir: 'runs\\\\detect\\\\predict3'\n",
      "speed: {'preprocess': 2.6810169219970703, 'inference': 13.450860977172852, 'postprocess': 1.0001659393310547}, ultralytics.engine.results.Results object with attributes:\n",
      "\n",
      "boxes: ultralytics.engine.results.Boxes object\n",
      "keypoints: None\n",
      "masks: None\n",
      "names: {0: 'Kick Sauber', 1: 'Racing Bulls', 2: 'Alpine', 3: 'Aston Martin', 4: 'Ferarri', 5: 'Haas', 6: 'Mclaren', 7: 'Mercedes', 8: 'Red Bull', 9: 'Williams'}\n",
      "obb: None\n",
      "orig_img: array([[[ 57,  67, 137],\n",
      "        [ 57,  67, 137],\n",
      "        [ 57,  66, 139],\n",
      "        ...,\n",
      "        [ 50,  43, 212],\n",
      "        [ 50,  42, 213],\n",
      "        [ 50,  42, 213]],\n",
      "\n",
      "       [[ 57,  66, 139],\n",
      "        [ 58,  67, 140],\n",
      "        [ 58,  67, 141],\n",
      "        ...,\n",
      "        [ 49,  42, 211],\n",
      "        [ 50,  42, 213],\n",
      "        [ 50,  42, 213]],\n",
      "\n",
      "       [[ 60,  66, 143],\n",
      "        [ 61,  67, 144],\n",
      "        [ 61,  66, 145],\n",
      "        ...,\n",
      "        [ 49,  42, 211],\n",
      "        [ 49,  42, 211],\n",
      "        [ 50,  43, 212]],\n",
      "\n",
      "       ...,\n",
      "\n",
      "       [[246, 216, 105],\n",
      "        [246, 216, 105],\n",
      "        [245, 215, 104],\n",
      "        ...,\n",
      "        [247, 228, 213],\n",
      "        [247, 228, 215],\n",
      "        [248, 229, 216]],\n",
      "\n",
      "       [[245, 215, 104],\n",
      "        [245, 215, 104],\n",
      "        [244, 214, 103],\n",
      "        ...,\n",
      "        [237, 216, 201],\n",
      "        [238, 216, 204],\n",
      "        [238, 216, 204]],\n",
      "\n",
      "       [[244, 214, 103],\n",
      "        [244, 214, 103],\n",
      "        [243, 213, 102],\n",
      "        ...,\n",
      "        [228, 207, 192],\n",
      "        [228, 206, 194],\n",
      "        [229, 207, 195]]], dtype=uint8)\n",
      "orig_shape: (640, 640)\n",
      "path: 'c:\\\\Users\\\\victo\\\\Desktop\\\\Documents\\\\Tercer año\\\\Segundo Cuatrimestre\\\\Finales\\\\scripts\\\\..\\\\f1-strategy\\\\f1-dataset\\\\test\\\\images\\\\atbacl_jpg.rf.a5f559982c9977a9dd4944ba25157191.jpg'\n",
      "probs: None\n",
      "save_dir: 'runs\\\\detect\\\\predict3'\n",
      "speed: {'preprocess': 0.0, 'inference': 16.060829162597656, 'postprocess': 1.6307830810546875}, ultralytics.engine.results.Results object with attributes:\n",
      "\n",
      "boxes: ultralytics.engine.results.Boxes object\n",
      "keypoints: None\n",
      "masks: None\n",
      "names: {0: 'Kick Sauber', 1: 'Racing Bulls', 2: 'Alpine', 3: 'Aston Martin', 4: 'Ferarri', 5: 'Haas', 6: 'Mclaren', 7: 'Mercedes', 8: 'Red Bull', 9: 'Williams'}\n",
      "obb: None\n",
      "orig_img: array([[[ 27,  57,  52],\n",
      "        [ 28,  58,  53],\n",
      "        [ 30,  60,  55],\n",
      "        ...,\n",
      "        [132, 130, 130],\n",
      "        [131, 129, 129],\n",
      "        [131, 129, 129]],\n",
      "\n",
      "       [[ 26,  56,  51],\n",
      "        [ 27,  57,  52],\n",
      "        [ 29,  59,  54],\n",
      "        ...,\n",
      "        [134, 132, 132],\n",
      "        [134, 132, 132],\n",
      "        [133, 131, 131]],\n",
      "\n",
      "       [[ 25,  55,  50],\n",
      "        [ 26,  56,  51],\n",
      "        [ 28,  58,  53],\n",
      "        ...,\n",
      "        [138, 136, 136],\n",
      "        [137, 135, 135],\n",
      "        [137, 135, 135]],\n",
      "\n",
      "       ...,\n",
      "\n",
      "       [[139, 141, 142],\n",
      "        [138, 140, 141],\n",
      "        [138, 140, 141],\n",
      "        ...,\n",
      "        [129, 127, 127],\n",
      "        [133, 131, 131],\n",
      "        [136, 134, 134]],\n",
      "\n",
      "       [[139, 141, 142],\n",
      "        [139, 141, 142],\n",
      "        [138, 140, 141],\n",
      "        ...,\n",
      "        [121, 119, 119],\n",
      "        [124, 122, 122],\n",
      "        [128, 126, 126]],\n",
      "\n",
      "       [[136, 138, 139],\n",
      "        [137, 139, 140],\n",
      "        [138, 140, 141],\n",
      "        ...,\n",
      "        [130, 128, 128],\n",
      "        [132, 130, 130],\n",
      "        [136, 134, 134]]], dtype=uint8)\n",
      "orig_shape: (640, 640)\n",
      "path: 'c:\\\\Users\\\\victo\\\\Desktop\\\\Documents\\\\Tercer año\\\\Segundo Cuatrimestre\\\\Finales\\\\scripts\\\\..\\\\f1-strategy\\\\f1-dataset\\\\test\\\\images\\\\frontside_jpg.rf.7c74ea6652d134b294e4f876d13517ce.jpg'\n",
      "probs: None\n",
      "save_dir: 'runs\\\\detect\\\\predict3'\n",
      "speed: {'preprocess': 2.724170684814453, 'inference': 14.325380325317383, 'postprocess': 1.360177993774414}, ultralytics.engine.results.Results object with attributes:\n",
      "\n",
      "boxes: ultralytics.engine.results.Boxes object\n",
      "keypoints: None\n",
      "masks: None\n",
      "names: {0: 'Kick Sauber', 1: 'Racing Bulls', 2: 'Alpine', 3: 'Aston Martin', 4: 'Ferarri', 5: 'Haas', 6: 'Mclaren', 7: 'Mercedes', 8: 'Red Bull', 9: 'Williams'}\n",
      "obb: None\n",
      "orig_img: array([[[ 31,  30,  34],\n",
      "        [ 31,  30,  34],\n",
      "        [ 32,  31,  35],\n",
      "        ...,\n",
      "        [ 72,  61,  53],\n",
      "        [ 72,  61,  53],\n",
      "        [ 72,  61,  53]],\n",
      "\n",
      "       [[ 30,  29,  33],\n",
      "        [ 31,  30,  34],\n",
      "        [ 31,  30,  34],\n",
      "        ...,\n",
      "        [ 72,  61,  53],\n",
      "        [ 72,  61,  53],\n",
      "        [ 72,  61,  53]],\n",
      "\n",
      "       [[ 28,  30,  31],\n",
      "        [ 29,  31,  32],\n",
      "        [ 30,  32,  33],\n",
      "        ...,\n",
      "        [ 72,  61,  53],\n",
      "        [ 72,  61,  53],\n",
      "        [ 72,  61,  53]],\n",
      "\n",
      "       ...,\n",
      "\n",
      "       [[ 62,  55, 200],\n",
      "        [ 62,  55, 200],\n",
      "        [ 62,  55, 200],\n",
      "        ...,\n",
      "        [ 61,  52, 196],\n",
      "        [ 61,  52, 196],\n",
      "        [ 61,  52, 196]],\n",
      "\n",
      "       [[ 62,  55, 200],\n",
      "        [ 62,  55, 200],\n",
      "        [ 62,  55, 200],\n",
      "        ...,\n",
      "        [ 61,  52, 196],\n",
      "        [ 61,  52, 196],\n",
      "        [ 61,  52, 196]],\n",
      "\n",
      "       [[ 62,  55, 200],\n",
      "        [ 62,  55, 200],\n",
      "        [ 62,  55, 200],\n",
      "        ...,\n",
      "        [ 61,  52, 196],\n",
      "        [ 61,  52, 196],\n",
      "        [ 61,  52, 196]]], dtype=uint8)\n",
      "orig_shape: (640, 640)\n",
      "path: 'c:\\\\Users\\\\victo\\\\Desktop\\\\Documents\\\\Tercer año\\\\Segundo Cuatrimestre\\\\Finales\\\\scripts\\\\..\\\\f1-strategy\\\\f1-dataset\\\\test\\\\images\\\\lowprofileAR_jpg.rf.28710b56c53ea202a7d7ce7df7cb3ad4.jpg'\n",
      "probs: None\n",
      "save_dir: 'runs\\\\detect\\\\predict3'\n",
      "speed: {'preprocess': 1.001596450805664, 'inference': 14.915227890014648, 'postprocess': 0.0}, ultralytics.engine.results.Results object with attributes:\n",
      "\n",
      "boxes: ultralytics.engine.results.Boxes object\n",
      "keypoints: None\n",
      "masks: None\n",
      "names: {0: 'Kick Sauber', 1: 'Racing Bulls', 2: 'Alpine', 3: 'Aston Martin', 4: 'Ferarri', 5: 'Haas', 6: 'Mclaren', 7: 'Mercedes', 8: 'Red Bull', 9: 'Williams'}\n",
      "obb: None\n",
      "orig_img: array([[[ 34,  27,  30],\n",
      "        [ 34,  27,  30],\n",
      "        [ 34,  27,  30],\n",
      "        ...,\n",
      "        [ 85,  71,  73],\n",
      "        [ 79,  65,  67],\n",
      "        [ 74,  60,  62]],\n",
      "\n",
      "       [[ 34,  27,  30],\n",
      "        [ 34,  27,  30],\n",
      "        [ 34,  27,  30],\n",
      "        ...,\n",
      "        [ 74,  60,  62],\n",
      "        [ 68,  54,  56],\n",
      "        [ 64,  50,  52]],\n",
      "\n",
      "       [[ 34,  27,  30],\n",
      "        [ 34,  27,  30],\n",
      "        [ 34,  27,  30],\n",
      "        ...,\n",
      "        [ 61,  47,  49],\n",
      "        [ 56,  42,  44],\n",
      "        [ 53,  39,  41]],\n",
      "\n",
      "       ...,\n",
      "\n",
      "       [[154,  98,  39],\n",
      "        [154,  98,  39],\n",
      "        [154,  98,  39],\n",
      "        ...,\n",
      "        [174, 173, 175],\n",
      "        [174, 173, 175],\n",
      "        [174, 173, 175]],\n",
      "\n",
      "       [[154,  97,  41],\n",
      "        [154,  97,  41],\n",
      "        [156,  97,  41],\n",
      "        ...,\n",
      "        [174, 173, 175],\n",
      "        [174, 173, 175],\n",
      "        [174, 173, 175]],\n",
      "\n",
      "       [[154,  97,  41],\n",
      "        [154,  97,  41],\n",
      "        [156,  97,  41],\n",
      "        ...,\n",
      "        [174, 173, 175],\n",
      "        [174, 173, 175],\n",
      "        [174, 173, 175]]], dtype=uint8)\n",
      "orig_shape: (640, 640)\n",
      "path: 'c:\\\\Users\\\\victo\\\\Desktop\\\\Documents\\\\Tercer año\\\\Segundo Cuatrimestre\\\\Finales\\\\scripts\\\\..\\\\f1-strategy\\\\f1-dataset\\\\test\\\\images\\\\m404125_jpg.rf.fafa711c48f08720af31bc6667e93428.jpg'\n",
      "probs: None\n",
      "save_dir: 'runs\\\\detect\\\\predict3'\n",
      "speed: {'preprocess': 2.3441314697265625, 'inference': 7.060050964355469, 'postprocess': 0.0}, ultralytics.engine.results.Results object with attributes:\n",
      "\n",
      "boxes: ultralytics.engine.results.Boxes object\n",
      "keypoints: None\n",
      "masks: None\n",
      "names: {0: 'Kick Sauber', 1: 'Racing Bulls', 2: 'Alpine', 3: 'Aston Martin', 4: 'Ferarri', 5: 'Haas', 6: 'Mclaren', 7: 'Mercedes', 8: 'Red Bull', 9: 'Williams'}\n",
      "obb: None\n",
      "orig_img: array([[[226, 210, 194],\n",
      "        [226, 210, 194],\n",
      "        [226, 210, 194],\n",
      "        ...,\n",
      "        [230, 214, 198],\n",
      "        [230, 214, 198],\n",
      "        [230, 214, 198]],\n",
      "\n",
      "       [[226, 210, 194],\n",
      "        [226, 210, 194],\n",
      "        [226, 210, 194],\n",
      "        ...,\n",
      "        [230, 214, 198],\n",
      "        [230, 214, 198],\n",
      "        [230, 214, 198]],\n",
      "\n",
      "       [[226, 210, 194],\n",
      "        [226, 210, 194],\n",
      "        [226, 210, 194],\n",
      "        ...,\n",
      "        [230, 214, 198],\n",
      "        [230, 214, 198],\n",
      "        [230, 214, 198]],\n",
      "\n",
      "       ...,\n",
      "\n",
      "       [[110, 109, 111],\n",
      "        [110, 109, 111],\n",
      "        [110, 109, 111],\n",
      "        ...,\n",
      "        [113, 112, 114],\n",
      "        [112, 111, 113],\n",
      "        [111, 110, 112]],\n",
      "\n",
      "       [[107, 106, 108],\n",
      "        [107, 106, 108],\n",
      "        [108, 107, 109],\n",
      "        ...,\n",
      "        [110, 109, 111],\n",
      "        [108, 107, 109],\n",
      "        [107, 106, 108]],\n",
      "\n",
      "       [[104, 103, 105],\n",
      "        [105, 104, 106],\n",
      "        [106, 105, 107],\n",
      "        ...,\n",
      "        [106, 105, 107],\n",
      "        [105, 104, 106],\n",
      "        [104, 103, 105]]], dtype=uint8)\n",
      "orig_shape: (640, 640)\n",
      "path: 'c:\\\\Users\\\\victo\\\\Desktop\\\\Documents\\\\Tercer año\\\\Segundo Cuatrimestre\\\\Finales\\\\scripts\\\\..\\\\f1-strategy\\\\f1-dataset\\\\test\\\\images\\\\mclarentfrontside_jpg.rf.672dfe2daba2a832744a238ddcd824d4.jpg'\n",
      "probs: None\n",
      "save_dir: 'runs\\\\detect\\\\predict3'\n",
      "speed: {'preprocess': 1.1165142059326172, 'inference': 12.779951095581055, 'postprocess': 1.585245132446289}, ultralytics.engine.results.Results object with attributes:\n",
      "\n",
      "boxes: ultralytics.engine.results.Boxes object\n",
      "keypoints: None\n",
      "masks: None\n",
      "names: {0: 'Kick Sauber', 1: 'Racing Bulls', 2: 'Alpine', 3: 'Aston Martin', 4: 'Ferarri', 5: 'Haas', 6: 'Mclaren', 7: 'Mercedes', 8: 'Red Bull', 9: 'Williams'}\n",
      "obb: None\n",
      "orig_img: array([[[175, 119,  72],\n",
      "        [175, 119,  72],\n",
      "        [175, 119,  72],\n",
      "        ...,\n",
      "        [ 96,  80,  51],\n",
      "        [ 96,  80,  51],\n",
      "        [ 96,  80,  51]],\n",
      "\n",
      "       [[175, 119,  72],\n",
      "        [175, 119,  72],\n",
      "        [175, 119,  72],\n",
      "        ...,\n",
      "        [ 94,  78,  49],\n",
      "        [ 94,  78,  49],\n",
      "        [ 94,  78,  49]],\n",
      "\n",
      "       [[175, 119,  72],\n",
      "        [175, 119,  72],\n",
      "        [175, 119,  72],\n",
      "        ...,\n",
      "        [ 89,  75,  47],\n",
      "        [ 89,  75,  47],\n",
      "        [ 89,  75,  47]],\n",
      "\n",
      "       ...,\n",
      "\n",
      "       [[ 30,  81,  74],\n",
      "        [ 30,  81,  74],\n",
      "        [ 30,  81,  74],\n",
      "        ...,\n",
      "        [ 32,  83,  76],\n",
      "        [ 32,  83,  76],\n",
      "        [ 32,  83,  76]],\n",
      "\n",
      "       [[ 32,  82,  78],\n",
      "        [ 32,  82,  78],\n",
      "        [ 32,  82,  78],\n",
      "        ...,\n",
      "        [ 31,  79,  73],\n",
      "        [ 31,  79,  73],\n",
      "        [ 31,  79,  73]],\n",
      "\n",
      "       [[ 33,  83,  79],\n",
      "        [ 33,  83,  79],\n",
      "        [ 33,  83,  79],\n",
      "        ...,\n",
      "        [ 28,  76,  70],\n",
      "        [ 28,  76,  70],\n",
      "        [ 28,  76,  70]]], dtype=uint8)\n",
      "orig_shape: (640, 640)\n",
      "path: 'c:\\\\Users\\\\victo\\\\Desktop\\\\Documents\\\\Tercer año\\\\Segundo Cuatrimestre\\\\Finales\\\\scripts\\\\..\\\\f1-strategy\\\\f1-dataset\\\\test\\\\images\\\\rbfullside_jpg.rf.24fcc0caff1ddb59697ea96006bcd93a.jpg'\n",
      "probs: None\n",
      "save_dir: 'runs\\\\detect\\\\predict3'\n",
      "speed: {'preprocess': 2.028226852416992, 'inference': 12.221097946166992, 'postprocess': 1.5757083892822266}, ultralytics.engine.results.Results object with attributes:\n",
      "\n",
      "boxes: ultralytics.engine.results.Boxes object\n",
      "keypoints: None\n",
      "masks: None\n",
      "names: {0: 'Kick Sauber', 1: 'Racing Bulls', 2: 'Alpine', 3: 'Aston Martin', 4: 'Ferarri', 5: 'Haas', 6: 'Mclaren', 7: 'Mercedes', 8: 'Red Bull', 9: 'Williams'}\n",
      "obb: None\n",
      "orig_img: array([[[244, 236, 229],\n",
      "        [244, 236, 229],\n",
      "        [244, 236, 229],\n",
      "        ...,\n",
      "        [246, 236, 229],\n",
      "        [246, 236, 229],\n",
      "        [246, 236, 229]],\n",
      "\n",
      "       [[244, 236, 229],\n",
      "        [244, 236, 229],\n",
      "        [244, 236, 229],\n",
      "        ...,\n",
      "        [246, 236, 229],\n",
      "        [246, 236, 229],\n",
      "        [246, 236, 229]],\n",
      "\n",
      "       [[244, 236, 229],\n",
      "        [244, 236, 229],\n",
      "        [244, 236, 229],\n",
      "        ...,\n",
      "        [246, 236, 229],\n",
      "        [246, 236, 229],\n",
      "        [246, 236, 229]],\n",
      "\n",
      "       ...,\n",
      "\n",
      "       [[ 13,  85,  63],\n",
      "        [ 14,  86,  64],\n",
      "        [ 16,  88,  66],\n",
      "        ...,\n",
      "        [ 42, 108,  89],\n",
      "        [ 43, 109,  90],\n",
      "        [ 44, 110,  91]],\n",
      "\n",
      "       [[ 19,  88,  67],\n",
      "        [ 20,  89,  68],\n",
      "        [ 21,  90,  69],\n",
      "        ...,\n",
      "        [ 36, 100,  81],\n",
      "        [ 36, 100,  81],\n",
      "        [ 37, 101,  82]],\n",
      "\n",
      "       [[ 22,  91,  70],\n",
      "        [ 23,  92,  71],\n",
      "        [ 25,  94,  73],\n",
      "        ...,\n",
      "        [ 33,  97,  78],\n",
      "        [ 34,  98,  79],\n",
      "        [ 34,  98,  79]]], dtype=uint8)\n",
      "orig_shape: (640, 640)\n",
      "path: 'c:\\\\Users\\\\victo\\\\Desktop\\\\Documents\\\\Tercer año\\\\Segundo Cuatrimestre\\\\Finales\\\\scripts\\\\..\\\\f1-strategy\\\\f1-dataset\\\\test\\\\images\\\\siderightat_jpg.rf.006445f880bb837e2f454d34739750f5.jpg'\n",
      "probs: None\n",
      "save_dir: 'runs\\\\detect\\\\predict3'\n",
      "speed: {'preprocess': 1.9977092742919922, 'inference': 10.942459106445312, 'postprocess': 2.6216506958007812}]\n"
     ]
    }
   ],
   "source": [
    "# Ver el contenido de test_results\n",
    "print(test_results)"
   ]
  },
  {
   "cell_type": "code",
   "execution_count": null,
   "metadata": {},
   "outputs": [
    {
     "name": "stdout",
     "output_type": "stream",
     "text": [
      "New https://pypi.org/project/ultralytics/8.3.79 available  Update with 'pip install -U ultralytics'\n",
      "Ultralytics 8.3.69  Python-3.10.16 torch-2.5.1+cu124 CUDA:0 (NVIDIA GeForce RTX 4060 Laptop GPU, 8188MiB)\n",
      "\u001b[34m\u001b[1mengine\\trainer: \u001b[0mtask=detect, mode=train, model=../f1-strategy/weights/f1_detection_fine_tuned_best.pt, data=../f1-strategy/f1-dataset/data.yaml, epochs=40, time=None, patience=12, batch=6, imgsz=736, save=True, save_period=5, cache=False, device=None, workers=8, project=../f1-strategy/yolo-files/runs, name=train_cls_focused, exist_ok=True, pretrained=True, optimizer=AdamW, verbose=True, seed=0, deterministic=True, single_cls=False, rect=False, cos_lr=True, close_mosaic=15, resume=False, amp=True, fraction=1.0, profile=False, freeze=None, multi_scale=False, overlap_mask=True, mask_ratio=4, dropout=0.0, val=True, split=val, save_json=False, save_hybrid=False, conf=None, iou=0.5, max_det=300, half=False, dnn=False, plots=True, source=None, vid_stride=1, stream_buffer=False, visualize=False, augment=False, agnostic_nms=False, classes=None, retina_masks=False, embed=None, show=False, save_frames=False, save_txt=False, save_conf=False, save_crop=False, show_labels=True, show_conf=True, show_boxes=True, line_width=None, format=torchscript, keras=False, optimize=False, int8=False, dynamic=False, simplify=True, opset=None, workspace=None, nms=False, lr0=0.0001, lrf=5e-06, momentum=0.937, weight_decay=0.001, warmup_epochs=5, warmup_momentum=0.8, warmup_bias_lr=0.1, box=6.0, cls=5.0, dfl=1.5, pose=12.0, kobj=1.0, nbs=64, hsv_h=0.02, hsv_s=0.8, hsv_v=0.6, degrees=3.0, translate=0.1, scale=0.7, shear=1.5, perspective=0.0003, flipud=0.01, fliplr=0.4, bgr=0.0, mosaic=0.9, mixup=0.15, copy_paste=0.2, copy_paste_mode=flip, auto_augment=randaugment, erasing=0.4, crop_fraction=1.0, cfg=None, tracker=botsort.yaml, save_dir=..\\f1-strategy\\yolo-files\\runs\\train_cls_focused\n",
      "\n",
      "                   from  n    params  module                                       arguments                     \n",
      "  0                  -1  1      1392  ultralytics.nn.modules.conv.Conv             [3, 48, 3, 2]                 \n",
      "  1                  -1  1     41664  ultralytics.nn.modules.conv.Conv             [48, 96, 3, 2]                \n",
      "  2                  -1  2    111360  ultralytics.nn.modules.block.C2f             [96, 96, 2, True]             \n",
      "  3                  -1  1    166272  ultralytics.nn.modules.conv.Conv             [96, 192, 3, 2]               \n",
      "  4                  -1  4    813312  ultralytics.nn.modules.block.C2f             [192, 192, 4, True]           \n",
      "  5                  -1  1    664320  ultralytics.nn.modules.conv.Conv             [192, 384, 3, 2]              \n",
      "  6                  -1  4   3248640  ultralytics.nn.modules.block.C2f             [384, 384, 4, True]           \n",
      "  7                  -1  1   1991808  ultralytics.nn.modules.conv.Conv             [384, 576, 3, 2]              \n",
      "  8                  -1  2   3985920  ultralytics.nn.modules.block.C2f             [576, 576, 2, True]           \n",
      "  9                  -1  1    831168  ultralytics.nn.modules.block.SPPF            [576, 576, 5]                 \n",
      " 10                  -1  1         0  torch.nn.modules.upsampling.Upsample         [None, 2, 'nearest']          \n",
      " 11             [-1, 6]  1         0  ultralytics.nn.modules.conv.Concat           [1]                           \n",
      " 12                  -1  2   1993728  ultralytics.nn.modules.block.C2f             [960, 384, 2]                 \n",
      " 13                  -1  1         0  torch.nn.modules.upsampling.Upsample         [None, 2, 'nearest']          \n",
      " 14             [-1, 4]  1         0  ultralytics.nn.modules.conv.Concat           [1]                           \n",
      " 15                  -1  2    517632  ultralytics.nn.modules.block.C2f             [576, 192, 2]                 \n",
      " 16                  -1  1    332160  ultralytics.nn.modules.conv.Conv             [192, 192, 3, 2]              \n",
      " 17            [-1, 12]  1         0  ultralytics.nn.modules.conv.Concat           [1]                           \n",
      " 18                  -1  2   1846272  ultralytics.nn.modules.block.C2f             [576, 384, 2]                 \n",
      " 19                  -1  1   1327872  ultralytics.nn.modules.conv.Conv             [384, 384, 3, 2]              \n",
      " 20             [-1, 9]  1         0  ultralytics.nn.modules.conv.Concat           [1]                           \n",
      " 21                  -1  2   4207104  ultralytics.nn.modules.block.C2f             [960, 576, 2]                 \n",
      " 22        [15, 18, 21]  1   3781486  ultralytics.nn.modules.head.Detect           [10, [192, 384, 576]]         \n",
      "Model summary: 295 layers, 25,862,110 parameters, 25,862,094 gradients, 79.1 GFLOPs\n",
      "\n",
      "Transferred 90/475 items from pretrained weights\n",
      "Freezing layer 'model.22.dfl.conv.weight'\n",
      "\u001b[34m\u001b[1mAMP: \u001b[0mrunning Automatic Mixed Precision (AMP) checks...\n",
      "\u001b[34m\u001b[1mAMP: \u001b[0mchecks passed \n"
     ]
    },
    {
     "name": "stderr",
     "output_type": "stream",
     "text": [
      "\u001b[34m\u001b[1mtrain: \u001b[0mScanning C:\\Users\\victo\\Desktop\\Documents\\Tercer año\\Segundo Cuatrimestre\\Finales\\f1-strategy\\f1-dataset\\train\\labels.cache... 2500 images, 0 backgrounds, 0 corrupt: 100%|██████████| 2500/2500 [00:00<?, ?it/s]"
     ]
    },
    {
     "name": "stdout",
     "output_type": "stream",
     "text": [
      "\u001b[34m\u001b[1malbumentations: \u001b[0mBlur(p=0.01, blur_limit=(3, 7)), MedianBlur(p=0.01, blur_limit=(3, 7)), ToGray(p=0.01, num_output_channels=3, method='weighted_average'), CLAHE(p=0.01, clip_limit=(1.0, 4.0), tile_grid_size=(8, 8))\n"
     ]
    },
    {
     "name": "stderr",
     "output_type": "stream",
     "text": [
      "\n",
      "\u001b[34m\u001b[1mval: \u001b[0mScanning C:\\Users\\victo\\Desktop\\Documents\\Tercer año\\Segundo Cuatrimestre\\Finales\\f1-strategy\\f1-dataset\\valid\\labels.cache... 20 images, 0 backgrounds, 0 corrupt: 100%|██████████| 20/20 [00:00<?, ?it/s]\n"
     ]
    },
    {
     "name": "stdout",
     "output_type": "stream",
     "text": [
      "Plotting labels to ..\\f1-strategy\\yolo-files\\runs\\train_cls_focused\\labels.jpg... \n",
      "\u001b[34m\u001b[1moptimizer:\u001b[0m AdamW(lr=0.0001, momentum=0.937) with parameter groups 77 weight(decay=0.0), 84 weight(decay=0.00103125), 83 bias(decay=0.0)\n",
      "Image sizes 736 train, 736 val\n",
      "Using 8 dataloader workers\n",
      "Logging results to \u001b[1m..\\f1-strategy\\yolo-files\\runs\\train_cls_focused\u001b[0m\n",
      "Starting training for 40 epochs...\n",
      "\n",
      "      Epoch    GPU_mem   box_loss   cls_loss   dfl_loss  Instances       Size\n"
     ]
    },
    {
     "name": "stderr",
     "output_type": "stream",
     "text": [
      "       1/40      3.74G     0.8985      10.97      1.424          6        736: 100%|██████████| 417/417 [01:33<00:00,  4.46it/s]\n",
      "                 Class     Images  Instances      Box(P          R      mAP50  mAP50-95): 100%|██████████| 2/2 [00:00<00:00,  6.93it/s]"
     ]
    },
    {
     "name": "stdout",
     "output_type": "stream",
     "text": [
      "                   all         20         29       0.54      0.711      0.651      0.535\n"
     ]
    },
    {
     "name": "stderr",
     "output_type": "stream",
     "text": [
      "\n"
     ]
    },
    {
     "name": "stdout",
     "output_type": "stream",
     "text": [
      "\n",
      "      Epoch    GPU_mem   box_loss   cls_loss   dfl_loss  Instances       Size\n"
     ]
    },
    {
     "name": "stderr",
     "output_type": "stream",
     "text": [
      "       2/40      3.93G     0.7586      7.295      1.295          8        736: 100%|██████████| 417/417 [01:27<00:00,  4.77it/s]\n",
      "                 Class     Images  Instances      Box(P          R      mAP50  mAP50-95): 100%|██████████| 2/2 [00:00<00:00,  6.95it/s]"
     ]
    },
    {
     "name": "stdout",
     "output_type": "stream",
     "text": [
      "                   all         20         29       0.48      0.767      0.699      0.542\n"
     ]
    },
    {
     "name": "stderr",
     "output_type": "stream",
     "text": [
      "\n"
     ]
    },
    {
     "name": "stdout",
     "output_type": "stream",
     "text": [
      "\n",
      "      Epoch    GPU_mem   box_loss   cls_loss   dfl_loss  Instances       Size\n"
     ]
    },
    {
     "name": "stderr",
     "output_type": "stream",
     "text": [
      "       3/40      3.99G     0.7137      6.458      1.267         18        736: 100%|██████████| 417/417 [01:27<00:00,  4.77it/s]\n",
      "                 Class     Images  Instances      Box(P          R      mAP50  mAP50-95): 100%|██████████| 2/2 [00:00<00:00,  6.06it/s]"
     ]
    },
    {
     "name": "stdout",
     "output_type": "stream",
     "text": [
      "                   all         20         29      0.823      0.709      0.861      0.701\n"
     ]
    },
    {
     "name": "stderr",
     "output_type": "stream",
     "text": [
      "\n"
     ]
    },
    {
     "name": "stdout",
     "output_type": "stream",
     "text": [
      "\n",
      "      Epoch    GPU_mem   box_loss   cls_loss   dfl_loss  Instances       Size\n"
     ]
    },
    {
     "name": "stderr",
     "output_type": "stream",
     "text": [
      "       4/40      4.01G     0.7049       6.23      1.261         14        736: 100%|██████████| 417/417 [01:30<00:00,  4.61it/s]\n",
      "                 Class     Images  Instances      Box(P          R      mAP50  mAP50-95): 100%|██████████| 2/2 [00:00<00:00,  6.81it/s]"
     ]
    },
    {
     "name": "stdout",
     "output_type": "stream",
     "text": [
      "                   all         20         29      0.719      0.766      0.839      0.693\n"
     ]
    },
    {
     "name": "stderr",
     "output_type": "stream",
     "text": [
      "\n"
     ]
    },
    {
     "name": "stdout",
     "output_type": "stream",
     "text": [
      "\n",
      "      Epoch    GPU_mem   box_loss   cls_loss   dfl_loss  Instances       Size\n"
     ]
    },
    {
     "name": "stderr",
     "output_type": "stream",
     "text": [
      "       5/40         4G     0.6771      5.887      1.234         17        736: 100%|██████████| 417/417 [01:28<00:00,  4.72it/s]\n",
      "                 Class     Images  Instances      Box(P          R      mAP50  mAP50-95): 100%|██████████| 2/2 [00:00<00:00,  6.80it/s]"
     ]
    },
    {
     "name": "stdout",
     "output_type": "stream",
     "text": [
      "                   all         20         29      0.813      0.714      0.886       0.69\n"
     ]
    },
    {
     "name": "stderr",
     "output_type": "stream",
     "text": [
      "\n"
     ]
    },
    {
     "name": "stdout",
     "output_type": "stream",
     "text": [
      "\n",
      "      Epoch    GPU_mem   box_loss   cls_loss   dfl_loss  Instances       Size\n"
     ]
    },
    {
     "name": "stderr",
     "output_type": "stream",
     "text": [
      "       6/40      3.99G     0.6545      5.486      1.209         16        736: 100%|██████████| 417/417 [01:28<00:00,  4.72it/s]\n",
      "                 Class     Images  Instances      Box(P          R      mAP50  mAP50-95): 100%|██████████| 2/2 [00:00<00:00,  6.71it/s]"
     ]
    },
    {
     "name": "stdout",
     "output_type": "stream",
     "text": [
      "                   all         20         29      0.819      0.648      0.834      0.708\n"
     ]
    },
    {
     "name": "stderr",
     "output_type": "stream",
     "text": [
      "\n"
     ]
    },
    {
     "name": "stdout",
     "output_type": "stream",
     "text": [
      "\n",
      "      Epoch    GPU_mem   box_loss   cls_loss   dfl_loss  Instances       Size\n"
     ]
    },
    {
     "name": "stderr",
     "output_type": "stream",
     "text": [
      "       7/40         4G     0.6576      5.541      1.212         12        736: 100%|██████████| 417/417 [01:27<00:00,  4.78it/s]\n",
      "                 Class     Images  Instances      Box(P          R      mAP50  mAP50-95): 100%|██████████| 2/2 [00:00<00:00,  6.63it/s]"
     ]
    },
    {
     "name": "stdout",
     "output_type": "stream",
     "text": [
      "                   all         20         29      0.689      0.703       0.82      0.666\n"
     ]
    },
    {
     "name": "stderr",
     "output_type": "stream",
     "text": [
      "\n"
     ]
    },
    {
     "name": "stdout",
     "output_type": "stream",
     "text": [
      "\n",
      "      Epoch    GPU_mem   box_loss   cls_loss   dfl_loss  Instances       Size\n"
     ]
    },
    {
     "name": "stderr",
     "output_type": "stream",
     "text": [
      "       8/40         4G     0.6516      5.318      1.214          5        736: 100%|██████████| 417/417 [01:25<00:00,  4.87it/s]\n",
      "                 Class     Images  Instances      Box(P          R      mAP50  mAP50-95): 100%|██████████| 2/2 [00:00<00:00,  6.89it/s]"
     ]
    },
    {
     "name": "stdout",
     "output_type": "stream",
     "text": [
      "                   all         20         29      0.483       0.91      0.741      0.644\n"
     ]
    },
    {
     "name": "stderr",
     "output_type": "stream",
     "text": [
      "\n"
     ]
    },
    {
     "name": "stdout",
     "output_type": "stream",
     "text": [
      "\n",
      "      Epoch    GPU_mem   box_loss   cls_loss   dfl_loss  Instances       Size\n"
     ]
    },
    {
     "name": "stderr",
     "output_type": "stream",
     "text": [
      "       9/40      3.99G     0.6455      5.192      1.209         12        736: 100%|██████████| 417/417 [01:25<00:00,  4.90it/s]\n",
      "                 Class     Images  Instances      Box(P          R      mAP50  mAP50-95): 100%|██████████| 2/2 [00:00<00:00,  6.97it/s]"
     ]
    },
    {
     "name": "stdout",
     "output_type": "stream",
     "text": [
      "                   all         20         29      0.737      0.703      0.844      0.721\n"
     ]
    },
    {
     "name": "stderr",
     "output_type": "stream",
     "text": [
      "\n"
     ]
    },
    {
     "name": "stdout",
     "output_type": "stream",
     "text": [
      "\n",
      "      Epoch    GPU_mem   box_loss   cls_loss   dfl_loss  Instances       Size\n"
     ]
    },
    {
     "name": "stderr",
     "output_type": "stream",
     "text": [
      "      10/40         4G     0.6381      5.189      1.203         11        736: 100%|██████████| 417/417 [01:26<00:00,  4.79it/s]\n",
      "                 Class     Images  Instances      Box(P          R      mAP50  mAP50-95): 100%|██████████| 2/2 [00:00<00:00,  6.66it/s]"
     ]
    },
    {
     "name": "stdout",
     "output_type": "stream",
     "text": [
      "                   all         20         29      0.648       0.76       0.78      0.662\n"
     ]
    },
    {
     "name": "stderr",
     "output_type": "stream",
     "text": [
      "\n"
     ]
    },
    {
     "name": "stdout",
     "output_type": "stream",
     "text": [
      "\n",
      "      Epoch    GPU_mem   box_loss   cls_loss   dfl_loss  Instances       Size\n"
     ]
    },
    {
     "name": "stderr",
     "output_type": "stream",
     "text": [
      "      11/40      3.99G     0.6471      5.196      1.203         27        736: 100%|██████████| 417/417 [01:27<00:00,  4.77it/s]\n",
      "                 Class     Images  Instances      Box(P          R      mAP50  mAP50-95): 100%|██████████| 2/2 [00:00<00:00,  6.82it/s]"
     ]
    },
    {
     "name": "stdout",
     "output_type": "stream",
     "text": [
      "                   all         20         29      0.504      0.755      0.763       0.65\n"
     ]
    },
    {
     "name": "stderr",
     "output_type": "stream",
     "text": [
      "\n"
     ]
    },
    {
     "name": "stdout",
     "output_type": "stream",
     "text": [
      "\n",
      "      Epoch    GPU_mem   box_loss   cls_loss   dfl_loss  Instances       Size\n"
     ]
    },
    {
     "name": "stderr",
     "output_type": "stream",
     "text": [
      "      12/40         4G     0.6256      4.996      1.194         11        736: 100%|██████████| 417/417 [01:27<00:00,  4.79it/s]\n",
      "                 Class     Images  Instances      Box(P          R      mAP50  mAP50-95): 100%|██████████| 2/2 [00:00<00:00,  6.67it/s]"
     ]
    },
    {
     "name": "stdout",
     "output_type": "stream",
     "text": [
      "                   all         20         29      0.685      0.764      0.834       0.68\n"
     ]
    },
    {
     "name": "stderr",
     "output_type": "stream",
     "text": [
      "\n"
     ]
    },
    {
     "name": "stdout",
     "output_type": "stream",
     "text": [
      "\n",
      "      Epoch    GPU_mem   box_loss   cls_loss   dfl_loss  Instances       Size\n"
     ]
    },
    {
     "name": "stderr",
     "output_type": "stream",
     "text": [
      "      13/40         4G     0.6437      5.028       1.21         12        736: 100%|██████████| 417/417 [01:25<00:00,  4.89it/s]\n",
      "                 Class     Images  Instances      Box(P          R      mAP50  mAP50-95): 100%|██████████| 2/2 [00:00<00:00,  6.89it/s]"
     ]
    },
    {
     "name": "stdout",
     "output_type": "stream",
     "text": [
      "                   all         20         29      0.707      0.734      0.857      0.694\n"
     ]
    },
    {
     "name": "stderr",
     "output_type": "stream",
     "text": [
      "\n"
     ]
    },
    {
     "name": "stdout",
     "output_type": "stream",
     "text": [
      "\n",
      "      Epoch    GPU_mem   box_loss   cls_loss   dfl_loss  Instances       Size\n"
     ]
    },
    {
     "name": "stderr",
     "output_type": "stream",
     "text": [
      "      14/40      3.99G     0.6332      4.973      1.204         14        736: 100%|██████████| 417/417 [01:25<00:00,  4.86it/s]\n",
      "                 Class     Images  Instances      Box(P          R      mAP50  mAP50-95): 100%|██████████| 2/2 [00:00<00:00,  6.76it/s]"
     ]
    },
    {
     "name": "stdout",
     "output_type": "stream",
     "text": [
      "                   all         20         29      0.722      0.814      0.863      0.743\n"
     ]
    },
    {
     "name": "stderr",
     "output_type": "stream",
     "text": [
      "\n"
     ]
    },
    {
     "name": "stdout",
     "output_type": "stream",
     "text": [
      "\n",
      "      Epoch    GPU_mem   box_loss   cls_loss   dfl_loss  Instances       Size\n"
     ]
    },
    {
     "name": "stderr",
     "output_type": "stream",
     "text": [
      "      15/40         4G     0.6329      4.936      1.197         13        736: 100%|██████████| 417/417 [01:26<00:00,  4.80it/s]\n",
      "                 Class     Images  Instances      Box(P          R      mAP50  mAP50-95): 100%|██████████| 2/2 [00:00<00:00,  6.82it/s]"
     ]
    },
    {
     "name": "stdout",
     "output_type": "stream",
     "text": [
      "                   all         20         29       0.65      0.821      0.834      0.709\n"
     ]
    },
    {
     "name": "stderr",
     "output_type": "stream",
     "text": [
      "\n"
     ]
    },
    {
     "name": "stdout",
     "output_type": "stream",
     "text": [
      "\n",
      "      Epoch    GPU_mem   box_loss   cls_loss   dfl_loss  Instances       Size\n"
     ]
    },
    {
     "name": "stderr",
     "output_type": "stream",
     "text": [
      "      16/40      3.92G     0.6201      4.903       1.19         16        736: 100%|██████████| 417/417 [01:27<00:00,  4.76it/s]\n",
      "                 Class     Images  Instances      Box(P          R      mAP50  mAP50-95): 100%|██████████| 2/2 [00:00<00:00,  6.78it/s]"
     ]
    },
    {
     "name": "stdout",
     "output_type": "stream",
     "text": [
      "                   all         20         29       0.68      0.686      0.813      0.683\n"
     ]
    },
    {
     "name": "stderr",
     "output_type": "stream",
     "text": [
      "\n"
     ]
    },
    {
     "name": "stdout",
     "output_type": "stream",
     "text": [
      "\n",
      "      Epoch    GPU_mem   box_loss   cls_loss   dfl_loss  Instances       Size\n"
     ]
    },
    {
     "name": "stderr",
     "output_type": "stream",
     "text": [
      "      17/40      3.99G     0.6182      4.738      1.187         15        736: 100%|██████████| 417/417 [01:27<00:00,  4.74it/s]\n",
      "                 Class     Images  Instances      Box(P          R      mAP50  mAP50-95): 100%|██████████| 2/2 [00:00<00:00,  6.96it/s]"
     ]
    },
    {
     "name": "stdout",
     "output_type": "stream",
     "text": [
      "                   all         20         29      0.828      0.595      0.828      0.689\n"
     ]
    },
    {
     "name": "stderr",
     "output_type": "stream",
     "text": [
      "\n"
     ]
    },
    {
     "name": "stdout",
     "output_type": "stream",
     "text": [
      "\n",
      "      Epoch    GPU_mem   box_loss   cls_loss   dfl_loss  Instances       Size\n"
     ]
    },
    {
     "name": "stderr",
     "output_type": "stream",
     "text": [
      "      18/40      3.99G     0.6084      4.796       1.19         17        736: 100%|██████████| 417/417 [01:27<00:00,  4.76it/s]\n",
      "                 Class     Images  Instances      Box(P          R      mAP50  mAP50-95): 100%|██████████| 2/2 [00:00<00:00,  6.89it/s]"
     ]
    },
    {
     "name": "stdout",
     "output_type": "stream",
     "text": [
      "                   all         20         29      0.574      0.834      0.847      0.724\n"
     ]
    },
    {
     "name": "stderr",
     "output_type": "stream",
     "text": [
      "\n"
     ]
    },
    {
     "name": "stdout",
     "output_type": "stream",
     "text": [
      "\n",
      "      Epoch    GPU_mem   box_loss   cls_loss   dfl_loss  Instances       Size\n"
     ]
    },
    {
     "name": "stderr",
     "output_type": "stream",
     "text": [
      "      19/40         4G     0.6147      4.717      1.179          9        736: 100%|██████████| 417/417 [01:27<00:00,  4.77it/s]\n",
      "                 Class     Images  Instances      Box(P          R      mAP50  mAP50-95): 100%|██████████| 2/2 [00:00<00:00,  6.95it/s]"
     ]
    },
    {
     "name": "stdout",
     "output_type": "stream",
     "text": [
      "                   all         20         29      0.742      0.765      0.892       0.75\n"
     ]
    },
    {
     "name": "stderr",
     "output_type": "stream",
     "text": [
      "\n"
     ]
    },
    {
     "name": "stdout",
     "output_type": "stream",
     "text": [
      "\n",
      "      Epoch    GPU_mem   box_loss   cls_loss   dfl_loss  Instances       Size\n"
     ]
    },
    {
     "name": "stderr",
     "output_type": "stream",
     "text": [
      "      20/40      3.99G     0.6006      4.563      1.169         19        736: 100%|██████████| 417/417 [01:26<00:00,  4.80it/s]\n",
      "                 Class     Images  Instances      Box(P          R      mAP50  mAP50-95): 100%|██████████| 2/2 [00:00<00:00,  6.56it/s]"
     ]
    },
    {
     "name": "stdout",
     "output_type": "stream",
     "text": [
      "                   all         20         29      0.623      0.798      0.861      0.728\n"
     ]
    },
    {
     "name": "stderr",
     "output_type": "stream",
     "text": [
      "\n"
     ]
    },
    {
     "name": "stdout",
     "output_type": "stream",
     "text": [
      "\n",
      "      Epoch    GPU_mem   box_loss   cls_loss   dfl_loss  Instances       Size\n"
     ]
    },
    {
     "name": "stderr",
     "output_type": "stream",
     "text": [
      "      21/40         4G     0.6009      4.472      1.168         10        736: 100%|██████████| 417/417 [01:27<00:00,  4.79it/s]\n",
      "                 Class     Images  Instances      Box(P          R      mAP50  mAP50-95): 100%|██████████| 2/2 [00:00<00:00,  6.88it/s]"
     ]
    },
    {
     "name": "stdout",
     "output_type": "stream",
     "text": [
      "                   all         20         29      0.615      0.857      0.841      0.704\n"
     ]
    },
    {
     "name": "stderr",
     "output_type": "stream",
     "text": [
      "\n"
     ]
    },
    {
     "name": "stdout",
     "output_type": "stream",
     "text": [
      "\n",
      "      Epoch    GPU_mem   box_loss   cls_loss   dfl_loss  Instances       Size\n"
     ]
    },
    {
     "name": "stderr",
     "output_type": "stream",
     "text": [
      "      22/40      3.99G     0.5877      4.421      1.157          7        736: 100%|██████████| 417/417 [01:27<00:00,  4.77it/s]\n",
      "                 Class     Images  Instances      Box(P          R      mAP50  mAP50-95): 100%|██████████| 2/2 [00:00<00:00,  6.73it/s]"
     ]
    },
    {
     "name": "stdout",
     "output_type": "stream",
     "text": [
      "                   all         20         29      0.632      0.747      0.843      0.718\n"
     ]
    },
    {
     "name": "stderr",
     "output_type": "stream",
     "text": [
      "\n"
     ]
    },
    {
     "name": "stdout",
     "output_type": "stream",
     "text": [
      "\n",
      "      Epoch    GPU_mem   box_loss   cls_loss   dfl_loss  Instances       Size\n"
     ]
    },
    {
     "name": "stderr",
     "output_type": "stream",
     "text": [
      "      23/40      4.01G     0.5921      4.608      1.171         11        736: 100%|██████████| 417/417 [01:29<00:00,  4.68it/s]\n",
      "                 Class     Images  Instances      Box(P          R      mAP50  mAP50-95): 100%|██████████| 2/2 [00:00<00:00,  6.71it/s]"
     ]
    },
    {
     "name": "stdout",
     "output_type": "stream",
     "text": [
      "                   all         20         29       0.59      0.781      0.811      0.689\n"
     ]
    },
    {
     "name": "stderr",
     "output_type": "stream",
     "text": [
      "\n"
     ]
    },
    {
     "name": "stdout",
     "output_type": "stream",
     "text": [
      "\n",
      "      Epoch    GPU_mem   box_loss   cls_loss   dfl_loss  Instances       Size\n"
     ]
    },
    {
     "name": "stderr",
     "output_type": "stream",
     "text": [
      "      24/40      3.99G     0.5854      4.444      1.159         11        736: 100%|██████████| 417/417 [01:27<00:00,  4.78it/s]\n",
      "                 Class     Images  Instances      Box(P          R      mAP50  mAP50-95): 100%|██████████| 2/2 [00:00<00:00,  6.79it/s]"
     ]
    },
    {
     "name": "stdout",
     "output_type": "stream",
     "text": [
      "                   all         20         29       0.54       0.84      0.874      0.739\n"
     ]
    },
    {
     "name": "stderr",
     "output_type": "stream",
     "text": [
      "\n"
     ]
    },
    {
     "name": "stdout",
     "output_type": "stream",
     "text": [
      "\n",
      "      Epoch    GPU_mem   box_loss   cls_loss   dfl_loss  Instances       Size\n"
     ]
    },
    {
     "name": "stderr",
     "output_type": "stream",
     "text": [
      "      25/40      3.99G     0.5915      4.446      1.166         11        736: 100%|██████████| 417/417 [01:30<00:00,  4.61it/s]\n",
      "                 Class     Images  Instances      Box(P          R      mAP50  mAP50-95): 100%|██████████| 2/2 [00:00<00:00,  6.23it/s]"
     ]
    },
    {
     "name": "stdout",
     "output_type": "stream",
     "text": [
      "                   all         20         29      0.588      0.781      0.832      0.708\n"
     ]
    },
    {
     "name": "stderr",
     "output_type": "stream",
     "text": [
      "\n"
     ]
    },
    {
     "name": "stdout",
     "output_type": "stream",
     "text": [
      "Closing dataloader mosaic\n",
      "\u001b[34m\u001b[1malbumentations: \u001b[0mBlur(p=0.01, blur_limit=(3, 7)), MedianBlur(p=0.01, blur_limit=(3, 7)), ToGray(p=0.01, num_output_channels=3, method='weighted_average'), CLAHE(p=0.01, clip_limit=(1.0, 4.0), tile_grid_size=(8, 8))\n",
      "\n",
      "      Epoch    GPU_mem   box_loss   cls_loss   dfl_loss  Instances       Size\n"
     ]
    },
    {
     "name": "stderr",
     "output_type": "stream",
     "text": [
      "      26/40      4.01G      0.447      2.985      1.125          4        736: 100%|██████████| 417/417 [01:28<00:00,  4.73it/s]\n",
      "                 Class     Images  Instances      Box(P          R      mAP50  mAP50-95): 100%|██████████| 2/2 [00:00<00:00,  6.55it/s]"
     ]
    },
    {
     "name": "stdout",
     "output_type": "stream",
     "text": [
      "                   all         20         29      0.616      0.744      0.804      0.691\n"
     ]
    },
    {
     "name": "stderr",
     "output_type": "stream",
     "text": [
      "\n"
     ]
    },
    {
     "name": "stdout",
     "output_type": "stream",
     "text": [
      "\n",
      "      Epoch    GPU_mem   box_loss   cls_loss   dfl_loss  Instances       Size\n"
     ]
    },
    {
     "name": "stderr",
     "output_type": "stream",
     "text": [
      "      27/40      3.92G     0.4271      2.796      1.098          4        736: 100%|██████████| 417/417 [01:26<00:00,  4.80it/s]\n",
      "                 Class     Images  Instances      Box(P          R      mAP50  mAP50-95): 100%|██████████| 2/2 [00:00<00:00,  6.81it/s]"
     ]
    },
    {
     "name": "stdout",
     "output_type": "stream",
     "text": [
      "                   all         20         29       0.79      0.625      0.822      0.707\n"
     ]
    },
    {
     "name": "stderr",
     "output_type": "stream",
     "text": [
      "\n"
     ]
    },
    {
     "name": "stdout",
     "output_type": "stream",
     "text": [
      "\n",
      "      Epoch    GPU_mem   box_loss   cls_loss   dfl_loss  Instances       Size\n"
     ]
    },
    {
     "name": "stderr",
     "output_type": "stream",
     "text": [
      "      28/40      3.99G     0.4165      2.697      1.088          4        736: 100%|██████████| 417/417 [01:25<00:00,  4.88it/s]\n",
      "                 Class     Images  Instances      Box(P          R      mAP50  mAP50-95): 100%|██████████| 2/2 [00:00<00:00,  7.09it/s]"
     ]
    },
    {
     "name": "stdout",
     "output_type": "stream",
     "text": [
      "                   all         20         29       0.65      0.716      0.821      0.722\n"
     ]
    },
    {
     "name": "stderr",
     "output_type": "stream",
     "text": [
      "\n"
     ]
    },
    {
     "name": "stdout",
     "output_type": "stream",
     "text": [
      "\n",
      "      Epoch    GPU_mem   box_loss   cls_loss   dfl_loss  Instances       Size\n"
     ]
    },
    {
     "name": "stderr",
     "output_type": "stream",
     "text": [
      "      29/40         4G     0.4171      2.747       1.09          4        736: 100%|██████████| 417/417 [01:25<00:00,  4.88it/s]\n",
      "                 Class     Images  Instances      Box(P          R      mAP50  mAP50-95): 100%|██████████| 2/2 [00:00<00:00,  6.93it/s]"
     ]
    },
    {
     "name": "stdout",
     "output_type": "stream",
     "text": [
      "                   all         20         29      0.606      0.786      0.805      0.697\n"
     ]
    },
    {
     "name": "stderr",
     "output_type": "stream",
     "text": [
      "\n"
     ]
    },
    {
     "name": "stdout",
     "output_type": "stream",
     "text": [
      "\n",
      "      Epoch    GPU_mem   box_loss   cls_loss   dfl_loss  Instances       Size\n"
     ]
    },
    {
     "name": "stderr",
     "output_type": "stream",
     "text": [
      "      30/40      3.99G     0.4132      2.694      1.079          5        736: 100%|██████████| 417/417 [01:25<00:00,  4.87it/s]\n",
      "                 Class     Images  Instances      Box(P          R      mAP50  mAP50-95): 100%|██████████| 2/2 [00:00<00:00,  6.90it/s]"
     ]
    },
    {
     "name": "stdout",
     "output_type": "stream",
     "text": [
      "                   all         20         29      0.598      0.836       0.83      0.724\n"
     ]
    },
    {
     "name": "stderr",
     "output_type": "stream",
     "text": [
      "\n"
     ]
    },
    {
     "name": "stdout",
     "output_type": "stream",
     "text": [
      "\n",
      "      Epoch    GPU_mem   box_loss   cls_loss   dfl_loss  Instances       Size\n"
     ]
    },
    {
     "name": "stderr",
     "output_type": "stream",
     "text": [
      "      31/40         4G     0.4158      2.665       1.09          4        736: 100%|██████████| 417/417 [01:25<00:00,  4.87it/s]\n",
      "                 Class     Images  Instances      Box(P          R      mAP50  mAP50-95): 100%|██████████| 2/2 [00:00<00:00,  6.96it/s]"
     ]
    },
    {
     "name": "stdout",
     "output_type": "stream",
     "text": [
      "                   all         20         29       0.64      0.718      0.824      0.696\n",
      "\u001b[34m\u001b[1mEarlyStopping: \u001b[0mTraining stopped early as no improvement observed in last 12 epochs. Best results observed at epoch 19, best model saved as best.pt.\n",
      "To update EarlyStopping(patience=12) pass a new patience value, i.e. `patience=300` or use `patience=0` to disable EarlyStopping.\n"
     ]
    },
    {
     "name": "stderr",
     "output_type": "stream",
     "text": [
      "\n"
     ]
    },
    {
     "name": "stdout",
     "output_type": "stream",
     "text": [
      "\n",
      "31 epochs completed in 0.770 hours.\n",
      "Optimizer stripped from ..\\f1-strategy\\yolo-files\\runs\\train_cls_focused\\weights\\last.pt, 52.1MB\n",
      "Optimizer stripped from ..\\f1-strategy\\yolo-files\\runs\\train_cls_focused\\weights\\best.pt, 52.1MB\n",
      "\n",
      "Validating ..\\f1-strategy\\yolo-files\\runs\\train_cls_focused\\weights\\best.pt...\n",
      "Ultralytics 8.3.69  Python-3.10.16 torch-2.5.1+cu124 CUDA:0 (NVIDIA GeForce RTX 4060 Laptop GPU, 8188MiB)\n",
      "Model summary (fused): 218 layers, 25,845,550 parameters, 0 gradients, 78.7 GFLOPs\n"
     ]
    },
    {
     "name": "stderr",
     "output_type": "stream",
     "text": [
      "                 Class     Images  Instances      Box(P          R      mAP50  mAP50-95): 100%|██████████| 2/2 [00:00<00:00,  6.66it/s]\n"
     ]
    },
    {
     "name": "stdout",
     "output_type": "stream",
     "text": [
      "                   all         20         29      0.742      0.764      0.892       0.75\n",
      "           Kick Sauber          4          6          1      0.783      0.909      0.649\n",
      "          Racing Bulls          1          1       0.34          1      0.995      0.796\n",
      "                Alpine          4          5      0.712        0.8      0.938      0.849\n",
      "               Ferarri          3          4       0.76       0.75      0.888       0.78\n",
      "                  Haas          1          1      0.655          1      0.995      0.895\n",
      "               Mclaren          5          6          1      0.578      0.942      0.788\n",
      "              Mercedes          3          3          1      0.591      0.863      0.691\n",
      "              Williams          2          3      0.472       0.61       0.61      0.554\n",
      "Speed: 1.1ms preprocess, 9.7ms inference, 0.0ms loss, 0.9ms postprocess per image\n",
      "Results saved to \u001b[1m..\\f1-strategy\\yolo-files\\runs\\train_cls_focused\u001b[0m\n"
     ]
    }
   ],
   "source": [
    "from ultralytics import YOLO\n",
    "import torch\n",
    "import random\n",
    "import numpy as np\n",
    "\n",
    "# Definir variables globales\n",
    "FINE_TUNED_EPOCHS = 40      # Más épocas para un entrenamiento más largo\n",
    "FINE_TUNED_BATCH_SIZE = 6   # Mantenemos el mismo batch size\n",
    "\n",
    "# Definir semilla para reproducibilidad\n",
    "SEED = 42\n",
    "random.seed(SEED)\n",
    "np.random.seed(SEED)\n",
    "torch.manual_seed(SEED)\n",
    "if torch.cuda.is_available():\n",
    "    torch.cuda.manual_seed(SEED)\n",
    "    torch.cuda.manual_seed_all(SEED)\n",
    "torch.backends.cudnn.deterministic = True\n",
    "\n",
    "# 1. Cargar el modelo base (el original, no el último entrenado)\n",
    "model_pruned = YOLO('../f1-strategy/weights/f1_detection_fine_tuned_best.pt')\n",
    "\n",
    "# 2. Configurar el fine-tuning enfocado en clasificación\n",
    "results = model_pruned.train(\n",
    "    data=\"../f1-strategy/f1-dataset/data.yaml\",\n",
    "    epochs=FINE_TUNED_EPOCHS,\n",
    "    imgsz=736,               # Ligeramente más grande para mejor detalle\n",
    "    batch=FINE_TUNED_BATCH_SIZE,\n",
    "    patience=12,             # Mayor paciencia para early stopping\n",
    "    cos_lr=True,\n",
    "    lr0=0.0001,              # Learning rate inicial MENOR\n",
    "    lrf=0.000005,            # Learning rate final MENOR\n",
    "    optimizer='AdamW',\n",
    "    weight_decay=0.001,      # MAYOR regularización\n",
    "    warmup_epochs=5,         # Más epochs de warmup\n",
    "\n",
    "    # Parámetros optimizados para clasificación a distancia\n",
    "    scale=0.7,               # MAYOR variación de escalado\n",
    "    degrees=3.0,             # Menos rotación\n",
    "    shear=1.5,               # Menos deformación\n",
    "    perspective=0.0003,\n",
    "    flipud=0.01,\n",
    "    fliplr=0.4,              # Más flip horizontal\n",
    "    mosaic=0.9,              # MAYOR mosaico\n",
    "    mixup=0.15,              # MAYOR mixup\n",
    "    copy_paste=0.2,          # MAYOR copy-paste\n",
    "\n",
    "    # Ajustes para diferentes condiciones de luz\n",
    "    hsv_h=0.02,\n",
    "    hsv_s=0.8,               # MAYOR variación de saturación\n",
    "    hsv_v=0.6,               # MAYOR variación de brillo\n",
    "\n",
    "    # AJUSTE CRUCIAL: Mayor peso a la pérdida de clasificación\n",
    "    box=6.0,\n",
    "    cls=5.0,                 # MAYOR énfasis en clasificación\n",
    "    dfl=1.5,\n",
    "\n",
    "    # Otros parámetros\n",
    "    overlap_mask=True,\n",
    "    mask_ratio=4,\n",
    "    iou=0.5,                 # IoU threshold REDUCIDO (más tolerante)\n",
    "    single_cls=False,\n",
    "    nbs=64,\n",
    "    close_mosaic=15,\n",
    "    rect=False,\n",
    "    cache=False,\n",
    "\n",
    "    val=True,\n",
    "    save=True,\n",
    "    save_period=5,\n",
    "    plots=True,\n",
    "\n",
    "    amp=True,\n",
    "\n",
    "    project='../f1-strategy/yolo-files/runs',\n",
    "    name='train_cls_focused',\n",
    "    exist_ok=True\n",
    ")"
   ]
  },
  {
   "cell_type": "code",
   "execution_count": null,
   "metadata": {},
   "outputs": [
    {
     "name": "stdout",
     "output_type": "stream",
     "text": [
      "\n",
      "Evaluando modelo con enfoque en clasificación...\n",
      "Ultralytics 8.3.69  Python-3.10.16 torch-2.5.1+cu124 CUDA:0 (NVIDIA GeForce RTX 4060 Laptop GPU, 8188MiB)\n",
      "Model summary (fused): 218 layers, 25,845,550 parameters, 0 gradients, 78.7 GFLOPs\n"
     ]
    },
    {
     "name": "stderr",
     "output_type": "stream",
     "text": [
      "\u001b[34m\u001b[1mval: \u001b[0mScanning C:\\Users\\victo\\Desktop\\Documents\\Tercer año\\Segundo Cuatrimestre\\Finales\\f1-strategy\\f1-dataset\\valid\\labels.cache... 20 images, 0 backgrounds, 0 corrupt: 100%|██████████| 20/20 [00:00<?, ?it/s]\n",
      "                 Class     Images  Instances      Box(P          R      mAP50  mAP50-95): 100%|██████████| 4/4 [00:03<00:00,  1.12it/s]\n"
     ]
    },
    {
     "name": "stdout",
     "output_type": "stream",
     "text": [
      "                   all         20         29      0.742      0.764      0.892       0.75\n",
      "           Kick Sauber          4          6          1      0.784      0.909      0.649\n",
      "          Racing Bulls          1          1      0.339          1      0.995      0.796\n",
      "                Alpine          4          5      0.709        0.8      0.938      0.849\n",
      "               Ferarri          3          4       0.76       0.75      0.888       0.78\n",
      "                  Haas          1          1      0.655          1      0.995      0.895\n",
      "               Mclaren          5          6          1      0.578      0.942      0.788\n",
      "              Mercedes          3          3          1      0.591      0.863      0.691\n",
      "              Williams          2          3      0.472      0.612       0.61      0.554\n",
      "Speed: 3.1ms preprocess, 32.0ms inference, 0.0ms loss, 0.9ms postprocess per image\n",
      "Results saved to \u001b[1m..\\f1-strategy\\yolo-files\\runs\\train_cls_focused\u001b[0m\n",
      "\n",
      "Entrenamiento completado. Resultados:\n",
      "mAP50: 0.8924\n",
      "mAP50-95: 0.7503\n"
     ]
    }
   ],
   "source": [
    "# Evaluar el modelo resultante\n",
    "print(\"\\nEvaluando modelo con enfoque en clasificación...\")\n",
    "metrics = model_pruned.val()\n",
    "\n",
    "print(f\"\\nEntrenamiento completado. Resultados:\")\n",
    "print(f\"mAP50: {metrics.box.map50:.4f}\")\n",
    "print(f\"mAP50-95: {metrics.box.map:.4f}\")"
   ]
  },
  {
   "cell_type": "code",
   "execution_count": 22,
   "metadata": {},
   "outputs": [],
   "source": [
    "model_pruned.save(\"../f1-strategy/weights/model_pruned_best.pt\")"
   ]
  },
  {
   "cell_type": "code",
   "execution_count": 24,
   "metadata": {},
   "outputs": [
    {
     "data": {
      "text/plain": [
       "YOLO(\n",
       "  (model): DetectionModel(\n",
       "    (model): Sequential(\n",
       "      (0): Conv(\n",
       "        (conv): Conv2d(3, 48, kernel_size=(3, 3), stride=(2, 2), padding=(1, 1))\n",
       "        (act): SiLU(inplace=True)\n",
       "      )\n",
       "      (1): Conv(\n",
       "        (conv): Conv2d(48, 96, kernel_size=(3, 3), stride=(2, 2), padding=(1, 1))\n",
       "        (act): SiLU(inplace=True)\n",
       "      )\n",
       "      (2): C2f(\n",
       "        (cv1): Conv(\n",
       "          (conv): Conv2d(96, 96, kernel_size=(1, 1), stride=(1, 1))\n",
       "          (act): SiLU(inplace=True)\n",
       "        )\n",
       "        (cv2): Conv(\n",
       "          (conv): Conv2d(192, 96, kernel_size=(1, 1), stride=(1, 1))\n",
       "          (act): SiLU(inplace=True)\n",
       "        )\n",
       "        (m): ModuleList(\n",
       "          (0-1): 2 x Bottleneck(\n",
       "            (cv1): Conv(\n",
       "              (conv): Conv2d(48, 48, kernel_size=(3, 3), stride=(1, 1), padding=(1, 1))\n",
       "              (act): SiLU(inplace=True)\n",
       "            )\n",
       "            (cv2): Conv(\n",
       "              (conv): Conv2d(48, 48, kernel_size=(3, 3), stride=(1, 1), padding=(1, 1))\n",
       "              (act): SiLU(inplace=True)\n",
       "            )\n",
       "          )\n",
       "        )\n",
       "      )\n",
       "      (3): Conv(\n",
       "        (conv): Conv2d(96, 192, kernel_size=(3, 3), stride=(2, 2), padding=(1, 1))\n",
       "        (act): SiLU(inplace=True)\n",
       "      )\n",
       "      (4): C2f(\n",
       "        (cv1): Conv(\n",
       "          (conv): Conv2d(192, 192, kernel_size=(1, 1), stride=(1, 1))\n",
       "          (act): SiLU(inplace=True)\n",
       "        )\n",
       "        (cv2): Conv(\n",
       "          (conv): Conv2d(576, 192, kernel_size=(1, 1), stride=(1, 1))\n",
       "          (act): SiLU(inplace=True)\n",
       "        )\n",
       "        (m): ModuleList(\n",
       "          (0-3): 4 x Bottleneck(\n",
       "            (cv1): Conv(\n",
       "              (conv): Conv2d(96, 96, kernel_size=(3, 3), stride=(1, 1), padding=(1, 1))\n",
       "              (act): SiLU(inplace=True)\n",
       "            )\n",
       "            (cv2): Conv(\n",
       "              (conv): Conv2d(96, 96, kernel_size=(3, 3), stride=(1, 1), padding=(1, 1))\n",
       "              (act): SiLU(inplace=True)\n",
       "            )\n",
       "          )\n",
       "        )\n",
       "      )\n",
       "      (5): Conv(\n",
       "        (conv): Conv2d(192, 384, kernel_size=(3, 3), stride=(2, 2), padding=(1, 1))\n",
       "        (act): SiLU(inplace=True)\n",
       "      )\n",
       "      (6): C2f(\n",
       "        (cv1): Conv(\n",
       "          (conv): Conv2d(384, 384, kernel_size=(1, 1), stride=(1, 1))\n",
       "          (act): SiLU(inplace=True)\n",
       "        )\n",
       "        (cv2): Conv(\n",
       "          (conv): Conv2d(1152, 384, kernel_size=(1, 1), stride=(1, 1))\n",
       "          (act): SiLU(inplace=True)\n",
       "        )\n",
       "        (m): ModuleList(\n",
       "          (0-3): 4 x Bottleneck(\n",
       "            (cv1): Conv(\n",
       "              (conv): Conv2d(192, 192, kernel_size=(3, 3), stride=(1, 1), padding=(1, 1))\n",
       "              (act): SiLU(inplace=True)\n",
       "            )\n",
       "            (cv2): Conv(\n",
       "              (conv): Conv2d(192, 192, kernel_size=(3, 3), stride=(1, 1), padding=(1, 1))\n",
       "              (act): SiLU(inplace=True)\n",
       "            )\n",
       "          )\n",
       "        )\n",
       "      )\n",
       "      (7): Conv(\n",
       "        (conv): Conv2d(384, 576, kernel_size=(3, 3), stride=(2, 2), padding=(1, 1))\n",
       "        (act): SiLU(inplace=True)\n",
       "      )\n",
       "      (8): C2f(\n",
       "        (cv1): Conv(\n",
       "          (conv): Conv2d(576, 576, kernel_size=(1, 1), stride=(1, 1))\n",
       "          (act): SiLU(inplace=True)\n",
       "        )\n",
       "        (cv2): Conv(\n",
       "          (conv): Conv2d(1152, 576, kernel_size=(1, 1), stride=(1, 1))\n",
       "          (act): SiLU(inplace=True)\n",
       "        )\n",
       "        (m): ModuleList(\n",
       "          (0-1): 2 x Bottleneck(\n",
       "            (cv1): Conv(\n",
       "              (conv): Conv2d(288, 288, kernel_size=(3, 3), stride=(1, 1), padding=(1, 1))\n",
       "              (act): SiLU(inplace=True)\n",
       "            )\n",
       "            (cv2): Conv(\n",
       "              (conv): Conv2d(288, 288, kernel_size=(3, 3), stride=(1, 1), padding=(1, 1))\n",
       "              (act): SiLU(inplace=True)\n",
       "            )\n",
       "          )\n",
       "        )\n",
       "      )\n",
       "      (9): SPPF(\n",
       "        (cv1): Conv(\n",
       "          (conv): Conv2d(576, 288, kernel_size=(1, 1), stride=(1, 1))\n",
       "          (act): SiLU(inplace=True)\n",
       "        )\n",
       "        (cv2): Conv(\n",
       "          (conv): Conv2d(1152, 576, kernel_size=(1, 1), stride=(1, 1))\n",
       "          (act): SiLU(inplace=True)\n",
       "        )\n",
       "        (m): MaxPool2d(kernel_size=5, stride=1, padding=2, dilation=1, ceil_mode=False)\n",
       "      )\n",
       "      (10): Upsample(scale_factor=2.0, mode='nearest')\n",
       "      (11): Concat()\n",
       "      (12): C2f(\n",
       "        (cv1): Conv(\n",
       "          (conv): Conv2d(960, 384, kernel_size=(1, 1), stride=(1, 1))\n",
       "          (act): SiLU(inplace=True)\n",
       "        )\n",
       "        (cv2): Conv(\n",
       "          (conv): Conv2d(768, 384, kernel_size=(1, 1), stride=(1, 1))\n",
       "          (act): SiLU(inplace=True)\n",
       "        )\n",
       "        (m): ModuleList(\n",
       "          (0-1): 2 x Bottleneck(\n",
       "            (cv1): Conv(\n",
       "              (conv): Conv2d(192, 192, kernel_size=(3, 3), stride=(1, 1), padding=(1, 1))\n",
       "              (act): SiLU(inplace=True)\n",
       "            )\n",
       "            (cv2): Conv(\n",
       "              (conv): Conv2d(192, 192, kernel_size=(3, 3), stride=(1, 1), padding=(1, 1))\n",
       "              (act): SiLU(inplace=True)\n",
       "            )\n",
       "          )\n",
       "        )\n",
       "      )\n",
       "      (13): Upsample(scale_factor=2.0, mode='nearest')\n",
       "      (14): Concat()\n",
       "      (15): C2f(\n",
       "        (cv1): Conv(\n",
       "          (conv): Conv2d(576, 192, kernel_size=(1, 1), stride=(1, 1))\n",
       "          (act): SiLU(inplace=True)\n",
       "        )\n",
       "        (cv2): Conv(\n",
       "          (conv): Conv2d(384, 192, kernel_size=(1, 1), stride=(1, 1))\n",
       "          (act): SiLU(inplace=True)\n",
       "        )\n",
       "        (m): ModuleList(\n",
       "          (0-1): 2 x Bottleneck(\n",
       "            (cv1): Conv(\n",
       "              (conv): Conv2d(96, 96, kernel_size=(3, 3), stride=(1, 1), padding=(1, 1))\n",
       "              (act): SiLU(inplace=True)\n",
       "            )\n",
       "            (cv2): Conv(\n",
       "              (conv): Conv2d(96, 96, kernel_size=(3, 3), stride=(1, 1), padding=(1, 1))\n",
       "              (act): SiLU(inplace=True)\n",
       "            )\n",
       "          )\n",
       "        )\n",
       "      )\n",
       "      (16): Conv(\n",
       "        (conv): Conv2d(192, 192, kernel_size=(3, 3), stride=(2, 2), padding=(1, 1))\n",
       "        (act): SiLU(inplace=True)\n",
       "      )\n",
       "      (17): Concat()\n",
       "      (18): C2f(\n",
       "        (cv1): Conv(\n",
       "          (conv): Conv2d(576, 384, kernel_size=(1, 1), stride=(1, 1))\n",
       "          (act): SiLU(inplace=True)\n",
       "        )\n",
       "        (cv2): Conv(\n",
       "          (conv): Conv2d(768, 384, kernel_size=(1, 1), stride=(1, 1))\n",
       "          (act): SiLU(inplace=True)\n",
       "        )\n",
       "        (m): ModuleList(\n",
       "          (0-1): 2 x Bottleneck(\n",
       "            (cv1): Conv(\n",
       "              (conv): Conv2d(192, 192, kernel_size=(3, 3), stride=(1, 1), padding=(1, 1))\n",
       "              (act): SiLU(inplace=True)\n",
       "            )\n",
       "            (cv2): Conv(\n",
       "              (conv): Conv2d(192, 192, kernel_size=(3, 3), stride=(1, 1), padding=(1, 1))\n",
       "              (act): SiLU(inplace=True)\n",
       "            )\n",
       "          )\n",
       "        )\n",
       "      )\n",
       "      (19): Conv(\n",
       "        (conv): Conv2d(384, 384, kernel_size=(3, 3), stride=(2, 2), padding=(1, 1))\n",
       "        (act): SiLU(inplace=True)\n",
       "      )\n",
       "      (20): Concat()\n",
       "      (21): C2f(\n",
       "        (cv1): Conv(\n",
       "          (conv): Conv2d(960, 576, kernel_size=(1, 1), stride=(1, 1))\n",
       "          (act): SiLU(inplace=True)\n",
       "        )\n",
       "        (cv2): Conv(\n",
       "          (conv): Conv2d(1152, 576, kernel_size=(1, 1), stride=(1, 1))\n",
       "          (act): SiLU(inplace=True)\n",
       "        )\n",
       "        (m): ModuleList(\n",
       "          (0-1): 2 x Bottleneck(\n",
       "            (cv1): Conv(\n",
       "              (conv): Conv2d(288, 288, kernel_size=(3, 3), stride=(1, 1), padding=(1, 1))\n",
       "              (act): SiLU(inplace=True)\n",
       "            )\n",
       "            (cv2): Conv(\n",
       "              (conv): Conv2d(288, 288, kernel_size=(3, 3), stride=(1, 1), padding=(1, 1))\n",
       "              (act): SiLU(inplace=True)\n",
       "            )\n",
       "          )\n",
       "        )\n",
       "      )\n",
       "      (22): Detect(\n",
       "        (cv2): ModuleList(\n",
       "          (0): Sequential(\n",
       "            (0): Conv(\n",
       "              (conv): Conv2d(192, 64, kernel_size=(3, 3), stride=(1, 1), padding=(1, 1))\n",
       "              (act): SiLU(inplace=True)\n",
       "            )\n",
       "            (1): Conv(\n",
       "              (conv): Conv2d(64, 64, kernel_size=(3, 3), stride=(1, 1), padding=(1, 1))\n",
       "              (act): SiLU(inplace=True)\n",
       "            )\n",
       "            (2): Conv2d(64, 64, kernel_size=(1, 1), stride=(1, 1))\n",
       "          )\n",
       "          (1): Sequential(\n",
       "            (0): Conv(\n",
       "              (conv): Conv2d(384, 64, kernel_size=(3, 3), stride=(1, 1), padding=(1, 1))\n",
       "              (act): SiLU(inplace=True)\n",
       "            )\n",
       "            (1): Conv(\n",
       "              (conv): Conv2d(64, 64, kernel_size=(3, 3), stride=(1, 1), padding=(1, 1))\n",
       "              (act): SiLU(inplace=True)\n",
       "            )\n",
       "            (2): Conv2d(64, 64, kernel_size=(1, 1), stride=(1, 1))\n",
       "          )\n",
       "          (2): Sequential(\n",
       "            (0): Conv(\n",
       "              (conv): Conv2d(576, 64, kernel_size=(3, 3), stride=(1, 1), padding=(1, 1))\n",
       "              (act): SiLU(inplace=True)\n",
       "            )\n",
       "            (1): Conv(\n",
       "              (conv): Conv2d(64, 64, kernel_size=(3, 3), stride=(1, 1), padding=(1, 1))\n",
       "              (act): SiLU(inplace=True)\n",
       "            )\n",
       "            (2): Conv2d(64, 64, kernel_size=(1, 1), stride=(1, 1))\n",
       "          )\n",
       "        )\n",
       "        (cv3): ModuleList(\n",
       "          (0): Sequential(\n",
       "            (0): Conv(\n",
       "              (conv): Conv2d(192, 192, kernel_size=(3, 3), stride=(1, 1), padding=(1, 1))\n",
       "              (act): SiLU(inplace=True)\n",
       "            )\n",
       "            (1): Conv(\n",
       "              (conv): Conv2d(192, 192, kernel_size=(3, 3), stride=(1, 1), padding=(1, 1))\n",
       "              (act): SiLU(inplace=True)\n",
       "            )\n",
       "            (2): Conv2d(192, 10, kernel_size=(1, 1), stride=(1, 1))\n",
       "          )\n",
       "          (1): Sequential(\n",
       "            (0): Conv(\n",
       "              (conv): Conv2d(384, 192, kernel_size=(3, 3), stride=(1, 1), padding=(1, 1))\n",
       "              (act): SiLU(inplace=True)\n",
       "            )\n",
       "            (1): Conv(\n",
       "              (conv): Conv2d(192, 192, kernel_size=(3, 3), stride=(1, 1), padding=(1, 1))\n",
       "              (act): SiLU(inplace=True)\n",
       "            )\n",
       "            (2): Conv2d(192, 10, kernel_size=(1, 1), stride=(1, 1))\n",
       "          )\n",
       "          (2): Sequential(\n",
       "            (0): Conv(\n",
       "              (conv): Conv2d(576, 192, kernel_size=(3, 3), stride=(1, 1), padding=(1, 1))\n",
       "              (act): SiLU(inplace=True)\n",
       "            )\n",
       "            (1): Conv(\n",
       "              (conv): Conv2d(192, 192, kernel_size=(3, 3), stride=(1, 1), padding=(1, 1))\n",
       "              (act): SiLU(inplace=True)\n",
       "            )\n",
       "            (2): Conv2d(192, 10, kernel_size=(1, 1), stride=(1, 1))\n",
       "          )\n",
       "        )\n",
       "        (dfl): DFL(\n",
       "          (conv): Conv2d(16, 1, kernel_size=(1, 1), stride=(1, 1), bias=False)\n",
       "        )\n",
       "      )\n",
       "    )\n",
       "  )\n",
       ")"
      ]
     },
     "execution_count": 24,
     "metadata": {},
     "output_type": "execute_result"
    }
   ],
   "source": [
    "model_pruned_test = YOLO(\"../f1-strategy/weights/model_pruned_best.pt\")\n",
    "\n",
    "model_pruned_test.to(DEVICE)"
   ]
  },
  {
   "cell_type": "code",
   "execution_count": null,
   "metadata": {},
   "outputs": [
    {
     "name": "stdout",
     "output_type": "stream",
     "text": [
      "\n",
      "image 1/11 c:\\Users\\victo\\Desktop\\Documents\\Tercer ao\\Segundo Cuatrimestre\\Finales\\scripts\\..\\f1-strategy\\f1-dataset\\test\\images\\1-2023-Brazilian-GP-FP1-21_jpg.rf.e0a6d6d14a2b145d1285111d65dcf969.jpg: 736x736 1 Ferarri, 105.0ms\n",
      "image 2/11 c:\\Users\\victo\\Desktop\\Documents\\Tercer ao\\Segundo Cuatrimestre\\Finales\\scripts\\..\\f1-strategy\\f1-dataset\\test\\images\\1019924227-LAT-20231105-GP2320_143500SMG_2193-747_jpg.rf.cd24225e35180d6a3ede83dfb291abea.jpg: 736x736 1 Kick Sauber, 1 Red Bull, 2 Williamss, 18.9ms\n",
      "image 3/11 c:\\Users\\victo\\Desktop\\Documents\\Tercer ao\\Segundo Cuatrimestre\\Finales\\scripts\\..\\f1-strategy\\f1-dataset\\test\\images\\13-sunday-mexicocity-2023_jpg.rf.9fb9bf359354501321e3dbd03e75d0d6.jpg: 736x736 1 Racing Bulls, 1 Aston Martin, 18.1ms\n",
      "image 4/11 c:\\Users\\victo\\Desktop\\Documents\\Tercer ao\\Segundo Cuatrimestre\\Finales\\scripts\\..\\f1-strategy\\f1-dataset\\test\\images\\Ferraritop_jpg.rf.2986765a7cdb43c522f47262e9e4b1ab.jpg: 736x736 1 Ferarri, 18.7ms\n",
      "image 5/11 c:\\Users\\victo\\Desktop\\Documents\\Tercer ao\\Segundo Cuatrimestre\\Finales\\scripts\\..\\f1-strategy\\f1-dataset\\test\\images\\atbacl_jpg.rf.a5f559982c9977a9dd4944ba25157191.jpg: 736x736 1 Racing Bulls, 17.5ms\n",
      "image 6/11 c:\\Users\\victo\\Desktop\\Documents\\Tercer ao\\Segundo Cuatrimestre\\Finales\\scripts\\..\\f1-strategy\\f1-dataset\\test\\images\\frontside_jpg.rf.7c74ea6652d134b294e4f876d13517ce.jpg: 736x736 1 Mercedes, 18.8ms\n",
      "image 7/11 c:\\Users\\victo\\Desktop\\Documents\\Tercer ao\\Segundo Cuatrimestre\\Finales\\scripts\\..\\f1-strategy\\f1-dataset\\test\\images\\lowprofileAR_jpg.rf.28710b56c53ea202a7d7ce7df7cb3ad4.jpg: 736x736 1 Red Bull, 18.8ms\n",
      "image 8/11 c:\\Users\\victo\\Desktop\\Documents\\Tercer ao\\Segundo Cuatrimestre\\Finales\\scripts\\..\\f1-strategy\\f1-dataset\\test\\images\\m404125_jpg.rf.fafa711c48f08720af31bc6667e93428.jpg: 736x736 1 Aston Martin, 16.9ms\n",
      "image 9/11 c:\\Users\\victo\\Desktop\\Documents\\Tercer ao\\Segundo Cuatrimestre\\Finales\\scripts\\..\\f1-strategy\\f1-dataset\\test\\images\\mclarentfrontside_jpg.rf.672dfe2daba2a832744a238ddcd824d4.jpg: 736x736 1 Racing Bulls, 1 Mclaren, 16.4ms\n",
      "image 10/11 c:\\Users\\victo\\Desktop\\Documents\\Tercer ao\\Segundo Cuatrimestre\\Finales\\scripts\\..\\f1-strategy\\f1-dataset\\test\\images\\rbfullside_jpg.rf.24fcc0caff1ddb59697ea96006bcd93a.jpg: 736x736 1 Red Bull, 16.0ms\n",
      "image 11/11 c:\\Users\\victo\\Desktop\\Documents\\Tercer ao\\Segundo Cuatrimestre\\Finales\\scripts\\..\\f1-strategy\\f1-dataset\\test\\images\\siderightat_jpg.rf.006445f880bb837e2f454d34739750f5.jpg: 736x736 1 Racing Bulls, 17.3ms\n",
      "Speed: 3.8ms preprocess, 25.7ms inference, 2.2ms postprocess per image at shape (1, 3, 736, 736)\n",
      "Results saved to \u001b[1mruns\\detect\\predict5\u001b[0m\n",
      "[ultralytics.engine.results.Results object with attributes:\n",
      "\n",
      "boxes: ultralytics.engine.results.Boxes object\n",
      "keypoints: None\n",
      "masks: None\n",
      "names: {0: 'Kick Sauber', 1: 'Racing Bulls', 2: 'Alpine', 3: 'Aston Martin', 4: 'Ferarri', 5: 'Haas', 6: 'Mclaren', 7: 'Mercedes', 8: 'Red Bull', 9: 'Williams'}\n",
      "obb: None\n",
      "orig_img: array([[[ 32,  39,  12],\n",
      "        [ 35,  42,  15],\n",
      "        [ 47,  52,  25],\n",
      "        ...,\n",
      "        [233, 220, 222],\n",
      "        [233, 220, 222],\n",
      "        [233, 220, 222]],\n",
      "\n",
      "       [[ 30,  37,  10],\n",
      "        [ 32,  39,  12],\n",
      "        [ 42,  47,  20],\n",
      "        ...,\n",
      "        [234, 221, 223],\n",
      "        [233, 220, 222],\n",
      "        [233, 220, 222]],\n",
      "\n",
      "       [[ 26,  33,   6],\n",
      "        [ 28,  35,   8],\n",
      "        [ 36,  40,  15],\n",
      "        ...,\n",
      "        [234, 221, 223],\n",
      "        [234, 221, 223],\n",
      "        [233, 220, 222]],\n",
      "\n",
      "       ...,\n",
      "\n",
      "       [[ 29,  88,  67],\n",
      "        [ 27,  89,  65],\n",
      "        [ 27,  89,  67],\n",
      "        ...,\n",
      "        [136, 145, 154],\n",
      "        [135, 144, 153],\n",
      "        [134, 143, 152]],\n",
      "\n",
      "       [[ 30,  92,  68],\n",
      "        [ 28,  93,  67],\n",
      "        [ 27,  92,  67],\n",
      "        ...,\n",
      "        [137, 146, 155],\n",
      "        [137, 146, 155],\n",
      "        [137, 146, 155]],\n",
      "\n",
      "       [[ 29,  94,  68],\n",
      "        [ 29,  94,  68],\n",
      "        [ 27,  94,  67],\n",
      "        ...,\n",
      "        [134, 143, 152],\n",
      "        [134, 143, 152],\n",
      "        [134, 143, 152]]], dtype=uint8)\n",
      "orig_shape: (640, 640)\n",
      "path: 'c:\\\\Users\\\\victo\\\\Desktop\\\\Documents\\\\Tercer año\\\\Segundo Cuatrimestre\\\\Finales\\\\scripts\\\\..\\\\f1-strategy\\\\f1-dataset\\\\test\\\\images\\\\1-2023-Brazilian-GP-FP1-21_jpg.rf.e0a6d6d14a2b145d1285111d65dcf969.jpg'\n",
      "probs: None\n",
      "save_dir: 'runs\\\\detect\\\\predict5'\n",
      "speed: {'preprocess': 6.760597229003906, 'inference': 104.97808456420898, 'postprocess': 2.093076705932617}, ultralytics.engine.results.Results object with attributes:\n",
      "\n",
      "boxes: ultralytics.engine.results.Boxes object\n",
      "keypoints: None\n",
      "masks: None\n",
      "names: {0: 'Kick Sauber', 1: 'Racing Bulls', 2: 'Alpine', 3: 'Aston Martin', 4: 'Ferarri', 5: 'Haas', 6: 'Mclaren', 7: 'Mercedes', 8: 'Red Bull', 9: 'Williams'}\n",
      "obb: None\n",
      "orig_img: array([[[222, 180, 143],\n",
      "        [222, 180, 143],\n",
      "        [222, 180, 143],\n",
      "        ...,\n",
      "        [226, 186, 144],\n",
      "        [226, 186, 144],\n",
      "        [226, 186, 144]],\n",
      "\n",
      "       [[222, 180, 143],\n",
      "        [222, 180, 143],\n",
      "        [222, 180, 143],\n",
      "        ...,\n",
      "        [226, 186, 144],\n",
      "        [226, 186, 144],\n",
      "        [226, 186, 144]],\n",
      "\n",
      "       [[222, 180, 143],\n",
      "        [222, 180, 143],\n",
      "        [222, 180, 143],\n",
      "        ...,\n",
      "        [226, 186, 144],\n",
      "        [226, 186, 144],\n",
      "        [226, 186, 144]],\n",
      "\n",
      "       ...,\n",
      "\n",
      "       [[ 61,  62,  58],\n",
      "        [ 61,  62,  58],\n",
      "        [ 61,  62,  58],\n",
      "        ...,\n",
      "        [115, 192,  64],\n",
      "        [115, 192,  64],\n",
      "        [115, 193,  62]],\n",
      "\n",
      "       [[ 62,  58,  57],\n",
      "        [ 62,  58,  57],\n",
      "        [ 63,  58,  57],\n",
      "        ...,\n",
      "        [111, 195,  59],\n",
      "        [111, 195,  59],\n",
      "        [111, 196,  58]],\n",
      "\n",
      "       [[ 65,  59,  60],\n",
      "        [ 65,  59,  60],\n",
      "        [ 67,  59,  60],\n",
      "        ...,\n",
      "        [110, 196,  58],\n",
      "        [110, 197,  57],\n",
      "        [110, 197,  57]]], dtype=uint8)\n",
      "orig_shape: (640, 640)\n",
      "path: 'c:\\\\Users\\\\victo\\\\Desktop\\\\Documents\\\\Tercer año\\\\Segundo Cuatrimestre\\\\Finales\\\\scripts\\\\..\\\\f1-strategy\\\\f1-dataset\\\\test\\\\images\\\\1019924227-LAT-20231105-GP2320_143500SMG_2193-747_jpg.rf.cd24225e35180d6a3ede83dfb291abea.jpg'\n",
      "probs: None\n",
      "save_dir: 'runs\\\\detect\\\\predict5'\n",
      "speed: {'preprocess': 2.931833267211914, 'inference': 18.941879272460938, 'postprocess': 8.083820343017578}, ultralytics.engine.results.Results object with attributes:\n",
      "\n",
      "boxes: ultralytics.engine.results.Boxes object\n",
      "keypoints: None\n",
      "masks: None\n",
      "names: {0: 'Kick Sauber', 1: 'Racing Bulls', 2: 'Alpine', 3: 'Aston Martin', 4: 'Ferarri', 5: 'Haas', 6: 'Mclaren', 7: 'Mercedes', 8: 'Red Bull', 9: 'Williams'}\n",
      "obb: None\n",
      "orig_img: array([[[ 54,  52,  52],\n",
      "        [ 54,  52,  52],\n",
      "        [ 54,  52,  52],\n",
      "        ...,\n",
      "        [ 37,  35,  35],\n",
      "        [ 37,  35,  35],\n",
      "        [ 37,  35,  35]],\n",
      "\n",
      "       [[ 54,  52,  52],\n",
      "        [ 54,  52,  52],\n",
      "        [ 54,  52,  52],\n",
      "        ...,\n",
      "        [ 37,  35,  35],\n",
      "        [ 37,  35,  35],\n",
      "        [ 37,  35,  35]],\n",
      "\n",
      "       [[ 54,  52,  52],\n",
      "        [ 54,  52,  52],\n",
      "        [ 54,  52,  52],\n",
      "        ...,\n",
      "        [ 37,  35,  35],\n",
      "        [ 37,  35,  35],\n",
      "        [ 37,  35,  35]],\n",
      "\n",
      "       ...,\n",
      "\n",
      "       [[ 84,  87,  91],\n",
      "        [ 84,  87,  91],\n",
      "        [ 84,  87,  91],\n",
      "        ...,\n",
      "        [195, 198, 196],\n",
      "        [190, 193, 191],\n",
      "        [187, 190, 188]],\n",
      "\n",
      "       [[ 84,  87,  91],\n",
      "        [ 84,  87,  91],\n",
      "        [ 84,  87,  91],\n",
      "        ...,\n",
      "        [190, 194, 189],\n",
      "        [185, 189, 184],\n",
      "        [182, 186, 181]],\n",
      "\n",
      "       [[ 84,  87,  91],\n",
      "        [ 84,  87,  91],\n",
      "        [ 84,  87,  91],\n",
      "        ...,\n",
      "        [186, 190, 185],\n",
      "        [181, 185, 180],\n",
      "        [178, 182, 177]]], dtype=uint8)\n",
      "orig_shape: (640, 640)\n",
      "path: 'c:\\\\Users\\\\victo\\\\Desktop\\\\Documents\\\\Tercer año\\\\Segundo Cuatrimestre\\\\Finales\\\\scripts\\\\..\\\\f1-strategy\\\\f1-dataset\\\\test\\\\images\\\\13-sunday-mexicocity-2023_jpg.rf.9fb9bf359354501321e3dbd03e75d0d6.jpg'\n",
      "probs: None\n",
      "save_dir: 'runs\\\\detect\\\\predict5'\n",
      "speed: {'preprocess': 3.0531883239746094, 'inference': 18.12458038330078, 'postprocess': 1.9993782043457031}, ultralytics.engine.results.Results object with attributes:\n",
      "\n",
      "boxes: ultralytics.engine.results.Boxes object\n",
      "keypoints: None\n",
      "masks: None\n",
      "names: {0: 'Kick Sauber', 1: 'Racing Bulls', 2: 'Alpine', 3: 'Aston Martin', 4: 'Ferarri', 5: 'Haas', 6: 'Mclaren', 7: 'Mercedes', 8: 'Red Bull', 9: 'Williams'}\n",
      "obb: None\n",
      "orig_img: array([[[ 20,  21,  19],\n",
      "        [ 26,  27,  25],\n",
      "        [ 32,  33,  31],\n",
      "        ...,\n",
      "        [ 49,  86, 108],\n",
      "        [ 48,  85, 107],\n",
      "        [ 47,  84, 106]],\n",
      "\n",
      "       [[  7,   8,   6],\n",
      "        [ 10,  11,   9],\n",
      "        [ 14,  15,  13],\n",
      "        ...,\n",
      "        [ 45,  80, 100],\n",
      "        [ 44,  79,  99],\n",
      "        [ 43,  78,  98]],\n",
      "\n",
      "       [[  0,   1,   1],\n",
      "        [  0,   0,   0],\n",
      "        [  0,   1,   1],\n",
      "        ...,\n",
      "        [ 46,  78,  97],\n",
      "        [ 46,  78,  97],\n",
      "        [ 45,  77,  96]],\n",
      "\n",
      "       ...,\n",
      "\n",
      "       [[ 45,  49,  43],\n",
      "        [ 45,  49,  43],\n",
      "        [ 45,  49,  43],\n",
      "        ...,\n",
      "        [ 77,  86,  96],\n",
      "        [ 77,  86,  96],\n",
      "        [ 78,  87,  97]],\n",
      "\n",
      "       [[ 44,  48,  42],\n",
      "        [ 44,  48,  42],\n",
      "        [ 44,  48,  42],\n",
      "        ...,\n",
      "        [ 75,  84,  94],\n",
      "        [ 76,  85,  95],\n",
      "        [ 77,  86,  96]],\n",
      "\n",
      "       [[ 44,  48,  42],\n",
      "        [ 44,  48,  42],\n",
      "        [ 44,  48,  42],\n",
      "        ...,\n",
      "        [ 71,  80,  90],\n",
      "        [ 72,  81,  91],\n",
      "        [ 74,  83,  93]]], dtype=uint8)\n",
      "orig_shape: (640, 640)\n",
      "path: 'c:\\\\Users\\\\victo\\\\Desktop\\\\Documents\\\\Tercer año\\\\Segundo Cuatrimestre\\\\Finales\\\\scripts\\\\..\\\\f1-strategy\\\\f1-dataset\\\\test\\\\images\\\\Ferraritop_jpg.rf.2986765a7cdb43c522f47262e9e4b1ab.jpg'\n",
      "probs: None\n",
      "save_dir: 'runs\\\\detect\\\\predict5'\n",
      "speed: {'preprocess': 3.2911300659179688, 'inference': 18.717050552368164, 'postprocess': 1.0082721710205078}, ultralytics.engine.results.Results object with attributes:\n",
      "\n",
      "boxes: ultralytics.engine.results.Boxes object\n",
      "keypoints: None\n",
      "masks: None\n",
      "names: {0: 'Kick Sauber', 1: 'Racing Bulls', 2: 'Alpine', 3: 'Aston Martin', 4: 'Ferarri', 5: 'Haas', 6: 'Mclaren', 7: 'Mercedes', 8: 'Red Bull', 9: 'Williams'}\n",
      "obb: None\n",
      "orig_img: array([[[ 57,  67, 137],\n",
      "        [ 57,  67, 137],\n",
      "        [ 57,  66, 139],\n",
      "        ...,\n",
      "        [ 50,  43, 212],\n",
      "        [ 50,  42, 213],\n",
      "        [ 50,  42, 213]],\n",
      "\n",
      "       [[ 57,  66, 139],\n",
      "        [ 58,  67, 140],\n",
      "        [ 58,  67, 141],\n",
      "        ...,\n",
      "        [ 49,  42, 211],\n",
      "        [ 50,  42, 213],\n",
      "        [ 50,  42, 213]],\n",
      "\n",
      "       [[ 60,  66, 143],\n",
      "        [ 61,  67, 144],\n",
      "        [ 61,  66, 145],\n",
      "        ...,\n",
      "        [ 49,  42, 211],\n",
      "        [ 49,  42, 211],\n",
      "        [ 50,  43, 212]],\n",
      "\n",
      "       ...,\n",
      "\n",
      "       [[246, 216, 105],\n",
      "        [246, 216, 105],\n",
      "        [245, 215, 104],\n",
      "        ...,\n",
      "        [247, 228, 213],\n",
      "        [247, 228, 215],\n",
      "        [248, 229, 216]],\n",
      "\n",
      "       [[245, 215, 104],\n",
      "        [245, 215, 104],\n",
      "        [244, 214, 103],\n",
      "        ...,\n",
      "        [237, 216, 201],\n",
      "        [238, 216, 204],\n",
      "        [238, 216, 204]],\n",
      "\n",
      "       [[244, 214, 103],\n",
      "        [244, 214, 103],\n",
      "        [243, 213, 102],\n",
      "        ...,\n",
      "        [228, 207, 192],\n",
      "        [228, 206, 194],\n",
      "        [229, 207, 195]]], dtype=uint8)\n",
      "orig_shape: (640, 640)\n",
      "path: 'c:\\\\Users\\\\victo\\\\Desktop\\\\Documents\\\\Tercer año\\\\Segundo Cuatrimestre\\\\Finales\\\\scripts\\\\..\\\\f1-strategy\\\\f1-dataset\\\\test\\\\images\\\\atbacl_jpg.rf.a5f559982c9977a9dd4944ba25157191.jpg'\n",
      "probs: None\n",
      "save_dir: 'runs\\\\detect\\\\predict5'\n",
      "speed: {'preprocess': 3.0906200408935547, 'inference': 17.528295516967773, 'postprocess': 2.462625503540039}, ultralytics.engine.results.Results object with attributes:\n",
      "\n",
      "boxes: ultralytics.engine.results.Boxes object\n",
      "keypoints: None\n",
      "masks: None\n",
      "names: {0: 'Kick Sauber', 1: 'Racing Bulls', 2: 'Alpine', 3: 'Aston Martin', 4: 'Ferarri', 5: 'Haas', 6: 'Mclaren', 7: 'Mercedes', 8: 'Red Bull', 9: 'Williams'}\n",
      "obb: None\n",
      "orig_img: array([[[ 27,  57,  52],\n",
      "        [ 28,  58,  53],\n",
      "        [ 30,  60,  55],\n",
      "        ...,\n",
      "        [132, 130, 130],\n",
      "        [131, 129, 129],\n",
      "        [131, 129, 129]],\n",
      "\n",
      "       [[ 26,  56,  51],\n",
      "        [ 27,  57,  52],\n",
      "        [ 29,  59,  54],\n",
      "        ...,\n",
      "        [134, 132, 132],\n",
      "        [134, 132, 132],\n",
      "        [133, 131, 131]],\n",
      "\n",
      "       [[ 25,  55,  50],\n",
      "        [ 26,  56,  51],\n",
      "        [ 28,  58,  53],\n",
      "        ...,\n",
      "        [138, 136, 136],\n",
      "        [137, 135, 135],\n",
      "        [137, 135, 135]],\n",
      "\n",
      "       ...,\n",
      "\n",
      "       [[139, 141, 142],\n",
      "        [138, 140, 141],\n",
      "        [138, 140, 141],\n",
      "        ...,\n",
      "        [129, 127, 127],\n",
      "        [133, 131, 131],\n",
      "        [136, 134, 134]],\n",
      "\n",
      "       [[139, 141, 142],\n",
      "        [139, 141, 142],\n",
      "        [138, 140, 141],\n",
      "        ...,\n",
      "        [121, 119, 119],\n",
      "        [124, 122, 122],\n",
      "        [128, 126, 126]],\n",
      "\n",
      "       [[136, 138, 139],\n",
      "        [137, 139, 140],\n",
      "        [138, 140, 141],\n",
      "        ...,\n",
      "        [130, 128, 128],\n",
      "        [132, 130, 130],\n",
      "        [136, 134, 134]]], dtype=uint8)\n",
      "orig_shape: (640, 640)\n",
      "path: 'c:\\\\Users\\\\victo\\\\Desktop\\\\Documents\\\\Tercer año\\\\Segundo Cuatrimestre\\\\Finales\\\\scripts\\\\..\\\\f1-strategy\\\\f1-dataset\\\\test\\\\images\\\\frontside_jpg.rf.7c74ea6652d134b294e4f876d13517ce.jpg'\n",
      "probs: None\n",
      "save_dir: 'runs\\\\detect\\\\predict5'\n",
      "speed: {'preprocess': 3.807544708251953, 'inference': 18.790006637573242, 'postprocess': 0.9934902191162109}, ultralytics.engine.results.Results object with attributes:\n",
      "\n",
      "boxes: ultralytics.engine.results.Boxes object\n",
      "keypoints: None\n",
      "masks: None\n",
      "names: {0: 'Kick Sauber', 1: 'Racing Bulls', 2: 'Alpine', 3: 'Aston Martin', 4: 'Ferarri', 5: 'Haas', 6: 'Mclaren', 7: 'Mercedes', 8: 'Red Bull', 9: 'Williams'}\n",
      "obb: None\n",
      "orig_img: array([[[ 31,  30,  34],\n",
      "        [ 31,  30,  34],\n",
      "        [ 32,  31,  35],\n",
      "        ...,\n",
      "        [ 72,  61,  53],\n",
      "        [ 72,  61,  53],\n",
      "        [ 72,  61,  53]],\n",
      "\n",
      "       [[ 30,  29,  33],\n",
      "        [ 31,  30,  34],\n",
      "        [ 31,  30,  34],\n",
      "        ...,\n",
      "        [ 72,  61,  53],\n",
      "        [ 72,  61,  53],\n",
      "        [ 72,  61,  53]],\n",
      "\n",
      "       [[ 28,  30,  31],\n",
      "        [ 29,  31,  32],\n",
      "        [ 30,  32,  33],\n",
      "        ...,\n",
      "        [ 72,  61,  53],\n",
      "        [ 72,  61,  53],\n",
      "        [ 72,  61,  53]],\n",
      "\n",
      "       ...,\n",
      "\n",
      "       [[ 62,  55, 200],\n",
      "        [ 62,  55, 200],\n",
      "        [ 62,  55, 200],\n",
      "        ...,\n",
      "        [ 61,  52, 196],\n",
      "        [ 61,  52, 196],\n",
      "        [ 61,  52, 196]],\n",
      "\n",
      "       [[ 62,  55, 200],\n",
      "        [ 62,  55, 200],\n",
      "        [ 62,  55, 200],\n",
      "        ...,\n",
      "        [ 61,  52, 196],\n",
      "        [ 61,  52, 196],\n",
      "        [ 61,  52, 196]],\n",
      "\n",
      "       [[ 62,  55, 200],\n",
      "        [ 62,  55, 200],\n",
      "        [ 62,  55, 200],\n",
      "        ...,\n",
      "        [ 61,  52, 196],\n",
      "        [ 61,  52, 196],\n",
      "        [ 61,  52, 196]]], dtype=uint8)\n",
      "orig_shape: (640, 640)\n",
      "path: 'c:\\\\Users\\\\victo\\\\Desktop\\\\Documents\\\\Tercer año\\\\Segundo Cuatrimestre\\\\Finales\\\\scripts\\\\..\\\\f1-strategy\\\\f1-dataset\\\\test\\\\images\\\\lowprofileAR_jpg.rf.28710b56c53ea202a7d7ce7df7cb3ad4.jpg'\n",
      "probs: None\n",
      "save_dir: 'runs\\\\detect\\\\predict5'\n",
      "speed: {'preprocess': 3.004789352416992, 'inference': 18.789052963256836, 'postprocess': 1.6620159149169922}, ultralytics.engine.results.Results object with attributes:\n",
      "\n",
      "boxes: ultralytics.engine.results.Boxes object\n",
      "keypoints: None\n",
      "masks: None\n",
      "names: {0: 'Kick Sauber', 1: 'Racing Bulls', 2: 'Alpine', 3: 'Aston Martin', 4: 'Ferarri', 5: 'Haas', 6: 'Mclaren', 7: 'Mercedes', 8: 'Red Bull', 9: 'Williams'}\n",
      "obb: None\n",
      "orig_img: array([[[ 34,  27,  30],\n",
      "        [ 34,  27,  30],\n",
      "        [ 34,  27,  30],\n",
      "        ...,\n",
      "        [ 85,  71,  73],\n",
      "        [ 79,  65,  67],\n",
      "        [ 74,  60,  62]],\n",
      "\n",
      "       [[ 34,  27,  30],\n",
      "        [ 34,  27,  30],\n",
      "        [ 34,  27,  30],\n",
      "        ...,\n",
      "        [ 74,  60,  62],\n",
      "        [ 68,  54,  56],\n",
      "        [ 64,  50,  52]],\n",
      "\n",
      "       [[ 34,  27,  30],\n",
      "        [ 34,  27,  30],\n",
      "        [ 34,  27,  30],\n",
      "        ...,\n",
      "        [ 61,  47,  49],\n",
      "        [ 56,  42,  44],\n",
      "        [ 53,  39,  41]],\n",
      "\n",
      "       ...,\n",
      "\n",
      "       [[154,  98,  39],\n",
      "        [154,  98,  39],\n",
      "        [154,  98,  39],\n",
      "        ...,\n",
      "        [174, 173, 175],\n",
      "        [174, 173, 175],\n",
      "        [174, 173, 175]],\n",
      "\n",
      "       [[154,  97,  41],\n",
      "        [154,  97,  41],\n",
      "        [156,  97,  41],\n",
      "        ...,\n",
      "        [174, 173, 175],\n",
      "        [174, 173, 175],\n",
      "        [174, 173, 175]],\n",
      "\n",
      "       [[154,  97,  41],\n",
      "        [154,  97,  41],\n",
      "        [156,  97,  41],\n",
      "        ...,\n",
      "        [174, 173, 175],\n",
      "        [174, 173, 175],\n",
      "        [174, 173, 175]]], dtype=uint8)\n",
      "orig_shape: (640, 640)\n",
      "path: 'c:\\\\Users\\\\victo\\\\Desktop\\\\Documents\\\\Tercer año\\\\Segundo Cuatrimestre\\\\Finales\\\\scripts\\\\..\\\\f1-strategy\\\\f1-dataset\\\\test\\\\images\\\\m404125_jpg.rf.fafa711c48f08720af31bc6667e93428.jpg'\n",
      "probs: None\n",
      "save_dir: 'runs\\\\detect\\\\predict5'\n",
      "speed: {'preprocess': 4.739284515380859, 'inference': 16.867876052856445, 'postprocess': 1.0182857513427734}, ultralytics.engine.results.Results object with attributes:\n",
      "\n",
      "boxes: ultralytics.engine.results.Boxes object\n",
      "keypoints: None\n",
      "masks: None\n",
      "names: {0: 'Kick Sauber', 1: 'Racing Bulls', 2: 'Alpine', 3: 'Aston Martin', 4: 'Ferarri', 5: 'Haas', 6: 'Mclaren', 7: 'Mercedes', 8: 'Red Bull', 9: 'Williams'}\n",
      "obb: None\n",
      "orig_img: array([[[226, 210, 194],\n",
      "        [226, 210, 194],\n",
      "        [226, 210, 194],\n",
      "        ...,\n",
      "        [230, 214, 198],\n",
      "        [230, 214, 198],\n",
      "        [230, 214, 198]],\n",
      "\n",
      "       [[226, 210, 194],\n",
      "        [226, 210, 194],\n",
      "        [226, 210, 194],\n",
      "        ...,\n",
      "        [230, 214, 198],\n",
      "        [230, 214, 198],\n",
      "        [230, 214, 198]],\n",
      "\n",
      "       [[226, 210, 194],\n",
      "        [226, 210, 194],\n",
      "        [226, 210, 194],\n",
      "        ...,\n",
      "        [230, 214, 198],\n",
      "        [230, 214, 198],\n",
      "        [230, 214, 198]],\n",
      "\n",
      "       ...,\n",
      "\n",
      "       [[110, 109, 111],\n",
      "        [110, 109, 111],\n",
      "        [110, 109, 111],\n",
      "        ...,\n",
      "        [113, 112, 114],\n",
      "        [112, 111, 113],\n",
      "        [111, 110, 112]],\n",
      "\n",
      "       [[107, 106, 108],\n",
      "        [107, 106, 108],\n",
      "        [108, 107, 109],\n",
      "        ...,\n",
      "        [110, 109, 111],\n",
      "        [108, 107, 109],\n",
      "        [107, 106, 108]],\n",
      "\n",
      "       [[104, 103, 105],\n",
      "        [105, 104, 106],\n",
      "        [106, 105, 107],\n",
      "        ...,\n",
      "        [106, 105, 107],\n",
      "        [105, 104, 106],\n",
      "        [104, 103, 105]]], dtype=uint8)\n",
      "orig_shape: (640, 640)\n",
      "path: 'c:\\\\Users\\\\victo\\\\Desktop\\\\Documents\\\\Tercer año\\\\Segundo Cuatrimestre\\\\Finales\\\\scripts\\\\..\\\\f1-strategy\\\\f1-dataset\\\\test\\\\images\\\\mclarentfrontside_jpg.rf.672dfe2daba2a832744a238ddcd824d4.jpg'\n",
      "probs: None\n",
      "save_dir: 'runs\\\\detect\\\\predict5'\n",
      "speed: {'preprocess': 3.7262439727783203, 'inference': 16.391277313232422, 'postprocess': 2.004861831665039}, ultralytics.engine.results.Results object with attributes:\n",
      "\n",
      "boxes: ultralytics.engine.results.Boxes object\n",
      "keypoints: None\n",
      "masks: None\n",
      "names: {0: 'Kick Sauber', 1: 'Racing Bulls', 2: 'Alpine', 3: 'Aston Martin', 4: 'Ferarri', 5: 'Haas', 6: 'Mclaren', 7: 'Mercedes', 8: 'Red Bull', 9: 'Williams'}\n",
      "obb: None\n",
      "orig_img: array([[[175, 119,  72],\n",
      "        [175, 119,  72],\n",
      "        [175, 119,  72],\n",
      "        ...,\n",
      "        [ 96,  80,  51],\n",
      "        [ 96,  80,  51],\n",
      "        [ 96,  80,  51]],\n",
      "\n",
      "       [[175, 119,  72],\n",
      "        [175, 119,  72],\n",
      "        [175, 119,  72],\n",
      "        ...,\n",
      "        [ 94,  78,  49],\n",
      "        [ 94,  78,  49],\n",
      "        [ 94,  78,  49]],\n",
      "\n",
      "       [[175, 119,  72],\n",
      "        [175, 119,  72],\n",
      "        [175, 119,  72],\n",
      "        ...,\n",
      "        [ 89,  75,  47],\n",
      "        [ 89,  75,  47],\n",
      "        [ 89,  75,  47]],\n",
      "\n",
      "       ...,\n",
      "\n",
      "       [[ 30,  81,  74],\n",
      "        [ 30,  81,  74],\n",
      "        [ 30,  81,  74],\n",
      "        ...,\n",
      "        [ 32,  83,  76],\n",
      "        [ 32,  83,  76],\n",
      "        [ 32,  83,  76]],\n",
      "\n",
      "       [[ 32,  82,  78],\n",
      "        [ 32,  82,  78],\n",
      "        [ 32,  82,  78],\n",
      "        ...,\n",
      "        [ 31,  79,  73],\n",
      "        [ 31,  79,  73],\n",
      "        [ 31,  79,  73]],\n",
      "\n",
      "       [[ 33,  83,  79],\n",
      "        [ 33,  83,  79],\n",
      "        [ 33,  83,  79],\n",
      "        ...,\n",
      "        [ 28,  76,  70],\n",
      "        [ 28,  76,  70],\n",
      "        [ 28,  76,  70]]], dtype=uint8)\n",
      "orig_shape: (640, 640)\n",
      "path: 'c:\\\\Users\\\\victo\\\\Desktop\\\\Documents\\\\Tercer año\\\\Segundo Cuatrimestre\\\\Finales\\\\scripts\\\\..\\\\f1-strategy\\\\f1-dataset\\\\test\\\\images\\\\rbfullside_jpg.rf.24fcc0caff1ddb59697ea96006bcd93a.jpg'\n",
      "probs: None\n",
      "save_dir: 'runs\\\\detect\\\\predict5'\n",
      "speed: {'preprocess': 3.1387805938720703, 'inference': 16.021013259887695, 'postprocess': 2.1550655364990234}, ultralytics.engine.results.Results object with attributes:\n",
      "\n",
      "boxes: ultralytics.engine.results.Boxes object\n",
      "keypoints: None\n",
      "masks: None\n",
      "names: {0: 'Kick Sauber', 1: 'Racing Bulls', 2: 'Alpine', 3: 'Aston Martin', 4: 'Ferarri', 5: 'Haas', 6: 'Mclaren', 7: 'Mercedes', 8: 'Red Bull', 9: 'Williams'}\n",
      "obb: None\n",
      "orig_img: array([[[244, 236, 229],\n",
      "        [244, 236, 229],\n",
      "        [244, 236, 229],\n",
      "        ...,\n",
      "        [246, 236, 229],\n",
      "        [246, 236, 229],\n",
      "        [246, 236, 229]],\n",
      "\n",
      "       [[244, 236, 229],\n",
      "        [244, 236, 229],\n",
      "        [244, 236, 229],\n",
      "        ...,\n",
      "        [246, 236, 229],\n",
      "        [246, 236, 229],\n",
      "        [246, 236, 229]],\n",
      "\n",
      "       [[244, 236, 229],\n",
      "        [244, 236, 229],\n",
      "        [244, 236, 229],\n",
      "        ...,\n",
      "        [246, 236, 229],\n",
      "        [246, 236, 229],\n",
      "        [246, 236, 229]],\n",
      "\n",
      "       ...,\n",
      "\n",
      "       [[ 13,  85,  63],\n",
      "        [ 14,  86,  64],\n",
      "        [ 16,  88,  66],\n",
      "        ...,\n",
      "        [ 42, 108,  89],\n",
      "        [ 43, 109,  90],\n",
      "        [ 44, 110,  91]],\n",
      "\n",
      "       [[ 19,  88,  67],\n",
      "        [ 20,  89,  68],\n",
      "        [ 21,  90,  69],\n",
      "        ...,\n",
      "        [ 36, 100,  81],\n",
      "        [ 36, 100,  81],\n",
      "        [ 37, 101,  82]],\n",
      "\n",
      "       [[ 22,  91,  70],\n",
      "        [ 23,  92,  71],\n",
      "        [ 25,  94,  73],\n",
      "        ...,\n",
      "        [ 33,  97,  78],\n",
      "        [ 34,  98,  79],\n",
      "        [ 34,  98,  79]]], dtype=uint8)\n",
      "orig_shape: (640, 640)\n",
      "path: 'c:\\\\Users\\\\victo\\\\Desktop\\\\Documents\\\\Tercer año\\\\Segundo Cuatrimestre\\\\Finales\\\\scripts\\\\..\\\\f1-strategy\\\\f1-dataset\\\\test\\\\images\\\\siderightat_jpg.rf.006445f880bb837e2f454d34739750f5.jpg'\n",
      "probs: None\n",
      "save_dir: 'runs\\\\detect\\\\predict5'\n",
      "speed: {'preprocess': 4.331350326538086, 'inference': 17.25935935974121, 'postprocess': 1.0807514190673828}]\n"
     ]
    }
   ],
   "source": [
    "# Evaluar en el conjunto de prueba\n",
    "test_results_pruned = model_pruned_test.predict(\n",
    "    source=\"../f1-strategy/f1-dataset/test/images\", save=True)\n",
    "\n",
    "print(test_results_pruned)"
   ]
  },
  {
   "cell_type": "code",
   "execution_count": 4,
   "metadata": {},
   "outputs": [
    {
     "name": "stdout",
     "output_type": "stream",
     "text": [
      "Archivo ../f1-strategy\\f1-dataset\\data.yaml actualizado con pesos de clase:\n",
      "  - Kick Sauber: 1.0\n",
      "  - Racing Bulls: 1.0\n",
      "  - Alpine: 1.5\n",
      "  - Aston Martin: 1.0\n",
      "  - Ferarri: 1.0\n",
      "  - Haas: 1.0\n",
      "  - Mclaren: 1.0\n",
      "  - Mercedes: 1.0\n",
      "  - Red Bull: 1.5\n",
      "  - Williams: 2.0\n",
      "\n",
      "=== CONFIGURACIÓN DEL ENTRENAMIENTO ===\n",
      "Épocas: 50\n",
      "Batch size: 4\n",
      "Paciencia: 15\n",
      "Peso de clasificación: 7.0 (muy alto)\n",
      "Williams ponderado 2.0 veces más\n",
      "Learning rate: 0.00008 (muy bajo para aprendizaje preciso)\n",
      "Augmentación extrema para objetos a distancia\n",
      "===================================\n",
      "\n",
      "New https://pypi.org/project/ultralytics/8.3.80 available  Update with 'pip install -U ultralytics'\n",
      "WARNING  'label_smoothing' is deprecated and will be removed in in the future.\n",
      "Ultralytics 8.3.69  Python-3.10.16 torch-2.5.1+cu124 CUDA:0 (NVIDIA GeForce RTX 4060 Laptop GPU, 8188MiB)\n",
      "\u001b[34m\u001b[1mengine\\trainer: \u001b[0mtask=detect, mode=train, model=../f1-strategy/weights/yolov8m.pt, data=../f1-strategy\\f1-dataset\\data.yaml, epochs=50, time=None, patience=15, batch=4, imgsz=800, save=True, save_period=5, cache=False, device=0, workers=8, project=../f1-strategy/yolo-files/runs, name=train_extreme_cls, exist_ok=True, pretrained=True, optimizer=AdamW, verbose=True, seed=0, deterministic=True, single_cls=False, rect=False, cos_lr=False, close_mosaic=10, resume=False, amp=True, fraction=1.0, profile=False, freeze=None, multi_scale=False, overlap_mask=True, mask_ratio=4, dropout=0.0, val=True, split=val, save_json=False, save_hybrid=False, conf=None, iou=0.7, max_det=300, half=False, dnn=False, plots=True, source=None, vid_stride=1, stream_buffer=False, visualize=False, augment=False, agnostic_nms=False, classes=None, retina_masks=False, embed=None, show=False, save_frames=False, save_txt=False, save_conf=False, save_crop=False, show_labels=True, show_conf=True, show_boxes=True, line_width=None, format=torchscript, keras=False, optimize=False, int8=False, dynamic=False, simplify=True, opset=None, workspace=None, nms=False, lr0=8e-05, lrf=1e-06, momentum=0.937, weight_decay=0.002, warmup_epochs=8.0, warmup_momentum=0.8, warmup_bias_lr=0.1, box=6.0, cls=7.0, dfl=1.5, pose=12.0, kobj=1.0, nbs=64, hsv_h=0.015, hsv_s=0.9, hsv_v=0.8, degrees=2.5, translate=0.2, scale=0.8, shear=1.0, perspective=0.0001, flipud=0.05, fliplr=0.5, bgr=0.0, mosaic=0.95, mixup=0.25, copy_paste=0.3, copy_paste_mode=flip, auto_augment=randaugment, erasing=0.4, crop_fraction=1.0, cfg=None, tracker=botsort.yaml, save_dir=..\\f1-strategy\\yolo-files\\runs\\train_extreme_cls\n",
      "Overriding model.yaml nc=80 with nc=10\n",
      "\n",
      "                   from  n    params  module                                       arguments                     \n",
      "  0                  -1  1      1392  ultralytics.nn.modules.conv.Conv             [3, 48, 3, 2]                 \n",
      "  1                  -1  1     41664  ultralytics.nn.modules.conv.Conv             [48, 96, 3, 2]                \n",
      "  2                  -1  2    111360  ultralytics.nn.modules.block.C2f             [96, 96, 2, True]             \n",
      "  3                  -1  1    166272  ultralytics.nn.modules.conv.Conv             [96, 192, 3, 2]               \n",
      "  4                  -1  4    813312  ultralytics.nn.modules.block.C2f             [192, 192, 4, True]           \n",
      "  5                  -1  1    664320  ultralytics.nn.modules.conv.Conv             [192, 384, 3, 2]              \n",
      "  6                  -1  4   3248640  ultralytics.nn.modules.block.C2f             [384, 384, 4, True]           \n",
      "  7                  -1  1   1991808  ultralytics.nn.modules.conv.Conv             [384, 576, 3, 2]              \n",
      "  8                  -1  2   3985920  ultralytics.nn.modules.block.C2f             [576, 576, 2, True]           \n",
      "  9                  -1  1    831168  ultralytics.nn.modules.block.SPPF            [576, 576, 5]                 \n",
      " 10                  -1  1         0  torch.nn.modules.upsampling.Upsample         [None, 2, 'nearest']          \n",
      " 11             [-1, 6]  1         0  ultralytics.nn.modules.conv.Concat           [1]                           \n",
      " 12                  -1  2   1993728  ultralytics.nn.modules.block.C2f             [960, 384, 2]                 \n",
      " 13                  -1  1         0  torch.nn.modules.upsampling.Upsample         [None, 2, 'nearest']          \n",
      " 14             [-1, 4]  1         0  ultralytics.nn.modules.conv.Concat           [1]                           \n",
      " 15                  -1  2    517632  ultralytics.nn.modules.block.C2f             [576, 192, 2]                 \n",
      " 16                  -1  1    332160  ultralytics.nn.modules.conv.Conv             [192, 192, 3, 2]              \n",
      " 17            [-1, 12]  1         0  ultralytics.nn.modules.conv.Concat           [1]                           \n",
      " 18                  -1  2   1846272  ultralytics.nn.modules.block.C2f             [576, 384, 2]                 \n",
      " 19                  -1  1   1327872  ultralytics.nn.modules.conv.Conv             [384, 384, 3, 2]              \n",
      " 20             [-1, 9]  1         0  ultralytics.nn.modules.conv.Concat           [1]                           \n",
      " 21                  -1  2   4207104  ultralytics.nn.modules.block.C2f             [960, 576, 2]                 \n",
      " 22        [15, 18, 21]  1   3781486  ultralytics.nn.modules.head.Detect           [10, [192, 384, 576]]         \n",
      "Model summary: 295 layers, 25,862,110 parameters, 25,862,094 gradients, 79.1 GFLOPs\n",
      "\n",
      "Transferred 469/475 items from pretrained weights\n",
      "Freezing layer 'model.22.dfl.conv.weight'\n",
      "\u001b[34m\u001b[1mAMP: \u001b[0mrunning Automatic Mixed Precision (AMP) checks...\n",
      "\u001b[34m\u001b[1mAMP: \u001b[0mchecks passed \n"
     ]
    },
    {
     "name": "stderr",
     "output_type": "stream",
     "text": [
      "\u001b[34m\u001b[1mtrain: \u001b[0mScanning C:\\Users\\victo\\Desktop\\Documents\\Tercer año\\Segundo Cuatrimestre\\Finales\\f1-strategy\\f1-dataset\\train\\labels.cache... 2500 images, 0 backgrounds, 0 corrupt: 100%|██████████| 2500/2500 [00:00<?, ?it/s]"
     ]
    },
    {
     "name": "stdout",
     "output_type": "stream",
     "text": [
      "\u001b[34m\u001b[1malbumentations: \u001b[0mBlur(p=0.01, blur_limit=(3, 7)), MedianBlur(p=0.01, blur_limit=(3, 7)), ToGray(p=0.01, num_output_channels=3, method='weighted_average'), CLAHE(p=0.01, clip_limit=(1.0, 4.0), tile_grid_size=(8, 8))\n"
     ]
    },
    {
     "name": "stderr",
     "output_type": "stream",
     "text": [
      "\n",
      "\u001b[34m\u001b[1mval: \u001b[0mScanning C:\\Users\\victo\\Desktop\\Documents\\Tercer año\\Segundo Cuatrimestre\\Finales\\f1-strategy\\f1-dataset\\valid\\labels.cache... 20 images, 0 backgrounds, 0 corrupt: 100%|██████████| 20/20 [00:00<?, ?it/s]\n"
     ]
    },
    {
     "name": "stdout",
     "output_type": "stream",
     "text": [
      "Plotting labels to ..\\f1-strategy\\yolo-files\\runs\\train_extreme_cls\\labels.jpg... \n",
      "\u001b[34m\u001b[1moptimizer:\u001b[0m AdamW(lr=8e-05, momentum=0.937) with parameter groups 77 weight(decay=0.0), 84 weight(decay=0.002), 83 bias(decay=0.0)\n",
      "Image sizes 800 train, 800 val\n",
      "Using 8 dataloader workers\n",
      "Logging results to \u001b[1m..\\f1-strategy\\yolo-files\\runs\\train_extreme_cls\u001b[0m\n",
      "Starting training for 50 epochs...\n",
      "\n",
      "      Epoch    GPU_mem   box_loss   cls_loss   dfl_loss  Instances       Size\n"
     ]
    },
    {
     "name": "stderr",
     "output_type": "stream",
     "text": [
      "       1/50      2.95G      1.127      33.92      1.719         18        800: 100%|██████████| 625/625 [01:58<00:00,  5.27it/s]\n",
      "                 Class     Images  Instances      Box(P          R      mAP50  mAP50-95): 100%|██████████| 3/3 [00:00<00:00,  7.77it/s]"
     ]
    },
    {
     "name": "stdout",
     "output_type": "stream",
     "text": [
      "                   all         20         29      0.505      0.327      0.411      0.293\n"
     ]
    },
    {
     "name": "stderr",
     "output_type": "stream",
     "text": [
      "\n"
     ]
    },
    {
     "name": "stdout",
     "output_type": "stream",
     "text": [
      "\n",
      "      Epoch    GPU_mem   box_loss   cls_loss   dfl_loss  Instances       Size\n"
     ]
    },
    {
     "name": "stderr",
     "output_type": "stream",
     "text": [
      "       2/50      3.32G      1.003      23.08      1.574         17        800: 100%|██████████| 625/625 [01:47<00:00,  5.81it/s]\n",
      "                 Class     Images  Instances      Box(P          R      mAP50  mAP50-95): 100%|██████████| 3/3 [00:00<00:00,  9.11it/s]"
     ]
    },
    {
     "name": "stdout",
     "output_type": "stream",
     "text": [
      "                   all         20         29      0.587      0.434      0.476      0.342\n"
     ]
    },
    {
     "name": "stderr",
     "output_type": "stream",
     "text": [
      "\n"
     ]
    },
    {
     "name": "stdout",
     "output_type": "stream",
     "text": [
      "\n",
      "      Epoch    GPU_mem   box_loss   cls_loss   dfl_loss  Instances       Size\n"
     ]
    },
    {
     "name": "stderr",
     "output_type": "stream",
     "text": [
      "       3/50      3.32G     0.9364      19.14      1.491         16        800: 100%|██████████| 625/625 [01:46<00:00,  5.88it/s]\n",
      "                 Class     Images  Instances      Box(P          R      mAP50  mAP50-95): 100%|██████████| 3/3 [00:00<00:00,  8.95it/s]"
     ]
    },
    {
     "name": "stdout",
     "output_type": "stream",
     "text": [
      "                   all         20         29      0.616      0.603      0.724      0.497\n"
     ]
    },
    {
     "name": "stderr",
     "output_type": "stream",
     "text": [
      "\n"
     ]
    },
    {
     "name": "stdout",
     "output_type": "stream",
     "text": [
      "\n",
      "      Epoch    GPU_mem   box_loss   cls_loss   dfl_loss  Instances       Size\n"
     ]
    },
    {
     "name": "stderr",
     "output_type": "stream",
     "text": [
      "       4/50      3.32G     0.9047      17.06       1.47          8        800: 100%|██████████| 625/625 [01:45<00:00,  5.93it/s]\n",
      "                 Class     Images  Instances      Box(P          R      mAP50  mAP50-95): 100%|██████████| 3/3 [00:00<00:00,  8.87it/s]"
     ]
    },
    {
     "name": "stdout",
     "output_type": "stream",
     "text": [
      "                   all         20         29      0.515      0.739       0.75      0.562\n"
     ]
    },
    {
     "name": "stderr",
     "output_type": "stream",
     "text": [
      "\n"
     ]
    },
    {
     "name": "stdout",
     "output_type": "stream",
     "text": [
      "\n",
      "      Epoch    GPU_mem   box_loss   cls_loss   dfl_loss  Instances       Size\n"
     ]
    },
    {
     "name": "stderr",
     "output_type": "stream",
     "text": [
      "       5/50      3.32G     0.8779      15.52       1.43         16        800: 100%|██████████| 625/625 [01:44<00:00,  5.96it/s]\n",
      "                 Class     Images  Instances      Box(P          R      mAP50  mAP50-95): 100%|██████████| 3/3 [00:00<00:00,  8.86it/s]"
     ]
    },
    {
     "name": "stdout",
     "output_type": "stream",
     "text": [
      "                   all         20         29      0.499      0.796      0.714       0.54\n"
     ]
    },
    {
     "name": "stderr",
     "output_type": "stream",
     "text": [
      "\n"
     ]
    },
    {
     "name": "stdout",
     "output_type": "stream",
     "text": [
      "\n",
      "      Epoch    GPU_mem   box_loss   cls_loss   dfl_loss  Instances       Size\n"
     ]
    },
    {
     "name": "stderr",
     "output_type": "stream",
     "text": [
      "       6/50      3.32G     0.8743      14.74      1.434         13        800: 100%|██████████| 625/625 [01:45<00:00,  5.91it/s]\n",
      "                 Class     Images  Instances      Box(P          R      mAP50  mAP50-95): 100%|██████████| 3/3 [00:00<00:00,  9.26it/s]"
     ]
    },
    {
     "name": "stdout",
     "output_type": "stream",
     "text": [
      "                   all         20         29      0.578       0.68      0.655      0.507\n"
     ]
    },
    {
     "name": "stderr",
     "output_type": "stream",
     "text": [
      "\n"
     ]
    },
    {
     "name": "stdout",
     "output_type": "stream",
     "text": [
      "\n",
      "      Epoch    GPU_mem   box_loss   cls_loss   dfl_loss  Instances       Size\n"
     ]
    },
    {
     "name": "stderr",
     "output_type": "stream",
     "text": [
      "       7/50      3.32G     0.8825      14.04      1.444         18        800: 100%|██████████| 625/625 [01:44<00:00,  6.00it/s]\n",
      "                 Class     Images  Instances      Box(P          R      mAP50  mAP50-95): 100%|██████████| 3/3 [00:00<00:00,  9.12it/s]"
     ]
    },
    {
     "name": "stdout",
     "output_type": "stream",
     "text": [
      "                   all         20         29      0.689      0.788       0.76      0.569\n"
     ]
    },
    {
     "name": "stderr",
     "output_type": "stream",
     "text": [
      "\n"
     ]
    },
    {
     "name": "stdout",
     "output_type": "stream",
     "text": [
      "\n",
      "      Epoch    GPU_mem   box_loss   cls_loss   dfl_loss  Instances       Size\n"
     ]
    },
    {
     "name": "stderr",
     "output_type": "stream",
     "text": [
      "       8/50      3.33G     0.8456       13.2      1.408         12        800: 100%|██████████| 625/625 [01:44<00:00,  6.01it/s]\n",
      "                 Class     Images  Instances      Box(P          R      mAP50  mAP50-95): 100%|██████████| 3/3 [00:00<00:00,  9.18it/s]"
     ]
    },
    {
     "name": "stdout",
     "output_type": "stream",
     "text": [
      "                   all         20         29      0.684      0.711      0.863      0.703\n"
     ]
    },
    {
     "name": "stderr",
     "output_type": "stream",
     "text": [
      "\n"
     ]
    },
    {
     "name": "stdout",
     "output_type": "stream",
     "text": [
      "\n",
      "      Epoch    GPU_mem   box_loss   cls_loss   dfl_loss  Instances       Size\n"
     ]
    },
    {
     "name": "stderr",
     "output_type": "stream",
     "text": [
      "       9/50      3.33G     0.8313      12.67      1.405         11        800: 100%|██████████| 625/625 [01:43<00:00,  6.03it/s]\n",
      "                 Class     Images  Instances      Box(P          R      mAP50  mAP50-95): 100%|██████████| 3/3 [00:00<00:00,  9.07it/s]"
     ]
    },
    {
     "name": "stdout",
     "output_type": "stream",
     "text": [
      "                   all         20         29      0.809      0.716      0.884      0.648\n"
     ]
    },
    {
     "name": "stderr",
     "output_type": "stream",
     "text": [
      "\n"
     ]
    },
    {
     "name": "stdout",
     "output_type": "stream",
     "text": [
      "\n",
      "      Epoch    GPU_mem   box_loss   cls_loss   dfl_loss  Instances       Size\n"
     ]
    },
    {
     "name": "stderr",
     "output_type": "stream",
     "text": [
      "      10/50      3.32G     0.8202      12.17      1.404         10        800: 100%|██████████| 625/625 [01:43<00:00,  6.03it/s]\n",
      "                 Class     Images  Instances      Box(P          R      mAP50  mAP50-95): 100%|██████████| 3/3 [00:00<00:00,  9.10it/s]"
     ]
    },
    {
     "name": "stdout",
     "output_type": "stream",
     "text": [
      "                   all         20         29      0.706      0.712       0.76      0.613\n"
     ]
    },
    {
     "name": "stderr",
     "output_type": "stream",
     "text": [
      "\n"
     ]
    },
    {
     "name": "stdout",
     "output_type": "stream",
     "text": [
      "\n",
      "      Epoch    GPU_mem   box_loss   cls_loss   dfl_loss  Instances       Size\n"
     ]
    },
    {
     "name": "stderr",
     "output_type": "stream",
     "text": [
      "      11/50      3.34G     0.8038       11.4      1.366          8        800: 100%|██████████| 625/625 [01:43<00:00,  6.02it/s]\n",
      "                 Class     Images  Instances      Box(P          R      mAP50  mAP50-95): 100%|██████████| 3/3 [00:00<00:00,  9.09it/s]"
     ]
    },
    {
     "name": "stdout",
     "output_type": "stream",
     "text": [
      "                   all         20         29      0.707      0.777       0.85      0.662\n"
     ]
    },
    {
     "name": "stderr",
     "output_type": "stream",
     "text": [
      "\n"
     ]
    },
    {
     "name": "stdout",
     "output_type": "stream",
     "text": [
      "\n",
      "      Epoch    GPU_mem   box_loss   cls_loss   dfl_loss  Instances       Size\n"
     ]
    },
    {
     "name": "stderr",
     "output_type": "stream",
     "text": [
      "      12/50      3.32G     0.7923      11.63      1.391         11        800: 100%|██████████| 625/625 [01:42<00:00,  6.08it/s]\n",
      "                 Class     Images  Instances      Box(P          R      mAP50  mAP50-95): 100%|██████████| 3/3 [00:00<00:00,  9.18it/s]"
     ]
    },
    {
     "name": "stdout",
     "output_type": "stream",
     "text": [
      "                   all         20         29      0.903      0.761      0.957      0.693\n"
     ]
    },
    {
     "name": "stderr",
     "output_type": "stream",
     "text": [
      "\n"
     ]
    },
    {
     "name": "stdout",
     "output_type": "stream",
     "text": [
      "\n",
      "      Epoch    GPU_mem   box_loss   cls_loss   dfl_loss  Instances       Size\n"
     ]
    },
    {
     "name": "stderr",
     "output_type": "stream",
     "text": [
      "      13/50      3.34G     0.8009      11.07      1.372         13        800: 100%|██████████| 625/625 [01:43<00:00,  6.04it/s]\n",
      "                 Class     Images  Instances      Box(P          R      mAP50  mAP50-95): 100%|██████████| 3/3 [00:00<00:00,  9.04it/s]"
     ]
    },
    {
     "name": "stdout",
     "output_type": "stream",
     "text": [
      "                   all         20         29        0.7      0.682      0.873      0.681\n"
     ]
    },
    {
     "name": "stderr",
     "output_type": "stream",
     "text": [
      "\n"
     ]
    },
    {
     "name": "stdout",
     "output_type": "stream",
     "text": [
      "\n",
      "      Epoch    GPU_mem   box_loss   cls_loss   dfl_loss  Instances       Size\n"
     ]
    },
    {
     "name": "stderr",
     "output_type": "stream",
     "text": [
      "      14/50      3.32G     0.7665      10.77       1.34         33        800: 100%|██████████| 625/625 [01:43<00:00,  6.03it/s]\n",
      "                 Class     Images  Instances      Box(P          R      mAP50  mAP50-95): 100%|██████████| 3/3 [00:00<00:00,  9.04it/s]"
     ]
    },
    {
     "name": "stdout",
     "output_type": "stream",
     "text": [
      "                   all         20         29      0.772      0.789      0.934       0.74\n"
     ]
    },
    {
     "name": "stderr",
     "output_type": "stream",
     "text": [
      "\n"
     ]
    },
    {
     "name": "stdout",
     "output_type": "stream",
     "text": [
      "\n",
      "      Epoch    GPU_mem   box_loss   cls_loss   dfl_loss  Instances       Size\n"
     ]
    },
    {
     "name": "stderr",
     "output_type": "stream",
     "text": [
      "      15/50      3.24G     0.7817      10.64      1.364         12        800: 100%|██████████| 625/625 [01:43<00:00,  6.01it/s]\n",
      "                 Class     Images  Instances      Box(P          R      mAP50  mAP50-95): 100%|██████████| 3/3 [00:00<00:00,  9.36it/s]"
     ]
    },
    {
     "name": "stdout",
     "output_type": "stream",
     "text": [
      "                   all         20         29      0.661      0.779      0.907      0.748\n"
     ]
    },
    {
     "name": "stderr",
     "output_type": "stream",
     "text": [
      "\n"
     ]
    },
    {
     "name": "stdout",
     "output_type": "stream",
     "text": [
      "\n",
      "      Epoch    GPU_mem   box_loss   cls_loss   dfl_loss  Instances       Size\n"
     ]
    },
    {
     "name": "stderr",
     "output_type": "stream",
     "text": [
      "      16/50      3.33G     0.7658      10.41      1.355         17        800: 100%|██████████| 625/625 [01:43<00:00,  6.05it/s]\n",
      "                 Class     Images  Instances      Box(P          R      mAP50  mAP50-95): 100%|██████████| 3/3 [00:00<00:00,  9.26it/s]"
     ]
    },
    {
     "name": "stdout",
     "output_type": "stream",
     "text": [
      "                   all         20         29      0.698      0.746      0.913      0.723\n"
     ]
    },
    {
     "name": "stderr",
     "output_type": "stream",
     "text": [
      "\n"
     ]
    },
    {
     "name": "stdout",
     "output_type": "stream",
     "text": [
      "\n",
      "      Epoch    GPU_mem   box_loss   cls_loss   dfl_loss  Instances       Size\n"
     ]
    },
    {
     "name": "stderr",
     "output_type": "stream",
     "text": [
      "      17/50      3.34G     0.7568      10.39      1.352         16        800: 100%|██████████| 625/625 [01:43<00:00,  6.04it/s]\n",
      "                 Class     Images  Instances      Box(P          R      mAP50  mAP50-95): 100%|██████████| 3/3 [00:00<00:00,  8.48it/s]"
     ]
    },
    {
     "name": "stdout",
     "output_type": "stream",
     "text": [
      "                   all         20         29      0.688      0.857      0.958      0.803\n"
     ]
    },
    {
     "name": "stderr",
     "output_type": "stream",
     "text": [
      "\n"
     ]
    },
    {
     "name": "stdout",
     "output_type": "stream",
     "text": [
      "\n",
      "      Epoch    GPU_mem   box_loss   cls_loss   dfl_loss  Instances       Size\n"
     ]
    },
    {
     "name": "stderr",
     "output_type": "stream",
     "text": [
      "      18/50      3.35G     0.7503       9.66      1.336         10        800: 100%|██████████| 625/625 [01:43<00:00,  6.04it/s]\n",
      "                 Class     Images  Instances      Box(P          R      mAP50  mAP50-95): 100%|██████████| 3/3 [00:00<00:00,  8.99it/s]"
     ]
    },
    {
     "name": "stdout",
     "output_type": "stream",
     "text": [
      "                   all         20         29      0.893      0.671      0.939       0.71\n"
     ]
    },
    {
     "name": "stderr",
     "output_type": "stream",
     "text": [
      "\n"
     ]
    },
    {
     "name": "stdout",
     "output_type": "stream",
     "text": [
      "\n",
      "      Epoch    GPU_mem   box_loss   cls_loss   dfl_loss  Instances       Size\n"
     ]
    },
    {
     "name": "stderr",
     "output_type": "stream",
     "text": [
      "      19/50      3.32G      0.745      9.708      1.328          5        800: 100%|██████████| 625/625 [01:43<00:00,  6.05it/s]\n",
      "                 Class     Images  Instances      Box(P          R      mAP50  mAP50-95): 100%|██████████| 3/3 [00:00<00:00,  9.10it/s]"
     ]
    },
    {
     "name": "stdout",
     "output_type": "stream",
     "text": [
      "                   all         20         29       0.75      0.867      0.964      0.762\n"
     ]
    },
    {
     "name": "stderr",
     "output_type": "stream",
     "text": [
      "\n"
     ]
    },
    {
     "name": "stdout",
     "output_type": "stream",
     "text": [
      "\n",
      "      Epoch    GPU_mem   box_loss   cls_loss   dfl_loss  Instances       Size\n"
     ]
    },
    {
     "name": "stderr",
     "output_type": "stream",
     "text": [
      "      20/50      3.32G     0.7462      9.445      1.339          7        800: 100%|██████████| 625/625 [01:43<00:00,  6.04it/s]\n",
      "                 Class     Images  Instances      Box(P          R      mAP50  mAP50-95): 100%|██████████| 3/3 [00:00<00:00,  9.23it/s]"
     ]
    },
    {
     "name": "stdout",
     "output_type": "stream",
     "text": [
      "                   all         20         29      0.787      0.787      0.937      0.646\n"
     ]
    },
    {
     "name": "stderr",
     "output_type": "stream",
     "text": [
      "\n"
     ]
    },
    {
     "name": "stdout",
     "output_type": "stream",
     "text": [
      "\n",
      "      Epoch    GPU_mem   box_loss   cls_loss   dfl_loss  Instances       Size\n"
     ]
    },
    {
     "name": "stderr",
     "output_type": "stream",
     "text": [
      "      21/50      3.34G     0.7437      9.621      1.341         17        800: 100%|██████████| 625/625 [01:43<00:00,  6.04it/s]\n",
      "                 Class     Images  Instances      Box(P          R      mAP50  mAP50-95): 100%|██████████| 3/3 [00:00<00:00,  9.03it/s]"
     ]
    },
    {
     "name": "stdout",
     "output_type": "stream",
     "text": [
      "                   all         20         29      0.783      0.861      0.881      0.696\n"
     ]
    },
    {
     "name": "stderr",
     "output_type": "stream",
     "text": [
      "\n"
     ]
    },
    {
     "name": "stdout",
     "output_type": "stream",
     "text": [
      "\n",
      "      Epoch    GPU_mem   box_loss   cls_loss   dfl_loss  Instances       Size\n"
     ]
    },
    {
     "name": "stderr",
     "output_type": "stream",
     "text": [
      "      22/50      3.32G     0.7317      8.998      1.312         17        800: 100%|██████████| 625/625 [01:43<00:00,  6.04it/s]\n",
      "                 Class     Images  Instances      Box(P          R      mAP50  mAP50-95): 100%|██████████| 3/3 [00:00<00:00,  9.00it/s]"
     ]
    },
    {
     "name": "stdout",
     "output_type": "stream",
     "text": [
      "                   all         20         29      0.887      0.721      0.959       0.72\n"
     ]
    },
    {
     "name": "stderr",
     "output_type": "stream",
     "text": [
      "\n"
     ]
    },
    {
     "name": "stdout",
     "output_type": "stream",
     "text": [
      "\n",
      "      Epoch    GPU_mem   box_loss   cls_loss   dfl_loss  Instances       Size\n"
     ]
    },
    {
     "name": "stderr",
     "output_type": "stream",
     "text": [
      "      23/50      3.32G     0.7179       9.02      1.294          9        800: 100%|██████████| 625/625 [01:43<00:00,  6.04it/s]\n",
      "                 Class     Images  Instances      Box(P          R      mAP50  mAP50-95): 100%|██████████| 3/3 [00:00<00:00,  9.30it/s]"
     ]
    },
    {
     "name": "stdout",
     "output_type": "stream",
     "text": [
      "                   all         20         29      0.816      0.762      0.925      0.765\n"
     ]
    },
    {
     "name": "stderr",
     "output_type": "stream",
     "text": [
      "\n"
     ]
    },
    {
     "name": "stdout",
     "output_type": "stream",
     "text": [
      "\n",
      "      Epoch    GPU_mem   box_loss   cls_loss   dfl_loss  Instances       Size\n"
     ]
    },
    {
     "name": "stderr",
     "output_type": "stream",
     "text": [
      "      24/50      3.34G     0.7282       9.14       1.32         13        800: 100%|██████████| 625/625 [01:43<00:00,  6.04it/s]\n",
      "                 Class     Images  Instances      Box(P          R      mAP50  mAP50-95): 100%|██████████| 3/3 [00:00<00:00,  8.89it/s]"
     ]
    },
    {
     "name": "stdout",
     "output_type": "stream",
     "text": [
      "                   all         20         29      0.755      0.849      0.905      0.682\n"
     ]
    },
    {
     "name": "stderr",
     "output_type": "stream",
     "text": [
      "\n"
     ]
    },
    {
     "name": "stdout",
     "output_type": "stream",
     "text": [
      "\n",
      "      Epoch    GPU_mem   box_loss   cls_loss   dfl_loss  Instances       Size\n"
     ]
    },
    {
     "name": "stderr",
     "output_type": "stream",
     "text": [
      "      25/50      3.32G     0.7153      8.923      1.301         22        800: 100%|██████████| 625/625 [01:43<00:00,  6.04it/s]\n",
      "                 Class     Images  Instances      Box(P          R      mAP50  mAP50-95): 100%|██████████| 3/3 [00:00<00:00,  9.14it/s]"
     ]
    },
    {
     "name": "stdout",
     "output_type": "stream",
     "text": [
      "                   all         20         29      0.823      0.807      0.926      0.693\n"
     ]
    },
    {
     "name": "stderr",
     "output_type": "stream",
     "text": [
      "\n"
     ]
    },
    {
     "name": "stdout",
     "output_type": "stream",
     "text": [
      "\n",
      "      Epoch    GPU_mem   box_loss   cls_loss   dfl_loss  Instances       Size\n"
     ]
    },
    {
     "name": "stderr",
     "output_type": "stream",
     "text": [
      "      26/50      3.33G     0.7072      8.323      1.287          6        800: 100%|██████████| 625/625 [01:43<00:00,  6.04it/s]\n",
      "                 Class     Images  Instances      Box(P          R      mAP50  mAP50-95): 100%|██████████| 3/3 [00:00<00:00,  9.03it/s]"
     ]
    },
    {
     "name": "stdout",
     "output_type": "stream",
     "text": [
      "                   all         20         29      0.687      0.882      0.926      0.738\n"
     ]
    },
    {
     "name": "stderr",
     "output_type": "stream",
     "text": [
      "\n"
     ]
    },
    {
     "name": "stdout",
     "output_type": "stream",
     "text": [
      "\n",
      "      Epoch    GPU_mem   box_loss   cls_loss   dfl_loss  Instances       Size\n"
     ]
    },
    {
     "name": "stderr",
     "output_type": "stream",
     "text": [
      "      27/50      3.32G     0.6973       8.38      1.288         21        800: 100%|██████████| 625/625 [01:43<00:00,  6.05it/s]\n",
      "                 Class     Images  Instances      Box(P          R      mAP50  mAP50-95): 100%|██████████| 3/3 [00:00<00:00,  7.97it/s]"
     ]
    },
    {
     "name": "stdout",
     "output_type": "stream",
     "text": [
      "                   all         20         29      0.821      0.723      0.868      0.655\n"
     ]
    },
    {
     "name": "stderr",
     "output_type": "stream",
     "text": [
      "\n"
     ]
    },
    {
     "name": "stdout",
     "output_type": "stream",
     "text": [
      "\n",
      "      Epoch    GPU_mem   box_loss   cls_loss   dfl_loss  Instances       Size\n"
     ]
    },
    {
     "name": "stderr",
     "output_type": "stream",
     "text": [
      "      28/50      3.32G      0.689      8.236      1.281         10        800: 100%|██████████| 625/625 [01:47<00:00,  5.80it/s]\n",
      "                 Class     Images  Instances      Box(P          R      mAP50  mAP50-95): 100%|██████████| 3/3 [00:00<00:00,  8.87it/s]"
     ]
    },
    {
     "name": "stdout",
     "output_type": "stream",
     "text": [
      "                   all         20         29      0.782      0.764      0.859      0.693\n"
     ]
    },
    {
     "name": "stderr",
     "output_type": "stream",
     "text": [
      "\n"
     ]
    },
    {
     "name": "stdout",
     "output_type": "stream",
     "text": [
      "\n",
      "      Epoch    GPU_mem   box_loss   cls_loss   dfl_loss  Instances       Size\n"
     ]
    },
    {
     "name": "stderr",
     "output_type": "stream",
     "text": [
      "      29/50      3.32G     0.6846      8.325      1.272         13        800: 100%|██████████| 625/625 [01:46<00:00,  5.87it/s]\n",
      "                 Class     Images  Instances      Box(P          R      mAP50  mAP50-95): 100%|██████████| 3/3 [00:00<00:00,  9.03it/s]"
     ]
    },
    {
     "name": "stdout",
     "output_type": "stream",
     "text": [
      "                   all         20         29      0.742      0.874      0.957      0.732\n"
     ]
    },
    {
     "name": "stderr",
     "output_type": "stream",
     "text": [
      "\n"
     ]
    },
    {
     "name": "stdout",
     "output_type": "stream",
     "text": [
      "\n",
      "      Epoch    GPU_mem   box_loss   cls_loss   dfl_loss  Instances       Size\n"
     ]
    },
    {
     "name": "stderr",
     "output_type": "stream",
     "text": [
      "      30/50      3.32G     0.6882      8.068      1.281          6        800: 100%|██████████| 625/625 [01:45<00:00,  5.92it/s]\n",
      "                 Class     Images  Instances      Box(P          R      mAP50  mAP50-95): 100%|██████████| 3/3 [00:00<00:00,  9.08it/s]"
     ]
    },
    {
     "name": "stdout",
     "output_type": "stream",
     "text": [
      "                   all         20         29      0.741      0.905      0.966      0.749\n"
     ]
    },
    {
     "name": "stderr",
     "output_type": "stream",
     "text": [
      "\n"
     ]
    },
    {
     "name": "stdout",
     "output_type": "stream",
     "text": [
      "\n",
      "      Epoch    GPU_mem   box_loss   cls_loss   dfl_loss  Instances       Size\n"
     ]
    },
    {
     "name": "stderr",
     "output_type": "stream",
     "text": [
      "      31/50      3.26G     0.6878      8.135       1.28         17        800: 100%|██████████| 625/625 [01:44<00:00,  5.95it/s]\n",
      "                 Class     Images  Instances      Box(P          R      mAP50  mAP50-95): 100%|██████████| 3/3 [00:00<00:00,  9.00it/s]"
     ]
    },
    {
     "name": "stdout",
     "output_type": "stream",
     "text": [
      "                   all         20         29      0.781       0.77      0.926      0.735\n"
     ]
    },
    {
     "name": "stderr",
     "output_type": "stream",
     "text": [
      "\n"
     ]
    },
    {
     "name": "stdout",
     "output_type": "stream",
     "text": [
      "\n",
      "      Epoch    GPU_mem   box_loss   cls_loss   dfl_loss  Instances       Size\n"
     ]
    },
    {
     "name": "stderr",
     "output_type": "stream",
     "text": [
      "      32/50      3.32G     0.6706      7.776      1.272         10        800: 100%|██████████| 625/625 [01:44<00:00,  6.01it/s]\n",
      "                 Class     Images  Instances      Box(P          R      mAP50  mAP50-95): 100%|██████████| 3/3 [00:00<00:00,  9.06it/s]"
     ]
    },
    {
     "name": "stdout",
     "output_type": "stream",
     "text": [
      "                   all         20         29      0.788      0.848       0.96      0.795\n",
      "\u001b[34m\u001b[1mEarlyStopping: \u001b[0mTraining stopped early as no improvement observed in last 15 epochs. Best results observed at epoch 17, best model saved as best.pt.\n",
      "To update EarlyStopping(patience=15) pass a new patience value, i.e. `patience=300` or use `patience=0` to disable EarlyStopping.\n"
     ]
    },
    {
     "name": "stderr",
     "output_type": "stream",
     "text": [
      "\n"
     ]
    },
    {
     "name": "stdout",
     "output_type": "stream",
     "text": [
      "\n",
      "32 epochs completed in 0.942 hours.\n",
      "Optimizer stripped from ..\\f1-strategy\\yolo-files\\runs\\train_extreme_cls\\weights\\last.pt, 52.1MB\n",
      "Optimizer stripped from ..\\f1-strategy\\yolo-files\\runs\\train_extreme_cls\\weights\\best.pt, 52.1MB\n",
      "\n",
      "Validating ..\\f1-strategy\\yolo-files\\runs\\train_extreme_cls\\weights\\best.pt...\n",
      "Ultralytics 8.3.69  Python-3.10.16 torch-2.5.1+cu124 CUDA:0 (NVIDIA GeForce RTX 4060 Laptop GPU, 8188MiB)\n",
      "Model summary (fused): 218 layers, 25,845,550 parameters, 0 gradients, 78.7 GFLOPs\n"
     ]
    },
    {
     "name": "stderr",
     "output_type": "stream",
     "text": [
      "                 Class     Images  Instances      Box(P          R      mAP50  mAP50-95): 100%|██████████| 3/3 [00:00<00:00,  8.24it/s]\n"
     ]
    },
    {
     "name": "stdout",
     "output_type": "stream",
     "text": [
      "                   all         20         29       0.69      0.856      0.956      0.801\n",
      "           Kick Sauber          4          6          1      0.819       0.86       0.62\n",
      "          Racing Bulls          1          1      0.223          1      0.995      0.796\n",
      "                Alpine          4          5      0.689        0.8       0.92      0.805\n",
      "               Ferarri          3          4      0.855          1      0.995       0.91\n",
      "                  Haas          1          1      0.581          1      0.995      0.895\n",
      "               Mclaren          5          6          1      0.287      0.972      0.794\n",
      "              Mercedes          3          3      0.735      0.939      0.913      0.691\n",
      "              Williams          2          3      0.436          1      0.995      0.895\n",
      "Speed: 0.7ms preprocess, 11.6ms inference, 0.0ms loss, 0.7ms postprocess per image\n",
      "Results saved to \u001b[1m..\\f1-strategy\\yolo-files\\runs\\train_extreme_cls\u001b[0m\n"
     ]
    }
   ],
   "source": [
    "from ultralytics import YOLO\n",
    "import torch\n",
    "import random\n",
    "import numpy as np\n",
    "import os\n",
    "import yaml\n",
    "import shutil\n",
    "from pathlib import Path\n",
    "\n",
    "# Definir semilla para reproducibilidad\n",
    "SEED = 42\n",
    "random.seed(SEED)\n",
    "np.random.seed(SEED)\n",
    "torch.manual_seed(SEED)\n",
    "if torch.cuda.is_available():\n",
    "    torch.cuda.manual_seed(SEED)\n",
    "    torch.cuda.manual_seed_all(SEED)\n",
    "torch.backends.cudnn.deterministic = True\n",
    "\n",
    "# Variables de configuración\n",
    "FINE_TUNED_EPOCHS = 50      # Más épocas todavía\n",
    "FINE_TUNED_BATCH_SIZE = 4   # Batch size reducido para mayor precisión\n",
    "PATIENCE = 15               # Mayor paciencia para early stopping\n",
    "\n",
    "# Directorios principales\n",
    "BASE_DIR = '../f1-strategy'\n",
    "DATASET_DIR = os.path.join(BASE_DIR, 'f1-dataset')\n",
    "DATA_YAML = os.path.join(DATASET_DIR, 'data.yaml')\n",
    "\n",
    "# Paso 1: Modificar el archivo data.yaml para agregar ponderación de clases\n",
    "# Esto es crucial para resolver el problema de Williams\n",
    "def update_data_yaml_with_class_weights():\n",
    "    # Leer el archivo data.yaml existente\n",
    "    with open(DATA_YAML, 'r') as f:\n",
    "        data_config = yaml.safe_load(f)\n",
    "\n",
    "    # Hacer una copia de seguridad del original\n",
    "    backup_file = DATA_YAML + '.backup'\n",
    "    if not os.path.exists(backup_file):\n",
    "        shutil.copy(DATA_YAML, backup_file)\n",
    "        print(f\"Backup creado en {backup_file}\")\n",
    "\n",
    "    # Obtener nombres de clases\n",
    "    class_names = data_config.get('names', [])\n",
    "\n",
    "    # Crear pesos personalizados por clase (mayor peso a Williams y clases problemáticas)\n",
    "    class_weights = {}\n",
    "    for i, name in enumerate(class_names):\n",
    "        if name.lower() == 'williams':\n",
    "            class_weights[i] = 2.0  # Mayor peso a Williams\n",
    "        elif name.lower() in ['alpine', 'red bull']:\n",
    "            class_weights[i] = 1.5  # Mayor peso a clases confundidas\n",
    "        else:\n",
    "            class_weights[i] = 1.0  # Peso normal para el resto\n",
    "\n",
    "    # Agregar pesos a la configuración\n",
    "    data_config['class_weights'] = class_weights\n",
    "\n",
    "    # Guardar el archivo actualizado\n",
    "    with open(DATA_YAML, 'w') as f:\n",
    "        yaml.dump(data_config, f, default_flow_style=False)\n",
    "\n",
    "    print(f\"Archivo {DATA_YAML} actualizado con pesos de clase:\")\n",
    "    for name, weight in zip(class_names, [class_weights.get(i, 1.0) for i in range(len(class_names))]):\n",
    "        print(f\"  - {name}: {weight}\")\n",
    "\n",
    "    return data_config\n",
    "\n",
    "# Actualizar data.yaml con pesos de clase\n",
    "data_config = update_data_yaml_with_class_weights()\n",
    "\n",
    "# Cargar el modelo base\n",
    "model_pruned_2 = YOLO('../f1-strategy/weights/yolov8m.pt')  # USAR MODELO BASE\n",
    "\n",
    "print(\"\\n=== CONFIGURACIÓN DEL ENTRENAMIENTO ===\")\n",
    "print(f\"Épocas: {FINE_TUNED_EPOCHS}\")\n",
    "print(f\"Batch size: {FINE_TUNED_BATCH_SIZE}\")\n",
    "print(f\"Paciencia: {PATIENCE}\")\n",
    "print(f\"Peso de clasificación: 7.0 (muy alto)\")\n",
    "print(f\"Williams ponderado 2.0 veces más\")\n",
    "print(f\"Learning rate: 0.00008 (muy bajo para aprendizaje preciso)\")\n",
    "print(\"Augmentación extrema para objetos a distancia\")\n",
    "print(\"===================================\\n\")\n",
    "\n",
    "# Pregunta de confirmación\n",
    "input(\"Presiona Enter para comenzar el entrenamiento, o Ctrl+C para cancelar...\")\n",
    "\n",
    "# Configurar el entrenamiento desde cero con hiperparámetros personalizados directamente\n",
    "results = model_pruned_2.train(\n",
    "    data=DATA_YAML,\n",
    "    epochs=FINE_TUNED_EPOCHS,\n",
    "    imgsz=800,                # Tamaño de imagen MUCHO mayor para detalles\n",
    "    batch=FINE_TUNED_BATCH_SIZE,\n",
    "    patience=PATIENCE,        # Mayor paciencia\n",
    "    \n",
    "    # Hiperparámetros de pérdida directamente como argumentos\n",
    "    box=6.0,             # Peso de pérdida de bounding box\n",
    "    cls=7.0,             # Peso de pérdida de clasificación (MUY ALTO)\n",
    "    dfl=1.5,             # Peso de pérdida DFL\n",
    "    \n",
    "    # Argumentos para aumentación extrema para objetos a distancia\n",
    "    scale=0.8,           # Variación de escala extrema\n",
    "    flipud=0.05,         # Más flip vertical\n",
    "    fliplr=0.5,          # Más flip horizontal\n",
    "    mosaic=0.95,         # Mosaico casi siempre\n",
    "    mixup=0.25,          # Mixup frecuente\n",
    "    copy_paste=0.3,      # Copy-paste frecuente\n",
    "    degrees=2.5,         # Rotación moderada\n",
    "    translate=0.2,       # Traslación significativa\n",
    "    shear=1.0,           # Menos deformación para preservar características\n",
    "    perspective=0.0001,  # Efecto de perspectiva mínimo\n",
    "    hsv_h=0.015,         # Variación de tono\n",
    "    hsv_s=0.9,           # Variación de saturación extrema\n",
    "    hsv_v=0.8,           # Variación de brillo extrema\n",
    "    \n",
    "    # Optimizador\n",
    "    optimizer='AdamW',   # Optimizador\n",
    "    lr0=0.00008,         # Learning rate inicial (MUY BAJO)\n",
    "    lrf=0.000001,        # Learning rate final (MUY BAJO)\n",
    "    momentum=0.937,      # Momentum\n",
    "    weight_decay=0.002,  # Mayor regularización\n",
    "    warmup_epochs=8.0,   # Más épocas de warmup\n",
    "    warmup_momentum=0.8, # Momentum de warmup\n",
    "    warmup_bias_lr=0.1,  # Learning rate de bias en warmup\n",
    "    \n",
    "    # Parámetros de regularización adicionales\n",
    "    label_smoothing=0.1, # Suavizado de etiquetas para mejor generalización\n",
    "\n",
    "    # Otros parámetros de entrenamiento\n",
    "    cache=False,\n",
    "    device='0',           # Usar primera GPU\n",
    "    workers=8,            # Máximo de workers\n",
    "    \n",
    "    # Validación y guardado\n",
    "    val=True,\n",
    "    save=True,\n",
    "    save_period=5,\n",
    "    plots=True,\n",
    "    \n",
    "    # Mixed precision para rendimiento\n",
    "    amp=True,\n",
    "    \n",
    "    # Configuración del proyecto\n",
    "    project='../f1-strategy/yolo-files/runs',\n",
    "    name='train_extreme_cls',\n",
    "    exist_ok=True\n",
    ")\n",
    "\n"
   ]
  },
  {
   "cell_type": "markdown",
   "metadata": {},
   "source": [
    "class loss en este caso está artificialmente subido por el peso de 7, por lo que de momento durante el entrenamiento ya es sustancialmente mejor que los anteriores si hacemos la conversion (8.2/7 aprox 1.2 frente a 2.6 del anterior).\n",
    "\n",
    "Por tanto, parece que está empezando a funcionar mejor pero habrá que verlo una vez acabe el entrenamiento."
   ]
  },
  {
   "cell_type": "code",
   "execution_count": 5,
   "metadata": {},
   "outputs": [
    {
     "name": "stdout",
     "output_type": "stream",
     "text": [
      "\n",
      "Evaluando modelo con enfoque extremo en clasificación...\n",
      "Ultralytics 8.3.69  Python-3.10.16 torch-2.5.1+cu124 CUDA:0 (NVIDIA GeForce RTX 4060 Laptop GPU, 8188MiB)\n",
      "Model summary (fused): 218 layers, 25,845,550 parameters, 0 gradients, 78.7 GFLOPs\n"
     ]
    },
    {
     "name": "stderr",
     "output_type": "stream",
     "text": [
      "\u001b[34m\u001b[1mval: \u001b[0mScanning C:\\Users\\victo\\Desktop\\Documents\\Tercer año\\Segundo Cuatrimestre\\Finales\\f1-strategy\\f1-dataset\\valid\\labels.cache... 20 images, 0 backgrounds, 0 corrupt: 100%|██████████| 20/20 [00:00<?, ?it/s]\n",
      "                 Class     Images  Instances      Box(P          R      mAP50  mAP50-95): 100%|██████████| 5/5 [00:03<00:00,  1.35it/s]\n"
     ]
    },
    {
     "name": "stdout",
     "output_type": "stream",
     "text": [
      "                   all         20         29      0.688      0.856      0.958      0.803\n",
      "           Kick Sauber          4          6          1      0.819       0.86      0.622\n",
      "          Racing Bulls          1          1      0.222          1      0.995      0.796\n",
      "                Alpine          4          5      0.682        0.8      0.938       0.82\n",
      "               Ferarri          3          4      0.854          1      0.995       0.91\n",
      "                  Haas          1          1      0.579          1      0.995      0.895\n",
      "               Mclaren          5          6          1      0.291      0.972      0.794\n",
      "              Mercedes          3          3      0.735      0.942      0.913      0.691\n",
      "              Williams          2          3      0.435          1      0.995      0.895\n",
      "Speed: 1.1ms preprocess, 29.7ms inference, 0.0ms loss, 1.3ms postprocess per image\n",
      "Results saved to \u001b[1m..\\f1-strategy\\yolo-files\\runs\\train_extreme_cls\u001b[0m\n",
      "\n",
      "Entrenamiento completado. Resultados:\n",
      "mAP50: 0.9578\n",
      "mAP50-95: 0.8029\n",
      "Modelo guardado en: ../f1-strategy/weights/model_extreme_cls.pt\n",
      "\n",
      "=== RECOMENDACIONES PARA USO DEL MODELO ===\n",
      "1. Este modelo se entrenó con pesos de clase para Williams\n",
      "2. Use umbrales de confianza específicos por clase en video:\n",
      "   - Williams: 0.60\n",
      "   - Alpine: 0.45\n",
      "   - Red Bull: 0.40\n",
      "   - Otros: 0.35\n",
      "3. En objetos lejanos, ignore detecciones Williams con baja confianza\n",
      "===================================\n"
     ]
    }
   ],
   "source": [
    "# Evaluar el modelo resultante\n",
    "print(\"\\nEvaluando modelo con enfoque extremo en clasificación...\")\n",
    "metrics = model_pruned_2.val()\n",
    "\n",
    "print(f\"\\nEntrenamiento completado. Resultados:\")\n",
    "print(f\"mAP50: {metrics.box.map50:.4f}\")\n",
    "print(f\"mAP50-95: {metrics.box.map:.4f}\")\n",
    "\n",
    "# Guardar el modelo final\n",
    "model_pruned_2.save(\"../f1-strategy/weights/model_extreme_cls.pt\")\n",
    "print(\"Modelo guardado en: ../f1-strategy/weights/model_extreme_cls.pt\")\n",
    "\n",
    "print(\"\\n=== RECOMENDACIONES PARA USO DEL MODELO ===\")\n",
    "print(\"1. Este modelo se entrenó con pesos de clase para Williams\")\n",
    "print(\"2. Use umbrales de confianza específicos por clase en video:\")\n",
    "print(\"   - Williams: 0.60\")\n",
    "print(\"   - Alpine: 0.45\")\n",
    "print(\"   - Red Bull: 0.40\")\n",
    "print(\"   - Otros: 0.35\")\n",
    "print(\"3. En objetos lejanos, ignore detecciones Williams con baja confianza\")\n",
    "print(\"===================================\")"
   ]
  },
  {
   "cell_type": "code",
   "execution_count": 9,
   "metadata": {},
   "outputs": [
    {
     "name": "stdout",
     "output_type": "stream",
     "text": [
      "\n",
      "image 1/11 c:\\Users\\victo\\Desktop\\Documents\\Tercer ao\\Segundo Cuatrimestre\\Finales\\scripts\\..\\f1-strategy\\f1-dataset\\test\\images\\1-2023-Brazilian-GP-FP1-21_jpg.rf.e0a6d6d14a2b145d1285111d65dcf969.jpg: 800x800 1 Ferarri, 28.4ms\n",
      "image 2/11 c:\\Users\\victo\\Desktop\\Documents\\Tercer ao\\Segundo Cuatrimestre\\Finales\\scripts\\..\\f1-strategy\\f1-dataset\\test\\images\\1019924227-LAT-20231105-GP2320_143500SMG_2193-747_jpg.rf.cd24225e35180d6a3ede83dfb291abea.jpg: 800x800 4 Williamss, 24.6ms\n",
      "image 3/11 c:\\Users\\victo\\Desktop\\Documents\\Tercer ao\\Segundo Cuatrimestre\\Finales\\scripts\\..\\f1-strategy\\f1-dataset\\test\\images\\13-sunday-mexicocity-2023_jpg.rf.9fb9bf359354501321e3dbd03e75d0d6.jpg: 800x800 1 Racing Bulls, 1 Aston Martin, 21.7ms\n",
      "image 4/11 c:\\Users\\victo\\Desktop\\Documents\\Tercer ao\\Segundo Cuatrimestre\\Finales\\scripts\\..\\f1-strategy\\f1-dataset\\test\\images\\Ferraritop_jpg.rf.2986765a7cdb43c522f47262e9e4b1ab.jpg: 800x800 1 Ferarri, 20.8ms\n",
      "image 5/11 c:\\Users\\victo\\Desktop\\Documents\\Tercer ao\\Segundo Cuatrimestre\\Finales\\scripts\\..\\f1-strategy\\f1-dataset\\test\\images\\atbacl_jpg.rf.a5f559982c9977a9dd4944ba25157191.jpg: 800x800 1 Racing Bulls, 30.7ms\n",
      "image 6/11 c:\\Users\\victo\\Desktop\\Documents\\Tercer ao\\Segundo Cuatrimestre\\Finales\\scripts\\..\\f1-strategy\\f1-dataset\\test\\images\\frontside_jpg.rf.7c74ea6652d134b294e4f876d13517ce.jpg: 800x800 1 Mercedes, 18.9ms\n",
      "image 7/11 c:\\Users\\victo\\Desktop\\Documents\\Tercer ao\\Segundo Cuatrimestre\\Finales\\scripts\\..\\f1-strategy\\f1-dataset\\test\\images\\lowprofileAR_jpg.rf.28710b56c53ea202a7d7ce7df7cb3ad4.jpg: 800x800 1 Kick Sauber, 17.7ms\n",
      "image 8/11 c:\\Users\\victo\\Desktop\\Documents\\Tercer ao\\Segundo Cuatrimestre\\Finales\\scripts\\..\\f1-strategy\\f1-dataset\\test\\images\\m404125_jpg.rf.fafa711c48f08720af31bc6667e93428.jpg: 800x800 1 Mercedes, 3.4ms\n",
      "image 9/11 c:\\Users\\victo\\Desktop\\Documents\\Tercer ao\\Segundo Cuatrimestre\\Finales\\scripts\\..\\f1-strategy\\f1-dataset\\test\\images\\mclarentfrontside_jpg.rf.672dfe2daba2a832744a238ddcd824d4.jpg: 800x800 1 Racing Bulls, 17.7ms\n",
      "image 10/11 c:\\Users\\victo\\Desktop\\Documents\\Tercer ao\\Segundo Cuatrimestre\\Finales\\scripts\\..\\f1-strategy\\f1-dataset\\test\\images\\rbfullside_jpg.rf.24fcc0caff1ddb59697ea96006bcd93a.jpg: 800x800 1 Red Bull, 18.7ms\n",
      "image 11/11 c:\\Users\\victo\\Desktop\\Documents\\Tercer ao\\Segundo Cuatrimestre\\Finales\\scripts\\..\\f1-strategy\\f1-dataset\\test\\images\\siderightat_jpg.rf.006445f880bb837e2f454d34739750f5.jpg: 800x800 1 Racing Bulls, 21.1ms\n",
      "Speed: 4.7ms preprocess, 20.3ms inference, 2.7ms postprocess per image at shape (1, 3, 800, 800)\n",
      "Results saved to \u001b[1mruns\\detect\\predict6\u001b[0m\n",
      "[ultralytics.engine.results.Results object with attributes:\n",
      "\n",
      "boxes: ultralytics.engine.results.Boxes object\n",
      "keypoints: None\n",
      "masks: None\n",
      "names: {0: 'Kick Sauber', 1: 'Racing Bulls', 2: 'Alpine', 3: 'Aston Martin', 4: 'Ferarri', 5: 'Haas', 6: 'Mclaren', 7: 'Mercedes', 8: 'Red Bull', 9: 'Williams'}\n",
      "obb: None\n",
      "orig_img: array([[[ 32,  39,  12],\n",
      "        [ 35,  42,  15],\n",
      "        [ 47,  52,  25],\n",
      "        ...,\n",
      "        [233, 220, 222],\n",
      "        [233, 220, 222],\n",
      "        [233, 220, 222]],\n",
      "\n",
      "       [[ 30,  37,  10],\n",
      "        [ 32,  39,  12],\n",
      "        [ 42,  47,  20],\n",
      "        ...,\n",
      "        [234, 221, 223],\n",
      "        [233, 220, 222],\n",
      "        [233, 220, 222]],\n",
      "\n",
      "       [[ 26,  33,   6],\n",
      "        [ 28,  35,   8],\n",
      "        [ 36,  40,  15],\n",
      "        ...,\n",
      "        [234, 221, 223],\n",
      "        [234, 221, 223],\n",
      "        [233, 220, 222]],\n",
      "\n",
      "       ...,\n",
      "\n",
      "       [[ 29,  88,  67],\n",
      "        [ 27,  89,  65],\n",
      "        [ 27,  89,  67],\n",
      "        ...,\n",
      "        [136, 145, 154],\n",
      "        [135, 144, 153],\n",
      "        [134, 143, 152]],\n",
      "\n",
      "       [[ 30,  92,  68],\n",
      "        [ 28,  93,  67],\n",
      "        [ 27,  92,  67],\n",
      "        ...,\n",
      "        [137, 146, 155],\n",
      "        [137, 146, 155],\n",
      "        [137, 146, 155]],\n",
      "\n",
      "       [[ 29,  94,  68],\n",
      "        [ 29,  94,  68],\n",
      "        [ 27,  94,  67],\n",
      "        ...,\n",
      "        [134, 143, 152],\n",
      "        [134, 143, 152],\n",
      "        [134, 143, 152]]], dtype=uint8)\n",
      "orig_shape: (640, 640)\n",
      "path: 'c:\\\\Users\\\\victo\\\\Desktop\\\\Documents\\\\Tercer año\\\\Segundo Cuatrimestre\\\\Finales\\\\scripts\\\\..\\\\f1-strategy\\\\f1-dataset\\\\test\\\\images\\\\1-2023-Brazilian-GP-FP1-21_jpg.rf.e0a6d6d14a2b145d1285111d65dcf969.jpg'\n",
      "probs: None\n",
      "save_dir: 'runs\\\\detect\\\\predict6'\n",
      "speed: {'preprocess': 0.0, 'inference': 28.411865234375, 'postprocess': 2.2623538970947266}, ultralytics.engine.results.Results object with attributes:\n",
      "\n",
      "boxes: ultralytics.engine.results.Boxes object\n",
      "keypoints: None\n",
      "masks: None\n",
      "names: {0: 'Kick Sauber', 1: 'Racing Bulls', 2: 'Alpine', 3: 'Aston Martin', 4: 'Ferarri', 5: 'Haas', 6: 'Mclaren', 7: 'Mercedes', 8: 'Red Bull', 9: 'Williams'}\n",
      "obb: None\n",
      "orig_img: array([[[222, 180, 143],\n",
      "        [222, 180, 143],\n",
      "        [222, 180, 143],\n",
      "        ...,\n",
      "        [226, 186, 144],\n",
      "        [226, 186, 144],\n",
      "        [226, 186, 144]],\n",
      "\n",
      "       [[222, 180, 143],\n",
      "        [222, 180, 143],\n",
      "        [222, 180, 143],\n",
      "        ...,\n",
      "        [226, 186, 144],\n",
      "        [226, 186, 144],\n",
      "        [226, 186, 144]],\n",
      "\n",
      "       [[222, 180, 143],\n",
      "        [222, 180, 143],\n",
      "        [222, 180, 143],\n",
      "        ...,\n",
      "        [226, 186, 144],\n",
      "        [226, 186, 144],\n",
      "        [226, 186, 144]],\n",
      "\n",
      "       ...,\n",
      "\n",
      "       [[ 61,  62,  58],\n",
      "        [ 61,  62,  58],\n",
      "        [ 61,  62,  58],\n",
      "        ...,\n",
      "        [115, 192,  64],\n",
      "        [115, 192,  64],\n",
      "        [115, 193,  62]],\n",
      "\n",
      "       [[ 62,  58,  57],\n",
      "        [ 62,  58,  57],\n",
      "        [ 63,  58,  57],\n",
      "        ...,\n",
      "        [111, 195,  59],\n",
      "        [111, 195,  59],\n",
      "        [111, 196,  58]],\n",
      "\n",
      "       [[ 65,  59,  60],\n",
      "        [ 65,  59,  60],\n",
      "        [ 67,  59,  60],\n",
      "        ...,\n",
      "        [110, 196,  58],\n",
      "        [110, 197,  57],\n",
      "        [110, 197,  57]]], dtype=uint8)\n",
      "orig_shape: (640, 640)\n",
      "path: 'c:\\\\Users\\\\victo\\\\Desktop\\\\Documents\\\\Tercer año\\\\Segundo Cuatrimestre\\\\Finales\\\\scripts\\\\..\\\\f1-strategy\\\\f1-dataset\\\\test\\\\images\\\\1019924227-LAT-20231105-GP2320_143500SMG_2193-747_jpg.rf.cd24225e35180d6a3ede83dfb291abea.jpg'\n",
      "probs: None\n",
      "save_dir: 'runs\\\\detect\\\\predict6'\n",
      "speed: {'preprocess': 15.697956085205078, 'inference': 24.644136428833008, 'postprocess': 3.743410110473633}, ultralytics.engine.results.Results object with attributes:\n",
      "\n",
      "boxes: ultralytics.engine.results.Boxes object\n",
      "keypoints: None\n",
      "masks: None\n",
      "names: {0: 'Kick Sauber', 1: 'Racing Bulls', 2: 'Alpine', 3: 'Aston Martin', 4: 'Ferarri', 5: 'Haas', 6: 'Mclaren', 7: 'Mercedes', 8: 'Red Bull', 9: 'Williams'}\n",
      "obb: None\n",
      "orig_img: array([[[ 54,  52,  52],\n",
      "        [ 54,  52,  52],\n",
      "        [ 54,  52,  52],\n",
      "        ...,\n",
      "        [ 37,  35,  35],\n",
      "        [ 37,  35,  35],\n",
      "        [ 37,  35,  35]],\n",
      "\n",
      "       [[ 54,  52,  52],\n",
      "        [ 54,  52,  52],\n",
      "        [ 54,  52,  52],\n",
      "        ...,\n",
      "        [ 37,  35,  35],\n",
      "        [ 37,  35,  35],\n",
      "        [ 37,  35,  35]],\n",
      "\n",
      "       [[ 54,  52,  52],\n",
      "        [ 54,  52,  52],\n",
      "        [ 54,  52,  52],\n",
      "        ...,\n",
      "        [ 37,  35,  35],\n",
      "        [ 37,  35,  35],\n",
      "        [ 37,  35,  35]],\n",
      "\n",
      "       ...,\n",
      "\n",
      "       [[ 84,  87,  91],\n",
      "        [ 84,  87,  91],\n",
      "        [ 84,  87,  91],\n",
      "        ...,\n",
      "        [195, 198, 196],\n",
      "        [190, 193, 191],\n",
      "        [187, 190, 188]],\n",
      "\n",
      "       [[ 84,  87,  91],\n",
      "        [ 84,  87,  91],\n",
      "        [ 84,  87,  91],\n",
      "        ...,\n",
      "        [190, 194, 189],\n",
      "        [185, 189, 184],\n",
      "        [182, 186, 181]],\n",
      "\n",
      "       [[ 84,  87,  91],\n",
      "        [ 84,  87,  91],\n",
      "        [ 84,  87,  91],\n",
      "        ...,\n",
      "        [186, 190, 185],\n",
      "        [181, 185, 180],\n",
      "        [178, 182, 177]]], dtype=uint8)\n",
      "orig_shape: (640, 640)\n",
      "path: 'c:\\\\Users\\\\victo\\\\Desktop\\\\Documents\\\\Tercer año\\\\Segundo Cuatrimestre\\\\Finales\\\\scripts\\\\..\\\\f1-strategy\\\\f1-dataset\\\\test\\\\images\\\\13-sunday-mexicocity-2023_jpg.rf.9fb9bf359354501321e3dbd03e75d0d6.jpg'\n",
      "probs: None\n",
      "save_dir: 'runs\\\\detect\\\\predict6'\n",
      "speed: {'preprocess': 4.402637481689453, 'inference': 21.69203758239746, 'postprocess': 0.0}, ultralytics.engine.results.Results object with attributes:\n",
      "\n",
      "boxes: ultralytics.engine.results.Boxes object\n",
      "keypoints: None\n",
      "masks: None\n",
      "names: {0: 'Kick Sauber', 1: 'Racing Bulls', 2: 'Alpine', 3: 'Aston Martin', 4: 'Ferarri', 5: 'Haas', 6: 'Mclaren', 7: 'Mercedes', 8: 'Red Bull', 9: 'Williams'}\n",
      "obb: None\n",
      "orig_img: array([[[ 20,  21,  19],\n",
      "        [ 26,  27,  25],\n",
      "        [ 32,  33,  31],\n",
      "        ...,\n",
      "        [ 49,  86, 108],\n",
      "        [ 48,  85, 107],\n",
      "        [ 47,  84, 106]],\n",
      "\n",
      "       [[  7,   8,   6],\n",
      "        [ 10,  11,   9],\n",
      "        [ 14,  15,  13],\n",
      "        ...,\n",
      "        [ 45,  80, 100],\n",
      "        [ 44,  79,  99],\n",
      "        [ 43,  78,  98]],\n",
      "\n",
      "       [[  0,   1,   1],\n",
      "        [  0,   0,   0],\n",
      "        [  0,   1,   1],\n",
      "        ...,\n",
      "        [ 46,  78,  97],\n",
      "        [ 46,  78,  97],\n",
      "        [ 45,  77,  96]],\n",
      "\n",
      "       ...,\n",
      "\n",
      "       [[ 45,  49,  43],\n",
      "        [ 45,  49,  43],\n",
      "        [ 45,  49,  43],\n",
      "        ...,\n",
      "        [ 77,  86,  96],\n",
      "        [ 77,  86,  96],\n",
      "        [ 78,  87,  97]],\n",
      "\n",
      "       [[ 44,  48,  42],\n",
      "        [ 44,  48,  42],\n",
      "        [ 44,  48,  42],\n",
      "        ...,\n",
      "        [ 75,  84,  94],\n",
      "        [ 76,  85,  95],\n",
      "        [ 77,  86,  96]],\n",
      "\n",
      "       [[ 44,  48,  42],\n",
      "        [ 44,  48,  42],\n",
      "        [ 44,  48,  42],\n",
      "        ...,\n",
      "        [ 71,  80,  90],\n",
      "        [ 72,  81,  91],\n",
      "        [ 74,  83,  93]]], dtype=uint8)\n",
      "orig_shape: (640, 640)\n",
      "path: 'c:\\\\Users\\\\victo\\\\Desktop\\\\Documents\\\\Tercer año\\\\Segundo Cuatrimestre\\\\Finales\\\\scripts\\\\..\\\\f1-strategy\\\\f1-dataset\\\\test\\\\images\\\\Ferraritop_jpg.rf.2986765a7cdb43c522f47262e9e4b1ab.jpg'\n",
      "probs: None\n",
      "save_dir: 'runs\\\\detect\\\\predict6'\n",
      "speed: {'preprocess': 6.944179534912109, 'inference': 20.81131935119629, 'postprocess': 1.5647411346435547}, ultralytics.engine.results.Results object with attributes:\n",
      "\n",
      "boxes: ultralytics.engine.results.Boxes object\n",
      "keypoints: None\n",
      "masks: None\n",
      "names: {0: 'Kick Sauber', 1: 'Racing Bulls', 2: 'Alpine', 3: 'Aston Martin', 4: 'Ferarri', 5: 'Haas', 6: 'Mclaren', 7: 'Mercedes', 8: 'Red Bull', 9: 'Williams'}\n",
      "obb: None\n",
      "orig_img: array([[[ 57,  67, 137],\n",
      "        [ 57,  67, 137],\n",
      "        [ 57,  66, 139],\n",
      "        ...,\n",
      "        [ 50,  43, 212],\n",
      "        [ 50,  42, 213],\n",
      "        [ 50,  42, 213]],\n",
      "\n",
      "       [[ 57,  66, 139],\n",
      "        [ 58,  67, 140],\n",
      "        [ 58,  67, 141],\n",
      "        ...,\n",
      "        [ 49,  42, 211],\n",
      "        [ 50,  42, 213],\n",
      "        [ 50,  42, 213]],\n",
      "\n",
      "       [[ 60,  66, 143],\n",
      "        [ 61,  67, 144],\n",
      "        [ 61,  66, 145],\n",
      "        ...,\n",
      "        [ 49,  42, 211],\n",
      "        [ 49,  42, 211],\n",
      "        [ 50,  43, 212]],\n",
      "\n",
      "       ...,\n",
      "\n",
      "       [[246, 216, 105],\n",
      "        [246, 216, 105],\n",
      "        [245, 215, 104],\n",
      "        ...,\n",
      "        [247, 228, 213],\n",
      "        [247, 228, 215],\n",
      "        [248, 229, 216]],\n",
      "\n",
      "       [[245, 215, 104],\n",
      "        [245, 215, 104],\n",
      "        [244, 214, 103],\n",
      "        ...,\n",
      "        [237, 216, 201],\n",
      "        [238, 216, 204],\n",
      "        [238, 216, 204]],\n",
      "\n",
      "       [[244, 214, 103],\n",
      "        [244, 214, 103],\n",
      "        [243, 213, 102],\n",
      "        ...,\n",
      "        [228, 207, 192],\n",
      "        [228, 206, 194],\n",
      "        [229, 207, 195]]], dtype=uint8)\n",
      "orig_shape: (640, 640)\n",
      "path: 'c:\\\\Users\\\\victo\\\\Desktop\\\\Documents\\\\Tercer año\\\\Segundo Cuatrimestre\\\\Finales\\\\scripts\\\\..\\\\f1-strategy\\\\f1-dataset\\\\test\\\\images\\\\atbacl_jpg.rf.a5f559982c9977a9dd4944ba25157191.jpg'\n",
      "probs: None\n",
      "save_dir: 'runs\\\\detect\\\\predict6'\n",
      "speed: {'preprocess': 0.0, 'inference': 30.65800666809082, 'postprocess': 0.0}, ultralytics.engine.results.Results object with attributes:\n",
      "\n",
      "boxes: ultralytics.engine.results.Boxes object\n",
      "keypoints: None\n",
      "masks: None\n",
      "names: {0: 'Kick Sauber', 1: 'Racing Bulls', 2: 'Alpine', 3: 'Aston Martin', 4: 'Ferarri', 5: 'Haas', 6: 'Mclaren', 7: 'Mercedes', 8: 'Red Bull', 9: 'Williams'}\n",
      "obb: None\n",
      "orig_img: array([[[ 27,  57,  52],\n",
      "        [ 28,  58,  53],\n",
      "        [ 30,  60,  55],\n",
      "        ...,\n",
      "        [132, 130, 130],\n",
      "        [131, 129, 129],\n",
      "        [131, 129, 129]],\n",
      "\n",
      "       [[ 26,  56,  51],\n",
      "        [ 27,  57,  52],\n",
      "        [ 29,  59,  54],\n",
      "        ...,\n",
      "        [134, 132, 132],\n",
      "        [134, 132, 132],\n",
      "        [133, 131, 131]],\n",
      "\n",
      "       [[ 25,  55,  50],\n",
      "        [ 26,  56,  51],\n",
      "        [ 28,  58,  53],\n",
      "        ...,\n",
      "        [138, 136, 136],\n",
      "        [137, 135, 135],\n",
      "        [137, 135, 135]],\n",
      "\n",
      "       ...,\n",
      "\n",
      "       [[139, 141, 142],\n",
      "        [138, 140, 141],\n",
      "        [138, 140, 141],\n",
      "        ...,\n",
      "        [129, 127, 127],\n",
      "        [133, 131, 131],\n",
      "        [136, 134, 134]],\n",
      "\n",
      "       [[139, 141, 142],\n",
      "        [139, 141, 142],\n",
      "        [138, 140, 141],\n",
      "        ...,\n",
      "        [121, 119, 119],\n",
      "        [124, 122, 122],\n",
      "        [128, 126, 126]],\n",
      "\n",
      "       [[136, 138, 139],\n",
      "        [137, 139, 140],\n",
      "        [138, 140, 141],\n",
      "        ...,\n",
      "        [130, 128, 128],\n",
      "        [132, 130, 130],\n",
      "        [136, 134, 134]]], dtype=uint8)\n",
      "orig_shape: (640, 640)\n",
      "path: 'c:\\\\Users\\\\victo\\\\Desktop\\\\Documents\\\\Tercer año\\\\Segundo Cuatrimestre\\\\Finales\\\\scripts\\\\..\\\\f1-strategy\\\\f1-dataset\\\\test\\\\images\\\\frontside_jpg.rf.7c74ea6652d134b294e4f876d13517ce.jpg'\n",
      "probs: None\n",
      "save_dir: 'runs\\\\detect\\\\predict6'\n",
      "speed: {'preprocess': 3.029346466064453, 'inference': 18.9208984375, 'postprocess': 1.4302730560302734}, ultralytics.engine.results.Results object with attributes:\n",
      "\n",
      "boxes: ultralytics.engine.results.Boxes object\n",
      "keypoints: None\n",
      "masks: None\n",
      "names: {0: 'Kick Sauber', 1: 'Racing Bulls', 2: 'Alpine', 3: 'Aston Martin', 4: 'Ferarri', 5: 'Haas', 6: 'Mclaren', 7: 'Mercedes', 8: 'Red Bull', 9: 'Williams'}\n",
      "obb: None\n",
      "orig_img: array([[[ 31,  30,  34],\n",
      "        [ 31,  30,  34],\n",
      "        [ 32,  31,  35],\n",
      "        ...,\n",
      "        [ 72,  61,  53],\n",
      "        [ 72,  61,  53],\n",
      "        [ 72,  61,  53]],\n",
      "\n",
      "       [[ 30,  29,  33],\n",
      "        [ 31,  30,  34],\n",
      "        [ 31,  30,  34],\n",
      "        ...,\n",
      "        [ 72,  61,  53],\n",
      "        [ 72,  61,  53],\n",
      "        [ 72,  61,  53]],\n",
      "\n",
      "       [[ 28,  30,  31],\n",
      "        [ 29,  31,  32],\n",
      "        [ 30,  32,  33],\n",
      "        ...,\n",
      "        [ 72,  61,  53],\n",
      "        [ 72,  61,  53],\n",
      "        [ 72,  61,  53]],\n",
      "\n",
      "       ...,\n",
      "\n",
      "       [[ 62,  55, 200],\n",
      "        [ 62,  55, 200],\n",
      "        [ 62,  55, 200],\n",
      "        ...,\n",
      "        [ 61,  52, 196],\n",
      "        [ 61,  52, 196],\n",
      "        [ 61,  52, 196]],\n",
      "\n",
      "       [[ 62,  55, 200],\n",
      "        [ 62,  55, 200],\n",
      "        [ 62,  55, 200],\n",
      "        ...,\n",
      "        [ 61,  52, 196],\n",
      "        [ 61,  52, 196],\n",
      "        [ 61,  52, 196]],\n",
      "\n",
      "       [[ 62,  55, 200],\n",
      "        [ 62,  55, 200],\n",
      "        [ 62,  55, 200],\n",
      "        ...,\n",
      "        [ 61,  52, 196],\n",
      "        [ 61,  52, 196],\n",
      "        [ 61,  52, 196]]], dtype=uint8)\n",
      "orig_shape: (640, 640)\n",
      "path: 'c:\\\\Users\\\\victo\\\\Desktop\\\\Documents\\\\Tercer año\\\\Segundo Cuatrimestre\\\\Finales\\\\scripts\\\\..\\\\f1-strategy\\\\f1-dataset\\\\test\\\\images\\\\lowprofileAR_jpg.rf.28710b56c53ea202a7d7ce7df7cb3ad4.jpg'\n",
      "probs: None\n",
      "save_dir: 'runs\\\\detect\\\\predict6'\n",
      "speed: {'preprocess': 4.447460174560547, 'inference': 17.67253875732422, 'postprocess': 1.001119613647461}, ultralytics.engine.results.Results object with attributes:\n",
      "\n",
      "boxes: ultralytics.engine.results.Boxes object\n",
      "keypoints: None\n",
      "masks: None\n",
      "names: {0: 'Kick Sauber', 1: 'Racing Bulls', 2: 'Alpine', 3: 'Aston Martin', 4: 'Ferarri', 5: 'Haas', 6: 'Mclaren', 7: 'Mercedes', 8: 'Red Bull', 9: 'Williams'}\n",
      "obb: None\n",
      "orig_img: array([[[ 34,  27,  30],\n",
      "        [ 34,  27,  30],\n",
      "        [ 34,  27,  30],\n",
      "        ...,\n",
      "        [ 85,  71,  73],\n",
      "        [ 79,  65,  67],\n",
      "        [ 74,  60,  62]],\n",
      "\n",
      "       [[ 34,  27,  30],\n",
      "        [ 34,  27,  30],\n",
      "        [ 34,  27,  30],\n",
      "        ...,\n",
      "        [ 74,  60,  62],\n",
      "        [ 68,  54,  56],\n",
      "        [ 64,  50,  52]],\n",
      "\n",
      "       [[ 34,  27,  30],\n",
      "        [ 34,  27,  30],\n",
      "        [ 34,  27,  30],\n",
      "        ...,\n",
      "        [ 61,  47,  49],\n",
      "        [ 56,  42,  44],\n",
      "        [ 53,  39,  41]],\n",
      "\n",
      "       ...,\n",
      "\n",
      "       [[154,  98,  39],\n",
      "        [154,  98,  39],\n",
      "        [154,  98,  39],\n",
      "        ...,\n",
      "        [174, 173, 175],\n",
      "        [174, 173, 175],\n",
      "        [174, 173, 175]],\n",
      "\n",
      "       [[154,  97,  41],\n",
      "        [154,  97,  41],\n",
      "        [156,  97,  41],\n",
      "        ...,\n",
      "        [174, 173, 175],\n",
      "        [174, 173, 175],\n",
      "        [174, 173, 175]],\n",
      "\n",
      "       [[154,  97,  41],\n",
      "        [154,  97,  41],\n",
      "        [156,  97,  41],\n",
      "        ...,\n",
      "        [174, 173, 175],\n",
      "        [174, 173, 175],\n",
      "        [174, 173, 175]]], dtype=uint8)\n",
      "orig_shape: (640, 640)\n",
      "path: 'c:\\\\Users\\\\victo\\\\Desktop\\\\Documents\\\\Tercer año\\\\Segundo Cuatrimestre\\\\Finales\\\\scripts\\\\..\\\\f1-strategy\\\\f1-dataset\\\\test\\\\images\\\\m404125_jpg.rf.fafa711c48f08720af31bc6667e93428.jpg'\n",
      "probs: None\n",
      "save_dir: 'runs\\\\detect\\\\predict6'\n",
      "speed: {'preprocess': 3.6427974700927734, 'inference': 3.36456298828125, 'postprocess': 15.675067901611328}, ultralytics.engine.results.Results object with attributes:\n",
      "\n",
      "boxes: ultralytics.engine.results.Boxes object\n",
      "keypoints: None\n",
      "masks: None\n",
      "names: {0: 'Kick Sauber', 1: 'Racing Bulls', 2: 'Alpine', 3: 'Aston Martin', 4: 'Ferarri', 5: 'Haas', 6: 'Mclaren', 7: 'Mercedes', 8: 'Red Bull', 9: 'Williams'}\n",
      "obb: None\n",
      "orig_img: array([[[226, 210, 194],\n",
      "        [226, 210, 194],\n",
      "        [226, 210, 194],\n",
      "        ...,\n",
      "        [230, 214, 198],\n",
      "        [230, 214, 198],\n",
      "        [230, 214, 198]],\n",
      "\n",
      "       [[226, 210, 194],\n",
      "        [226, 210, 194],\n",
      "        [226, 210, 194],\n",
      "        ...,\n",
      "        [230, 214, 198],\n",
      "        [230, 214, 198],\n",
      "        [230, 214, 198]],\n",
      "\n",
      "       [[226, 210, 194],\n",
      "        [226, 210, 194],\n",
      "        [226, 210, 194],\n",
      "        ...,\n",
      "        [230, 214, 198],\n",
      "        [230, 214, 198],\n",
      "        [230, 214, 198]],\n",
      "\n",
      "       ...,\n",
      "\n",
      "       [[110, 109, 111],\n",
      "        [110, 109, 111],\n",
      "        [110, 109, 111],\n",
      "        ...,\n",
      "        [113, 112, 114],\n",
      "        [112, 111, 113],\n",
      "        [111, 110, 112]],\n",
      "\n",
      "       [[107, 106, 108],\n",
      "        [107, 106, 108],\n",
      "        [108, 107, 109],\n",
      "        ...,\n",
      "        [110, 109, 111],\n",
      "        [108, 107, 109],\n",
      "        [107, 106, 108]],\n",
      "\n",
      "       [[104, 103, 105],\n",
      "        [105, 104, 106],\n",
      "        [106, 105, 107],\n",
      "        ...,\n",
      "        [106, 105, 107],\n",
      "        [105, 104, 106],\n",
      "        [104, 103, 105]]], dtype=uint8)\n",
      "orig_shape: (640, 640)\n",
      "path: 'c:\\\\Users\\\\victo\\\\Desktop\\\\Documents\\\\Tercer año\\\\Segundo Cuatrimestre\\\\Finales\\\\scripts\\\\..\\\\f1-strategy\\\\f1-dataset\\\\test\\\\images\\\\mclarentfrontside_jpg.rf.672dfe2daba2a832744a238ddcd824d4.jpg'\n",
      "probs: None\n",
      "save_dir: 'runs\\\\detect\\\\predict6'\n",
      "speed: {'preprocess': 5.237102508544922, 'inference': 17.693042755126953, 'postprocess': 1.0001659393310547}, ultralytics.engine.results.Results object with attributes:\n",
      "\n",
      "boxes: ultralytics.engine.results.Boxes object\n",
      "keypoints: None\n",
      "masks: None\n",
      "names: {0: 'Kick Sauber', 1: 'Racing Bulls', 2: 'Alpine', 3: 'Aston Martin', 4: 'Ferarri', 5: 'Haas', 6: 'Mclaren', 7: 'Mercedes', 8: 'Red Bull', 9: 'Williams'}\n",
      "obb: None\n",
      "orig_img: array([[[175, 119,  72],\n",
      "        [175, 119,  72],\n",
      "        [175, 119,  72],\n",
      "        ...,\n",
      "        [ 96,  80,  51],\n",
      "        [ 96,  80,  51],\n",
      "        [ 96,  80,  51]],\n",
      "\n",
      "       [[175, 119,  72],\n",
      "        [175, 119,  72],\n",
      "        [175, 119,  72],\n",
      "        ...,\n",
      "        [ 94,  78,  49],\n",
      "        [ 94,  78,  49],\n",
      "        [ 94,  78,  49]],\n",
      "\n",
      "       [[175, 119,  72],\n",
      "        [175, 119,  72],\n",
      "        [175, 119,  72],\n",
      "        ...,\n",
      "        [ 89,  75,  47],\n",
      "        [ 89,  75,  47],\n",
      "        [ 89,  75,  47]],\n",
      "\n",
      "       ...,\n",
      "\n",
      "       [[ 30,  81,  74],\n",
      "        [ 30,  81,  74],\n",
      "        [ 30,  81,  74],\n",
      "        ...,\n",
      "        [ 32,  83,  76],\n",
      "        [ 32,  83,  76],\n",
      "        [ 32,  83,  76]],\n",
      "\n",
      "       [[ 32,  82,  78],\n",
      "        [ 32,  82,  78],\n",
      "        [ 32,  82,  78],\n",
      "        ...,\n",
      "        [ 31,  79,  73],\n",
      "        [ 31,  79,  73],\n",
      "        [ 31,  79,  73]],\n",
      "\n",
      "       [[ 33,  83,  79],\n",
      "        [ 33,  83,  79],\n",
      "        [ 33,  83,  79],\n",
      "        ...,\n",
      "        [ 28,  76,  70],\n",
      "        [ 28,  76,  70],\n",
      "        [ 28,  76,  70]]], dtype=uint8)\n",
      "orig_shape: (640, 640)\n",
      "path: 'c:\\\\Users\\\\victo\\\\Desktop\\\\Documents\\\\Tercer año\\\\Segundo Cuatrimestre\\\\Finales\\\\scripts\\\\..\\\\f1-strategy\\\\f1-dataset\\\\test\\\\images\\\\rbfullside_jpg.rf.24fcc0caff1ddb59697ea96006bcd93a.jpg'\n",
      "probs: None\n",
      "save_dir: 'runs\\\\detect\\\\predict6'\n",
      "speed: {'preprocess': 4.461526870727539, 'inference': 18.663883209228516, 'postprocess': 2.001523971557617}, ultralytics.engine.results.Results object with attributes:\n",
      "\n",
      "boxes: ultralytics.engine.results.Boxes object\n",
      "keypoints: None\n",
      "masks: None\n",
      "names: {0: 'Kick Sauber', 1: 'Racing Bulls', 2: 'Alpine', 3: 'Aston Martin', 4: 'Ferarri', 5: 'Haas', 6: 'Mclaren', 7: 'Mercedes', 8: 'Red Bull', 9: 'Williams'}\n",
      "obb: None\n",
      "orig_img: array([[[244, 236, 229],\n",
      "        [244, 236, 229],\n",
      "        [244, 236, 229],\n",
      "        ...,\n",
      "        [246, 236, 229],\n",
      "        [246, 236, 229],\n",
      "        [246, 236, 229]],\n",
      "\n",
      "       [[244, 236, 229],\n",
      "        [244, 236, 229],\n",
      "        [244, 236, 229],\n",
      "        ...,\n",
      "        [246, 236, 229],\n",
      "        [246, 236, 229],\n",
      "        [246, 236, 229]],\n",
      "\n",
      "       [[244, 236, 229],\n",
      "        [244, 236, 229],\n",
      "        [244, 236, 229],\n",
      "        ...,\n",
      "        [246, 236, 229],\n",
      "        [246, 236, 229],\n",
      "        [246, 236, 229]],\n",
      "\n",
      "       ...,\n",
      "\n",
      "       [[ 13,  85,  63],\n",
      "        [ 14,  86,  64],\n",
      "        [ 16,  88,  66],\n",
      "        ...,\n",
      "        [ 42, 108,  89],\n",
      "        [ 43, 109,  90],\n",
      "        [ 44, 110,  91]],\n",
      "\n",
      "       [[ 19,  88,  67],\n",
      "        [ 20,  89,  68],\n",
      "        [ 21,  90,  69],\n",
      "        ...,\n",
      "        [ 36, 100,  81],\n",
      "        [ 36, 100,  81],\n",
      "        [ 37, 101,  82]],\n",
      "\n",
      "       [[ 22,  91,  70],\n",
      "        [ 23,  92,  71],\n",
      "        [ 25,  94,  73],\n",
      "        ...,\n",
      "        [ 33,  97,  78],\n",
      "        [ 34,  98,  79],\n",
      "        [ 34,  98,  79]]], dtype=uint8)\n",
      "orig_shape: (640, 640)\n",
      "path: 'c:\\\\Users\\\\victo\\\\Desktop\\\\Documents\\\\Tercer año\\\\Segundo Cuatrimestre\\\\Finales\\\\scripts\\\\..\\\\f1-strategy\\\\f1-dataset\\\\test\\\\images\\\\siderightat_jpg.rf.006445f880bb837e2f454d34739750f5.jpg'\n",
      "probs: None\n",
      "save_dir: 'runs\\\\detect\\\\predict6'\n",
      "speed: {'preprocess': 4.3125152587890625, 'inference': 21.12269401550293, 'postprocess': 0.9984970092773438}]\n"
     ]
    }
   ],
   "source": [
    "model_extreme_test = YOLO(\"../f1-strategy/weights/model_extreme_cls.pt\")\n",
    "\n",
    "model_extreme_test.to(DEVICE)\n",
    "\n",
    "# Evaluar en el conjunto de prueba\n",
    "test_results_pruned = model_extreme_test.predict(\n",
    "    source=\"../f1-strategy/f1-dataset/test/images\", save=True)\n",
    "\n",
    "print(test_results_pruned)"
   ]
  },
  {
   "cell_type": "markdown",
   "metadata": {},
   "source": [
    "Análisis de Resultados del Nuevo Modelo\n",
    "¡Excelente! Los resultados son significativamente mejores que todos los modelos anteriores. Vamos a hacer una comparación detallada:\n",
    "Métricas Generales\n",
    "MétricaModelo OriginalSegundo ModeloModelo ClasificaciónNuevo ModelomAP500.8710.9210.8920.958 ✅mAP50-950.7520.7090.7500.803 ✅\n",
    "El nuevo modelo supera a todos los anteriores en ambas métricas clave.\n",
    "Específicamente para Williams (el problema principal)\n",
    "Métrica WilliamsModelo AnteriorNuevo ModeloPrecisión0.4720.435Recall0.6121.000 ✅mAP500.6100.995 ✅mAP50-950.5540.895 ✅"
   ]
  },
  {
   "cell_type": "markdown",
   "metadata": {},
   "source": [
    "### Modelo fine tuned del extreme"
   ]
  },
  {
   "cell_type": "code",
   "execution_count": 1,
   "metadata": {},
   "outputs": [
    {
     "name": "stdout",
     "output_type": "stream",
     "text": [
      "Backup creado en ../f1-strategy\\f1-dataset\\data.yaml.backup2\n",
      "Archivo ../f1-strategy\\f1-dataset\\data.yaml actualizado con pesos EXTREMOS para clases:\n",
      "  - Kick Sauber: 1.0\n",
      "  - Racing Bulls: 1.0\n",
      "  - Alpine: 0.3\n",
      "  - Aston Martin: 1.0\n",
      "  - Ferarri: 1.0\n",
      "  - Haas: 1.0\n",
      "  - Mclaren: 2.5\n",
      "  - Mercedes: 1.0\n",
      "  - Red Bull: 1.0\n",
      "  - Williams: 1.5\n",
      "\n",
      "=== CONFIGURACIÓN DEL FINE-TUNING ANTI-ALPINE ===\n",
      "Épocas: 25\n",
      "Batch size: 6\n",
      "Paciencia: 12\n",
      "Peso de Williams: 1.5 (reducido)\n",
      "Peso de Alpine: 0.3 (DRÁSTICAMENTE reducido)\n",
      "Peso de McLaren: 2.5 (aumentado significativamente)\n",
      "===================================\n",
      "\n",
      "New https://pypi.org/project/ultralytics/8.3.80 available  Update with 'pip install -U ultralytics'\n",
      "WARNING  'label_smoothing' is deprecated and will be removed in in the future.\n",
      "Ultralytics 8.3.69  Python-3.10.16 torch-2.5.1+cu124 CUDA:0 (NVIDIA GeForce RTX 4060 Laptop GPU, 8188MiB)\n",
      "\u001b[34m\u001b[1mengine\\trainer: \u001b[0mtask=detect, mode=train, model=../f1-strategy/weights/model_extreme_cls.pt, data=../f1-strategy\\f1-dataset\\data.yaml, epochs=25, time=None, patience=12, batch=6, imgsz=800, save=True, save_period=2, cache=False, device=0, workers=8, project=../f1-strategy/yolo-files/runs, name=anti_alpine_tuning, exist_ok=True, pretrained=True, optimizer=AdamW, verbose=True, seed=0, deterministic=True, single_cls=False, rect=False, cos_lr=False, close_mosaic=10, resume=False, amp=True, fraction=1.0, profile=False, freeze=None, multi_scale=False, overlap_mask=True, mask_ratio=4, dropout=0.0, val=True, split=val, save_json=False, save_hybrid=False, conf=None, iou=0.7, max_det=300, half=False, dnn=False, plots=True, source=None, vid_stride=1, stream_buffer=False, visualize=False, augment=False, agnostic_nms=False, classes=None, retina_masks=False, embed=None, show=False, save_frames=False, save_txt=False, save_conf=False, save_crop=False, show_labels=True, show_conf=True, show_boxes=True, line_width=None, format=torchscript, keras=False, optimize=False, int8=False, dynamic=False, simplify=True, opset=None, workspace=None, nms=False, lr0=7e-05, lrf=1e-06, momentum=0.937, weight_decay=0.003, warmup_epochs=4.0, warmup_momentum=0.8, warmup_bias_lr=0.1, box=6.0, cls=9.0, dfl=1.5, pose=12.0, kobj=1.0, nbs=64, hsv_h=0.02, hsv_s=0.9, hsv_v=0.7, degrees=2.5, translate=0.2, scale=0.8, shear=0.9, perspective=0.0002, flipud=0.05, fliplr=0.5, bgr=0.0, mosaic=0.9, mixup=0.3, copy_paste=0.3, copy_paste_mode=flip, auto_augment=randaugment, erasing=0.4, crop_fraction=1.0, cfg=None, tracker=botsort.yaml, save_dir=..\\f1-strategy\\yolo-files\\runs\\anti_alpine_tuning\n",
      "\n",
      "                   from  n    params  module                                       arguments                     \n",
      "  0                  -1  1      1392  ultralytics.nn.modules.conv.Conv             [3, 48, 3, 2]                 \n",
      "  1                  -1  1     41664  ultralytics.nn.modules.conv.Conv             [48, 96, 3, 2]                \n",
      "  2                  -1  2    111360  ultralytics.nn.modules.block.C2f             [96, 96, 2, True]             \n",
      "  3                  -1  1    166272  ultralytics.nn.modules.conv.Conv             [96, 192, 3, 2]               \n",
      "  4                  -1  4    813312  ultralytics.nn.modules.block.C2f             [192, 192, 4, True]           \n",
      "  5                  -1  1    664320  ultralytics.nn.modules.conv.Conv             [192, 384, 3, 2]              \n",
      "  6                  -1  4   3248640  ultralytics.nn.modules.block.C2f             [384, 384, 4, True]           \n",
      "  7                  -1  1   1991808  ultralytics.nn.modules.conv.Conv             [384, 576, 3, 2]              \n",
      "  8                  -1  2   3985920  ultralytics.nn.modules.block.C2f             [576, 576, 2, True]           \n",
      "  9                  -1  1    831168  ultralytics.nn.modules.block.SPPF            [576, 576, 5]                 \n",
      " 10                  -1  1         0  torch.nn.modules.upsampling.Upsample         [None, 2, 'nearest']          \n",
      " 11             [-1, 6]  1         0  ultralytics.nn.modules.conv.Concat           [1]                           \n",
      " 12                  -1  2   1993728  ultralytics.nn.modules.block.C2f             [960, 384, 2]                 \n",
      " 13                  -1  1         0  torch.nn.modules.upsampling.Upsample         [None, 2, 'nearest']          \n",
      " 14             [-1, 4]  1         0  ultralytics.nn.modules.conv.Concat           [1]                           \n",
      " 15                  -1  2    517632  ultralytics.nn.modules.block.C2f             [576, 192, 2]                 \n",
      " 16                  -1  1    332160  ultralytics.nn.modules.conv.Conv             [192, 192, 3, 2]              \n",
      " 17            [-1, 12]  1         0  ultralytics.nn.modules.conv.Concat           [1]                           \n",
      " 18                  -1  2   1846272  ultralytics.nn.modules.block.C2f             [576, 384, 2]                 \n",
      " 19                  -1  1   1327872  ultralytics.nn.modules.conv.Conv             [384, 384, 3, 2]              \n",
      " 20             [-1, 9]  1         0  ultralytics.nn.modules.conv.Concat           [1]                           \n",
      " 21                  -1  2   4207104  ultralytics.nn.modules.block.C2f             [960, 576, 2]                 \n",
      " 22        [15, 18, 21]  1   3781486  ultralytics.nn.modules.head.Detect           [10, [192, 384, 576]]         \n",
      "Model summary: 295 layers, 25,862,110 parameters, 25,862,094 gradients, 79.1 GFLOPs\n",
      "\n",
      "Transferred 90/475 items from pretrained weights\n",
      "Freezing layer 'model.22.dfl.conv.weight'\n",
      "\u001b[34m\u001b[1mAMP: \u001b[0mrunning Automatic Mixed Precision (AMP) checks...\n",
      "\u001b[34m\u001b[1mAMP: \u001b[0mchecks passed \n"
     ]
    },
    {
     "name": "stderr",
     "output_type": "stream",
     "text": [
      "\u001b[34m\u001b[1mtrain: \u001b[0mScanning C:\\Users\\victo\\Desktop\\Documents\\Tercer año\\Segundo Cuatrimestre\\Finales\\f1-strategy\\f1-dataset\\train\\labels.cache... 2500 images, 0 backgrounds, 0 corrupt: 100%|██████████| 2500/2500 [00:00<?, ?it/s]\n"
     ]
    },
    {
     "name": "stdout",
     "output_type": "stream",
     "text": [
      "\u001b[34m\u001b[1malbumentations: \u001b[0mBlur(p=0.01, blur_limit=(3, 7)), MedianBlur(p=0.01, blur_limit=(3, 7)), ToGray(p=0.01, num_output_channels=3, method='weighted_average'), CLAHE(p=0.01, clip_limit=(1.0, 4.0), tile_grid_size=(8, 8))\n"
     ]
    },
    {
     "name": "stderr",
     "output_type": "stream",
     "text": [
      "\u001b[34m\u001b[1mval: \u001b[0mScanning C:\\Users\\victo\\Desktop\\Documents\\Tercer año\\Segundo Cuatrimestre\\Finales\\f1-strategy\\f1-dataset\\valid\\labels.cache... 20 images, 0 backgrounds, 0 corrupt: 100%|██████████| 20/20 [00:00<?, ?it/s]\n"
     ]
    },
    {
     "name": "stdout",
     "output_type": "stream",
     "text": [
      "Plotting labels to ..\\f1-strategy\\yolo-files\\runs\\anti_alpine_tuning\\labels.jpg... \n",
      "\u001b[34m\u001b[1moptimizer:\u001b[0m AdamW(lr=7e-05, momentum=0.937) with parameter groups 77 weight(decay=0.0), 84 weight(decay=0.00309375), 83 bias(decay=0.0)\n",
      "Image sizes 800 train, 800 val\n",
      "Using 8 dataloader workers\n",
      "Logging results to \u001b[1m..\\f1-strategy\\yolo-files\\runs\\anti_alpine_tuning\u001b[0m\n",
      "Starting training for 25 epochs...\n",
      "\n",
      "      Epoch    GPU_mem   box_loss   cls_loss   dfl_loss  Instances       Size\n"
     ]
    },
    {
     "name": "stderr",
     "output_type": "stream",
     "text": [
      "       1/25      4.14G      1.136      28.26      1.737         13        800: 100%|██████████| 417/417 [01:45<00:00,  3.95it/s]\n",
      "                 Class     Images  Instances      Box(P          R      mAP50  mAP50-95): 100%|██████████| 2/2 [00:00<00:00,  5.78it/s]"
     ]
    },
    {
     "name": "stdout",
     "output_type": "stream",
     "text": [
      "                   all         20         29      0.721      0.715      0.785      0.568\n"
     ]
    },
    {
     "name": "stderr",
     "output_type": "stream",
     "text": [
      "\n"
     ]
    },
    {
     "name": "stdout",
     "output_type": "stream",
     "text": [
      "\n",
      "      Epoch    GPU_mem   box_loss   cls_loss   dfl_loss  Instances       Size\n"
     ]
    },
    {
     "name": "stderr",
     "output_type": "stream",
     "text": [
      "       2/25      4.43G     0.9171      17.23       1.51          7        800: 100%|██████████| 417/417 [01:40<00:00,  4.16it/s]\n",
      "                 Class     Images  Instances      Box(P          R      mAP50  mAP50-95): 100%|██████████| 2/2 [00:00<00:00,  5.84it/s]"
     ]
    },
    {
     "name": "stdout",
     "output_type": "stream",
     "text": [
      "                   all         20         29      0.697      0.829      0.874      0.702\n"
     ]
    },
    {
     "name": "stderr",
     "output_type": "stream",
     "text": [
      "\n"
     ]
    },
    {
     "name": "stdout",
     "output_type": "stream",
     "text": [
      "\n",
      "      Epoch    GPU_mem   box_loss   cls_loss   dfl_loss  Instances       Size\n"
     ]
    },
    {
     "name": "stderr",
     "output_type": "stream",
     "text": [
      "       3/25      4.42G     0.8693      15.33      1.465         15        800: 100%|██████████| 417/417 [01:39<00:00,  4.21it/s]\n",
      "                 Class     Images  Instances      Box(P          R      mAP50  mAP50-95): 100%|██████████| 2/2 [00:00<00:00,  5.98it/s]"
     ]
    },
    {
     "name": "stdout",
     "output_type": "stream",
     "text": [
      "                   all         20         29       0.81      0.788      0.942       0.73\n"
     ]
    },
    {
     "name": "stderr",
     "output_type": "stream",
     "text": [
      "\n"
     ]
    },
    {
     "name": "stdout",
     "output_type": "stream",
     "text": [
      "\n",
      "      Epoch    GPU_mem   box_loss   cls_loss   dfl_loss  Instances       Size\n"
     ]
    },
    {
     "name": "stderr",
     "output_type": "stream",
     "text": [
      "       4/25      4.41G     0.8377      14.16      1.442         13        800: 100%|██████████| 417/417 [01:38<00:00,  4.23it/s]\n",
      "                 Class     Images  Instances      Box(P          R      mAP50  mAP50-95): 100%|██████████| 2/2 [00:00<00:00,  6.05it/s]"
     ]
    },
    {
     "name": "stdout",
     "output_type": "stream",
     "text": [
      "                   all         20         29       0.84      0.756      0.926      0.754\n"
     ]
    },
    {
     "name": "stderr",
     "output_type": "stream",
     "text": [
      "\n"
     ]
    },
    {
     "name": "stdout",
     "output_type": "stream",
     "text": [
      "\n",
      "      Epoch    GPU_mem   box_loss   cls_loss   dfl_loss  Instances       Size\n"
     ]
    },
    {
     "name": "stderr",
     "output_type": "stream",
     "text": [
      "       5/25      4.44G     0.8198      13.51      1.419         14        800: 100%|██████████| 417/417 [01:38<00:00,  4.25it/s]\n",
      "                 Class     Images  Instances      Box(P          R      mAP50  mAP50-95): 100%|██████████| 2/2 [00:00<00:00,  5.90it/s]"
     ]
    },
    {
     "name": "stdout",
     "output_type": "stream",
     "text": [
      "                   all         20         29      0.813      0.752      0.926       0.75\n"
     ]
    },
    {
     "name": "stderr",
     "output_type": "stream",
     "text": [
      "\n"
     ]
    },
    {
     "name": "stdout",
     "output_type": "stream",
     "text": [
      "\n",
      "      Epoch    GPU_mem   box_loss   cls_loss   dfl_loss  Instances       Size\n"
     ]
    },
    {
     "name": "stderr",
     "output_type": "stream",
     "text": [
      "       6/25      4.42G     0.8058       12.9      1.409         19        800: 100%|██████████| 417/417 [01:38<00:00,  4.24it/s]\n",
      "                 Class     Images  Instances      Box(P          R      mAP50  mAP50-95): 100%|██████████| 2/2 [00:00<00:00,  5.90it/s]"
     ]
    },
    {
     "name": "stdout",
     "output_type": "stream",
     "text": [
      "                   all         20         29      0.855      0.734      0.913      0.713\n"
     ]
    },
    {
     "name": "stderr",
     "output_type": "stream",
     "text": [
      "\n"
     ]
    },
    {
     "name": "stdout",
     "output_type": "stream",
     "text": [
      "\n",
      "      Epoch    GPU_mem   box_loss   cls_loss   dfl_loss  Instances       Size\n"
     ]
    },
    {
     "name": "stderr",
     "output_type": "stream",
     "text": [
      "       7/25      4.43G     0.8014      12.69      1.397         14        800: 100%|██████████| 417/417 [01:38<00:00,  4.25it/s]\n",
      "                 Class     Images  Instances      Box(P          R      mAP50  mAP50-95): 100%|██████████| 2/2 [00:00<00:00,  5.93it/s]"
     ]
    },
    {
     "name": "stdout",
     "output_type": "stream",
     "text": [
      "                   all         20         29      0.815      0.818      0.913      0.729\n"
     ]
    },
    {
     "name": "stderr",
     "output_type": "stream",
     "text": [
      "\n"
     ]
    },
    {
     "name": "stdout",
     "output_type": "stream",
     "text": [
      "\n",
      "      Epoch    GPU_mem   box_loss   cls_loss   dfl_loss  Instances       Size\n"
     ]
    },
    {
     "name": "stderr",
     "output_type": "stream",
     "text": [
      "       8/25      4.42G     0.7828      12.35      1.386         17        800: 100%|██████████| 417/417 [01:38<00:00,  4.25it/s]\n",
      "                 Class     Images  Instances      Box(P          R      mAP50  mAP50-95): 100%|██████████| 2/2 [00:00<00:00,  5.99it/s]"
     ]
    },
    {
     "name": "stdout",
     "output_type": "stream",
     "text": [
      "                   all         20         29      0.833      0.814      0.948      0.732\n"
     ]
    },
    {
     "name": "stderr",
     "output_type": "stream",
     "text": [
      "\n"
     ]
    },
    {
     "name": "stdout",
     "output_type": "stream",
     "text": [
      "\n",
      "      Epoch    GPU_mem   box_loss   cls_loss   dfl_loss  Instances       Size\n"
     ]
    },
    {
     "name": "stderr",
     "output_type": "stream",
     "text": [
      "       9/25      4.44G     0.7873      12.38      1.386          8        800: 100%|██████████| 417/417 [01:40<00:00,  4.16it/s]\n",
      "                 Class     Images  Instances      Box(P          R      mAP50  mAP50-95): 100%|██████████| 2/2 [00:00<00:00,  5.69it/s]"
     ]
    },
    {
     "name": "stdout",
     "output_type": "stream",
     "text": [
      "                   all         20         29      0.836       0.75      0.913      0.734\n"
     ]
    },
    {
     "name": "stderr",
     "output_type": "stream",
     "text": [
      "\n"
     ]
    },
    {
     "name": "stdout",
     "output_type": "stream",
     "text": [
      "\n",
      "      Epoch    GPU_mem   box_loss   cls_loss   dfl_loss  Instances       Size\n"
     ]
    },
    {
     "name": "stderr",
     "output_type": "stream",
     "text": [
      "      10/25      4.41G     0.7832      12.09      1.373         13        800: 100%|██████████| 417/417 [01:40<00:00,  4.17it/s]\n",
      "                 Class     Images  Instances      Box(P          R      mAP50  mAP50-95): 100%|██████████| 2/2 [00:00<00:00,  5.80it/s]"
     ]
    },
    {
     "name": "stdout",
     "output_type": "stream",
     "text": [
      "                   all         20         29      0.812      0.783      0.921      0.707\n"
     ]
    },
    {
     "name": "stderr",
     "output_type": "stream",
     "text": [
      "\n"
     ]
    },
    {
     "name": "stdout",
     "output_type": "stream",
     "text": [
      "\n",
      "      Epoch    GPU_mem   box_loss   cls_loss   dfl_loss  Instances       Size\n"
     ]
    },
    {
     "name": "stderr",
     "output_type": "stream",
     "text": [
      "      11/25      4.46G     0.7666      11.95      1.369         30        800: 100%|██████████| 417/417 [01:39<00:00,  4.17it/s]\n",
      "                 Class     Images  Instances      Box(P          R      mAP50  mAP50-95): 100%|██████████| 2/2 [00:00<00:00,  5.78it/s]"
     ]
    },
    {
     "name": "stdout",
     "output_type": "stream",
     "text": [
      "                   all         20         29      0.815      0.819      0.958      0.757\n"
     ]
    },
    {
     "name": "stderr",
     "output_type": "stream",
     "text": [
      "\n"
     ]
    },
    {
     "name": "stdout",
     "output_type": "stream",
     "text": [
      "\n",
      "      Epoch    GPU_mem   box_loss   cls_loss   dfl_loss  Instances       Size\n"
     ]
    },
    {
     "name": "stderr",
     "output_type": "stream",
     "text": [
      "      12/25      4.35G     0.7677      11.66      1.381         11        800: 100%|██████████| 417/417 [01:39<00:00,  4.17it/s]\n",
      "                 Class     Images  Instances      Box(P          R      mAP50  mAP50-95): 100%|██████████| 2/2 [00:00<00:00,  5.88it/s]"
     ]
    },
    {
     "name": "stdout",
     "output_type": "stream",
     "text": [
      "                   all         20         29      0.835      0.772      0.932      0.707\n"
     ]
    },
    {
     "name": "stderr",
     "output_type": "stream",
     "text": [
      "\n"
     ]
    },
    {
     "name": "stdout",
     "output_type": "stream",
     "text": [
      "\n",
      "      Epoch    GPU_mem   box_loss   cls_loss   dfl_loss  Instances       Size\n"
     ]
    },
    {
     "name": "stderr",
     "output_type": "stream",
     "text": [
      "      13/25      4.43G     0.7565      11.54      1.363          9        800: 100%|██████████| 417/417 [01:39<00:00,  4.20it/s]\n",
      "                 Class     Images  Instances      Box(P          R      mAP50  mAP50-95): 100%|██████████| 2/2 [00:00<00:00,  5.94it/s]"
     ]
    },
    {
     "name": "stdout",
     "output_type": "stream",
     "text": [
      "                   all         20         29       0.79       0.82      0.946      0.752\n"
     ]
    },
    {
     "name": "stderr",
     "output_type": "stream",
     "text": [
      "\n"
     ]
    },
    {
     "name": "stdout",
     "output_type": "stream",
     "text": [
      "\n",
      "      Epoch    GPU_mem   box_loss   cls_loss   dfl_loss  Instances       Size\n"
     ]
    },
    {
     "name": "stderr",
     "output_type": "stream",
     "text": [
      "      14/25      4.42G     0.7551       11.4      1.361         42        800: 100%|██████████| 417/417 [01:38<00:00,  4.22it/s]\n",
      "                 Class     Images  Instances      Box(P          R      mAP50  mAP50-95): 100%|██████████| 2/2 [00:00<00:00,  6.02it/s]"
     ]
    },
    {
     "name": "stdout",
     "output_type": "stream",
     "text": [
      "                   all         20         29       0.79       0.83      0.937      0.729\n"
     ]
    },
    {
     "name": "stderr",
     "output_type": "stream",
     "text": [
      "\n"
     ]
    },
    {
     "name": "stdout",
     "output_type": "stream",
     "text": [
      "\n",
      "      Epoch    GPU_mem   box_loss   cls_loss   dfl_loss  Instances       Size\n"
     ]
    },
    {
     "name": "stderr",
     "output_type": "stream",
     "text": [
      "      15/25      4.43G     0.7551      11.44      1.345          8        800: 100%|██████████| 417/417 [01:39<00:00,  4.19it/s]\n",
      "                 Class     Images  Instances      Box(P          R      mAP50  mAP50-95): 100%|██████████| 2/2 [00:00<00:00,  5.66it/s]"
     ]
    },
    {
     "name": "stdout",
     "output_type": "stream",
     "text": [
      "                   all         20         29      0.721      0.798      0.896      0.704\n"
     ]
    },
    {
     "name": "stderr",
     "output_type": "stream",
     "text": [
      "\n"
     ]
    },
    {
     "name": "stdout",
     "output_type": "stream",
     "text": [
      "Closing dataloader mosaic\n",
      "\u001b[34m\u001b[1malbumentations: \u001b[0mBlur(p=0.01, blur_limit=(3, 7)), MedianBlur(p=0.01, blur_limit=(3, 7)), ToGray(p=0.01, num_output_channels=3, method='weighted_average'), CLAHE(p=0.01, clip_limit=(1.0, 4.0), tile_grid_size=(8, 8))\n",
      "\n",
      "      Epoch    GPU_mem   box_loss   cls_loss   dfl_loss  Instances       Size\n"
     ]
    },
    {
     "name": "stderr",
     "output_type": "stream",
     "text": [
      "      16/25      4.42G     0.5938      7.368      1.319          4        800: 100%|██████████| 417/417 [01:40<00:00,  4.16it/s]\n",
      "                 Class     Images  Instances      Box(P          R      mAP50  mAP50-95): 100%|██████████| 2/2 [00:00<00:00,  5.50it/s]"
     ]
    },
    {
     "name": "stdout",
     "output_type": "stream",
     "text": [
      "                   all         20         29      0.846      0.835      0.938      0.752\n"
     ]
    },
    {
     "name": "stderr",
     "output_type": "stream",
     "text": [
      "\n"
     ]
    },
    {
     "name": "stdout",
     "output_type": "stream",
     "text": [
      "\n",
      "      Epoch    GPU_mem   box_loss   cls_loss   dfl_loss  Instances       Size\n"
     ]
    },
    {
     "name": "stderr",
     "output_type": "stream",
     "text": [
      "      17/25      4.42G     0.5828      7.104      1.311          5        800: 100%|██████████| 417/417 [01:42<00:00,  4.08it/s]\n",
      "                 Class     Images  Instances      Box(P          R      mAP50  mAP50-95): 100%|██████████| 2/2 [00:00<00:00,  5.54it/s]"
     ]
    },
    {
     "name": "stdout",
     "output_type": "stream",
     "text": [
      "                   all         20         29      0.765      0.774      0.898      0.688\n"
     ]
    },
    {
     "name": "stderr",
     "output_type": "stream",
     "text": [
      "\n"
     ]
    },
    {
     "name": "stdout",
     "output_type": "stream",
     "text": [
      "\n",
      "      Epoch    GPU_mem   box_loss   cls_loss   dfl_loss  Instances       Size\n"
     ]
    },
    {
     "name": "stderr",
     "output_type": "stream",
     "text": [
      "      18/25      4.42G     0.5791      6.912      1.297          9        800: 100%|██████████| 417/417 [01:40<00:00,  4.17it/s]\n",
      "                 Class     Images  Instances      Box(P          R      mAP50  mAP50-95): 100%|██████████| 2/2 [00:00<00:00,  5.78it/s]"
     ]
    },
    {
     "name": "stdout",
     "output_type": "stream",
     "text": [
      "                   all         20         29       0.81      0.813       0.88      0.699\n"
     ]
    },
    {
     "name": "stderr",
     "output_type": "stream",
     "text": [
      "\n"
     ]
    },
    {
     "name": "stdout",
     "output_type": "stream",
     "text": [
      "\n",
      "      Epoch    GPU_mem   box_loss   cls_loss   dfl_loss  Instances       Size\n"
     ]
    },
    {
     "name": "stderr",
     "output_type": "stream",
     "text": [
      "      19/25      4.42G     0.5691      6.765      1.288          4        800: 100%|██████████| 417/417 [01:39<00:00,  4.17it/s]\n",
      "                 Class     Images  Instances      Box(P          R      mAP50  mAP50-95): 100%|██████████| 2/2 [00:00<00:00,  5.67it/s]"
     ]
    },
    {
     "name": "stdout",
     "output_type": "stream",
     "text": [
      "                   all         20         29      0.905      0.745      0.921      0.703\n"
     ]
    },
    {
     "name": "stderr",
     "output_type": "stream",
     "text": [
      "\n"
     ]
    },
    {
     "name": "stdout",
     "output_type": "stream",
     "text": [
      "\n",
      "      Epoch    GPU_mem   box_loss   cls_loss   dfl_loss  Instances       Size\n"
     ]
    },
    {
     "name": "stderr",
     "output_type": "stream",
     "text": [
      "      20/25      4.42G     0.5681        6.8      1.281          4        800: 100%|██████████| 417/417 [01:39<00:00,  4.17it/s]\n",
      "                 Class     Images  Instances      Box(P          R      mAP50  mAP50-95): 100%|██████████| 2/2 [00:00<00:00,  5.59it/s]"
     ]
    },
    {
     "name": "stdout",
     "output_type": "stream",
     "text": [
      "                   all         20         29      0.826      0.749      0.923      0.736\n"
     ]
    },
    {
     "name": "stderr",
     "output_type": "stream",
     "text": [
      "\n"
     ]
    },
    {
     "name": "stdout",
     "output_type": "stream",
     "text": [
      "\n",
      "      Epoch    GPU_mem   box_loss   cls_loss   dfl_loss  Instances       Size\n"
     ]
    },
    {
     "name": "stderr",
     "output_type": "stream",
     "text": [
      "      21/25      4.42G     0.5625      6.593      1.295          4        800: 100%|██████████| 417/417 [01:39<00:00,  4.19it/s]\n",
      "                 Class     Images  Instances      Box(P          R      mAP50  mAP50-95): 100%|██████████| 2/2 [00:00<00:00,  5.68it/s]"
     ]
    },
    {
     "name": "stdout",
     "output_type": "stream",
     "text": [
      "                   all         20         29      0.873      0.771      0.933      0.735\n"
     ]
    },
    {
     "name": "stderr",
     "output_type": "stream",
     "text": [
      "\n"
     ]
    },
    {
     "name": "stdout",
     "output_type": "stream",
     "text": [
      "\n",
      "      Epoch    GPU_mem   box_loss   cls_loss   dfl_loss  Instances       Size\n"
     ]
    },
    {
     "name": "stderr",
     "output_type": "stream",
     "text": [
      "      22/25      4.46G     0.5682      6.561      1.284          4        800: 100%|██████████| 417/417 [01:39<00:00,  4.19it/s]\n",
      "                 Class     Images  Instances      Box(P          R      mAP50  mAP50-95): 100%|██████████| 2/2 [00:00<00:00,  5.62it/s]"
     ]
    },
    {
     "name": "stdout",
     "output_type": "stream",
     "text": [
      "                   all         20         29      0.831       0.78      0.932      0.757\n"
     ]
    },
    {
     "name": "stderr",
     "output_type": "stream",
     "text": [
      "\n"
     ]
    },
    {
     "name": "stdout",
     "output_type": "stream",
     "text": [
      "\n",
      "      Epoch    GPU_mem   box_loss   cls_loss   dfl_loss  Instances       Size\n"
     ]
    },
    {
     "name": "stderr",
     "output_type": "stream",
     "text": [
      "      23/25      4.34G     0.5548      6.582      1.286          5        800: 100%|██████████| 417/417 [01:39<00:00,  4.18it/s]\n",
      "                 Class     Images  Instances      Box(P          R      mAP50  mAP50-95): 100%|██████████| 2/2 [00:00<00:00,  5.64it/s]"
     ]
    },
    {
     "name": "stdout",
     "output_type": "stream",
     "text": [
      "                   all         20         29      0.861      0.748      0.936      0.751\n",
      "\u001b[34m\u001b[1mEarlyStopping: \u001b[0mTraining stopped early as no improvement observed in last 12 epochs. Best results observed at epoch 11, best model saved as best.pt.\n",
      "To update EarlyStopping(patience=12) pass a new patience value, i.e. `patience=300` or use `patience=0` to disable EarlyStopping.\n"
     ]
    },
    {
     "name": "stderr",
     "output_type": "stream",
     "text": [
      "\n"
     ]
    },
    {
     "name": "stdout",
     "output_type": "stream",
     "text": [
      "\n",
      "23 epochs completed in 0.651 hours.\n",
      "Optimizer stripped from ..\\f1-strategy\\yolo-files\\runs\\anti_alpine_tuning\\weights\\last.pt, 52.1MB\n",
      "Optimizer stripped from ..\\f1-strategy\\yolo-files\\runs\\anti_alpine_tuning\\weights\\best.pt, 52.1MB\n",
      "\n",
      "Validating ..\\f1-strategy\\yolo-files\\runs\\anti_alpine_tuning\\weights\\best.pt...\n",
      "Ultralytics 8.3.69  Python-3.10.16 torch-2.5.1+cu124 CUDA:0 (NVIDIA GeForce RTX 4060 Laptop GPU, 8188MiB)\n",
      "Model summary (fused): 218 layers, 25,845,550 parameters, 0 gradients, 78.7 GFLOPs\n"
     ]
    },
    {
     "name": "stderr",
     "output_type": "stream",
     "text": [
      "                 Class     Images  Instances      Box(P          R      mAP50  mAP50-95): 100%|██████████| 2/2 [00:00<00:00,  5.61it/s]\n"
     ]
    },
    {
     "name": "stdout",
     "output_type": "stream",
     "text": [
      "                   all         20         29      0.815      0.819      0.958      0.756\n",
      "           Kick Sauber          4          6          1      0.778       0.85      0.651\n",
      "          Racing Bulls          1          1      0.463          1      0.995      0.697\n",
      "                Alpine          4          5      0.979          1      0.995      0.836\n",
      "               Ferarri          3          4          1       0.83      0.995      0.909\n",
      "                  Haas          1          1      0.713          1      0.995      0.796\n",
      "               Mclaren          5          6          1      0.278      0.927      0.614\n",
      "              Mercedes          3          3      0.935      0.667      0.913      0.685\n",
      "              Williams          2          3       0.43          1      0.995      0.863\n",
      "Speed: 0.3ms preprocess, 12.4ms inference, 0.0ms loss, 1.1ms postprocess per image\n",
      "Results saved to \u001b[1m..\\f1-strategy\\yolo-files\\runs\\anti_alpine_tuning\u001b[0m\n"
     ]
    }
   ],
   "source": [
    "from ultralytics import YOLO\n",
    "import torch\n",
    "import random\n",
    "import numpy as np\n",
    "import os\n",
    "import yaml\n",
    "import shutil\n",
    "\n",
    "# Definir semilla para reproducibilidad\n",
    "SEED = 42\n",
    "random.seed(SEED)\n",
    "np.random.seed(SEED)\n",
    "torch.manual_seed(SEED)\n",
    "if torch.cuda.is_available():\n",
    "    torch.cuda.manual_seed(SEED)\n",
    "    torch.cuda.manual_seed_all(SEED)\n",
    "torch.backends.cudnn.deterministic = True\n",
    "\n",
    "# Variables de configuración - Fine-tuning más corto\n",
    "FINE_TUNED_EPOCHS = 25      # Algunas épocas más para asegurar la corrección\n",
    "FINE_TUNED_BATCH_SIZE = 6   # Batch size reducido para mayor precisión  \n",
    "PATIENCE = 12               # Mayor paciencia para asegurar convergencia\n",
    "\n",
    "# Directorios principales\n",
    "BASE_DIR = '../f1-strategy'\n",
    "DATASET_DIR = os.path.join(BASE_DIR, 'f1-dataset')\n",
    "DATA_YAML = os.path.join(DATASET_DIR, 'data.yaml')\n",
    "\n",
    "# Paso 1: Modificar el archivo data.yaml para ajustar ponderación de clases\n",
    "# ¡AJUSTE DRÁSTICO PARA ALPINE!\n",
    "def update_data_yaml_with_extreme_weights():\n",
    "    # Leer el archivo data.yaml existente\n",
    "    with open(DATA_YAML, 'r') as f:\n",
    "        data_config = yaml.safe_load(f)\n",
    "\n",
    "    # Hacer una copia de seguridad del original\n",
    "    backup_file = DATA_YAML + '.backup2'\n",
    "    if not os.path.exists(backup_file):\n",
    "        shutil.copy(DATA_YAML, backup_file)\n",
    "        print(f\"Backup creado en {backup_file}\")\n",
    "\n",
    "    # Obtener nombres de clases\n",
    "    class_names = data_config.get('names', [])\n",
    "\n",
    "    # Crear pesos EXTREMADAMENTE desequilibrados por clase para corregir\n",
    "    class_weights = {}\n",
    "    for i, name in enumerate(class_names):\n",
    "        if name.lower() == 'williams':\n",
    "            class_weights[i] = 1.5  # Mantener peso razonable (era 2.0)\n",
    "        elif name.lower() == 'alpine':\n",
    "            class_weights[i] = 0.3  # REDUCCIÓN EXTREMA para Alpine\n",
    "        elif name.lower() == 'mclaren':\n",
    "            class_weights[i] = 2.5  # Mayor peso para McLaren\n",
    "        else:\n",
    "            class_weights[i] = 1.0  # Peso normal para el resto\n",
    "\n",
    "    # Agregar pesos a la configuración\n",
    "    data_config['class_weights'] = class_weights\n",
    "\n",
    "    # Guardar el archivo actualizado\n",
    "    with open(DATA_YAML, 'w') as f:\n",
    "        yaml.dump(data_config, f, default_flow_style=False)\n",
    "\n",
    "    print(f\"Archivo {DATA_YAML} actualizado con pesos EXTREMOS para clases:\")\n",
    "    for name, weight in zip(class_names, [class_weights.get(i, 1.0) for i in range(len(class_names))]):\n",
    "        print(f\"  - {name}: {weight}\")\n",
    "\n",
    "    return data_config\n",
    "\n",
    "# Actualizar data.yaml con pesos extremos\n",
    "data_config = update_data_yaml_with_extreme_weights()\n",
    "\n",
    "# Cargar el modelo extreme_cls que ya funciona bien\n",
    "model_fine_extreme = YOLO('../f1-strategy/weights/model_extreme_cls.pt')\n",
    "\n",
    "print(\"\\n=== CONFIGURACIÓN DEL FINE-TUNING ANTI-ALPINE ===\")\n",
    "print(f\"Épocas: {FINE_TUNED_EPOCHS}\")\n",
    "print(f\"Batch size: {FINE_TUNED_BATCH_SIZE}\")\n",
    "print(f\"Paciencia: {PATIENCE}\")\n",
    "print(f\"Peso de Williams: 1.5 (reducido)\")\n",
    "print(f\"Peso de Alpine: 0.3 (DRÁSTICAMENTE reducido)\")\n",
    "print(f\"Peso de McLaren: 2.5 (aumentado significativamente)\")\n",
    "print(\"===================================\\n\")\n",
    "\n",
    "# Pregunta de confirmación\n",
    "input(\"Presiona Enter para comenzar el fine-tuning ANTI-ALPINE, o Ctrl+C para cancelar...\")\n",
    "\n",
    "# Configurar el fine-tuning con enfoque anti-Alpine\n",
    "results = model_fine_extreme.train(\n",
    "    data=DATA_YAML,\n",
    "    epochs=FINE_TUNED_EPOCHS,\n",
    "    imgsz=800,                # Mantener mismo tamaño\n",
    "    batch=FINE_TUNED_BATCH_SIZE,\n",
    "    patience=PATIENCE,\n",
    "    \n",
    "    # Hiperparámetros de pérdida \n",
    "    box=6.0,                  # Mantener igual\n",
    "    cls=9.0,                  # AUMENTADO para dar más importancia a clasificación\n",
    "    dfl=1.5,                  # Mantener igual\n",
    "    \n",
    "    # Parámetros de aumentación específicos\n",
    "    scale=0.8,\n",
    "    flipud=0.05,\n",
    "    fliplr=0.5,\n",
    "    mosaic=0.9,               # Alto para más variedad\n",
    "    mixup=0.3,                # Aumentado para más robustez\n",
    "    copy_paste=0.3,\n",
    "    degrees=2.5,\n",
    "    translate=0.2,           \n",
    "    shear=0.9,                \n",
    "    perspective=0.0002,      # Ligeramente aumentado\n",
    "    hsv_h=0.02,\n",
    "    hsv_s=0.9,                # Aumentado para más variabilidad\n",
    "    hsv_v=0.7,                \n",
    "    \n",
    "    # Optimizador con learning rate bajo pero no demasiado\n",
    "    optimizer='AdamW',\n",
    "    lr0=0.00007,              # Ligeramente más alto que antes\n",
    "    lrf=0.000001,\n",
    "    momentum=0.937,\n",
    "    weight_decay=0.003,       # Mayor regularización para evitar sobreajuste a Alpine\n",
    "    warmup_epochs=4.0,        \n",
    "    warmup_momentum=0.8,\n",
    "    warmup_bias_lr=0.1,\n",
    "    \n",
    "    # Mayor regularización para combatir sobreajuste\n",
    "    label_smoothing=0.15,     # Aumentado significativamente\n",
    "\n",
    "    # Otros parámetros\n",
    "    cache=False,\n",
    "    device='0',\n",
    "    workers=8,\n",
    "    \n",
    "    # Validación y guardado\n",
    "    val=True,\n",
    "    save=True,\n",
    "    save_period=2,            # Guardar más frecuentemente\n",
    "    plots=True,\n",
    "    \n",
    "    # Mixed precision\n",
    "    amp=True,\n",
    "    \n",
    "    # Configuración del proyecto\n",
    "    project='../f1-strategy/yolo-files/runs',\n",
    "    name='anti_alpine_tuning',\n",
    "    exist_ok=True\n",
    ")\n",
    "\n"
   ]
  },
  {
   "cell_type": "code",
   "execution_count": 2,
   "metadata": {},
   "outputs": [
    {
     "name": "stdout",
     "output_type": "stream",
     "text": [
      "\n",
      "Evaluando modelo con fine-tuning ANTI-ALPINE...\n",
      "Ultralytics 8.3.69  Python-3.10.16 torch-2.5.1+cu124 CUDA:0 (NVIDIA GeForce RTX 4060 Laptop GPU, 8188MiB)\n",
      "Model summary (fused): 218 layers, 25,845,550 parameters, 0 gradients, 78.7 GFLOPs\n"
     ]
    },
    {
     "name": "stderr",
     "output_type": "stream",
     "text": [
      "\u001b[34m\u001b[1mval: \u001b[0mScanning C:\\Users\\victo\\Desktop\\Documents\\Tercer año\\Segundo Cuatrimestre\\Finales\\f1-strategy\\f1-dataset\\valid\\labels.cache... 20 images, 0 backgrounds, 0 corrupt: 100%|██████████| 20/20 [00:00<?, ?it/s]\n",
      "                 Class     Images  Instances      Box(P          R      mAP50  mAP50-95): 100%|██████████| 4/4 [00:03<00:00,  1.02it/s]\n"
     ]
    },
    {
     "name": "stdout",
     "output_type": "stream",
     "text": [
      "                   all         20         29      0.815      0.819      0.958      0.754\n",
      "           Kick Sauber          4          6          1      0.778       0.85      0.651\n",
      "          Racing Bulls          1          1      0.463          1      0.995      0.697\n",
      "                Alpine          4          5       0.98          1      0.995      0.836\n",
      "               Ferarri          3          4          1      0.831      0.995      0.909\n",
      "                  Haas          1          1      0.713          1      0.995      0.796\n",
      "               Mclaren          5          6          1      0.278      0.927      0.595\n",
      "              Mercedes          3          3      0.937      0.667      0.913      0.685\n",
      "              Williams          2          3       0.43          1      0.995      0.863\n",
      "Speed: 2.6ms preprocess, 38.5ms inference, 0.0ms loss, 1.2ms postprocess per image\n",
      "Results saved to \u001b[1m..\\f1-strategy\\yolo-files\\runs\\anti_alpine_tuning\u001b[0m\n",
      "\n",
      "Fine-tuning completado. Resultados:\n",
      "mAP50: 0.9580\n",
      "mAP50-95: 0.7541\n",
      "Modelo guardado en: ../f1-strategy/weights/model_anti_alpine.pt\n",
      "\n",
      "=== RECOMENDACIONES PARA USO DEL MODELO ===\n",
      "1. Este modelo ha sido fine-tuned específicamente para reducir sobredetecciones de Alpine\n",
      "2. Use umbrales de confianza ajustados en video:\n",
      "   - Williams: 0.50\n",
      "   - Alpine: 0.75\n",
      "   - McLaren: 0.30\n",
      "   - Otros: 0.40\n",
      "3. Para Alpine, considerar también filtrado por tamaño/proporción para reducir falsos positivos\n",
      "===================================\n"
     ]
    }
   ],
   "source": [
    "# Evaluar el modelo resultante\n",
    "print(\"\\nEvaluando modelo con fine-tuning ANTI-ALPINE...\")\n",
    "metrics = model_fine_extreme.val()\n",
    "\n",
    "print(f\"\\nFine-tuning completado. Resultados:\")\n",
    "print(f\"mAP50: {metrics.box.map50:.4f}\")\n",
    "print(f\"mAP50-95: {metrics.box.map:.4f}\")\n",
    "\n",
    "# Guardar el modelo final\n",
    "model_fine_extreme.save(\"../f1-strategy/weights/model_anti_alpine.pt\")\n",
    "print(\"Modelo guardado en: ../f1-strategy/weights/model_anti_alpine.pt\")\n",
    "\n",
    "print(\"\\n=== RECOMENDACIONES PARA USO DEL MODELO ===\")\n",
    "print(\"1. Este modelo ha sido fine-tuned específicamente para reducir sobredetecciones de Alpine\")\n",
    "print(\"2. Use umbrales de confianza ajustados en video:\")\n",
    "print(\"   - Williams: 0.50\")  # Ligeramente reducido\n",
    "print(\"   - Alpine: 0.75\")    # MUY ALTO para evitar falsos positivos\n",
    "print(\"   - McLaren: 0.30\")   # Bajo para mejorar detección\n",
    "print(\"   - Otros: 0.40\")\n",
    "print(\"3. Para Alpine, considerar también filtrado por tamaño/proporción para reducir falsos positivos\")\n",
    "print(\"===================================\")"
   ]
  },
  {
   "cell_type": "code",
   "execution_count": 5,
   "metadata": {},
   "outputs": [
    {
     "name": "stdout",
     "output_type": "stream",
     "text": [
      "\n",
      "image 1/11 c:\\Users\\victo\\Desktop\\Documents\\Tercer ao\\Segundo Cuatrimestre\\Finales\\scripts\\..\\f1-strategy\\f1-dataset\\test\\images\\1-2023-Brazilian-GP-FP1-21_jpg.rf.e0a6d6d14a2b145d1285111d65dcf969.jpg: 800x800 1 Ferarri, 19.8ms\n",
      "image 2/11 c:\\Users\\victo\\Desktop\\Documents\\Tercer ao\\Segundo Cuatrimestre\\Finales\\scripts\\..\\f1-strategy\\f1-dataset\\test\\images\\1019924227-LAT-20231105-GP2320_143500SMG_2193-747_jpg.rf.cd24225e35180d6a3ede83dfb291abea.jpg: 800x800 1 Kick Sauber, 2 Williamss, 19.5ms\n",
      "image 3/11 c:\\Users\\victo\\Desktop\\Documents\\Tercer ao\\Segundo Cuatrimestre\\Finales\\scripts\\..\\f1-strategy\\f1-dataset\\test\\images\\13-sunday-mexicocity-2023_jpg.rf.9fb9bf359354501321e3dbd03e75d0d6.jpg: 800x800 1 Racing Bulls, 1 Aston Martin, 20.4ms\n",
      "image 4/11 c:\\Users\\victo\\Desktop\\Documents\\Tercer ao\\Segundo Cuatrimestre\\Finales\\scripts\\..\\f1-strategy\\f1-dataset\\test\\images\\Ferraritop_jpg.rf.2986765a7cdb43c522f47262e9e4b1ab.jpg: 800x800 1 Ferarri, 21.6ms\n",
      "image 5/11 c:\\Users\\victo\\Desktop\\Documents\\Tercer ao\\Segundo Cuatrimestre\\Finales\\scripts\\..\\f1-strategy\\f1-dataset\\test\\images\\atbacl_jpg.rf.a5f559982c9977a9dd4944ba25157191.jpg: 800x800 1 Racing Bulls, 21.0ms\n",
      "image 6/11 c:\\Users\\victo\\Desktop\\Documents\\Tercer ao\\Segundo Cuatrimestre\\Finales\\scripts\\..\\f1-strategy\\f1-dataset\\test\\images\\frontside_jpg.rf.7c74ea6652d134b294e4f876d13517ce.jpg: 800x800 1 Mercedes, 19.3ms\n",
      "image 7/11 c:\\Users\\victo\\Desktop\\Documents\\Tercer ao\\Segundo Cuatrimestre\\Finales\\scripts\\..\\f1-strategy\\f1-dataset\\test\\images\\lowprofileAR_jpg.rf.28710b56c53ea202a7d7ce7df7cb3ad4.jpg: 800x800 1 Kick Sauber, 18.4ms\n",
      "image 8/11 c:\\Users\\victo\\Desktop\\Documents\\Tercer ao\\Segundo Cuatrimestre\\Finales\\scripts\\..\\f1-strategy\\f1-dataset\\test\\images\\m404125_jpg.rf.fafa711c48f08720af31bc6667e93428.jpg: 800x800 1 Mercedes, 18.7ms\n",
      "image 9/11 c:\\Users\\victo\\Desktop\\Documents\\Tercer ao\\Segundo Cuatrimestre\\Finales\\scripts\\..\\f1-strategy\\f1-dataset\\test\\images\\mclarentfrontside_jpg.rf.672dfe2daba2a832744a238ddcd824d4.jpg: 800x800 1 Racing Bulls, 1 Mclaren, 17.2ms\n",
      "image 10/11 c:\\Users\\victo\\Desktop\\Documents\\Tercer ao\\Segundo Cuatrimestre\\Finales\\scripts\\..\\f1-strategy\\f1-dataset\\test\\images\\rbfullside_jpg.rf.24fcc0caff1ddb59697ea96006bcd93a.jpg: 800x800 1 Red Bull, 18.4ms\n",
      "image 11/11 c:\\Users\\victo\\Desktop\\Documents\\Tercer ao\\Segundo Cuatrimestre\\Finales\\scripts\\..\\f1-strategy\\f1-dataset\\test\\images\\siderightat_jpg.rf.006445f880bb837e2f454d34739750f5.jpg: 800x800 1 Racing Bulls, 17.1ms\n",
      "Speed: 4.3ms preprocess, 19.2ms inference, 1.7ms postprocess per image at shape (1, 3, 800, 800)\n",
      "Results saved to \u001b[1mruns\\detect\\predict7\u001b[0m\n",
      "[ultralytics.engine.results.Results object with attributes:\n",
      "\n",
      "boxes: ultralytics.engine.results.Boxes object\n",
      "keypoints: None\n",
      "masks: None\n",
      "names: {0: 'Kick Sauber', 1: 'Racing Bulls', 2: 'Alpine', 3: 'Aston Martin', 4: 'Ferarri', 5: 'Haas', 6: 'Mclaren', 7: 'Mercedes', 8: 'Red Bull', 9: 'Williams'}\n",
      "obb: None\n",
      "orig_img: array([[[ 32,  39,  12],\n",
      "        [ 35,  42,  15],\n",
      "        [ 47,  52,  25],\n",
      "        ...,\n",
      "        [233, 220, 222],\n",
      "        [233, 220, 222],\n",
      "        [233, 220, 222]],\n",
      "\n",
      "       [[ 30,  37,  10],\n",
      "        [ 32,  39,  12],\n",
      "        [ 42,  47,  20],\n",
      "        ...,\n",
      "        [234, 221, 223],\n",
      "        [233, 220, 222],\n",
      "        [233, 220, 222]],\n",
      "\n",
      "       [[ 26,  33,   6],\n",
      "        [ 28,  35,   8],\n",
      "        [ 36,  40,  15],\n",
      "        ...,\n",
      "        [234, 221, 223],\n",
      "        [234, 221, 223],\n",
      "        [233, 220, 222]],\n",
      "\n",
      "       ...,\n",
      "\n",
      "       [[ 29,  88,  67],\n",
      "        [ 27,  89,  65],\n",
      "        [ 27,  89,  67],\n",
      "        ...,\n",
      "        [136, 145, 154],\n",
      "        [135, 144, 153],\n",
      "        [134, 143, 152]],\n",
      "\n",
      "       [[ 30,  92,  68],\n",
      "        [ 28,  93,  67],\n",
      "        [ 27,  92,  67],\n",
      "        ...,\n",
      "        [137, 146, 155],\n",
      "        [137, 146, 155],\n",
      "        [137, 146, 155]],\n",
      "\n",
      "       [[ 29,  94,  68],\n",
      "        [ 29,  94,  68],\n",
      "        [ 27,  94,  67],\n",
      "        ...,\n",
      "        [134, 143, 152],\n",
      "        [134, 143, 152],\n",
      "        [134, 143, 152]]], dtype=uint8)\n",
      "orig_shape: (640, 640)\n",
      "path: 'c:\\\\Users\\\\victo\\\\Desktop\\\\Documents\\\\Tercer año\\\\Segundo Cuatrimestre\\\\Finales\\\\scripts\\\\..\\\\f1-strategy\\\\f1-dataset\\\\test\\\\images\\\\1-2023-Brazilian-GP-FP1-21_jpg.rf.e0a6d6d14a2b145d1285111d65dcf969.jpg'\n",
      "probs: None\n",
      "save_dir: 'runs\\\\detect\\\\predict7'\n",
      "speed: {'preprocess': 3.002643585205078, 'inference': 19.845247268676758, 'postprocess': 2.6073455810546875}, ultralytics.engine.results.Results object with attributes:\n",
      "\n",
      "boxes: ultralytics.engine.results.Boxes object\n",
      "keypoints: None\n",
      "masks: None\n",
      "names: {0: 'Kick Sauber', 1: 'Racing Bulls', 2: 'Alpine', 3: 'Aston Martin', 4: 'Ferarri', 5: 'Haas', 6: 'Mclaren', 7: 'Mercedes', 8: 'Red Bull', 9: 'Williams'}\n",
      "obb: None\n",
      "orig_img: array([[[222, 180, 143],\n",
      "        [222, 180, 143],\n",
      "        [222, 180, 143],\n",
      "        ...,\n",
      "        [226, 186, 144],\n",
      "        [226, 186, 144],\n",
      "        [226, 186, 144]],\n",
      "\n",
      "       [[222, 180, 143],\n",
      "        [222, 180, 143],\n",
      "        [222, 180, 143],\n",
      "        ...,\n",
      "        [226, 186, 144],\n",
      "        [226, 186, 144],\n",
      "        [226, 186, 144]],\n",
      "\n",
      "       [[222, 180, 143],\n",
      "        [222, 180, 143],\n",
      "        [222, 180, 143],\n",
      "        ...,\n",
      "        [226, 186, 144],\n",
      "        [226, 186, 144],\n",
      "        [226, 186, 144]],\n",
      "\n",
      "       ...,\n",
      "\n",
      "       [[ 61,  62,  58],\n",
      "        [ 61,  62,  58],\n",
      "        [ 61,  62,  58],\n",
      "        ...,\n",
      "        [115, 192,  64],\n",
      "        [115, 192,  64],\n",
      "        [115, 193,  62]],\n",
      "\n",
      "       [[ 62,  58,  57],\n",
      "        [ 62,  58,  57],\n",
      "        [ 63,  58,  57],\n",
      "        ...,\n",
      "        [111, 195,  59],\n",
      "        [111, 195,  59],\n",
      "        [111, 196,  58]],\n",
      "\n",
      "       [[ 65,  59,  60],\n",
      "        [ 65,  59,  60],\n",
      "        [ 67,  59,  60],\n",
      "        ...,\n",
      "        [110, 196,  58],\n",
      "        [110, 197,  57],\n",
      "        [110, 197,  57]]], dtype=uint8)\n",
      "orig_shape: (640, 640)\n",
      "path: 'c:\\\\Users\\\\victo\\\\Desktop\\\\Documents\\\\Tercer año\\\\Segundo Cuatrimestre\\\\Finales\\\\scripts\\\\..\\\\f1-strategy\\\\f1-dataset\\\\test\\\\images\\\\1019924227-LAT-20231105-GP2320_143500SMG_2193-747_jpg.rf.cd24225e35180d6a3ede83dfb291abea.jpg'\n",
      "probs: None\n",
      "save_dir: 'runs\\\\detect\\\\predict7'\n",
      "speed: {'preprocess': 4.001379013061523, 'inference': 19.52528953552246, 'postprocess': 2.5191307067871094}, ultralytics.engine.results.Results object with attributes:\n",
      "\n",
      "boxes: ultralytics.engine.results.Boxes object\n",
      "keypoints: None\n",
      "masks: None\n",
      "names: {0: 'Kick Sauber', 1: 'Racing Bulls', 2: 'Alpine', 3: 'Aston Martin', 4: 'Ferarri', 5: 'Haas', 6: 'Mclaren', 7: 'Mercedes', 8: 'Red Bull', 9: 'Williams'}\n",
      "obb: None\n",
      "orig_img: array([[[ 54,  52,  52],\n",
      "        [ 54,  52,  52],\n",
      "        [ 54,  52,  52],\n",
      "        ...,\n",
      "        [ 37,  35,  35],\n",
      "        [ 37,  35,  35],\n",
      "        [ 37,  35,  35]],\n",
      "\n",
      "       [[ 54,  52,  52],\n",
      "        [ 54,  52,  52],\n",
      "        [ 54,  52,  52],\n",
      "        ...,\n",
      "        [ 37,  35,  35],\n",
      "        [ 37,  35,  35],\n",
      "        [ 37,  35,  35]],\n",
      "\n",
      "       [[ 54,  52,  52],\n",
      "        [ 54,  52,  52],\n",
      "        [ 54,  52,  52],\n",
      "        ...,\n",
      "        [ 37,  35,  35],\n",
      "        [ 37,  35,  35],\n",
      "        [ 37,  35,  35]],\n",
      "\n",
      "       ...,\n",
      "\n",
      "       [[ 84,  87,  91],\n",
      "        [ 84,  87,  91],\n",
      "        [ 84,  87,  91],\n",
      "        ...,\n",
      "        [195, 198, 196],\n",
      "        [190, 193, 191],\n",
      "        [187, 190, 188]],\n",
      "\n",
      "       [[ 84,  87,  91],\n",
      "        [ 84,  87,  91],\n",
      "        [ 84,  87,  91],\n",
      "        ...,\n",
      "        [190, 194, 189],\n",
      "        [185, 189, 184],\n",
      "        [182, 186, 181]],\n",
      "\n",
      "       [[ 84,  87,  91],\n",
      "        [ 84,  87,  91],\n",
      "        [ 84,  87,  91],\n",
      "        ...,\n",
      "        [186, 190, 185],\n",
      "        [181, 185, 180],\n",
      "        [178, 182, 177]]], dtype=uint8)\n",
      "orig_shape: (640, 640)\n",
      "path: 'c:\\\\Users\\\\victo\\\\Desktop\\\\Documents\\\\Tercer año\\\\Segundo Cuatrimestre\\\\Finales\\\\scripts\\\\..\\\\f1-strategy\\\\f1-dataset\\\\test\\\\images\\\\13-sunday-mexicocity-2023_jpg.rf.9fb9bf359354501321e3dbd03e75d0d6.jpg'\n",
      "probs: None\n",
      "save_dir: 'runs\\\\detect\\\\predict7'\n",
      "speed: {'preprocess': 4.520416259765625, 'inference': 20.39480209350586, 'postprocess': 1.2516975402832031}, ultralytics.engine.results.Results object with attributes:\n",
      "\n",
      "boxes: ultralytics.engine.results.Boxes object\n",
      "keypoints: None\n",
      "masks: None\n",
      "names: {0: 'Kick Sauber', 1: 'Racing Bulls', 2: 'Alpine', 3: 'Aston Martin', 4: 'Ferarri', 5: 'Haas', 6: 'Mclaren', 7: 'Mercedes', 8: 'Red Bull', 9: 'Williams'}\n",
      "obb: None\n",
      "orig_img: array([[[ 20,  21,  19],\n",
      "        [ 26,  27,  25],\n",
      "        [ 32,  33,  31],\n",
      "        ...,\n",
      "        [ 49,  86, 108],\n",
      "        [ 48,  85, 107],\n",
      "        [ 47,  84, 106]],\n",
      "\n",
      "       [[  7,   8,   6],\n",
      "        [ 10,  11,   9],\n",
      "        [ 14,  15,  13],\n",
      "        ...,\n",
      "        [ 45,  80, 100],\n",
      "        [ 44,  79,  99],\n",
      "        [ 43,  78,  98]],\n",
      "\n",
      "       [[  0,   1,   1],\n",
      "        [  0,   0,   0],\n",
      "        [  0,   1,   1],\n",
      "        ...,\n",
      "        [ 46,  78,  97],\n",
      "        [ 46,  78,  97],\n",
      "        [ 45,  77,  96]],\n",
      "\n",
      "       ...,\n",
      "\n",
      "       [[ 45,  49,  43],\n",
      "        [ 45,  49,  43],\n",
      "        [ 45,  49,  43],\n",
      "        ...,\n",
      "        [ 77,  86,  96],\n",
      "        [ 77,  86,  96],\n",
      "        [ 78,  87,  97]],\n",
      "\n",
      "       [[ 44,  48,  42],\n",
      "        [ 44,  48,  42],\n",
      "        [ 44,  48,  42],\n",
      "        ...,\n",
      "        [ 75,  84,  94],\n",
      "        [ 76,  85,  95],\n",
      "        [ 77,  86,  96]],\n",
      "\n",
      "       [[ 44,  48,  42],\n",
      "        [ 44,  48,  42],\n",
      "        [ 44,  48,  42],\n",
      "        ...,\n",
      "        [ 71,  80,  90],\n",
      "        [ 72,  81,  91],\n",
      "        [ 74,  83,  93]]], dtype=uint8)\n",
      "orig_shape: (640, 640)\n",
      "path: 'c:\\\\Users\\\\victo\\\\Desktop\\\\Documents\\\\Tercer año\\\\Segundo Cuatrimestre\\\\Finales\\\\scripts\\\\..\\\\f1-strategy\\\\f1-dataset\\\\test\\\\images\\\\Ferraritop_jpg.rf.2986765a7cdb43c522f47262e9e4b1ab.jpg'\n",
      "probs: None\n",
      "save_dir: 'runs\\\\detect\\\\predict7'\n",
      "speed: {'preprocess': 4.39000129699707, 'inference': 21.640777587890625, 'postprocess': 1.0004043579101562}, ultralytics.engine.results.Results object with attributes:\n",
      "\n",
      "boxes: ultralytics.engine.results.Boxes object\n",
      "keypoints: None\n",
      "masks: None\n",
      "names: {0: 'Kick Sauber', 1: 'Racing Bulls', 2: 'Alpine', 3: 'Aston Martin', 4: 'Ferarri', 5: 'Haas', 6: 'Mclaren', 7: 'Mercedes', 8: 'Red Bull', 9: 'Williams'}\n",
      "obb: None\n",
      "orig_img: array([[[ 57,  67, 137],\n",
      "        [ 57,  67, 137],\n",
      "        [ 57,  66, 139],\n",
      "        ...,\n",
      "        [ 50,  43, 212],\n",
      "        [ 50,  42, 213],\n",
      "        [ 50,  42, 213]],\n",
      "\n",
      "       [[ 57,  66, 139],\n",
      "        [ 58,  67, 140],\n",
      "        [ 58,  67, 141],\n",
      "        ...,\n",
      "        [ 49,  42, 211],\n",
      "        [ 50,  42, 213],\n",
      "        [ 50,  42, 213]],\n",
      "\n",
      "       [[ 60,  66, 143],\n",
      "        [ 61,  67, 144],\n",
      "        [ 61,  66, 145],\n",
      "        ...,\n",
      "        [ 49,  42, 211],\n",
      "        [ 49,  42, 211],\n",
      "        [ 50,  43, 212]],\n",
      "\n",
      "       ...,\n",
      "\n",
      "       [[246, 216, 105],\n",
      "        [246, 216, 105],\n",
      "        [245, 215, 104],\n",
      "        ...,\n",
      "        [247, 228, 213],\n",
      "        [247, 228, 215],\n",
      "        [248, 229, 216]],\n",
      "\n",
      "       [[245, 215, 104],\n",
      "        [245, 215, 104],\n",
      "        [244, 214, 103],\n",
      "        ...,\n",
      "        [237, 216, 201],\n",
      "        [238, 216, 204],\n",
      "        [238, 216, 204]],\n",
      "\n",
      "       [[244, 214, 103],\n",
      "        [244, 214, 103],\n",
      "        [243, 213, 102],\n",
      "        ...,\n",
      "        [228, 207, 192],\n",
      "        [228, 206, 194],\n",
      "        [229, 207, 195]]], dtype=uint8)\n",
      "orig_shape: (640, 640)\n",
      "path: 'c:\\\\Users\\\\victo\\\\Desktop\\\\Documents\\\\Tercer año\\\\Segundo Cuatrimestre\\\\Finales\\\\scripts\\\\..\\\\f1-strategy\\\\f1-dataset\\\\test\\\\images\\\\atbacl_jpg.rf.a5f559982c9977a9dd4944ba25157191.jpg'\n",
      "probs: None\n",
      "save_dir: 'runs\\\\detect\\\\predict7'\n",
      "speed: {'preprocess': 4.000425338745117, 'inference': 21.042585372924805, 'postprocess': 2.008676528930664}, ultralytics.engine.results.Results object with attributes:\n",
      "\n",
      "boxes: ultralytics.engine.results.Boxes object\n",
      "keypoints: None\n",
      "masks: None\n",
      "names: {0: 'Kick Sauber', 1: 'Racing Bulls', 2: 'Alpine', 3: 'Aston Martin', 4: 'Ferarri', 5: 'Haas', 6: 'Mclaren', 7: 'Mercedes', 8: 'Red Bull', 9: 'Williams'}\n",
      "obb: None\n",
      "orig_img: array([[[ 27,  57,  52],\n",
      "        [ 28,  58,  53],\n",
      "        [ 30,  60,  55],\n",
      "        ...,\n",
      "        [132, 130, 130],\n",
      "        [131, 129, 129],\n",
      "        [131, 129, 129]],\n",
      "\n",
      "       [[ 26,  56,  51],\n",
      "        [ 27,  57,  52],\n",
      "        [ 29,  59,  54],\n",
      "        ...,\n",
      "        [134, 132, 132],\n",
      "        [134, 132, 132],\n",
      "        [133, 131, 131]],\n",
      "\n",
      "       [[ 25,  55,  50],\n",
      "        [ 26,  56,  51],\n",
      "        [ 28,  58,  53],\n",
      "        ...,\n",
      "        [138, 136, 136],\n",
      "        [137, 135, 135],\n",
      "        [137, 135, 135]],\n",
      "\n",
      "       ...,\n",
      "\n",
      "       [[139, 141, 142],\n",
      "        [138, 140, 141],\n",
      "        [138, 140, 141],\n",
      "        ...,\n",
      "        [129, 127, 127],\n",
      "        [133, 131, 131],\n",
      "        [136, 134, 134]],\n",
      "\n",
      "       [[139, 141, 142],\n",
      "        [139, 141, 142],\n",
      "        [138, 140, 141],\n",
      "        ...,\n",
      "        [121, 119, 119],\n",
      "        [124, 122, 122],\n",
      "        [128, 126, 126]],\n",
      "\n",
      "       [[136, 138, 139],\n",
      "        [137, 139, 140],\n",
      "        [138, 140, 141],\n",
      "        ...,\n",
      "        [130, 128, 128],\n",
      "        [132, 130, 130],\n",
      "        [136, 134, 134]]], dtype=uint8)\n",
      "orig_shape: (640, 640)\n",
      "path: 'c:\\\\Users\\\\victo\\\\Desktop\\\\Documents\\\\Tercer año\\\\Segundo Cuatrimestre\\\\Finales\\\\scripts\\\\..\\\\f1-strategy\\\\f1-dataset\\\\test\\\\images\\\\frontside_jpg.rf.7c74ea6652d134b294e4f876d13517ce.jpg'\n",
      "probs: None\n",
      "save_dir: 'runs\\\\detect\\\\predict7'\n",
      "speed: {'preprocess': 4.869222640991211, 'inference': 19.27781105041504, 'postprocess': 2.004861831665039}, ultralytics.engine.results.Results object with attributes:\n",
      "\n",
      "boxes: ultralytics.engine.results.Boxes object\n",
      "keypoints: None\n",
      "masks: None\n",
      "names: {0: 'Kick Sauber', 1: 'Racing Bulls', 2: 'Alpine', 3: 'Aston Martin', 4: 'Ferarri', 5: 'Haas', 6: 'Mclaren', 7: 'Mercedes', 8: 'Red Bull', 9: 'Williams'}\n",
      "obb: None\n",
      "orig_img: array([[[ 31,  30,  34],\n",
      "        [ 31,  30,  34],\n",
      "        [ 32,  31,  35],\n",
      "        ...,\n",
      "        [ 72,  61,  53],\n",
      "        [ 72,  61,  53],\n",
      "        [ 72,  61,  53]],\n",
      "\n",
      "       [[ 30,  29,  33],\n",
      "        [ 31,  30,  34],\n",
      "        [ 31,  30,  34],\n",
      "        ...,\n",
      "        [ 72,  61,  53],\n",
      "        [ 72,  61,  53],\n",
      "        [ 72,  61,  53]],\n",
      "\n",
      "       [[ 28,  30,  31],\n",
      "        [ 29,  31,  32],\n",
      "        [ 30,  32,  33],\n",
      "        ...,\n",
      "        [ 72,  61,  53],\n",
      "        [ 72,  61,  53],\n",
      "        [ 72,  61,  53]],\n",
      "\n",
      "       ...,\n",
      "\n",
      "       [[ 62,  55, 200],\n",
      "        [ 62,  55, 200],\n",
      "        [ 62,  55, 200],\n",
      "        ...,\n",
      "        [ 61,  52, 196],\n",
      "        [ 61,  52, 196],\n",
      "        [ 61,  52, 196]],\n",
      "\n",
      "       [[ 62,  55, 200],\n",
      "        [ 62,  55, 200],\n",
      "        [ 62,  55, 200],\n",
      "        ...,\n",
      "        [ 61,  52, 196],\n",
      "        [ 61,  52, 196],\n",
      "        [ 61,  52, 196]],\n",
      "\n",
      "       [[ 62,  55, 200],\n",
      "        [ 62,  55, 200],\n",
      "        [ 62,  55, 200],\n",
      "        ...,\n",
      "        [ 61,  52, 196],\n",
      "        [ 61,  52, 196],\n",
      "        [ 61,  52, 196]]], dtype=uint8)\n",
      "orig_shape: (640, 640)\n",
      "path: 'c:\\\\Users\\\\victo\\\\Desktop\\\\Documents\\\\Tercer año\\\\Segundo Cuatrimestre\\\\Finales\\\\scripts\\\\..\\\\f1-strategy\\\\f1-dataset\\\\test\\\\images\\\\lowprofileAR_jpg.rf.28710b56c53ea202a7d7ce7df7cb3ad4.jpg'\n",
      "probs: None\n",
      "save_dir: 'runs\\\\detect\\\\predict7'\n",
      "speed: {'preprocess': 3.815889358520508, 'inference': 18.369197845458984, 'postprocess': 1.0030269622802734}, ultralytics.engine.results.Results object with attributes:\n",
      "\n",
      "boxes: ultralytics.engine.results.Boxes object\n",
      "keypoints: None\n",
      "masks: None\n",
      "names: {0: 'Kick Sauber', 1: 'Racing Bulls', 2: 'Alpine', 3: 'Aston Martin', 4: 'Ferarri', 5: 'Haas', 6: 'Mclaren', 7: 'Mercedes', 8: 'Red Bull', 9: 'Williams'}\n",
      "obb: None\n",
      "orig_img: array([[[ 34,  27,  30],\n",
      "        [ 34,  27,  30],\n",
      "        [ 34,  27,  30],\n",
      "        ...,\n",
      "        [ 85,  71,  73],\n",
      "        [ 79,  65,  67],\n",
      "        [ 74,  60,  62]],\n",
      "\n",
      "       [[ 34,  27,  30],\n",
      "        [ 34,  27,  30],\n",
      "        [ 34,  27,  30],\n",
      "        ...,\n",
      "        [ 74,  60,  62],\n",
      "        [ 68,  54,  56],\n",
      "        [ 64,  50,  52]],\n",
      "\n",
      "       [[ 34,  27,  30],\n",
      "        [ 34,  27,  30],\n",
      "        [ 34,  27,  30],\n",
      "        ...,\n",
      "        [ 61,  47,  49],\n",
      "        [ 56,  42,  44],\n",
      "        [ 53,  39,  41]],\n",
      "\n",
      "       ...,\n",
      "\n",
      "       [[154,  98,  39],\n",
      "        [154,  98,  39],\n",
      "        [154,  98,  39],\n",
      "        ...,\n",
      "        [174, 173, 175],\n",
      "        [174, 173, 175],\n",
      "        [174, 173, 175]],\n",
      "\n",
      "       [[154,  97,  41],\n",
      "        [154,  97,  41],\n",
      "        [156,  97,  41],\n",
      "        ...,\n",
      "        [174, 173, 175],\n",
      "        [174, 173, 175],\n",
      "        [174, 173, 175]],\n",
      "\n",
      "       [[154,  97,  41],\n",
      "        [154,  97,  41],\n",
      "        [156,  97,  41],\n",
      "        ...,\n",
      "        [174, 173, 175],\n",
      "        [174, 173, 175],\n",
      "        [174, 173, 175]]], dtype=uint8)\n",
      "orig_shape: (640, 640)\n",
      "path: 'c:\\\\Users\\\\victo\\\\Desktop\\\\Documents\\\\Tercer año\\\\Segundo Cuatrimestre\\\\Finales\\\\scripts\\\\..\\\\f1-strategy\\\\f1-dataset\\\\test\\\\images\\\\m404125_jpg.rf.fafa711c48f08720af31bc6667e93428.jpg'\n",
      "probs: None\n",
      "save_dir: 'runs\\\\detect\\\\predict7'\n",
      "speed: {'preprocess': 4.479169845581055, 'inference': 18.723249435424805, 'postprocess': 1.4579296112060547}, ultralytics.engine.results.Results object with attributes:\n",
      "\n",
      "boxes: ultralytics.engine.results.Boxes object\n",
      "keypoints: None\n",
      "masks: None\n",
      "names: {0: 'Kick Sauber', 1: 'Racing Bulls', 2: 'Alpine', 3: 'Aston Martin', 4: 'Ferarri', 5: 'Haas', 6: 'Mclaren', 7: 'Mercedes', 8: 'Red Bull', 9: 'Williams'}\n",
      "obb: None\n",
      "orig_img: array([[[226, 210, 194],\n",
      "        [226, 210, 194],\n",
      "        [226, 210, 194],\n",
      "        ...,\n",
      "        [230, 214, 198],\n",
      "        [230, 214, 198],\n",
      "        [230, 214, 198]],\n",
      "\n",
      "       [[226, 210, 194],\n",
      "        [226, 210, 194],\n",
      "        [226, 210, 194],\n",
      "        ...,\n",
      "        [230, 214, 198],\n",
      "        [230, 214, 198],\n",
      "        [230, 214, 198]],\n",
      "\n",
      "       [[226, 210, 194],\n",
      "        [226, 210, 194],\n",
      "        [226, 210, 194],\n",
      "        ...,\n",
      "        [230, 214, 198],\n",
      "        [230, 214, 198],\n",
      "        [230, 214, 198]],\n",
      "\n",
      "       ...,\n",
      "\n",
      "       [[110, 109, 111],\n",
      "        [110, 109, 111],\n",
      "        [110, 109, 111],\n",
      "        ...,\n",
      "        [113, 112, 114],\n",
      "        [112, 111, 113],\n",
      "        [111, 110, 112]],\n",
      "\n",
      "       [[107, 106, 108],\n",
      "        [107, 106, 108],\n",
      "        [108, 107, 109],\n",
      "        ...,\n",
      "        [110, 109, 111],\n",
      "        [108, 107, 109],\n",
      "        [107, 106, 108]],\n",
      "\n",
      "       [[104, 103, 105],\n",
      "        [105, 104, 106],\n",
      "        [106, 105, 107],\n",
      "        ...,\n",
      "        [106, 105, 107],\n",
      "        [105, 104, 106],\n",
      "        [104, 103, 105]]], dtype=uint8)\n",
      "orig_shape: (640, 640)\n",
      "path: 'c:\\\\Users\\\\victo\\\\Desktop\\\\Documents\\\\Tercer año\\\\Segundo Cuatrimestre\\\\Finales\\\\scripts\\\\..\\\\f1-strategy\\\\f1-dataset\\\\test\\\\images\\\\mclarentfrontside_jpg.rf.672dfe2daba2a832744a238ddcd824d4.jpg'\n",
      "probs: None\n",
      "save_dir: 'runs\\\\detect\\\\predict7'\n",
      "speed: {'preprocess': 4.714488983154297, 'inference': 17.206430435180664, 'postprocess': 1.0077953338623047}, ultralytics.engine.results.Results object with attributes:\n",
      "\n",
      "boxes: ultralytics.engine.results.Boxes object\n",
      "keypoints: None\n",
      "masks: None\n",
      "names: {0: 'Kick Sauber', 1: 'Racing Bulls', 2: 'Alpine', 3: 'Aston Martin', 4: 'Ferarri', 5: 'Haas', 6: 'Mclaren', 7: 'Mercedes', 8: 'Red Bull', 9: 'Williams'}\n",
      "obb: None\n",
      "orig_img: array([[[175, 119,  72],\n",
      "        [175, 119,  72],\n",
      "        [175, 119,  72],\n",
      "        ...,\n",
      "        [ 96,  80,  51],\n",
      "        [ 96,  80,  51],\n",
      "        [ 96,  80,  51]],\n",
      "\n",
      "       [[175, 119,  72],\n",
      "        [175, 119,  72],\n",
      "        [175, 119,  72],\n",
      "        ...,\n",
      "        [ 94,  78,  49],\n",
      "        [ 94,  78,  49],\n",
      "        [ 94,  78,  49]],\n",
      "\n",
      "       [[175, 119,  72],\n",
      "        [175, 119,  72],\n",
      "        [175, 119,  72],\n",
      "        ...,\n",
      "        [ 89,  75,  47],\n",
      "        [ 89,  75,  47],\n",
      "        [ 89,  75,  47]],\n",
      "\n",
      "       ...,\n",
      "\n",
      "       [[ 30,  81,  74],\n",
      "        [ 30,  81,  74],\n",
      "        [ 30,  81,  74],\n",
      "        ...,\n",
      "        [ 32,  83,  76],\n",
      "        [ 32,  83,  76],\n",
      "        [ 32,  83,  76]],\n",
      "\n",
      "       [[ 32,  82,  78],\n",
      "        [ 32,  82,  78],\n",
      "        [ 32,  82,  78],\n",
      "        ...,\n",
      "        [ 31,  79,  73],\n",
      "        [ 31,  79,  73],\n",
      "        [ 31,  79,  73]],\n",
      "\n",
      "       [[ 33,  83,  79],\n",
      "        [ 33,  83,  79],\n",
      "        [ 33,  83,  79],\n",
      "        ...,\n",
      "        [ 28,  76,  70],\n",
      "        [ 28,  76,  70],\n",
      "        [ 28,  76,  70]]], dtype=uint8)\n",
      "orig_shape: (640, 640)\n",
      "path: 'c:\\\\Users\\\\victo\\\\Desktop\\\\Documents\\\\Tercer año\\\\Segundo Cuatrimestre\\\\Finales\\\\scripts\\\\..\\\\f1-strategy\\\\f1-dataset\\\\test\\\\images\\\\rbfullside_jpg.rf.24fcc0caff1ddb59697ea96006bcd93a.jpg'\n",
      "probs: None\n",
      "save_dir: 'runs\\\\detect\\\\predict7'\n",
      "speed: {'preprocess': 4.952430725097656, 'inference': 18.402814865112305, 'postprocess': 1.4693737030029297}, ultralytics.engine.results.Results object with attributes:\n",
      "\n",
      "boxes: ultralytics.engine.results.Boxes object\n",
      "keypoints: None\n",
      "masks: None\n",
      "names: {0: 'Kick Sauber', 1: 'Racing Bulls', 2: 'Alpine', 3: 'Aston Martin', 4: 'Ferarri', 5: 'Haas', 6: 'Mclaren', 7: 'Mercedes', 8: 'Red Bull', 9: 'Williams'}\n",
      "obb: None\n",
      "orig_img: array([[[244, 236, 229],\n",
      "        [244, 236, 229],\n",
      "        [244, 236, 229],\n",
      "        ...,\n",
      "        [246, 236, 229],\n",
      "        [246, 236, 229],\n",
      "        [246, 236, 229]],\n",
      "\n",
      "       [[244, 236, 229],\n",
      "        [244, 236, 229],\n",
      "        [244, 236, 229],\n",
      "        ...,\n",
      "        [246, 236, 229],\n",
      "        [246, 236, 229],\n",
      "        [246, 236, 229]],\n",
      "\n",
      "       [[244, 236, 229],\n",
      "        [244, 236, 229],\n",
      "        [244, 236, 229],\n",
      "        ...,\n",
      "        [246, 236, 229],\n",
      "        [246, 236, 229],\n",
      "        [246, 236, 229]],\n",
      "\n",
      "       ...,\n",
      "\n",
      "       [[ 13,  85,  63],\n",
      "        [ 14,  86,  64],\n",
      "        [ 16,  88,  66],\n",
      "        ...,\n",
      "        [ 42, 108,  89],\n",
      "        [ 43, 109,  90],\n",
      "        [ 44, 110,  91]],\n",
      "\n",
      "       [[ 19,  88,  67],\n",
      "        [ 20,  89,  68],\n",
      "        [ 21,  90,  69],\n",
      "        ...,\n",
      "        [ 36, 100,  81],\n",
      "        [ 36, 100,  81],\n",
      "        [ 37, 101,  82]],\n",
      "\n",
      "       [[ 22,  91,  70],\n",
      "        [ 23,  92,  71],\n",
      "        [ 25,  94,  73],\n",
      "        ...,\n",
      "        [ 33,  97,  78],\n",
      "        [ 34,  98,  79],\n",
      "        [ 34,  98,  79]]], dtype=uint8)\n",
      "orig_shape: (640, 640)\n",
      "path: 'c:\\\\Users\\\\victo\\\\Desktop\\\\Documents\\\\Tercer año\\\\Segundo Cuatrimestre\\\\Finales\\\\scripts\\\\..\\\\f1-strategy\\\\f1-dataset\\\\test\\\\images\\\\siderightat_jpg.rf.006445f880bb837e2f454d34739750f5.jpg'\n",
      "probs: None\n",
      "save_dir: 'runs\\\\detect\\\\predict7'\n",
      "speed: {'preprocess': 4.520177841186523, 'inference': 17.072677612304688, 'postprocess': 2.504587173461914}]\n"
     ]
    }
   ],
   "source": [
    "model_anti_alpine = YOLO(\"../f1-strategy/weights/model_anti_alpine.pt\")\n",
    "\n",
    "model_anti_alpine.to(DEVICE)\n",
    "\n",
    "# Evaluar en el conjunto de prueba\n",
    "test_results_anti_alpine = model_anti_alpine.predict(\n",
    "    source=\"../f1-strategy/f1-dataset/test/images\", save=True)\n",
    "\n",
    "print(test_results_anti_alpine)"
   ]
  },
  {
   "cell_type": "code",
   "execution_count": null,
   "metadata": {},
   "outputs": [],
   "source": [
    "from ultralytics import YOLO\n",
    "import torch\n",
    "import random\n",
    "import numpy as np\n",
    "import os\n",
    "import yaml\n",
    "import shutil\n",
    "\n",
    "# Definir semilla para reproducibilidad\n",
    "SEED = 42\n",
    "random.seed(SEED)\n",
    "np.random.seed(SEED)\n",
    "torch.manual_seed(SEED)\n",
    "if torch.cuda.is_available():\n",
    "    torch.cuda.manual_seed(SEED)\n",
    "    torch.cuda.manual_seed_all(SEED)\n",
    "torch.backends.cudnn.deterministic = True\n",
    "\n",
    "# Variables de configuración - Entrenamiento completo\n",
    "EPOCHS = 50\n",
    "BATCH_SIZE = 8\n",
    "PATIENCE = 20\n",
    "\n",
    "# Directorios principales\n",
    "BASE_DIR = '../f1-strategy'\n",
    "DATASET_DIR = os.path.join(BASE_DIR, 'f1-dataset')\n",
    "DATA_YAML = os.path.join(DATASET_DIR, 'data.yaml')\n",
    "\n",
    "# Modificar el archivo data.yaml con ponderaciones perfectamente equilibradas\n",
    "def update_data_yaml_with_perfect_balance():\n",
    "    # Leer el archivo data.yaml existente\n",
    "    with open(DATA_YAML, 'r') as f:\n",
    "        data_config = yaml.safe_load(f)\n",
    "\n",
    "    # Hacer una copia de seguridad del original\n",
    "    backup_file = DATA_YAML + '.perfect_backup'\n",
    "    if not os.path.exists(backup_file):\n",
    "        shutil.copy(DATA_YAML, backup_file)\n",
    "        print(f\"Backup creado en {backup_file}\")\n",
    "\n",
    "    # Obtener nombres de clases\n",
    "    class_names = data_config.get('names', [])\n",
    "\n",
    "    # Crear pesos PERFECTAMENTE EQUILIBRADOS\n",
    "    # Damos peso 1.0 a TODAS las clases para eliminar sesgos\n",
    "    class_weights = {}\n",
    "    for i, name in enumerate(class_names):\n",
    "        # Todas las clases con el mismo peso exacto\n",
    "        class_weights[i] = 1.0\n",
    "\n",
    "    # Agregar pesos a la configuración\n",
    "    data_config['class_weights'] = class_weights\n",
    "\n",
    "    # Guardar el archivo actualizado\n",
    "    with open(DATA_YAML, 'w') as f:\n",
    "        yaml.dump(data_config, f, default_flow_style=False)\n",
    "\n",
    "    print(f\"Archivo {DATA_YAML} actualizado con pesos perfectamente equilibrados:\")\n",
    "    for name, weight in zip(class_names, [class_weights.get(i, 1.0) for i in range(len(class_names))]):\n",
    "        print(f\"  - {name}: {weight}\")\n",
    "\n",
    "    return data_config\n",
    "\n",
    "# Actualizar data.yaml con pesos perfectamente equilibrados\n",
    "data_config = update_data_yaml_with_perfect_balance()\n",
    "\n",
    "# Cargar el perfect_modelo base YOLOv8m para entrenamiento desde cero\n",
    "perfect_model = YOLO('../f1-strategy/weights/yolov8m.pt')\n",
    "\n",
    "print(\"\\n=== CONFIGURACIÓN DEL ENTRENAMIENTO CON BALANCE PERFECTO ===\")\n",
    "print(f\"Épocas: {EPOCHS}\")\n",
    "print(f\"Batch size: {BATCH_SIZE}\")\n",
    "print(f\"Paciencia: {PATIENCE}\")\n",
    "print(f\"Todas las clases con peso exacto 1.0\")\n",
    "print(\"Énfasis en equilibrio absoluto\")\n",
    "print(\"===================================\\n\")\n",
    "\n",
    "# Pregunta de confirmación\n",
    "input(\"Presiona Enter para comenzar el entrenamiento, o Ctrl+C para cancelar...\")\n",
    "\n",
    "# Configurar el entrenamiento desde cero con balance perfecto\n",
    "results = perfect_model.train(\n",
    "    data=DATA_YAML,\n",
    "    epochs=EPOCHS,\n",
    "    imgsz=800,               # Tamaño de imagen grande para detalles\n",
    "    batch=BATCH_SIZE,\n",
    "    patience=PATIENCE,\n",
    "    \n",
    "    # Hiperparámetros de pérdida equilibrados\n",
    "    box=7.0,                 # Buen peso para box\n",
    "    cls=7.0,                 # Igual peso para clasificación\n",
    "    dfl=1.5,                 # Mantener igual\n",
    "    \n",
    "    # Parámetros de aumentación estándar (no extremos)\n",
    "    scale=0.7,\n",
    "    flipud=0.05,\n",
    "    fliplr=0.5,\n",
    "    mosaic=0.8,             \n",
    "    mixup=0.2,\n",
    "    copy_paste=0.2,\n",
    "    degrees=2.0,\n",
    "    translate=0.15,\n",
    "    shear=0.7,\n",
    "    perspective=0.0001,\n",
    "    hsv_h=0.015,\n",
    "    hsv_s=0.7,\n",
    "    hsv_v=0.5,\n",
    "    \n",
    "    # Optimizador con tasa de aprendizaje baja\n",
    "    optimizer='AdamW',\n",
    "    lr0=0.0001,\n",
    "    lrf=0.00001,\n",
    "    momentum=0.937,\n",
    "    weight_decay=0.001,\n",
    "    warmup_epochs=5.0,\n",
    "    warmup_momentum=0.8,\n",
    "    warmup_bias_lr=0.1,\n",
    "    \n",
    "    # Parámetros de regularización  \n",
    "    label_smoothing=0.05,\n",
    "\n",
    "    # Otros parámetros\n",
    "    cache=False,\n",
    "    device='0',\n",
    "    workers=8,\n",
    "    \n",
    "    # Validación y guardado\n",
    "    val=True,\n",
    "    save=True,\n",
    "    save_period=5,\n",
    "    plots=True,\n",
    "    \n",
    "    # Mixed precision\n",
    "    amp=True,\n",
    "    \n",
    "    # Configuración del proyecto\n",
    "    project='../f1-strategy/yolo-files/runs',\n",
    "    name='perfect_balance',\n",
    "    exist_ok=True\n",
    ")\n",
    "\n"
   ]
  },
  {
   "cell_type": "code",
   "execution_count": null,
   "metadata": {},
   "outputs": [],
   "source": [
    "# Evaluar el perfect_modelo resultante\n",
    "print(\"\\nEvaluando perfect_modelo con balance perfecto...\")\n",
    "metrics = perfect_model.val()\n",
    "\n",
    "print(f\"\\nEntrenamiento completado. Resultados:\")\n",
    "print(f\"mAP50: {metrics.box.map50:.4f}\")\n",
    "print(f\"mAP50-95: {metrics.box.map:.4f}\")\n",
    "\n",
    "# Guardar el perfect_modelo final\n",
    "perfect_model.save(\"../f1-strategy/weights/perfect_balance_perfect_model.pt\")\n",
    "print(\"perfect_modelo guardado en: ../f1-strategy/weights/perfect_balance_perfect_model.pt\")\n",
    "\n",
    "print(\"\\n=== RECOMENDACIONES PARA USO DEL perfect_modelO ===\")\n",
    "print(\"1. Este perfect_modelo tiene balance perfecto entre todas las clases\")\n",
    "print(\"2. Use umbrales de confianza IGUALES en video:\")\n",
    "print(\"   - Todas las clases: 0.45\")\n",
    "print(\"   - Para objetos lejanos: 0.50\")\n",
    "print(\"3. Enfocarse en el post-procesamiento temporal más que en umbrales por clase\")\n",
    "print(\"===================================\")"
   ]
  },
  {
   "cell_type": "markdown",
   "metadata": {},
   "source": [
    "### Detección actualizada"
   ]
  },
  {
   "cell_type": "code",
   "execution_count": null,
   "metadata": {},
   "outputs": [
    {
     "ename": "KeyError",
     "evalue": "'Ferarri'",
     "output_type": "error",
     "traceback": [
      "\u001b[1;31m---------------------------------------------------------------------------\u001b[0m",
      "\u001b[1;31mKeyError\u001b[0m                                  Traceback (most recent call last)",
      "Cell \u001b[1;32mIn[8], line 381\u001b[0m\n\u001b[0;32m    378\u001b[0m output_path \u001b[38;5;241m=\u001b[39m \u001b[38;5;124m\"\u001b[39m\u001b[38;5;124m../f1-strategy/data/videos/detection_anti_alpine_visual.mp4\u001b[39m\u001b[38;5;124m\"\u001b[39m\n\u001b[0;32m    380\u001b[0m \u001b[38;5;66;03m# Procesar video\u001b[39;00m\n\u001b[1;32m--> 381\u001b[0m \u001b[43mprocess_video\u001b[49m\u001b[43m(\u001b[49m\u001b[43mvideo_path\u001b[49m\u001b[43m,\u001b[49m\u001b[43m \u001b[49m\u001b[43moutput_path\u001b[49m\u001b[43m,\u001b[49m\u001b[43m \u001b[49m\u001b[43mshow\u001b[49m\u001b[38;5;241;43m=\u001b[39;49m\u001b[38;5;28;43;01mTrue\u001b[39;49;00m\u001b[43m)\u001b[49m\n",
      "Cell \u001b[1;32mIn[8], line 277\u001b[0m, in \u001b[0;36mprocess_video\u001b[1;34m(video_path, output_path, show)\u001b[0m\n\u001b[0;32m    275\u001b[0m roi \u001b[38;5;241m=\u001b[39m frame[y1:y2, x1:x2]\u001b[38;5;241m.\u001b[39mcopy()\n\u001b[0;32m    276\u001b[0m \u001b[38;5;28;01mif\u001b[39;00m roi\u001b[38;5;241m.\u001b[39msize \u001b[38;5;241m>\u001b[39m \u001b[38;5;241m0\u001b[39m:\n\u001b[1;32m--> 277\u001b[0m     visual_team \u001b[38;5;241m=\u001b[39m \u001b[43midentify_team_visually\u001b[49m\u001b[43m(\u001b[49m\u001b[43mroi\u001b[49m\u001b[43m,\u001b[49m\u001b[43m \u001b[49m\u001b[43mcls_name\u001b[49m\u001b[43m)\u001b[49m\n\u001b[0;32m    279\u001b[0m     \u001b[38;5;66;03m# Solo cambiar si hay evidencia visual fuerte\u001b[39;00m\n\u001b[0;32m    280\u001b[0m     \u001b[38;5;28;01mif\u001b[39;00m old_cls \u001b[38;5;241m!=\u001b[39m visual_team \u001b[38;5;129;01mand\u001b[39;00m cls_name \u001b[38;5;241m==\u001b[39m \u001b[38;5;124m'\u001b[39m\u001b[38;5;124mAlpine\u001b[39m\u001b[38;5;124m'\u001b[39m:\n",
      "Cell \u001b[1;32mIn[8], line 165\u001b[0m, in \u001b[0;36mprocess_video.<locals>.identify_team_visually\u001b[1;34m(roi, predicted_class)\u001b[0m\n\u001b[0;32m    162\u001b[0m         \u001b[38;5;28;01mreturn\u001b[39;00m best_team\n\u001b[0;32m    164\u001b[0m \u001b[38;5;66;03m# Añadir a referencias si la confianza es alta y no hay demasiadas referencias\u001b[39;00m\n\u001b[1;32m--> 165\u001b[0m \u001b[38;5;28;01mif\u001b[39;00m predicted_class \u001b[38;5;241m!=\u001b[39m \u001b[38;5;124m'\u001b[39m\u001b[38;5;124mbackground\u001b[39m\u001b[38;5;124m'\u001b[39m \u001b[38;5;129;01mand\u001b[39;00m \u001b[38;5;28mlen\u001b[39m(\u001b[43mteam_reference_features\u001b[49m\u001b[43m[\u001b[49m\u001b[43mpredicted_class\u001b[49m\u001b[43m]\u001b[49m) \u001b[38;5;241m<\u001b[39m \u001b[38;5;241m10\u001b[39m:\n\u001b[0;32m    166\u001b[0m     team_reference_features[predicted_class]\u001b[38;5;241m.\u001b[39mappend(features)\n\u001b[0;32m    168\u001b[0m \u001b[38;5;28;01mreturn\u001b[39;00m predicted_class\n",
      "\u001b[1;31mKeyError\u001b[0m: 'Ferarri'"
     ]
    }
   ],
   "source": [
    "import cv2\n",
    "import numpy as np\n",
    "import time\n",
    "from ultralytics import YOLO\n",
    "from collections import Counter\n",
    "\n",
    "# Cargar el modelo original\n",
    "model = YOLO('../f1-strategy/weights/model_extreme_cls.pt')\n",
    "\n",
    "def process_video(video_path, output_path=None, show=True):\n",
    "    # Abrir video\n",
    "    cap = cv2.VideoCapture(video_path)\n",
    "    if not cap.isOpened():\n",
    "        print(f\"Error al abrir el video: {video_path}\")\n",
    "        return\n",
    "\n",
    "    # Parámetros del video\n",
    "    fps = int(cap.get(cv2.CAP_PROP_FPS))\n",
    "    w = int(cap.get(cv2.CAP_PROP_FRAME_WIDTH))\n",
    "    h = int(cap.get(cv2.CAP_PROP_FRAME_HEIGHT))\n",
    "\n",
    "    # Configurar salida si se solicita\n",
    "    if output_path:\n",
    "        fourcc = cv2.VideoWriter_fourcc(*'mp4v')\n",
    "        out = cv2.VideoWriter(output_path, fourcc, fps, (w, h))\n",
    "\n",
    "    # Variables para seguimiento temporal\n",
    "    last_detections = {}  # Para el tracking temporal\n",
    "    track_history = {}    # Historial de posiciones\n",
    "    id_counter = 0        # Contador para IDs de objetos\n",
    "\n",
    "    # Historial de clases para cada objeto\n",
    "    class_history = {}\n",
    "\n",
    "    # Color por equipo real (no por predicción)\n",
    "    team_colors = {\n",
    "        'Ferrari': (0, 0, 255),       # Rojo\n",
    "        'Mercedes': (192, 192, 192),  # Plateado\n",
    "        'Red Bull': (0, 0, 139),      # Azul oscuro\n",
    "        'McLaren': (255, 165, 0),     # Naranja\n",
    "        'Aston Martin': (0, 128, 0),  # Verde\n",
    "        'Alpine': (0, 0, 128),        # Azul\n",
    "        'Williams': (0, 0, 205),      # Azul claro\n",
    "        'Haas': (255, 255, 255),      # Blanco\n",
    "        'Kick Sauber': (0, 255, 255), # Cian\n",
    "        'Racing Bulls': (255, 0, 0),  # Azul\n",
    "        'background': (128, 128, 128) # Gris\n",
    "    }\n",
    "\n",
    "    # UMBRAL MUY ESTRICTO PARA ALPINE\n",
    "    class_thresholds = {\n",
    "        'Williams': 0.70,     # Alto para Williams\n",
    "        'Alpine': 0.98,       # EXTREMADAMENTE alto para Alpine\n",
    "        'McLaren': 0.30,      # Bajo para McLaren\n",
    "        'Red Bull': 0.40,\n",
    "        'Ferrari': 0.40,\n",
    "        'Mercedes': 0.40,\n",
    "        'Haas': 0.40,\n",
    "        'Kick Sauber': 0.40,\n",
    "        'Racing Bulls': 0.40,\n",
    "        'Aston Martin': 0.40,\n",
    "        'background': 0.50\n",
    "    }\n",
    "\n",
    "    # Variables para evaluar el tamaño de los objetos\n",
    "    size_categories = {\n",
    "        'small': 5000,    # Área en píxeles² (objetos lejanos)\n",
    "        'medium': 15000,  # Objetos a media distancia\n",
    "        'large': 30000    # Objetos cercanos\n",
    "    }\n",
    "\n",
    "    # Variables para calcular FPS real\n",
    "    frame_count = 0\n",
    "    start_time = time.time()\n",
    "    fps_update_interval = 10  # Actualizar FPS cada 10 frames\n",
    "    current_fps = 0\n",
    "\n",
    "    while cap.isOpened():\n",
    "        success, frame = cap.read()\n",
    "        if not success:\n",
    "            break\n",
    "\n",
    "        frame_count += 1\n",
    "        original_frame = frame.copy()\n",
    "\n",
    "        # Calcular FPS real periódicamente\n",
    "        if frame_count % fps_update_interval == 0:\n",
    "            end_time = time.time()\n",
    "            current_fps = fps_update_interval / (end_time - start_time)\n",
    "            start_time = time.time()\n",
    "\n",
    "        # DETECCIÓN YOLO\n",
    "        results = model.predict(\n",
    "            source=frame,\n",
    "            conf=0.30,       # Umbral base\n",
    "            iou=0.45,\n",
    "            max_det=20,\n",
    "            classes=None,\n",
    "            agnostic_nms=False,\n",
    "            verbose=False,\n",
    "            stream=True,\n",
    "            vid_stride=1\n",
    "        )\n",
    "\n",
    "        # Objetos detectados en frame actual\n",
    "        current_detections = {}\n",
    "\n",
    "        # Procesar resultados\n",
    "        for r in results:\n",
    "            boxes = r.boxes\n",
    "\n",
    "            if len(boxes) > 0:\n",
    "                # Recorrer todas las detecciones\n",
    "                for box in boxes:\n",
    "                    # Extraer información\n",
    "                    x1, y1, x2, y2 = box.xyxy[0].cpu().numpy().astype(int)\n",
    "                    conf = float(box.conf[0])\n",
    "                    cls_id = int(box.cls[0])\n",
    "                    cls_name = model.names[cls_id]\n",
    "                    \n",
    "                    # Calcular centro para tracking\n",
    "                    center_x = (x1 + x2) // 2\n",
    "                    center_y = (y1 + y2) // 2\n",
    "\n",
    "                    # Área de la detección\n",
    "                    area = (x2 - x1) * (y2 - y1)\n",
    "\n",
    "                    # Ajustar umbral de confianza según el tamaño y la clase\n",
    "                    threshold = class_thresholds.get(cls_name, 0.40)\n",
    "\n",
    "                    # Aplicar ajustes basados en tamaño\n",
    "                    if area < size_categories['small']:\n",
    "                        if cls_name == 'Alpine':\n",
    "                            threshold = 0.99  # EXTREMADAMENTE alto para Alpine lejano\n",
    "                        elif cls_name == 'Williams':\n",
    "                            threshold = 0.80  # Alto para Williams lejano\n",
    "\n",
    "                    # Solo procesar si supera el umbral ajustado\n",
    "                    if conf >= threshold:\n",
    "                        # Añadir a detecciones actuales\n",
    "                        object_id = None\n",
    "\n",
    "                        # Verificar si corresponde a un objeto ya detectado anteriormente\n",
    "                        for old_id, old_info in last_detections.items():\n",
    "                            old_center_x, old_center_y = old_info['center']\n",
    "                            old_cls = old_info['class']\n",
    "                            old_area = old_info['area']\n",
    "\n",
    "                            # Calcular distancia entre centros\n",
    "                            distance = np.sqrt(\n",
    "                                (center_x - old_center_x)**2 + (center_y - old_center_y)**2)\n",
    "\n",
    "                            # Distancia máxima permitida según tamaño\n",
    "                            max_distance = 100\n",
    "                            if area < size_categories['small']:\n",
    "                                max_distance = 50\n",
    "\n",
    "                            # Diferencia de área permitida\n",
    "                            area_ratio = max(area, old_area) / \\\n",
    "                                (min(area, old_area) + 1e-5)\n",
    "\n",
    "                            # Si está cerca y tamaño similar, asignar mismo ID\n",
    "                            if distance < max_distance and area_ratio < 2.0:\n",
    "                                object_id = old_id\n",
    "                                \n",
    "                                # REGLA SUPER ESTRICTA: Si cambia de una clase a Alpine, rechazar cambio\n",
    "                                if old_cls != 'Alpine' and cls_name == 'Alpine':\n",
    "                                    cls_name = old_cls\n",
    "                                break\n",
    "\n",
    "                        # Si no se encontró correspondencia, asignar nuevo ID\n",
    "                        if object_id is None:\n",
    "                            object_id = id_counter\n",
    "                            id_counter += 1\n",
    "                            track_history[object_id] = []\n",
    "                            class_history[object_id] = []\n",
    "\n",
    "                        # Actualizar historial de tracking\n",
    "                        if object_id in track_history:\n",
    "                            track_history[object_id].append(\n",
    "                                (center_x, center_y))\n",
    "                            # Limitar historial a 15 posiciones\n",
    "                            if len(track_history[object_id]) > 15:\n",
    "                                track_history[object_id].pop(0)\n",
    "\n",
    "                        # Actualizar historial de clases\n",
    "                        if object_id in class_history:\n",
    "                            class_history[object_id].append(cls_name)\n",
    "                            # Limitar historial a 10 clases\n",
    "                            if len(class_history[object_id]) > 10:\n",
    "                                class_history[object_id].pop(0)\n",
    "\n",
    "                            # Estabilizar clase usando historial\n",
    "                            if len(class_history[object_id]) >= 3:\n",
    "                                # Contar ocurrencias de cada clase\n",
    "                                class_counts = Counter(class_history[object_id])\n",
    "                                \n",
    "                                # Encontrar la clase más común\n",
    "                                most_common_class = class_counts.most_common(1)[0][0]\n",
    "                                \n",
    "                                # REGLA ESTRICTA: Si Alpine no es dominante, usar la más común\n",
    "                                if cls_name == 'Alpine' and most_common_class != 'Alpine':\n",
    "                                    cls_name = most_common_class\n",
    "\n",
    "                        # Almacenar información actual\n",
    "                        current_detections[object_id] = {\n",
    "                            'box': (x1, y1, x2, y2),\n",
    "                            'conf': conf,\n",
    "                            'class': cls_name,\n",
    "                            'center': (center_x, center_y),\n",
    "                            'area': area\n",
    "                        }\n",
    "\n",
    "                        # Dibujar bounding box\n",
    "                        color = team_colors.get(cls_name, (0, 255, 0))\n",
    "                        cv2.rectangle(original_frame, (x1, y1),\n",
    "                                      (x2, y2), color, 2)\n",
    "\n",
    "                        # Etiquetar con clase y confianza\n",
    "                        label = f\"{cls_name}: {conf:.2f}\"\n",
    "                        t_size = cv2.getTextSize(\n",
    "                            label, cv2.FONT_HERSHEY_SIMPLEX, 0.6, 2)[0]\n",
    "                        cv2.rectangle(\n",
    "                            original_frame, (x1, y1-t_size[1]-3), (x1+t_size[0], y1), color, -1)\n",
    "                        cv2.putText(original_frame, label, (x1, y1-3),\n",
    "                                    cv2.FONT_HERSHEY_SIMPLEX, 0.6, (255, 255, 255), 2)\n",
    "\n",
    "        # Actualizar detecciones previas\n",
    "        last_detections = current_detections\n",
    "\n",
    "        # Mostrar información de rendimiento\n",
    "        fps_text = f\"FPS: {current_fps:.1f}\"\n",
    "        obj_count = f\"Objetos: {len(current_detections)}\"\n",
    "        model_name = \"Anti-Alpine Simple\"\n",
    "        cv2.putText(original_frame, fps_text, (20, 40),\n",
    "                    cv2.FONT_HERSHEY_SIMPLEX, 1, (0, 255, 0), 2)\n",
    "        cv2.putText(original_frame, obj_count, (20, 80),\n",
    "                    cv2.FONT_HERSHEY_SIMPLEX, 1, (0, 255, 0), 2)\n",
    "        cv2.putText(original_frame, model_name, (20, 120),\n",
    "                    cv2.FONT_HERSHEY_SIMPLEX, 1, (0, 255, 0), 2)\n",
    "\n",
    "        # Guardar frame procesado si se solicitó\n",
    "        if output_path:\n",
    "            out.write(original_frame)\n",
    "\n",
    "        # Mostrar frame si se solicitó\n",
    "        if show:\n",
    "            cv2.imshow('F1 Detection', original_frame)\n",
    "\n",
    "            # Salir si se presiona 'q'\n",
    "            if cv2.waitKey(1) & 0xFF == ord('q'):\n",
    "                break\n",
    "\n",
    "    # Liberar recursos\n",
    "    cap.release()\n",
    "    if output_path:\n",
    "        out.release()\n",
    "    cv2.destroyAllWindows()\n",
    "\n",
    "\n",
    "# Ejemplo de uso\n",
    "if __name__ == \"__main__\":\n",
    "    # Ruta a tu video\n",
    "    video_path = \"../f1-strategy/data/videos/spain_2023_race.mp4.f399.mp4\"\n",
    "    output_path = \"../f1-strategy/data/videos/detection_anti_alpine_simple.mp4\"\n",
    "\n",
    "    # Procesar video\n",
    "    process_video(video_path, output_path, show=True)"
   ]
  }
 ],
 "metadata": {
  "kernelspec": {
   "display_name": "f1_strat_manager",
   "language": "python",
   "name": "python3"
  },
  "language_info": {
   "codemirror_mode": {
    "name": "ipython",
    "version": 3
   },
   "file_extension": ".py",
   "mimetype": "text/x-python",
   "name": "python",
   "nbconvert_exporter": "python",
   "pygments_lexer": "ipython3",
   "version": "3.10.16"
  }
 },
 "nbformat": 4,
 "nbformat_minor": 2
}
