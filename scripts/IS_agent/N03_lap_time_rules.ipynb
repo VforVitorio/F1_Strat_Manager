{
 "cells": [
  {
   "cell_type": "markdown",
   "id": "ada08c54",
   "metadata": {},
   "source": [
    "# Lap time Rules\n",
    "\n",
    "In this notebook, we will implement rules related to lap time predictions with three main strategies: \n",
    "\n",
    "1. **Optimal Performance Window Rule**\n",
    "```\n",
    "IF (predicted LapTime < current LapTime AND Position > 3 AND TyreAge < 8)\n",
    "THEN recommend strategic push\n",
    "CONFIDENCE: 0.75\n",
    "```\n",
    "This rule will identify opportunities for drivers to push harder when lap times are improving and tires are relatively fresh. Since position data may be limited, we'll implement a flexible approach:\n",
    "\n",
    "* Make the position condition optional.\n",
    "\n",
    "* Default to a reasonable assumption if position is unavailable.\n",
    "\n",
    "* Use driver number as a proxy for position if necessary.\n",
    "\n",
    "2. **Performance Cliff Detection Rule**\n",
    "\n",
    "```\n",
    "IF (predicted LapTime > current LapTime + 0.7 AND TyreAge > 15)\n",
    "THEN recommend priority pit stop\n",
    "CONFIDENCE: 0.85\n",
    "```\n",
    "This rule focuses on detecting significant performance drops that indicate a tire is reaching its limit, regardless of position data.\n",
    "\n",
    "3. **Post-Traffic Recovery Rule**\n",
    "\n",
    "``\n",
    "IF (predicted LapTime < current LapTime - 0.5 AND Position changed negatively in last lap)\n",
    "THEN recommend recovery stint\n",
    "CONFIDENCE: 0.7`\n",
    "``\n",
    "For this rule, which requires position change data, we'll implement:\n",
    "\n",
    "* A position change detection mechanism based on available data.\n",
    "\n",
    "* A fallback mechanism that uses lap time increases as an indirect indicator of position loss.\n",
    "\n",
    "* An option to disable this rule if position data is completely unavailable."
   ]
  }
 ],
 "metadata": {
  "language_info": {
   "name": "python"
  }
 },
 "nbformat": 4,
 "nbformat_minor": 5
}
