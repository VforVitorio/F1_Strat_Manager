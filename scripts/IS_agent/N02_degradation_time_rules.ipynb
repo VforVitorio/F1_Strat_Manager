{
 "cells": [
  {
   "cell_type": "markdown",
   "metadata": {},
   "source": [
    "# Notebook 2: Tire Degradation Rules Implementation\n",
    "\n",
    "This notebook focuses on implementing the rule set related to tire degradation for our F1 Strategy Engine. These rules are crucial for race strategy as they determine when a car should pit based on tire performance analysis.\n",
    "\n",
    "## Overview of Degradation Rules\n",
    "\n",
    "We'll implement three core rules:\n",
    "\n",
    "1. **High Degradation Rate Pit Stop**\n",
    "   - IF (DegradationRate > 0.15 AND TyreAge > 10)\n",
    "   - THEN recommend priority pit stop\n",
    "   - CONFIDENCE: 0.85\n",
    "\n",
    "2. **Stint Extension for Low Degradation**\n",
    "   - IF (DegradationRate < 0.08 AND TyreAge > 12 AND Position < 5)\n",
    "   - THEN recommend extending current stint\n",
    "   - CONFIDENCE: 0.75\n",
    "\n",
    "3. **Early Degradation Warning**\n",
    "   - IF (DegradationRate increases by more than 0.03 in 3 consecutive laps)\n",
    "   - THEN recommend pit stop preparation\n",
    "   - CONFIDENCE: 0.7\n",
    "\n",
    "Each rule handles specific aspects of tire degradation strategy that F1 teams consider during races."
   ]
  },
  {
   "cell_type": "markdown",
   "metadata": {},
   "source": [
    "---"
   ]
  },
  {
   "cell_type": "markdown",
   "metadata": {},
   "source": [
    "## 1. Importing necessary Libraries"
   ]
  },
  {
   "cell_type": "code",
   "execution_count": null,
   "metadata": {},
   "outputs": [],
   "source": [
    "# Import standard libraries\n",
    "import pandas as pd\n",
    "import numpy as np\n",
    "import matplotlib.pyplot as plt\n",
    "import seaborn as sns\n",
    "from datetime import datetime\n",
    "import os\n",
    "import sys\n",
    "sys.path.append(os.path.abspath('../'))  \n",
    "from ML_tyre_pred.ML_utils import N02_model_tire_predictions as tdp\n",
    "\n",
    "# Import Experta components\n",
    "from experta import Rule, NOT, OR, AND, AS, MATCH, TEST, EXISTS\n",
    "from experta import DefFacts, Fact, Field, KnowledgeEngine\n",
    "\n",
    "\n",
    "\n",
    "####################### Import Custom Fact Classes ###################\n",
    "import utils.N01_agent_setup as agent_setup\n",
    "from utils.N01_agent_setup import (\n",
    "    TelemetryFact,\n",
    "    DegradationFact,\n",
    "    RaceStatusFact,\n",
    "    StrategyRecommendation,\n",
    "    F1StrategyEngine,\n",
    "    transform_tire_predictions,\n",
    "    get_current_degradation,\n",
    "    load_tire_predictions\n",
    ")\n",
    " \n",
    "# Configuring plots \n",
    "\n",
    "plt.style.use('seaborn-v0_8-darkgrid')\n",
    "sns.set_context(\"notebook\", font_scale= 1.2)\n",
    "\n",
    "print(\"Libraries and fact classes loaded successfully.\")"
   ]
  },
  {
   "cell_type": "markdown",
   "metadata": {},
   "source": [
    "---"
   ]
  },
  {
   "cell_type": "markdown",
   "metadata": {},
   "source": [
    "## 2. Making variable analysis for specifying thresholds"
   ]
  },
  {
   "cell_type": "markdown",
   "metadata": {},
   "source": [
    "### 2.1 Analyzing Degradation Data"
   ]
  },
  {
   "cell_type": "code",
   "execution_count": null,
   "metadata": {},
   "outputs": [],
   "source": [
    "# Load and prepare tire degradation data\n",
    "def load_degradation_data(file_path='../../outputs/week5/tire_degradation_fuel_adjusted.csv'):\n",
    "    \"\"\"\n",
    "    Load real tire degradation data and prepare it for rule evaluation\n",
    "    \n",
    "    Args:\n",
    "        file_path: Path to the degradation data CSV file\n",
    "        \n",
    "    Returns:\n",
    "        DataFrame with processed tire degradation data\n",
    "    \"\"\"\n",
    "    df = pd.read_csv(file_path)\n",
    "    print(f\"Successfully loaded data from {file_path}\")\n",
    "    \n",
    "    # Convert float columns to integers where appropriate\n",
    "    integer_columns = ['Position', 'TyreAge', 'DriverNumber', 'CompoundID', 'TeamID']\n",
    "    for col in integer_columns:\n",
    "        if col in df.columns:\n",
    "            df[col] = df[col].astype(int)\n",
    "    \n",
    "    # Sort data for consistency\n",
    "    df = df.sort_values(['DriverNumber', 'Stint', 'TyreAge'])\n",
    "    \n",
    "    # Calculate race lap by accumulating TyreAge across stints\n",
    "    # First, get the maximum TyreAge for each completed stint\n",
    "    max_age_by_stint = df.groupby(['DriverNumber', 'Stint'])['TyreAge'].max().reset_index()\n",
    "    max_age_by_stint = max_age_by_stint.rename(columns={'TyreAge': 'StintLength'})\n",
    "    \n",
    "    # Create a lookup for previous stint lengths\n",
    "    stint_lengths = {}\n",
    "    for driver in df['DriverNumber'].unique():\n",
    "        driver_stints = max_age_by_stint[max_age_by_stint['DriverNumber'] == driver]\n",
    "        \n",
    "        # Calculate cumulative stint lengths\n",
    "        cumulative_lengths = [0]  # Start with 0 for the first stint\n",
    "        for i in range(len(driver_stints) - 1):\n",
    "            cumulative_lengths.append(\n",
    "                cumulative_lengths[-1] + driver_stints.iloc[i]['StintLength']\n",
    "            )\n",
    "        \n",
    "        # Store in dictionary\n",
    "        stint_lengths[driver] = {\n",
    "            stint: length for stint, length in zip(\n",
    "                driver_stints['Stint'], cumulative_lengths\n",
    "            )\n",
    "        }\n",
    "    \n",
    "    # Function to calculate race lap\n",
    "    def calculate_race_lap(row):\n",
    "        driver = row['DriverNumber']\n",
    "        stint = row['Stint']\n",
    "        tyre_age = row['TyreAge']\n",
    "        \n",
    "        # Get the starting lap for this stint\n",
    "        start_lap = stint_lengths.get(driver, {}).get(stint, 0)\n",
    "        \n",
    "        # Add current TyreAge to get race lap\n",
    "        return start_lap + tyre_age\n",
    "    \n",
    "    # Apply function to calculate race lap\n",
    "    df['RaceLap'] = df.apply(calculate_race_lap, axis=1)\n",
    "    \n",
    "    # For each driver-stint combination, calculate previous degradation rates\n",
    "    # This will be useful for Rule 3 (Early Degradation Warning)\n",
    "    def get_previous_rates(group, n=3):\n",
    "        \"\"\"Get previous n degradation rates for each row in the group\"\"\"\n",
    "        rates = []\n",
    "        for i in range(len(group)):\n",
    "            if i < n:\n",
    "                # Not enough previous data\n",
    "                rates.append(group.iloc[:i+1]['DegradationRate'].tolist())\n",
    "            else:\n",
    "                # Get last n rates including current\n",
    "                rates.append(group.iloc[i-n+1:i+1]['DegradationRate'].tolist())\n",
    "        return rates\n",
    "    \n",
    "    # Apply function to each driver-stint group\n",
    "    df['PreviousRates'] = df.groupby(['DriverNumber', 'Stint']).apply(\n",
    "        lambda x: get_previous_rates(x)\n",
    "    ).explode().tolist()\n",
    "    \n",
    "    return df\n",
    "\n"
   ]
  },
  {
   "cell_type": "code",
   "execution_count": null,
   "metadata": {},
   "outputs": [],
   "source": [
    "# Load the data\n",
    "degradation_data = load_degradation_data()\n",
    "\n",
    "# Display sample of the data\n",
    "print(\"Loaded degradation data:\")\n",
    "display(degradation_data.head())\n",
    "\n"
   ]
  },
  {
   "cell_type": "markdown",
   "metadata": {},
   "source": [
    "---"
   ]
  },
  {
   "cell_type": "markdown",
   "metadata": {},
   "source": [
    "### 2.2 Chossing thresholds for degradation"
   ]
  },
  {
   "cell_type": "code",
   "execution_count": null,
   "metadata": {},
   "outputs": [],
   "source": [
    "# Analyze DegradationRate distribution to set appropriate thresholds\n",
    "print(\"DegradationRate statistics:\")\n",
    "display(degradation_data['DegradationRate'].describe())\n",
    "\n",
    "# Distribution of positive degradation values (actual degradation)\n",
    "positive_deg = degradation_data[degradation_data['DegradationRate'] > 0]['DegradationRate']\n",
    "print(\"\\nStatistics for positive degradation values only:\")\n",
    "display(positive_deg.describe())\n",
    "\n",
    "# Visualize the distribution\n",
    "plt.figure(figsize=(10, 6))\n",
    "plt.hist(positive_deg, bins=30, alpha=0.7)\n",
    "plt.axvline(positive_deg.quantile(0.75), color='r', linestyle='--', \n",
    "           label=f'75th percentile: {positive_deg.quantile(0.75):.3f}')\n",
    "plt.axvline(positive_deg.quantile(0.25), color='g', linestyle='--',\n",
    "           label=f'25th percentile: {positive_deg.quantile(0.25):.3f}')\n",
    "plt.xlabel('Degradation Rate (seconds/lap)')\n",
    "plt.ylabel('Frequency')\n",
    "plt.title('Distribution of Positive Degradation Rates')\n",
    "plt.legend()\n",
    "plt.tight_layout()\n",
    "plt.show()\n",
    "\n",
    "# Suggested thresholds based on data percentiles\n",
    "high_degradation_threshold = positive_deg.quantile(0.75)  # 75th percentile\n",
    "low_degradation_threshold = positive_deg.quantile(0.25)   # 25th percentile\n",
    "\n",
    "print(f\"\\nSuggested thresholds based on data distribution:\")\n",
    "print(f\"High Degradation Threshold: {high_degradation_threshold:.3f} seconds/lap\")\n",
    "print(f\"Low Degradation Threshold: {low_degradation_threshold:.3f} seconds/lap\")"
   ]
  },
  {
   "cell_type": "markdown",
   "metadata": {},
   "source": [
    "---"
   ]
  },
  {
   "cell_type": "markdown",
   "metadata": {},
   "source": [
    "### 2.3 Plotting degradation for sample drivers for putting thresholds"
   ]
  },
  {
   "cell_type": "code",
   "execution_count": null,
   "metadata": {},
   "outputs": [],
   "source": [
    "# Plot degradation for a sample driver across race laps\n",
    "sample_driver = degradation_data['DriverNumber'].unique()[0]\n",
    "driver_data = degradation_data[degradation_data['DriverNumber'] == sample_driver]\n",
    "\n",
    "# Visualize degradation with the correct thresholds and limited y-axis\n",
    "plt.figure(figsize=(12, 6))\n",
    "plt.plot(driver_data['RaceLap'], driver_data['DegradationRate'], 'o-', linewidth=2)\n",
    "plt.axhline(y=0.3, color='r', linestyle='--', label='High Degradation Threshold (0.3)')\n",
    "plt.axhline(y=0.15, color='g', linestyle='--', label='Low Degradation Threshold (0.15)')\n",
    "\n",
    "# Mark stint changes\n",
    "stint_changes = []\n",
    "for i in range(1, len(driver_data)):\n",
    "    if driver_data.iloc[i]['Stint'] != driver_data.iloc[i-1]['Stint']:\n",
    "        stint_changes.append(driver_data.iloc[i]['RaceLap'])\n",
    "\n",
    "for lap in stint_changes:\n",
    "    plt.axvline(x=lap, color='k', linestyle='--', label='Pit Stop' if 'Pit Stop' not in plt.gca().get_legend_handles_labels()[1] else \"\")\n",
    "\n",
    "# Stablish Y axis limits for not putting anything below -1 in the graphic. Important for seeing the real scale\n",
    "plt.ylim(bottom=-1)\n",
    "\n",
    "plt.xlabel('Race Lap')\n",
    "plt.ylabel('Degradation Rate (seconds/lap)')\n",
    "plt.title(f'Tire Degradation Profile for Driver {sample_driver}')\n",
    "plt.legend()\n",
    "plt.grid(True)\n",
    "plt.tight_layout()\n",
    "plt.show()"
   ]
  },
  {
   "cell_type": "markdown",
   "metadata": {},
   "source": [
    "---"
   ]
  },
  {
   "cell_type": "markdown",
   "metadata": {},
   "source": [
    "## 3. Defining the Engine Class with all three degradation rules"
   ]
  },
  {
   "cell_type": "markdown",
   "metadata": {},
   "source": [
    "---"
   ]
  },
  {
   "cell_type": "code",
   "execution_count": null,
   "metadata": {},
   "outputs": [],
   "source": []
  }
 ],
 "metadata": {
  "kernelspec": {
   "display_name": "f1_strat_manager",
   "language": "python",
   "name": "python3"
  },
  "language_info": {
   "codemirror_mode": {
    "name": "ipython",
    "version": 3
   },
   "file_extension": ".py",
   "mimetype": "text/x-python",
   "name": "python",
   "nbconvert_exporter": "python",
   "pygments_lexer": "ipython3",
   "version": "3.10.16"
  }
 },
 "nbformat": 4,
 "nbformat_minor": 2
}
