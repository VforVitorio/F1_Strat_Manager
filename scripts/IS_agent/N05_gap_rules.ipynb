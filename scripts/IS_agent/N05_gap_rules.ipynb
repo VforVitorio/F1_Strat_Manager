{
 "cells": [
  {
   "cell_type": "markdown",
   "id": "60924004",
   "metadata": {},
   "source": [
    "# N05: Gap-Based Strategy Rules for F1\n",
    "\n",
    "## 1. Introduction and Objective\n",
    "\n",
    "\n",
    "Gap analysis is a critical component of Formula 1 race strategy. The time difference between cars (measured in seconds) directly influences strategic decisions like undercuts, overcuts, and defensive pit stops. This notebook implements rules that use these gaps to make strategic recommendations.\n",
    "\n",
    "\n",
    "### Why Gap Analysis Matters\n",
    "\n",
    "* **Undercut Opportunities:** When a car is close behind another (~1-2s), pitting earlier might allow overtaking through fresher tires\n",
    "* **Overcut Potential:** Sometimes staying out longer works better, especially when the leading car has clean air\n",
    "* **Defensive Strategy**: Teams must react when competitors attempt undercuts\n",
    "* **Traffic Management**: Gaps determine whether a car will exit the pits into free air or traffic\n",
    "\n",
    "### Our Objectives\n",
    "\n",
    "Extract and process gap data from FastF1 (replacing our previous computer vision approach)\n",
    "Analyze gap distributions to establish meaningful thresholds for strategic decisions\n",
    "Implement four key rules:\n",
    "\n",
    "1. **Undercut Opportunity Rule**: Identify when an undercut might succeed\n",
    "2. **Defensive Pit Stop Rule**: Protect position against undercut attempts\n",
    "3. **Overcut Strategy Rule:** Recognize when staying out longer is advantageous\n",
    "4. **Traffic Management Rule**: Avoid exiting pit stops into traffic\n",
    "\n",
    "\n",
    "\n",
    "These rules will complement our existing components (tire degradation, lap time analysis, and radio communication) to create a comprehensive F1 strategy system."
   ]
  },
  {
   "cell_type": "markdown",
   "id": "8804fc44",
   "metadata": {},
   "source": [
    "---"
   ]
  },
  {
   "cell_type": "markdown",
   "id": "6d39c442",
   "metadata": {},
   "source": [
    "## What is an undercut or an overcut?"
   ]
  },
  {
   "cell_type": "markdown",
   "id": "d1644f51",
   "metadata": {},
   "source": [
    "In this section, I will make an explanation of these two concepts, enhancing the explanation with two posters made with ChatGPT (they have some spelling mistakes but still provide good explanations).\n",
    "\n",
    "<p float=\"left\">\n",
    "  <img src=\"images/undercut_poster.png\" alt=\"Undercut Image\" width=\"40%\" style=\"margin-right: 10px;\">\n",
    "  <img src=\"images/overcut_poster.png\" alt=\"Overcut Image\" width=\"40%\">\n",
    "</p>\n",
    "\n",
    "\n",
    "### Undercut\n",
    "\n",
    "The F1 undercut is a strategic maneuver that can change the course of a race. When the chasing car is within about three seconds of the leader, the leader may choose to enter the pit lane early to switch to fresh tires.\n",
    "\n",
    "Although this pit stop costs roughly 20–23 seconds, the significant performance boost from the fresh tires allows the leader to complete laps much faster than the car still running on worn tires. By the time the chaser paces into its own pit stop, the leader has gained enough of a time advantage to overtake on track. \n",
    "\n",
    "This short-term benefit—gaining extra pace due to better tire grip—is critical on circuits with high tire degradation, such as Barcelona.\n",
    "\n",
    "\n",
    "### Overcut\n",
    "\n",
    "In contrast, the overcut is a similar concept with an opposite approach. Rather than pitting early, a driver using the overcut strategy remains on the track with worn tires for a longer period while the competitors pit.\n",
    "\n",
    "If the driver can maintain competitive lap times despite the older rubber—or if the competitors’ new tires take extra time to warm up—the longer stint can yield a time advantage. Once the rival makes its pit stop, the overcutting driver then pits later and, thanks to having run a more consistent pace in clean air, can gain positions on the circuit.\n",
    "\n",
    "\n"
   ]
  },
  {
   "cell_type": "code",
   "execution_count": 1,
   "id": "c1e966a5",
   "metadata": {},
   "outputs": [],
   "source": [
    "__author__ = \"Víctor Vega Sobral\""
   ]
  },
  {
   "cell_type": "markdown",
   "id": "b44caadb",
   "metadata": {},
   "source": [
    "---"
   ]
  },
  {
   "cell_type": "code",
   "execution_count": 2,
   "id": "7f5032a6",
   "metadata": {},
   "outputs": [
    {
     "name": "stdout",
     "output_type": "stream",
     "text": [
      "Engine initialized with 2 facts\n",
      "Initial facts: [InitialFact(), RaceStatusFact(lap=1, total_laps=60, race_phase='start', track_status='clear')]\n",
      "\n",
      "=== TIRE DEGRADATION ANALYSIS ===\n",
      "Using first predicted rate as current degradation: 0.07\n",
      "Tire facts declared: {'degradation': DegradationFact(degradation_rate=0.07, predicted_rates=frozenlist([0.07, 0.09, 0.12])), 'telemetry': TelemetryFact(tire_age=4, compound_id=2, driver_number=44, position=1)}\n",
      "Engine now has 4 facts\n",
      "\n",
      "=== LAP TIME PREDICTION ===\n",
      "Lap time facts declared: {'telemetry': TelemetryFact(driver_number=44, lap_time=80.3, predicted_lap_time=79.9, compound_id=2, tire_age=4, position=1)}\n",
      "Engine now has 5 facts\n",
      "\n",
      "=== RADIO ANALYSIS ===\n",
      "Radio fact declared: <f-5>\n",
      "Engine now has 6 facts\n",
      "\n",
      "=== ALL ENGINE FACTS ===\n",
      "Fact 1: InitialFact - <f-0>\n",
      "Fact 2: RaceStatusFact - <f-1>\n",
      "Fact 3: DegradationFact - <f-2>\n",
      "Fact 4: TelemetryFact - <f-3>\n",
      "Fact 5: TelemetryFact - <f-4>\n",
      "Fact 6: RadioFact - <f-5>\n",
      "Libraries and fact classes loaded successfully.\n"
     ]
    }
   ],
   "source": [
    "# Standard data processing libraries\n",
    "import pandas as pd              # For data manipulation and analysis\n",
    "import numpy as np               # For numerical operations\n",
    "import matplotlib.pyplot as plt  # For creating visualizations\n",
    "import seaborn as sns            # For enhanced visualizations\n",
    "from datetime import datetime, timedelta    # For timestamp handling\n",
    "import os                        # For operating system interactions\n",
    "import sys                       # For system-specific parameters and functions\n",
    "import requests\n",
    "# Add parent directory to system path to make custom modules accessible\n",
    "sys.path.append(os.path.abspath('../'))\n",
    "import fastf1\n",
    "\n",
    "\n",
    "# Import Experta components for building the rule engine\n",
    "from experta import Rule, NOT, OR, AND, AS, MATCH, TEST, EXISTS  # Rule definition components\n",
    "from experta import DefFacts, Fact, Field, KnowledgeEngine      # Core Experta classes\n",
    "fastf1.Cache.enable_cache('../../f1-strategy/f1_cache')\n",
    "\n",
    "import utils.N01_agent_setup as agent_setup\n",
    "from utils.N01_agent_setup import (\n",
    "        TelemetryFact,              # For storing car performance data\n",
    "        DegradationFact,            # For storing tire degradation information\n",
    "        GapFact,                    # For storing gap information\n",
    "        RaceStatusFact,             # For storing current race conditions\n",
    "        StrategyRecommendation,     # For storing strategy recommendations\n",
    "        F1StrategyEngine,           # Base engine class\n",
    "        transform_gap_data,         # Function to convert gap data to facts\n",
    "        load_gap_data               # Function to load gap data from FastF1\n",
    ")\n",
    "\n",
    "\n",
    "# Configure plotting style for better visualization\n",
    "plt.style.use('seaborn-v0_8-darkgrid')  # Set default plot style\n",
    "sns.set_context(\"notebook\", font_scale=1.2)  # Increase font size slightly\n",
    "\n",
    "print(\"Libraries and fact classes loaded successfully.\")"
   ]
  },
  {
   "cell_type": "markdown",
   "id": "043d1c30",
   "metadata": {},
   "source": [
    "---"
   ]
  },
  {
   "cell_type": "markdown",
   "id": "fedd550f",
   "metadata": {},
   "source": [
    "## 2. Data Extraction and Processing"
   ]
  },
  {
   "cell_type": "markdown",
   "id": "5e49d6fe",
   "metadata": {},
   "source": [
    "### 2.1 Loading session and lap data"
   ]
  },
  {
   "cell_type": "code",
   "execution_count": 3,
   "id": "79bc4ada",
   "metadata": {},
   "outputs": [
    {
     "name": "stderr",
     "output_type": "stream",
     "text": [
      "core           INFO \tLoading data for Spanish Grand Prix - Race [v3.1.6]\n",
      "INFO:fastf1.fastf1.core:Loading data for Spanish Grand Prix - Race [v3.1.6]\n",
      "req            INFO \tUsing cached data for session_info\n",
      "INFO:fastf1.fastf1.req:Using cached data for session_info\n",
      "req            INFO \tUsing cached data for driver_info\n",
      "INFO:fastf1.fastf1.req:Using cached data for driver_info\n",
      "req            INFO \tUsing cached data for session_status_data\n",
      "INFO:fastf1.fastf1.req:Using cached data for session_status_data\n",
      "req            INFO \tUsing cached data for lap_count\n",
      "INFO:fastf1.fastf1.req:Using cached data for lap_count\n",
      "req            INFO \tUsing cached data for track_status_data\n",
      "INFO:fastf1.fastf1.req:Using cached data for track_status_data\n",
      "req            INFO \tUsing cached data for _extended_timing_data\n",
      "INFO:fastf1.fastf1.req:Using cached data for _extended_timing_data\n",
      "req            INFO \tUsing cached data for timing_app_data\n",
      "INFO:fastf1.fastf1.req:Using cached data for timing_app_data\n",
      "core           INFO \tProcessing timing data...\n",
      "INFO:fastf1.fastf1.core:Processing timing data...\n"
     ]
    },
    {
     "name": "stdout",
     "output_type": "stream",
     "text": [
      "Loading the Spanish Grand Prix 2023 session data...\n"
     ]
    },
    {
     "name": "stderr",
     "output_type": "stream",
     "text": [
      "req            INFO \tUsing cached data for car_data\n",
      "INFO:fastf1.fastf1.req:Using cached data for car_data\n",
      "req            INFO \tUsing cached data for position_data\n",
      "INFO:fastf1.fastf1.req:Using cached data for position_data\n",
      "req            INFO \tUsing cached data for weather_data\n",
      "INFO:fastf1.fastf1.req:Using cached data for weather_data\n",
      "req            INFO \tUsing cached data for race_control_messages\n",
      "INFO:fastf1.fastf1.req:Using cached data for race_control_messages\n",
      "core           INFO \tFinished loading data for 20 drivers: ['1', '44', '63', '11', '55', '18', '14', '31', '24', '10', '16', '22', '81', '21', '27', '23', '4', '20', '77', '2']\n",
      "INFO:fastf1.fastf1.core:Finished loading data for 20 drivers: ['1', '44', '63', '11', '55', '18', '14', '31', '24', '10', '16', '22', '81', '21', '27', '23', '4', '20', '77', '2']\n"
     ]
    },
    {
     "name": "stdout",
     "output_type": "stream",
     "text": [
      "Loading lap data...\n",
      "Loaded 1312 lap entries\n"
     ]
    }
   ],
   "source": [
    "# ------------------------------------------------------------------------------------\n",
    "# LOAD SESSION DATA\n",
    "# ------------------------------------------------------------------------------------\n",
    "# Loading the session data for the Spanish Grand Prix 2023 (Race)\n",
    "print(\"Loading the Spanish Grand Prix 2023 session data...\")\n",
    "race = fastf1.get_session(2023, 'Spain', 'R')\n",
    "# The .load() method fetches basic session details, including lap times and more\n",
    "race.load()\n",
    "\n",
    "# ------------------------------------------------------------------------------------\n",
    "# LOAD LAP DATA\n",
    "# ------------------------------------------------------------------------------------\n",
    "# Retrieving lap data from the session. This is automatically loaded when calling race.load()\n",
    "print(\"Loading lap data...\")\n",
    "laps_data = race.laps\n",
    "# Print the number of lap entries loaded\n",
    "print(f\"Loaded {len(laps_data)} lap entries\")\n",
    "\n",
    "# Note:\n",
    "# We no longer use race.api.timing_data because all necessary timing data is now available directly from laps_data.\n",
    "\n",
    "# ------------------------------------------------------------------------------------\n",
    "# DEFINE FUNCTION: GET GAP AT LAP COMPLETION\n",
    "# ------------------------------------------------------------------------------------\n",
    "def get_gap_at_lap_completion(driver, lap_number, laps_data):\n",
    "    \"\"\"\n",
    "    Calculates the gap to the leader for a given driver at the moment they complete a lap.\n",
    "    It is computed by comparing the lap completion time ('Time') of the driver with the leader's\n",
    "    completion time (minimum 'Time' of that lap).\n",
    "\n",
    "    Args:\n",
    "        driver (str): Abbreviation for the driver.\n",
    "        lap_number (int): The lap number to analyze.\n",
    "        laps_data (DataFrame): The lap data from FastF1.\n",
    "\n",
    "    Returns:\n",
    "        float or None: The gap to the leader in seconds, or None if the information is missing.\n",
    "    \"\"\"\n",
    "    # Filter the lap data for the specific driver and lap number\n",
    "    driver_lap = laps_data[(laps_data['Driver'] == driver) & (laps_data['LapNumber'] == lap_number)]\n",
    "    if driver_lap.empty:\n",
    "        # If no data is found for the given driver and lap, return None\n",
    "        return None\n",
    "\n",
    "    # Get the completion time of this lap for the driver\n",
    "    driver_finish_time = driver_lap.iloc[0]['Time']\n",
    "\n",
    "    # For the specified lap, find the fastest (leader) lap completion time\n",
    "    lap_group = laps_data[laps_data['LapNumber'] == lap_number]\n",
    "    leader_time = lap_group['Time'].min()\n",
    "\n",
    "    # Compute the gap by calculating the time difference between the driver's finish time and the leader's finish time\n",
    "    gap_to_leader = driver_finish_time - leader_time\n",
    "    # Convert the gap to seconds if gap_to_leader is a timedelta object\n",
    "    if hasattr(gap_to_leader, 'total_seconds'):\n",
    "        gap_to_leader = gap_to_leader.total_seconds()\n",
    "    return gap_to_leader\n",
    "\n"
   ]
  },
  {
   "cell_type": "markdown",
   "id": "40728b2f",
   "metadata": {},
   "source": [
    "---"
   ]
  },
  {
   "cell_type": "markdown",
   "id": "498e5f6d",
   "metadata": {},
   "source": [
    "### 2.2 Calculate all gaps"
   ]
  },
  {
   "cell_type": "code",
   "execution_count": 4,
   "id": "d15914d2",
   "metadata": {},
   "outputs": [],
   "source": [
    "# ------------------------------------------------------------------------------------\n",
    "# DEFINE FUNCTION: CALCULATE ALL GAPS\n",
    "# ------------------------------------------------------------------------------------\n",
    "def calculate_all_gaps(laps_data):\n",
    "    \"\"\"\n",
    "    Calculates the gaps for all drivers at the completion of each lap. It includes:\n",
    "    - The gap to the leader (difference in 'Time' at lap completion)\n",
    "    - The gap relative to the car directly ahead (difference between consecutive gaps)\n",
    "    - The gap relative to the car directly behind\n",
    "    - Flags for undercut window (<2.5 seconds) and DRS window (<1.0 second)\n",
    "\n",
    "    Args:\n",
    "        laps_data (DataFrame): Lap data provided by FastF1.\n",
    "\n",
    "    Returns:\n",
    "        DataFrame: Processed gap data with all calculated metrics.\n",
    "    \"\"\"\n",
    "    gap_results = []  # This list will store the results for each lap and driver\n",
    "\n",
    "    # Get the unique drivers and sorted lap numbers from the lap data\n",
    "    drivers = laps_data['Driver'].unique()\n",
    "    lap_numbers = sorted(laps_data['LapNumber'].unique())\n",
    "\n",
    "    print(f\"Processing gaps for {len(drivers)} drivers across {len(lap_numbers)} laps...\")\n",
    "\n",
    "    # Process each lap one by one\n",
    "    for lap_num in lap_numbers:\n",
    "        print(f\"Processing lap {lap_num}...\", end='\\r')\n",
    "        \n",
    "        # Create a dictionary to store the computed gap to the leader for each driver on this lap\n",
    "        lap_positions = {}\n",
    "        for driver in drivers:\n",
    "            gap_to_leader = get_gap_at_lap_completion(driver, lap_num, laps_data)\n",
    "            if gap_to_leader is not None:\n",
    "                # Store the gap only if data exists for this driver on this lap\n",
    "                lap_positions[driver] = gap_to_leader\n",
    "\n",
    "        # Order the drivers by their gap to the leader. The leader will have a gap of 0.\n",
    "        sorted_drivers = sorted(lap_positions.items(), key=lambda x: x[1])\n",
    "\n",
    "        # For each driver, calculate additional gap metrics relative to the car ahead and behind\n",
    "        for i, (driver, gap_to_leader) in enumerate(sorted_drivers):\n",
    "            # Retrieve additional driver details (like car number and team) from the lap data\n",
    "            driver_info = laps_data[laps_data['Driver'] == driver].iloc[0]\n",
    "            driver_number = driver_info['DriverNumber']\n",
    "\n",
    "            # Initialize default values for gaps and adjacent car information\n",
    "            gap_ahead = None\n",
    "            car_ahead = None\n",
    "            gap_behind = None\n",
    "            car_behind = None\n",
    "\n",
    "            # If this is not the leader, calculate the gap relative to the car ahead\n",
    "            if i > 0:\n",
    "                car_ahead = sorted_drivers[i-1][0]\n",
    "                # The gap to the car ahead is the difference between the current driver's gap and the one immediately ahead\n",
    "                gap_ahead = gap_to_leader - sorted_drivers[i-1][1]\n",
    "                car_ahead_info = laps_data[laps_data['Driver'] == car_ahead].iloc[0]\n",
    "                car_ahead_number = car_ahead_info['DriverNumber']\n",
    "            else:\n",
    "                car_ahead_number = None  # No car ahead for the leader\n",
    "\n",
    "            # If this is not the last driver, calculate the gap to the car behind\n",
    "            if i < len(sorted_drivers) - 1:\n",
    "                car_behind = sorted_drivers[i+1][0]\n",
    "                gap_behind = sorted_drivers[i+1][1] - gap_to_leader\n",
    "                car_behind_info = laps_data[laps_data['Driver'] == car_behind].iloc[0]\n",
    "                car_behind_number = car_behind_info['DriverNumber']\n",
    "            else:\n",
    "                car_behind_number = None  # No car behind for the last driver\n",
    "\n",
    "            # Append the computed data for this driver and lap into the results list\n",
    "            gap_results.append({\n",
    "                'LapNumber': lap_num,\n",
    "                'Driver': driver,\n",
    "                'DriverNumber': driver_number,\n",
    "                'Position': i + 1,  # Position is 1-indexed (first is 1, not 0)\n",
    "                'GapToLeader': gap_to_leader,\n",
    "                'CarAhead': car_ahead,\n",
    "                'CarAheadNumber': car_ahead_number,\n",
    "                'GapToCarAhead': gap_ahead,\n",
    "                'CarBehind': car_behind,\n",
    "                'CarBehindNumber': car_behind_number,\n",
    "                'GapToCarBehind': gap_behind,\n",
    "                'InUndercutWindow': gap_ahead is not None and gap_ahead < 2.5,  # True if gap ahead is less than 2.5 seconds\n",
    "                'InDRSWindow': gap_ahead is not None and gap_ahead < 1.0       # True if gap ahead is less than 1.0 seconds\n",
    "            })\n",
    "            \n",
    "    print(\"\\nProcessing complete!\")\n",
    "    # Convert the list of gap results into a Pandas DataFrame and return it\n",
    "    return pd.DataFrame(gap_results)\n",
    "\n",
    "\n"
   ]
  },
  {
   "cell_type": "markdown",
   "id": "921b8bf5",
   "metadata": {},
   "source": [
    "---"
   ]
  },
  {
   "cell_type": "markdown",
   "id": "83451050",
   "metadata": {},
   "source": [
    "### 2.3 Calculate gaps using only lap data"
   ]
  },
  {
   "cell_type": "code",
   "execution_count": 5,
   "id": "1d2ecfc0",
   "metadata": {},
   "outputs": [
    {
     "name": "stdout",
     "output_type": "stream",
     "text": [
      "Calculating gaps at lap completion points...\n",
      "Processing gaps for 20 drivers across 66 laps...\n",
      "Processing lap 66.0...\n",
      "Processing complete!\n"
     ]
    }
   ],
   "source": [
    "# ------------------------------------------------------------------------------------\n",
    "# CALCULATE GAPS USING ONLY LAP DATA\n",
    "# ------------------------------------------------------------------------------------\n",
    "print(\"Calculating gaps at lap completion points...\")\n",
    "all_gaps_df = calculate_all_gaps(laps_data)\n",
    "\n",
    "# ------------------------------------------------------------------------------------\n",
    "# ADD ADDITIONAL DRIVER INFORMATION\n",
    "# ------------------------------------------------------------------------------------\n",
    "# Create a mapping for each driver to include additional information (e.g., car number, team)\n",
    "driver_info = {}\n",
    "for _, lap in laps_data.iterrows():\n",
    "    driver = lap['Driver']\n",
    "    # Ensure the driver has an entry in the dictionary\n",
    "    if driver not in driver_info:\n",
    "        driver_info[driver] = {\n",
    "            'DriverNumber': lap['DriverNumber'],\n",
    "            'Team': lap['Team']\n",
    "        }\n",
    "\n",
    "# Map the 'Team' information to the gap DataFrame using the driver mapping\n",
    "all_gaps_df['Team'] = all_gaps_df['Driver'].map(lambda x: driver_info.get(x, {}).get('Team', 'Unknown'))"
   ]
  },
  {
   "cell_type": "markdown",
   "id": "0575f538",
   "metadata": {},
   "source": [
    "---"
   ]
  },
  {
   "cell_type": "markdown",
   "id": "55a80fb3",
   "metadata": {},
   "source": [
    "### 2.4 Basic statistics and csv output"
   ]
  },
  {
   "cell_type": "code",
   "execution_count": 6,
   "id": "81f7d6cf",
   "metadata": {},
   "outputs": [
    {
     "name": "stdout",
     "output_type": "stream",
     "text": [
      "\n",
      "Basic statistics on gap data:\n",
      "Total gap records: 1312\n",
      "Number of laps covered: 66\n",
      "Number of drivers: 20\n",
      "\n",
      "Percentage of gaps in undercut window (<2.5s): 44.8%\n",
      "Percentage of gaps in DRS window (<1.0s): 16.5%\n",
      "\n",
      "Summary statistics for Gap To Car Ahead (seconds):\n",
      "count    1246.000000\n",
      "mean        4.420835\n",
      "std         4.707452\n",
      "min         0.093000\n",
      "25%         1.331250\n",
      "50%         2.751000\n",
      "75%         5.667250\n",
      "max        39.657000\n",
      "Name: GapToCarAhead, dtype: float64\n",
      "LapNumber            0\n",
      "Driver               0\n",
      "DriverNumber         0\n",
      "Position             0\n",
      "GapToLeader          0\n",
      "CarAhead            66\n",
      "CarAheadNumber      66\n",
      "GapToCarAhead       66\n",
      "CarBehind           66\n",
      "CarBehindNumber     66\n",
      "GapToCarBehind      66\n",
      "InUndercutWindow     0\n",
      "InDRSWindow          0\n",
      "Team                 0\n",
      "dtype: int64\n"
     ]
    }
   ],
   "source": [
    "# ------------------------------------------------------------------------------------\n",
    "# BASIC STATISTICS AND CSV OUTPUT FOR GAP DATA\n",
    "# ------------------------------------------------------------------------------------\n",
    "\n",
    "# Print basic statistics regarding the gap data\n",
    "print(\"\\nBasic statistics on gap data:\")\n",
    "\n",
    "# Total number of gap records in the DataFrame\n",
    "print(f\"Total gap records: {len(all_gaps_df)}\")\n",
    "# The number of unique laps covered in the DataFrame\n",
    "print(f\"Number of laps covered: {all_gaps_df['LapNumber'].nunique()}\")\n",
    "# The number of unique drivers in the DataFrame\n",
    "print(f\"Number of drivers: {all_gaps_df['Driver'].nunique()}\")\n",
    "\n",
    "# ------------------------------------------------------------------------------------\n",
    "# CALCULATE PERCENTAGE STATISTICS FOR STRATEGIC WINDOWS\n",
    "# ------------------------------------------------------------------------------------\n",
    "# Calculate the percentage of records where the gap ahead is less than 2.5 seconds,\n",
    "# which could indicate an undercut opportunity\n",
    "undercut_pct = all_gaps_df['InUndercutWindow'].mean() * 100\n",
    "\n",
    "# Calculate the percentage of records where the gap ahead is less than 1.0 second,\n",
    "# which may indicate eligibility for DRS\n",
    "drs_pct = all_gaps_df['InDRSWindow'].mean() * 100\n",
    "\n",
    "# Print the calculated percentages with one decimal place\n",
    "print(f\"\\nPercentage of gaps in undercut window (<2.5s): {undercut_pct:.1f}%\")\n",
    "print(f\"Percentage of gaps in DRS window (<1.0s): {drs_pct:.1f}%\")\n",
    "\n",
    "# ------------------------------------------------------------------------------------\n",
    "# SUMMARY STATISTICS FOR THE GAP TO THE CAR AHEAD\n",
    "# ------------------------------------------------------------------------------------\n",
    "# Print summary statistics (e.g., count, mean, std, etc.) for the 'GapToCarAhead' column\n",
    "print(\"\\nSummary statistics for Gap To Car Ahead (seconds):\")\n",
    "print(all_gaps_df['GapToCarAhead'].describe())\n",
    "missing_counts = all_gaps_df.isnull().sum()\n",
    "print(missing_counts)\n"
   ]
  },
  {
   "cell_type": "markdown",
   "id": "0fe4ec63",
   "metadata": {},
   "source": [
    "---"
   ]
  },
  {
   "cell_type": "markdown",
   "id": "99a9b43b",
   "metadata": {},
   "source": [
    "### 2.5 Filling missing values"
   ]
  },
  {
   "cell_type": "code",
   "execution_count": 7,
   "id": "1bb01a9f",
   "metadata": {},
   "outputs": [],
   "source": [
    "# ------------------------------------------------------------------------------------\n",
    "# FILLING MISSING VALUES FOR LEADER AND LAST POSITION\n",
    "# ------------------------------------------------------------------------------------\n",
    "# For the leader, there is no car ahead; therefore, fill the missing values with 'Leader'\n",
    "all_gaps_df['CarAhead'] = all_gaps_df['CarAhead'].fillna('Leader')\n",
    "all_gaps_df['CarAheadNumber'] = all_gaps_df['CarAheadNumber'].fillna('Leader')\n",
    "# Also, fill the missing gap value with 0 seconds, as the leader has no gap to a car ahead\n",
    "all_gaps_df['GapToCarAhead'] = all_gaps_df['GapToCarAhead'].fillna(0)\n",
    "\n",
    "# For the last position, there is no car behind; fill the missing values with 'Tail'\n",
    "all_gaps_df['CarBehind'] = all_gaps_df['CarBehind'].fillna('Tail')\n",
    "all_gaps_df['CarBehindNumber'] = all_gaps_df['CarBehindNumber'].fillna('Tail')\n",
    "# Similarly, fill the missing gap value for the car behind with 0 seconds\n",
    "all_gaps_df['GapToCarBehind'] = all_gaps_df['GapToCarBehind'].fillna(0)\n",
    "\n",
    "# ------------------------------------------------------------------------------------\n",
    "# EXPORT THE PROCESSED DATA TO A CSV FILE\n",
    "# ------------------------------------------------------------------------------------\n",
    "# Save the processed gap data to a CSV file\n",
    "# The 'float_format' argument ensures all floats are formatted to 3 decimal places\n",
    "all_gaps_df.to_csv(\"../../f1-strategy/data/processed/gaps_spain_data.csv\", float_format=\"%.3f\")"
   ]
  },
  {
   "cell_type": "markdown",
   "id": "f3012424",
   "metadata": {},
   "source": [
    "---"
   ]
  },
  {
   "cell_type": "markdown",
   "id": "17490c39",
   "metadata": {},
   "source": [
    "## Gap Data Processing: Summary and Next Steps\n",
    "\n",
    "### What We've Accomplished\n",
    "\n",
    "- **Data Extraction**\n",
    "  - Loaded 2023 Spanish Grand Prix lap data with FastF1.\n",
    "  - Implemented precise gap calculation at each lap completion.\n",
    "  - Computed key metrics: gap to leader, gap to car ahead, and gap to car behind.\n",
    "\n",
    "- **Strategic Metrics**\n",
    "  - Added strategic flags: undercut window (gap < 2.5s) and DRS window (gap < 1.0s).\n",
    "  - Calculated percentages for strategic opportunities.\n",
    "  - Generated comprehensive statistics on gap distributions.\n",
    "\n",
    "- **Data Cleaning**\n",
    "  - Identified and filled missing values with appropriate placeholders.\n",
    "  - Marked the leader (no car ahead) and the last position (no car behind).\n",
    "  - Created a clean dataset ready for rule implementation.\n",
    "\n",
    "- **Data Persistence**\n",
    "  - Saved the processed gap data to CSV with consistent formatting.\n",
    "  - Ensured the data is structured for integration with our expert system.\n",
    "\n",
    "### Next Steps\n",
    "\n",
    "- **Gap-Based Rule Implementation**\n",
    "  - Define a `F1GapRules` class inheriting from `F1StrategyEngine` (similar to the approach in N04 for radio communication rules).\n",
    "  - Implement four key strategic rules:\n",
    "    - **Undercut Opportunity Rule:** Recommend early pit stops when following closely (e.g., `GapToCarAhead < 2.5s` along with favorable conditions like tire age and degradation).\n",
    "    - **Defensive Pit Stop Rule:** Recommend defensive actions when being closely followed (e.g., when `GapToCarBehind < 2.5s` and the gap is decreasing).\n",
    "    - **Overcut Strategy Rule:** Suggest staying out longer in clean air when leading cars pit.\n",
    "    - **Traffic Management Rule:** Use gap data to predict post-pit positions and avoid pitting into traffic.\n",
    "\n",
    "- **Testing and Integration**\n",
    "  - Create a testing framework (similar to `test_radio_rules` in N04) to validate each rule using processed gap data.\n",
    "  - Combine these rules with tire degradation (N02), lap time (N03), and radio rules (N04).\n",
    "  - Implement conflict resolution and adjust priorities based on the reliability and importance of different data sources.\n",
    "\n",
    "These gap-based rules will complete our strategic decision support system by addressing the critical aspect of relative positioning and the strategic opportunities it creates during races.\n"
   ]
  },
  {
   "cell_type": "markdown",
   "id": "ab58640f",
   "metadata": {},
   "source": [
    "---"
   ]
  },
  {
   "cell_type": "markdown",
   "id": "d6254ae9",
   "metadata": {},
   "source": [
    "## 3. Defining the gap rules"
   ]
  }
 ],
 "metadata": {
  "kernelspec": {
   "display_name": "f1_strat_manager",
   "language": "python",
   "name": "python3"
  },
  "language_info": {
   "codemirror_mode": {
    "name": "ipython",
    "version": 3
   },
   "file_extension": ".py",
   "mimetype": "text/x-python",
   "name": "python",
   "nbconvert_exporter": "python",
   "pygments_lexer": "ipython3",
   "version": "3.10.16"
  }
 },
 "nbformat": 4,
 "nbformat_minor": 5
}
