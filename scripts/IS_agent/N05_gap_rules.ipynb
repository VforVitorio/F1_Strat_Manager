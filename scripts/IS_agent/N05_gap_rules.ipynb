{
 "cells": [
  {
   "cell_type": "markdown",
   "id": "60924004",
   "metadata": {},
   "source": [
    "# N05: Gap-Based Strategy Rules for F1\n",
    "\n",
    "## 1. Introduction and Objective\n",
    "\n",
    "\n",
    "Gap analysis is a critical component of Formula 1 race strategy. The time difference between cars (measured in seconds) directly influences strategic decisions like undercuts, overcuts, and defensive pit stops. This notebook implements rules that use these gaps to make strategic recommendations.\n",
    "\n",
    "\n",
    "### Why Gap Analysis Matters\n",
    "\n",
    "* **Undercut Opportunities:** When a car is close behind another (~1-2s), pitting earlier might allow overtaking through fresher tires\n",
    "* **Overcut Potential:** Sometimes staying out longer works better, especially when the leading car has clean air\n",
    "* **Defensive Strategy**: Teams must react when competitors attempt undercuts\n",
    "* **Traffic Management**: Gaps determine whether a car will exit the pits into free air or traffic\n",
    "\n",
    "### Our Objectives\n",
    "\n",
    "Extract and process gap data from FastF1 (replacing our previous computer vision approach)\n",
    "Analyze gap distributions to establish meaningful thresholds for strategic decisions\n",
    "Implement four key rules:\n",
    "\n",
    "1. **Undercut Opportunity Rule**: Identify when an undercut might succeed\n",
    "2. **Defensive Pit Stop Rule**: Protect position against undercut attempts\n",
    "3. **Overcut Strategy Rule:** Recognize when staying out longer is advantageous\n",
    "4. **Traffic Management Rule**: Avoid exiting pit stops into traffic\n",
    "\n",
    "\n",
    "\n",
    "These rules will complement our existing components (tire degradation, lap time analysis, and radio communication) to create a comprehensive F1 strategy system."
   ]
  },
  {
   "cell_type": "markdown",
   "id": "8804fc44",
   "metadata": {},
   "source": [
    "---"
   ]
  },
  {
   "cell_type": "markdown",
   "id": "6d39c442",
   "metadata": {},
   "source": [
    "## What is an undercut or an overcut?"
   ]
  },
  {
   "cell_type": "markdown",
   "id": "d1644f51",
   "metadata": {},
   "source": [
    "In this section, I will make an explanation of these two concepts, enhancing the explanation with two posters made with ChatGPT (they have some spelling mistakes but still provide good explanations).\n",
    "\n",
    "<p float=\"left\">\n",
    "  <img src=\"images/undercut_poster.png\" alt=\"Undercut Image\" width=\"40%\" style=\"margin-right: 10px;\">\n",
    "  <img src=\"images/overcut_poster.png\" alt=\"Overcut Image\" width=\"40%\">\n",
    "</p>\n",
    "\n",
    "\n",
    "### Undercut\n",
    "\n",
    "The F1 undercut is a strategic maneuver that can change the course of a race. When the chasing car is within about three seconds of the leader, the leader may choose to enter the pit lane early to switch to fresh tires.\n",
    "\n",
    "Although this pit stop costs roughly 20–23 seconds, the significant performance boost from the fresh tires allows the leader to complete laps much faster than the car still running on worn tires. By the time the chaser paces into its own pit stop, the leader has gained enough of a time advantage to overtake on track. \n",
    "\n",
    "This short-term benefit—gaining extra pace due to better tire grip—is critical on circuits with high tire degradation, such as Barcelona.\n",
    "\n",
    "\n",
    "### Overcut\n",
    "\n",
    "In contrast, the overcut is a similar concept with an opposite approach. Rather than pitting early, a driver using the overcut strategy remains on the track with worn tires for a longer period while the competitors pit.\n",
    "\n",
    "If the driver can maintain competitive lap times despite the older rubber—or if the competitors’ new tires take extra time to warm up—the longer stint can yield a time advantage. Once the rival makes its pit stop, the overcutting driver then pits later and, thanks to having run a more consistent pace in clean air, can gain positions on the circuit.\n",
    "\n",
    "\n"
   ]
  },
  {
   "cell_type": "code",
   "execution_count": 1,
   "id": "c1e966a5",
   "metadata": {},
   "outputs": [],
   "source": [
    "__author__ = \"Víctor Vega Sobral\""
   ]
  },
  {
   "cell_type": "markdown",
   "id": "b44caadb",
   "metadata": {},
   "source": [
    "---"
   ]
  },
  {
   "cell_type": "code",
   "execution_count": 2,
   "id": "7f5032a6",
   "metadata": {},
   "outputs": [
    {
     "name": "stdout",
     "output_type": "stream",
     "text": [
      "Engine initialized with 2 facts\n",
      "Initial facts: [InitialFact(), RaceStatusFact(lap=1, total_laps=60, race_phase='start', track_status='clear')]\n",
      "\n",
      "=== TIRE DEGRADATION ANALYSIS ===\n",
      "Using first predicted rate as current degradation: 0.07\n",
      "Tire facts declared: {'degradation': DegradationFact(degradation_rate=0.07, predicted_rates=frozenlist([0.07, 0.09, 0.12])), 'telemetry': TelemetryFact(tire_age=4, compound_id=2, driver_number=44, position=1)}\n",
      "Engine now has 4 facts\n",
      "\n",
      "=== LAP TIME PREDICTION ===\n",
      "Lap time facts declared: {'telemetry': TelemetryFact(driver_number=44, lap_time=80.3, predicted_lap_time=79.9, compound_id=2, tire_age=4, position=1)}\n",
      "Engine now has 5 facts\n",
      "\n",
      "=== RADIO ANALYSIS ===\n",
      "Radio fact declared: <f-5>\n",
      "Engine now has 6 facts\n",
      "\n",
      "=== ALL ENGINE FACTS ===\n",
      "Fact 1: InitialFact - <f-0>\n",
      "Fact 2: RaceStatusFact - <f-1>\n",
      "Fact 3: DegradationFact - <f-2>\n",
      "Fact 4: TelemetryFact - <f-3>\n",
      "Fact 5: TelemetryFact - <f-4>\n",
      "Fact 6: RadioFact - <f-5>\n",
      "Libraries and fact classes loaded successfully.\n"
     ]
    }
   ],
   "source": [
    "# Standard data processing libraries\n",
    "import pandas as pd              # For data manipulation and analysis\n",
    "import numpy as np               # For numerical operations\n",
    "import matplotlib.pyplot as plt  # For creating visualizations\n",
    "import seaborn as sns            # For enhanced visualizations\n",
    "from datetime import datetime    # For timestamp handling\n",
    "import os                        # For operating system interactions\n",
    "import sys                       # For system-specific parameters and functions\n",
    "import requests\n",
    "# Add parent directory to system path to make custom modules accessible\n",
    "sys.path.append(os.path.abspath('../'))\n",
    "\n",
    "\n",
    "\n",
    "# Import Experta components for building the rule engine\n",
    "from experta import Rule, NOT, OR, AND, AS, MATCH, TEST, EXISTS  # Rule definition components\n",
    "from experta import DefFacts, Fact, Field, KnowledgeEngine      # Core Experta classes\n",
    "\n",
    "\n",
    "import utils.N01_agent_setup as agent_setup\n",
    "from utils.N01_agent_setup import (\n",
    "        TelemetryFact,              # For storing car performance data\n",
    "        DegradationFact,            # For storing tire degradation information\n",
    "        GapFact,                    # For storing gap information\n",
    "        RaceStatusFact,             # For storing current race conditions\n",
    "        StrategyRecommendation,     # For storing strategy recommendations\n",
    "        F1StrategyEngine,           # Base engine class\n",
    "        transform_gap_data,         # Function to convert gap data to facts\n",
    "        load_gap_data               # Function to load gap data from FastF1\n",
    ")\n",
    "\n",
    "\n",
    "# Configure plotting style for better visualization\n",
    "plt.style.use('seaborn-v0_8-darkgrid')  # Set default plot style\n",
    "sns.set_context(\"notebook\", font_scale=1.2)  # Increase font size slightly\n",
    "\n",
    "print(\"Libraries and fact classes loaded successfully.\")"
   ]
  },
  {
   "cell_type": "markdown",
   "id": "043d1c30",
   "metadata": {},
   "source": [
    "---"
   ]
  },
  {
   "cell_type": "markdown",
   "id": "fedd550f",
   "metadata": {},
   "source": [
    "## 2. Data Extraction and Processing"
   ]
  },
  {
   "cell_type": "markdown",
   "id": "96494000",
   "metadata": {},
   "source": [
    "### 2.1 Extracting basic Gaps"
   ]
  },
  {
   "cell_type": "code",
   "execution_count": 3,
   "id": "1e0d5eec",
   "metadata": {},
   "outputs": [],
   "source": [
    "def get_session_key(year, gp_name):\n",
    "    \"\"\"\n",
    "    Get the session_key for the specified race to use with OpenF1 API.\n",
    "    \n",
    "    Args:\n",
    "        year (int): Year of the race\n",
    "        gp_name (str): Name of the Grand Prix\n",
    "        \n",
    "    Returns:\n",
    "        int: session_key for OpenF1 API\n",
    "    \"\"\"\n",
    "    # For Spain 2023 GP, the correct session_key is 9102\n",
    "    if year == 2023 and gp_name.lower() == \"spain\":\n",
    "        return 9102\n",
    "    \n",
    "    # For other races, we would need to implement a lookup or API call\n",
    "    # to find the correct session_key\n",
    "    print(f\"⚠️ Only Spain 2023 session_key is implemented\")\n",
    "    print(f\"⚠️ For other races, you need to find the correct session_key\")\n",
    "    return None\n",
    "\n",
    "def extract_basic_gaps(year, gp_name, max_interval=None):\n",
    "    \"\"\"\n",
    "    Extract gap data between cars from OpenF1 API.\n",
    "    \n",
    "    Args:\n",
    "        year (int): Year of the race\n",
    "        gp_name (str): Name of the Grand Prix\n",
    "        max_interval (float, optional): Filter for intervals less than this value\n",
    "        \n",
    "    Returns:\n",
    "        DataFrame: Basic gap data between cars\n",
    "    \"\"\"\n",
    "    base_url = \"https://api.openf1.org/v1/intervals\"\n",
    "    \n",
    "    # Get the session_key for this race\n",
    "    session_key = get_session_key(year, gp_name)\n",
    "    if session_key is None:\n",
    "        print(\"❌ Could not get session_key for this race\")\n",
    "        return pd.DataFrame()\n",
    "    \n",
    "    print(f\"Fetching data from OpenF1 for {gp_name} {year} (session_key: {session_key})\")\n",
    "    \n",
    "    # Build the URL with optional filtering for interval size\n",
    "    if max_interval is not None:\n",
    "        url = f\"{base_url}?session_key={session_key}&interval<{max_interval}\"\n",
    "    else:\n",
    "        url = f\"{base_url}?session_key={session_key}\"\n",
    "    \n",
    "    try:\n",
    "        print(\"Making request to OpenF1 API...\")\n",
    "        response = requests.get(url)\n",
    "        response.raise_for_status()  # Raise exception for HTTP errors\n",
    "        \n",
    "        # Check if we received valid data\n",
    "        if response.text and response.text.strip():\n",
    "            intervals_data = response.json()\n",
    "            print(f\"✓ Found {len(intervals_data)} records for session_key={session_key}\")\n",
    "            \n",
    "            # Convert to DataFrame\n",
    "            gaps_df = pd.DataFrame(intervals_data)\n",
    "            \n",
    "            # Basic data processing\n",
    "            if 'date' in gaps_df.columns:\n",
    "                # Handle date conversion\n",
    "                gaps_df['date'] = pd.to_datetime(gaps_df['date'], errors='coerce')\n",
    "            \n",
    "            # Ensure consistent column naming\n",
    "            if 'interval' in gaps_df.columns:\n",
    "                gaps_df.rename(columns={'interval': 'GapToCarAhead'}, inplace=True)\n",
    "            \n",
    "            # Extract driver numbers for consistency with our existing code\n",
    "            if 'driver_number' in gaps_df.columns:\n",
    "                gaps_df.rename(columns={'driver_number': 'DriverNumber'}, inplace=True)\n",
    "            \n",
    "            if 'driver_ahead' in gaps_df.columns:\n",
    "                gaps_df.rename(columns={'driver_ahead': 'CarAheadNumber'}, inplace=True)\n",
    "            \n",
    "            return gaps_df\n",
    "        else:\n",
    "            print(\"Empty response from API\")\n",
    "            return pd.DataFrame()\n",
    "    \n",
    "    except Exception as e:\n",
    "        print(f\"Error querying OpenF1: {e}\")\n",
    "        return pd.DataFrame()"
   ]
  },
  {
   "cell_type": "markdown",
   "id": "38d7d662",
   "metadata": {},
   "source": [
    "---"
   ]
  },
  {
   "cell_type": "markdown",
   "id": "e7014469",
   "metadata": {},
   "source": [
    "### 2.2 Calculating gap trends "
   ]
  },
  {
   "cell_type": "code",
   "execution_count": 4,
   "id": "3a7cdd8d",
   "metadata": {},
   "outputs": [],
   "source": [
    "def calculate_gap_trends(gaps_df, window_size=3):\n",
    "    \"\"\"\n",
    "    Calculate how gaps are evolving over time (opening or closing).\n",
    "    \n",
    "    Args:\n",
    "        gaps_df: DataFrame with basic gap data\n",
    "        window_size: Number of laps to calculate trend over\n",
    "        \n",
    "    Returns:\n",
    "        DataFrame: Gap data with trend information added\n",
    "    \"\"\"\n",
    "    # Make a copy to avoid modifying the original\n",
    "    result_df = gaps_df.copy()\n",
    "    \n",
    "    # Add columns for trend data\n",
    "    result_df['GapToCarAheadTrend'] = np.nan\n",
    "    \n",
    "    # Group by driver and sort by date to calculate trends over time\n",
    "    for driver in result_df['DriverNumber'].unique():\n",
    "        # Get all data for this driver\n",
    "        driver_data = result_df[result_df['DriverNumber'] == driver].sort_values('date')\n",
    "        \n",
    "        if len(driver_data) <= window_size:\n",
    "            continue  # Not enough data points\n",
    "        \n",
    "        # For each data point, calculate trend (change in gap over time window)\n",
    "        for i in range(window_size, len(driver_data)):\n",
    "            current_idx = driver_data.iloc[i].name\n",
    "            previous_idx = driver_data.iloc[i - window_size].name\n",
    "            \n",
    "            # Gap trend (positive = gap increasing, negative = gap decreasing)\n",
    "            current_gap = driver_data.iloc[i]['GapToCarAhead']\n",
    "            previous_gap = driver_data.iloc[i - window_size]['GapToCarAhead']\n",
    "            \n",
    "            if not pd.isna(current_gap) and not pd.isna(previous_gap):\n",
    "                # Calculate average change per data point in the window\n",
    "                result_df.loc[current_idx, 'GapToCarAheadTrend'] = (current_gap - previous_gap) / window_size\n",
    "    \n",
    "    # Note: Here we're not calculating GapToCarBehindTrend since OpenF1 data \n",
    "    # only provides gaps to car ahead\n",
    "    \n",
    "    return result_df"
   ]
  },
  {
   "cell_type": "markdown",
   "id": "3e8eda7f",
   "metadata": {},
   "source": [
    "---"
   ]
  },
  {
   "cell_type": "markdown",
   "id": "e0e79c68",
   "metadata": {},
   "source": [
    "### 2.3 Identifying strategic windows"
   ]
  },
  {
   "cell_type": "code",
   "execution_count": 5,
   "id": "6c9647a4",
   "metadata": {},
   "outputs": [],
   "source": [
    "def identify_strategic_windows(gaps_df):\n",
    "    \"\"\"\n",
    "    Identify undercut and DRS windows based on gap sizes.\n",
    "    \n",
    "    Args:\n",
    "        gaps_df: DataFrame with gap data\n",
    "        \n",
    "    Returns:\n",
    "        DataFrame: Gap data with strategic window flags\n",
    "    \"\"\"\n",
    "    # Make a copy to avoid modifying the original\n",
    "    result_df = gaps_df.copy()\n",
    "    \n",
    "    # Add columns for strategic windows\n",
    "    result_df['InUndercutWindow'] = False\n",
    "    result_df['InDRSWindow'] = False\n",
    "    \n",
    "    # Define thresholds (based on F1 strategy knowledge)\n",
    "    UNDERCUT_THRESHOLD = 3  # Gap less than 3s indicates undercut possibility\n",
    "    DRS_THRESHOLD = 1.0       # Gap less than 1.0s enables DRS\n",
    "    \n",
    "    # Mark rows where car is within undercut window of car ahead\n",
    "    mask = (result_df['GapToCarAhead'] < UNDERCUT_THRESHOLD)\n",
    "    result_df.loc[mask, 'InUndercutWindow'] = True\n",
    "    \n",
    "    # Mark rows where car is within DRS window of car ahead\n",
    "    mask = (result_df['GapToCarAhead'] < DRS_THRESHOLD)\n",
    "    result_df.loc[mask, 'InDRSWindow'] = True\n",
    "    \n",
    "    # Add inferred lap number from date/time if not present\n",
    "    if 'LapNumber' not in result_df.columns and 'date' in result_df.columns:\n",
    "        # Group by driver and create sequential lap numbers\n",
    "        for driver in result_df['DriverNumber'].unique():\n",
    "            driver_data = result_df[result_df['DriverNumber'] == driver].sort_values('date')\n",
    "            # Assign sequential numbers starting from 1\n",
    "            result_df.loc[driver_data.index, 'LapNumber'] = range(1, len(driver_data) + 1)\n",
    "    \n",
    "    return result_df"
   ]
  },
  {
   "cell_type": "markdown",
   "id": "1a09005c",
   "metadata": {},
   "source": [
    "---"
   ]
  },
  {
   "cell_type": "markdown",
   "id": "57427a2d",
   "metadata": {},
   "source": [
    "### 2.4 Load and process race gaps"
   ]
  },
  {
   "cell_type": "code",
   "execution_count": 6,
   "id": "a2e48055",
   "metadata": {},
   "outputs": [],
   "source": [
    "def load_process_all_gaps(year, gp_name, max_interval=None):\n",
    "    \"\"\"\n",
    "    Load all gap data from OpenF1 sin filtrar por fin de vuelta.\n",
    "    \"\"\"\n",
    "    # Básicamente mantener el código actual pero sin intentar filtrar por fin de vuelta\n",
    "    # Usaremos todos los registros y luego los correlacionaremos según sea necesario\n",
    "    \n",
    "    # Extract basic gaps data from OpenF1\n",
    "    print(f\"Loading {gp_name} {year} gap data from OpenF1...\")\n",
    "    gaps_df = extract_basic_gaps(year, gp_name, max_interval)\n",
    "    \n",
    "    if gaps_df.empty:\n",
    "        print(\"❌ Failed to load gap data\")\n",
    "        return gaps_df\n",
    "    \n",
    "    # Calculate trends\n",
    "    print(\"\\nCalculating gap trends...\")\n",
    "    gaps_df = calculate_gap_trends(gaps_df)\n",
    "    \n",
    "    # Identify strategic windows\n",
    "    print(\"\\nIdentifying strategic windows...\")\n",
    "    gaps_df = identify_strategic_windows(gaps_df)\n",
    "    \n",
    "    print(f\"Processing complete. Dataset has {len(gaps_df)} records with full gap analysis.\")\n",
    "    print(f\"Note: This includes multiple measurements per lap that will need to be correlated\")\n",
    "    \n",
    "    return gaps_df"
   ]
  },
  {
   "cell_type": "markdown",
   "id": "61f817fe",
   "metadata": {},
   "source": [
    "---"
   ]
  },
  {
   "cell_type": "markdown",
   "id": "0d3113a7",
   "metadata": {},
   "source": [
    "### 2.5 Executing the Pipeline"
   ]
  },
  {
   "cell_type": "code",
   "execution_count": 7,
   "id": "e5017566",
   "metadata": {},
   "outputs": [
    {
     "name": "stdout",
     "output_type": "stream",
     "text": [
      "Loading Spain 2023 gap data from OpenF1...\n",
      "Fetching data from OpenF1 for Spain 2023 (session_key: 9102)\n",
      "Making request to OpenF1 API...\n",
      "✓ Found 18281 records for session_key=9102\n",
      "\n",
      "Calculating gap trends...\n",
      "\n",
      "Identifying strategic windows...\n",
      "Processing complete. Dataset has 18281 records with full gap analysis.\n",
      "Note: This includes multiple measurements per lap that will need to be correlated\n",
      "\n",
      "Sample of processed gap data:\n",
      "  gap_to_leader  GapToCarAhead  DriverNumber                             date  \\\n",
      "0         0.131          0.131            55 2023-06-04 13:03:22.688000+00:00   \n",
      "1         0.276          0.145             4 2023-06-04 13:03:22.797000+00:00   \n",
      "2         0.347          0.071            44 2023-06-04 13:03:22.797000+00:00   \n",
      "3         0.469          0.122            18 2023-06-04 13:03:22.922000+00:00   \n",
      "4         0.713          0.244            31 2023-06-04 13:03:23.359000+00:00   \n",
      "\n",
      "   session_key  meeting_key  GapToCarAheadTrend  InUndercutWindow  \\\n",
      "0         9102         1211                 NaN              True   \n",
      "1         9102         1211                 NaN              True   \n",
      "2         9102         1211                 NaN              True   \n",
      "3         9102         1211                 NaN              True   \n",
      "4         9102         1211                 NaN              True   \n",
      "\n",
      "   InDRSWindow  LapNumber  \n",
      "0         True        1.0  \n",
      "1         True        1.0  \n",
      "2         True        1.0  \n",
      "3         True        1.0  \n",
      "4         True        1.0  \n"
     ]
    }
   ],
   "source": [
    "# Execute the full gap data processing pipeline\n",
    "# Using the 2023 Spanish Grand Prix as our example\n",
    "# We filter for gaps under 5 seconds which are most strategically relevant\n",
    "processed_gaps = load_process_all_gaps(2023, \"Spain\", max_interval=5.0)\n",
    "\n",
    "# Display a sample of the processed data\n",
    "print(\"\\nSample of processed gap data:\")\n",
    "print(processed_gaps.head())\n",
    "\n"
   ]
  },
  {
   "cell_type": "code",
   "execution_count": 8,
   "id": "f910c4c4",
   "metadata": {},
   "outputs": [
    {
     "name": "stdout",
     "output_type": "stream",
     "text": [
      "\n",
      "Saved processed gap data to ../../f1-strategy/data/processed/spain_2023_gaps_openf1.csv\n"
     ]
    }
   ],
   "source": [
    "# Save the processed data to CSV for later use\n",
    "output_dir = \"../../f1-strategy/data/processed\"\n",
    "os.makedirs(output_dir, exist_ok=True)\n",
    "output_path = f\"{output_dir}/spain_2023_gaps_openf1.csv\"\n",
    "processed_gaps.to_csv(output_path, index=False, float_format='%.3f')\n",
    "print(f\"\\nSaved processed gap data to {output_path}\")\n",
    "\n"
   ]
  },
  {
   "cell_type": "code",
   "execution_count": 9,
   "id": "bedda3a7",
   "metadata": {},
   "outputs": [
    {
     "name": "stdout",
     "output_type": "stream",
     "text": [
      "\n",
      "Gap statistics:\n",
      "count    18281.000000\n",
      "mean         2.054774\n",
      "std          1.277370\n",
      "min          0.001000\n",
      "25%          1.006000\n",
      "50%          1.788000\n",
      "75%          2.976000\n",
      "max          4.999000\n",
      "Name: GapToCarAhead, dtype: float64\n",
      "\n",
      "Strategic window summary:\n",
      "Undercut windows: 13789 (75.4%)\n",
      "DRS windows: 4543 (24.9%)\n"
     ]
    }
   ],
   "source": [
    "# Basic statistics about the gaps\n",
    "print(\"\\nGap statistics:\")\n",
    "gap_stats = processed_gaps['GapToCarAhead'].describe()\n",
    "print(gap_stats)\n",
    "\n",
    "# Count strategic windows\n",
    "print(\"\\nStrategic window summary:\")\n",
    "print(f\"Undercut windows: {processed_gaps['InUndercutWindow'].sum()} ({processed_gaps['InUndercutWindow'].mean()*100:.1f}%)\")\n",
    "print(f\"DRS windows: {processed_gaps['InDRSWindow'].sum()} ({processed_gaps['InDRSWindow'].mean()*100:.1f}%)\")"
   ]
  }
 ],
 "metadata": {
  "kernelspec": {
   "display_name": "f1_strat_manager",
   "language": "python",
   "name": "python3"
  },
  "language_info": {
   "codemirror_mode": {
    "name": "ipython",
    "version": 3
   },
   "file_extension": ".py",
   "mimetype": "text/x-python",
   "name": "python",
   "nbconvert_exporter": "python",
   "pygments_lexer": "ipython3",
   "version": "3.10.16"
  }
 },
 "nbformat": 4,
 "nbformat_minor": 5
}
