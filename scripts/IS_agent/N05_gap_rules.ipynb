{
 "cells": [
  {
   "cell_type": "markdown",
   "id": "60924004",
   "metadata": {},
   "source": [
    "# N05: Gap-Based Strategy Rules for F1\n",
    "\n",
    "## 1. Introduction and Objective\n",
    "\n",
    "\n",
    "Gap analysis is a critical component of Formula 1 race strategy. The time difference between cars (measured in seconds) directly influences strategic decisions like undercuts, overcuts, and defensive pit stops. This notebook implements rules that use these gaps to make strategic recommendations.\n",
    "\n",
    "\n",
    "### Why Gap Analysis Matters\n",
    "\n",
    "* **Undercut Opportunities:** When a car is close behind another (~1-2s), pitting earlier might allow overtaking through fresher tires\n",
    "* **Overcut Potential:** Sometimes staying out longer works better, especially when the leading car has clean air\n",
    "* **Defensive Strategy**: Teams must react when competitors attempt undercuts\n",
    "* **Traffic Management**: Gaps determine whether a car will exit the pits into free air or traffic\n",
    "\n",
    "### Our Objectives\n",
    "\n",
    "Extract and process gap data from FastF1 (replacing our previous computer vision approach)\n",
    "Analyze gap distributions to establish meaningful thresholds for strategic decisions\n",
    "Implement four key rules:\n",
    "\n",
    "1. **Undercut Opportunity Rule**: Identify when an undercut might succeed\n",
    "2. **Defensive Pit Stop Rule**: Protect position against undercut attempts\n",
    "3. **Overcut Strategy Rule:** Recognize when staying out longer is advantageous\n",
    "4. **Traffic Management Rule**: Avoid exiting pit stops into traffic\n",
    "\n",
    "\n",
    "\n",
    "These rules will complement our existing components (tire degradation, lap time analysis, and radio communication) to create a comprehensive F1 strategy system."
   ]
  },
  {
   "cell_type": "code",
   "execution_count": 1,
   "id": "c1e966a5",
   "metadata": {},
   "outputs": [],
   "source": [
    "__author__ = \"Víctor Vega Sobral\""
   ]
  },
  {
   "cell_type": "markdown",
   "id": "b44caadb",
   "metadata": {},
   "source": [
    "---"
   ]
  }
 ],
 "metadata": {
  "kernelspec": {
   "display_name": "f1_strat_manager",
   "language": "python",
   "name": "python3"
  },
  "language_info": {
   "codemirror_mode": {
    "name": "ipython",
    "version": 3
   },
   "file_extension": ".py",
   "mimetype": "text/x-python",
   "name": "python",
   "nbconvert_exporter": "python",
   "pygments_lexer": "ipython3",
   "version": "3.10.16"
  }
 },
 "nbformat": 4,
 "nbformat_minor": 5
}
