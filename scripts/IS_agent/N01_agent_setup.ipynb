{
 "cells": [
  {
   "cell_type": "markdown",
   "metadata": {},
   "source": [
    "# Experta: Theory Fundamentals of Production Systems and RETE Algorithm"
   ]
  },
  {
   "cell_type": "markdown",
   "metadata": {},
   "source": [
    "---"
   ]
  },
  {
   "cell_type": "markdown",
   "metadata": {},
   "source": [
    "## Introduction\n",
    "\n",
    "Experta is a Python library based on Production Systems, also known as Expert Systems or Rule-Based Systems, wich is a fundamental paradigm in simbolic AI."
   ]
  },
  {
   "cell_type": "markdown",
   "metadata": {},
   "source": [
    "---"
   ]
  },
  {
   "cell_type": "markdown",
   "metadata": {},
   "source": [
    "## What are Expert Systems? \n",
    "\n",
    "An expert system is formed by 3 key components:\n",
    "\n",
    "1. **Facts base**: it stores the factual knowledge of the system. That is, what the system knows in a specific moment.\n",
    "\n",
    "2. **Rule Base**: contains the procedure knowledge as \"if-then\" rules.\n",
    "\n",
    "3. **Inference motor**: motor that determines whether apply one rule or another and when to apply it.\n",
    "\n",
    "The central idea is no model the thinking as a rule chaining process, simillar at how human experts would take a decission applying their knowledge to a specific subject.\n"
   ]
  },
  {
   "cell_type": "markdown",
   "metadata": {},
   "source": [
    "---"
   ]
  },
  {
   "cell_type": "markdown",
   "metadata": {},
   "source": [
    "## RETE Algorithm\n",
    "\n",
    "Experta´s core is RETE algorithm, designed in 1982 by Charles L.Forgy. This algorithm is crucal for knowing what Experta is doing and also knowing why it is efficient:\n",
    "\n",
    "- Its **function** is to optimize the coincidence of patterns between facts and rules. \n",
    "\n",
    "- It builds a node network that represent patterns. Then, it avoids reevaluating all the rules when the facts change.\n",
    "\n",
    "Therefore, RETE builds a \"discrimination net\" that acts as an efficient filter for determining which rules should be activated in response to changes made on the facts base."
   ]
  },
  {
   "cell_type": "markdown",
   "metadata": {},
   "source": [
    "---"
   ]
  },
  {
   "cell_type": "markdown",
   "metadata": {},
   "source": [
    "## Experta´s execution cycle\n",
    "\n",
    "1. **Match**: the motor identifies all the rules that can be activaded with the actual facts base.\n",
    "2. **Conflict Resolution**: if multiple rules coincide, the motor decides which one is executed first (using conflic resolution strategies).\n",
    "3. **Act**: it executes the action associated with the selected rule, that tipically modifies the facts base.\n",
    "4. **Cycle**: the process is repeated until there are no more rules to be activated.\n",
    "\n",
    "This cycle is knwon as \"cycle recognize-act\" or \"production cycle\"."
   ]
  },
  {
   "cell_type": "markdown",
   "metadata": {},
   "source": [
    "---"
   ]
  },
  {
   "cell_type": "markdown",
   "metadata": {},
   "source": [
    "## Declarative vs Imperative Programming\n",
    "\n",
    "Experta is a **Declarative Programming paradigm**, in contrast with traditional programming. Instead of defining HOW to make something step by step, Declarative Programming specifies WHICH conditions need to be acomplished. In Experta, the developer defines rules declaratively and the motor is the one that says when and how are they going to be applied. "
   ]
  },
  {
   "cell_type": "markdown",
   "metadata": {},
   "source": [
    "---"
   ]
  },
  {
   "cell_type": "markdown",
   "metadata": {},
   "source": [
    "## Relevance for F1 Strategy\n",
    "\n",
    "Experta´s selection for the F1 strategy problem is theoretically justified due to this 5 points:\n",
    "\n",
    "1. **Codificable expert knowledge**: F1 strategies can be expressed naturally as conditional rules based on expert knowledge.\n",
    "2. **Incremental Reasoning**: during the race, information comes continously, such as radios, telemetry, track data or weather. RETE is efficient for updating conclussions based on new information.\n",
    "3. **Knowledge Explanation**: rules can be read and modified by humans, allowing adjusting strategies based on feedback.\n",
    "4. **Explainable Capacity**: unlike black box models like Neural Networks, a system based on rules can explain exactly which conditions made them make a decission.\n",
    "5. **Multiple Information Integration**: key for my project, as it brings me the capacity to merge structured information as data with semi-structured information like NLP radio analysis or my prediction models in the same logical framework.\n",
    "\n",
    "The implementation through Experta allows to capture strategic reasoning of F1 Teams, creating a system that emulates how they would take real-time decissions based on the actual avaliable information."
   ]
  },
  {
   "cell_type": "markdown",
   "metadata": {},
   "source": [
    "---"
   ]
  },
  {
   "cell_type": "markdown",
   "metadata": {},
   "source": [
    "## Basic Example of Decision Making with an Expert System\n",
    "\n",
    "I will illustrate a simple case: deciding whether an F1 car should pit based on tire degradation and weather conditions.\n",
    "\n",
    "### 1. Problem Definition\n",
    "We have basic rules to decide on a pit stop:\n",
    "\n",
    "- If tire degradation is greater than 60%, recommend a pit stop.\n",
    "- If it is raining and the car has dry tires, recommend a pit stop.\n",
    "- If the degradation is moderate (30-60%) and the driver reports grip issues, recommend a pit stop.\n",
    "\n",
    "### 2. Step-by-Step Process\n",
    "Here is what happens when we run Experta:\n",
    "\n",
    "#### 2.1 Initialization:\n",
    "- The rule engine `EstrategiaF1` is created.\n",
    "- The method `reset()` is called to prepare the engine.\n",
    "\n",
    "#### 2.2 Declaration of Facts:\n",
    "- We add that the tires have a degradation of 45% and are of the dry type.\n",
    "- We add that it is not raining.\n",
    "- We add that the driver reports grip issues.\n",
    "\n",
    "#### 2.3 Execution of the RETE Cycle:\n",
    "- The engine calls `run()`, starting the inference cycle.\n",
    "- RETE builds an activation network with the three defined rules.\n",
    "\n",
    "#### 2.4 Rule Evaluation:\n",
    "- **First rule (very_degraded_tires):** DOES NOT MATCH because degradation = 45% (less than 60%).\n",
    "- **Second rule (change_to_rain):** DOES NOT MATCH because raining = False.\n",
    "- **Third rule (moderate_grip_problems):** MATCHES because:\n",
    "  - degradation = 45% (is between 30% and 60%)\n",
    "  - the message contains \"problems\" and \"grip\"\n",
    "\n",
    "#### Rule Activation:\n",
    "- The rule `moderate_grip_problems` is activated.\n",
    "- Its action is executed, declaring a new fact: **Recommendation**.\n",
    "\n",
    "#### New Evaluation Cycle:\n",
    "- The engine evaluates whether there are new rules that match the newly added fact.\n",
    "- In this case, no additional rules are activated.\n",
    "- The engine terminates the execution.\n",
    "\n",
    "### Final Result:\n",
    "We obtain a recommendation:\n",
    "- **Action recommended:** pit\n",
    "- **Reason:** Grip issues reported with moderate degradation\n",
    "- **Urgency:** medium\n",
    "\n",
    "This is the essence of how the expert system processes the rules: it continuously evaluates the available facts against the rule conditions and executes the corresponding actions when matches occur. The RETE algorithm makes this process efficient by avoiding the need to re-evaluate all rules for every fact.\n"
   ]
  },
  {
   "cell_type": "markdown",
   "metadata": {},
   "source": [
    "---"
   ]
  },
  {
   "cell_type": "markdown",
   "metadata": {},
   "source": [
    "## 1. Import the Libraries"
   ]
  },
  {
   "cell_type": "code",
   "execution_count": 19,
   "metadata": {},
   "outputs": [],
   "source": [
    "import sys\n",
    "import os\n",
    "import pandas as pd\n",
    "import numpy as np\n",
    "import matplotlib.pyplot as plt"
   ]
  },
  {
   "cell_type": "markdown",
   "metadata": {},
   "source": [
    "---"
   ]
  },
  {
   "cell_type": "markdown",
   "metadata": {},
   "source": [
    "## 2. Definition of Fact Classes"
   ]
  },
  {
   "cell_type": "markdown",
   "metadata": {},
   "source": [
    "---"
   ]
  },
  {
   "cell_type": "code",
   "execution_count": 20,
   "metadata": {},
   "outputs": [],
   "source": [
    "from experta import Fact, Field, KnowledgeEngine"
   ]
  },
  {
   "cell_type": "markdown",
   "metadata": {},
   "source": [
    "Field object takes 5 possible arguments:\n",
    "\n",
    "1. Datatype(mandatory) specifies the expected data type. \n",
    "2. Default(optional) specifies a default value if none is given.\n",
    "3. Mandatory(optional) is a boolean to put if the Field is mandatory.\n",
    "4. Optional, contrary to Mandaroty.\n",
    "5. Test (function) allows defininf a function to validate the value."
   ]
  },
  {
   "cell_type": "markdown",
   "metadata": {},
   "source": [
    "### 2.1 Telemetry Facts"
   ]
  },
  {
   "cell_type": "code",
   "execution_count": 21,
   "metadata": {},
   "outputs": [],
   "source": [
    "# Telemetry Facts\n",
    "class TelemetryFact(Fact):\n",
    "    \"\"\"\n",
    "    Facts about car telemetry and performance\n",
    "    \"\"\"\n",
    "    lap_time = Field(float, mandatory= False)           # Curremt lap time\n",
    "    predicted_lap_time = Field(float, mandatory=False)  # Predicted lap time by the model\n",
    "    tire_age = Field(int, mandatory=False)              # Age of the current tire set in laps\n",
    "    compound_id = Field(int, mandatory=False)           # Tire type with ID\n",
    "    position = Field(int, mandatory= False)             # Current race position\n",
    "    driver_number = Field(int, mandatory=False)         # Driver number \n"
   ]
  },
  {
   "cell_type": "markdown",
   "metadata": {},
   "source": [
    "### 2.2 Degradation Facts"
   ]
  },
  {
   "cell_type": "code",
   "execution_count": 22,
   "metadata": {},
   "outputs": [],
   "source": [
    "class DegradationFact(Fact):\n",
    "    \"\"\"\n",
    "    Facts about tire degradation including future predictions\n",
    "    \"\"\"\n",
    "    degradation_rate = Field(float, mandatory=False)           # Current seconds lost per lap\n",
    "    previous_rates = Field(list, mandatory=False)              # Historical degradation rates\n",
    "    fuel_adjusted_deg_percent = Field(float, mandatory=False)  # Percentage degradation adjusted for fuel\n",
    "    predicted_rates = Field(list, mandatory=False)             # Array of predicted future degradation rates"
   ]
  },
  {
   "cell_type": "markdown",
   "metadata": {},
   "source": [
    "### 2.3 Gap Facts"
   ]
  },
  {
   "cell_type": "code",
   "execution_count": 23,
   "metadata": {},
   "outputs": [],
   "source": [
    "class GapFact(Fact):\n",
    "    \"\"\"\n",
    "    Facts about gaps to other cars\n",
    "    \"\"\"\n",
    "    gap_ahead = Field(float, mandatory= False)          # Time to car ahead (seconds)\n",
    "    gap_behind = Field(float, mandatory= False)         # Time to car behind (seconds)\n",
    "    gap_ahead_trend = Field(float, mandatory= False)    # Change in gap ahead over last laps\n",
    "    gap_behind_trend = Field(float, mandatory= False)   # Change in gap behind over last laps"
   ]
  },
  {
   "cell_type": "markdown",
   "metadata": {},
   "source": [
    "### 2.4 Radio Facts"
   ]
  },
  {
   "cell_type": "code",
   "execution_count": 24,
   "metadata": {},
   "outputs": [],
   "source": [
    "class RadioFact(Fact):\n",
    "    \"\"\"\n",
    "    Facts from radio communications analysis\n",
    "    \"\"\"\n",
    "    sentiment = Field(str, mandatory= False)  # positive, negative, neutral\n",
    "    intent = Field(str, mandatory= False)     # WARNING, QUESTION, etc.\n",
    "    entities = Field(dict, mandatory= False)  # Detected entities categorized (SITUATION, INCIDENT, PIT_CALL, etc)\n",
    "    timestamp = Field(float, mandatory= False)# When the message was received"
   ]
  },
  {
   "cell_type": "markdown",
   "metadata": {},
   "source": [
    "### 2.5 Race Status"
   ]
  },
  {
   "cell_type": "code",
   "execution_count": 25,
   "metadata": {},
   "outputs": [],
   "source": [
    "class RaceStatusFact(Fact):\n",
    "    \"\"\"\n",
    "    Facts about current race status\n",
    "    \"\"\"\n",
    "    lap = Field(int, mandatory= True)               # Current lap\n",
    "    total_laps = Field(int, mandatory= True)        # Total race laps\n",
    "    race_phase = Field(str, mandatory= False)       # start, mid, end\n",
    "    track_status = Field(str, mandatory= False)     # clear, yellow, safety car, red flag\n",
    "    "
   ]
  },
  {
   "cell_type": "markdown",
   "metadata": {},
   "source": [
    "### 2.6 Strategy Recomendation"
   ]
  },
  {
   "cell_type": "code",
   "execution_count": 26,
   "metadata": {},
   "outputs": [],
   "source": [
    "class StrategyRecommendation(Fact):\n",
    "    \"\"\"\n",
    "    Reccommendation produced by the Expert System\n",
    "    \"\"\"\n",
    "    action = Field(str, mandatory= True)                        # Specific action to take\n",
    "    confidence = Field(float, mandatory= True)                  # Confidende level (0-1)\n",
    "    explanation = Field(str, mandatory= True)                   # Natural Language Explanation\n",
    "    priority = Field(int, mandatory= False, default = 0)        # Priority level (higher = more urgent)\n",
    "    lap_issued = Field(int, mandatory= True)                    # Lap when reccomendation was made"
   ]
  },
  {
   "cell_type": "markdown",
   "metadata": {},
   "source": [
    "---"
   ]
  },
  {
   "cell_type": "markdown",
   "metadata": {},
   "source": [
    "## 3. Engine Definition with Rule Documentation"
   ]
  },
  {
   "cell_type": "code",
   "execution_count": 27,
   "metadata": {},
   "outputs": [],
   "source": [
    "class F1StrategyEngine(KnowledgeEngine):\n",
    "    \"\"\"\n",
    "    Formula 1 strategy expert system engine\n",
    "    \"\"\"\n",
    "\n",
    "    def __init__(self):\n",
    "        super().__init__()\n",
    "        self.rules_fired = []  # Tracking the rules that have been activated\n",
    "    \n",
    "    def get_recommendations(self):\n",
    "        \"\"\"\n",
    "        Retrieve all current recommendations, sorted by priority and confidence\n",
    "        \"\"\"\n",
    "\n",
    "        recommendations = []\n",
    "        for fact in self.facts.values():\n",
    "            if isinstance(fact, StrategyRecommendation):\n",
    "                recommendations.append(\n",
    "                    {\n",
    "                        \"action\": fact[\"action\"],\n",
    "                        \"confidence\": fact[\"confidence\"],\n",
    "                        \"explanation\": fact[\"explanation\"],\n",
    "                        \"priority\": fact.get(\"priority\", 0),\n",
    "                        \"lap_issued\" : fact[\"lap_issued\"]\n",
    "                    }\n",
    "                )\n",
    "        return sorted(\n",
    "            recommendations,\n",
    "            key = lambda x: (x[\"priority\"], x[\"confidence\"]),\n",
    "            reverse= True\n",
    "        )\n",
    "    \n",
    "    def record_rule_fired(self, rule_name):\n",
    "        \"\"\"\n",
    "        Record when a rule is fired for explanation and debugging\n",
    "        \"\"\"\n",
    "\n",
    "        current_lap = None\n",
    "        for fact in self.facts.values():\n",
    "            if isinstance(fact, RaceStatusFact):\n",
    "                current_lap = fact.get(\"lap\")\n",
    "                break\n",
    "        \n",
    "        self.rules_fired.append(\n",
    "            {\n",
    "                \"rule\": rule_name,\n",
    "                \"lap\": current_lap,\n",
    "                \"timestamp\": pd.Timestamp.now()\n",
    "            }\n",
    "        )"
   ]
  },
  {
   "cell_type": "markdown",
   "metadata": {},
   "source": [
    "---"
   ]
  },
  {
   "cell_type": "markdown",
   "metadata": {},
   "source": [
    "## 4. Data Transformation Functions"
   ]
  },
  {
   "cell_type": "markdown",
   "metadata": {},
   "source": [
    "### 4.1 Transforming tire predictions"
   ]
  },
  {
   "cell_type": "markdown",
   "metadata": {},
   "source": [
    "---"
   ]
  },
  {
   "cell_type": "code",
   "execution_count": 28,
   "metadata": {},
   "outputs": [],
   "source": [
    "def transform_tire_predictions(predictions_df, driver_number):\n",
    "    \"\"\"\n",
    "    Transform the output from predict_tire_degradation into facts for the rule engine.\n",
    "    \n",
    "    Args:\n",
    "        predictions_df (DataFrame): Output from predict_tire_degradation function\n",
    "        driver_number (int): The driver number to extract data for\n",
    "        \n",
    "    Returns:\n",
    "        dict: Dictionary with facts to declare\n",
    "    \"\"\"\n",
    "    # Filter data for the specific driver\n",
    "    driver_data = predictions_df[predictions_df['DriverNumber'] == driver_number]\n",
    "    \n",
    "    if driver_data.empty:\n",
    "        print(f\"Warning: No prediction data found for driver {driver_number}\")\n",
    "        return None\n",
    "    \n",
    "    # Get the most recent stint\n",
    "    latest_stint = driver_data['Stint'].max()\n",
    "    stint_data = driver_data[driver_data['Stint'] == latest_stint]\n",
    "    \n",
    "    # Group predictions by current tire age (we want the most recent window)\n",
    "    latest_age = stint_data['CurrentTyreAge'].max()\n",
    "    latest_data = stint_data[stint_data['CurrentTyreAge'] == latest_age]\n",
    "    \n",
    "    # Sort predictions by how far in the future they are\n",
    "    future_data = latest_data.sort_values('LapsAheadPred')\n",
    "    \n",
    "    # Extract future degradation rates\n",
    "    predicted_rates = future_data['PredictedDegradationRate'].tolist()\n",
    "    \n",
    "    # Get basic info about current state\n",
    "    current_info = future_data.iloc[0]\n",
    "    \n",
    "    # Create degradation fact with current and predicted data\n",
    "    degradation_fact = DegradationFact(\n",
    "        # Get current degradation - not directly available in predictions\n",
    "        # Using a placeholder value (could be obtained from elsewhere)\n",
    "        degradation_rate=0.0,  \n",
    "        predicted_rates=predicted_rates  # Array of future predictions\n",
    "    )\n",
    "    \n",
    "    # Create corresponding telemetry fact\n",
    "    telemetry_fact = TelemetryFact(\n",
    "        tire_age=int(latest_age),\n",
    "        compound_id=int(current_info['CompoundID']),\n",
    "        driver_number=int(driver_number),\n",
    "        # Add position if available\n",
    "        position=int(current_info.get('Position', 0))\n",
    "    )\n",
    "    \n",
    "    # Add current lap time if available\n",
    "    if 'CurrentLapTime' in current_info:\n",
    "        telemetry_fact['lap_time'] = float(current_info['CurrentLapTime'])\n",
    "    \n",
    "    return {\n",
    "        'degradation': degradation_fact,\n",
    "        'telemetry': telemetry_fact\n",
    "    }"
   ]
  },
  {
   "cell_type": "markdown",
   "metadata": {},
   "source": [
    "---"
   ]
  },
  {
   "cell_type": "markdown",
   "metadata": {},
   "source": [
    "### 4.2 Transforming Lap Times predictions"
   ]
  },
  {
   "cell_type": "code",
   "execution_count": 29,
   "metadata": {},
   "outputs": [],
   "source": [
    "def transform_laptime_prediction(prediction_data, driver_number):\n",
    "    \"\"\"\n",
    "    Transform lap time prediction model output into facts.\n",
    "    \n",
    "    Args:\n",
    "        prediction_data (dict): Output from the lap time prediction model\n",
    "        driver_number (int): The driver number to extract data for\n",
    "        \n",
    "    Returns:\n",
    "        dict: Dictionary with facts to declare\n",
    "    \"\"\"\n",
    "    # Filter data for the specific driver\n",
    "    driver_data = prediction_data[prediction_data['DriverNumber'] == driver_number].iloc[-1]\n",
    "    \n",
    "    # Extract current and predicted lap times\n",
    "    current_lap_time = driver_data['LapTime']\n",
    "    predicted_lap_time = driver_data['PredictedLapTime']  # Assuming this field exists\n",
    "    \n",
    "    telemetry_fact = TelemetryFact(\n",
    "        lap_time=current_lap_time,\n",
    "        predicted_lap_time=predicted_lap_time,\n",
    "        driver_number=driver_number\n",
    "    )\n",
    "    \n",
    "    return {\n",
    "        'telemetry': telemetry_fact\n",
    "    }"
   ]
  },
  {
   "cell_type": "code",
   "execution_count": 30,
   "metadata": {},
   "outputs": [],
   "source": [
    "def load_tire_predictions(race_data, models_path, compound_thresholds=None):\n",
    "    \"\"\"\n",
    "    Load tire predictions from the prediction module.\n",
    "    \n",
    "    Args:\n",
    "        race_data (DataFrame): Race telemetry data\n",
    "        models_path (str): Path to the directory containing model files\n",
    "        compound_thresholds (dict): Dictionary mapping compound IDs to starting lap numbers\n",
    "                                  (e.g., {1: 6, 2: 12, 3: 25})\n",
    "                                  \n",
    "    Returns:\n",
    "        DataFrame: Tire degradation predictions\n",
    "    \"\"\"\n",
    "    # Import the tire prediction module\n",
    "    import sys\n",
    "    import os\n",
    "    # Add parent directory to path if needed\n",
    "    sys.path.append(os.path.abspath('../'))\n",
    "    \n",
    "    # Import the module\n",
    "    from ML_tyre_pred.ML_utils import N02_model_tire_predictions as tdp\n",
    "    \n",
    "    # Default thresholds based on F1 knowledge if none provided\n",
    "    if compound_thresholds is None:\n",
    "        compound_thresholds = {\n",
    "            1: 6,   # Soft tires: monitor from lap 6 onwards\n",
    "            2: 12,  # Medium tires: monitor from lap 12 onwards\n",
    "            3: 25   # Hard tires: monitor from lap 25 onwards\n",
    "        }\n",
    "    \n",
    "    # Get predictions\n",
    "    predictions = tdp.predict_tire_degradation(\n",
    "        race_data,\n",
    "        models_path,\n",
    "        compound_start_laps=compound_thresholds\n",
    "    )\n",
    "    \n",
    "    return predictions"
   ]
  },
  {
   "cell_type": "code",
   "execution_count": 31,
   "metadata": {},
   "outputs": [],
   "source": [
    "def get_current_degradation(telemetry_data, driver_number):\n",
    "    \"\"\"\n",
    "    Extract current degradation rate from telemetry data.\n",
    "    \n",
    "    Args:\n",
    "        telemetry_data (DataFrame): Processed telemetry data with DegradationRate\n",
    "        driver_number (int): Driver number to get data for\n",
    "        \n",
    "    Returns:\n",
    "        float: Current degradation rate or 0.0 if not available\n",
    "    \"\"\"\n",
    "    # Filter for the specific driver\n",
    "    driver_data = telemetry_data[telemetry_data['DriverNumber'] == driver_number]\n",
    "    \n",
    "    if driver_data.empty:\n",
    "        return 0.0\n",
    "    \n",
    "    # Get the most recent lap data\n",
    "    latest_data = driver_data.sort_values('TyreAge', ascending=False).iloc[0]\n",
    "    \n",
    "    # Return degradation rate if available\n",
    "    return float(latest_data.get('DegradationRate', 0.0))"
   ]
  },
  {
   "cell_type": "markdown",
   "metadata": {},
   "source": [
    "### 4.3 Transforming Radio Analysis"
   ]
  },
  {
   "cell_type": "code",
   "execution_count": 32,
   "metadata": {},
   "outputs": [],
   "source": [
    "def transform_radio_analysis(radio_json):\n",
    "    \"\"\"\n",
    "    Transform NLP radio analysis into facts.\n",
    "    \n",
    "    Args:\n",
    "        radio_json (dict): The output from radio NLP analysis\n",
    "        \n",
    "    Returns:\n",
    "        RadioFact: Fact with radio analysis information\n",
    "    \"\"\"\n",
    "    analysis = radio_json['analysis']\n",
    "    \n",
    "    return RadioFact(\n",
    "        sentiment=analysis['sentiment'],\n",
    "        intent=analysis['intent'],\n",
    "        entities=analysis['entities'],\n",
    "        timestamp=pd.Timestamp.now().timestamp()\n",
    "    )"
   ]
  },
  {
   "cell_type": "markdown",
   "metadata": {},
   "source": [
    "---"
   ]
  },
  {
   "cell_type": "markdown",
   "metadata": {},
   "source": [
    "## 5. Calculating Race Phase"
   ]
  },
  {
   "cell_type": "code",
   "execution_count": 33,
   "metadata": {},
   "outputs": [],
   "source": [
    "def calculate_race_phase(current_lap, total_laps):\n",
    "    \"\"\"Calculate the current phase of the race.\"\"\"\n",
    "    percentage = (current_lap / total_laps) * 100\n",
    "    if percentage < 25:\n",
    "        return \"start\"\n",
    "    elif percentage > 75:\n",
    "        return \"end\"\n",
    "    else:\n",
    "        return \"mid\""
   ]
  },
  {
   "cell_type": "markdown",
   "metadata": {},
   "source": [
    "---"
   ]
  },
  {
   "cell_type": "markdown",
   "metadata": {},
   "source": [
    "## 6. Basic Engine Initialization Example"
   ]
  },
  {
   "cell_type": "code",
   "execution_count": 36,
   "metadata": {},
   "outputs": [
    {
     "ename": "NameError",
     "evalue": "name 'transform_degradation_prediction' is not defined",
     "output_type": "error",
     "traceback": [
      "\u001b[1;31m---------------------------------------------------------------------------\u001b[0m",
      "\u001b[1;31mNameError\u001b[0m                                 Traceback (most recent call last)",
      "Cell \u001b[1;32mIn[36], line 23\u001b[0m\n\u001b[0;32m     11\u001b[0m \u001b[38;5;66;03m# Example of transforming model predictions into facts\u001b[39;00m\n\u001b[0;32m     12\u001b[0m \u001b[38;5;66;03m# (These would come from our actual models in practice)\u001b[39;00m\n\u001b[0;32m     13\u001b[0m mock_degradation_data \u001b[38;5;241m=\u001b[39m pd\u001b[38;5;241m.\u001b[39mDataFrame({\n\u001b[0;32m     14\u001b[0m     \u001b[38;5;124m'\u001b[39m\u001b[38;5;124mDriverNumber\u001b[39m\u001b[38;5;124m'\u001b[39m: [\u001b[38;5;241m44\u001b[39m, \u001b[38;5;241m44\u001b[39m],\n\u001b[0;32m     15\u001b[0m     \u001b[38;5;124m'\u001b[39m\u001b[38;5;124mDegradationRate\u001b[39m\u001b[38;5;124m'\u001b[39m: [\u001b[38;5;241m0.05\u001b[39m, \u001b[38;5;241m0.07\u001b[39m],\n\u001b[1;32m   (...)\u001b[0m\n\u001b[0;32m     19\u001b[0m     \u001b[38;5;124m'\u001b[39m\u001b[38;5;124mPosition\u001b[39m\u001b[38;5;124m'\u001b[39m: [\u001b[38;5;241m1\u001b[39m, \u001b[38;5;241m1\u001b[39m]\n\u001b[0;32m     20\u001b[0m })\n\u001b[1;32m---> 23\u001b[0m facts \u001b[38;5;241m=\u001b[39m \u001b[43mtransform_degradation_prediction\u001b[49m(mock_degradation_data, \u001b[38;5;241m44\u001b[39m)\n\u001b[0;32m     24\u001b[0m engine\u001b[38;5;241m.\u001b[39mdeclare(facts[\u001b[38;5;124m'\u001b[39m\u001b[38;5;124mdegradation\u001b[39m\u001b[38;5;124m'\u001b[39m])\n\u001b[0;32m     25\u001b[0m engine\u001b[38;5;241m.\u001b[39mdeclare(facts[\u001b[38;5;124m'\u001b[39m\u001b[38;5;124mtelemetry\u001b[39m\u001b[38;5;124m'\u001b[39m])\n",
      "\u001b[1;31mNameError\u001b[0m: name 'transform_degradation_prediction' is not defined"
     ]
    }
   ],
   "source": [
    "# Create an engine instance\n",
    "\n",
    "engine = F1StrategyEngine()\n",
    "engine.reset()\n",
    "\n",
    "\n",
    "# Example declaring some initial facts\n",
    "\n",
    "engine.declare(RaceStatusFact(lap = 1, total_laps = 60, race_phase = \"start\", track_status = \"clear\"))\n",
    "\n",
    "# Example of transforming model predictions into facts\n",
    "# (These would come from our actual models in practice)\n",
    "mock_degradation_data = pd.DataFrame({\n",
    "    'DriverNumber': [44, 44],\n",
    "    'DegradationRate': [0.05, 0.07],\n",
    "    'FuelAdjustedDegPercent': [5.0, 7.0],\n",
    "    'TyreAge': [3, 4],\n",
    "    'CompoundID': [2, 2],  # Medium tire\n",
    "    'Position': [1, 1]\n",
    "})\n",
    "\n",
    "\n",
    "facts = transform_degradation_prediction(mock_degradation_data, 44)\n",
    "engine.declare(facts['degradation'])\n",
    "engine.declare(facts['telemetry'])\n",
    "\n",
    "print(\"Facts initialized successfully. Rules will be implemented in subsequent notebooks.\")"
   ]
  },
  {
   "cell_type": "code",
   "execution_count": null,
   "metadata": {},
   "outputs": [],
   "source": []
  }
 ],
 "metadata": {
  "kernelspec": {
   "display_name": "f1_strat_manager",
   "language": "python",
   "name": "python3"
  },
  "language_info": {
   "codemirror_mode": {
    "name": "ipython",
    "version": 3
   },
   "file_extension": ".py",
   "mimetype": "text/x-python",
   "name": "python",
   "nbconvert_exporter": "python",
   "pygments_lexer": "ipython3",
   "version": "3.10.16"
  }
 },
 "nbformat": 4,
 "nbformat_minor": 2
}
