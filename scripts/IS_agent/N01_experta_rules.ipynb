{
 "cells": [
  {
   "cell_type": "markdown",
   "metadata": {},
   "source": [
    "# Experta: Theory Fundamentals of Production Systems and RETE Algorithm"
   ]
  },
  {
   "cell_type": "markdown",
   "metadata": {},
   "source": [
    "---"
   ]
  },
  {
   "cell_type": "markdown",
   "metadata": {},
   "source": [
    "## Introduction\n",
    "\n",
    "Experta is a Python library based on Production Systems, also known as Expert Systems or Rule-Based Systems, wich is a fundamental paradigm in simbolic AI."
   ]
  },
  {
   "cell_type": "markdown",
   "metadata": {},
   "source": [
    "---"
   ]
  },
  {
   "cell_type": "markdown",
   "metadata": {},
   "source": [
    "## What are Expert Systems? \n",
    "\n",
    "An expert system is formed by 3 key components:\n",
    "\n",
    "1. **Facts base**: it stores the factual knowledge of the system. That is, what the system knows in a specific moment.\n",
    "\n",
    "2. **Rule Base**: contains the procedure knowledge as \"if-then\" rules.\n",
    "\n",
    "3. **Inference motor**: motor that determines whether apply one rule or another and when to apply it.\n",
    "\n",
    "The central idea is no model the thinking as a rule chaining process, simillar at how human experts would take a decission applying their knowledge to a specific subject.\n"
   ]
  },
  {
   "cell_type": "markdown",
   "metadata": {},
   "source": [
    "---"
   ]
  },
  {
   "cell_type": "markdown",
   "metadata": {},
   "source": [
    "## RETE Algorithm\n",
    "\n",
    "Experta´s core is RETE algorithm, designed in 1982 by Charles L.Forgy. This algorithm is crucal for knowing what Experta is doing and also knowing why it is efficient:\n",
    "\n",
    "- Its **function** is to optimize the coincidence of patterns between facts and rules. \n",
    "\n",
    "- It builds a node network that represent patterns. Then, it avoids reevaluating all the rules when the facts change.\n",
    "\n",
    "Therefore, RETE builds a \"discrimination net\" that acts as an efficient filter for determining which rules should be activated in response to changes made on the facts base."
   ]
  },
  {
   "cell_type": "markdown",
   "metadata": {},
   "source": [
    "---"
   ]
  },
  {
   "cell_type": "markdown",
   "metadata": {},
   "source": [
    "## Experta´s execution cycle\n",
    "\n",
    "1. **Match**: the motor identifies all the rules that can be activaded with the actual facts base.\n",
    "2. **Conflict Resolution**: if multiple rules coincide, the motor decides which one is executed first (using conflic resolution strategies).\n",
    "3. **Act**: it executes the action associated with the selected rule, that tipically modifies the facts base.\n",
    "4. **Cycle**: the process is repeated until there are no more rules to be activated.\n",
    "\n",
    "This cycle is knwon as \"cycle recognize-act\" or \"production cycle\"."
   ]
  },
  {
   "cell_type": "markdown",
   "metadata": {},
   "source": [
    "---"
   ]
  },
  {
   "cell_type": "markdown",
   "metadata": {},
   "source": [
    "## Declarative vs Imperative Programming\n",
    "\n",
    "Experta is a **Declarative Programming paradigm**, in contrast with traditional programming. Instead of defining HOW to make something step by step, Declarative Programming specifies WHICH conditions need to be acomplished. In Experta, the developer defines rules declaratively and the motor is the one that says when and how are they going to be applied. "
   ]
  },
  {
   "cell_type": "markdown",
   "metadata": {},
   "source": [
    "---"
   ]
  },
  {
   "cell_type": "markdown",
   "metadata": {},
   "source": [
    "## Relevance for F1 Strategy\n",
    "\n",
    "Experta´s selection for the F1 strategy problem is theoretically justified due to this 5 points:\n",
    "\n",
    "1. **Codificable expert knowledge**: F1 strategies can be expressed naturally as conditional rules based on expert knowledge.\n",
    "2. **Incremental Reasoning**: during the race, information comes continously, such as radios, telemetry, track data or weather. RETE is efficient for updating conclussions based on new information.\n",
    "3. **Knowledge Explanation**: rules can be read and modified by humans, allowing adjusting strategies based on feedback.\n",
    "4. **Explainable Capacity**: unlike black box models like Neural Networks, a system based on rules can explain exactly which conditions made them make a decission.\n",
    "5. **Multiple Information Integration**: key for my project, as it brings me the capacity to merge structured information as data with semi-structured information like NLP radio analysis or my prediction models in the same logical framework.\n",
    "\n",
    "The implementation through Experta allows to capture strategic reasoning of F1 Teams, creating a system that emulates how they would take real-time decissions based on the actual avaliable information."
   ]
  },
  {
   "cell_type": "markdown",
   "metadata": {},
   "source": [
    "---"
   ]
  },
  {
   "cell_type": "markdown",
   "metadata": {},
   "source": [
    "## Basic Example of Decision Making with an Expert System\n",
    "\n",
    "I will illustrate a simple case: deciding whether an F1 car should pit based on tire degradation and weather conditions.\n",
    "\n",
    "### 1. Problem Definition\n",
    "We have basic rules to decide on a pit stop:\n",
    "\n",
    "- If tire degradation is greater than 60%, recommend a pit stop.\n",
    "- If it is raining and the car has dry tires, recommend a pit stop.\n",
    "- If the degradation is moderate (30-60%) and the driver reports grip issues, recommend a pit stop.\n",
    "\n",
    "### 2. Step-by-Step Process\n",
    "Here is what happens when we run Experta:\n",
    "\n",
    "#### 2.1 Initialization:\n",
    "- The rule engine `EstrategiaF1` is created.\n",
    "- The method `reset()` is called to prepare the engine.\n",
    "\n",
    "#### 2.2 Declaration of Facts:\n",
    "- We add that the tires have a degradation of 45% and are of the dry type.\n",
    "- We add that it is not raining.\n",
    "- We add that the driver reports grip issues.\n",
    "\n",
    "#### 2.3 Execution of the RETE Cycle:\n",
    "- The engine calls `run()`, starting the inference cycle.\n",
    "- RETE builds an activation network with the three defined rules.\n",
    "\n",
    "#### 2.4 Rule Evaluation:\n",
    "- **First rule (very_degraded_tires):** DOES NOT MATCH because degradation = 45% (less than 60%).\n",
    "- **Second rule (change_to_rain):** DOES NOT MATCH because raining = False.\n",
    "- **Third rule (moderate_grip_problems):** MATCHES because:\n",
    "  - degradation = 45% (is between 30% and 60%)\n",
    "  - the message contains \"problems\" and \"grip\"\n",
    "\n",
    "#### Rule Activation:\n",
    "- The rule `moderate_grip_problems` is activated.\n",
    "- Its action is executed, declaring a new fact: **Recommendation**.\n",
    "\n",
    "#### New Evaluation Cycle:\n",
    "- The engine evaluates whether there are new rules that match the newly added fact.\n",
    "- In this case, no additional rules are activated.\n",
    "- The engine terminates the execution.\n",
    "\n",
    "### Final Result:\n",
    "We obtain a recommendation:\n",
    "- **Action recommended:** pit\n",
    "- **Reason:** Grip issues reported with moderate degradation\n",
    "- **Urgency:** medium\n",
    "\n",
    "This is the essence of how the expert system processes the rules: it continuously evaluates the available facts against the rule conditions and executes the corresponding actions when matches occur. The RETE algorithm makes this process efficient by avoiding the need to re-evaluate all rules for every fact.\n"
   ]
  },
  {
   "cell_type": "markdown",
   "metadata": {},
   "source": [
    "---"
   ]
  }
 ],
 "metadata": {
  "kernelspec": {
   "display_name": "f1_strat_manager",
   "language": "python",
   "name": "python3"
  },
  "language_info": {
   "name": "python",
   "version": "3.10.16"
  }
 },
 "nbformat": 4,
 "nbformat_minor": 2
}
